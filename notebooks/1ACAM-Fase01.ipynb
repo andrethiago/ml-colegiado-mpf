{
 "cells": [
  {
   "cell_type": "markdown",
   "metadata": {},
   "source": [
    "# Introdução\n",
    "\n",
    "Esse caderno tem por objetivo a criação de um modelo básico de treinamento, utilizando o classificador [RandomForest](http://scikit-learn.org/stable/modules/generated/sklearn.ensemble.RandomForestClassifier.html), que faça a predição de homologação de arquivamentos de procedimentos enviados à 1A.CAM do MPF.\n",
    "\n",
    "Nesse modelo vamos passar a considerar os textos das íntegras.\n",
    "\n",
    "A primeira passagem, serão criadas colunas com as palavras-chaves informadas pela área negocial que vão indicar a ausência ou presença do termo no texto da íntegra da peça de promoção do arquivamento.\n",
    "\n",
    "Na segunda passagem, vamos passar a considerar unicamente o texto da íntegra.\n",
    "\n",
    "**Nota**: os dados desse modelo foram recuperados de procedimentos que tiveram suas deliberações realizadas após o dia 02/07/2018, data em que a nova composição tomou posse na 1A.CAM."
   ]
  },
  {
   "cell_type": "markdown",
   "metadata": {},
   "source": [
    "# Carga de dados e pré-processamento\n",
    "\n",
    "Vamos fazer a carga dos dados.\n",
    "\n",
    "Vamos ler os textos das íntegras, limpá-los e associar ao dataframe com os dados de homologação."
   ]
  },
  {
   "cell_type": "code",
   "execution_count": 1,
   "metadata": {},
   "outputs": [],
   "source": [
    "%load_ext autoreload\n",
    "%autoreload 2\n",
    "\n",
    "%matplotlib inline"
   ]
  },
  {
   "cell_type": "code",
   "execution_count": 2,
   "metadata": {},
   "outputs": [],
   "source": [
    "from sklearn.ensemble import RandomForestClassifier\n",
    "import numpy as np\n",
    "import pandas as pd\n",
    "\n",
    "from sklearn import metrics"
   ]
  },
  {
   "cell_type": "code",
   "execution_count": 3,
   "metadata": {},
   "outputs": [],
   "source": [
    "PATH = \"../data/\""
   ]
  },
  {
   "cell_type": "code",
   "execution_count": 4,
   "metadata": {},
   "outputs": [
    {
     "name": "stdout",
     "output_type": "stream",
     "text": [
      "[nltk_data] Downloading package stopwords to /home/andre/nltk_data...\n",
      "[nltk_data]   Package stopwords is already up-to-date!\n",
      "[nltk_data] Downloading package punkt to /home/andre/nltk_data...\n",
      "[nltk_data]   Package punkt is already up-to-date!\n"
     ]
    },
    {
     "data": {
      "text/plain": [
       "True"
      ]
     },
     "execution_count": 4,
     "metadata": {},
     "output_type": "execute_result"
    }
   ],
   "source": [
    "import nltk\n",
    "\n",
    "nltk.download('stopwords')\n",
    "nltk.download('punkt')"
   ]
  },
  {
   "cell_type": "code",
   "execution_count": 7,
   "metadata": {
    "scrolled": true
   },
   "outputs": [],
   "source": [
    "# carga dos textos\n",
    "\n",
    "from os import listdir\n",
    "from os.path import isfile, join\n",
    "from nltk.corpus import stopwords\n",
    "from nltk.tokenize import word_tokenize\n",
    "\n",
    "stop_words = stopwords.words('portuguese')\n",
    "stop_words.extend(['n', 'nº', 'n°', 'n.º', ',', '.', '!', '?', ';', ':', '...', 'º', '–', '/', '(', ')'])\n",
    "\n",
    "def get_text(file):\n",
    "    with open(file, encoding='utf-8', errors='replace') as f:\n",
    "        data=' '.join(line.strip() for line in f)\n",
    "        f.close()\n",
    "    \n",
    "    return data.strip()\n",
    "\n",
    "def get_text_non_stop_words(text):\n",
    "    filtered_text = ''\n",
    "    for w in word_tokenize(text, language='portuguese'):\n",
    "        if w not in stop_words:\n",
    "            filtered_text += w\n",
    "            filtered_text += ' '            \n",
    "    return filtered_text.strip()   \n",
    "    \n",
    "\n",
    "folder_integras = f'{PATH}/integras-textos'\n",
    "\n",
    "texts = {}\n",
    "for file in listdir(folder_integras):\n",
    "    if isfile(join(folder_integras, file)):\n",
    "        texts[file.split('.')[0]] = get_text(join(folder_integras,file))\n",
    "    else:\n",
    "        print('is not file', file)\n",
    "\n",
    "    \n",
    "#texts['71078312']"
   ]
  },
  {
   "cell_type": "code",
   "execution_count": 8,
   "metadata": {},
   "outputs": [
    {
     "data": {
      "text/html": [
       "<div>\n",
       "<style scoped>\n",
       "    .dataframe tbody tr th:only-of-type {\n",
       "        vertical-align: middle;\n",
       "    }\n",
       "\n",
       "    .dataframe tbody tr th {\n",
       "        vertical-align: top;\n",
       "    }\n",
       "\n",
       "    .dataframe thead th {\n",
       "        text-align: right;\n",
       "    }\n",
       "</style>\n",
       "<table border=\"1\" class=\"dataframe\">\n",
       "  <thead>\n",
       "    <tr style=\"text-align: right;\">\n",
       "      <th></th>\n",
       "      <th>homologado</th>\n",
       "      <th>id</th>\n",
       "      <th>peca_promocao</th>\n",
       "    </tr>\n",
       "  </thead>\n",
       "  <tbody>\n",
       "    <tr>\n",
       "      <th>1111</th>\n",
       "      <td>1</td>\n",
       "      <td>72981233</td>\n",
       "      <td>None</td>\n",
       "    </tr>\n",
       "    <tr>\n",
       "      <th>5765</th>\n",
       "      <td>1</td>\n",
       "      <td>66708648</td>\n",
       "      <td>None</td>\n",
       "    </tr>\n",
       "    <tr>\n",
       "      <th>5506</th>\n",
       "      <td>1</td>\n",
       "      <td>66930820</td>\n",
       "      <td>None</td>\n",
       "    </tr>\n",
       "    <tr>\n",
       "      <th>3466</th>\n",
       "      <td>1</td>\n",
       "      <td>67103920</td>\n",
       "      <td>None</td>\n",
       "    </tr>\n",
       "    <tr>\n",
       "      <th>3790</th>\n",
       "      <td>1</td>\n",
       "      <td>68038311</td>\n",
       "      <td>None</td>\n",
       "    </tr>\n",
       "  </tbody>\n",
       "</table>\n",
       "</div>"
      ],
      "text/plain": [
       "      homologado        id peca_promocao\n",
       "1111           1  72981233          None\n",
       "5765           1  66708648          None\n",
       "5506           1  66930820          None\n",
       "3466           1  67103920          None\n",
       "3790           1  68038311          None"
      ]
     },
     "execution_count": 8,
     "metadata": {},
     "output_type": "execute_result"
    }
   ],
   "source": [
    "# montando um DataFrame\n",
    "df_original = pd.read_json(f'{PATH}/1A.CAM.homologacao-arquivamento.json')\n",
    "df_work = df_original.copy()\n",
    "#df_work.dropna(subset=['identificadorPecaPromocao'], inplace=True)\n",
    "#df_work.reset_index(drop=True, inplace=True)\n",
    "cols = ['id', 'homologado']\n",
    "df_work.drop(inplace=True, columns=[col for col in df_work.columns if col not in cols])\n",
    "df_work['peca_promocao'] = None\n",
    "df_work.sample(5)"
   ]
  },
  {
   "cell_type": "code",
   "execution_count": 9,
   "metadata": {
    "scrolled": true
   },
   "outputs": [
    {
     "data": {
      "text/html": [
       "<div>\n",
       "<style scoped>\n",
       "    .dataframe tbody tr th:only-of-type {\n",
       "        vertical-align: middle;\n",
       "    }\n",
       "\n",
       "    .dataframe tbody tr th {\n",
       "        vertical-align: top;\n",
       "    }\n",
       "\n",
       "    .dataframe thead th {\n",
       "        text-align: right;\n",
       "    }\n",
       "</style>\n",
       "<table border=\"1\" class=\"dataframe\">\n",
       "  <thead>\n",
       "    <tr style=\"text-align: right;\">\n",
       "      <th></th>\n",
       "      <th>homologado</th>\n",
       "      <th>id</th>\n",
       "      <th>peca_promocao</th>\n",
       "    </tr>\n",
       "  </thead>\n",
       "  <tbody>\n",
       "    <tr>\n",
       "      <th>5132</th>\n",
       "      <td>1</td>\n",
       "      <td>69210378</td>\n",
       "      <td>EXMO   MINISTÉRIO PÚBLICO FEDERAL Procuradoria...</td>\n",
       "    </tr>\n",
       "    <tr>\n",
       "      <th>2315</th>\n",
       "      <td>1</td>\n",
       "      <td>75810109</td>\n",
       "      <td>MINISTÉRIO PÚBLICO FEDERAL PROCURADORIA DA REP...</td>\n",
       "    </tr>\n",
       "    <tr>\n",
       "      <th>3295</th>\n",
       "      <td>1</td>\n",
       "      <td>74118214</td>\n",
       "      <td>EXMO   MINISTÉRIO PÚBLICO FEDERAL PROCURADORIA...</td>\n",
       "    </tr>\n",
       "    <tr>\n",
       "      <th>5597</th>\n",
       "      <td>1</td>\n",
       "      <td>67897371</td>\n",
       "      <td>MINISTÉRIO PÚBLICO FEDERAL Procuradoria da Rep...</td>\n",
       "    </tr>\n",
       "    <tr>\n",
       "      <th>1957</th>\n",
       "      <td>1</td>\n",
       "      <td>76005649</td>\n",
       "      <td>PR-MS-00025324/2017  Ministério Público Federa...</td>\n",
       "    </tr>\n",
       "  </tbody>\n",
       "</table>\n",
       "</div>"
      ],
      "text/plain": [
       "      homologado        id                                      peca_promocao\n",
       "5132           1  69210378  EXMO   MINISTÉRIO PÚBLICO FEDERAL Procuradoria...\n",
       "2315           1  75810109  MINISTÉRIO PÚBLICO FEDERAL PROCURADORIA DA REP...\n",
       "3295           1  74118214  EXMO   MINISTÉRIO PÚBLICO FEDERAL PROCURADORIA...\n",
       "5597           1  67897371  MINISTÉRIO PÚBLICO FEDERAL Procuradoria da Rep...\n",
       "1957           1  76005649  PR-MS-00025324/2017  Ministério Público Federa..."
      ]
     },
     "execution_count": 9,
     "metadata": {},
     "output_type": "execute_result"
    }
   ],
   "source": [
    "# Associando o texto...\n",
    "for key, text in zip(texts.keys(), texts.values()):\n",
    "    if key != '' and text != '':\n",
    "        df_work.loc[df_work.id == int(key), 'peca_promocao'] = text\n",
    "        \n",
    "df_work.sample(5)"
   ]
  },
  {
   "cell_type": "code",
   "execution_count": 10,
   "metadata": {},
   "outputs": [
    {
     "name": "stdout",
     "output_type": "stream",
     "text": [
      "1401\n",
      "0\n"
     ]
    }
   ],
   "source": [
    "print(len(df_work[df_work['peca_promocao'].isnull()]))\n",
    "df_work.dropna(subset=['peca_promocao'], inplace=True)\n",
    "df_work.reset_index(drop=True, inplace=True)\n",
    "print(len(df_work[df_work['peca_promocao'].isnull()]))"
   ]
  },
  {
   "cell_type": "code",
   "execution_count": 11,
   "metadata": {},
   "outputs": [
    {
     "name": "stdout",
     "output_type": "stream",
     "text": [
      "4742 73\n"
     ]
    }
   ],
   "source": [
    "print(len(df_work[df_work['homologado'] == 1]), len(df_work[df_work['homologado'] == 0]))"
   ]
  },
  {
   "cell_type": "code",
   "execution_count": 12,
   "metadata": {
    "scrolled": true
   },
   "outputs": [
    {
     "data": {
      "text/html": [
       "<div>\n",
       "<style scoped>\n",
       "    .dataframe tbody tr th:only-of-type {\n",
       "        vertical-align: middle;\n",
       "    }\n",
       "\n",
       "    .dataframe tbody tr th {\n",
       "        vertical-align: top;\n",
       "    }\n",
       "\n",
       "    .dataframe thead th {\n",
       "        text-align: right;\n",
       "    }\n",
       "</style>\n",
       "<table border=\"1\" class=\"dataframe\">\n",
       "  <thead>\n",
       "    <tr style=\"text-align: right;\">\n",
       "      <th></th>\n",
       "      <th>palavras-chaves</th>\n",
       "      <th>expressao-regular</th>\n",
       "    </tr>\n",
       "  </thead>\n",
       "  <tbody>\n",
       "    <tr>\n",
       "      <th>0</th>\n",
       "      <td>AUSÊNCIA DE IRREGULARIDADES</td>\n",
       "      <td>\\bausência[s]?\\b(\\s)+\\bde\\b(\\s)+\\birregularid...</td>\n",
       "    </tr>\n",
       "    <tr>\n",
       "      <th>1</th>\n",
       "      <td>IRREGULARIDADE SANADA</td>\n",
       "      <td>\\birregularidade[s]?\\b(\\s)+\\bsanada[s]?\\b</td>\n",
       "    </tr>\n",
       "    <tr>\n",
       "      <th>2</th>\n",
       "      <td>NÃO COMPROVAÇÃO</td>\n",
       "      <td>\\bnão\\b(\\s)+\\bcomprovação\\b</td>\n",
       "    </tr>\n",
       "    <tr>\n",
       "      <th>3</th>\n",
       "      <td>INEXISTÊNCIA</td>\n",
       "      <td>\\binexistência[s]?\\b</td>\n",
       "    </tr>\n",
       "    <tr>\n",
       "      <th>4</th>\n",
       "      <td>SOLUCIONADA</td>\n",
       "      <td>\\bsolucionada[s]?\\b</td>\n",
       "    </tr>\n",
       "    <tr>\n",
       "      <th>5</th>\n",
       "      <td>EXAURIMENTO</td>\n",
       "      <td>\\bexaurimento\\b</td>\n",
       "    </tr>\n",
       "    <tr>\n",
       "      <th>6</th>\n",
       "      <td>EXAURIDA</td>\n",
       "      <td>\\bexaurida[s]?\\b</td>\n",
       "    </tr>\n",
       "    <tr>\n",
       "      <th>7</th>\n",
       "      <td>PERDA DE OBJETO</td>\n",
       "      <td>\\bperda\\b(\\s)+\\bde\\b(\\s)+\\bobjeto\\b</td>\n",
       "    </tr>\n",
       "    <tr>\n",
       "      <th>8</th>\n",
       "      <td>IRREGULARIDADE NÃO COMPROVADA</td>\n",
       "      <td>\\birregularidade[s]?\\b(\\s)+\\bnão\\b(\\s)+\\bcomp...</td>\n",
       "    </tr>\n",
       "    <tr>\n",
       "      <th>9</th>\n",
       "      <td>INEXISTÊNCIA DE INDÍCIOS DE IRREGULARIDADE</td>\n",
       "      <td>\\binexistência\\b(\\s)+\\bde\\b(\\s)+\\bindício[s]?...</td>\n",
       "    </tr>\n",
       "    <tr>\n",
       "      <th>10</th>\n",
       "      <td>IRREGULARIDADE NÃO CONFIRMADA</td>\n",
       "      <td>\\birregularidade[s]?\\b(\\s)+\\bnão\\b(\\s)+\\bconf...</td>\n",
       "    </tr>\n",
       "    <tr>\n",
       "      <th>11</th>\n",
       "      <td>RECOMENDAÇÃO ATENDIDA</td>\n",
       "      <td>\\brecomendaç(ão|ões)\\b(\\s)+\\batendida[s]?\\b</td>\n",
       "    </tr>\n",
       "    <tr>\n",
       "      <th>12</th>\n",
       "      <td>RECOMENDAÇÃO ACATADA</td>\n",
       "      <td>\\brecomendaç(ão|ões)\\b(\\s)+\\bacatada[s]?\\b</td>\n",
       "    </tr>\n",
       "    <tr>\n",
       "      <th>13</th>\n",
       "      <td>CUMPRIDAS</td>\n",
       "      <td>\\bcumprida[s]?\\b</td>\n",
       "    </tr>\n",
       "    <tr>\n",
       "      <th>14</th>\n",
       "      <td>ADOTADAS</td>\n",
       "      <td>\\badotada[s]?\\b</td>\n",
       "    </tr>\n",
       "    <tr>\n",
       "      <th>15</th>\n",
       "      <td>INEXISTÊNCIA DE INDÍCIOS MÍNIMOS DE IRREGULARI...</td>\n",
       "      <td>\\binexistência\\b(\\s)+\\bde\\b(\\s)+\\bindício[s]?...</td>\n",
       "    </tr>\n",
       "    <tr>\n",
       "      <th>16</th>\n",
       "      <td>RECOMENDAÇÃO EXPEDIDA E ACATADA</td>\n",
       "      <td>\\recomendaç(ão|ões)\\b(\\s)+\\bexpedida[s]?\\b(\\s...</td>\n",
       "    </tr>\n",
       "    <tr>\n",
       "      <th>17</th>\n",
       "      <td>JUSTIFICATIVAS SATISFATÓRIAS</td>\n",
       "      <td>\\bjustificativa[s]?\\b(\\s)+\\bsatisfatória[s]?\\b</td>\n",
       "    </tr>\n",
       "    <tr>\n",
       "      <th>18</th>\n",
       "      <td>CORREÇÃO DAS FALHAS</td>\n",
       "      <td>\\bcorreç(ão|ões)\\b(\\s)+\\bda[s]?\\b(\\s)+\\bfalha...</td>\n",
       "    </tr>\n",
       "    <tr>\n",
       "      <th>19</th>\n",
       "      <td>AÇÃO AJUIZADA</td>\n",
       "      <td>\\baç(ão|ões)\\b(\\s)+\\bajuizada[s]?\\b</td>\n",
       "    </tr>\n",
       "    <tr>\n",
       "      <th>20</th>\n",
       "      <td>QUESTÃO JUDICIALIZADA</td>\n",
       "      <td>\\bquest(ão|ões)\\b(\\s)+\\bjudicializada[s]?\\b</td>\n",
       "    </tr>\n",
       "    <tr>\n",
       "      <th>21</th>\n",
       "      <td>BANCO DE PREÇOS + RECOMENDAÇÃO</td>\n",
       "      <td>NaN</td>\n",
       "    </tr>\n",
       "    <tr>\n",
       "      <th>22</th>\n",
       "      <td>DIREITO INDIVIDUAL</td>\n",
       "      <td>\\bdireito\\b(\\s)+\\bindividua(l|is)\\b</td>\n",
       "    </tr>\n",
       "    <tr>\n",
       "      <th>23</th>\n",
       "      <td>EXCESSO DE PESO</td>\n",
       "      <td>\\bexcesso[s]?\\b(\\s)+\\bde\\b(\\s)+\\bpeso[s]?\\b</td>\n",
       "    </tr>\n",
       "    <tr>\n",
       "      <th>24</th>\n",
       "      <td>MAMOGRAFIA</td>\n",
       "      <td>\\bmamografia[s]\\b</td>\n",
       "    </tr>\n",
       "    <tr>\n",
       "      <th>25</th>\n",
       "      <td>SISCAN</td>\n",
       "      <td>\\bsiscan\\b</td>\n",
       "    </tr>\n",
       "    <tr>\n",
       "      <th>26</th>\n",
       "      <td>REGIME JURÍDICO + CONSELHOS PROFISSIONAIS</td>\n",
       "      <td>NaN</td>\n",
       "    </tr>\n",
       "    <tr>\n",
       "      <th>27</th>\n",
       "      <td>MAMÓGRAFO (ADICIONADA)</td>\n",
       "      <td>\\bmamógrafo[s]\\b</td>\n",
       "    </tr>\n",
       "  </tbody>\n",
       "</table>\n",
       "</div>"
      ],
      "text/plain": [
       "                                      palavras-chaves  \\\n",
       "0                         AUSÊNCIA DE IRREGULARIDADES   \n",
       "1                               IRREGULARIDADE SANADA   \n",
       "2                                     NÃO COMPROVAÇÃO   \n",
       "3                                        INEXISTÊNCIA   \n",
       "4                                         SOLUCIONADA   \n",
       "5                                         EXAURIMENTO   \n",
       "6                                            EXAURIDA   \n",
       "7                                     PERDA DE OBJETO   \n",
       "8                       IRREGULARIDADE NÃO COMPROVADA   \n",
       "9          INEXISTÊNCIA DE INDÍCIOS DE IRREGULARIDADE   \n",
       "10                      IRREGULARIDADE NÃO CONFIRMADA   \n",
       "11                              RECOMENDAÇÃO ATENDIDA   \n",
       "12                               RECOMENDAÇÃO ACATADA   \n",
       "13                                          CUMPRIDAS   \n",
       "14                                           ADOTADAS   \n",
       "15  INEXISTÊNCIA DE INDÍCIOS MÍNIMOS DE IRREGULARI...   \n",
       "16                    RECOMENDAÇÃO EXPEDIDA E ACATADA   \n",
       "17                       JUSTIFICATIVAS SATISFATÓRIAS   \n",
       "18                                CORREÇÃO DAS FALHAS   \n",
       "19                                      AÇÃO AJUIZADA   \n",
       "20                              QUESTÃO JUDICIALIZADA   \n",
       "21                     BANCO DE PREÇOS + RECOMENDAÇÃO   \n",
       "22                                 DIREITO INDIVIDUAL   \n",
       "23                                    EXCESSO DE PESO   \n",
       "24                                         MAMOGRAFIA   \n",
       "25                                             SISCAN   \n",
       "26          REGIME JURÍDICO + CONSELHOS PROFISSIONAIS   \n",
       "27                             MAMÓGRAFO (ADICIONADA)   \n",
       "\n",
       "                                    expressao-regular  \n",
       "0    \\bausência[s]?\\b(\\s)+\\bde\\b(\\s)+\\birregularid...  \n",
       "1           \\birregularidade[s]?\\b(\\s)+\\bsanada[s]?\\b  \n",
       "2                         \\bnão\\b(\\s)+\\bcomprovação\\b  \n",
       "3                                \\binexistência[s]?\\b  \n",
       "4                                 \\bsolucionada[s]?\\b  \n",
       "5                                     \\bexaurimento\\b  \n",
       "6                                    \\bexaurida[s]?\\b  \n",
       "7                 \\bperda\\b(\\s)+\\bde\\b(\\s)+\\bobjeto\\b  \n",
       "8    \\birregularidade[s]?\\b(\\s)+\\bnão\\b(\\s)+\\bcomp...  \n",
       "9    \\binexistência\\b(\\s)+\\bde\\b(\\s)+\\bindício[s]?...  \n",
       "10   \\birregularidade[s]?\\b(\\s)+\\bnão\\b(\\s)+\\bconf...  \n",
       "11        \\brecomendaç(ão|ões)\\b(\\s)+\\batendida[s]?\\b  \n",
       "12         \\brecomendaç(ão|ões)\\b(\\s)+\\bacatada[s]?\\b  \n",
       "13                                   \\bcumprida[s]?\\b  \n",
       "14                                    \\badotada[s]?\\b  \n",
       "15   \\binexistência\\b(\\s)+\\bde\\b(\\s)+\\bindício[s]?...  \n",
       "16   \\recomendaç(ão|ões)\\b(\\s)+\\bexpedida[s]?\\b(\\s...  \n",
       "17     \\bjustificativa[s]?\\b(\\s)+\\bsatisfatória[s]?\\b  \n",
       "18   \\bcorreç(ão|ões)\\b(\\s)+\\bda[s]?\\b(\\s)+\\bfalha...  \n",
       "19                \\baç(ão|ões)\\b(\\s)+\\bajuizada[s]?\\b  \n",
       "20        \\bquest(ão|ões)\\b(\\s)+\\bjudicializada[s]?\\b  \n",
       "21                                                NaN  \n",
       "22                \\bdireito\\b(\\s)+\\bindividua(l|is)\\b  \n",
       "23        \\bexcesso[s]?\\b(\\s)+\\bde\\b(\\s)+\\bpeso[s]?\\b  \n",
       "24                                  \\bmamografia[s]\\b  \n",
       "25                                         \\bsiscan\\b  \n",
       "26                                                NaN  \n",
       "27                                   \\bmamógrafo[s]\\b  "
      ]
     },
     "execution_count": 12,
     "metadata": {},
     "output_type": "execute_result"
    }
   ],
   "source": [
    "#Carga das palavras chaves\n",
    "palavras_chaves = pd.read_csv(f'{PATH}/1A.CAM.palavras-chaves.txt')\n",
    "palavras_chaves"
   ]
  },
  {
   "cell_type": "markdown",
   "metadata": {},
   "source": [
    "## Busca de palavras-chaves nos textos das peças de promoção"
   ]
  },
  {
   "cell_type": "markdown",
   "metadata": {},
   "source": [
    "Dada a lista de palavras-chaves anteriormente listada, vamos procurá-la nos textos das íntegras.\n",
    "\n",
    "Vamos criar uma coluna para cada uma das palavras-chaves e marcar com ausência ou presença da mesma no texto correspondente.\n",
    "\n",
    "Vamos utilzar expressões regulares."
   ]
  },
  {
   "cell_type": "code",
   "execution_count": 13,
   "metadata": {},
   "outputs": [
    {
     "data": {
      "text/html": [
       "<div>\n",
       "<style scoped>\n",
       "    .dataframe tbody tr th:only-of-type {\n",
       "        vertical-align: middle;\n",
       "    }\n",
       "\n",
       "    .dataframe tbody tr th {\n",
       "        vertical-align: top;\n",
       "    }\n",
       "\n",
       "    .dataframe thead th {\n",
       "        text-align: right;\n",
       "    }\n",
       "</style>\n",
       "<table border=\"1\" class=\"dataframe\">\n",
       "  <thead>\n",
       "    <tr style=\"text-align: right;\">\n",
       "      <th></th>\n",
       "      <th>homologado</th>\n",
       "      <th>id</th>\n",
       "      <th>peca_promocao</th>\n",
       "      <th>AUSÊNCIA DE IRREGULARIDADES</th>\n",
       "      <th>IRREGULARIDADE SANADA</th>\n",
       "      <th>NÃO COMPROVAÇÃO</th>\n",
       "      <th>INEXISTÊNCIA</th>\n",
       "      <th>SOLUCIONADA</th>\n",
       "      <th>EXAURIMENTO</th>\n",
       "      <th>EXAURIDA</th>\n",
       "      <th>...</th>\n",
       "      <th>RECOMENDAÇÃO EXPEDIDA E ACATADA</th>\n",
       "      <th>JUSTIFICATIVAS SATISFATÓRIAS</th>\n",
       "      <th>CORREÇÃO DAS FALHAS</th>\n",
       "      <th>AÇÃO AJUIZADA</th>\n",
       "      <th>QUESTÃO JUDICIALIZADA</th>\n",
       "      <th>DIREITO INDIVIDUAL</th>\n",
       "      <th>EXCESSO DE PESO</th>\n",
       "      <th>MAMOGRAFIA</th>\n",
       "      <th>SISCAN</th>\n",
       "      <th>MAMÓGRAFO (ADICIONADA)</th>\n",
       "    </tr>\n",
       "  </thead>\n",
       "  <tbody>\n",
       "    <tr>\n",
       "      <th>1609</th>\n",
       "      <td>1</td>\n",
       "      <td>56820896</td>\n",
       "      <td>PRM-LAJ-RS-00000232/2018  Referência: IC1.29.0...</td>\n",
       "      <td>0</td>\n",
       "      <td>0</td>\n",
       "      <td>0</td>\n",
       "      <td>0</td>\n",
       "      <td>0</td>\n",
       "      <td>0</td>\n",
       "      <td>0</td>\n",
       "      <td>...</td>\n",
       "      <td>0</td>\n",
       "      <td>0</td>\n",
       "      <td>0</td>\n",
       "      <td>0</td>\n",
       "      <td>0</td>\n",
       "      <td>0</td>\n",
       "      <td>0</td>\n",
       "      <td>0</td>\n",
       "      <td>0</td>\n",
       "      <td>0</td>\n",
       "    </tr>\n",
       "    <tr>\n",
       "      <th>2171</th>\n",
       "      <td>1</td>\n",
       "      <td>62349388</td>\n",
       "      <td>MINISTÉRIO PÚBLICO FEDERAL PROCURADORIA DA REP...</td>\n",
       "      <td>0</td>\n",
       "      <td>0</td>\n",
       "      <td>0</td>\n",
       "      <td>0</td>\n",
       "      <td>0</td>\n",
       "      <td>0</td>\n",
       "      <td>0</td>\n",
       "      <td>...</td>\n",
       "      <td>0</td>\n",
       "      <td>0</td>\n",
       "      <td>0</td>\n",
       "      <td>0</td>\n",
       "      <td>0</td>\n",
       "      <td>0</td>\n",
       "      <td>0</td>\n",
       "      <td>0</td>\n",
       "      <td>0</td>\n",
       "      <td>0</td>\n",
       "    </tr>\n",
       "    <tr>\n",
       "      <th>3954</th>\n",
       "      <td>1</td>\n",
       "      <td>62541570</td>\n",
       "      <td>Procedimento Preparatório nº.: 1.33.009.000001...</td>\n",
       "      <td>0</td>\n",
       "      <td>0</td>\n",
       "      <td>0</td>\n",
       "      <td>0</td>\n",
       "      <td>0</td>\n",
       "      <td>0</td>\n",
       "      <td>0</td>\n",
       "      <td>...</td>\n",
       "      <td>0</td>\n",
       "      <td>0</td>\n",
       "      <td>0</td>\n",
       "      <td>0</td>\n",
       "      <td>0</td>\n",
       "      <td>0</td>\n",
       "      <td>0</td>\n",
       "      <td>0</td>\n",
       "      <td>0</td>\n",
       "      <td>0</td>\n",
       "    </tr>\n",
       "    <tr>\n",
       "      <th>758</th>\n",
       "      <td>1</td>\n",
       "      <td>73983456</td>\n",
       "      <td>Ref.: Inquérito Civil nº 1.15.000.002477/2016-...</td>\n",
       "      <td>0</td>\n",
       "      <td>0</td>\n",
       "      <td>0</td>\n",
       "      <td>0</td>\n",
       "      <td>0</td>\n",
       "      <td>0</td>\n",
       "      <td>0</td>\n",
       "      <td>...</td>\n",
       "      <td>0</td>\n",
       "      <td>0</td>\n",
       "      <td>0</td>\n",
       "      <td>0</td>\n",
       "      <td>0</td>\n",
       "      <td>0</td>\n",
       "      <td>0</td>\n",
       "      <td>0</td>\n",
       "      <td>0</td>\n",
       "      <td>0</td>\n",
       "    </tr>\n",
       "    <tr>\n",
       "      <th>2594</th>\n",
       "      <td>1</td>\n",
       "      <td>48276613</td>\n",
       "      <td>MINISTÉRIO PÚBLICO FEDERAL PROCURADORIA DA REP...</td>\n",
       "      <td>0</td>\n",
       "      <td>0</td>\n",
       "      <td>0</td>\n",
       "      <td>0</td>\n",
       "      <td>0</td>\n",
       "      <td>0</td>\n",
       "      <td>0</td>\n",
       "      <td>...</td>\n",
       "      <td>0</td>\n",
       "      <td>0</td>\n",
       "      <td>0</td>\n",
       "      <td>0</td>\n",
       "      <td>0</td>\n",
       "      <td>0</td>\n",
       "      <td>0</td>\n",
       "      <td>0</td>\n",
       "      <td>0</td>\n",
       "      <td>0</td>\n",
       "    </tr>\n",
       "  </tbody>\n",
       "</table>\n",
       "<p>5 rows × 29 columns</p>\n",
       "</div>"
      ],
      "text/plain": [
       "      homologado        id                                      peca_promocao  \\\n",
       "1609           1  56820896  PRM-LAJ-RS-00000232/2018  Referência: IC1.29.0...   \n",
       "2171           1  62349388  MINISTÉRIO PÚBLICO FEDERAL PROCURADORIA DA REP...   \n",
       "3954           1  62541570  Procedimento Preparatório nº.: 1.33.009.000001...   \n",
       "758            1  73983456  Ref.: Inquérito Civil nº 1.15.000.002477/2016-...   \n",
       "2594           1  48276613  MINISTÉRIO PÚBLICO FEDERAL PROCURADORIA DA REP...   \n",
       "\n",
       "      AUSÊNCIA DE IRREGULARIDADES  IRREGULARIDADE SANADA  NÃO COMPROVAÇÃO  \\\n",
       "1609                            0                      0                0   \n",
       "2171                            0                      0                0   \n",
       "3954                            0                      0                0   \n",
       "758                             0                      0                0   \n",
       "2594                            0                      0                0   \n",
       "\n",
       "      INEXISTÊNCIA  SOLUCIONADA  EXAURIMENTO  EXAURIDA  \\\n",
       "1609             0            0            0         0   \n",
       "2171             0            0            0         0   \n",
       "3954             0            0            0         0   \n",
       "758              0            0            0         0   \n",
       "2594             0            0            0         0   \n",
       "\n",
       "               ...            RECOMENDAÇÃO EXPEDIDA E ACATADA  \\\n",
       "1609           ...                                          0   \n",
       "2171           ...                                          0   \n",
       "3954           ...                                          0   \n",
       "758            ...                                          0   \n",
       "2594           ...                                          0   \n",
       "\n",
       "      JUSTIFICATIVAS SATISFATÓRIAS  CORREÇÃO DAS FALHAS  AÇÃO AJUIZADA  \\\n",
       "1609                             0                    0              0   \n",
       "2171                             0                    0              0   \n",
       "3954                             0                    0              0   \n",
       "758                              0                    0              0   \n",
       "2594                             0                    0              0   \n",
       "\n",
       "      QUESTÃO JUDICIALIZADA  DIREITO INDIVIDUAL  EXCESSO DE PESO  MAMOGRAFIA  \\\n",
       "1609                      0                   0                0           0   \n",
       "2171                      0                   0                0           0   \n",
       "3954                      0                   0                0           0   \n",
       "758                       0                   0                0           0   \n",
       "2594                      0                   0                0           0   \n",
       "\n",
       "      SISCAN  MAMÓGRAFO (ADICIONADA)  \n",
       "1609       0                       0  \n",
       "2171       0                       0  \n",
       "3954       0                       0  \n",
       "758        0                       0  \n",
       "2594       0                       0  \n",
       "\n",
       "[5 rows x 29 columns]"
      ]
     },
     "execution_count": 13,
     "metadata": {},
     "output_type": "execute_result"
    }
   ],
   "source": [
    "pcs = palavras_chaves['palavras-chaves']\n",
    "\n",
    "# vou ignorar as colunas com o caractere '+' // PRECISAMOS TRATAR ISSO AINDA (e ainda temos o problema dos espaços)\n",
    "for pc in pcs:\n",
    "    if pc.rfind('+') == -1:\n",
    "        df_work[pc] = 0\n",
    "\n",
    "df_work.sample(5)"
   ]
  },
  {
   "cell_type": "code",
   "execution_count": 14,
   "metadata": {},
   "outputs": [
    {
     "data": {
      "text/plain": [
       "<_sre.SRE_Match object; span=(2798, 2816), match='direito individual'>"
      ]
     },
     "execution_count": 14,
     "metadata": {},
     "output_type": "execute_result"
    }
   ],
   "source": [
    "import re\n",
    "\n",
    "\n",
    "peca = df_work['peca_promocao'][4062]\n",
    "result = re.search(r'\\bdireito\\b(\\s)+\\bindividua(l|is)\\b', peca, re.IGNORECASE)\n",
    "result"
   ]
  },
  {
   "cell_type": "code",
   "execution_count": 15,
   "metadata": {
    "scrolled": true
   },
   "outputs": [],
   "source": [
    "#import re\n",
    "\n",
    "#for v in palavras_chaves['palavras-chaves']:\n",
    "#    for i in range(len(df_work)):\n",
    "#        #v_with_spaces = re.sub(' ', '\\s+', v)\n",
    "#        if re.search(r\"\\b\" + v + r\"?\\b\", df_work['peca_promocao'][i], re.IGNORECASE):\n",
    "#            df_work.loc[i, v] = 1\n",
    "            \n",
    "#df_work.sample(10)"
   ]
  },
  {
   "cell_type": "markdown",
   "metadata": {},
   "source": [
    "# Correlacionando as palavras-chaves com a homologação/não homologação\n",
    "\n",
    "A ideia aqui é mostrar o percentual de presença/ausência de palavras chaves e suas relações com a variável dependente."
   ]
  },
  {
   "cell_type": "markdown",
   "metadata": {},
   "source": [
    "# Treinando um modelo com Random Forest"
   ]
  },
  {
   "cell_type": "code",
   "execution_count": 28,
   "metadata": {},
   "outputs": [
    {
     "data": {
      "text/plain": [
       "((3611, 28), (1204, 28))"
      ]
     },
     "execution_count": 28,
     "metadata": {},
     "output_type": "execute_result"
    }
   ],
   "source": [
    "# vamos treinar o modelo\n",
    "from sklearn.model_selection import train_test_split\n",
    "\n",
    "train, valid = train_test_split(df_work, random_state=42)\n",
    "train.shape, valid.shape"
   ]
  },
  {
   "cell_type": "code",
   "execution_count": 35,
   "metadata": {},
   "outputs": [
    {
     "data": {
      "text/plain": [
       "RandomForestClassifier(bootstrap=True, class_weight=None, criterion='gini',\n",
       "            max_depth=None, max_features='auto', max_leaf_nodes=None,\n",
       "            min_impurity_decrease=0.0, min_impurity_split=None,\n",
       "            min_samples_leaf=1, min_samples_split=2,\n",
       "            min_weight_fraction_leaf=0.0, n_estimators=10, n_jobs=1,\n",
       "            oob_score=False, random_state=42, verbose=0, warm_start=False)"
      ]
     },
     "execution_count": 35,
     "metadata": {},
     "output_type": "execute_result"
    }
   ],
   "source": [
    "cols_to_remove = ['id', 'peca_promocao', 'homologado']\n",
    "features = [col for col in df_work.columns if col not in cols_to_remove]\n",
    "\n",
    "model = RandomForestClassifier(random_state=42)\n",
    "model.fit(train[features], train['homologado'])\n"
   ]
  },
  {
   "cell_type": "code",
   "execution_count": 36,
   "metadata": {},
   "outputs": [
    {
     "data": {
      "text/plain": [
       "0.9846313603322949"
      ]
     },
     "execution_count": 36,
     "metadata": {},
     "output_type": "execute_result"
    }
   ],
   "source": [
    "model.score(df_work[features], df_work['homologado'])"
   ]
  },
  {
   "cell_type": "code",
   "execution_count": 39,
   "metadata": {},
   "outputs": [
    {
     "name": "stdout",
     "output_type": "stream",
     "text": [
      "Accuracy score: 0.9842192691029901\n",
      "Precision score:  0.9850374064837906\n",
      "Recall score:  0.9991568296795953\n",
      "F1 score:  0.9920468815403936\n"
     ]
    }
   ],
   "source": [
    "train_preds = model.predict(train[features])\n",
    "valid_preds = model.predict(valid[features])\n",
    "\n",
    "from sklearn.metrics import accuracy_score, precision_score, recall_score, f1_score\n",
    "\n",
    "def print_score():\n",
    "    print('Accuracy score:', accuracy_score(valid['homologado'], valid_preds))\n",
    "    print('Precision score: ', format(precision_score(valid['homologado'], valid_preds)))\n",
    "    print('Recall score: ', format(recall_score(valid['homologado'], valid_preds)))\n",
    "    print('F1 score: ', format(f1_score(valid['homologado'], valid_preds)))\n",
    "\n",
    "    \n",
    "print_score()"
   ]
  },
  {
   "cell_type": "code",
   "execution_count": 40,
   "metadata": {},
   "outputs": [
    {
     "data": {
      "text/plain": [
       "array([   0,   18,    1, 1185], dtype=int64)"
      ]
     },
     "execution_count": 40,
     "metadata": {},
     "output_type": "execute_result"
    }
   ],
   "source": [
    "from sklearn.metrics import confusion_matrix\n",
    "\n",
    "confusion_matrix(valid['homologado'], valid_preds).ravel()"
   ]
  }
 ],
 "metadata": {
  "kernelspec": {
   "display_name": "Python 3",
   "language": "python",
   "name": "python3"
  },
  "language_info": {
   "codemirror_mode": {
    "name": "ipython",
    "version": 3
   },
   "file_extension": ".py",
   "mimetype": "text/x-python",
   "name": "python",
   "nbconvert_exporter": "python",
   "pygments_lexer": "ipython3",
   "version": "3.6.5"
  }
 },
 "nbformat": 4,
 "nbformat_minor": 2
}
