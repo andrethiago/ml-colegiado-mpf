{
 "cells": [
  {
   "cell_type": "markdown",
   "metadata": {},
   "source": [
    "# Introdução\n",
    "\n",
    "Esse caderno tem por objetivo a criação de um modelo básico de treinamento, utilizando o classificador [RandomForest](http://scikit-learn.org/stable/modules/generated/sklearn.ensemble.RandomForestClassifier.html), que faça a predição de homologação de arquivamentos de procedimentos enviados à 1A.CAM do MPF.\n",
    "\n",
    "Nesse modelo vamos passar a considerar os textos das íntegras.\n",
    "\n",
    "A primeira passagem, serão criadas colunas com as palavras-chaves informadas pela área negocial que vão indicar a ausência ou presença do termo no texto da íntegra da peça de promoção do arquivamento.\n",
    "\n",
    "Na segunda passagem, vamos passar a considerar unicamente o texto da íntegra.\n",
    "\n",
    "**Nota**: os dados desse modelo foram recuperados de procedimentos que tiveram suas deliberações realizadas após o dia 02/07/2018, data em que a nova composição tomou posse na 1A.CAM."
   ]
  },
  {
   "cell_type": "markdown",
   "metadata": {},
   "source": [
    "# Contagem de termos mais frequentes"
   ]
  },
  {
   "cell_type": "markdown",
   "metadata": {},
   "source": [
    "Vamos fazer uma análise dos textos das íntegras e tentar encontrar os termos mais frequentes.\n",
    "\n",
    "O objetivo é:\n",
    "\n",
    "- fazer uma confirmação das frequências dos termos com a lista de palavras-chaves que nos foi enviada;\n",
    "- descobrir outras palavras que possam ser indicativos de homologação ou não.\n",
    "\n",
    "Serão realizadas três análises:\n",
    "\n",
    "- considerando todas as íntegras;\n",
    "- considerando apenas as íntegras das peças que tiveram seu homologamento confirmado;\n",
    "- considerando os não homologados;\n",
    "\n",
    "Dessa análise, podemos criar colunas derivadas."
   ]
  },
  {
   "cell_type": "markdown",
   "metadata": {},
   "source": [
    "# Carga de dados e pré-processamento\n",
    "\n",
    "Vamos fazer a carga dos dados.\n",
    "\n",
    "Vamos ler os textos das íntegras, limpá-los e associar ao dataframe com os dados de homologação."
   ]
  },
  {
   "cell_type": "code",
   "execution_count": 1,
   "metadata": {},
   "outputs": [],
   "source": [
    "%load_ext autoreload\n",
    "%autoreload 2\n",
    "\n",
    "%matplotlib inline"
   ]
  },
  {
   "cell_type": "code",
   "execution_count": 2,
   "metadata": {},
   "outputs": [],
   "source": [
    "from sklearn.ensemble import RandomForestClassifier\n",
    "import numpy as np\n",
    "import pandas as pd\n",
    "\n",
    "from sklearn import metrics"
   ]
  },
  {
   "cell_type": "code",
   "execution_count": 3,
   "metadata": {},
   "outputs": [],
   "source": [
    "PATH = \"../data/\""
   ]
  },
  {
   "cell_type": "code",
   "execution_count": 4,
   "metadata": {},
   "outputs": [
    {
     "name": "stdout",
     "output_type": "stream",
     "text": [
      "[nltk_data] Downloading package stopwords to\n",
      "[nltk_data]     /home/andrethiago/nltk_data...\n",
      "[nltk_data]   Package stopwords is already up-to-date!\n",
      "[nltk_data] Downloading package punkt to\n",
      "[nltk_data]     /home/andrethiago/nltk_data...\n",
      "[nltk_data]   Package punkt is already up-to-date!\n"
     ]
    },
    {
     "data": {
      "text/plain": [
       "True"
      ]
     },
     "execution_count": 4,
     "metadata": {},
     "output_type": "execute_result"
    }
   ],
   "source": [
    "import nltk\n",
    "\n",
    "nltk.download('stopwords')\n",
    "nltk.download('punkt')"
   ]
  },
  {
   "cell_type": "code",
   "execution_count": 39,
   "metadata": {},
   "outputs": [
    {
     "data": {
      "text/plain": [
       "'Procedimento Administrativo Ministério Público Federal Procuradoria República Ceará Inquérito Civil n. 1.15.000.000424/2017-42 Promoção Arquivamento 938/2017/GAB-ANTJ/PR/CE PROMOÇÃO DE ARQUIVAMENTO Trata-se Inquérito Civil instaurado partir manifestação sigilosa aluno Colégio Polícia Militar Ceará informando alunos estariam sendo forçados permanecer sala aula aparelho ar condicionado quebrado geraria intenso desconforto alunos chegando fazê-los passar mal Chamado manifestar-se comandante Colégio Polícia Militar Ceará informou Colégio Polícia Militar Ceará dispõe 35 salas 11 ar condicionado 24 ventiladores Em manifestação comandante confirmou 05 salas possuem ar condicionado encontram-se aparelhos danificados porém informou tais salas dispõem ventiladores horários calor intenso professores liberdade ministrar aulas pátio alunos usar uniforme leves Visando investigar procedência reclamações justificativas apresentadas solicitado Seção Segurança Orgânica Transporte desta PR/CE realizasse diligência in loco Colégio Polícia Militar Durante diligência servidores receberam documentos relacionados encerramento contrato empresa manutenção ar condicionado bem procedimento licitatório aquisição novas peças contratação nova empresa manutenção Na oportunidade servidores SESOT adentraram salas fazendo registro fotográfico constatado O representante então chamado manifestar-se sobre persistência interesse prosseguimento feito tendo entanto oferecido manifestação fim prazo Ministério Público Federal Procuradoria República Ceará É relatório Não vislumbra presente caso ocorrência ilicitude justifique atuação deste Parquet Ainda comandante Colégio Polícia Militar confirmado algumas salas encontram aparelhos ar condicionado funcionar salas questão conforme verificado diligência in loco possuem ventiladores visando reduzir desconforto térmico alunos Ademais conforme informado colégio atento bem-estar alunos permite professores ministrar aulas sala alunos usar uniforme leves Percebe-se informações acostadas procedimento direção colégio tenta amenizar problemas decorrentes limitações estruturais prédio enquanto procura solucionar defeito aparelhos ar condicionado Assim vislumbro qualquer irregularidade conduta direção colégio Ademais ausência resposta ofício solicitada manifestação conclui-se próprio representante possui interesse continuidade feito Diante exposto tendo vista ausência indícios irregularidade reclame atuação MPF promovo arquivamento presente inquérito civil termos art 4º V Resolução 87 CSMPF Cientifique-se representante após remetam-se autos 1° Câmara Coordenação Revisão Fortaleza CE 05 setembro 2017 ANASTÁCIO NÓBREGA TAHIM JÚNIOR Procurador República'"
      ]
     },
     "execution_count": 39,
     "metadata": {},
     "output_type": "execute_result"
    }
   ],
   "source": [
    "# Removendo Stop words\n",
    "\n",
    "from os import listdir\n",
    "from os.path import isfile, join\n",
    "from nltk.corpus import stopwords\n",
    "from nltk.tokenize import word_tokenize\n",
    "\n",
    "stop_words = stopwords.words('portuguese')\n",
    "stop_words.extend(['n', 'nº', 'n°', 'n.º', ',', '.', '!', '?', ';', ':', '...', 'º', '–', '/', '(', ')'])\n",
    "\n",
    "def get_text(file):\n",
    "    with open(file, encoding='utf-8') as f:\n",
    "        data=' '.join(line.strip() for line in f)\n",
    "        f.close()\n",
    "    \n",
    "    return data.strip()\n",
    "\n",
    "def get_text_non_stop_words(text):\n",
    "    filtered_text = ''\n",
    "    for w in word_tokenize(text, language='portuguese'):\n",
    "        if w not in stop_words:\n",
    "            filtered_text += w\n",
    "            filtered_text += ' '            \n",
    "    return filtered_text.strip()   \n",
    "    \n",
    "\n",
    "folder_integras = f'{PATH}/integras-textos'\n",
    "\n",
    "#onlyfiles = [f for f in listdir(folder_integras) if isfile(join(folder_integras, f))]\n",
    "\n",
    "texts = {}\n",
    "for file in listdir(folder_integras):\n",
    "    if isfile(join(folder_integras, file)):\n",
    "        texts[file.split('.')[0]] = get_text_non_stop_words(get_text(join(folder_integras,file)))\n",
    "\n",
    "    \n",
    "texts['76397008']"
   ]
  },
  {
   "cell_type": "code",
   "execution_count": 17,
   "metadata": {},
   "outputs": [],
   "source": [
    "# Ver se dá pra usar o sklearn aqui...\n",
    "\n",
    "from sklearn.feature_extraction.text import CountVectorizer\n",
    "\n",
    "count = CountVectorizer(ngram_range=(1,6))\n",
    "bag = count.fit_transform(list(texts.values()))"
   ]
  },
  {
   "cell_type": "code",
   "execution_count": 33,
   "metadata": {},
   "outputs": [],
   "source": [
    "filtered_text = [w for w in word_tokens if not w in stop]"
   ]
  },
  {
   "cell_type": "code",
   "execution_count": 23,
   "metadata": {},
   "outputs": [
    {
     "name": "stdout",
     "output_type": "stream",
     "text": [
      "['üá qep 7ô w640 tej 61', 'üá qep 7ô w640 tej', 'üá qep 7ô w640', 'üá qep 7ô', 'üá qep', 'üá', 'üsuc ogrto oa rei jc1 iii', 'üsuc ogrto oa rei jc1', 'üsuc ogrto oa rei', 'üsuc ogrto oa']\n"
     ]
    }
   ],
   "source": [
    "from heapq import nlargest\n",
    "\n",
    "top_ten = nlargest(10, count.vocabulary_, key=count.vocabulary_.get)\n",
    "\n",
    "print(top_ten)"
   ]
  }
 ],
 "metadata": {
  "kernelspec": {
   "display_name": "Python 3",
   "language": "python",
   "name": "python3"
  },
  "language_info": {
   "codemirror_mode": {
    "name": "ipython",
    "version": 3
   },
   "file_extension": ".py",
   "mimetype": "text/x-python",
   "name": "python",
   "nbconvert_exporter": "python",
   "pygments_lexer": "ipython3",
   "version": "3.6.5"
  }
 },
 "nbformat": 4,
 "nbformat_minor": 2
}
