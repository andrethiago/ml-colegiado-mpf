{
 "cells": [
  {
   "cell_type": "markdown",
   "metadata": {},
   "source": [
    "# Introdução\n",
    "\n",
    "Esse caderno tem por objetivo a criação de um modelo básico de treinamento, utilizando o classificador [RandomForest](http://scikit-learn.org/stable/modules/generated/sklearn.ensemble.RandomForestClassifier.html), que faça a predição de homologação de arquivamentos de procedimentos enviados à 1A.CAM do MPF.\n",
    "\n",
    "Nesse modelo vamos passar a considerar os textos das íntegras.\n",
    "\n",
    "A primeira passagem, serão criadas colunas com as palavras-chaves informadas pela área negocial que vão indicar a ausência ou presença do termo no texto da íntegra da peça de promoção do arquivamento.\n",
    "\n",
    "Na segunda passagem, vamos passar a considerar unicamente o texto da íntegra.\n",
    "\n",
    "**Nota**: os dados desse modelo foram recuperados de procedimentos que tiveram suas deliberações realizadas após o dia 02/07/2018, data em que a nova composição tomou posse na 1A.CAM."
   ]
  },
  {
   "cell_type": "markdown",
   "metadata": {},
   "source": [
    "# Carga de dados e pré-processamento\n",
    "\n",
    "Vamos fazer a carga dos dados.\n",
    "\n",
    "Vamos ler os textos das íntegras, limpá-los e associar ao dataframe com os dados de homologação."
   ]
  },
  {
   "cell_type": "code",
   "execution_count": 1,
   "metadata": {},
   "outputs": [],
   "source": [
    "%load_ext autoreload\n",
    "%autoreload 2\n",
    "\n",
    "%matplotlib inline"
   ]
  },
  {
   "cell_type": "code",
   "execution_count": 2,
   "metadata": {},
   "outputs": [],
   "source": [
    "from sklearn.ensemble import RandomForestClassifier\n",
    "import numpy as np\n",
    "import pandas as pd\n",
    "\n",
    "from sklearn import metrics"
   ]
  },
  {
   "cell_type": "code",
   "execution_count": 3,
   "metadata": {},
   "outputs": [],
   "source": [
    "PATH = \"../data/\""
   ]
  },
  {
   "cell_type": "code",
   "execution_count": 4,
   "metadata": {
    "scrolled": true
   },
   "outputs": [],
   "source": [
    "# carga dos textos\n",
    "\n",
    "from os import listdir\n",
    "from os.path import isfile, join\n",
    "from nltk.corpus import stopwords\n",
    "from nltk.tokenize import word_tokenize\n",
    "\n",
    "stop_words = stopwords.words('portuguese')\n",
    "stop_words.extend(['n', 'nº', 'n°', 'n.º', ',', '.', '!', '?', ';', ':', '...', 'º', '–', '/', '(', ')'])\n",
    "\n",
    "def get_text(file):\n",
    "    with open(file, encoding='utf-8', errors='replace') as f:\n",
    "        data=' '.join(line.strip() for line in f)\n",
    "        f.close()\n",
    "    \n",
    "    return data.strip()\n",
    "\n",
    "def get_text_non_stop_words(text):\n",
    "    filtered_text = ''\n",
    "    for w in word_tokenize(text, language='portuguese'):\n",
    "        if w not in stop_words:\n",
    "            filtered_text += w\n",
    "            filtered_text += ' '            \n",
    "    return filtered_text.strip()   \n",
    "    \n",
    "\n",
    "folder_integras = f'{PATH}/integras-textos'\n",
    "\n",
    "texts = {}\n",
    "for file in listdir(folder_integras):\n",
    "    if isfile(join(folder_integras, file)):\n",
    "        texts[file.split('.')[0]] = get_text(join(folder_integras,file))\n",
    "    else:\n",
    "        print('is not file', file)\n",
    "\n"
   ]
  },
  {
   "cell_type": "code",
   "execution_count": 5,
   "metadata": {},
   "outputs": [
    {
     "data": {
      "text/html": [
       "<div>\n",
       "<style scoped>\n",
       "    .dataframe tbody tr th:only-of-type {\n",
       "        vertical-align: middle;\n",
       "    }\n",
       "\n",
       "    .dataframe tbody tr th {\n",
       "        vertical-align: top;\n",
       "    }\n",
       "\n",
       "    .dataframe thead th {\n",
       "        text-align: right;\n",
       "    }\n",
       "</style>\n",
       "<table border=\"1\" class=\"dataframe\">\n",
       "  <thead>\n",
       "    <tr style=\"text-align: right;\">\n",
       "      <th></th>\n",
       "      <th>homologado</th>\n",
       "      <th>id</th>\n",
       "      <th>peca_promocao</th>\n",
       "    </tr>\n",
       "  </thead>\n",
       "  <tbody>\n",
       "    <tr>\n",
       "      <th>8178</th>\n",
       "      <td>1</td>\n",
       "      <td>59524018</td>\n",
       "      <td>None</td>\n",
       "    </tr>\n",
       "    <tr>\n",
       "      <th>3540</th>\n",
       "      <td>1</td>\n",
       "      <td>81543552</td>\n",
       "      <td>None</td>\n",
       "    </tr>\n",
       "    <tr>\n",
       "      <th>3280</th>\n",
       "      <td>1</td>\n",
       "      <td>53673336</td>\n",
       "      <td>None</td>\n",
       "    </tr>\n",
       "    <tr>\n",
       "      <th>3094</th>\n",
       "      <td>1</td>\n",
       "      <td>69897759</td>\n",
       "      <td>None</td>\n",
       "    </tr>\n",
       "    <tr>\n",
       "      <th>4301</th>\n",
       "      <td>1</td>\n",
       "      <td>73655314</td>\n",
       "      <td>None</td>\n",
       "    </tr>\n",
       "  </tbody>\n",
       "</table>\n",
       "</div>"
      ],
      "text/plain": [
       "      homologado        id peca_promocao\n",
       "8178           1  59524018          None\n",
       "3540           1  81543552          None\n",
       "3280           1  53673336          None\n",
       "3094           1  69897759          None\n",
       "4301           1  73655314          None"
      ]
     },
     "execution_count": 5,
     "metadata": {},
     "output_type": "execute_result"
    }
   ],
   "source": [
    "# montando um DataFrame\n",
    "df_original = pd.read_json(f'{PATH}/1A.CAM.homologacao-arquivamento.json')\n",
    "df_work = df_original.copy()\n",
    "cols = ['id', 'homologado']\n",
    "df_work.drop(inplace=True, columns=[col for col in df_work.columns if col not in cols])\n",
    "df_work['peca_promocao'] = None\n",
    "df_work.sample(5)"
   ]
  },
  {
   "cell_type": "code",
   "execution_count": 6,
   "metadata": {
    "scrolled": true
   },
   "outputs": [
    {
     "data": {
      "text/html": [
       "<div>\n",
       "<style scoped>\n",
       "    .dataframe tbody tr th:only-of-type {\n",
       "        vertical-align: middle;\n",
       "    }\n",
       "\n",
       "    .dataframe tbody tr th {\n",
       "        vertical-align: top;\n",
       "    }\n",
       "\n",
       "    .dataframe thead th {\n",
       "        text-align: right;\n",
       "    }\n",
       "</style>\n",
       "<table border=\"1\" class=\"dataframe\">\n",
       "  <thead>\n",
       "    <tr style=\"text-align: right;\">\n",
       "      <th></th>\n",
       "      <th>homologado</th>\n",
       "      <th>id</th>\n",
       "      <th>peca_promocao</th>\n",
       "    </tr>\n",
       "  </thead>\n",
       "  <tbody>\n",
       "    <tr>\n",
       "      <th>536</th>\n",
       "      <td>1</td>\n",
       "      <td>85664496</td>\n",
       "      <td>MINISTÉRIO PÚBLICO FEDERAL PROCURADORIA DA REP...</td>\n",
       "    </tr>\n",
       "    <tr>\n",
       "      <th>7391</th>\n",
       "      <td>1</td>\n",
       "      <td>45033772</td>\n",
       "      <td>PARECER Nº             01/DLF        Av. Juca ...</td>\n",
       "    </tr>\n",
       "    <tr>\n",
       "      <th>4501</th>\n",
       "      <td>1</td>\n",
       "      <td>66183825</td>\n",
       "      <td>Modelo_padrao_PRM_Joacaba   Autos n° 1.34.033....</td>\n",
       "    </tr>\n",
       "    <tr>\n",
       "      <th>4043</th>\n",
       "      <td>1</td>\n",
       "      <td>78067010</td>\n",
       "      <td>Ofício MPF/PRPE/AT nº 171 /2003   MINISTÉRIO P...</td>\n",
       "    </tr>\n",
       "    <tr>\n",
       "      <th>36</th>\n",
       "      <td>1</td>\n",
       "      <td>79769812</td>\n",
       "      <td>Ref   MINISTÉRIO PÚBLICO FEDERAL PROCURADORIA ...</td>\n",
       "    </tr>\n",
       "  </tbody>\n",
       "</table>\n",
       "</div>"
      ],
      "text/plain": [
       "      homologado        id                                      peca_promocao\n",
       "536            1  85664496  MINISTÉRIO PÚBLICO FEDERAL PROCURADORIA DA REP...\n",
       "7391           1  45033772  PARECER Nº             01/DLF        Av. Juca ...\n",
       "4501           1  66183825  Modelo_padrao_PRM_Joacaba   Autos n° 1.34.033....\n",
       "4043           1  78067010  Ofício MPF/PRPE/AT nº 171 /2003   MINISTÉRIO P...\n",
       "36             1  79769812  Ref   MINISTÉRIO PÚBLICO FEDERAL PROCURADORIA ..."
      ]
     },
     "execution_count": 6,
     "metadata": {},
     "output_type": "execute_result"
    }
   ],
   "source": [
    "# Associando o texto...\n",
    "for key, text in zip(texts.keys(), texts.values()):\n",
    "    if key != '' and text != '':\n",
    "        df_work.loc[df_work.id == int(key), 'peca_promocao'] = text\n",
    "        \n",
    "df_work.sample(5)"
   ]
  },
  {
   "cell_type": "code",
   "execution_count": 7,
   "metadata": {},
   "outputs": [
    {
     "name": "stdout",
     "output_type": "stream",
     "text": [
      "8267 134\n"
     ]
    }
   ],
   "source": [
    "print(len(df_work[df_work['homologado'] == 1]), len(df_work[df_work['homologado'] == 0]))"
   ]
  },
  {
   "cell_type": "code",
   "execution_count": 8,
   "metadata": {},
   "outputs": [
    {
     "name": "stdout",
     "output_type": "stream",
     "text": [
      "1688\n",
      "0\n"
     ]
    }
   ],
   "source": [
    "# removendo os sem textos de peça de promoção (problema nos dados)\n",
    "print(len(df_work[df_work['peca_promocao'].isnull()]))\n",
    "df_work.dropna(subset=['peca_promocao'], inplace=True)\n",
    "df_work.reset_index(drop=True, inplace=True)\n",
    "print(len(df_work[df_work['peca_promocao'].isnull()]))"
   ]
  },
  {
   "cell_type": "code",
   "execution_count": 9,
   "metadata": {},
   "outputs": [
    {
     "name": "stdout",
     "output_type": "stream",
     "text": [
      "6612 101\n"
     ]
    }
   ],
   "source": [
    "print(len(df_work[df_work['homologado'] == 1]), len(df_work[df_work['homologado'] == 0]))"
   ]
  },
  {
   "cell_type": "code",
   "execution_count": 10,
   "metadata": {
    "scrolled": true
   },
   "outputs": [
    {
     "data": {
      "text/html": [
       "<div>\n",
       "<style scoped>\n",
       "    .dataframe tbody tr th:only-of-type {\n",
       "        vertical-align: middle;\n",
       "    }\n",
       "\n",
       "    .dataframe tbody tr th {\n",
       "        vertical-align: top;\n",
       "    }\n",
       "\n",
       "    .dataframe thead th {\n",
       "        text-align: right;\n",
       "    }\n",
       "</style>\n",
       "<table border=\"1\" class=\"dataframe\">\n",
       "  <thead>\n",
       "    <tr style=\"text-align: right;\">\n",
       "      <th></th>\n",
       "      <th>palavras-chaves</th>\n",
       "      <th>expressao-regular</th>\n",
       "    </tr>\n",
       "  </thead>\n",
       "  <tbody>\n",
       "    <tr>\n",
       "      <th>0</th>\n",
       "      <td>AUSÊNCIA DE IRREGULARIDADES</td>\n",
       "      <td>\\bausência[s]?\\b(\\s)+\\bde\\b(\\s)+\\birregularida...</td>\n",
       "    </tr>\n",
       "    <tr>\n",
       "      <th>1</th>\n",
       "      <td>IRREGULARIDADE SANADA</td>\n",
       "      <td>\\birregularidade[s]?\\b(\\s)+\\bsanada[s]?\\b</td>\n",
       "    </tr>\n",
       "    <tr>\n",
       "      <th>2</th>\n",
       "      <td>NÃO COMPROVAÇÃO</td>\n",
       "      <td>\\bnão\\b(\\s)+\\bcomprovação\\b</td>\n",
       "    </tr>\n",
       "    <tr>\n",
       "      <th>3</th>\n",
       "      <td>INEXISTÊNCIA</td>\n",
       "      <td>\\binexistência[s]?\\b</td>\n",
       "    </tr>\n",
       "    <tr>\n",
       "      <th>4</th>\n",
       "      <td>SOLUCIONADA</td>\n",
       "      <td>\\bsolucionada[s]?\\b</td>\n",
       "    </tr>\n",
       "    <tr>\n",
       "      <th>5</th>\n",
       "      <td>EXAURIMENTO</td>\n",
       "      <td>\\bexaurimento\\b</td>\n",
       "    </tr>\n",
       "    <tr>\n",
       "      <th>6</th>\n",
       "      <td>EXAURIDA</td>\n",
       "      <td>\\bexaurida[s]?\\b</td>\n",
       "    </tr>\n",
       "    <tr>\n",
       "      <th>7</th>\n",
       "      <td>PERDA DE OBJETO</td>\n",
       "      <td>\\bperda\\b(\\s)+\\bde\\b(\\s)+\\bobjeto\\b</td>\n",
       "    </tr>\n",
       "    <tr>\n",
       "      <th>8</th>\n",
       "      <td>IRREGULARIDADE NÃO COMPROVADA</td>\n",
       "      <td>\\birregularidade[s]?\\b(\\s)+\\bnão\\b(\\s)+\\bcompr...</td>\n",
       "    </tr>\n",
       "    <tr>\n",
       "      <th>9</th>\n",
       "      <td>INEXISTÊNCIA DE INDÍCIOS DE IRREGULARIDADE</td>\n",
       "      <td>\\binexistência\\b(\\s)+\\bde\\b(\\s)+\\bindício[s]?\\...</td>\n",
       "    </tr>\n",
       "    <tr>\n",
       "      <th>10</th>\n",
       "      <td>IRREGULARIDADE NÃO CONFIRMADA</td>\n",
       "      <td>\\birregularidade[s]?\\b(\\s)+\\bnão\\b(\\s)+\\bconfi...</td>\n",
       "    </tr>\n",
       "    <tr>\n",
       "      <th>11</th>\n",
       "      <td>RECOMENDAÇÃO ATENDIDA</td>\n",
       "      <td>\\brecomendaç(ão|ões)\\b(\\s)+\\batendida[s]?\\b</td>\n",
       "    </tr>\n",
       "    <tr>\n",
       "      <th>12</th>\n",
       "      <td>RECOMENDAÇÃO ACATADA</td>\n",
       "      <td>\\brecomendaç(ão|ões)\\b(\\s)+\\bacatada[s]?\\b</td>\n",
       "    </tr>\n",
       "    <tr>\n",
       "      <th>13</th>\n",
       "      <td>CUMPRIDAS</td>\n",
       "      <td>\\bcumprida[s]?\\b</td>\n",
       "    </tr>\n",
       "    <tr>\n",
       "      <th>14</th>\n",
       "      <td>ADOTADAS</td>\n",
       "      <td>\\badotada[s]?\\b</td>\n",
       "    </tr>\n",
       "    <tr>\n",
       "      <th>15</th>\n",
       "      <td>INEXISTÊNCIA DE INDÍCIOS MÍNIMOS DE IRREGULARI...</td>\n",
       "      <td>\\binexistência\\b(\\s)+\\bde\\b(\\s)+\\bindício[s]?\\...</td>\n",
       "    </tr>\n",
       "    <tr>\n",
       "      <th>16</th>\n",
       "      <td>RECOMENDAÇÃO EXPEDIDA E ACATADA</td>\n",
       "      <td>\\brecomendaç(ão|ões)\\b(\\s)+\\bexpedida[s]?\\b(\\s...</td>\n",
       "    </tr>\n",
       "    <tr>\n",
       "      <th>17</th>\n",
       "      <td>JUSTIFICATIVAS SATISFATÓRIAS</td>\n",
       "      <td>\\bjustificativa[s]?\\b(\\s)+\\bsatisfatória[s]?\\b</td>\n",
       "    </tr>\n",
       "    <tr>\n",
       "      <th>18</th>\n",
       "      <td>CORREÇÃO DAS FALHAS</td>\n",
       "      <td>\\bcorreç(ão|ões)\\b(\\s)+\\bda[s]?\\b(\\s)+\\bfalha[...</td>\n",
       "    </tr>\n",
       "    <tr>\n",
       "      <th>19</th>\n",
       "      <td>AÇÃO AJUIZADA</td>\n",
       "      <td>\\baç(ão|ões)\\b(\\s)+\\bajuizada[s]?\\b</td>\n",
       "    </tr>\n",
       "    <tr>\n",
       "      <th>20</th>\n",
       "      <td>QUESTÃO JUDICIALIZADA</td>\n",
       "      <td>\\bquest(ão|ões)\\b(\\s)+\\bjudicializada[s]?\\b</td>\n",
       "    </tr>\n",
       "    <tr>\n",
       "      <th>21</th>\n",
       "      <td>BANCO DE PREÇOS + RECOMENDAÇÃO</td>\n",
       "      <td>NaN</td>\n",
       "    </tr>\n",
       "    <tr>\n",
       "      <th>22</th>\n",
       "      <td>DIREITO INDIVIDUAL</td>\n",
       "      <td>\\bdireito[s]?\\b(\\s)+\\bindividua(l|is)\\b</td>\n",
       "    </tr>\n",
       "    <tr>\n",
       "      <th>23</th>\n",
       "      <td>EXCESSO DE PESO</td>\n",
       "      <td>\\bexcesso[s]?\\b(\\s)+\\bde\\b(\\s)+\\bpeso[s]?\\b</td>\n",
       "    </tr>\n",
       "    <tr>\n",
       "      <th>24</th>\n",
       "      <td>MAMOGRAFIA</td>\n",
       "      <td>\\bmamografia[s]\\b</td>\n",
       "    </tr>\n",
       "    <tr>\n",
       "      <th>25</th>\n",
       "      <td>SISCAN</td>\n",
       "      <td>\\bsiscan\\b</td>\n",
       "    </tr>\n",
       "    <tr>\n",
       "      <th>26</th>\n",
       "      <td>REGIME JURÍDICO + CONSELHOS PROFISSIONAIS</td>\n",
       "      <td>NaN</td>\n",
       "    </tr>\n",
       "  </tbody>\n",
       "</table>\n",
       "</div>"
      ],
      "text/plain": [
       "                                      palavras-chaves  \\\n",
       "0                         AUSÊNCIA DE IRREGULARIDADES   \n",
       "1                               IRREGULARIDADE SANADA   \n",
       "2                                     NÃO COMPROVAÇÃO   \n",
       "3                                        INEXISTÊNCIA   \n",
       "4                                         SOLUCIONADA   \n",
       "5                                         EXAURIMENTO   \n",
       "6                                            EXAURIDA   \n",
       "7                                     PERDA DE OBJETO   \n",
       "8                       IRREGULARIDADE NÃO COMPROVADA   \n",
       "9          INEXISTÊNCIA DE INDÍCIOS DE IRREGULARIDADE   \n",
       "10                      IRREGULARIDADE NÃO CONFIRMADA   \n",
       "11                              RECOMENDAÇÃO ATENDIDA   \n",
       "12                               RECOMENDAÇÃO ACATADA   \n",
       "13                                          CUMPRIDAS   \n",
       "14                                           ADOTADAS   \n",
       "15  INEXISTÊNCIA DE INDÍCIOS MÍNIMOS DE IRREGULARI...   \n",
       "16                    RECOMENDAÇÃO EXPEDIDA E ACATADA   \n",
       "17                       JUSTIFICATIVAS SATISFATÓRIAS   \n",
       "18                                CORREÇÃO DAS FALHAS   \n",
       "19                                      AÇÃO AJUIZADA   \n",
       "20                              QUESTÃO JUDICIALIZADA   \n",
       "21                     BANCO DE PREÇOS + RECOMENDAÇÃO   \n",
       "22                                 DIREITO INDIVIDUAL   \n",
       "23                                    EXCESSO DE PESO   \n",
       "24                                         MAMOGRAFIA   \n",
       "25                                             SISCAN   \n",
       "26          REGIME JURÍDICO + CONSELHOS PROFISSIONAIS   \n",
       "\n",
       "                                    expressao-regular  \n",
       "0   \\bausência[s]?\\b(\\s)+\\bde\\b(\\s)+\\birregularida...  \n",
       "1           \\birregularidade[s]?\\b(\\s)+\\bsanada[s]?\\b  \n",
       "2                         \\bnão\\b(\\s)+\\bcomprovação\\b  \n",
       "3                                \\binexistência[s]?\\b  \n",
       "4                                 \\bsolucionada[s]?\\b  \n",
       "5                                     \\bexaurimento\\b  \n",
       "6                                    \\bexaurida[s]?\\b  \n",
       "7                 \\bperda\\b(\\s)+\\bde\\b(\\s)+\\bobjeto\\b  \n",
       "8   \\birregularidade[s]?\\b(\\s)+\\bnão\\b(\\s)+\\bcompr...  \n",
       "9   \\binexistência\\b(\\s)+\\bde\\b(\\s)+\\bindício[s]?\\...  \n",
       "10  \\birregularidade[s]?\\b(\\s)+\\bnão\\b(\\s)+\\bconfi...  \n",
       "11        \\brecomendaç(ão|ões)\\b(\\s)+\\batendida[s]?\\b  \n",
       "12         \\brecomendaç(ão|ões)\\b(\\s)+\\bacatada[s]?\\b  \n",
       "13                                   \\bcumprida[s]?\\b  \n",
       "14                                    \\badotada[s]?\\b  \n",
       "15  \\binexistência\\b(\\s)+\\bde\\b(\\s)+\\bindício[s]?\\...  \n",
       "16  \\brecomendaç(ão|ões)\\b(\\s)+\\bexpedida[s]?\\b(\\s...  \n",
       "17     \\bjustificativa[s]?\\b(\\s)+\\bsatisfatória[s]?\\b  \n",
       "18  \\bcorreç(ão|ões)\\b(\\s)+\\bda[s]?\\b(\\s)+\\bfalha[...  \n",
       "19                \\baç(ão|ões)\\b(\\s)+\\bajuizada[s]?\\b  \n",
       "20        \\bquest(ão|ões)\\b(\\s)+\\bjudicializada[s]?\\b  \n",
       "21                                                NaN  \n",
       "22            \\bdireito[s]?\\b(\\s)+\\bindividua(l|is)\\b  \n",
       "23        \\bexcesso[s]?\\b(\\s)+\\bde\\b(\\s)+\\bpeso[s]?\\b  \n",
       "24                                  \\bmamografia[s]\\b  \n",
       "25                                         \\bsiscan\\b  \n",
       "26                                                NaN  "
      ]
     },
     "execution_count": 10,
     "metadata": {},
     "output_type": "execute_result"
    }
   ],
   "source": [
    "#Carga das palavras chaves\n",
    "palavras_chaves = pd.read_csv(f'{PATH}/1A.CAM.palavras-chaves.txt')\n",
    "palavras_chaves"
   ]
  },
  {
   "cell_type": "markdown",
   "metadata": {},
   "source": [
    "## Busca de palavras-chaves nos textos das peças de promoção"
   ]
  },
  {
   "cell_type": "markdown",
   "metadata": {},
   "source": [
    "Dada a lista de palavras-chaves anteriormente listada, vamos procurá-la nos textos das íntegras.\n",
    "\n",
    "Vamos criar uma coluna para cada uma das palavras-chaves e marcar com ausência ou presença da mesma no texto correspondente.\n",
    "\n",
    "Vamos utilzar expressões regulares."
   ]
  },
  {
   "cell_type": "code",
   "execution_count": 11,
   "metadata": {},
   "outputs": [
    {
     "data": {
      "text/html": [
       "<div>\n",
       "<style scoped>\n",
       "    .dataframe tbody tr th:only-of-type {\n",
       "        vertical-align: middle;\n",
       "    }\n",
       "\n",
       "    .dataframe tbody tr th {\n",
       "        vertical-align: top;\n",
       "    }\n",
       "\n",
       "    .dataframe thead th {\n",
       "        text-align: right;\n",
       "    }\n",
       "</style>\n",
       "<table border=\"1\" class=\"dataframe\">\n",
       "  <thead>\n",
       "    <tr style=\"text-align: right;\">\n",
       "      <th></th>\n",
       "      <th>homologado</th>\n",
       "      <th>id</th>\n",
       "      <th>peca_promocao</th>\n",
       "      <th>AUSÊNCIA DE IRREGULARIDADES</th>\n",
       "      <th>IRREGULARIDADE SANADA</th>\n",
       "      <th>NÃO COMPROVAÇÃO</th>\n",
       "      <th>INEXISTÊNCIA</th>\n",
       "      <th>SOLUCIONADA</th>\n",
       "      <th>EXAURIMENTO</th>\n",
       "      <th>EXAURIDA</th>\n",
       "      <th>...</th>\n",
       "      <th>INEXISTÊNCIA DE INDÍCIOS MÍNIMOS DE IRREGULARIDADES</th>\n",
       "      <th>RECOMENDAÇÃO EXPEDIDA E ACATADA</th>\n",
       "      <th>JUSTIFICATIVAS SATISFATÓRIAS</th>\n",
       "      <th>CORREÇÃO DAS FALHAS</th>\n",
       "      <th>AÇÃO AJUIZADA</th>\n",
       "      <th>QUESTÃO JUDICIALIZADA</th>\n",
       "      <th>DIREITO INDIVIDUAL</th>\n",
       "      <th>EXCESSO DE PESO</th>\n",
       "      <th>MAMOGRAFIA</th>\n",
       "      <th>SISCAN</th>\n",
       "    </tr>\n",
       "  </thead>\n",
       "  <tbody>\n",
       "    <tr>\n",
       "      <th>5892</th>\n",
       "      <td>1</td>\n",
       "      <td>68114121</td>\n",
       "      <td>Tutela Coletiva – inquérito civil Autos n. 1.3...</td>\n",
       "      <td>0</td>\n",
       "      <td>0</td>\n",
       "      <td>0</td>\n",
       "      <td>0</td>\n",
       "      <td>0</td>\n",
       "      <td>0</td>\n",
       "      <td>0</td>\n",
       "      <td>...</td>\n",
       "      <td>0</td>\n",
       "      <td>0</td>\n",
       "      <td>0</td>\n",
       "      <td>0</td>\n",
       "      <td>0</td>\n",
       "      <td>0</td>\n",
       "      <td>0</td>\n",
       "      <td>0</td>\n",
       "      <td>0</td>\n",
       "      <td>0</td>\n",
       "    </tr>\n",
       "    <tr>\n",
       "      <th>4193</th>\n",
       "      <td>1</td>\n",
       "      <td>75598232</td>\n",
       "      <td>Arquivamento PP 2336201695   MINISTÉRIO PÚBLIC...</td>\n",
       "      <td>0</td>\n",
       "      <td>0</td>\n",
       "      <td>0</td>\n",
       "      <td>0</td>\n",
       "      <td>0</td>\n",
       "      <td>0</td>\n",
       "      <td>0</td>\n",
       "      <td>...</td>\n",
       "      <td>0</td>\n",
       "      <td>0</td>\n",
       "      <td>0</td>\n",
       "      <td>0</td>\n",
       "      <td>0</td>\n",
       "      <td>0</td>\n",
       "      <td>0</td>\n",
       "      <td>0</td>\n",
       "      <td>0</td>\n",
       "      <td>0</td>\n",
       "    </tr>\n",
       "    <tr>\n",
       "      <th>4552</th>\n",
       "      <td>1</td>\n",
       "      <td>75401441</td>\n",
       "      <td>MINISTÉRIO PÚBLICO FEDERAL PROCURADORIA DA REP...</td>\n",
       "      <td>0</td>\n",
       "      <td>0</td>\n",
       "      <td>0</td>\n",
       "      <td>0</td>\n",
       "      <td>0</td>\n",
       "      <td>0</td>\n",
       "      <td>0</td>\n",
       "      <td>...</td>\n",
       "      <td>0</td>\n",
       "      <td>0</td>\n",
       "      <td>0</td>\n",
       "      <td>0</td>\n",
       "      <td>0</td>\n",
       "      <td>0</td>\n",
       "      <td>0</td>\n",
       "      <td>0</td>\n",
       "      <td>0</td>\n",
       "      <td>0</td>\n",
       "    </tr>\n",
       "    <tr>\n",
       "      <th>388</th>\n",
       "      <td>1</td>\n",
       "      <td>85663954</td>\n",
       "      <td>Notícia de Fato nº 1.10.000.000226/2018-46    ...</td>\n",
       "      <td>0</td>\n",
       "      <td>0</td>\n",
       "      <td>0</td>\n",
       "      <td>0</td>\n",
       "      <td>0</td>\n",
       "      <td>0</td>\n",
       "      <td>0</td>\n",
       "      <td>...</td>\n",
       "      <td>0</td>\n",
       "      <td>0</td>\n",
       "      <td>0</td>\n",
       "      <td>0</td>\n",
       "      <td>0</td>\n",
       "      <td>0</td>\n",
       "      <td>0</td>\n",
       "      <td>0</td>\n",
       "      <td>0</td>\n",
       "      <td>0</td>\n",
       "    </tr>\n",
       "    <tr>\n",
       "      <th>885</th>\n",
       "      <td>1</td>\n",
       "      <td>48449775</td>\n",
       "      <td>Ministério Público Federal  Procuradoria da Re...</td>\n",
       "      <td>0</td>\n",
       "      <td>0</td>\n",
       "      <td>0</td>\n",
       "      <td>0</td>\n",
       "      <td>0</td>\n",
       "      <td>0</td>\n",
       "      <td>0</td>\n",
       "      <td>...</td>\n",
       "      <td>0</td>\n",
       "      <td>0</td>\n",
       "      <td>0</td>\n",
       "      <td>0</td>\n",
       "      <td>0</td>\n",
       "      <td>0</td>\n",
       "      <td>0</td>\n",
       "      <td>0</td>\n",
       "      <td>0</td>\n",
       "      <td>0</td>\n",
       "    </tr>\n",
       "  </tbody>\n",
       "</table>\n",
       "<p>5 rows × 28 columns</p>\n",
       "</div>"
      ],
      "text/plain": [
       "      homologado        id                                      peca_promocao  \\\n",
       "5892           1  68114121  Tutela Coletiva – inquérito civil Autos n. 1.3...   \n",
       "4193           1  75598232  Arquivamento PP 2336201695   MINISTÉRIO PÚBLIC...   \n",
       "4552           1  75401441  MINISTÉRIO PÚBLICO FEDERAL PROCURADORIA DA REP...   \n",
       "388            1  85663954  Notícia de Fato nº 1.10.000.000226/2018-46    ...   \n",
       "885            1  48449775  Ministério Público Federal  Procuradoria da Re...   \n",
       "\n",
       "      AUSÊNCIA DE IRREGULARIDADES  IRREGULARIDADE SANADA  NÃO COMPROVAÇÃO  \\\n",
       "5892                            0                      0                0   \n",
       "4193                            0                      0                0   \n",
       "4552                            0                      0                0   \n",
       "388                             0                      0                0   \n",
       "885                             0                      0                0   \n",
       "\n",
       "      INEXISTÊNCIA  SOLUCIONADA  EXAURIMENTO  EXAURIDA   ...    \\\n",
       "5892             0            0            0         0   ...     \n",
       "4193             0            0            0         0   ...     \n",
       "4552             0            0            0         0   ...     \n",
       "388              0            0            0         0   ...     \n",
       "885              0            0            0         0   ...     \n",
       "\n",
       "      INEXISTÊNCIA DE INDÍCIOS MÍNIMOS DE IRREGULARIDADES  \\\n",
       "5892                                                  0     \n",
       "4193                                                  0     \n",
       "4552                                                  0     \n",
       "388                                                   0     \n",
       "885                                                   0     \n",
       "\n",
       "      RECOMENDAÇÃO EXPEDIDA E ACATADA  JUSTIFICATIVAS SATISFATÓRIAS  \\\n",
       "5892                                0                             0   \n",
       "4193                                0                             0   \n",
       "4552                                0                             0   \n",
       "388                                 0                             0   \n",
       "885                                 0                             0   \n",
       "\n",
       "      CORREÇÃO DAS FALHAS  AÇÃO AJUIZADA  QUESTÃO JUDICIALIZADA  \\\n",
       "5892                    0              0                      0   \n",
       "4193                    0              0                      0   \n",
       "4552                    0              0                      0   \n",
       "388                     0              0                      0   \n",
       "885                     0              0                      0   \n",
       "\n",
       "      DIREITO INDIVIDUAL  EXCESSO DE PESO  MAMOGRAFIA  SISCAN  \n",
       "5892                   0                0           0       0  \n",
       "4193                   0                0           0       0  \n",
       "4552                   0                0           0       0  \n",
       "388                    0                0           0       0  \n",
       "885                    0                0           0       0  \n",
       "\n",
       "[5 rows x 28 columns]"
      ]
     },
     "execution_count": 11,
     "metadata": {},
     "output_type": "execute_result"
    }
   ],
   "source": [
    "pcs = palavras_chaves['palavras-chaves']\n",
    "\n",
    "# vou ignorar as colunas com o caractere '+' // PRECISAMOS TRATAR ISSO AINDA\n",
    "for pc in pcs:\n",
    "    if pc.rfind('+') == -1:\n",
    "        df_work[pc.strip()] = 0\n",
    "\n",
    "df_work.sample(5)"
   ]
  },
  {
   "cell_type": "code",
   "execution_count": 12,
   "metadata": {
    "scrolled": true
   },
   "outputs": [
    {
     "data": {
      "text/html": [
       "<div>\n",
       "<style scoped>\n",
       "    .dataframe tbody tr th:only-of-type {\n",
       "        vertical-align: middle;\n",
       "    }\n",
       "\n",
       "    .dataframe tbody tr th {\n",
       "        vertical-align: top;\n",
       "    }\n",
       "\n",
       "    .dataframe thead th {\n",
       "        text-align: right;\n",
       "    }\n",
       "</style>\n",
       "<table border=\"1\" class=\"dataframe\">\n",
       "  <thead>\n",
       "    <tr style=\"text-align: right;\">\n",
       "      <th></th>\n",
       "      <th>homologado</th>\n",
       "      <th>id</th>\n",
       "      <th>peca_promocao</th>\n",
       "      <th>AUSÊNCIA DE IRREGULARIDADES</th>\n",
       "      <th>IRREGULARIDADE SANADA</th>\n",
       "      <th>NÃO COMPROVAÇÃO</th>\n",
       "      <th>INEXISTÊNCIA</th>\n",
       "      <th>SOLUCIONADA</th>\n",
       "      <th>EXAURIMENTO</th>\n",
       "      <th>EXAURIDA</th>\n",
       "      <th>...</th>\n",
       "      <th>INEXISTÊNCIA DE INDÍCIOS MÍNIMOS DE IRREGULARIDADES</th>\n",
       "      <th>RECOMENDAÇÃO EXPEDIDA E ACATADA</th>\n",
       "      <th>JUSTIFICATIVAS SATISFATÓRIAS</th>\n",
       "      <th>CORREÇÃO DAS FALHAS</th>\n",
       "      <th>AÇÃO AJUIZADA</th>\n",
       "      <th>QUESTÃO JUDICIALIZADA</th>\n",
       "      <th>DIREITO INDIVIDUAL</th>\n",
       "      <th>EXCESSO DE PESO</th>\n",
       "      <th>MAMOGRAFIA</th>\n",
       "      <th>SISCAN</th>\n",
       "    </tr>\n",
       "  </thead>\n",
       "  <tbody>\n",
       "    <tr>\n",
       "      <th>2112</th>\n",
       "      <td>1</td>\n",
       "      <td>81659908</td>\n",
       "      <td>EXCELENTÍSSIMO SENHOR DOUTOR JUIZ FEDERAL DA V...</td>\n",
       "      <td>0</td>\n",
       "      <td>0</td>\n",
       "      <td>0</td>\n",
       "      <td>0</td>\n",
       "      <td>0</td>\n",
       "      <td>0</td>\n",
       "      <td>0</td>\n",
       "      <td>...</td>\n",
       "      <td>0</td>\n",
       "      <td>0</td>\n",
       "      <td>0</td>\n",
       "      <td>0</td>\n",
       "      <td>1</td>\n",
       "      <td>0</td>\n",
       "      <td>0</td>\n",
       "      <td>11</td>\n",
       "      <td>0</td>\n",
       "      <td>0</td>\n",
       "    </tr>\n",
       "    <tr>\n",
       "      <th>476</th>\n",
       "      <td>1</td>\n",
       "      <td>79001758</td>\n",
       "      <td>Referência: Inquérito Civil nº 1.11.000.000788...</td>\n",
       "      <td>0</td>\n",
       "      <td>0</td>\n",
       "      <td>0</td>\n",
       "      <td>0</td>\n",
       "      <td>0</td>\n",
       "      <td>0</td>\n",
       "      <td>0</td>\n",
       "      <td>...</td>\n",
       "      <td>0</td>\n",
       "      <td>0</td>\n",
       "      <td>0</td>\n",
       "      <td>0</td>\n",
       "      <td>0</td>\n",
       "      <td>0</td>\n",
       "      <td>0</td>\n",
       "      <td>0</td>\n",
       "      <td>0</td>\n",
       "      <td>0</td>\n",
       "    </tr>\n",
       "    <tr>\n",
       "      <th>6590</th>\n",
       "      <td>1</td>\n",
       "      <td>65442335</td>\n",
       "      <td>CARTÓRIO DE PROCEDIMENTOS ADMINISTRATIVOS     ...</td>\n",
       "      <td>0</td>\n",
       "      <td>0</td>\n",
       "      <td>0</td>\n",
       "      <td>0</td>\n",
       "      <td>0</td>\n",
       "      <td>0</td>\n",
       "      <td>0</td>\n",
       "      <td>...</td>\n",
       "      <td>0</td>\n",
       "      <td>0</td>\n",
       "      <td>0</td>\n",
       "      <td>0</td>\n",
       "      <td>0</td>\n",
       "      <td>0</td>\n",
       "      <td>0</td>\n",
       "      <td>0</td>\n",
       "      <td>0</td>\n",
       "      <td>0</td>\n",
       "    </tr>\n",
       "    <tr>\n",
       "      <th>1120</th>\n",
       "      <td>1</td>\n",
       "      <td>82868345</td>\n",
       "      <td>EXMO   MINISTÉRIO PÚBLICO FEDERAL PROCURADORIA...</td>\n",
       "      <td>1</td>\n",
       "      <td>0</td>\n",
       "      <td>0</td>\n",
       "      <td>0</td>\n",
       "      <td>0</td>\n",
       "      <td>0</td>\n",
       "      <td>0</td>\n",
       "      <td>...</td>\n",
       "      <td>0</td>\n",
       "      <td>0</td>\n",
       "      <td>0</td>\n",
       "      <td>0</td>\n",
       "      <td>0</td>\n",
       "      <td>0</td>\n",
       "      <td>0</td>\n",
       "      <td>0</td>\n",
       "      <td>0</td>\n",
       "      <td>0</td>\n",
       "    </tr>\n",
       "    <tr>\n",
       "      <th>1708</th>\n",
       "      <td>1</td>\n",
       "      <td>80452133</td>\n",
       "      <td>Inquérito Civil nº 1.34.016.001061/2017-38  PR...</td>\n",
       "      <td>0</td>\n",
       "      <td>0</td>\n",
       "      <td>0</td>\n",
       "      <td>0</td>\n",
       "      <td>0</td>\n",
       "      <td>0</td>\n",
       "      <td>0</td>\n",
       "      <td>...</td>\n",
       "      <td>0</td>\n",
       "      <td>0</td>\n",
       "      <td>0</td>\n",
       "      <td>0</td>\n",
       "      <td>0</td>\n",
       "      <td>0</td>\n",
       "      <td>0</td>\n",
       "      <td>0</td>\n",
       "      <td>0</td>\n",
       "      <td>0</td>\n",
       "    </tr>\n",
       "    <tr>\n",
       "      <th>952</th>\n",
       "      <td>1</td>\n",
       "      <td>82960693</td>\n",
       "      <td>MINISTÉRIO PÚBLICO FEDERAL PROCURADORIA DA REP...</td>\n",
       "      <td>0</td>\n",
       "      <td>0</td>\n",
       "      <td>0</td>\n",
       "      <td>0</td>\n",
       "      <td>0</td>\n",
       "      <td>0</td>\n",
       "      <td>0</td>\n",
       "      <td>...</td>\n",
       "      <td>0</td>\n",
       "      <td>0</td>\n",
       "      <td>0</td>\n",
       "      <td>0</td>\n",
       "      <td>0</td>\n",
       "      <td>0</td>\n",
       "      <td>1</td>\n",
       "      <td>0</td>\n",
       "      <td>0</td>\n",
       "      <td>0</td>\n",
       "    </tr>\n",
       "    <tr>\n",
       "      <th>5035</th>\n",
       "      <td>1</td>\n",
       "      <td>71804362</td>\n",
       "      <td>Procedimento Preparatório nº 1.22.021.000032/2...</td>\n",
       "      <td>0</td>\n",
       "      <td>0</td>\n",
       "      <td>0</td>\n",
       "      <td>0</td>\n",
       "      <td>0</td>\n",
       "      <td>0</td>\n",
       "      <td>0</td>\n",
       "      <td>...</td>\n",
       "      <td>0</td>\n",
       "      <td>0</td>\n",
       "      <td>0</td>\n",
       "      <td>0</td>\n",
       "      <td>0</td>\n",
       "      <td>0</td>\n",
       "      <td>0</td>\n",
       "      <td>0</td>\n",
       "      <td>0</td>\n",
       "      <td>0</td>\n",
       "    </tr>\n",
       "    <tr>\n",
       "      <th>5678</th>\n",
       "      <td>1</td>\n",
       "      <td>47236348</td>\n",
       "      <td>PROMOÇÃO DE ARQUIVAMENTO 927/2016 - MPF/PRDF/1...</td>\n",
       "      <td>0</td>\n",
       "      <td>0</td>\n",
       "      <td>0</td>\n",
       "      <td>0</td>\n",
       "      <td>0</td>\n",
       "      <td>0</td>\n",
       "      <td>0</td>\n",
       "      <td>...</td>\n",
       "      <td>0</td>\n",
       "      <td>0</td>\n",
       "      <td>0</td>\n",
       "      <td>0</td>\n",
       "      <td>0</td>\n",
       "      <td>0</td>\n",
       "      <td>0</td>\n",
       "      <td>0</td>\n",
       "      <td>0</td>\n",
       "      <td>0</td>\n",
       "    </tr>\n",
       "    <tr>\n",
       "      <th>6574</th>\n",
       "      <td>1</td>\n",
       "      <td>64428196</td>\n",
       "      <td>Procedimento Preparatório nº 1.21.001.000050/2...</td>\n",
       "      <td>0</td>\n",
       "      <td>0</td>\n",
       "      <td>0</td>\n",
       "      <td>0</td>\n",
       "      <td>0</td>\n",
       "      <td>0</td>\n",
       "      <td>0</td>\n",
       "      <td>...</td>\n",
       "      <td>0</td>\n",
       "      <td>0</td>\n",
       "      <td>0</td>\n",
       "      <td>0</td>\n",
       "      <td>0</td>\n",
       "      <td>0</td>\n",
       "      <td>0</td>\n",
       "      <td>0</td>\n",
       "      <td>0</td>\n",
       "      <td>0</td>\n",
       "    </tr>\n",
       "    <tr>\n",
       "      <th>2047</th>\n",
       "      <td>1</td>\n",
       "      <td>83543400</td>\n",
       "      <td>MINISTÉRIO PÚBLICO FEDERALMINISTÉRIO PÚBLICO F...</td>\n",
       "      <td>0</td>\n",
       "      <td>0</td>\n",
       "      <td>0</td>\n",
       "      <td>0</td>\n",
       "      <td>0</td>\n",
       "      <td>0</td>\n",
       "      <td>0</td>\n",
       "      <td>...</td>\n",
       "      <td>0</td>\n",
       "      <td>0</td>\n",
       "      <td>0</td>\n",
       "      <td>0</td>\n",
       "      <td>0</td>\n",
       "      <td>0</td>\n",
       "      <td>0</td>\n",
       "      <td>0</td>\n",
       "      <td>0</td>\n",
       "      <td>0</td>\n",
       "    </tr>\n",
       "  </tbody>\n",
       "</table>\n",
       "<p>10 rows × 28 columns</p>\n",
       "</div>"
      ],
      "text/plain": [
       "      homologado        id                                      peca_promocao  \\\n",
       "2112           1  81659908  EXCELENTÍSSIMO SENHOR DOUTOR JUIZ FEDERAL DA V...   \n",
       "476            1  79001758  Referência: Inquérito Civil nº 1.11.000.000788...   \n",
       "6590           1  65442335  CARTÓRIO DE PROCEDIMENTOS ADMINISTRATIVOS     ...   \n",
       "1120           1  82868345  EXMO   MINISTÉRIO PÚBLICO FEDERAL PROCURADORIA...   \n",
       "1708           1  80452133  Inquérito Civil nº 1.34.016.001061/2017-38  PR...   \n",
       "952            1  82960693  MINISTÉRIO PÚBLICO FEDERAL PROCURADORIA DA REP...   \n",
       "5035           1  71804362  Procedimento Preparatório nº 1.22.021.000032/2...   \n",
       "5678           1  47236348  PROMOÇÃO DE ARQUIVAMENTO 927/2016 - MPF/PRDF/1...   \n",
       "6574           1  64428196  Procedimento Preparatório nº 1.21.001.000050/2...   \n",
       "2047           1  83543400  MINISTÉRIO PÚBLICO FEDERALMINISTÉRIO PÚBLICO F...   \n",
       "\n",
       "      AUSÊNCIA DE IRREGULARIDADES  IRREGULARIDADE SANADA  NÃO COMPROVAÇÃO  \\\n",
       "2112                            0                      0                0   \n",
       "476                             0                      0                0   \n",
       "6590                            0                      0                0   \n",
       "1120                            1                      0                0   \n",
       "1708                            0                      0                0   \n",
       "952                             0                      0                0   \n",
       "5035                            0                      0                0   \n",
       "5678                            0                      0                0   \n",
       "6574                            0                      0                0   \n",
       "2047                            0                      0                0   \n",
       "\n",
       "      INEXISTÊNCIA  SOLUCIONADA  EXAURIMENTO  EXAURIDA   ...    \\\n",
       "2112             0            0            0         0   ...     \n",
       "476              0            0            0         0   ...     \n",
       "6590             0            0            0         0   ...     \n",
       "1120             0            0            0         0   ...     \n",
       "1708             0            0            0         0   ...     \n",
       "952              0            0            0         0   ...     \n",
       "5035             0            0            0         0   ...     \n",
       "5678             0            0            0         0   ...     \n",
       "6574             0            0            0         0   ...     \n",
       "2047             0            0            0         0   ...     \n",
       "\n",
       "      INEXISTÊNCIA DE INDÍCIOS MÍNIMOS DE IRREGULARIDADES  \\\n",
       "2112                                                  0     \n",
       "476                                                   0     \n",
       "6590                                                  0     \n",
       "1120                                                  0     \n",
       "1708                                                  0     \n",
       "952                                                   0     \n",
       "5035                                                  0     \n",
       "5678                                                  0     \n",
       "6574                                                  0     \n",
       "2047                                                  0     \n",
       "\n",
       "      RECOMENDAÇÃO EXPEDIDA E ACATADA  JUSTIFICATIVAS SATISFATÓRIAS  \\\n",
       "2112                                0                             0   \n",
       "476                                 0                             0   \n",
       "6590                                0                             0   \n",
       "1120                                0                             0   \n",
       "1708                                0                             0   \n",
       "952                                 0                             0   \n",
       "5035                                0                             0   \n",
       "5678                                0                             0   \n",
       "6574                                0                             0   \n",
       "2047                                0                             0   \n",
       "\n",
       "      CORREÇÃO DAS FALHAS  AÇÃO AJUIZADA  QUESTÃO JUDICIALIZADA  \\\n",
       "2112                    0              1                      0   \n",
       "476                     0              0                      0   \n",
       "6590                    0              0                      0   \n",
       "1120                    0              0                      0   \n",
       "1708                    0              0                      0   \n",
       "952                     0              0                      0   \n",
       "5035                    0              0                      0   \n",
       "5678                    0              0                      0   \n",
       "6574                    0              0                      0   \n",
       "2047                    0              0                      0   \n",
       "\n",
       "      DIREITO INDIVIDUAL  EXCESSO DE PESO  MAMOGRAFIA  SISCAN  \n",
       "2112                   0               11           0       0  \n",
       "476                    0                0           0       0  \n",
       "6590                   0                0           0       0  \n",
       "1120                   0                0           0       0  \n",
       "1708                   0                0           0       0  \n",
       "952                    1                0           0       0  \n",
       "5035                   0                0           0       0  \n",
       "5678                   0                0           0       0  \n",
       "6574                   0                0           0       0  \n",
       "2047                   0                0           0       0  \n",
       "\n",
       "[10 rows x 28 columns]"
      ]
     },
     "execution_count": 12,
     "metadata": {},
     "output_type": "execute_result"
    }
   ],
   "source": [
    "import re\n",
    "\n",
    "for i in range(len(palavras_chaves)):\n",
    "    if palavras_chaves['palavras-chaves'][i].rfind('+') == -1:\n",
    "        regex = re.compile(palavras_chaves['expressao-regular'][i], re.IGNORECASE)\n",
    "        column = palavras_chaves['palavras-chaves'][i]\n",
    "        for key in range(len(df_work)):\n",
    "            n_present = len(re.findall(regex, df_work['peca_promocao'][key]))\n",
    "            df_work.loc[key, column] = n_present\n",
    "            #if re.search(regex, df_work['peca_promocao'][key]):\n",
    "            #    df_work.loc[key, column] = 1\n",
    "            \n",
    "df_work.sample(10)"
   ]
  },
  {
   "cell_type": "markdown",
   "metadata": {},
   "source": [
    "# Correlacionando as palavras-chaves com a homologação/não homologação\n",
    "\n",
    "A ideia aqui é mostrar o percentual de presença/ausência de palavras chaves e suas relações com a variável dependente."
   ]
  },
  {
   "cell_type": "code",
   "execution_count": 13,
   "metadata": {},
   "outputs": [
    {
     "data": {
      "text/plain": [
       "(6612, 101)"
      ]
     },
     "execution_count": 13,
     "metadata": {},
     "output_type": "execute_result"
    }
   ],
   "source": [
    "df_homologado = df_work[df_work['homologado'] == 1]\n",
    "df_nao_homologado = df_work[df_work['homologado'] == 0]\n",
    "len(df_homologado), len(df_nao_homologado)"
   ]
  },
  {
   "cell_type": "code",
   "execution_count": 14,
   "metadata": {},
   "outputs": [
    {
     "data": {
      "text/html": [
       "<div>\n",
       "<style scoped>\n",
       "    .dataframe tbody tr th:only-of-type {\n",
       "        vertical-align: middle;\n",
       "    }\n",
       "\n",
       "    .dataframe tbody tr th {\n",
       "        vertical-align: top;\n",
       "    }\n",
       "\n",
       "    .dataframe thead th {\n",
       "        text-align: right;\n",
       "    }\n",
       "</style>\n",
       "<table border=\"1\" class=\"dataframe\">\n",
       "  <thead>\n",
       "    <tr style=\"text-align: right;\">\n",
       "      <th></th>\n",
       "      <th>Palavra-Chave</th>\n",
       "      <th>Total</th>\n",
       "      <th>#Homologados</th>\n",
       "      <th>#Não Homologados</th>\n",
       "      <th>% Homologados</th>\n",
       "    </tr>\n",
       "  </thead>\n",
       "  <tbody>\n",
       "    <tr>\n",
       "      <th>0</th>\n",
       "      <td>AUSÊNCIA DE IRREGULARIDADES</td>\n",
       "      <td>426</td>\n",
       "      <td>420</td>\n",
       "      <td>6</td>\n",
       "      <td>98.59</td>\n",
       "    </tr>\n",
       "    <tr>\n",
       "      <th>1</th>\n",
       "      <td>IRREGULARIDADE SANADA</td>\n",
       "      <td>42</td>\n",
       "      <td>42</td>\n",
       "      <td>0</td>\n",
       "      <td>100.00</td>\n",
       "    </tr>\n",
       "    <tr>\n",
       "      <th>2</th>\n",
       "      <td>NÃO COMPROVAÇÃO</td>\n",
       "      <td>35</td>\n",
       "      <td>33</td>\n",
       "      <td>2</td>\n",
       "      <td>94.29</td>\n",
       "    </tr>\n",
       "    <tr>\n",
       "      <th>3</th>\n",
       "      <td>INEXISTÊNCIA</td>\n",
       "      <td>1118</td>\n",
       "      <td>1100</td>\n",
       "      <td>18</td>\n",
       "      <td>98.39</td>\n",
       "    </tr>\n",
       "    <tr>\n",
       "      <th>4</th>\n",
       "      <td>SOLUCIONADA</td>\n",
       "      <td>165</td>\n",
       "      <td>161</td>\n",
       "      <td>4</td>\n",
       "      <td>97.58</td>\n",
       "    </tr>\n",
       "    <tr>\n",
       "      <th>5</th>\n",
       "      <td>EXAURIMENTO</td>\n",
       "      <td>92</td>\n",
       "      <td>91</td>\n",
       "      <td>1</td>\n",
       "      <td>98.91</td>\n",
       "    </tr>\n",
       "    <tr>\n",
       "      <th>6</th>\n",
       "      <td>EXAURIDA</td>\n",
       "      <td>93</td>\n",
       "      <td>92</td>\n",
       "      <td>1</td>\n",
       "      <td>98.92</td>\n",
       "    </tr>\n",
       "    <tr>\n",
       "      <th>7</th>\n",
       "      <td>PERDA DE OBJETO</td>\n",
       "      <td>44</td>\n",
       "      <td>43</td>\n",
       "      <td>1</td>\n",
       "      <td>97.73</td>\n",
       "    </tr>\n",
       "    <tr>\n",
       "      <th>8</th>\n",
       "      <td>IRREGULARIDADE NÃO COMPROVADA</td>\n",
       "      <td>7</td>\n",
       "      <td>7</td>\n",
       "      <td>0</td>\n",
       "      <td>100.00</td>\n",
       "    </tr>\n",
       "    <tr>\n",
       "      <th>9</th>\n",
       "      <td>INEXISTÊNCIA DE INDÍCIOS DE IRREGULARIDADE</td>\n",
       "      <td>4</td>\n",
       "      <td>4</td>\n",
       "      <td>0</td>\n",
       "      <td>100.00</td>\n",
       "    </tr>\n",
       "    <tr>\n",
       "      <th>10</th>\n",
       "      <td>IRREGULARIDADE NÃO CONFIRMADA</td>\n",
       "      <td>3</td>\n",
       "      <td>3</td>\n",
       "      <td>0</td>\n",
       "      <td>100.00</td>\n",
       "    </tr>\n",
       "    <tr>\n",
       "      <th>11</th>\n",
       "      <td>RECOMENDAÇÃO ATENDIDA</td>\n",
       "      <td>10</td>\n",
       "      <td>10</td>\n",
       "      <td>0</td>\n",
       "      <td>100.00</td>\n",
       "    </tr>\n",
       "    <tr>\n",
       "      <th>12</th>\n",
       "      <td>RECOMENDAÇÃO ACATADA</td>\n",
       "      <td>12</td>\n",
       "      <td>12</td>\n",
       "      <td>0</td>\n",
       "      <td>100.00</td>\n",
       "    </tr>\n",
       "    <tr>\n",
       "      <th>13</th>\n",
       "      <td>CUMPRIDAS</td>\n",
       "      <td>333</td>\n",
       "      <td>329</td>\n",
       "      <td>4</td>\n",
       "      <td>98.80</td>\n",
       "    </tr>\n",
       "    <tr>\n",
       "      <th>14</th>\n",
       "      <td>ADOTADAS</td>\n",
       "      <td>1684</td>\n",
       "      <td>1655</td>\n",
       "      <td>29</td>\n",
       "      <td>98.28</td>\n",
       "    </tr>\n",
       "    <tr>\n",
       "      <th>15</th>\n",
       "      <td>INEXISTÊNCIA DE INDÍCIOS MÍNIMOS DE IRREGULARI...</td>\n",
       "      <td>0</td>\n",
       "      <td>0</td>\n",
       "      <td>0</td>\n",
       "      <td>0.00</td>\n",
       "    </tr>\n",
       "    <tr>\n",
       "      <th>16</th>\n",
       "      <td>RECOMENDAÇÃO EXPEDIDA E ACATADA</td>\n",
       "      <td>0</td>\n",
       "      <td>0</td>\n",
       "      <td>0</td>\n",
       "      <td>0.00</td>\n",
       "    </tr>\n",
       "    <tr>\n",
       "      <th>17</th>\n",
       "      <td>JUSTIFICATIVAS SATISFATÓRIAS</td>\n",
       "      <td>1</td>\n",
       "      <td>1</td>\n",
       "      <td>0</td>\n",
       "      <td>100.00</td>\n",
       "    </tr>\n",
       "    <tr>\n",
       "      <th>18</th>\n",
       "      <td>CORREÇÃO DAS FALHAS</td>\n",
       "      <td>18</td>\n",
       "      <td>17</td>\n",
       "      <td>1</td>\n",
       "      <td>94.44</td>\n",
       "    </tr>\n",
       "    <tr>\n",
       "      <th>19</th>\n",
       "      <td>AÇÃO AJUIZADA</td>\n",
       "      <td>39</td>\n",
       "      <td>39</td>\n",
       "      <td>0</td>\n",
       "      <td>100.00</td>\n",
       "    </tr>\n",
       "    <tr>\n",
       "      <th>20</th>\n",
       "      <td>QUESTÃO JUDICIALIZADA</td>\n",
       "      <td>20</td>\n",
       "      <td>20</td>\n",
       "      <td>0</td>\n",
       "      <td>100.00</td>\n",
       "    </tr>\n",
       "    <tr>\n",
       "      <th>21</th>\n",
       "      <td>DIREITO INDIVIDUAL</td>\n",
       "      <td>338</td>\n",
       "      <td>336</td>\n",
       "      <td>2</td>\n",
       "      <td>99.41</td>\n",
       "    </tr>\n",
       "    <tr>\n",
       "      <th>22</th>\n",
       "      <td>EXCESSO DE PESO</td>\n",
       "      <td>172</td>\n",
       "      <td>172</td>\n",
       "      <td>0</td>\n",
       "      <td>100.00</td>\n",
       "    </tr>\n",
       "    <tr>\n",
       "      <th>23</th>\n",
       "      <td>MAMOGRAFIA</td>\n",
       "      <td>27</td>\n",
       "      <td>27</td>\n",
       "      <td>0</td>\n",
       "      <td>100.00</td>\n",
       "    </tr>\n",
       "    <tr>\n",
       "      <th>24</th>\n",
       "      <td>SISCAN</td>\n",
       "      <td>37</td>\n",
       "      <td>37</td>\n",
       "      <td>0</td>\n",
       "      <td>100.00</td>\n",
       "    </tr>\n",
       "  </tbody>\n",
       "</table>\n",
       "</div>"
      ],
      "text/plain": [
       "                                        Palavra-Chave Total #Homologados  \\\n",
       "0                         AUSÊNCIA DE IRREGULARIDADES   426          420   \n",
       "1                               IRREGULARIDADE SANADA    42           42   \n",
       "2                                     NÃO COMPROVAÇÃO    35           33   \n",
       "3                                        INEXISTÊNCIA  1118         1100   \n",
       "4                                         SOLUCIONADA   165          161   \n",
       "5                                         EXAURIMENTO    92           91   \n",
       "6                                            EXAURIDA    93           92   \n",
       "7                                     PERDA DE OBJETO    44           43   \n",
       "8                       IRREGULARIDADE NÃO COMPROVADA     7            7   \n",
       "9          INEXISTÊNCIA DE INDÍCIOS DE IRREGULARIDADE     4            4   \n",
       "10                      IRREGULARIDADE NÃO CONFIRMADA     3            3   \n",
       "11                              RECOMENDAÇÃO ATENDIDA    10           10   \n",
       "12                               RECOMENDAÇÃO ACATADA    12           12   \n",
       "13                                          CUMPRIDAS   333          329   \n",
       "14                                           ADOTADAS  1684         1655   \n",
       "15  INEXISTÊNCIA DE INDÍCIOS MÍNIMOS DE IRREGULARI...     0            0   \n",
       "16                    RECOMENDAÇÃO EXPEDIDA E ACATADA     0            0   \n",
       "17                       JUSTIFICATIVAS SATISFATÓRIAS     1            1   \n",
       "18                                CORREÇÃO DAS FALHAS    18           17   \n",
       "19                                      AÇÃO AJUIZADA    39           39   \n",
       "20                              QUESTÃO JUDICIALIZADA    20           20   \n",
       "21                                 DIREITO INDIVIDUAL   338          336   \n",
       "22                                    EXCESSO DE PESO   172          172   \n",
       "23                                         MAMOGRAFIA    27           27   \n",
       "24                                             SISCAN    37           37   \n",
       "\n",
       "   #Não Homologados  % Homologados  \n",
       "0                 6          98.59  \n",
       "1                 0         100.00  \n",
       "2                 2          94.29  \n",
       "3                18          98.39  \n",
       "4                 4          97.58  \n",
       "5                 1          98.91  \n",
       "6                 1          98.92  \n",
       "7                 1          97.73  \n",
       "8                 0         100.00  \n",
       "9                 0         100.00  \n",
       "10                0         100.00  \n",
       "11                0         100.00  \n",
       "12                0         100.00  \n",
       "13                4          98.80  \n",
       "14               29          98.28  \n",
       "15                0           0.00  \n",
       "16                0           0.00  \n",
       "17                0         100.00  \n",
       "18                1          94.44  \n",
       "19                0         100.00  \n",
       "20                0         100.00  \n",
       "21                2          99.41  \n",
       "22                0         100.00  \n",
       "23                0         100.00  \n",
       "24                0         100.00  "
      ]
     },
     "execution_count": 14,
     "metadata": {},
     "output_type": "execute_result"
    }
   ],
   "source": [
    "df_result_pc = pd.DataFrame(columns=['Palavra-Chave', 'Total', '#Homologados', '#Não Homologados', '% Homologados'])\n",
    "\n",
    "for i in range(len(palavras_chaves)):\n",
    "    if palavras_chaves['palavras-chaves'][i].rfind('+') == -1:\n",
    "        column = str(palavras_chaves['palavras-chaves'][i])\n",
    "        q_homologados = len(df_homologado[df_homologado[column] != 0])\n",
    "        q_nhomologados = len(df_nao_homologado[df_nao_homologado[column] != 0])\n",
    "        total = q_homologados + q_nhomologados\n",
    "        percentual = 0\n",
    "        if total != 0:\n",
    "            percentual = (q_homologados/total)*100\n",
    "        df_result_pc = df_result_pc.append({'Palavra-Chave': column, 'Total':total, \n",
    "                                            '#Homologados': q_homologados, '#Não Homologados': q_nhomologados, \n",
    "                                            '% Homologados':round(percentual,2)}, ignore_index=True)\n",
    "\n",
    "df_result_pc"
   ]
  },
  {
   "cell_type": "markdown",
   "metadata": {},
   "source": [
    "**IMPORTANTE**\n",
    "\n",
    "Verificar os casos acima, de não homologados, em que há as palavras-chaves listadas:\n",
    "\n",
    "- Perda de Objeto (*nesse caso, o procedimento foi enviado erroneamente para a 1A.CAM - era da 7A.CAM*)\n",
    "- Correção de Falhas\n",
    "- Não comprovação\n",
    "- Direito Individual\n",
    "- Ausência de Irregularidades (1.23.000.001516/2017-78)"
   ]
  },
  {
   "cell_type": "markdown",
   "metadata": {},
   "source": [
    "Algumas palavras aparecem e uma quantidade significativa nas 2 classes. Exemplos: ADOTADAS e INEXISTENCIA. Talvez valha a pena treinar um modelo sem elas."
   ]
  },
  {
   "cell_type": "markdown",
   "metadata": {},
   "source": [
    "# Treinando um modelo com Random Forest"
   ]
  },
  {
   "cell_type": "code",
   "execution_count": 15,
   "metadata": {},
   "outputs": [
    {
     "data": {
      "text/plain": [
       "((5034, 28), (1679, 28))"
      ]
     },
     "execution_count": 15,
     "metadata": {},
     "output_type": "execute_result"
    }
   ],
   "source": [
    "# vamos treinar o modelo\n",
    "from sklearn.model_selection import train_test_split\n",
    "\n",
    "train, valid = train_test_split(df_work, random_state=42)\n",
    "train.shape, valid.shape"
   ]
  },
  {
   "cell_type": "code",
   "execution_count": 16,
   "metadata": {},
   "outputs": [
    {
     "data": {
      "text/plain": [
       "RandomForestClassifier(bootstrap=True, class_weight=None, criterion='gini',\n",
       "            max_depth=None, max_features='auto', max_leaf_nodes=None,\n",
       "            min_impurity_decrease=0.0, min_impurity_split=None,\n",
       "            min_samples_leaf=1, min_samples_split=2,\n",
       "            min_weight_fraction_leaf=0.0, n_estimators=100, n_jobs=1,\n",
       "            oob_score=False, random_state=42, verbose=0, warm_start=False)"
      ]
     },
     "execution_count": 16,
     "metadata": {},
     "output_type": "execute_result"
    }
   ],
   "source": [
    "cols_to_remove = ['id', 'peca_promocao', 'homologado']\n",
    "features = [col for col in df_work.columns if col not in cols_to_remove]\n",
    "\n",
    "model = RandomForestClassifier(random_state=42, n_estimators=100)\n",
    "model.fit(train[features], train['homologado'])"
   ]
  },
  {
   "cell_type": "code",
   "execution_count": 17,
   "metadata": {},
   "outputs": [
    {
     "data": {
      "text/plain": [
       "0.9856972586412396"
      ]
     },
     "execution_count": 17,
     "metadata": {},
     "output_type": "execute_result"
    }
   ],
   "source": [
    "model.score(train[features], train['homologado'])"
   ]
  },
  {
   "cell_type": "code",
   "execution_count": 18,
   "metadata": {},
   "outputs": [
    {
     "name": "stdout",
     "output_type": "stream",
     "text": [
      "Accuracy score: 0.9839189994044074\n",
      "Precision score:  0.9839189994044074\n",
      "Recall score:  1.0\n",
      "F1 score:  0.9918943260282198\n"
     ]
    }
   ],
   "source": [
    "train_preds = model.predict(train[features])\n",
    "valid_preds = model.predict(valid[features])\n",
    "\n",
    "from sklearn.metrics import accuracy_score, precision_score, recall_score, f1_score\n",
    "\n",
    "def print_score():\n",
    "    print('Accuracy score:', accuracy_score(valid['homologado'], valid_preds))\n",
    "    print('Precision score: ', format(precision_score(valid['homologado'], valid_preds)))\n",
    "    print('Recall score: ', format(recall_score(valid['homologado'], valid_preds)))\n",
    "    print('F1 score: ', format(f1_score(valid['homologado'], valid_preds)))\n",
    "\n",
    "    \n",
    "print_score()"
   ]
  },
  {
   "cell_type": "code",
   "execution_count": 19,
   "metadata": {},
   "outputs": [
    {
     "data": {
      "text/plain": [
       "array([[   0,   27],\n",
       "       [   0, 1652]], dtype=int64)"
      ]
     },
     "execution_count": 19,
     "metadata": {},
     "output_type": "execute_result"
    }
   ],
   "source": [
    "from sklearn.metrics import confusion_matrix\n",
    "\n",
    "confusion_matrix(valid['homologado'], valid_preds)"
   ]
  },
  {
   "cell_type": "markdown",
   "metadata": {},
   "source": [
    "### Feature Importance"
   ]
  },
  {
   "cell_type": "code",
   "execution_count": 20,
   "metadata": {},
   "outputs": [
    {
     "data": {
      "image/png": "[encoded data removed]",
      "text/plain": [
       "<Figure size 432x288 with 1 Axes>"
      ]
     },
     "metadata": {},
     "output_type": "display_data"
    }
   ],
   "source": [
    "import matplotlib.pyplot as plt\n",
    "\n",
    "def plot_fi(feature_importances, size=None):\n",
    "    feature_importances = model.feature_importances_\n",
    "    \n",
    "    if not size:\n",
    "        size = len(feature_importances)\n",
    "    \n",
    "    indices = np.argsort(feature_importances[0:size])\n",
    "    \n",
    "    plt.title('Feature Importances')\n",
    "    plt.barh(range(size), feature_importances[indices], color='b', align='center')\n",
    "    plt.yticks(range(size), [features[i] for i in indices if i < size])\n",
    "    plt.xlabel('Relative Importance')\n",
    "    plt.show()\n",
    "    \n",
    "plot_fi(model.feature_importances_)"
   ]
  },
  {
   "cell_type": "markdown",
   "metadata": {},
   "source": [
    "Vou retirar as *features* com importância menor que 5%."
   ]
  },
  {
   "cell_type": "code",
   "execution_count": 21,
   "metadata": {},
   "outputs": [],
   "source": [
    "important_features = []\n",
    "indices = np.argsort(model.feature_importances_)\n",
    "model.feature_importances_, indices\n",
    "\n",
    "size = len(model.feature_importances_)\n",
    "important_features = [features[i] for i in indices if i < size and model.feature_importances_[i] >= 0.05]"
   ]
  },
  {
   "cell_type": "code",
   "execution_count": 22,
   "metadata": {},
   "outputs": [
    {
     "name": "stdout",
     "output_type": "stream",
     "text": [
      "Accuracy score: 0.9839189994044074\n",
      "Precision score:  0.9839189994044074\n",
      "Recall score:  1.0\n",
      "F1 score:  0.9918943260282198\n"
     ]
    }
   ],
   "source": [
    "model = RandomForestClassifier(random_state=42, n_estimators=100)\n",
    "\n",
    "\n",
    "model.fit(train[important_features], train['homologado'])\n",
    "train_preds = model.predict(train[important_features])\n",
    "valid_preds = model.predict(valid[important_features])\n",
    "\n",
    "print_score()"
   ]
  },
  {
   "cell_type": "code",
   "execution_count": 23,
   "metadata": {},
   "outputs": [
    {
     "data": {
      "text/plain": [
       "array([[   0,   27],\n",
       "       [   0, 1652]], dtype=int64)"
      ]
     },
     "execution_count": 23,
     "metadata": {},
     "output_type": "execute_result"
    }
   ],
   "source": [
    "confusion_matrix(valid['homologado'], valid_preds)"
   ]
  },
  {
   "cell_type": "code",
   "execution_count": 24,
   "metadata": {},
   "outputs": [
    {
     "data": {
      "image/png": "[encoded data removed]",
      "text/plain": [
       "<Figure size 432x288 with 1 Axes>"
      ]
     },
     "metadata": {},
     "output_type": "display_data"
    }
   ],
   "source": [
    "plot_fi(model.feature_importances_)"
   ]
  },
  {
   "cell_type": "markdown",
   "metadata": {},
   "source": [
    "## Tentando com modelos lineares: LogisticRegression e Naive Bayes"
   ]
  },
  {
   "cell_type": "code",
   "execution_count": 25,
   "metadata": {},
   "outputs": [
    {
     "data": {
      "text/plain": [
       "LogisticRegression(C=0.1, class_weight=None, dual=False, fit_intercept=True,\n",
       "          intercept_scaling=1, max_iter=100, multi_class='ovr', n_jobs=1,\n",
       "          penalty='l2', random_state=42, solver='liblinear', tol=0.0001,\n",
       "          verbose=0, warm_start=False)"
      ]
     },
     "execution_count": 25,
     "metadata": {},
     "output_type": "execute_result"
    }
   ],
   "source": [
    "from sklearn.linear_model import LogisticRegression\n",
    "\n",
    "#train, valid = train_test_split(df_work, random_state=42)\n",
    "#train.shape, valid.shape\n",
    "\n",
    "clf = LogisticRegression(C=0.1, random_state=42)\n",
    "\n",
    "cols_to_remove = ['id', 'peca_promocao', 'homologado']\n",
    "features = [col for col in df_work.columns if col not in cols_to_remove]\n",
    "\n",
    "clf.fit(train[features], train['homologado'])"
   ]
  },
  {
   "cell_type": "code",
   "execution_count": 26,
   "metadata": {},
   "outputs": [
    {
     "name": "stdout",
     "output_type": "stream",
     "text": [
      "Accuracy score: 0.9839189994044074\n",
      "Precision score:  0.9839189994044074\n",
      "Recall score:  1.0\n",
      "F1 score:  0.9918943260282198\n"
     ]
    }
   ],
   "source": [
    "train_preds = clf.predict(train[features])\n",
    "valid_preds = clf.predict(valid[features])\n",
    "\n",
    "print_score()"
   ]
  },
  {
   "cell_type": "code",
   "execution_count": 27,
   "metadata": {},
   "outputs": [
    {
     "data": {
      "text/plain": [
       "array([[   0,   27],\n",
       "       [   0, 1652]], dtype=int64)"
      ]
     },
     "execution_count": 27,
     "metadata": {},
     "output_type": "execute_result"
    }
   ],
   "source": [
    "confusion_matrix(valid['homologado'], valid_preds)"
   ]
  },
  {
   "cell_type": "code",
   "execution_count": 28,
   "metadata": {},
   "outputs": [
    {
     "data": {
      "text/plain": [
       "MultinomialNB(alpha=1.0, class_prior=None, fit_prior=True)"
      ]
     },
     "execution_count": 28,
     "metadata": {},
     "output_type": "execute_result"
    }
   ],
   "source": [
    "from sklearn.naive_bayes import MultinomialNB\n",
    "\n",
    "nb = MultinomialNB()\n",
    "\n",
    "nb.fit(train[features], train['homologado'])"
   ]
  },
  {
   "cell_type": "code",
   "execution_count": 29,
   "metadata": {},
   "outputs": [
    {
     "name": "stdout",
     "output_type": "stream",
     "text": [
      "Accuracy score: 0.9833234067897558\n",
      "Precision score:  0.9839094159713945\n",
      "Recall score:  0.9993946731234867\n",
      "F1 score:  0.9915915915915916\n"
     ]
    }
   ],
   "source": [
    "train_preds = nb.predict(train[features])\n",
    "valid_preds = nb.predict(valid[features])\n",
    "\n",
    "print_score()"
   ]
  },
  {
   "cell_type": "code",
   "execution_count": 30,
   "metadata": {},
   "outputs": [
    {
     "data": {
      "text/plain": [
       "array([[   0,   27],\n",
       "       [   1, 1651]], dtype=int64)"
      ]
     },
     "execution_count": 30,
     "metadata": {},
     "output_type": "execute_result"
    }
   ],
   "source": [
    "confusion_matrix(valid['homologado'], valid_preds)"
   ]
  },
  {
   "cell_type": "markdown",
   "metadata": {},
   "source": [
    "### Conclusão\n",
    "\n",
    "O modelo com palavras-chaves não se mostrou muito bom. As palavras-chaves são bons indicadores, mas não são suficientes, por si só, para o treino de um modelo."
   ]
  },
  {
   "cell_type": "markdown",
   "metadata": {},
   "source": [
    "## Tratando as classes desbalanceadas"
   ]
  },
  {
   "cell_type": "code",
   "execution_count": 59,
   "metadata": {},
   "outputs": [
    {
     "data": {
      "text/plain": [
       "((6713, 28), (6713, 28))"
      ]
     },
     "execution_count": 59,
     "metadata": {},
     "output_type": "execute_result"
    }
   ],
   "source": [
    "df_bal = df_work.copy()\n",
    "df_bal.shape, df_work.shape"
   ]
  },
  {
   "cell_type": "code",
   "execution_count": 60,
   "metadata": {},
   "outputs": [],
   "source": [
    "cols_to_remove = ['id', 'peca_promocao', 'homologado']\n",
    "features = [col for col in df_bal.columns if col not in cols_to_remove]"
   ]
  },
  {
   "cell_type": "code",
   "execution_count": 61,
   "metadata": {},
   "outputs": [
    {
     "data": {
      "text/plain": [
       "101"
      ]
     },
     "execution_count": 61,
     "metadata": {},
     "output_type": "execute_result"
    }
   ],
   "source": [
    "nao_homologado = df_bal[df_bal['homologado'] == 0]\n",
    "len(nao_homologado)"
   ]
  },
  {
   "cell_type": "code",
   "execution_count": 62,
   "metadata": {},
   "outputs": [
    {
     "name": "stdout",
     "output_type": "stream",
     "text": [
      "6612 2121\n"
     ]
    },
    {
     "data": {
      "text/plain": [
       "(8733, 28)"
      ]
     },
     "execution_count": 62,
     "metadata": {},
     "output_type": "execute_result"
    }
   ],
   "source": [
    "for n in range(0,20):\n",
    "    df_bal = df_bal.append(nao_homologado, ignore_index=True)\n",
    "\n",
    "print(len(df_bal[df_bal['homologado']==1]), len(df_bal[df_bal['homologado']==0]))\n",
    "df_bal.shape"
   ]
  },
  {
   "cell_type": "code",
   "execution_count": 63,
   "metadata": {},
   "outputs": [],
   "source": [
    "from sklearn.utils import shuffle\n",
    "\n",
    "df_bal = shuffle(df_bal, random_state=42)"
   ]
  },
  {
   "cell_type": "code",
   "execution_count": 64,
   "metadata": {},
   "outputs": [
    {
     "data": {
      "text/plain": [
       "((6986, 28), (1747, 28))"
      ]
     },
     "execution_count": 64,
     "metadata": {},
     "output_type": "execute_result"
    }
   ],
   "source": [
    "train, valid = train_test_split(df_bal, random_state=42, test_size = 0.2)\n",
    "train.shape, valid.shape"
   ]
  },
  {
   "cell_type": "code",
   "execution_count": 65,
   "metadata": {},
   "outputs": [],
   "source": [
    "def print_score():\n",
    "    print('Accuracy score:', accuracy_score(valid['homologado'], valid_preds))\n",
    "    print('Precision score: ', format(precision_score(valid['homologado'], valid_preds)))\n",
    "    print('Recall score: ', format(recall_score(valid['homologado'], valid_preds)))\n",
    "    print('F1 score: ', format(f1_score(valid['homologado'], valid_preds)))"
   ]
  },
  {
   "cell_type": "code",
   "execution_count": 66,
   "metadata": {},
   "outputs": [
    {
     "data": {
      "text/plain": [
       "RandomForestClassifier(bootstrap=True, class_weight=None, criterion='gini',\n",
       "            max_depth=None, max_features='auto', max_leaf_nodes=None,\n",
       "            min_impurity_decrease=0.0, min_impurity_split=None,\n",
       "            min_samples_leaf=1, min_samples_split=2,\n",
       "            min_weight_fraction_leaf=0.0, n_estimators=100, n_jobs=1,\n",
       "            oob_score=False, random_state=42, verbose=0, warm_start=False)"
      ]
     },
     "execution_count": 66,
     "metadata": {},
     "output_type": "execute_result"
    }
   ],
   "source": [
    "model = RandomForestClassifier(random_state=42, n_estimators=100)\n",
    "model.fit(train[features], train['homologado'])"
   ]
  },
  {
   "cell_type": "code",
   "execution_count": 67,
   "metadata": {
    "scrolled": true
   },
   "outputs": [
    {
     "name": "stdout",
     "output_type": "stream",
     "text": [
      "Accuracy score: 0.7859187178019462\n",
      "Precision score:  0.792654028436019\n",
      "Recall score:  0.9823788546255506\n",
      "F1 score:  0.8773770491803279\n"
     ]
    }
   ],
   "source": [
    "valid_preds = model.predict(valid[features])\n",
    "print_score()"
   ]
  },
  {
   "cell_type": "code",
   "execution_count": 68,
   "metadata": {},
   "outputs": [
    {
     "data": {
      "text/plain": [
       "array([[  35,  350],\n",
       "       [  24, 1338]], dtype=int64)"
      ]
     },
     "execution_count": 68,
     "metadata": {},
     "output_type": "execute_result"
    }
   ],
   "source": [
    "confusion_matrix(valid['homologado'], valid_preds)"
   ]
  },
  {
   "cell_type": "markdown",
   "metadata": {},
   "source": [
    "## Tratando as classes desbalanceadas - SMOTE"
   ]
  },
  {
   "cell_type": "code",
   "execution_count": 31,
   "metadata": {},
   "outputs": [
    {
     "data": {
      "text/plain": [
       "((6713, 28), (6713, 28))"
      ]
     },
     "execution_count": 31,
     "metadata": {},
     "output_type": "execute_result"
    }
   ],
   "source": [
    "df_bal = df_work.copy()\n",
    "df_bal.shape, df_work.shape"
   ]
  },
  {
   "cell_type": "code",
   "execution_count": 32,
   "metadata": {},
   "outputs": [],
   "source": [
    "cols_to_remove = ['id', 'peca_promocao', 'homologado']\n",
    "features = [col for col in df_bal.columns if col not in cols_to_remove]"
   ]
  },
  {
   "cell_type": "code",
   "execution_count": 33,
   "metadata": {},
   "outputs": [
    {
     "data": {
      "text/plain": [
       "((6041, 25), (6041,), (672, 25), (672,))"
      ]
     },
     "execution_count": 33,
     "metadata": {},
     "output_type": "execute_result"
    }
   ],
   "source": [
    "X_train, X_test, y_train, y_test = train_test_split(df_bal[features], df_bal['homologado'], random_state=42, test_size = 0.1)\n",
    "X_train.shape, y_train.shape, X_test.shape, y_test.shape"
   ]
  },
  {
   "cell_type": "code",
   "execution_count": 34,
   "metadata": {},
   "outputs": [
    {
     "name": "stdout",
     "output_type": "stream",
     "text": [
      "Antes do OverSampling, #homologados - label '1': 5950\n",
      "Antes do OverSampling, #não homoogados - label '0': 91 \n",
      "\n",
      "Depois do OverSampling, shape do train_X: (11900, 25)\n",
      "Depois do OverSampling, shape do train_y: (11900,) \n",
      "\n",
      "Depois do OverSampling, #homologados - label '1': 5950\n",
      "Depois OverSampling, #não homoogados - label '0': 5950\n"
     ]
    }
   ],
   "source": [
    "from imblearn.over_sampling import SMOTE\n",
    "\n",
    "print(\"Antes do OverSampling, #homologados - label '1': {}\".format(sum(y_train==1)))\n",
    "print(\"Antes do OverSampling, #não homoogados - label '0': {} \\n\".format(sum(y_train==0)))\n",
    "\n",
    "sm = SMOTE(random_state=42)\n",
    "X_train_res, y_train_res = sm.fit_sample(X_train, y_train)\n",
    "\n",
    "print('Depois do OverSampling, shape do train_X: {}'.format(X_train_res.shape))\n",
    "print('Depois do OverSampling, shape do train_y: {} \\n'.format(y_train_res.shape))\n",
    "\n",
    "print(\"Depois do OverSampling, #homologados - label '1': {}\".format(sum(y_train_res==1)))\n",
    "print(\"Depois OverSampling, #não homoogados - label '0': {}\".format(sum(y_train_res==0)))"
   ]
  },
  {
   "cell_type": "code",
   "execution_count": 35,
   "metadata": {},
   "outputs": [
    {
     "data": {
      "text/plain": [
       "RandomForestClassifier(bootstrap=True, class_weight=None, criterion='gini',\n",
       "            max_depth=None, max_features='auto', max_leaf_nodes=None,\n",
       "            min_impurity_decrease=0.0, min_impurity_split=None,\n",
       "            min_samples_leaf=1, min_samples_split=2,\n",
       "            min_weight_fraction_leaf=0.0, n_estimators=100, n_jobs=1,\n",
       "            oob_score=False, random_state=42, verbose=0, warm_start=False)"
      ]
     },
     "execution_count": 35,
     "metadata": {},
     "output_type": "execute_result"
    }
   ],
   "source": [
    "model = RandomForestClassifier(random_state=42, n_estimators=100)\n",
    "model.fit(X_train_res, y_train_res)"
   ]
  },
  {
   "cell_type": "code",
   "execution_count": 36,
   "metadata": {},
   "outputs": [],
   "source": [
    "def print_score():\n",
    "    print('Accuracy score:', accuracy_score(y_test, valid_preds))\n",
    "    print('Precision score: ', format(precision_score(y_test, valid_preds)))\n",
    "    print('Recall score: ', format(recall_score(y_test, valid_preds)))\n",
    "    print('F1 score: ', format(f1_score(y_test, valid_preds)))"
   ]
  },
  {
   "cell_type": "code",
   "execution_count": 37,
   "metadata": {},
   "outputs": [
    {
     "name": "stdout",
     "output_type": "stream",
     "text": [
      "Accuracy score: 0.43898809523809523\n",
      "Precision score:  0.9830508474576272\n",
      "Recall score:  0.4380664652567976\n",
      "F1 score:  0.6060606060606061\n"
     ]
    }
   ],
   "source": [
    "train_preds = model.predict(X_train_res)\n",
    "valid_preds = model.predict(X_test)\n",
    "print_score()"
   ]
  },
  {
   "cell_type": "code",
   "execution_count": 38,
   "metadata": {},
   "outputs": [
    {
     "data": {
      "text/plain": [
       "array([[  5,   5],\n",
       "       [372, 290]], dtype=int64)"
      ]
     },
     "execution_count": 38,
     "metadata": {},
     "output_type": "execute_result"
    }
   ],
   "source": [
    "confusion_matrix(y_test, valid_preds)"
   ]
  },
  {
   "cell_type": "code",
   "execution_count": 39,
   "metadata": {},
   "outputs": [
    {
     "data": {
      "text/plain": [
       "LogisticRegression(C=1, class_weight=None, dual=False, fit_intercept=True,\n",
       "          intercept_scaling=1, max_iter=100, multi_class='ovr', n_jobs=1,\n",
       "          penalty='l2', random_state=42, solver='liblinear', tol=0.0001,\n",
       "          verbose=0, warm_start=False)"
      ]
     },
     "execution_count": 39,
     "metadata": {},
     "output_type": "execute_result"
    }
   ],
   "source": [
    "clf = LogisticRegression(C=1, random_state=42)\n",
    "clf.fit(X_train_res, y_train_res)"
   ]
  },
  {
   "cell_type": "code",
   "execution_count": 40,
   "metadata": {},
   "outputs": [
    {
     "name": "stdout",
     "output_type": "stream",
     "text": [
      "Accuracy score: 0.21875\n",
      "Precision score:  0.9858156028368794\n",
      "Recall score:  0.20996978851963746\n",
      "F1 score:  0.34620174346201743\n"
     ]
    }
   ],
   "source": [
    "train_preds = clf.predict(X_train_res)\n",
    "valid_preds = clf.predict(X_test)\n",
    "print_score()"
   ]
  },
  {
   "cell_type": "code",
   "execution_count": 41,
   "metadata": {},
   "outputs": [
    {
     "data": {
      "text/plain": [
       "array([[  8,   2],\n",
       "       [523, 139]], dtype=int64)"
      ]
     },
     "execution_count": 41,
     "metadata": {},
     "output_type": "execute_result"
    }
   ],
   "source": [
    "confusion_matrix(y_test, valid_preds)"
   ]
  },
  {
   "cell_type": "code",
   "execution_count": 42,
   "metadata": {},
   "outputs": [
    {
     "data": {
      "text/plain": [
       "MultinomialNB(alpha=1.0, class_prior=None, fit_prior=True)"
      ]
     },
     "execution_count": 42,
     "metadata": {},
     "output_type": "execute_result"
    }
   ],
   "source": [
    "nb = MultinomialNB()\n",
    "nb.fit(X_train_res, y_train_res)"
   ]
  },
  {
   "cell_type": "code",
   "execution_count": 43,
   "metadata": {},
   "outputs": [
    {
     "name": "stdout",
     "output_type": "stream",
     "text": [
      "Accuracy score: 0.16964285714285715\n",
      "Precision score:  0.9814814814814815\n",
      "Recall score:  0.16012084592145015\n",
      "F1 score:  0.2753246753246753\n"
     ]
    }
   ],
   "source": [
    "valid_preds = nb.predict(X_test)\n",
    "print_score()"
   ]
  },
  {
   "cell_type": "code",
   "execution_count": 44,
   "metadata": {},
   "outputs": [
    {
     "data": {
      "text/plain": [
       "array([[  8,   2],\n",
       "       [556, 106]], dtype=int64)"
      ]
     },
     "execution_count": 44,
     "metadata": {},
     "output_type": "execute_result"
    }
   ],
   "source": [
    "confusion_matrix(y_test, valid_preds)"
   ]
  },
  {
   "cell_type": "markdown",
   "metadata": {},
   "source": [
    "## Combinando as palavras-chaves com os outros metadados"
   ]
  }
 ],
 "metadata": {
  "kernelspec": {
   "display_name": "Python 3",
   "language": "python",
   "name": "python3"
  },
  "language_info": {
   "codemirror_mode": {
    "name": "ipython",
    "version": 3
   },
   "file_extension": ".py",
   "mimetype": "text/x-python",
   "name": "python",
   "nbconvert_exporter": "python",
   "pygments_lexer": "ipython3",
   "version": "3.6.5"
  }
 },
 "nbformat": 4,
 "nbformat_minor": 2
}
