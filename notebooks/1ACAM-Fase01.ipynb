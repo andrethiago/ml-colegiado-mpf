{
 "cells": [
  {
   "cell_type": "markdown",
   "metadata": {},
   "source": [
    "# Introdução\n",
    "\n",
    "Esse caderno tem por objetivo a criação de um modelo básico de treinamento, utilizando o classificador [RandomForest](http://scikit-learn.org/stable/modules/generated/sklearn.ensemble.RandomForestClassifier.html), que faça a predição de homologação de arquivamentos de procedimentos enviados à 1A.CAM do MPF.\n",
    "\n",
    "Nesse modelo vamos passar a considerar os textos das íntegras.\n",
    "\n",
    "A primeira passagem, serão criadas colunas com as palavras-chaves informadas pela área negocial que vão indicar a ausência ou presença do termo no texto da íntegra da peça de promoção do arquivamento.\n",
    "\n",
    "Na segunda passagem, vamos passar a considerar unicamente o texto da íntegra.\n",
    "\n",
    "**Nota**: os dados desse modelo foram recuperados de procedimentos que tiveram suas deliberações realizadas após o dia 02/07/2018, data em que a nova composição tomou posse na 1A.CAM."
   ]
  },
  {
   "cell_type": "markdown",
   "metadata": {},
   "source": [
    "# Contagem de termos mais frequentes"
   ]
  },
  {
   "cell_type": "markdown",
   "metadata": {},
   "source": [
    "Vamos fazer uma análise dos textos das íntegras e tentar encontrar os termos mais frequentes.\n",
    "\n",
    "O objetivo é:\n",
    "\n",
    "- fazer uma confirmação das frequências dos termos com a lista de palavras-chaves que nos foi enviada;\n",
    "- descobrir outras palavras que possam ser indicativos de homologação ou não.\n",
    "\n",
    "Serão realizadas três análises:\n",
    "\n",
    "- considerando todas as íntegras;\n",
    "- considerando apenas as íntegras das peças que tiveram seu homologamento confirmado;\n",
    "- considerando os não homologados;\n",
    "\n",
    "Dessa análise, podemos criar colunas derivadas."
   ]
  },
  {
   "cell_type": "markdown",
   "metadata": {},
   "source": [
    "# Carga de dados e pré-processamento\n",
    "\n",
    "Vamos fazer a carga dos dados e fazer um pré-processamento tradicional (remoção de atributos que não interessam, criação de variáveis categóricas etc.)"
   ]
  },
  {
   "cell_type": "code",
   "execution_count": 1,
   "metadata": {},
   "outputs": [],
   "source": [
    "%load_ext autoreload\n",
    "%autoreload 2\n",
    "\n",
    "%matplotlib inline"
   ]
  },
  {
   "cell_type": "code",
   "execution_count": 2,
   "metadata": {},
   "outputs": [],
   "source": [
    "from sklearn.ensemble import RandomForestClassifier\n",
    "import numpy as np\n",
    "import pandas as pd\n",
    "\n",
    "from sklearn import metrics"
   ]
  },
  {
   "cell_type": "code",
   "execution_count": 3,
   "metadata": {},
   "outputs": [],
   "source": [
    "PATH = \"../data/\"\n",
    "df_original = pd.read_json(f'{PATH}/1A.CAM.homologacao-arquivamento.json')"
   ]
  },
  {
   "cell_type": "code",
   "execution_count": 4,
   "metadata": {},
   "outputs": [
    {
     "data": {
      "text/plain": [
       "6216"
      ]
     },
     "execution_count": 4,
     "metadata": {},
     "output_type": "execute_result"
    }
   ],
   "source": [
    "len(df_original)"
   ]
  },
  {
   "cell_type": "code",
   "execution_count": 5,
   "metadata": {},
   "outputs": [
    {
     "data": {
      "text/plain": [
       "Index(['areaAtuacao', 'classe', 'dataAutuacao', 'dataEntrada', 'homologado',\n",
       "       'id', 'identificadorPecaPromocao', 'itemCnmp', 'membroResponsavel',\n",
       "       'municipio', 'prioritario', 'procedimento', 'quantidadeConversoes',\n",
       "       'quantidadeProvidencias', 'textosProvidencias', 'urgente'],\n",
       "      dtype='object')"
      ]
     },
     "execution_count": 5,
     "metadata": {},
     "output_type": "execute_result"
    }
   ],
   "source": [
    "df_original.columns"
   ]
  },
  {
   "cell_type": "code",
   "execution_count": 6,
   "metadata": {},
   "outputs": [
    {
     "data": {
      "text/html": [
       "<div>\n",
       "<style scoped>\n",
       "    .dataframe tbody tr th:only-of-type {\n",
       "        vertical-align: middle;\n",
       "    }\n",
       "\n",
       "    .dataframe tbody tr th {\n",
       "        vertical-align: top;\n",
       "    }\n",
       "\n",
       "    .dataframe thead th {\n",
       "        text-align: right;\n",
       "    }\n",
       "</style>\n",
       "<table border=\"1\" class=\"dataframe\">\n",
       "  <thead>\n",
       "    <tr style=\"text-align: right;\">\n",
       "      <th></th>\n",
       "      <th>areaAtuacao</th>\n",
       "      <th>classe</th>\n",
       "      <th>homologado</th>\n",
       "      <th>id</th>\n",
       "      <th>identificadorPecaPromocao</th>\n",
       "      <th>itemCnmp</th>\n",
       "      <th>membroResponsavel</th>\n",
       "      <th>municipio</th>\n",
       "      <th>prioritario</th>\n",
       "      <th>quantidadeConversoes</th>\n",
       "      <th>quantidadeProvidencias</th>\n",
       "      <th>urgente</th>\n",
       "    </tr>\n",
       "  </thead>\n",
       "  <tbody>\n",
       "    <tr>\n",
       "      <th>count</th>\n",
       "      <td>6.216000e+03</td>\n",
       "      <td>6216.000000</td>\n",
       "      <td>6216.000000</td>\n",
       "      <td>6.216000e+03</td>\n",
       "      <td>5.416000e+03</td>\n",
       "      <td>6.216000e+03</td>\n",
       "      <td>5416.000000</td>\n",
       "      <td>6216.000000</td>\n",
       "      <td>6216.000000</td>\n",
       "      <td>6216.000000</td>\n",
       "      <td>6216.000000</td>\n",
       "      <td>6216.000000</td>\n",
       "    </tr>\n",
       "    <tr>\n",
       "      <th>mean</th>\n",
       "      <td>3.240209e+02</td>\n",
       "      <td>2.530727</td>\n",
       "      <td>0.984878</td>\n",
       "      <td>6.728554e+07</td>\n",
       "      <td>7.826234e+07</td>\n",
       "      <td>2.407387e+04</td>\n",
       "      <td>38441.630908</td>\n",
       "      <td>2892.811776</td>\n",
       "      <td>0.006757</td>\n",
       "      <td>2.038288</td>\n",
       "      <td>7.249839</td>\n",
       "      <td>0.006918</td>\n",
       "    </tr>\n",
       "    <tr>\n",
       "      <th>std</th>\n",
       "      <td>2.536836e+04</td>\n",
       "      <td>0.923644</td>\n",
       "      <td>0.122049</td>\n",
       "      <td>1.323833e+07</td>\n",
       "      <td>6.341954e+06</td>\n",
       "      <td>2.100612e+05</td>\n",
       "      <td>34276.472876</td>\n",
       "      <td>1671.129519</td>\n",
       "      <td>0.081928</td>\n",
       "      <td>1.398246</td>\n",
       "      <td>8.758556</td>\n",
       "      <td>0.082891</td>\n",
       "    </tr>\n",
       "    <tr>\n",
       "      <th>min</th>\n",
       "      <td>1.000000e+00</td>\n",
       "      <td>1.000000</td>\n",
       "      <td>0.000000</td>\n",
       "      <td>2.842880e+06</td>\n",
       "      <td>5.580442e+07</td>\n",
       "      <td>2.000000e+00</td>\n",
       "      <td>752.000000</td>\n",
       "      <td>1.000000</td>\n",
       "      <td>0.000000</td>\n",
       "      <td>0.000000</td>\n",
       "      <td>0.000000</td>\n",
       "      <td>0.000000</td>\n",
       "    </tr>\n",
       "    <tr>\n",
       "      <th>25%</th>\n",
       "      <td>2.000000e+00</td>\n",
       "      <td>2.000000</td>\n",
       "      <td>1.000000</td>\n",
       "      <td>6.400090e+07</td>\n",
       "      <td>7.311781e+07</td>\n",
       "      <td>1.521000e+03</td>\n",
       "      <td>13674.000000</td>\n",
       "      <td>1388.750000</td>\n",
       "      <td>0.000000</td>\n",
       "      <td>1.000000</td>\n",
       "      <td>3.000000</td>\n",
       "      <td>0.000000</td>\n",
       "    </tr>\n",
       "    <tr>\n",
       "      <th>50%</th>\n",
       "      <td>2.000000e+00</td>\n",
       "      <td>3.000000</td>\n",
       "      <td>1.000000</td>\n",
       "      <td>7.000453e+07</td>\n",
       "      <td>7.810596e+07</td>\n",
       "      <td>1.581500e+03</td>\n",
       "      <td>24990.000000</td>\n",
       "      <td>3078.000000</td>\n",
       "      <td>0.000000</td>\n",
       "      <td>2.000000</td>\n",
       "      <td>5.000000</td>\n",
       "      <td>0.000000</td>\n",
       "    </tr>\n",
       "    <tr>\n",
       "      <th>75%</th>\n",
       "      <td>2.000000e+00</td>\n",
       "      <td>3.000000</td>\n",
       "      <td>1.000000</td>\n",
       "      <td>7.543822e+07</td>\n",
       "      <td>8.461602e+07</td>\n",
       "      <td>1.893000e+03</td>\n",
       "      <td>53327.000000</td>\n",
       "      <td>4321.000000</td>\n",
       "      <td>0.000000</td>\n",
       "      <td>3.000000</td>\n",
       "      <td>9.000000</td>\n",
       "      <td>0.000000</td>\n",
       "    </tr>\n",
       "    <tr>\n",
       "      <th>max</th>\n",
       "      <td>2.000085e+06</td>\n",
       "      <td>61.000000</td>\n",
       "      <td>1.000000</td>\n",
       "      <td>8.756619e+07</td>\n",
       "      <td>8.810570e+07</td>\n",
       "      <td>2.007548e+06</td>\n",
       "      <td>127563.000000</td>\n",
       "      <td>5768.000000</td>\n",
       "      <td>1.000000</td>\n",
       "      <td>13.000000</td>\n",
       "      <td>161.000000</td>\n",
       "      <td>1.000000</td>\n",
       "    </tr>\n",
       "  </tbody>\n",
       "</table>\n",
       "</div>"
      ],
      "text/plain": [
       "        areaAtuacao       classe   homologado            id  \\\n",
       "count  6.216000e+03  6216.000000  6216.000000  6.216000e+03   \n",
       "mean   3.240209e+02     2.530727     0.984878  6.728554e+07   \n",
       "std    2.536836e+04     0.923644     0.122049  1.323833e+07   \n",
       "min    1.000000e+00     1.000000     0.000000  2.842880e+06   \n",
       "25%    2.000000e+00     2.000000     1.000000  6.400090e+07   \n",
       "50%    2.000000e+00     3.000000     1.000000  7.000453e+07   \n",
       "75%    2.000000e+00     3.000000     1.000000  7.543822e+07   \n",
       "max    2.000085e+06    61.000000     1.000000  8.756619e+07   \n",
       "\n",
       "       identificadorPecaPromocao      itemCnmp  membroResponsavel  \\\n",
       "count               5.416000e+03  6.216000e+03        5416.000000   \n",
       "mean                7.826234e+07  2.407387e+04       38441.630908   \n",
       "std                 6.341954e+06  2.100612e+05       34276.472876   \n",
       "min                 5.580442e+07  2.000000e+00         752.000000   \n",
       "25%                 7.311781e+07  1.521000e+03       13674.000000   \n",
       "50%                 7.810596e+07  1.581500e+03       24990.000000   \n",
       "75%                 8.461602e+07  1.893000e+03       53327.000000   \n",
       "max                 8.810570e+07  2.007548e+06      127563.000000   \n",
       "\n",
       "         municipio  prioritario  quantidadeConversoes  quantidadeProvidencias  \\\n",
       "count  6216.000000  6216.000000           6216.000000             6216.000000   \n",
       "mean   2892.811776     0.006757              2.038288                7.249839   \n",
       "std    1671.129519     0.081928              1.398246                8.758556   \n",
       "min       1.000000     0.000000              0.000000                0.000000   \n",
       "25%    1388.750000     0.000000              1.000000                3.000000   \n",
       "50%    3078.000000     0.000000              2.000000                5.000000   \n",
       "75%    4321.000000     0.000000              3.000000                9.000000   \n",
       "max    5768.000000     1.000000             13.000000              161.000000   \n",
       "\n",
       "           urgente  \n",
       "count  6216.000000  \n",
       "mean      0.006918  \n",
       "std       0.082891  \n",
       "min       0.000000  \n",
       "25%       0.000000  \n",
       "50%       0.000000  \n",
       "75%       0.000000  \n",
       "max       1.000000  "
      ]
     },
     "execution_count": 6,
     "metadata": {},
     "output_type": "execute_result"
    }
   ],
   "source": [
    "df_original.describe()"
   ]
  },
  {
   "cell_type": "code",
   "execution_count": 7,
   "metadata": {},
   "outputs": [
    {
     "data": {
      "text/plain": [
       "800"
      ]
     },
     "execution_count": 7,
     "metadata": {},
     "output_type": "execute_result"
    }
   ],
   "source": [
    "len(df_original[df_original.identificadorPecaPromocao.isnull()])"
   ]
  },
  {
   "cell_type": "code",
   "execution_count": 8,
   "metadata": {},
   "outputs": [],
   "source": [
    "df_work = df_original.copy()"
   ]
  },
  {
   "cell_type": "code",
   "execution_count": 9,
   "metadata": {},
   "outputs": [],
   "source": [
    "# elementos com peça de promoção de arquivamento nulos não nos interessam\n",
    "df_work.dropna(subset=['identificadorPecaPromocao'], inplace=True)\n",
    "df_work.reset_index(drop=True, inplace=True)"
   ]
  },
  {
   "cell_type": "code",
   "execution_count": 10,
   "metadata": {},
   "outputs": [
    {
     "data": {
      "text/plain": [
       "0"
      ]
     },
     "execution_count": 10,
     "metadata": {},
     "output_type": "execute_result"
    }
   ],
   "source": [
    "len(df_work[df_work.identificadorPecaPromocao.isnull()])"
   ]
  },
  {
   "cell_type": "code",
   "execution_count": 11,
   "metadata": {},
   "outputs": [
    {
     "data": {
      "text/html": [
       "<div>\n",
       "<style scoped>\n",
       "    .dataframe tbody tr th:only-of-type {\n",
       "        vertical-align: middle;\n",
       "    }\n",
       "\n",
       "    .dataframe tbody tr th {\n",
       "        vertical-align: top;\n",
       "    }\n",
       "\n",
       "    .dataframe thead th {\n",
       "        text-align: right;\n",
       "    }\n",
       "</style>\n",
       "<table border=\"1\" class=\"dataframe\">\n",
       "  <thead>\n",
       "    <tr style=\"text-align: right;\">\n",
       "      <th></th>\n",
       "      <th>areaAtuacao</th>\n",
       "      <th>classe</th>\n",
       "      <th>dataAutuacao</th>\n",
       "      <th>dataEntrada</th>\n",
       "      <th>homologado</th>\n",
       "      <th>itemCnmp</th>\n",
       "      <th>membroResponsavel</th>\n",
       "      <th>municipio</th>\n",
       "      <th>prioritario</th>\n",
       "      <th>quantidadeConversoes</th>\n",
       "      <th>quantidadeProvidencias</th>\n",
       "      <th>urgente</th>\n",
       "    </tr>\n",
       "  </thead>\n",
       "  <tbody>\n",
       "    <tr>\n",
       "      <th>5169</th>\n",
       "      <td>2</td>\n",
       "      <td>2</td>\n",
       "      <td>02-09-2015</td>\n",
       "      <td>19-01-2016</td>\n",
       "      <td>1</td>\n",
       "      <td>1715</td>\n",
       "      <td>18814.0</td>\n",
       "      <td>2211</td>\n",
       "      <td>0</td>\n",
       "      <td>0</td>\n",
       "      <td>2</td>\n",
       "      <td>0</td>\n",
       "    </tr>\n",
       "    <tr>\n",
       "      <th>4520</th>\n",
       "      <td>2</td>\n",
       "      <td>3</td>\n",
       "      <td>12-03-2015</td>\n",
       "      <td>31-05-2016</td>\n",
       "      <td>1</td>\n",
       "      <td>1864</td>\n",
       "      <td>1366.0</td>\n",
       "      <td>3078</td>\n",
       "      <td>0</td>\n",
       "      <td>2</td>\n",
       "      <td>7</td>\n",
       "      <td>0</td>\n",
       "    </tr>\n",
       "    <tr>\n",
       "      <th>2756</th>\n",
       "      <td>2</td>\n",
       "      <td>3</td>\n",
       "      <td>19-04-2016</td>\n",
       "      <td>13-06-2017</td>\n",
       "      <td>1</td>\n",
       "      <td>1904</td>\n",
       "      <td>11016.0</td>\n",
       "      <td>5459</td>\n",
       "      <td>0</td>\n",
       "      <td>1</td>\n",
       "      <td>2</td>\n",
       "      <td>0</td>\n",
       "    </tr>\n",
       "    <tr>\n",
       "      <th>1559</th>\n",
       "      <td>5</td>\n",
       "      <td>3</td>\n",
       "      <td>01-10-2013</td>\n",
       "      <td>06-04-2018</td>\n",
       "      <td>1</td>\n",
       "      <td>1523</td>\n",
       "      <td>19643.0</td>\n",
       "      <td>5296</td>\n",
       "      <td>0</td>\n",
       "      <td>5</td>\n",
       "      <td>54</td>\n",
       "      <td>0</td>\n",
       "    </tr>\n",
       "    <tr>\n",
       "      <th>661</th>\n",
       "      <td>2</td>\n",
       "      <td>2</td>\n",
       "      <td>14-05-2018</td>\n",
       "      <td>26-06-2018</td>\n",
       "      <td>1</td>\n",
       "      <td>1852</td>\n",
       "      <td>3537.0</td>\n",
       "      <td>1443</td>\n",
       "      <td>0</td>\n",
       "      <td>1</td>\n",
       "      <td>1</td>\n",
       "      <td>0</td>\n",
       "    </tr>\n",
       "    <tr>\n",
       "      <th>1755</th>\n",
       "      <td>2</td>\n",
       "      <td>2</td>\n",
       "      <td>18-12-2017</td>\n",
       "      <td>17-02-2018</td>\n",
       "      <td>1</td>\n",
       "      <td>1870</td>\n",
       "      <td>5159.0</td>\n",
       "      <td>1443</td>\n",
       "      <td>0</td>\n",
       "      <td>1</td>\n",
       "      <td>3</td>\n",
       "      <td>0</td>\n",
       "    </tr>\n",
       "    <tr>\n",
       "      <th>1530</th>\n",
       "      <td>2</td>\n",
       "      <td>2</td>\n",
       "      <td>27-10-2017</td>\n",
       "      <td>09-04-2018</td>\n",
       "      <td>1</td>\n",
       "      <td>2830</td>\n",
       "      <td>53295.0</td>\n",
       "      <td>2919</td>\n",
       "      <td>0</td>\n",
       "      <td>2</td>\n",
       "      <td>3</td>\n",
       "      <td>0</td>\n",
       "    </tr>\n",
       "    <tr>\n",
       "      <th>4276</th>\n",
       "      <td>2</td>\n",
       "      <td>3</td>\n",
       "      <td>24-04-2015</td>\n",
       "      <td>20-07-2016</td>\n",
       "      <td>1</td>\n",
       "      <td>1559</td>\n",
       "      <td>4385.0</td>\n",
       "      <td>3066</td>\n",
       "      <td>0</td>\n",
       "      <td>3</td>\n",
       "      <td>13</td>\n",
       "      <td>0</td>\n",
       "    </tr>\n",
       "    <tr>\n",
       "      <th>469</th>\n",
       "      <td>2</td>\n",
       "      <td>3</td>\n",
       "      <td>30-08-2017</td>\n",
       "      <td>16-07-2018</td>\n",
       "      <td>1</td>\n",
       "      <td>1576</td>\n",
       "      <td>14143.0</td>\n",
       "      <td>3708</td>\n",
       "      <td>0</td>\n",
       "      <td>3</td>\n",
       "      <td>5</td>\n",
       "      <td>0</td>\n",
       "    </tr>\n",
       "    <tr>\n",
       "      <th>4178</th>\n",
       "      <td>2</td>\n",
       "      <td>2</td>\n",
       "      <td>11-07-2016</td>\n",
       "      <td>30-08-2016</td>\n",
       "      <td>1</td>\n",
       "      <td>1960</td>\n",
       "      <td>10687.0</td>\n",
       "      <td>810</td>\n",
       "      <td>0</td>\n",
       "      <td>0</td>\n",
       "      <td>0</td>\n",
       "      <td>0</td>\n",
       "    </tr>\n",
       "  </tbody>\n",
       "</table>\n",
       "</div>"
      ],
      "text/plain": [
       "      areaAtuacao  classe dataAutuacao dataEntrada  homologado  itemCnmp  \\\n",
       "5169            2       2   02-09-2015  19-01-2016           1      1715   \n",
       "4520            2       3   12-03-2015  31-05-2016           1      1864   \n",
       "2756            2       3   19-04-2016  13-06-2017           1      1904   \n",
       "1559            5       3   01-10-2013  06-04-2018           1      1523   \n",
       "661             2       2   14-05-2018  26-06-2018           1      1852   \n",
       "1755            2       2   18-12-2017  17-02-2018           1      1870   \n",
       "1530            2       2   27-10-2017  09-04-2018           1      2830   \n",
       "4276            2       3   24-04-2015  20-07-2016           1      1559   \n",
       "469             2       3   30-08-2017  16-07-2018           1      1576   \n",
       "4178            2       2   11-07-2016  30-08-2016           1      1960   \n",
       "\n",
       "      membroResponsavel  municipio  prioritario  quantidadeConversoes  \\\n",
       "5169            18814.0       2211            0                     0   \n",
       "4520             1366.0       3078            0                     2   \n",
       "2756            11016.0       5459            0                     1   \n",
       "1559            19643.0       5296            0                     5   \n",
       "661              3537.0       1443            0                     1   \n",
       "1755             5159.0       1443            0                     1   \n",
       "1530            53295.0       2919            0                     2   \n",
       "4276             4385.0       3066            0                     3   \n",
       "469             14143.0       3708            0                     3   \n",
       "4178            10687.0        810            0                     0   \n",
       "\n",
       "      quantidadeProvidencias  urgente  \n",
       "5169                       2        0  \n",
       "4520                       7        0  \n",
       "2756                       2        0  \n",
       "1559                      54        0  \n",
       "661                        1        0  \n",
       "1755                       3        0  \n",
       "1530                       3        0  \n",
       "4276                      13        0  \n",
       "469                        5        0  \n",
       "4178                       0        0  "
      ]
     },
     "execution_count": 11,
     "metadata": {},
     "output_type": "execute_result"
    }
   ],
   "source": [
    "# nessa primeira passada, essas colunas não nos interessam\n",
    "removed_columns = ['id', 'procedimento', 'textosProvidencias', 'identificadorPecaPromocao']\n",
    "df_work = df_work.drop(columns=removed_columns)\n",
    "df_work.sample(10)"
   ]
  },
  {
   "cell_type": "code",
   "execution_count": 12,
   "metadata": {},
   "outputs": [
    {
     "data": {
      "text/html": [
       "<div>\n",
       "<style scoped>\n",
       "    .dataframe tbody tr th:only-of-type {\n",
       "        vertical-align: middle;\n",
       "    }\n",
       "\n",
       "    .dataframe tbody tr th {\n",
       "        vertical-align: top;\n",
       "    }\n",
       "\n",
       "    .dataframe thead th {\n",
       "        text-align: right;\n",
       "    }\n",
       "</style>\n",
       "<table border=\"1\" class=\"dataframe\">\n",
       "  <thead>\n",
       "    <tr style=\"text-align: right;\">\n",
       "      <th></th>\n",
       "      <th>areaAtuacao</th>\n",
       "      <th>classe</th>\n",
       "      <th>homologado</th>\n",
       "      <th>itemCnmp</th>\n",
       "      <th>membroResponsavel</th>\n",
       "      <th>municipio</th>\n",
       "      <th>prioritario</th>\n",
       "      <th>quantidadeConversoes</th>\n",
       "      <th>quantidadeProvidencias</th>\n",
       "      <th>urgente</th>\n",
       "    </tr>\n",
       "  </thead>\n",
       "  <tbody>\n",
       "    <tr>\n",
       "      <th>count</th>\n",
       "      <td>5.416000e+03</td>\n",
       "      <td>5416.000000</td>\n",
       "      <td>5416.000000</td>\n",
       "      <td>5.416000e+03</td>\n",
       "      <td>5416.000000</td>\n",
       "      <td>5416.000000</td>\n",
       "      <td>5416.000000</td>\n",
       "      <td>5416.000000</td>\n",
       "      <td>5416.000000</td>\n",
       "      <td>5416.000000</td>\n",
       "    </tr>\n",
       "    <tr>\n",
       "      <th>mean</th>\n",
       "      <td>3.715170e+02</td>\n",
       "      <td>2.541728</td>\n",
       "      <td>0.984675</td>\n",
       "      <td>2.365916e+04</td>\n",
       "      <td>38441.630908</td>\n",
       "      <td>2898.190177</td>\n",
       "      <td>0.007570</td>\n",
       "      <td>2.070901</td>\n",
       "      <td>7.231905</td>\n",
       "      <td>0.007755</td>\n",
       "    </tr>\n",
       "    <tr>\n",
       "      <th>std</th>\n",
       "      <td>2.717745e+04</td>\n",
       "      <td>0.965573</td>\n",
       "      <td>0.122853</td>\n",
       "      <td>2.081188e+05</td>\n",
       "      <td>34276.472876</td>\n",
       "      <td>1662.738746</td>\n",
       "      <td>0.086685</td>\n",
       "      <td>1.406145</td>\n",
       "      <td>8.338839</td>\n",
       "      <td>0.087727</td>\n",
       "    </tr>\n",
       "    <tr>\n",
       "      <th>min</th>\n",
       "      <td>1.000000e+00</td>\n",
       "      <td>1.000000</td>\n",
       "      <td>0.000000</td>\n",
       "      <td>2.000000e+00</td>\n",
       "      <td>752.000000</td>\n",
       "      <td>1.000000</td>\n",
       "      <td>0.000000</td>\n",
       "      <td>0.000000</td>\n",
       "      <td>0.000000</td>\n",
       "      <td>0.000000</td>\n",
       "    </tr>\n",
       "    <tr>\n",
       "      <th>25%</th>\n",
       "      <td>2.000000e+00</td>\n",
       "      <td>2.000000</td>\n",
       "      <td>1.000000</td>\n",
       "      <td>1.521000e+03</td>\n",
       "      <td>13674.000000</td>\n",
       "      <td>1438.000000</td>\n",
       "      <td>0.000000</td>\n",
       "      <td>1.000000</td>\n",
       "      <td>3.000000</td>\n",
       "      <td>0.000000</td>\n",
       "    </tr>\n",
       "    <tr>\n",
       "      <th>50%</th>\n",
       "      <td>2.000000e+00</td>\n",
       "      <td>3.000000</td>\n",
       "      <td>1.000000</td>\n",
       "      <td>1.585000e+03</td>\n",
       "      <td>24990.000000</td>\n",
       "      <td>3078.000000</td>\n",
       "      <td>0.000000</td>\n",
       "      <td>2.000000</td>\n",
       "      <td>5.000000</td>\n",
       "      <td>0.000000</td>\n",
       "    </tr>\n",
       "    <tr>\n",
       "      <th>75%</th>\n",
       "      <td>2.000000e+00</td>\n",
       "      <td>3.000000</td>\n",
       "      <td>1.000000</td>\n",
       "      <td>1.903000e+03</td>\n",
       "      <td>53327.000000</td>\n",
       "      <td>4335.000000</td>\n",
       "      <td>0.000000</td>\n",
       "      <td>3.000000</td>\n",
       "      <td>9.000000</td>\n",
       "      <td>0.000000</td>\n",
       "    </tr>\n",
       "    <tr>\n",
       "      <th>max</th>\n",
       "      <td>2.000085e+06</td>\n",
       "      <td>61.000000</td>\n",
       "      <td>1.000000</td>\n",
       "      <td>2.007548e+06</td>\n",
       "      <td>127563.000000</td>\n",
       "      <td>5768.000000</td>\n",
       "      <td>1.000000</td>\n",
       "      <td>13.000000</td>\n",
       "      <td>140.000000</td>\n",
       "      <td>1.000000</td>\n",
       "    </tr>\n",
       "  </tbody>\n",
       "</table>\n",
       "</div>"
      ],
      "text/plain": [
       "        areaAtuacao       classe   homologado      itemCnmp  \\\n",
       "count  5.416000e+03  5416.000000  5416.000000  5.416000e+03   \n",
       "mean   3.715170e+02     2.541728     0.984675  2.365916e+04   \n",
       "std    2.717745e+04     0.965573     0.122853  2.081188e+05   \n",
       "min    1.000000e+00     1.000000     0.000000  2.000000e+00   \n",
       "25%    2.000000e+00     2.000000     1.000000  1.521000e+03   \n",
       "50%    2.000000e+00     3.000000     1.000000  1.585000e+03   \n",
       "75%    2.000000e+00     3.000000     1.000000  1.903000e+03   \n",
       "max    2.000085e+06    61.000000     1.000000  2.007548e+06   \n",
       "\n",
       "       membroResponsavel    municipio  prioritario  quantidadeConversoes  \\\n",
       "count        5416.000000  5416.000000  5416.000000           5416.000000   \n",
       "mean        38441.630908  2898.190177     0.007570              2.070901   \n",
       "std         34276.472876  1662.738746     0.086685              1.406145   \n",
       "min           752.000000     1.000000     0.000000              0.000000   \n",
       "25%         13674.000000  1438.000000     0.000000              1.000000   \n",
       "50%         24990.000000  3078.000000     0.000000              2.000000   \n",
       "75%         53327.000000  4335.000000     0.000000              3.000000   \n",
       "max        127563.000000  5768.000000     1.000000             13.000000   \n",
       "\n",
       "       quantidadeProvidencias      urgente  \n",
       "count             5416.000000  5416.000000  \n",
       "mean                 7.231905     0.007755  \n",
       "std                  8.338839     0.087727  \n",
       "min                  0.000000     0.000000  \n",
       "25%                  3.000000     0.000000  \n",
       "50%                  5.000000     0.000000  \n",
       "75%                  9.000000     0.000000  \n",
       "max                140.000000     1.000000  "
      ]
     },
     "execution_count": 12,
     "metadata": {},
     "output_type": "execute_result"
    }
   ],
   "source": [
    "df_work.describe()"
   ]
  },
  {
   "cell_type": "code",
   "execution_count": 13,
   "metadata": {},
   "outputs": [],
   "source": [
    "# tratando os nulos\n",
    "df_work.fillna(0, inplace=True)"
   ]
  },
  {
   "cell_type": "code",
   "execution_count": 14,
   "metadata": {},
   "outputs": [
    {
     "data": {
      "text/plain": [
       "<matplotlib.axes._subplots.AxesSubplot at 0x7fd7a947aa20>"
      ]
     },
     "execution_count": 14,
     "metadata": {},
     "output_type": "execute_result"
    },
    {
     "data": {
      "image/png": "[encoded data removed]",
      "text/plain": [
       "<Figure size 432x288 with 1 Axes>"
      ]
     },
     "metadata": {},
     "output_type": "display_data"
    }
   ],
   "source": [
    "df_work['homologado'].value_counts().plot.bar()"
   ]
  },
  {
   "cell_type": "markdown",
   "metadata": {},
   "source": [
    "### Classes desbalanceadas!!!\n",
    "\n",
    "Conforme podemos ver acima, as classes desse problema são altamente desbalanceadas - apenas 1.46% do conjunto de dados representam procedimentos que não foram homologados.\n",
    "\n",
    "Isso, muito provavelmente, causará problemas no treino do modelo. Mas, inicialmente, vamos ignorar isso e seguir com o nosso treino."
   ]
  },
  {
   "cell_type": "code",
   "execution_count": 15,
   "metadata": {},
   "outputs": [],
   "source": [
    "# conversão para datas\n",
    "df_work['dataAutuacao'] = pd.to_datetime(df_work['dataAutuacao'],infer_datetime_format=True)\n",
    "df_work['dataEntrada'] = pd.to_datetime(df_work['dataEntrada'],infer_datetime_format=True)"
   ]
  },
  {
   "cell_type": "code",
   "execution_count": 16,
   "metadata": {},
   "outputs": [],
   "source": [
    "# vamos criar uma variável derivada, representando a quantidade de dias desde a autuação até a entrada\n",
    "df_work['diasTranscorridos'] = 0\n",
    "for index in range(len(df_work)):\n",
    "    df_work.loc[index, 'diasTranscorridos'] =  np.abs((df_work.loc[index, 'dataEntrada'] - df_work.loc[index, 'dataAutuacao']).days)"
   ]
  },
  {
   "cell_type": "code",
   "execution_count": 17,
   "metadata": {},
   "outputs": [
    {
     "data": {
      "text/html": [
       "<div>\n",
       "<style scoped>\n",
       "    .dataframe tbody tr th:only-of-type {\n",
       "        vertical-align: middle;\n",
       "    }\n",
       "\n",
       "    .dataframe tbody tr th {\n",
       "        vertical-align: top;\n",
       "    }\n",
       "\n",
       "    .dataframe thead th {\n",
       "        text-align: right;\n",
       "    }\n",
       "</style>\n",
       "<table border=\"1\" class=\"dataframe\">\n",
       "  <thead>\n",
       "    <tr style=\"text-align: right;\">\n",
       "      <th></th>\n",
       "      <th>areaAtuacao</th>\n",
       "      <th>classe</th>\n",
       "      <th>dataAutuacao</th>\n",
       "      <th>dataEntrada</th>\n",
       "      <th>homologado</th>\n",
       "      <th>itemCnmp</th>\n",
       "      <th>membroResponsavel</th>\n",
       "      <th>municipio</th>\n",
       "      <th>prioritario</th>\n",
       "      <th>quantidadeConversoes</th>\n",
       "      <th>quantidadeProvidencias</th>\n",
       "      <th>urgente</th>\n",
       "      <th>diasTranscorridos</th>\n",
       "    </tr>\n",
       "  </thead>\n",
       "  <tbody>\n",
       "    <tr>\n",
       "      <th>4495</th>\n",
       "      <td>2</td>\n",
       "      <td>2</td>\n",
       "      <td>2015-04-29</td>\n",
       "      <td>2016-06-13</td>\n",
       "      <td>1</td>\n",
       "      <td>1859</td>\n",
       "      <td>27349.0</td>\n",
       "      <td>4255</td>\n",
       "      <td>0</td>\n",
       "      <td>2</td>\n",
       "      <td>3</td>\n",
       "      <td>0</td>\n",
       "      <td>411</td>\n",
       "    </tr>\n",
       "    <tr>\n",
       "      <th>3000</th>\n",
       "      <td>2</td>\n",
       "      <td>3</td>\n",
       "      <td>2015-05-03</td>\n",
       "      <td>2017-05-15</td>\n",
       "      <td>1</td>\n",
       "      <td>1574</td>\n",
       "      <td>64255.0</td>\n",
       "      <td>3410</td>\n",
       "      <td>0</td>\n",
       "      <td>2</td>\n",
       "      <td>11</td>\n",
       "      <td>0</td>\n",
       "      <td>743</td>\n",
       "    </tr>\n",
       "    <tr>\n",
       "      <th>3969</th>\n",
       "      <td>2</td>\n",
       "      <td>2</td>\n",
       "      <td>2015-12-22</td>\n",
       "      <td>2016-10-20</td>\n",
       "      <td>1</td>\n",
       "      <td>1731</td>\n",
       "      <td>17529.0</td>\n",
       "      <td>681</td>\n",
       "      <td>0</td>\n",
       "      <td>2</td>\n",
       "      <td>5</td>\n",
       "      <td>0</td>\n",
       "      <td>303</td>\n",
       "    </tr>\n",
       "    <tr>\n",
       "      <th>183</th>\n",
       "      <td>2</td>\n",
       "      <td>3</td>\n",
       "      <td>2017-06-02</td>\n",
       "      <td>2018-08-03</td>\n",
       "      <td>1</td>\n",
       "      <td>3150</td>\n",
       "      <td>127509.0</td>\n",
       "      <td>226</td>\n",
       "      <td>0</td>\n",
       "      <td>3</td>\n",
       "      <td>4</td>\n",
       "      <td>0</td>\n",
       "      <td>427</td>\n",
       "    </tr>\n",
       "    <tr>\n",
       "      <th>788</th>\n",
       "      <td>2</td>\n",
       "      <td>3</td>\n",
       "      <td>2015-05-08</td>\n",
       "      <td>2018-06-18</td>\n",
       "      <td>1</td>\n",
       "      <td>1556</td>\n",
       "      <td>25849.0</td>\n",
       "      <td>3933</td>\n",
       "      <td>0</td>\n",
       "      <td>4</td>\n",
       "      <td>12</td>\n",
       "      <td>0</td>\n",
       "      <td>1137</td>\n",
       "    </tr>\n",
       "    <tr>\n",
       "      <th>1651</th>\n",
       "      <td>2</td>\n",
       "      <td>2</td>\n",
       "      <td>2017-10-08</td>\n",
       "      <td>2018-03-15</td>\n",
       "      <td>1</td>\n",
       "      <td>1811</td>\n",
       "      <td>5354.0</td>\n",
       "      <td>1214</td>\n",
       "      <td>0</td>\n",
       "      <td>1</td>\n",
       "      <td>5</td>\n",
       "      <td>0</td>\n",
       "      <td>158</td>\n",
       "    </tr>\n",
       "    <tr>\n",
       "      <th>4582</th>\n",
       "      <td>2</td>\n",
       "      <td>2</td>\n",
       "      <td>2016-02-03</td>\n",
       "      <td>2016-05-31</td>\n",
       "      <td>1</td>\n",
       "      <td>1521</td>\n",
       "      <td>96734.0</td>\n",
       "      <td>240</td>\n",
       "      <td>0</td>\n",
       "      <td>1</td>\n",
       "      <td>4</td>\n",
       "      <td>0</td>\n",
       "      <td>118</td>\n",
       "    </tr>\n",
       "    <tr>\n",
       "      <th>3424</th>\n",
       "      <td>2</td>\n",
       "      <td>3</td>\n",
       "      <td>2014-05-13</td>\n",
       "      <td>2017-03-14</td>\n",
       "      <td>1</td>\n",
       "      <td>3147</td>\n",
       "      <td>53320.0</td>\n",
       "      <td>697</td>\n",
       "      <td>0</td>\n",
       "      <td>4</td>\n",
       "      <td>10</td>\n",
       "      <td>0</td>\n",
       "      <td>1036</td>\n",
       "    </tr>\n",
       "    <tr>\n",
       "      <th>511</th>\n",
       "      <td>2</td>\n",
       "      <td>3</td>\n",
       "      <td>2017-01-30</td>\n",
       "      <td>2018-07-09</td>\n",
       "      <td>1</td>\n",
       "      <td>695</td>\n",
       "      <td>10687.0</td>\n",
       "      <td>810</td>\n",
       "      <td>0</td>\n",
       "      <td>0</td>\n",
       "      <td>3</td>\n",
       "      <td>0</td>\n",
       "      <td>525</td>\n",
       "    </tr>\n",
       "    <tr>\n",
       "      <th>1796</th>\n",
       "      <td>2</td>\n",
       "      <td>2</td>\n",
       "      <td>2017-09-15</td>\n",
       "      <td>2018-02-07</td>\n",
       "      <td>1</td>\n",
       "      <td>1766</td>\n",
       "      <td>15902.0</td>\n",
       "      <td>689</td>\n",
       "      <td>0</td>\n",
       "      <td>1</td>\n",
       "      <td>6</td>\n",
       "      <td>0</td>\n",
       "      <td>145</td>\n",
       "    </tr>\n",
       "  </tbody>\n",
       "</table>\n",
       "</div>"
      ],
      "text/plain": [
       "      areaAtuacao  classe dataAutuacao dataEntrada  homologado  itemCnmp  \\\n",
       "4495            2       2   2015-04-29  2016-06-13           1      1859   \n",
       "3000            2       3   2015-05-03  2017-05-15           1      1574   \n",
       "3969            2       2   2015-12-22  2016-10-20           1      1731   \n",
       "183             2       3   2017-06-02  2018-08-03           1      3150   \n",
       "788             2       3   2015-05-08  2018-06-18           1      1556   \n",
       "1651            2       2   2017-10-08  2018-03-15           1      1811   \n",
       "4582            2       2   2016-02-03  2016-05-31           1      1521   \n",
       "3424            2       3   2014-05-13  2017-03-14           1      3147   \n",
       "511             2       3   2017-01-30  2018-07-09           1       695   \n",
       "1796            2       2   2017-09-15  2018-02-07           1      1766   \n",
       "\n",
       "      membroResponsavel  municipio  prioritario  quantidadeConversoes  \\\n",
       "4495            27349.0       4255            0                     2   \n",
       "3000            64255.0       3410            0                     2   \n",
       "3969            17529.0        681            0                     2   \n",
       "183            127509.0        226            0                     3   \n",
       "788             25849.0       3933            0                     4   \n",
       "1651             5354.0       1214            0                     1   \n",
       "4582            96734.0        240            0                     1   \n",
       "3424            53320.0        697            0                     4   \n",
       "511             10687.0        810            0                     0   \n",
       "1796            15902.0        689            0                     1   \n",
       "\n",
       "      quantidadeProvidencias  urgente  diasTranscorridos  \n",
       "4495                       3        0                411  \n",
       "3000                      11        0                743  \n",
       "3969                       5        0                303  \n",
       "183                        4        0                427  \n",
       "788                       12        0               1137  \n",
       "1651                       5        0                158  \n",
       "4582                       4        0                118  \n",
       "3424                      10        0               1036  \n",
       "511                        3        0                525  \n",
       "1796                       6        0                145  "
      ]
     },
     "execution_count": 17,
     "metadata": {},
     "output_type": "execute_result"
    }
   ],
   "source": [
    "df_work.sample(10)"
   ]
  },
  {
   "cell_type": "code",
   "execution_count": 18,
   "metadata": {},
   "outputs": [
    {
     "data": {
      "text/plain": [
       "RandomForestClassifier(bootstrap=True, class_weight=None, criterion='gini',\n",
       "            max_depth=None, max_features='auto', max_leaf_nodes=None,\n",
       "            min_impurity_decrease=0.0, min_impurity_split=None,\n",
       "            min_samples_leaf=1, min_samples_split=2,\n",
       "            min_weight_fraction_leaf=0.0, n_estimators=10, n_jobs=1,\n",
       "            oob_score=False, random_state=42, verbose=0, warm_start=False)"
      ]
     },
     "execution_count": 18,
     "metadata": {},
     "output_type": "execute_result"
    }
   ],
   "source": [
    "removed_columns = ['homologado', 'dataEntrada', 'dataAutuacao']\n",
    "features = [c for c in df_work.columns if c not in removed_columns]\n",
    "\n",
    "model = RandomForestClassifier(random_state=42)\n",
    "model.fit(df_work[features], df_work['homologado'])"
   ]
  },
  {
   "cell_type": "code",
   "execution_count": 19,
   "metadata": {},
   "outputs": [
    {
     "data": {
      "text/plain": [
       "0.9988921713441654"
      ]
     },
     "execution_count": 19,
     "metadata": {},
     "output_type": "execute_result"
    }
   ],
   "source": [
    "model.score(df_work[features], df_work['homologado'])"
   ]
  },
  {
   "cell_type": "code",
   "execution_count": 20,
   "metadata": {},
   "outputs": [
    {
     "data": {
      "text/plain": [
       "((4062, 13), (1354, 13))"
      ]
     },
     "execution_count": 20,
     "metadata": {},
     "output_type": "execute_result"
    }
   ],
   "source": [
    "from sklearn.model_selection import train_test_split\n",
    "\n",
    "train, valid = train_test_split(df_work, random_state=42)\n",
    "train.shape, valid.shape"
   ]
  },
  {
   "cell_type": "code",
   "execution_count": 21,
   "metadata": {},
   "outputs": [
    {
     "data": {
      "text/plain": [
       "RandomForestClassifier(bootstrap=True, class_weight=None, criterion='gini',\n",
       "            max_depth=None, max_features='auto', max_leaf_nodes=None,\n",
       "            min_impurity_decrease=0.0, min_impurity_split=None,\n",
       "            min_samples_leaf=1, min_samples_split=2,\n",
       "            min_weight_fraction_leaf=0.0, n_estimators=10, n_jobs=1,\n",
       "            oob_score=False, random_state=42, verbose=0, warm_start=False)"
      ]
     },
     "execution_count": 21,
     "metadata": {},
     "output_type": "execute_result"
    }
   ],
   "source": [
    "model.fit(train[features], train['homologado'])"
   ]
  },
  {
   "cell_type": "code",
   "execution_count": 22,
   "metadata": {},
   "outputs": [],
   "source": [
    "train_preds = model.predict(train[features])\n",
    "valid_preds = model.predict(valid[features])"
   ]
  },
  {
   "cell_type": "code",
   "execution_count": 23,
   "metadata": {},
   "outputs": [
    {
     "name": "stdout",
     "output_type": "stream",
     "text": [
      "Accuracy score: 0.9975381585425899 0.9844903988183161\n",
      "Precision score:  0.9844789356984479\n",
      "Recall score:  1.0\n",
      "F1 score:  0.9921787709497207\n"
     ]
    }
   ],
   "source": [
    "from sklearn.metrics import accuracy_score, precision_score, recall_score, f1_score\n",
    "\n",
    "def print_score():\n",
    "    print('Accuracy score:', accuracy_score(train['homologado'], train_preds), accuracy_score(valid['homologado'], valid_preds))\n",
    "    print('Precision score: ', format(precision_score(valid['homologado'], valid_preds)))\n",
    "    print('Recall score: ', format(recall_score(valid['homologado'], valid_preds)))\n",
    "    print('F1 score: ', format(f1_score(valid['homologado'], valid_preds)))\n",
    "\n",
    "print_score()"
   ]
  },
  {
   "cell_type": "markdown",
   "metadata": {},
   "source": [
    "### Primeira avaliação\n",
    "\n",
    "Embora não tenha ocorrido overfitting no treinamento e o *score* final tenha sido alto, cabe utilizar uma outra medida para assegurar a qualidade do modelo. Vamos utilizar a ** *matriz de confusão* **.\n",
    "\n"
   ]
  },
  {
   "cell_type": "code",
   "execution_count": 24,
   "metadata": {
    "scrolled": true
   },
   "outputs": [
    {
     "data": {
      "text/plain": [
       "array([[   1,   21],\n",
       "       [   0, 1332]])"
      ]
     },
     "execution_count": 24,
     "metadata": {},
     "output_type": "execute_result"
    }
   ],
   "source": [
    "from sklearn.metrics import confusion_matrix\n",
    "\n",
    "confusion_matrix(valid['homologado'], valid_preds)"
   ]
  },
  {
   "cell_type": "code",
   "execution_count": 25,
   "metadata": {},
   "outputs": [
    {
     "data": {
      "text/plain": [
       "array([   1,   21,    0, 1332])"
      ]
     },
     "execution_count": 25,
     "metadata": {},
     "output_type": "execute_result"
    }
   ],
   "source": [
    "confusion_matrix(valid['homologado'], valid_preds).ravel()"
   ]
  },
  {
   "cell_type": "code",
   "execution_count": 26,
   "metadata": {},
   "outputs": [
    {
     "data": {
      "text/plain": [
       "(1332, 22)"
      ]
     },
     "execution_count": 26,
     "metadata": {},
     "output_type": "execute_result"
    }
   ],
   "source": [
    "len(valid[valid['homologado']==1]), len(valid[valid['homologado']==0])"
   ]
  },
  {
   "cell_type": "markdown",
   "metadata": {},
   "source": [
    "Ao utilizar o ravel(), temos uma saída do tipo (tn, fp, fn, tp). De onde vemos que:\n",
    "\n",
    "\n",
    "- tivemos 1 tn - *true negative*; ou seja, o modelo acertou **apenas um** dos que não tiveram o arquivamento homologado;\n",
    "- tivemos 21 fp - *false positive*; 21 que não tiveram o arquivamento homologado e o modelo classificou como homologado;\n",
    "- tivemos 0 fn - *false negative*; foram homologados e o modelo marcou como não homologados;\n",
    "- tivemos 1322 tp - *true positive*; foram homologados e o modelo marcou corretamente.\n",
    "\n",
    "Logo, apesar da acurácia do modelo aparentar ser muito boa (98% no validation set), o **modelo não sabe lidar com os não arquivamentos** - não acertou nenhum dos que realmente não foram homologados. Ou seja dos 22 que não foram homologados, o modelo errou todos.\n",
    "\n",
    "Fica claro que somente essas features não ajudam na descoberta - o texto da íntegra é, segundo a área negocial, realmente o mais importante.\n",
    "\n",
    "Vamos continuar avaliando esse modelo."
   ]
  },
  {
   "cell_type": "markdown",
   "metadata": {},
   "source": [
    "## Feature importances"
   ]
  },
  {
   "cell_type": "code",
   "execution_count": 27,
   "metadata": {},
   "outputs": [
    {
     "data": {
      "image/png": "[encoded data removed]",
      "text/plain": [
       "<Figure size 432x288 with 1 Axes>"
      ]
     },
     "metadata": {},
     "output_type": "display_data"
    }
   ],
   "source": [
    "import matplotlib.pyplot as plt\n",
    "\n",
    "def plot_fi(feature_importances, size=None):\n",
    "    feature_importances = model.feature_importances_\n",
    "    \n",
    "    if not size:\n",
    "        size = len(feature_importances)\n",
    "    \n",
    "    indices = np.argsort(feature_importances[0:size])\n",
    "    \n",
    "    plt.title('Feature Importances')\n",
    "    plt.barh(range(size), feature_importances[indices], color='b', align='center')\n",
    "    plt.yticks(range(size), [features[i] for i in indices if i < size])\n",
    "    plt.xlabel('Relative Importance')\n",
    "    plt.show()\n",
    "    \n",
    "plot_fi(model.feature_importances_)"
   ]
  },
  {
   "cell_type": "markdown",
   "metadata": {},
   "source": [
    "O modelo está dando muita importância ao município que, considerando o bom senso e um pouco de domínio negocial, não faz sentido - o município não deveria interferir.\n",
    "\n",
    "Lembrar: criar uma coluna para cada uma das listas de palavras-chaves, indicando ausência ou presença"
   ]
  },
  {
   "cell_type": "code",
   "execution_count": 28,
   "metadata": {},
   "outputs": [
    {
     "name": "stdout",
     "output_type": "stream",
     "text": [
      "Accuracy score: 0.9975381585425899 0.9844903988183161\n",
      "Precision score:  0.9844789356984479\n",
      "Recall score:  1.0\n",
      "F1 score:  0.9921787709497207\n"
     ]
    }
   ],
   "source": [
    "# Vou retirar as colunas com poucas importância\n",
    "removed_columns = ['homologado', 'dataEntrada', 'dataAutuacao', 'urgente', 'prioritario']\n",
    "features = [c for c in df_work.columns if c not in removed_columns]\n",
    "\n",
    "model = RandomForestClassifier(random_state=42)\n",
    "\n",
    "model.fit(train[features], train['homologado'])\n",
    "\n",
    "train_preds = model.predict(train[features])\n",
    "valid_preds = model.predict(valid[features])\n",
    "\n",
    "print_score()"
   ]
  },
  {
   "cell_type": "code",
   "execution_count": 29,
   "metadata": {},
   "outputs": [
    {
     "data": {
      "text/plain": [
       "array([   1,   21,    0, 1332])"
      ]
     },
     "execution_count": 29,
     "metadata": {},
     "output_type": "execute_result"
    }
   ],
   "source": [
    "confusion_matrix(valid['homologado'], valid_preds).ravel()"
   ]
  },
  {
   "cell_type": "code",
   "execution_count": 30,
   "metadata": {},
   "outputs": [
    {
     "data": {
      "image/png": "[encoded data removed]",
      "text/plain": [
       "<Figure size 432x288 with 1 Axes>"
      ]
     },
     "metadata": {},
     "output_type": "display_data"
    }
   ],
   "source": [
    "plot_fi(model.feature_importances_)"
   ]
  },
  {
   "cell_type": "markdown",
   "metadata": {},
   "source": [
    "Com as novas features, retirando a urgente e a prioritário, não houve melhorias.\n",
    "\n",
    "Vou retirar a coluna município, pois, ao meu ver, ela não nos parece adequada - e o modelo continua dando muita importância a ela."
   ]
  },
  {
   "cell_type": "code",
   "execution_count": 31,
   "metadata": {},
   "outputs": [
    {
     "name": "stdout",
     "output_type": "stream",
     "text": [
      "Accuracy score: 0.9977843426883308 0.98301329394387\n",
      "Precision score:  0.983739837398374\n",
      "Recall score:  0.9992492492492493\n",
      "F1 score:  0.9914338919925514\n"
     ]
    }
   ],
   "source": [
    "removed_columns.append('municipio')\n",
    "removed_columns\n",
    "\n",
    "features = [c for c in df_work.columns if c not in removed_columns]\n",
    "\n",
    "model.fit(train[features], train['homologado'])\n",
    "\n",
    "train_preds = model.predict(train[features])\n",
    "valid_preds = model.predict(valid[features])\n",
    "\n",
    "print_score()"
   ]
  },
  {
   "cell_type": "code",
   "execution_count": 32,
   "metadata": {},
   "outputs": [
    {
     "data": {
      "text/plain": [
       "array([   0,   22,    1, 1331])"
      ]
     },
     "execution_count": 32,
     "metadata": {},
     "output_type": "execute_result"
    }
   ],
   "source": [
    "confusion_matrix(valid['homologado'], valid_preds).ravel()"
   ]
  },
  {
   "cell_type": "code",
   "execution_count": 33,
   "metadata": {},
   "outputs": [
    {
     "data": {
      "image/png": "[encoded data removed]",
      "text/plain": [
       "<Figure size 432x288 with 1 Axes>"
      ]
     },
     "metadata": {},
     "output_type": "display_data"
    }
   ],
   "source": [
    "plot_fi(model.feature_importances_)"
   ]
  },
  {
   "cell_type": "markdown",
   "metadata": {},
   "source": [
    "Ao retirar a coluna município, a acurácia caiu. E trocou o true negative pelo false negative.\n",
    "\n",
    "Vamos criar um modelo ainda mais simples, apenas com as features cuja importância seja maior que 5%."
   ]
  },
  {
   "cell_type": "code",
   "execution_count": 34,
   "metadata": {},
   "outputs": [
    {
     "name": "stdout",
     "output_type": "stream",
     "text": [
      "Accuracy score: 0.9977843426883308 0.982274741506647\n",
      "Precision score:  0.9837278106508875\n",
      "Recall score:  0.9984984984984985\n",
      "F1 score:  0.9910581222056632\n"
     ]
    }
   ],
   "source": [
    "model = RandomForestClassifier(random_state=42)\n",
    "\n",
    "important_features = ['membroResponsavel', 'diasTranscorridos', 'itemCnmp', 'quantidadeProvidencias', 'quantidadeConversoes']\n",
    "model.fit(train[important_features], train['homologado'])\n",
    "\n",
    "train_preds = model.predict(train[important_features])\n",
    "valid_preds = model.predict(valid[important_features])\n",
    "\n",
    "print_score()"
   ]
  },
  {
   "cell_type": "code",
   "execution_count": 35,
   "metadata": {},
   "outputs": [
    {
     "data": {
      "text/plain": [
       "array([   0,   22,    2, 1330])"
      ]
     },
     "execution_count": 35,
     "metadata": {},
     "output_type": "execute_result"
    }
   ],
   "source": [
    "confusion_matrix(valid['homologado'], valid_preds).ravel()"
   ]
  },
  {
   "cell_type": "code",
   "execution_count": 36,
   "metadata": {},
   "outputs": [
    {
     "data": {
      "image/png": "[encoded data removed]",
      "text/plain": [
       "<Figure size 432x288 with 1 Axes>"
      ]
     },
     "metadata": {},
     "output_type": "display_data"
    }
   ],
   "source": [
    "plot_fi(model.feature_importances_)"
   ]
  },
  {
   "cell_type": "markdown",
   "metadata": {},
   "source": [
    "Somente com as features importantes acima, o desempenho piorou (caiu a acurácia e métricas relacionadas, e ainda tivemos 2 false negatives - homologados marcados como não homologados). \n",
    "\n",
    "Interessante notar que a variável diasTranscorridos desapereceu da lista de importâncias.\n",
    "\n",
    "Vamos fazer mais um teste, apenas com as top-3 features"
   ]
  },
  {
   "cell_type": "code",
   "execution_count": 37,
   "metadata": {},
   "outputs": [
    {
     "name": "stdout",
     "output_type": "stream",
     "text": [
      "Accuracy score: 0.9867060561299852 0.98301329394387\n",
      "Precision score:  0.983739837398374\n",
      "Recall score:  0.9992492492492493\n",
      "F1 score:  0.9914338919925514\n"
     ]
    }
   ],
   "source": [
    "important_features = ['classe', 'areaAtuacao', 'itemCnmp']\n",
    "\n",
    "model = RandomForestClassifier(random_state=42)\n",
    "model.fit(train[important_features], train['homologado'])\n",
    "\n",
    "train_preds = model.predict(train[important_features])\n",
    "valid_preds = model.predict(valid[important_features])\n",
    "\n",
    "print_score()"
   ]
  },
  {
   "cell_type": "code",
   "execution_count": 38,
   "metadata": {},
   "outputs": [
    {
     "data": {
      "text/plain": [
       "array([   0,   22,    1, 1331])"
      ]
     },
     "execution_count": 38,
     "metadata": {},
     "output_type": "execute_result"
    }
   ],
   "source": [
    "confusion_matrix(valid['homologado'], valid_preds).ravel()"
   ]
  },
  {
   "cell_type": "markdown",
   "metadata": {},
   "source": [
    "Com o modelo mais simples, a acurácia foi melhor do que o anterior, mas ainda há falsos positivos. \n",
    "\n",
    "Fica claro que não sabe lidar com os não homologados.\n",
    "\n",
    "Vamos passar a considerar o texto das providências."
   ]
  },
  {
   "cell_type": "markdown",
   "metadata": {},
   "source": [
    "## Considerando as providências realizadas"
   ]
  },
  {
   "cell_type": "code",
   "execution_count": 39,
   "metadata": {},
   "outputs": [
    {
     "data": {
      "text/html": [
       "<div>\n",
       "<style scoped>\n",
       "    .dataframe tbody tr th:only-of-type {\n",
       "        vertical-align: middle;\n",
       "    }\n",
       "\n",
       "    .dataframe tbody tr th {\n",
       "        vertical-align: top;\n",
       "    }\n",
       "\n",
       "    .dataframe thead th {\n",
       "        text-align: right;\n",
       "    }\n",
       "</style>\n",
       "<table border=\"1\" class=\"dataframe\">\n",
       "  <thead>\n",
       "    <tr style=\"text-align: right;\">\n",
       "      <th></th>\n",
       "      <th>areaAtuacao</th>\n",
       "      <th>classe</th>\n",
       "      <th>homologado</th>\n",
       "      <th>itemCnmp</th>\n",
       "      <th>membroResponsavel</th>\n",
       "      <th>municipio</th>\n",
       "      <th>quantidadeConversoes</th>\n",
       "      <th>quantidadeProvidencias</th>\n",
       "      <th>textosProvidencias</th>\n",
       "      <th>diasTranscorridos</th>\n",
       "    </tr>\n",
       "  </thead>\n",
       "  <tbody>\n",
       "    <tr>\n",
       "      <th>3422</th>\n",
       "      <td>2</td>\n",
       "      <td>3</td>\n",
       "      <td>1</td>\n",
       "      <td>1861</td>\n",
       "      <td>29193.0</td>\n",
       "      <td>3711</td>\n",
       "      <td>3</td>\n",
       "      <td>5</td>\n",
       "      <td>Converta-se em Inquérito Civil(IC).,Prorroga-s...</td>\n",
       "      <td>229</td>\n",
       "    </tr>\n",
       "    <tr>\n",
       "      <th>3426</th>\n",
       "      <td>2</td>\n",
       "      <td>3</td>\n",
       "      <td>1</td>\n",
       "      <td>1523</td>\n",
       "      <td>19815.0</td>\n",
       "      <td>2211</td>\n",
       "      <td>3</td>\n",
       "      <td>29</td>\n",
       "      <td>Desapense-se.,Converta-se em Inquérito Civil(I...</td>\n",
       "      <td>842</td>\n",
       "    </tr>\n",
       "    <tr>\n",
       "      <th>2856</th>\n",
       "      <td>2</td>\n",
       "      <td>3</td>\n",
       "      <td>1</td>\n",
       "      <td>1868</td>\n",
       "      <td>2663.0</td>\n",
       "      <td>3113</td>\n",
       "      <td>3</td>\n",
       "      <td>20</td>\n",
       "      <td>Converta-se em Inquérito Civil(IC).,Junte-se.,...</td>\n",
       "      <td>636</td>\n",
       "    </tr>\n",
       "    <tr>\n",
       "      <th>3347</th>\n",
       "      <td>2</td>\n",
       "      <td>3</td>\n",
       "      <td>1</td>\n",
       "      <td>1538</td>\n",
       "      <td>116506.0</td>\n",
       "      <td>4900</td>\n",
       "      <td>3</td>\n",
       "      <td>8</td>\n",
       "      <td>Encaminhe-se o auto.,Converta-se em Inquérito ...</td>\n",
       "      <td>502</td>\n",
       "    </tr>\n",
       "    <tr>\n",
       "      <th>5337</th>\n",
       "      <td>5</td>\n",
       "      <td>3</td>\n",
       "      <td>1</td>\n",
       "      <td>3130</td>\n",
       "      <td>11289.0</td>\n",
       "      <td>1541</td>\n",
       "      <td>3</td>\n",
       "      <td>9</td>\n",
       "      <td>Converta-se em Inquérito Civil(IC).,Oficie-se....</td>\n",
       "      <td>427</td>\n",
       "    </tr>\n",
       "    <tr>\n",
       "      <th>1852</th>\n",
       "      <td>2</td>\n",
       "      <td>3</td>\n",
       "      <td>1</td>\n",
       "      <td>2007098</td>\n",
       "      <td>26482.0</td>\n",
       "      <td>3281</td>\n",
       "      <td>1</td>\n",
       "      <td>3</td>\n",
       "      <td>Converta-se em Inquérito Civil(IC).,Oficie-se.</td>\n",
       "      <td>204</td>\n",
       "    </tr>\n",
       "    <tr>\n",
       "      <th>4779</th>\n",
       "      <td>2</td>\n",
       "      <td>3</td>\n",
       "      <td>1</td>\n",
       "      <td>1580</td>\n",
       "      <td>23450.0</td>\n",
       "      <td>1996</td>\n",
       "      <td>4</td>\n",
       "      <td>20</td>\n",
       "      <td>Desanexa-se.,Junte-se.,Oficie-se.,Prorroga-se ...</td>\n",
       "      <td>2189</td>\n",
       "    </tr>\n",
       "    <tr>\n",
       "      <th>2979</th>\n",
       "      <td>2</td>\n",
       "      <td>2</td>\n",
       "      <td>1</td>\n",
       "      <td>3047</td>\n",
       "      <td>19247.0</td>\n",
       "      <td>4852</td>\n",
       "      <td>1</td>\n",
       "      <td>2</td>\n",
       "      <td>Oficie-se.,Converta-se em Procedimento Prepara...</td>\n",
       "      <td>146</td>\n",
       "    </tr>\n",
       "    <tr>\n",
       "      <th>34</th>\n",
       "      <td>2</td>\n",
       "      <td>3</td>\n",
       "      <td>1</td>\n",
       "      <td>1507</td>\n",
       "      <td>4064.0</td>\n",
       "      <td>3113</td>\n",
       "      <td>1</td>\n",
       "      <td>9</td>\n",
       "      <td>Despacho Simplificado,Converta-se em Inquérito...</td>\n",
       "      <td>83</td>\n",
       "    </tr>\n",
       "    <tr>\n",
       "      <th>370</th>\n",
       "      <td>2</td>\n",
       "      <td>2</td>\n",
       "      <td>1</td>\n",
       "      <td>1507</td>\n",
       "      <td>20400.0</td>\n",
       "      <td>4313</td>\n",
       "      <td>3</td>\n",
       "      <td>4</td>\n",
       "      <td>Oficie-se.,Prorroga-se o prazo de finalização ...</td>\n",
       "      <td>299</td>\n",
       "    </tr>\n",
       "  </tbody>\n",
       "</table>\n",
       "</div>"
      ],
      "text/plain": [
       "      areaAtuacao  classe  homologado  itemCnmp  membroResponsavel  municipio  \\\n",
       "3422            2       3           1      1861            29193.0       3711   \n",
       "3426            2       3           1      1523            19815.0       2211   \n",
       "2856            2       3           1      1868             2663.0       3113   \n",
       "3347            2       3           1      1538           116506.0       4900   \n",
       "5337            5       3           1      3130            11289.0       1541   \n",
       "1852            2       3           1   2007098            26482.0       3281   \n",
       "4779            2       3           1      1580            23450.0       1996   \n",
       "2979            2       2           1      3047            19247.0       4852   \n",
       "34              2       3           1      1507             4064.0       3113   \n",
       "370             2       2           1      1507            20400.0       4313   \n",
       "\n",
       "      quantidadeConversoes  quantidadeProvidencias  \\\n",
       "3422                     3                       5   \n",
       "3426                     3                      29   \n",
       "2856                     3                      20   \n",
       "3347                     3                       8   \n",
       "5337                     3                       9   \n",
       "1852                     1                       3   \n",
       "4779                     4                      20   \n",
       "2979                     1                       2   \n",
       "34                       1                       9   \n",
       "370                      3                       4   \n",
       "\n",
       "                                     textosProvidencias  diasTranscorridos  \n",
       "3422  Converta-se em Inquérito Civil(IC).,Prorroga-s...                229  \n",
       "3426  Desapense-se.,Converta-se em Inquérito Civil(I...                842  \n",
       "2856  Converta-se em Inquérito Civil(IC).,Junte-se.,...                636  \n",
       "3347  Encaminhe-se o auto.,Converta-se em Inquérito ...                502  \n",
       "5337  Converta-se em Inquérito Civil(IC).,Oficie-se....                427  \n",
       "1852     Converta-se em Inquérito Civil(IC).,Oficie-se.                204  \n",
       "4779  Desanexa-se.,Junte-se.,Oficie-se.,Prorroga-se ...               2189  \n",
       "2979  Oficie-se.,Converta-se em Procedimento Prepara...                146  \n",
       "34    Despacho Simplificado,Converta-se em Inquérito...                 83  \n",
       "370   Oficie-se.,Prorroga-se o prazo de finalização ...                299  "
      ]
     },
     "execution_count": 39,
     "metadata": {},
     "output_type": "execute_result"
    }
   ],
   "source": [
    "df_work = df_original.copy()\n",
    "\n",
    "df_work.dropna(subset=['identificadorPecaPromocao'], inplace=True)\n",
    "df_work.reset_index(drop=True, inplace=True)\n",
    "\n",
    "df_work['dataAutuacao'] = pd.to_datetime(df_work['dataAutuacao'],infer_datetime_format=True)\n",
    "df_work['dataEntrada'] = pd.to_datetime(df_work['dataEntrada'],infer_datetime_format=True)\n",
    "\n",
    "df_work['diasTranscorridos'] = 0\n",
    "for index in range(len(df_work)):\n",
    "    df_work.loc[index, 'diasTranscorridos'] =  np.abs((df_work.loc[index, 'dataEntrada'] - df_work.loc[index, 'dataAutuacao']).days)\n",
    "\n",
    "removed_columns = ['id', 'procedimento', 'identificadorPecaPromocao', 'prioritario', 'urgente', 'dataAutuacao', 'dataEntrada']\n",
    "df_work = df_work.drop(columns=removed_columns)\n",
    "df_work.fillna(-1, inplace=True)\n",
    "\n",
    "    \n",
    "df_work.sample(10)"
   ]
  },
  {
   "cell_type": "code",
   "execution_count": 40,
   "metadata": {},
   "outputs": [
    {
     "data": {
      "text/html": [
       "<div>\n",
       "<style scoped>\n",
       "    .dataframe tbody tr th:only-of-type {\n",
       "        vertical-align: middle;\n",
       "    }\n",
       "\n",
       "    .dataframe tbody tr th {\n",
       "        vertical-align: top;\n",
       "    }\n",
       "\n",
       "    .dataframe thead th {\n",
       "        text-align: right;\n",
       "    }\n",
       "</style>\n",
       "<table border=\"1\" class=\"dataframe\">\n",
       "  <thead>\n",
       "    <tr style=\"text-align: right;\">\n",
       "      <th></th>\n",
       "      <th>areaAtuacao</th>\n",
       "      <th>classe</th>\n",
       "      <th>homologado</th>\n",
       "      <th>itemCnmp</th>\n",
       "      <th>membroResponsavel</th>\n",
       "      <th>municipio</th>\n",
       "      <th>quantidadeConversoes</th>\n",
       "      <th>quantidadeProvidencias</th>\n",
       "      <th>diasTranscorridos</th>\n",
       "    </tr>\n",
       "  </thead>\n",
       "  <tbody>\n",
       "    <tr>\n",
       "      <th>count</th>\n",
       "      <td>5.416000e+03</td>\n",
       "      <td>5416.000000</td>\n",
       "      <td>5416.000000</td>\n",
       "      <td>5.416000e+03</td>\n",
       "      <td>5416.000000</td>\n",
       "      <td>5416.000000</td>\n",
       "      <td>5416.000000</td>\n",
       "      <td>5416.000000</td>\n",
       "      <td>5416.000000</td>\n",
       "    </tr>\n",
       "    <tr>\n",
       "      <th>mean</th>\n",
       "      <td>3.715170e+02</td>\n",
       "      <td>2.541728</td>\n",
       "      <td>0.984675</td>\n",
       "      <td>2.365916e+04</td>\n",
       "      <td>38441.630908</td>\n",
       "      <td>2898.190177</td>\n",
       "      <td>2.070901</td>\n",
       "      <td>7.231905</td>\n",
       "      <td>574.307792</td>\n",
       "    </tr>\n",
       "    <tr>\n",
       "      <th>std</th>\n",
       "      <td>2.717745e+04</td>\n",
       "      <td>0.965573</td>\n",
       "      <td>0.122853</td>\n",
       "      <td>2.081188e+05</td>\n",
       "      <td>34276.472876</td>\n",
       "      <td>1662.738746</td>\n",
       "      <td>1.406145</td>\n",
       "      <td>8.338839</td>\n",
       "      <td>600.175928</td>\n",
       "    </tr>\n",
       "    <tr>\n",
       "      <th>min</th>\n",
       "      <td>1.000000e+00</td>\n",
       "      <td>1.000000</td>\n",
       "      <td>0.000000</td>\n",
       "      <td>2.000000e+00</td>\n",
       "      <td>752.000000</td>\n",
       "      <td>1.000000</td>\n",
       "      <td>0.000000</td>\n",
       "      <td>0.000000</td>\n",
       "      <td>0.000000</td>\n",
       "    </tr>\n",
       "    <tr>\n",
       "      <th>25%</th>\n",
       "      <td>2.000000e+00</td>\n",
       "      <td>2.000000</td>\n",
       "      <td>1.000000</td>\n",
       "      <td>1.521000e+03</td>\n",
       "      <td>13674.000000</td>\n",
       "      <td>1438.000000</td>\n",
       "      <td>1.000000</td>\n",
       "      <td>3.000000</td>\n",
       "      <td>175.000000</td>\n",
       "    </tr>\n",
       "    <tr>\n",
       "      <th>50%</th>\n",
       "      <td>2.000000e+00</td>\n",
       "      <td>3.000000</td>\n",
       "      <td>1.000000</td>\n",
       "      <td>1.585000e+03</td>\n",
       "      <td>24990.000000</td>\n",
       "      <td>3078.000000</td>\n",
       "      <td>2.000000</td>\n",
       "      <td>5.000000</td>\n",
       "      <td>359.000000</td>\n",
       "    </tr>\n",
       "    <tr>\n",
       "      <th>75%</th>\n",
       "      <td>2.000000e+00</td>\n",
       "      <td>3.000000</td>\n",
       "      <td>1.000000</td>\n",
       "      <td>1.903000e+03</td>\n",
       "      <td>53327.000000</td>\n",
       "      <td>4335.000000</td>\n",
       "      <td>3.000000</td>\n",
       "      <td>9.000000</td>\n",
       "      <td>769.250000</td>\n",
       "    </tr>\n",
       "    <tr>\n",
       "      <th>max</th>\n",
       "      <td>2.000085e+06</td>\n",
       "      <td>61.000000</td>\n",
       "      <td>1.000000</td>\n",
       "      <td>2.007548e+06</td>\n",
       "      <td>127563.000000</td>\n",
       "      <td>5768.000000</td>\n",
       "      <td>13.000000</td>\n",
       "      <td>140.000000</td>\n",
       "      <td>5879.000000</td>\n",
       "    </tr>\n",
       "  </tbody>\n",
       "</table>\n",
       "</div>"
      ],
      "text/plain": [
       "        areaAtuacao       classe   homologado      itemCnmp  \\\n",
       "count  5.416000e+03  5416.000000  5416.000000  5.416000e+03   \n",
       "mean   3.715170e+02     2.541728     0.984675  2.365916e+04   \n",
       "std    2.717745e+04     0.965573     0.122853  2.081188e+05   \n",
       "min    1.000000e+00     1.000000     0.000000  2.000000e+00   \n",
       "25%    2.000000e+00     2.000000     1.000000  1.521000e+03   \n",
       "50%    2.000000e+00     3.000000     1.000000  1.585000e+03   \n",
       "75%    2.000000e+00     3.000000     1.000000  1.903000e+03   \n",
       "max    2.000085e+06    61.000000     1.000000  2.007548e+06   \n",
       "\n",
       "       membroResponsavel    municipio  quantidadeConversoes  \\\n",
       "count        5416.000000  5416.000000           5416.000000   \n",
       "mean        38441.630908  2898.190177              2.070901   \n",
       "std         34276.472876  1662.738746              1.406145   \n",
       "min           752.000000     1.000000              0.000000   \n",
       "25%         13674.000000  1438.000000              1.000000   \n",
       "50%         24990.000000  3078.000000              2.000000   \n",
       "75%         53327.000000  4335.000000              3.000000   \n",
       "max        127563.000000  5768.000000             13.000000   \n",
       "\n",
       "       quantidadeProvidencias  diasTranscorridos  \n",
       "count             5416.000000        5416.000000  \n",
       "mean                 7.231905         574.307792  \n",
       "std                  8.338839         600.175928  \n",
       "min                  0.000000           0.000000  \n",
       "25%                  3.000000         175.000000  \n",
       "50%                  5.000000         359.000000  \n",
       "75%                  9.000000         769.250000  \n",
       "max                140.000000        5879.000000  "
      ]
     },
     "execution_count": 40,
     "metadata": {},
     "output_type": "execute_result"
    }
   ],
   "source": [
    "df_work.describe()"
   ]
  },
  {
   "cell_type": "code",
   "execution_count": 41,
   "metadata": {},
   "outputs": [],
   "source": [
    "listaProvidencias = []\n",
    "for index in range(len(df_work)):\n",
    "    for s in str(df_work['textosProvidencias'][index]).strip().lower().split(','):\n",
    "        listaProvidencias.append(s)\n",
    "\n",
    "listaProvidencias = set(listaProvidencias)\n",
    "listaProvidencias.remove('análise do arquivamento')\n",
    "listaProvidencias.remove('analisar arquivamento')\n",
    "listaProvidencias.remove('arquive-se na unidade.')"
   ]
  },
  {
   "cell_type": "code",
   "execution_count": 42,
   "metadata": {},
   "outputs": [],
   "source": [
    "df_work = pd.concat([df_work, pd.get_dummies(sorted(list(listaProvidencias)), drop_first=True)], axis=1)"
   ]
  },
  {
   "cell_type": "code",
   "execution_count": 43,
   "metadata": {},
   "outputs": [],
   "source": [
    "for index in range(len(df_work)):\n",
    "    for s in str(df_work.textosProvidencias[index]).strip().split(','):\n",
    "        df_work.at[index, s.lower()] = 1"
   ]
  },
  {
   "cell_type": "code",
   "execution_count": 44,
   "metadata": {},
   "outputs": [
    {
     "data": {
      "text/html": [
       "<div>\n",
       "<style scoped>\n",
       "    .dataframe tbody tr th:only-of-type {\n",
       "        vertical-align: middle;\n",
       "    }\n",
       "\n",
       "    .dataframe tbody tr th {\n",
       "        vertical-align: top;\n",
       "    }\n",
       "\n",
       "    .dataframe thead th {\n",
       "        text-align: right;\n",
       "    }\n",
       "</style>\n",
       "<table border=\"1\" class=\"dataframe\">\n",
       "  <thead>\n",
       "    <tr style=\"text-align: right;\">\n",
       "      <th></th>\n",
       "      <th>areaAtuacao</th>\n",
       "      <th>classe</th>\n",
       "      <th>homologado</th>\n",
       "      <th>itemCnmp</th>\n",
       "      <th>membroResponsavel</th>\n",
       "      <th>municipio</th>\n",
       "      <th>quantidadeConversoes</th>\n",
       "      <th>quantidadeProvidencias</th>\n",
       "      <th>diasTranscorridos</th>\n",
       "      <th>analisar conflito de atribuição</th>\n",
       "      <th>...</th>\n",
       "      <th>recomende-se.</th>\n",
       "      <th>redistribua-se.</th>\n",
       "      <th>requisite-se perícia à ccr/mpf.</th>\n",
       "      <th>sobrestar no setor.</th>\n",
       "      <th>solicitar instauração de inquérito judicial</th>\n",
       "      <th>vistoria</th>\n",
       "      <th>analisar arquivamento</th>\n",
       "      <th>arquive-se na unidade.</th>\n",
       "      <th></th>\n",
       "      <th>análise do arquivamento</th>\n",
       "    </tr>\n",
       "  </thead>\n",
       "  <tbody>\n",
       "    <tr>\n",
       "      <th>count</th>\n",
       "      <td>5.416000e+03</td>\n",
       "      <td>5416.000000</td>\n",
       "      <td>5416.000000</td>\n",
       "      <td>5.416000e+03</td>\n",
       "      <td>5416.000000</td>\n",
       "      <td>5416.000000</td>\n",
       "      <td>5416.000000</td>\n",
       "      <td>5416.000000</td>\n",
       "      <td>5416.000000</td>\n",
       "      <td>103.000000</td>\n",
       "      <td>...</td>\n",
       "      <td>482.000000</td>\n",
       "      <td>519.000000</td>\n",
       "      <td>74.000000</td>\n",
       "      <td>733.000000</td>\n",
       "      <td>65.000000</td>\n",
       "      <td>72.00000</td>\n",
       "      <td>464.0</td>\n",
       "      <td>45.0</td>\n",
       "      <td>91.0</td>\n",
       "      <td>100.0</td>\n",
       "    </tr>\n",
       "    <tr>\n",
       "      <th>mean</th>\n",
       "      <td>3.715170e+02</td>\n",
       "      <td>2.541728</td>\n",
       "      <td>0.984675</td>\n",
       "      <td>2.365916e+04</td>\n",
       "      <td>38441.630908</td>\n",
       "      <td>2898.190177</td>\n",
       "      <td>2.070901</td>\n",
       "      <td>7.231905</td>\n",
       "      <td>574.307792</td>\n",
       "      <td>0.398058</td>\n",
       "      <td>...</td>\n",
       "      <td>0.873444</td>\n",
       "      <td>0.890173</td>\n",
       "      <td>0.148649</td>\n",
       "      <td>0.924966</td>\n",
       "      <td>0.030769</td>\n",
       "      <td>0.12500</td>\n",
       "      <td>1.0</td>\n",
       "      <td>1.0</td>\n",
       "      <td>1.0</td>\n",
       "      <td>1.0</td>\n",
       "    </tr>\n",
       "    <tr>\n",
       "      <th>std</th>\n",
       "      <td>2.717745e+04</td>\n",
       "      <td>0.965573</td>\n",
       "      <td>0.122853</td>\n",
       "      <td>2.081188e+05</td>\n",
       "      <td>34276.472876</td>\n",
       "      <td>1662.738746</td>\n",
       "      <td>1.406145</td>\n",
       "      <td>8.338839</td>\n",
       "      <td>600.175928</td>\n",
       "      <td>0.491891</td>\n",
       "      <td>...</td>\n",
       "      <td>0.332820</td>\n",
       "      <td>0.312975</td>\n",
       "      <td>0.358170</td>\n",
       "      <td>0.263626</td>\n",
       "      <td>0.174036</td>\n",
       "      <td>0.33304</td>\n",
       "      <td>0.0</td>\n",
       "      <td>0.0</td>\n",
       "      <td>0.0</td>\n",
       "      <td>0.0</td>\n",
       "    </tr>\n",
       "    <tr>\n",
       "      <th>min</th>\n",
       "      <td>1.000000e+00</td>\n",
       "      <td>1.000000</td>\n",
       "      <td>0.000000</td>\n",
       "      <td>2.000000e+00</td>\n",
       "      <td>752.000000</td>\n",
       "      <td>1.000000</td>\n",
       "      <td>0.000000</td>\n",
       "      <td>0.000000</td>\n",
       "      <td>0.000000</td>\n",
       "      <td>0.000000</td>\n",
       "      <td>...</td>\n",
       "      <td>0.000000</td>\n",
       "      <td>0.000000</td>\n",
       "      <td>0.000000</td>\n",
       "      <td>0.000000</td>\n",
       "      <td>0.000000</td>\n",
       "      <td>0.00000</td>\n",
       "      <td>1.0</td>\n",
       "      <td>1.0</td>\n",
       "      <td>1.0</td>\n",
       "      <td>1.0</td>\n",
       "    </tr>\n",
       "    <tr>\n",
       "      <th>25%</th>\n",
       "      <td>2.000000e+00</td>\n",
       "      <td>2.000000</td>\n",
       "      <td>1.000000</td>\n",
       "      <td>1.521000e+03</td>\n",
       "      <td>13674.000000</td>\n",
       "      <td>1438.000000</td>\n",
       "      <td>1.000000</td>\n",
       "      <td>3.000000</td>\n",
       "      <td>175.000000</td>\n",
       "      <td>0.000000</td>\n",
       "      <td>...</td>\n",
       "      <td>1.000000</td>\n",
       "      <td>1.000000</td>\n",
       "      <td>0.000000</td>\n",
       "      <td>1.000000</td>\n",
       "      <td>0.000000</td>\n",
       "      <td>0.00000</td>\n",
       "      <td>1.0</td>\n",
       "      <td>1.0</td>\n",
       "      <td>1.0</td>\n",
       "      <td>1.0</td>\n",
       "    </tr>\n",
       "    <tr>\n",
       "      <th>50%</th>\n",
       "      <td>2.000000e+00</td>\n",
       "      <td>3.000000</td>\n",
       "      <td>1.000000</td>\n",
       "      <td>1.585000e+03</td>\n",
       "      <td>24990.000000</td>\n",
       "      <td>3078.000000</td>\n",
       "      <td>2.000000</td>\n",
       "      <td>5.000000</td>\n",
       "      <td>359.000000</td>\n",
       "      <td>0.000000</td>\n",
       "      <td>...</td>\n",
       "      <td>1.000000</td>\n",
       "      <td>1.000000</td>\n",
       "      <td>0.000000</td>\n",
       "      <td>1.000000</td>\n",
       "      <td>0.000000</td>\n",
       "      <td>0.00000</td>\n",
       "      <td>1.0</td>\n",
       "      <td>1.0</td>\n",
       "      <td>1.0</td>\n",
       "      <td>1.0</td>\n",
       "    </tr>\n",
       "    <tr>\n",
       "      <th>75%</th>\n",
       "      <td>2.000000e+00</td>\n",
       "      <td>3.000000</td>\n",
       "      <td>1.000000</td>\n",
       "      <td>1.903000e+03</td>\n",
       "      <td>53327.000000</td>\n",
       "      <td>4335.000000</td>\n",
       "      <td>3.000000</td>\n",
       "      <td>9.000000</td>\n",
       "      <td>769.250000</td>\n",
       "      <td>1.000000</td>\n",
       "      <td>...</td>\n",
       "      <td>1.000000</td>\n",
       "      <td>1.000000</td>\n",
       "      <td>0.000000</td>\n",
       "      <td>1.000000</td>\n",
       "      <td>0.000000</td>\n",
       "      <td>0.00000</td>\n",
       "      <td>1.0</td>\n",
       "      <td>1.0</td>\n",
       "      <td>1.0</td>\n",
       "      <td>1.0</td>\n",
       "    </tr>\n",
       "    <tr>\n",
       "      <th>max</th>\n",
       "      <td>2.000085e+06</td>\n",
       "      <td>61.000000</td>\n",
       "      <td>1.000000</td>\n",
       "      <td>2.007548e+06</td>\n",
       "      <td>127563.000000</td>\n",
       "      <td>5768.000000</td>\n",
       "      <td>13.000000</td>\n",
       "      <td>140.000000</td>\n",
       "      <td>5879.000000</td>\n",
       "      <td>1.000000</td>\n",
       "      <td>...</td>\n",
       "      <td>1.000000</td>\n",
       "      <td>1.000000</td>\n",
       "      <td>1.000000</td>\n",
       "      <td>1.000000</td>\n",
       "      <td>1.000000</td>\n",
       "      <td>1.00000</td>\n",
       "      <td>1.0</td>\n",
       "      <td>1.0</td>\n",
       "      <td>1.0</td>\n",
       "      <td>1.0</td>\n",
       "    </tr>\n",
       "  </tbody>\n",
       "</table>\n",
       "<p>8 rows × 76 columns</p>\n",
       "</div>"
      ],
      "text/plain": [
       "        areaAtuacao       classe   homologado      itemCnmp  \\\n",
       "count  5.416000e+03  5416.000000  5416.000000  5.416000e+03   \n",
       "mean   3.715170e+02     2.541728     0.984675  2.365916e+04   \n",
       "std    2.717745e+04     0.965573     0.122853  2.081188e+05   \n",
       "min    1.000000e+00     1.000000     0.000000  2.000000e+00   \n",
       "25%    2.000000e+00     2.000000     1.000000  1.521000e+03   \n",
       "50%    2.000000e+00     3.000000     1.000000  1.585000e+03   \n",
       "75%    2.000000e+00     3.000000     1.000000  1.903000e+03   \n",
       "max    2.000085e+06    61.000000     1.000000  2.007548e+06   \n",
       "\n",
       "       membroResponsavel    municipio  quantidadeConversoes  \\\n",
       "count        5416.000000  5416.000000           5416.000000   \n",
       "mean        38441.630908  2898.190177              2.070901   \n",
       "std         34276.472876  1662.738746              1.406145   \n",
       "min           752.000000     1.000000              0.000000   \n",
       "25%         13674.000000  1438.000000              1.000000   \n",
       "50%         24990.000000  3078.000000              2.000000   \n",
       "75%         53327.000000  4335.000000              3.000000   \n",
       "max        127563.000000  5768.000000             13.000000   \n",
       "\n",
       "       quantidadeProvidencias  diasTranscorridos  \\\n",
       "count             5416.000000        5416.000000   \n",
       "mean                 7.231905         574.307792   \n",
       "std                  8.338839         600.175928   \n",
       "min                  0.000000           0.000000   \n",
       "25%                  3.000000         175.000000   \n",
       "50%                  5.000000         359.000000   \n",
       "75%                  9.000000         769.250000   \n",
       "max                140.000000        5879.000000   \n",
       "\n",
       "       analisar conflito de atribuição           ...             \\\n",
       "count                       103.000000           ...              \n",
       "mean                          0.398058           ...              \n",
       "std                           0.491891           ...              \n",
       "min                           0.000000           ...              \n",
       "25%                           0.000000           ...              \n",
       "50%                           0.000000           ...              \n",
       "75%                           1.000000           ...              \n",
       "max                           1.000000           ...              \n",
       "\n",
       "       recomende-se.  redistribua-se.  requisite-se perícia à ccr/mpf.  \\\n",
       "count     482.000000       519.000000                        74.000000   \n",
       "mean        0.873444         0.890173                         0.148649   \n",
       "std         0.332820         0.312975                         0.358170   \n",
       "min         0.000000         0.000000                         0.000000   \n",
       "25%         1.000000         1.000000                         0.000000   \n",
       "50%         1.000000         1.000000                         0.000000   \n",
       "75%         1.000000         1.000000                         0.000000   \n",
       "max         1.000000         1.000000                         1.000000   \n",
       "\n",
       "       sobrestar no setor.  solicitar instauração de inquérito judicial  \\\n",
       "count           733.000000                                    65.000000   \n",
       "mean              0.924966                                     0.030769   \n",
       "std               0.263626                                     0.174036   \n",
       "min               0.000000                                     0.000000   \n",
       "25%               1.000000                                     0.000000   \n",
       "50%               1.000000                                     0.000000   \n",
       "75%               1.000000                                     0.000000   \n",
       "max               1.000000                                     1.000000   \n",
       "\n",
       "       vistoria  analisar arquivamento  arquive-se na unidade.        \\\n",
       "count  72.00000                  464.0                    45.0  91.0   \n",
       "mean    0.12500                    1.0                     1.0   1.0   \n",
       "std     0.33304                    0.0                     0.0   0.0   \n",
       "min     0.00000                    1.0                     1.0   1.0   \n",
       "25%     0.00000                    1.0                     1.0   1.0   \n",
       "50%     0.00000                    1.0                     1.0   1.0   \n",
       "75%     0.00000                    1.0                     1.0   1.0   \n",
       "max     1.00000                    1.0                     1.0   1.0   \n",
       "\n",
       "       análise do arquivamento  \n",
       "count                    100.0  \n",
       "mean                       1.0  \n",
       "std                        0.0  \n",
       "min                        1.0  \n",
       "25%                        1.0  \n",
       "50%                        1.0  \n",
       "75%                        1.0  \n",
       "max                        1.0  \n",
       "\n",
       "[8 rows x 76 columns]"
      ]
     },
     "execution_count": 44,
     "metadata": {},
     "output_type": "execute_result"
    }
   ],
   "source": [
    "df_work.describe()"
   ]
  },
  {
   "cell_type": "code",
   "execution_count": 45,
   "metadata": {},
   "outputs": [
    {
     "data": {
      "text/html": [
       "<div>\n",
       "<style scoped>\n",
       "    .dataframe tbody tr th:only-of-type {\n",
       "        vertical-align: middle;\n",
       "    }\n",
       "\n",
       "    .dataframe tbody tr th {\n",
       "        vertical-align: top;\n",
       "    }\n",
       "\n",
       "    .dataframe thead th {\n",
       "        text-align: right;\n",
       "    }\n",
       "</style>\n",
       "<table border=\"1\" class=\"dataframe\">\n",
       "  <thead>\n",
       "    <tr style=\"text-align: right;\">\n",
       "      <th></th>\n",
       "      <th>areaAtuacao</th>\n",
       "      <th>classe</th>\n",
       "      <th>homologado</th>\n",
       "      <th>itemCnmp</th>\n",
       "      <th>membroResponsavel</th>\n",
       "      <th>municipio</th>\n",
       "      <th>quantidadeConversoes</th>\n",
       "      <th>quantidadeProvidencias</th>\n",
       "      <th>textosProvidencias</th>\n",
       "      <th>diasTranscorridos</th>\n",
       "      <th>...</th>\n",
       "      <th>recomende-se.</th>\n",
       "      <th>redistribua-se.</th>\n",
       "      <th>requisite-se perícia à ccr/mpf.</th>\n",
       "      <th>sobrestar no setor.</th>\n",
       "      <th>solicitar instauração de inquérito judicial</th>\n",
       "      <th>vistoria</th>\n",
       "      <th>analisar arquivamento</th>\n",
       "      <th>arquive-se na unidade.</th>\n",
       "      <th></th>\n",
       "      <th>análise do arquivamento</th>\n",
       "    </tr>\n",
       "  </thead>\n",
       "  <tbody>\n",
       "    <tr>\n",
       "      <th>0</th>\n",
       "      <td>2</td>\n",
       "      <td>3</td>\n",
       "      <td>1</td>\n",
       "      <td>3078</td>\n",
       "      <td>53306.0</td>\n",
       "      <td>2733</td>\n",
       "      <td>1</td>\n",
       "      <td>3</td>\n",
       "      <td>Despacho Simplificado,Converta-se em Inquérito...</td>\n",
       "      <td>279</td>\n",
       "      <td>...</td>\n",
       "      <td>0.0</td>\n",
       "      <td>0.0</td>\n",
       "      <td>0.0</td>\n",
       "      <td>0.0</td>\n",
       "      <td>0.0</td>\n",
       "      <td>0.0</td>\n",
       "      <td>NaN</td>\n",
       "      <td>NaN</td>\n",
       "      <td>NaN</td>\n",
       "      <td>NaN</td>\n",
       "    </tr>\n",
       "    <tr>\n",
       "      <th>1</th>\n",
       "      <td>2</td>\n",
       "      <td>3</td>\n",
       "      <td>1</td>\n",
       "      <td>1515</td>\n",
       "      <td>4575.0</td>\n",
       "      <td>4108</td>\n",
       "      <td>5</td>\n",
       "      <td>17</td>\n",
       "      <td>Encaminhe-se o auto.,Analisar Arquivamento,Ofi...</td>\n",
       "      <td>1947</td>\n",
       "      <td>...</td>\n",
       "      <td>0.0</td>\n",
       "      <td>0.0</td>\n",
       "      <td>0.0</td>\n",
       "      <td>0.0</td>\n",
       "      <td>0.0</td>\n",
       "      <td>0.0</td>\n",
       "      <td>1.0</td>\n",
       "      <td>NaN</td>\n",
       "      <td>NaN</td>\n",
       "      <td>NaN</td>\n",
       "    </tr>\n",
       "    <tr>\n",
       "      <th>2</th>\n",
       "      <td>2</td>\n",
       "      <td>3</td>\n",
       "      <td>1</td>\n",
       "      <td>1542</td>\n",
       "      <td>17795.0</td>\n",
       "      <td>5296</td>\n",
       "      <td>2</td>\n",
       "      <td>4</td>\n",
       "      <td>Converta-se em Inquérito Civil(IC).,Oficie-se....</td>\n",
       "      <td>367</td>\n",
       "      <td>...</td>\n",
       "      <td>0.0</td>\n",
       "      <td>0.0</td>\n",
       "      <td>0.0</td>\n",
       "      <td>0.0</td>\n",
       "      <td>0.0</td>\n",
       "      <td>0.0</td>\n",
       "      <td>NaN</td>\n",
       "      <td>NaN</td>\n",
       "      <td>NaN</td>\n",
       "      <td>NaN</td>\n",
       "    </tr>\n",
       "    <tr>\n",
       "      <th>3</th>\n",
       "      <td>2</td>\n",
       "      <td>3</td>\n",
       "      <td>1</td>\n",
       "      <td>3058</td>\n",
       "      <td>5262.0</td>\n",
       "      <td>3573</td>\n",
       "      <td>3</td>\n",
       "      <td>9</td>\n",
       "      <td>Converta-se em Inquérito Civil(IC).,Analisar A...</td>\n",
       "      <td>1030</td>\n",
       "      <td>...</td>\n",
       "      <td>0.0</td>\n",
       "      <td>1.0</td>\n",
       "      <td>0.0</td>\n",
       "      <td>0.0</td>\n",
       "      <td>0.0</td>\n",
       "      <td>0.0</td>\n",
       "      <td>1.0</td>\n",
       "      <td>NaN</td>\n",
       "      <td>NaN</td>\n",
       "      <td>NaN</td>\n",
       "    </tr>\n",
       "    <tr>\n",
       "      <th>4</th>\n",
       "      <td>2</td>\n",
       "      <td>3</td>\n",
       "      <td>1</td>\n",
       "      <td>1521</td>\n",
       "      <td>53306.0</td>\n",
       "      <td>2561</td>\n",
       "      <td>1</td>\n",
       "      <td>2</td>\n",
       "      <td>Converta-se em Inquérito Civil(IC).,Cumpra-se.</td>\n",
       "      <td>552</td>\n",
       "      <td>...</td>\n",
       "      <td>0.0</td>\n",
       "      <td>0.0</td>\n",
       "      <td>0.0</td>\n",
       "      <td>0.0</td>\n",
       "      <td>0.0</td>\n",
       "      <td>0.0</td>\n",
       "      <td>NaN</td>\n",
       "      <td>NaN</td>\n",
       "      <td>NaN</td>\n",
       "      <td>NaN</td>\n",
       "    </tr>\n",
       "  </tbody>\n",
       "</table>\n",
       "<p>5 rows × 77 columns</p>\n",
       "</div>"
      ],
      "text/plain": [
       "   areaAtuacao  classe  homologado  itemCnmp  membroResponsavel  municipio  \\\n",
       "0            2       3           1      3078            53306.0       2733   \n",
       "1            2       3           1      1515             4575.0       4108   \n",
       "2            2       3           1      1542            17795.0       5296   \n",
       "3            2       3           1      3058             5262.0       3573   \n",
       "4            2       3           1      1521            53306.0       2561   \n",
       "\n",
       "   quantidadeConversoes  quantidadeProvidencias  \\\n",
       "0                     1                       3   \n",
       "1                     5                      17   \n",
       "2                     2                       4   \n",
       "3                     3                       9   \n",
       "4                     1                       2   \n",
       "\n",
       "                                  textosProvidencias  diasTranscorridos  \\\n",
       "0  Despacho Simplificado,Converta-se em Inquérito...                279   \n",
       "1  Encaminhe-se o auto.,Analisar Arquivamento,Ofi...               1947   \n",
       "2  Converta-se em Inquérito Civil(IC).,Oficie-se....                367   \n",
       "3  Converta-se em Inquérito Civil(IC).,Analisar A...               1030   \n",
       "4     Converta-se em Inquérito Civil(IC).,Cumpra-se.                552   \n",
       "\n",
       "            ...             recomende-se.  redistribua-se.  \\\n",
       "0           ...                       0.0              0.0   \n",
       "1           ...                       0.0              0.0   \n",
       "2           ...                       0.0              0.0   \n",
       "3           ...                       0.0              1.0   \n",
       "4           ...                       0.0              0.0   \n",
       "\n",
       "   requisite-se perícia à ccr/mpf.  sobrestar no setor.  \\\n",
       "0                              0.0                  0.0   \n",
       "1                              0.0                  0.0   \n",
       "2                              0.0                  0.0   \n",
       "3                              0.0                  0.0   \n",
       "4                              0.0                  0.0   \n",
       "\n",
       "   solicitar instauração de inquérito judicial  vistoria  \\\n",
       "0                                          0.0       0.0   \n",
       "1                                          0.0       0.0   \n",
       "2                                          0.0       0.0   \n",
       "3                                          0.0       0.0   \n",
       "4                                          0.0       0.0   \n",
       "\n",
       "   analisar arquivamento  arquive-se na unidade.      análise do arquivamento  \n",
       "0                    NaN                     NaN NaN                      NaN  \n",
       "1                    1.0                     NaN NaN                      NaN  \n",
       "2                    NaN                     NaN NaN                      NaN  \n",
       "3                    1.0                     NaN NaN                      NaN  \n",
       "4                    NaN                     NaN NaN                      NaN  \n",
       "\n",
       "[5 rows x 77 columns]"
      ]
     },
     "execution_count": 45,
     "metadata": {},
     "output_type": "execute_result"
    }
   ],
   "source": [
    "df_work.head()"
   ]
  },
  {
   "cell_type": "code",
   "execution_count": 46,
   "metadata": {},
   "outputs": [],
   "source": [
    "df_work.fillna(0, inplace=True)"
   ]
  },
  {
   "cell_type": "code",
   "execution_count": 47,
   "metadata": {},
   "outputs": [],
   "source": [
    "removed_columns = ['homologado', 'textosProvidencias']\n",
    "features = [c for c in df_work.columns if c not in removed_columns]"
   ]
  },
  {
   "cell_type": "code",
   "execution_count": 48,
   "metadata": {},
   "outputs": [
    {
     "data": {
      "text/plain": [
       "RandomForestClassifier(bootstrap=True, class_weight=None, criterion='gini',\n",
       "            max_depth=None, max_features='auto', max_leaf_nodes=None,\n",
       "            min_impurity_decrease=0.0, min_impurity_split=None,\n",
       "            min_samples_leaf=1, min_samples_split=2,\n",
       "            min_weight_fraction_leaf=0.0, n_estimators=10, n_jobs=1,\n",
       "            oob_score=False, random_state=42, verbose=0, warm_start=False)"
      ]
     },
     "execution_count": 48,
     "metadata": {},
     "output_type": "execute_result"
    }
   ],
   "source": [
    "train, valid = train_test_split(df_work, random_state=42)\n",
    "\n",
    "model = RandomForestClassifier(random_state=42)\n",
    "model.fit(train[features], train['homologado'])"
   ]
  },
  {
   "cell_type": "code",
   "execution_count": 49,
   "metadata": {},
   "outputs": [
    {
     "name": "stdout",
     "output_type": "stream",
     "text": [
      "Accuracy score: 0.9975381585425899 0.983751846381093\n",
      "Precision score:  0.983751846381093\n",
      "Recall score:  1.0\n",
      "F1 score:  0.9918093819806404\n"
     ]
    }
   ],
   "source": [
    "train_preds = model.predict(train[features])\n",
    "valid_preds = model.predict(valid[features])\n",
    "\n",
    "print_score()"
   ]
  },
  {
   "cell_type": "code",
   "execution_count": 50,
   "metadata": {},
   "outputs": [
    {
     "data": {
      "text/plain": [
       "array([   0,   22,    0, 1332])"
      ]
     },
     "execution_count": 50,
     "metadata": {},
     "output_type": "execute_result"
    }
   ],
   "source": [
    "confusion_matrix(valid['homologado'], valid_preds).ravel()"
   ]
  },
  {
   "cell_type": "code",
   "execution_count": 51,
   "metadata": {},
   "outputs": [
    {
     "data": {
      "image/png": "[encoded data removed]",
      "text/plain": [
       "<Figure size 432x288 with 1 Axes>"
      ]
     },
     "metadata": {},
     "output_type": "display_data"
    }
   ],
   "source": [
    "plot_fi(model.feature_importances_, 20)"
   ]
  },
  {
   "cell_type": "markdown",
   "metadata": {},
   "source": [
    "O uso dos textos das providências não aumentou a precisão do modelo (e elas também não foram features importantes).\n",
    "\n",
    "Agora vamos efetivamente utilizar o texto das íntegras."
   ]
  }
 ],
 "metadata": {
  "kernelspec": {
   "display_name": "Python 3",
   "language": "python",
   "name": "python3"
  },
  "language_info": {
   "codemirror_mode": {
    "name": "ipython",
    "version": 3
   },
   "file_extension": ".py",
   "mimetype": "text/x-python",
   "name": "python",
   "nbconvert_exporter": "python",
   "pygments_lexer": "ipython3",
   "version": "3.6.5"
  }
 },
 "nbformat": 4,
 "nbformat_minor": 2
}
