{
 "cells": [
  {
   "cell_type": "markdown",
   "metadata": {},
   "source": [
    "# Introdução\n",
    "\n",
    "Esse caderno tem por objetivo a criação de um modelo básico de treinamento, utilizando o classificador [RandomForest](http://scikit-learn.org/stable/modules/generated/sklearn.ensemble.RandomForestClassifier.html), que faça a predição de homologação de arquivamentos de procedimentos enviados à 1A.CAM do MPF.\n",
    "\n",
    "Esse modelo usará apenas os metadados dos procedimentos, sem fazer nenhum processamento textual.\n",
    "\n",
    "O objetivo desse modelo é servir como um *baseline* de comparações para implementações futuras.\n",
    "\n",
    "\n",
    "**Nota**: os dados desse modelo foram recuperados de procedimentos que tiveram suas deliberações realizadas após o dia 02/07/2018, data em que a nova composição tomou posse na 1A.CAM."
   ]
  },
  {
   "cell_type": "markdown",
   "metadata": {},
   "source": [
    "# Carga de dados e pré-processamento\n",
    "\n",
    "Vamos fazer a carga dos dados e fazer um pré-processamento tradicional (remoção de atributos que não interessam, criação de variáveis categóricas etc.)"
   ]
  },
  {
   "cell_type": "code",
   "execution_count": 1,
   "metadata": {},
   "outputs": [],
   "source": [
    "%load_ext autoreload\n",
    "%autoreload 2\n",
    "\n",
    "%matplotlib inline"
   ]
  },
  {
   "cell_type": "code",
   "execution_count": 2,
   "metadata": {},
   "outputs": [],
   "source": [
    "from sklearn.ensemble import RandomForestClassifier\n",
    "import numpy as np\n",
    "import pandas as pd\n",
    "\n",
    "from sklearn import metrics"
   ]
  },
  {
   "cell_type": "code",
   "execution_count": 3,
   "metadata": {},
   "outputs": [],
   "source": [
    "PATH = \"../data/\"\n",
    "df_original = pd.read_json(f'{PATH}/1A.CAM.homologacao-arquivamento.json')"
   ]
  },
  {
   "cell_type": "code",
   "execution_count": 4,
   "metadata": {},
   "outputs": [
    {
     "data": {
      "text/plain": [
       "8401"
      ]
     },
     "execution_count": 4,
     "metadata": {},
     "output_type": "execute_result"
    }
   ],
   "source": [
    "len(df_original)"
   ]
  },
  {
   "cell_type": "code",
   "execution_count": 5,
   "metadata": {},
   "outputs": [
    {
     "data": {
      "text/plain": [
       "Index(['areaAtuacao', 'classe', 'dataAutuacao', 'dataEntrada', 'homologado',\n",
       "       'id', 'identificadorPecaPromocao', 'itemCnmp', 'membroResponsavel',\n",
       "       'municipio', 'prioritario', 'procedimento', 'quantidadeConversoes',\n",
       "       'quantidadeProvidencias', 'textosProvidencias', 'urgente'],\n",
       "      dtype='object')"
      ]
     },
     "execution_count": 5,
     "metadata": {},
     "output_type": "execute_result"
    }
   ],
   "source": [
    "df_original.columns"
   ]
  },
  {
   "cell_type": "code",
   "execution_count": 6,
   "metadata": {},
   "outputs": [
    {
     "data": {
      "text/html": [
       "<div>\n",
       "<style scoped>\n",
       "    .dataframe tbody tr th:only-of-type {\n",
       "        vertical-align: middle;\n",
       "    }\n",
       "\n",
       "    .dataframe tbody tr th {\n",
       "        vertical-align: top;\n",
       "    }\n",
       "\n",
       "    .dataframe thead th {\n",
       "        text-align: right;\n",
       "    }\n",
       "</style>\n",
       "<table border=\"1\" class=\"dataframe\">\n",
       "  <thead>\n",
       "    <tr style=\"text-align: right;\">\n",
       "      <th></th>\n",
       "      <th>areaAtuacao</th>\n",
       "      <th>classe</th>\n",
       "      <th>homologado</th>\n",
       "      <th>id</th>\n",
       "      <th>identificadorPecaPromocao</th>\n",
       "      <th>itemCnmp</th>\n",
       "      <th>membroResponsavel</th>\n",
       "      <th>municipio</th>\n",
       "      <th>prioritario</th>\n",
       "      <th>quantidadeConversoes</th>\n",
       "      <th>quantidadeProvidencias</th>\n",
       "      <th>urgente</th>\n",
       "    </tr>\n",
       "  </thead>\n",
       "  <tbody>\n",
       "    <tr>\n",
       "      <th>count</th>\n",
       "      <td>8.401000e+03</td>\n",
       "      <td>8401.000000</td>\n",
       "      <td>8401.000000</td>\n",
       "      <td>8.401000e+03</td>\n",
       "      <td>7.443000e+03</td>\n",
       "      <td>8.401000e+03</td>\n",
       "      <td>7443.000000</td>\n",
       "      <td>8401.000000</td>\n",
       "      <td>8401.000000</td>\n",
       "      <td>8401.000000</td>\n",
       "      <td>8401.000000</td>\n",
       "      <td>8401.000000</td>\n",
       "    </tr>\n",
       "    <tr>\n",
       "      <th>mean</th>\n",
       "      <td>2.403226e+02</td>\n",
       "      <td>2.542912</td>\n",
       "      <td>0.984050</td>\n",
       "      <td>6.885354e+07</td>\n",
       "      <td>8.024042e+07</td>\n",
       "      <td>3.618624e+04</td>\n",
       "      <td>39114.090152</td>\n",
       "      <td>2923.952506</td>\n",
       "      <td>0.007023</td>\n",
       "      <td>2.077372</td>\n",
       "      <td>7.311749</td>\n",
       "      <td>0.007737</td>\n",
       "    </tr>\n",
       "    <tr>\n",
       "      <th>std</th>\n",
       "      <td>2.182139e+04</td>\n",
       "      <td>1.460381</td>\n",
       "      <td>0.125291</td>\n",
       "      <td>1.361934e+07</td>\n",
       "      <td>6.839434e+06</td>\n",
       "      <td>2.602520e+05</td>\n",
       "      <td>34816.543692</td>\n",
       "      <td>1670.038202</td>\n",
       "      <td>0.083513</td>\n",
       "      <td>1.460256</td>\n",
       "      <td>8.735195</td>\n",
       "      <td>0.087625</td>\n",
       "    </tr>\n",
       "    <tr>\n",
       "      <th>min</th>\n",
       "      <td>1.000000e+00</td>\n",
       "      <td>1.000000</td>\n",
       "      <td>0.000000</td>\n",
       "      <td>2.842880e+06</td>\n",
       "      <td>5.388574e+07</td>\n",
       "      <td>2.000000e+00</td>\n",
       "      <td>752.000000</td>\n",
       "      <td>1.000000</td>\n",
       "      <td>0.000000</td>\n",
       "      <td>0.000000</td>\n",
       "      <td>0.000000</td>\n",
       "      <td>0.000000</td>\n",
       "    </tr>\n",
       "    <tr>\n",
       "      <th>25%</th>\n",
       "      <td>2.000000e+00</td>\n",
       "      <td>2.000000</td>\n",
       "      <td>1.000000</td>\n",
       "      <td>6.441073e+07</td>\n",
       "      <td>7.483514e+07</td>\n",
       "      <td>1.521000e+03</td>\n",
       "      <td>13674.000000</td>\n",
       "      <td>1443.000000</td>\n",
       "      <td>0.000000</td>\n",
       "      <td>1.000000</td>\n",
       "      <td>2.000000</td>\n",
       "      <td>0.000000</td>\n",
       "    </tr>\n",
       "    <tr>\n",
       "      <th>50%</th>\n",
       "      <td>2.000000e+00</td>\n",
       "      <td>3.000000</td>\n",
       "      <td>1.000000</td>\n",
       "      <td>7.140668e+07</td>\n",
       "      <td>8.117652e+07</td>\n",
       "      <td>1.581000e+03</td>\n",
       "      <td>25849.000000</td>\n",
       "      <td>3087.000000</td>\n",
       "      <td>0.000000</td>\n",
       "      <td>2.000000</td>\n",
       "      <td>5.000000</td>\n",
       "      <td>0.000000</td>\n",
       "    </tr>\n",
       "    <tr>\n",
       "      <th>75%</th>\n",
       "      <td>2.000000e+00</td>\n",
       "      <td>3.000000</td>\n",
       "      <td>1.000000</td>\n",
       "      <td>7.779927e+07</td>\n",
       "      <td>8.650883e+07</td>\n",
       "      <td>1.911000e+03</td>\n",
       "      <td>53328.000000</td>\n",
       "      <td>4385.000000</td>\n",
       "      <td>0.000000</td>\n",
       "      <td>3.000000</td>\n",
       "      <td>9.000000</td>\n",
       "      <td>0.000000</td>\n",
       "    </tr>\n",
       "    <tr>\n",
       "      <th>max</th>\n",
       "      <td>2.000085e+06</td>\n",
       "      <td>64.000000</td>\n",
       "      <td>1.000000</td>\n",
       "      <td>8.944926e+07</td>\n",
       "      <td>8.971058e+07</td>\n",
       "      <td>2.007548e+06</td>\n",
       "      <td>128455.000000</td>\n",
       "      <td>5768.000000</td>\n",
       "      <td>1.000000</td>\n",
       "      <td>13.000000</td>\n",
       "      <td>192.000000</td>\n",
       "      <td>1.000000</td>\n",
       "    </tr>\n",
       "  </tbody>\n",
       "</table>\n",
       "</div>"
      ],
      "text/plain": [
       "        areaAtuacao       classe   homologado            id  \\\n",
       "count  8.401000e+03  8401.000000  8401.000000  8.401000e+03   \n",
       "mean   2.403226e+02     2.542912     0.984050  6.885354e+07   \n",
       "std    2.182139e+04     1.460381     0.125291  1.361934e+07   \n",
       "min    1.000000e+00     1.000000     0.000000  2.842880e+06   \n",
       "25%    2.000000e+00     2.000000     1.000000  6.441073e+07   \n",
       "50%    2.000000e+00     3.000000     1.000000  7.140668e+07   \n",
       "75%    2.000000e+00     3.000000     1.000000  7.779927e+07   \n",
       "max    2.000085e+06    64.000000     1.000000  8.944926e+07   \n",
       "\n",
       "       identificadorPecaPromocao      itemCnmp  membroResponsavel  \\\n",
       "count               7.443000e+03  8.401000e+03        7443.000000   \n",
       "mean                8.024042e+07  3.618624e+04       39114.090152   \n",
       "std                 6.839434e+06  2.602520e+05       34816.543692   \n",
       "min                 5.388574e+07  2.000000e+00         752.000000   \n",
       "25%                 7.483514e+07  1.521000e+03       13674.000000   \n",
       "50%                 8.117652e+07  1.581000e+03       25849.000000   \n",
       "75%                 8.650883e+07  1.911000e+03       53328.000000   \n",
       "max                 8.971058e+07  2.007548e+06      128455.000000   \n",
       "\n",
       "         municipio  prioritario  quantidadeConversoes  quantidadeProvidencias  \\\n",
       "count  8401.000000  8401.000000           8401.000000             8401.000000   \n",
       "mean   2923.952506     0.007023              2.077372                7.311749   \n",
       "std    1670.038202     0.083513              1.460256                8.735195   \n",
       "min       1.000000     0.000000              0.000000                0.000000   \n",
       "25%    1443.000000     0.000000              1.000000                2.000000   \n",
       "50%    3087.000000     0.000000              2.000000                5.000000   \n",
       "75%    4385.000000     0.000000              3.000000                9.000000   \n",
       "max    5768.000000     1.000000             13.000000              192.000000   \n",
       "\n",
       "           urgente  \n",
       "count  8401.000000  \n",
       "mean      0.007737  \n",
       "std       0.087625  \n",
       "min       0.000000  \n",
       "25%       0.000000  \n",
       "50%       0.000000  \n",
       "75%       0.000000  \n",
       "max       1.000000  "
      ]
     },
     "execution_count": 6,
     "metadata": {},
     "output_type": "execute_result"
    }
   ],
   "source": [
    "df_original.describe()"
   ]
  },
  {
   "cell_type": "code",
   "execution_count": 7,
   "metadata": {},
   "outputs": [
    {
     "data": {
      "text/plain": [
       "958"
      ]
     },
     "execution_count": 7,
     "metadata": {},
     "output_type": "execute_result"
    }
   ],
   "source": [
    "len(df_original[df_original.identificadorPecaPromocao.isnull()])"
   ]
  },
  {
   "cell_type": "code",
   "execution_count": 8,
   "metadata": {},
   "outputs": [],
   "source": [
    "df_work = df_original.copy()"
   ]
  },
  {
   "cell_type": "code",
   "execution_count": 9,
   "metadata": {},
   "outputs": [],
   "source": [
    "# elementos com peça de promoção de arquivamento nulos não nos interessam\n",
    "#df_work.dropna(subset=['identificadorPecaPromocao'], inplace=True)\n",
    "#df_work.reset_index(drop=True, inplace=True)"
   ]
  },
  {
   "cell_type": "code",
   "execution_count": 10,
   "metadata": {},
   "outputs": [
    {
     "data": {
      "text/plain": [
       "0"
      ]
     },
     "execution_count": 10,
     "metadata": {},
     "output_type": "execute_result"
    }
   ],
   "source": [
    "#len(df_work[df_work.identificadorPecaPromocao.isnull()])"
   ]
  },
  {
   "cell_type": "code",
   "execution_count": 9,
   "metadata": {},
   "outputs": [
    {
     "data": {
      "text/html": [
       "<div>\n",
       "<style scoped>\n",
       "    .dataframe tbody tr th:only-of-type {\n",
       "        vertical-align: middle;\n",
       "    }\n",
       "\n",
       "    .dataframe tbody tr th {\n",
       "        vertical-align: top;\n",
       "    }\n",
       "\n",
       "    .dataframe thead th {\n",
       "        text-align: right;\n",
       "    }\n",
       "</style>\n",
       "<table border=\"1\" class=\"dataframe\">\n",
       "  <thead>\n",
       "    <tr style=\"text-align: right;\">\n",
       "      <th></th>\n",
       "      <th>areaAtuacao</th>\n",
       "      <th>classe</th>\n",
       "      <th>dataAutuacao</th>\n",
       "      <th>dataEntrada</th>\n",
       "      <th>homologado</th>\n",
       "      <th>itemCnmp</th>\n",
       "      <th>membroResponsavel</th>\n",
       "      <th>municipio</th>\n",
       "      <th>prioritario</th>\n",
       "      <th>quantidadeConversoes</th>\n",
       "      <th>quantidadeProvidencias</th>\n",
       "      <th>urgente</th>\n",
       "    </tr>\n",
       "  </thead>\n",
       "  <tbody>\n",
       "    <tr>\n",
       "      <th>5312</th>\n",
       "      <td>2</td>\n",
       "      <td>2</td>\n",
       "      <td>30-01-2017</td>\n",
       "      <td>11-04-2017</td>\n",
       "      <td>1</td>\n",
       "      <td>2286</td>\n",
       "      <td>26482.0</td>\n",
       "      <td>3281</td>\n",
       "      <td>0</td>\n",
       "      <td>1</td>\n",
       "      <td>2</td>\n",
       "      <td>0</td>\n",
       "    </tr>\n",
       "    <tr>\n",
       "      <th>216</th>\n",
       "      <td>2</td>\n",
       "      <td>3</td>\n",
       "      <td>20-11-2015</td>\n",
       "      <td>04-10-2018</td>\n",
       "      <td>1</td>\n",
       "      <td>1811</td>\n",
       "      <td>22991.0</td>\n",
       "      <td>810</td>\n",
       "      <td>0</td>\n",
       "      <td>3</td>\n",
       "      <td>4</td>\n",
       "      <td>0</td>\n",
       "    </tr>\n",
       "    <tr>\n",
       "      <th>7616</th>\n",
       "      <td>2</td>\n",
       "      <td>2</td>\n",
       "      <td>05-08-2015</td>\n",
       "      <td>20-04-2016</td>\n",
       "      <td>1</td>\n",
       "      <td>3047</td>\n",
       "      <td>53328.0</td>\n",
       "      <td>170</td>\n",
       "      <td>0</td>\n",
       "      <td>0</td>\n",
       "      <td>1</td>\n",
       "      <td>0</td>\n",
       "    </tr>\n",
       "    <tr>\n",
       "      <th>4292</th>\n",
       "      <td>2</td>\n",
       "      <td>3</td>\n",
       "      <td>14-06-2017</td>\n",
       "      <td>09-10-2017</td>\n",
       "      <td>1</td>\n",
       "      <td>1567</td>\n",
       "      <td>6095.0</td>\n",
       "      <td>2584</td>\n",
       "      <td>0</td>\n",
       "      <td>1</td>\n",
       "      <td>3</td>\n",
       "      <td>0</td>\n",
       "    </tr>\n",
       "    <tr>\n",
       "      <th>3350</th>\n",
       "      <td>5</td>\n",
       "      <td>2</td>\n",
       "      <td>13-11-2017</td>\n",
       "      <td>12-04-2018</td>\n",
       "      <td>1</td>\n",
       "      <td>1864</td>\n",
       "      <td>53290.0</td>\n",
       "      <td>129</td>\n",
       "      <td>0</td>\n",
       "      <td>1</td>\n",
       "      <td>1</td>\n",
       "      <td>0</td>\n",
       "    </tr>\n",
       "    <tr>\n",
       "      <th>1671</th>\n",
       "      <td>2</td>\n",
       "      <td>2</td>\n",
       "      <td>19-02-2018</td>\n",
       "      <td>25-07-2018</td>\n",
       "      <td>1</td>\n",
       "      <td>1543</td>\n",
       "      <td>87480.0</td>\n",
       "      <td>190</td>\n",
       "      <td>0</td>\n",
       "      <td>1</td>\n",
       "      <td>3</td>\n",
       "      <td>0</td>\n",
       "    </tr>\n",
       "    <tr>\n",
       "      <th>7703</th>\n",
       "      <td>2</td>\n",
       "      <td>2</td>\n",
       "      <td>18-02-2016</td>\n",
       "      <td>31-03-2016</td>\n",
       "      <td>1</td>\n",
       "      <td>1521</td>\n",
       "      <td>31478.0</td>\n",
       "      <td>3036</td>\n",
       "      <td>0</td>\n",
       "      <td>1</td>\n",
       "      <td>3</td>\n",
       "      <td>0</td>\n",
       "    </tr>\n",
       "    <tr>\n",
       "      <th>1587</th>\n",
       "      <td>2</td>\n",
       "      <td>3</td>\n",
       "      <td>14-03-2017</td>\n",
       "      <td>27-07-2018</td>\n",
       "      <td>1</td>\n",
       "      <td>3144</td>\n",
       "      <td>5262.0</td>\n",
       "      <td>3644</td>\n",
       "      <td>0</td>\n",
       "      <td>3</td>\n",
       "      <td>10</td>\n",
       "      <td>0</td>\n",
       "    </tr>\n",
       "    <tr>\n",
       "      <th>5545</th>\n",
       "      <td>2</td>\n",
       "      <td>3</td>\n",
       "      <td>02-03-2016</td>\n",
       "      <td>29-03-2017</td>\n",
       "      <td>1</td>\n",
       "      <td>3150</td>\n",
       "      <td>27349.0</td>\n",
       "      <td>4255</td>\n",
       "      <td>0</td>\n",
       "      <td>2</td>\n",
       "      <td>11</td>\n",
       "      <td>0</td>\n",
       "    </tr>\n",
       "    <tr>\n",
       "      <th>507</th>\n",
       "      <td>2</td>\n",
       "      <td>2</td>\n",
       "      <td>25-01-2018</td>\n",
       "      <td>18-09-2018</td>\n",
       "      <td>1</td>\n",
       "      <td>3047</td>\n",
       "      <td>127528.0</td>\n",
       "      <td>226</td>\n",
       "      <td>0</td>\n",
       "      <td>3</td>\n",
       "      <td>4</td>\n",
       "      <td>0</td>\n",
       "    </tr>\n",
       "  </tbody>\n",
       "</table>\n",
       "</div>"
      ],
      "text/plain": [
       "      areaAtuacao  classe dataAutuacao dataEntrada  homologado  itemCnmp  \\\n",
       "5312            2       2   30-01-2017  11-04-2017           1      2286   \n",
       "216             2       3   20-11-2015  04-10-2018           1      1811   \n",
       "7616            2       2   05-08-2015  20-04-2016           1      3047   \n",
       "4292            2       3   14-06-2017  09-10-2017           1      1567   \n",
       "3350            5       2   13-11-2017  12-04-2018           1      1864   \n",
       "1671            2       2   19-02-2018  25-07-2018           1      1543   \n",
       "7703            2       2   18-02-2016  31-03-2016           1      1521   \n",
       "1587            2       3   14-03-2017  27-07-2018           1      3144   \n",
       "5545            2       3   02-03-2016  29-03-2017           1      3150   \n",
       "507             2       2   25-01-2018  18-09-2018           1      3047   \n",
       "\n",
       "      membroResponsavel  municipio  prioritario  quantidadeConversoes  \\\n",
       "5312            26482.0       3281            0                     1   \n",
       "216             22991.0        810            0                     3   \n",
       "7616            53328.0        170            0                     0   \n",
       "4292             6095.0       2584            0                     1   \n",
       "3350            53290.0        129            0                     1   \n",
       "1671            87480.0        190            0                     1   \n",
       "7703            31478.0       3036            0                     1   \n",
       "1587             5262.0       3644            0                     3   \n",
       "5545            27349.0       4255            0                     2   \n",
       "507            127528.0        226            0                     3   \n",
       "\n",
       "      quantidadeProvidencias  urgente  \n",
       "5312                       2        0  \n",
       "216                        4        0  \n",
       "7616                       1        0  \n",
       "4292                       3        0  \n",
       "3350                       1        0  \n",
       "1671                       3        0  \n",
       "7703                       3        0  \n",
       "1587                      10        0  \n",
       "5545                      11        0  \n",
       "507                        4        0  "
      ]
     },
     "execution_count": 9,
     "metadata": {},
     "output_type": "execute_result"
    }
   ],
   "source": [
    "# nessa primeira passada, essas colunas não nos interessam\n",
    "removed_columns = ['id', 'procedimento', 'textosProvidencias', 'identificadorPecaPromocao']\n",
    "df_work = df_work.drop(columns=removed_columns)\n",
    "df_work.sample(10)"
   ]
  },
  {
   "cell_type": "code",
   "execution_count": 10,
   "metadata": {},
   "outputs": [
    {
     "data": {
      "text/html": [
       "<div>\n",
       "<style scoped>\n",
       "    .dataframe tbody tr th:only-of-type {\n",
       "        vertical-align: middle;\n",
       "    }\n",
       "\n",
       "    .dataframe tbody tr th {\n",
       "        vertical-align: top;\n",
       "    }\n",
       "\n",
       "    .dataframe thead th {\n",
       "        text-align: right;\n",
       "    }\n",
       "</style>\n",
       "<table border=\"1\" class=\"dataframe\">\n",
       "  <thead>\n",
       "    <tr style=\"text-align: right;\">\n",
       "      <th></th>\n",
       "      <th>areaAtuacao</th>\n",
       "      <th>classe</th>\n",
       "      <th>homologado</th>\n",
       "      <th>itemCnmp</th>\n",
       "      <th>membroResponsavel</th>\n",
       "      <th>municipio</th>\n",
       "      <th>prioritario</th>\n",
       "      <th>quantidadeConversoes</th>\n",
       "      <th>quantidadeProvidencias</th>\n",
       "      <th>urgente</th>\n",
       "    </tr>\n",
       "  </thead>\n",
       "  <tbody>\n",
       "    <tr>\n",
       "      <th>count</th>\n",
       "      <td>8.401000e+03</td>\n",
       "      <td>8401.000000</td>\n",
       "      <td>8401.000000</td>\n",
       "      <td>8.401000e+03</td>\n",
       "      <td>7443.000000</td>\n",
       "      <td>8401.000000</td>\n",
       "      <td>8401.000000</td>\n",
       "      <td>8401.000000</td>\n",
       "      <td>8401.000000</td>\n",
       "      <td>8401.000000</td>\n",
       "    </tr>\n",
       "    <tr>\n",
       "      <th>mean</th>\n",
       "      <td>2.403226e+02</td>\n",
       "      <td>2.542912</td>\n",
       "      <td>0.984050</td>\n",
       "      <td>3.618624e+04</td>\n",
       "      <td>39114.090152</td>\n",
       "      <td>2923.952506</td>\n",
       "      <td>0.007023</td>\n",
       "      <td>2.077372</td>\n",
       "      <td>7.311749</td>\n",
       "      <td>0.007737</td>\n",
       "    </tr>\n",
       "    <tr>\n",
       "      <th>std</th>\n",
       "      <td>2.182139e+04</td>\n",
       "      <td>1.460381</td>\n",
       "      <td>0.125291</td>\n",
       "      <td>2.602520e+05</td>\n",
       "      <td>34816.543692</td>\n",
       "      <td>1670.038202</td>\n",
       "      <td>0.083513</td>\n",
       "      <td>1.460256</td>\n",
       "      <td>8.735195</td>\n",
       "      <td>0.087625</td>\n",
       "    </tr>\n",
       "    <tr>\n",
       "      <th>min</th>\n",
       "      <td>1.000000e+00</td>\n",
       "      <td>1.000000</td>\n",
       "      <td>0.000000</td>\n",
       "      <td>2.000000e+00</td>\n",
       "      <td>752.000000</td>\n",
       "      <td>1.000000</td>\n",
       "      <td>0.000000</td>\n",
       "      <td>0.000000</td>\n",
       "      <td>0.000000</td>\n",
       "      <td>0.000000</td>\n",
       "    </tr>\n",
       "    <tr>\n",
       "      <th>25%</th>\n",
       "      <td>2.000000e+00</td>\n",
       "      <td>2.000000</td>\n",
       "      <td>1.000000</td>\n",
       "      <td>1.521000e+03</td>\n",
       "      <td>13674.000000</td>\n",
       "      <td>1443.000000</td>\n",
       "      <td>0.000000</td>\n",
       "      <td>1.000000</td>\n",
       "      <td>2.000000</td>\n",
       "      <td>0.000000</td>\n",
       "    </tr>\n",
       "    <tr>\n",
       "      <th>50%</th>\n",
       "      <td>2.000000e+00</td>\n",
       "      <td>3.000000</td>\n",
       "      <td>1.000000</td>\n",
       "      <td>1.581000e+03</td>\n",
       "      <td>25849.000000</td>\n",
       "      <td>3087.000000</td>\n",
       "      <td>0.000000</td>\n",
       "      <td>2.000000</td>\n",
       "      <td>5.000000</td>\n",
       "      <td>0.000000</td>\n",
       "    </tr>\n",
       "    <tr>\n",
       "      <th>75%</th>\n",
       "      <td>2.000000e+00</td>\n",
       "      <td>3.000000</td>\n",
       "      <td>1.000000</td>\n",
       "      <td>1.911000e+03</td>\n",
       "      <td>53328.000000</td>\n",
       "      <td>4385.000000</td>\n",
       "      <td>0.000000</td>\n",
       "      <td>3.000000</td>\n",
       "      <td>9.000000</td>\n",
       "      <td>0.000000</td>\n",
       "    </tr>\n",
       "    <tr>\n",
       "      <th>max</th>\n",
       "      <td>2.000085e+06</td>\n",
       "      <td>64.000000</td>\n",
       "      <td>1.000000</td>\n",
       "      <td>2.007548e+06</td>\n",
       "      <td>128455.000000</td>\n",
       "      <td>5768.000000</td>\n",
       "      <td>1.000000</td>\n",
       "      <td>13.000000</td>\n",
       "      <td>192.000000</td>\n",
       "      <td>1.000000</td>\n",
       "    </tr>\n",
       "  </tbody>\n",
       "</table>\n",
       "</div>"
      ],
      "text/plain": [
       "        areaAtuacao       classe   homologado      itemCnmp  \\\n",
       "count  8.401000e+03  8401.000000  8401.000000  8.401000e+03   \n",
       "mean   2.403226e+02     2.542912     0.984050  3.618624e+04   \n",
       "std    2.182139e+04     1.460381     0.125291  2.602520e+05   \n",
       "min    1.000000e+00     1.000000     0.000000  2.000000e+00   \n",
       "25%    2.000000e+00     2.000000     1.000000  1.521000e+03   \n",
       "50%    2.000000e+00     3.000000     1.000000  1.581000e+03   \n",
       "75%    2.000000e+00     3.000000     1.000000  1.911000e+03   \n",
       "max    2.000085e+06    64.000000     1.000000  2.007548e+06   \n",
       "\n",
       "       membroResponsavel    municipio  prioritario  quantidadeConversoes  \\\n",
       "count        7443.000000  8401.000000  8401.000000           8401.000000   \n",
       "mean        39114.090152  2923.952506     0.007023              2.077372   \n",
       "std         34816.543692  1670.038202     0.083513              1.460256   \n",
       "min           752.000000     1.000000     0.000000              0.000000   \n",
       "25%         13674.000000  1443.000000     0.000000              1.000000   \n",
       "50%         25849.000000  3087.000000     0.000000              2.000000   \n",
       "75%         53328.000000  4385.000000     0.000000              3.000000   \n",
       "max        128455.000000  5768.000000     1.000000             13.000000   \n",
       "\n",
       "       quantidadeProvidencias      urgente  \n",
       "count             8401.000000  8401.000000  \n",
       "mean                 7.311749     0.007737  \n",
       "std                  8.735195     0.087625  \n",
       "min                  0.000000     0.000000  \n",
       "25%                  2.000000     0.000000  \n",
       "50%                  5.000000     0.000000  \n",
       "75%                  9.000000     0.000000  \n",
       "max                192.000000     1.000000  "
      ]
     },
     "execution_count": 10,
     "metadata": {},
     "output_type": "execute_result"
    }
   ],
   "source": [
    "df_work.describe()"
   ]
  },
  {
   "cell_type": "code",
   "execution_count": 17,
   "metadata": {},
   "outputs": [],
   "source": [
    "# tratando os nulos\n",
    "df_work.fillna(0, inplace=True)"
   ]
  },
  {
   "cell_type": "code",
   "execution_count": 11,
   "metadata": {},
   "outputs": [
    {
     "data": {
      "text/plain": [
       "(8267, 134)"
      ]
     },
     "execution_count": 11,
     "metadata": {},
     "output_type": "execute_result"
    }
   ],
   "source": [
    "len(df_work[df_work['homologado'] == 1]),len(df_work[df_work['homologado'] == 0])"
   ]
  },
  {
   "cell_type": "code",
   "execution_count": 12,
   "metadata": {},
   "outputs": [
    {
     "data": {
      "text/plain": [
       "<matplotlib.axes._subplots.AxesSubplot at 0x7f0386860a90>"
      ]
     },
     "execution_count": 12,
     "metadata": {},
     "output_type": "execute_result"
    },
    {
     "data": {
      "image/png": "[encoded data removed]",
      "text/plain": [
       "<Figure size 432x288 with 1 Axes>"
      ]
     },
     "metadata": {},
     "output_type": "display_data"
    }
   ],
   "source": [
    "df_work['homologado'].value_counts().plot.bar()"
   ]
  },
  {
   "cell_type": "markdown",
   "metadata": {},
   "source": [
    "### Classes desbalanceadas!!!\n",
    "\n",
    "Conforme podemos ver acima, as classes desse problema são altamente desbalanceadas - apenas 1.46% do conjunto de dados representam procedimentos que não foram homologados.\n",
    "\n",
    "Isso, muito provavelmente, causará problemas no treino do modelo. Mas, inicialmente, vamos ignorar isso e seguir com o nosso treino."
   ]
  },
  {
   "cell_type": "code",
   "execution_count": 13,
   "metadata": {},
   "outputs": [],
   "source": [
    "# conversão para datas\n",
    "df_work['dataAutuacao'] = pd.to_datetime(df_work['dataAutuacao'],infer_datetime_format=True)\n",
    "df_work['dataEntrada'] = pd.to_datetime(df_work['dataEntrada'],infer_datetime_format=True)"
   ]
  },
  {
   "cell_type": "code",
   "execution_count": 14,
   "metadata": {},
   "outputs": [],
   "source": [
    "# vamos criar uma variável derivada, representando a quantidade de dias desde a autuação até a entrada\n",
    "df_work['diasTranscorridos'] = 0\n",
    "for index in range(len(df_work)):\n",
    "    df_work.loc[index, 'diasTranscorridos'] =  np.abs((df_work.loc[index, 'dataEntrada'] - df_work.loc[index, 'dataAutuacao']).days)"
   ]
  },
  {
   "cell_type": "code",
   "execution_count": 15,
   "metadata": {},
   "outputs": [
    {
     "data": {
      "text/html": [
       "<div>\n",
       "<style scoped>\n",
       "    .dataframe tbody tr th:only-of-type {\n",
       "        vertical-align: middle;\n",
       "    }\n",
       "\n",
       "    .dataframe tbody tr th {\n",
       "        vertical-align: top;\n",
       "    }\n",
       "\n",
       "    .dataframe thead th {\n",
       "        text-align: right;\n",
       "    }\n",
       "</style>\n",
       "<table border=\"1\" class=\"dataframe\">\n",
       "  <thead>\n",
       "    <tr style=\"text-align: right;\">\n",
       "      <th></th>\n",
       "      <th>areaAtuacao</th>\n",
       "      <th>classe</th>\n",
       "      <th>dataAutuacao</th>\n",
       "      <th>dataEntrada</th>\n",
       "      <th>homologado</th>\n",
       "      <th>itemCnmp</th>\n",
       "      <th>membroResponsavel</th>\n",
       "      <th>municipio</th>\n",
       "      <th>prioritario</th>\n",
       "      <th>quantidadeConversoes</th>\n",
       "      <th>quantidadeProvidencias</th>\n",
       "      <th>urgente</th>\n",
       "      <th>diasTranscorridos</th>\n",
       "    </tr>\n",
       "  </thead>\n",
       "  <tbody>\n",
       "    <tr>\n",
       "      <th>6502</th>\n",
       "      <td>2</td>\n",
       "      <td>2</td>\n",
       "      <td>2016-01-19</td>\n",
       "      <td>2016-11-16</td>\n",
       "      <td>1</td>\n",
       "      <td>3119</td>\n",
       "      <td>96733.0</td>\n",
       "      <td>283</td>\n",
       "      <td>0</td>\n",
       "      <td>2</td>\n",
       "      <td>2</td>\n",
       "      <td>0</td>\n",
       "      <td>302</td>\n",
       "    </tr>\n",
       "    <tr>\n",
       "      <th>1586</th>\n",
       "      <td>2</td>\n",
       "      <td>3</td>\n",
       "      <td>2016-08-31</td>\n",
       "      <td>2018-07-30</td>\n",
       "      <td>1</td>\n",
       "      <td>3047</td>\n",
       "      <td>87480.0</td>\n",
       "      <td>170</td>\n",
       "      <td>0</td>\n",
       "      <td>1</td>\n",
       "      <td>6</td>\n",
       "      <td>0</td>\n",
       "      <td>698</td>\n",
       "    </tr>\n",
       "    <tr>\n",
       "      <th>1004</th>\n",
       "      <td>2</td>\n",
       "      <td>3</td>\n",
       "      <td>2014-05-30</td>\n",
       "      <td>2018-08-24</td>\n",
       "      <td>1</td>\n",
       "      <td>1582</td>\n",
       "      <td>27026.0</td>\n",
       "      <td>1996</td>\n",
       "      <td>0</td>\n",
       "      <td>5</td>\n",
       "      <td>16</td>\n",
       "      <td>0</td>\n",
       "      <td>1547</td>\n",
       "    </tr>\n",
       "    <tr>\n",
       "      <th>2938</th>\n",
       "      <td>2</td>\n",
       "      <td>3</td>\n",
       "      <td>2014-08-26</td>\n",
       "      <td>2018-05-16</td>\n",
       "      <td>1</td>\n",
       "      <td>1580</td>\n",
       "      <td>31458.0</td>\n",
       "      <td>3551</td>\n",
       "      <td>0</td>\n",
       "      <td>4</td>\n",
       "      <td>13</td>\n",
       "      <td>0</td>\n",
       "      <td>1359</td>\n",
       "    </tr>\n",
       "    <tr>\n",
       "      <th>7971</th>\n",
       "      <td>6</td>\n",
       "      <td>2</td>\n",
       "      <td>2015-01-20</td>\n",
       "      <td>2016-02-03</td>\n",
       "      <td>1</td>\n",
       "      <td>3047</td>\n",
       "      <td>87545.0</td>\n",
       "      <td>501</td>\n",
       "      <td>0</td>\n",
       "      <td>2</td>\n",
       "      <td>6</td>\n",
       "      <td>0</td>\n",
       "      <td>379</td>\n",
       "    </tr>\n",
       "    <tr>\n",
       "      <th>892</th>\n",
       "      <td>2</td>\n",
       "      <td>2</td>\n",
       "      <td>2018-01-25</td>\n",
       "      <td>2018-08-30</td>\n",
       "      <td>1</td>\n",
       "      <td>1560</td>\n",
       "      <td>3768.0</td>\n",
       "      <td>1214</td>\n",
       "      <td>0</td>\n",
       "      <td>2</td>\n",
       "      <td>4</td>\n",
       "      <td>0</td>\n",
       "      <td>217</td>\n",
       "    </tr>\n",
       "    <tr>\n",
       "      <th>4667</th>\n",
       "      <td>2</td>\n",
       "      <td>3</td>\n",
       "      <td>2014-08-04</td>\n",
       "      <td>2017-07-21</td>\n",
       "      <td>1</td>\n",
       "      <td>1501</td>\n",
       "      <td>87523.0</td>\n",
       "      <td>5094</td>\n",
       "      <td>0</td>\n",
       "      <td>3</td>\n",
       "      <td>6</td>\n",
       "      <td>0</td>\n",
       "      <td>1082</td>\n",
       "    </tr>\n",
       "    <tr>\n",
       "      <th>7180</th>\n",
       "      <td>2</td>\n",
       "      <td>3</td>\n",
       "      <td>2014-10-08</td>\n",
       "      <td>2016-06-29</td>\n",
       "      <td>1</td>\n",
       "      <td>726</td>\n",
       "      <td>53319.0</td>\n",
       "      <td>3533</td>\n",
       "      <td>0</td>\n",
       "      <td>4</td>\n",
       "      <td>11</td>\n",
       "      <td>0</td>\n",
       "      <td>630</td>\n",
       "    </tr>\n",
       "    <tr>\n",
       "      <th>4765</th>\n",
       "      <td>5</td>\n",
       "      <td>2</td>\n",
       "      <td>2016-11-21</td>\n",
       "      <td>2017-07-11</td>\n",
       "      <td>1</td>\n",
       "      <td>750</td>\n",
       "      <td>64218.0</td>\n",
       "      <td>1541</td>\n",
       "      <td>1</td>\n",
       "      <td>2</td>\n",
       "      <td>5</td>\n",
       "      <td>1</td>\n",
       "      <td>232</td>\n",
       "    </tr>\n",
       "    <tr>\n",
       "      <th>7453</th>\n",
       "      <td>2</td>\n",
       "      <td>2</td>\n",
       "      <td>2015-11-18</td>\n",
       "      <td>2016-05-23</td>\n",
       "      <td>1</td>\n",
       "      <td>1514</td>\n",
       "      <td>17663.0</td>\n",
       "      <td>5459</td>\n",
       "      <td>0</td>\n",
       "      <td>2</td>\n",
       "      <td>2</td>\n",
       "      <td>0</td>\n",
       "      <td>187</td>\n",
       "    </tr>\n",
       "  </tbody>\n",
       "</table>\n",
       "</div>"
      ],
      "text/plain": [
       "      areaAtuacao  classe dataAutuacao dataEntrada  homologado  itemCnmp  \\\n",
       "6502            2       2   2016-01-19  2016-11-16           1      3119   \n",
       "1586            2       3   2016-08-31  2018-07-30           1      3047   \n",
       "1004            2       3   2014-05-30  2018-08-24           1      1582   \n",
       "2938            2       3   2014-08-26  2018-05-16           1      1580   \n",
       "7971            6       2   2015-01-20  2016-02-03           1      3047   \n",
       "892             2       2   2018-01-25  2018-08-30           1      1560   \n",
       "4667            2       3   2014-08-04  2017-07-21           1      1501   \n",
       "7180            2       3   2014-10-08  2016-06-29           1       726   \n",
       "4765            5       2   2016-11-21  2017-07-11           1       750   \n",
       "7453            2       2   2015-11-18  2016-05-23           1      1514   \n",
       "\n",
       "      membroResponsavel  municipio  prioritario  quantidadeConversoes  \\\n",
       "6502            96733.0        283            0                     2   \n",
       "1586            87480.0        170            0                     1   \n",
       "1004            27026.0       1996            0                     5   \n",
       "2938            31458.0       3551            0                     4   \n",
       "7971            87545.0        501            0                     2   \n",
       "892              3768.0       1214            0                     2   \n",
       "4667            87523.0       5094            0                     3   \n",
       "7180            53319.0       3533            0                     4   \n",
       "4765            64218.0       1541            1                     2   \n",
       "7453            17663.0       5459            0                     2   \n",
       "\n",
       "      quantidadeProvidencias  urgente  diasTranscorridos  \n",
       "6502                       2        0                302  \n",
       "1586                       6        0                698  \n",
       "1004                      16        0               1547  \n",
       "2938                      13        0               1359  \n",
       "7971                       6        0                379  \n",
       "892                        4        0                217  \n",
       "4667                       6        0               1082  \n",
       "7180                      11        0                630  \n",
       "4765                       5        1                232  \n",
       "7453                       2        0                187  "
      ]
     },
     "execution_count": 15,
     "metadata": {},
     "output_type": "execute_result"
    }
   ],
   "source": [
    "df_work.sample(10)"
   ]
  },
  {
   "cell_type": "code",
   "execution_count": 18,
   "metadata": {},
   "outputs": [
    {
     "data": {
      "text/plain": [
       "RandomForestClassifier(bootstrap=True, class_weight=None, criterion='gini',\n",
       "            max_depth=None, max_features='auto', max_leaf_nodes=None,\n",
       "            min_impurity_decrease=0.0, min_impurity_split=None,\n",
       "            min_samples_leaf=1, min_samples_split=2,\n",
       "            min_weight_fraction_leaf=0.0, n_estimators=10, n_jobs=1,\n",
       "            oob_score=False, random_state=42, verbose=0, warm_start=False)"
      ]
     },
     "execution_count": 18,
     "metadata": {},
     "output_type": "execute_result"
    }
   ],
   "source": [
    "removed_columns = ['homologado', 'dataEntrada', 'dataAutuacao']\n",
    "features = [c for c in df_work.columns if c not in removed_columns]\n",
    "\n",
    "model = RandomForestClassifier(random_state=42)\n",
    "model.fit(df_work[features], df_work['homologado'])"
   ]
  },
  {
   "cell_type": "code",
   "execution_count": 19,
   "metadata": {},
   "outputs": [
    {
     "data": {
      "text/plain": [
       "0.997738364480419"
      ]
     },
     "execution_count": 19,
     "metadata": {},
     "output_type": "execute_result"
    }
   ],
   "source": [
    "model.score(df_work[features], df_work['homologado'])"
   ]
  },
  {
   "cell_type": "code",
   "execution_count": 20,
   "metadata": {},
   "outputs": [
    {
     "data": {
      "text/plain": [
       "((6300, 13), (2101, 13))"
      ]
     },
     "execution_count": 20,
     "metadata": {},
     "output_type": "execute_result"
    }
   ],
   "source": [
    "from sklearn.model_selection import train_test_split\n",
    "\n",
    "train, valid = train_test_split(df_work, random_state=42)\n",
    "train.shape, valid.shape"
   ]
  },
  {
   "cell_type": "code",
   "execution_count": 21,
   "metadata": {},
   "outputs": [
    {
     "data": {
      "text/plain": [
       "RandomForestClassifier(bootstrap=True, class_weight=None, criterion='gini',\n",
       "            max_depth=None, max_features='auto', max_leaf_nodes=None,\n",
       "            min_impurity_decrease=0.0, min_impurity_split=None,\n",
       "            min_samples_leaf=1, min_samples_split=2,\n",
       "            min_weight_fraction_leaf=0.0, n_estimators=10, n_jobs=1,\n",
       "            oob_score=False, random_state=42, verbose=0, warm_start=False)"
      ]
     },
     "execution_count": 21,
     "metadata": {},
     "output_type": "execute_result"
    }
   ],
   "source": [
    "model.fit(train[features], train['homologado'])"
   ]
  },
  {
   "cell_type": "code",
   "execution_count": 22,
   "metadata": {},
   "outputs": [],
   "source": [
    "train_preds = model.predict(train[features])\n",
    "valid_preds = model.predict(valid[features])"
   ]
  },
  {
   "cell_type": "code",
   "execution_count": 23,
   "metadata": {},
   "outputs": [
    {
     "name": "stdout",
     "output_type": "stream",
     "text": [
      "Accuracy score: 0.9984126984126984 0.9871489766777725\n",
      "Precision score:  0.987613149118628\n",
      "Recall score:  0.9995178399228544\n",
      "F1 score:  0.99352983465133\n"
     ]
    }
   ],
   "source": [
    "from sklearn.metrics import accuracy_score, precision_score, recall_score, f1_score\n",
    "\n",
    "def print_score():\n",
    "    print('Accuracy score:', accuracy_score(train['homologado'], train_preds), accuracy_score(valid['homologado'], valid_preds))\n",
    "    print('Precision score: ', format(precision_score(valid['homologado'], valid_preds)))\n",
    "    print('Recall score: ', format(recall_score(valid['homologado'], valid_preds)))\n",
    "    print('F1 score: ', format(f1_score(valid['homologado'], valid_preds)))\n",
    "\n",
    "print_score()"
   ]
  },
  {
   "cell_type": "markdown",
   "metadata": {},
   "source": [
    "### Primeira avaliação\n",
    "\n",
    "Embora não tenha ocorrido overfitting no treinamento e o *score* final tenha sido alto, cabe utilizar uma outra medida para assegurar a qualidade do modelo. Vamos utilizar a ** *matriz de confusão* **.\n",
    "\n"
   ]
  },
  {
   "cell_type": "code",
   "execution_count": 24,
   "metadata": {
    "scrolled": true
   },
   "outputs": [
    {
     "data": {
      "text/plain": [
       "array([[   1,   26],\n",
       "       [   1, 2073]])"
      ]
     },
     "execution_count": 24,
     "metadata": {},
     "output_type": "execute_result"
    }
   ],
   "source": [
    "from sklearn.metrics import confusion_matrix\n",
    "\n",
    "confusion_matrix(valid['homologado'], valid_preds)"
   ]
  },
  {
   "cell_type": "code",
   "execution_count": 34,
   "metadata": {},
   "outputs": [
    {
     "data": {
      "text/plain": [
       "(2074, 27)"
      ]
     },
     "execution_count": 34,
     "metadata": {},
     "output_type": "execute_result"
    }
   ],
   "source": [
    "len(valid[valid['homologado']==1]), len(valid[valid['homologado']==0])"
   ]
  },
  {
   "cell_type": "markdown",
   "metadata": {},
   "source": [
    "Ao utilizar o ravel(), temos uma saída do tipo (tn, fp, fn, tp). De onde vemos que:\n",
    "\n",
    "\n",
    "- tivemos 0 tn - *true negative*; ou seja, o modelo não acertou **nenhum** dos que não tiveram o arquivamento homologado;\n",
    "- tivemos 28 fp - *false positive*; 28 que não tiveram o arquivamento não homologado e o modelo classificou como homologado;\n",
    "- tivemos 0 fn - *false negative*; foram homologados e o modelo marcou como não homologados;\n",
    "- tivemos 1952 tp - *true positive*; foram homologados e o modelo marcou corretamente.\n",
    "\n",
    "Logo, apesar da acurácia do modelo aparentar ser muito boa (98% no validation set), o **modelo não sabe lidar com os não arquivamentos** - não acertou nenhum dos que realmente não foram homologados. Ou seja dos 28 que não foram homologados, o modelo errou todos.\n",
    "\n",
    "Fica claro que somente essas features não ajudam na descoberta - o texto da íntegra é, segundo a área negocial, realmente o mais importante.\n",
    "\n",
    "Vamos continuar avaliando esse modelo."
   ]
  },
  {
   "cell_type": "markdown",
   "metadata": {},
   "source": [
    "## Feature importances"
   ]
  },
  {
   "cell_type": "code",
   "execution_count": 35,
   "metadata": {},
   "outputs": [
    {
     "data": {
      "image/png": "[encoded data removed]",
      "text/plain": [
       "<Figure size 432x288 with 1 Axes>"
      ]
     },
     "metadata": {},
     "output_type": "display_data"
    }
   ],
   "source": [
    "import matplotlib.pyplot as plt\n",
    "\n",
    "def plot_fi(feature_importances, size=None):\n",
    "    feature_importances = model.feature_importances_\n",
    "    \n",
    "    if not size:\n",
    "        size = len(feature_importances)\n",
    "    \n",
    "    indices = np.argsort(feature_importances[0:size])\n",
    "    \n",
    "    plt.title('Feature Importances')\n",
    "    plt.barh(range(size), feature_importances[indices], color='b', align='center')\n",
    "    plt.yticks(range(size), [features[i] for i in indices if i < size])\n",
    "    plt.xlabel('Relative Importance')\n",
    "    plt.show()\n",
    "    \n",
    "plot_fi(model.feature_importances_)"
   ]
  },
  {
   "cell_type": "markdown",
   "metadata": {},
   "source": [
    "O modelo está dando muita importância ao município que, considerando o bom senso e um pouco de domínio negocial, não faz sentido - o município não deveria interferir.\n",
    "\n",
    "Lembrar: criar uma coluna para cada uma das listas de palavras-chaves, indicando ausência ou presença"
   ]
  },
  {
   "cell_type": "code",
   "execution_count": 36,
   "metadata": {},
   "outputs": [
    {
     "name": "stdout",
     "output_type": "stream",
     "text": [
      "Accuracy score: 0.9985714285714286 0.985721085197525\n",
      "Precision score:  0.9871306005719733\n",
      "Recall score:  0.9985535197685632\n",
      "F1 score:  0.9928092042186002\n"
     ]
    }
   ],
   "source": [
    "# Vou retirar as colunas com poucas importância\n",
    "removed_columns = ['homologado', 'dataEntrada', 'dataAutuacao', 'urgente', 'prioritario']\n",
    "features = [c for c in df_work.columns if c not in removed_columns]\n",
    "\n",
    "model = RandomForestClassifier(random_state=42)\n",
    "\n",
    "model.fit(train[features], train['homologado'])\n",
    "\n",
    "train_preds = model.predict(train[features])\n",
    "valid_preds = model.predict(valid[features])\n",
    "\n",
    "print_score()"
   ]
  },
  {
   "cell_type": "code",
   "execution_count": 37,
   "metadata": {},
   "outputs": [
    {
     "data": {
      "text/plain": [
       "array([[   0,   27],\n",
       "       [   3, 2071]])"
      ]
     },
     "execution_count": 37,
     "metadata": {},
     "output_type": "execute_result"
    }
   ],
   "source": [
    "confusion_matrix(valid['homologado'], valid_preds)"
   ]
  },
  {
   "cell_type": "code",
   "execution_count": 38,
   "metadata": {},
   "outputs": [
    {
     "data": {
      "image/png": "[encoded data removed]",
      "text/plain": [
       "<Figure size 432x288 with 1 Axes>"
      ]
     },
     "metadata": {},
     "output_type": "display_data"
    }
   ],
   "source": [
    "plot_fi(model.feature_importances_)"
   ]
  },
  {
   "cell_type": "markdown",
   "metadata": {},
   "source": [
    "Com as novas features, retirando a urgente e a prioritário, não houve melhorias.\n",
    "\n",
    "Vou retirar a coluna município, pois, ao meu ver, ela não nos parece adequada - e o modelo continua dando muita importância a ela."
   ]
  },
  {
   "cell_type": "code",
   "execution_count": 39,
   "metadata": {},
   "outputs": [
    {
     "name": "stdout",
     "output_type": "stream",
     "text": [
      "Accuracy score: 0.9984126984126984 0.9861970490242742\n",
      "Precision score:  0.9876013352408202\n",
      "Recall score:  0.9985535197685632\n",
      "F1 score:  0.9930472308798849\n"
     ]
    }
   ],
   "source": [
    "removed_columns.append('municipio')\n",
    "removed_columns\n",
    "\n",
    "features = [c for c in df_work.columns if c not in removed_columns]\n",
    "\n",
    "model.fit(train[features], train['homologado'])\n",
    "\n",
    "train_preds = model.predict(train[features])\n",
    "valid_preds = model.predict(valid[features])\n",
    "\n",
    "print_score()"
   ]
  },
  {
   "cell_type": "code",
   "execution_count": 40,
   "metadata": {},
   "outputs": [
    {
     "data": {
      "text/plain": [
       "array([[   1,   26],\n",
       "       [   3, 2071]])"
      ]
     },
     "execution_count": 40,
     "metadata": {},
     "output_type": "execute_result"
    }
   ],
   "source": [
    "confusion_matrix(valid['homologado'], valid_preds)"
   ]
  },
  {
   "cell_type": "code",
   "execution_count": 41,
   "metadata": {},
   "outputs": [
    {
     "data": {
      "image/png": "[encoded data removed]",
      "text/plain": [
       "<Figure size 432x288 with 1 Axes>"
      ]
     },
     "metadata": {},
     "output_type": "display_data"
    }
   ],
   "source": [
    "plot_fi(model.feature_importances_)"
   ]
  },
  {
   "cell_type": "markdown",
   "metadata": {},
   "source": [
    "Ao retirar a coluna município, fez com que aparece um true negative e um false positive.\n",
    "\n",
    "Vamos criar um modelo ainda mais simples, apenas com as features cuja importância seja maior que 5%."
   ]
  },
  {
   "cell_type": "code",
   "execution_count": 42,
   "metadata": {},
   "outputs": [
    {
     "name": "stdout",
     "output_type": "stream",
     "text": [
      "Accuracy score: 0.9984126984126984 0.985721085197525\n",
      "Precision score:  0.9871306005719733\n",
      "Recall score:  0.9985535197685632\n",
      "F1 score:  0.9928092042186002\n"
     ]
    }
   ],
   "source": [
    "model = RandomForestClassifier(random_state=42)\n",
    "\n",
    "important_features = ['membroResponsavel', 'diasTranscorridos', 'itemCnmp', 'quantidadeProvidencias', 'quantidadeConversoes']\n",
    "model.fit(train[important_features], train['homologado'])\n",
    "\n",
    "train_preds = model.predict(train[important_features])\n",
    "valid_preds = model.predict(valid[important_features])\n",
    "\n",
    "print_score()"
   ]
  },
  {
   "cell_type": "code",
   "execution_count": 43,
   "metadata": {},
   "outputs": [
    {
     "data": {
      "text/plain": [
       "array([[   0,   27],\n",
       "       [   3, 2071]])"
      ]
     },
     "execution_count": 43,
     "metadata": {},
     "output_type": "execute_result"
    }
   ],
   "source": [
    "confusion_matrix(valid['homologado'], valid_preds)"
   ]
  },
  {
   "cell_type": "code",
   "execution_count": 44,
   "metadata": {},
   "outputs": [
    {
     "data": {
      "image/png": "[encoded data removed]",
      "text/plain": [
       "<Figure size 432x288 with 1 Axes>"
      ]
     },
     "metadata": {},
     "output_type": "display_data"
    }
   ],
   "source": [
    "plot_fi(model.feature_importances_)"
   ]
  },
  {
   "cell_type": "markdown",
   "metadata": {},
   "source": [
    "Somente com as features importantes acima, o desempenho se manteve. \n",
    "\n",
    "Interessante notar que a variável diasTranscorridos desapereceu da lista de importâncias.\n",
    "\n",
    "Vamos fazer mais um teste, apenas com as top-3 features"
   ]
  },
  {
   "cell_type": "code",
   "execution_count": 45,
   "metadata": {},
   "outputs": [
    {
     "name": "stdout",
     "output_type": "stream",
     "text": [
      "Accuracy score: 0.9865079365079366 0.9809614469300333\n",
      "Precision score:  0.987535953978907\n",
      "Recall score:  0.9932497589199615\n",
      "F1 score:  0.9903846153846154\n"
     ]
    }
   ],
   "source": [
    "important_features = ['classe', 'areaAtuacao', 'itemCnmp']\n",
    "\n",
    "model = RandomForestClassifier(random_state=42)\n",
    "model.fit(train[important_features], train['homologado'])\n",
    "\n",
    "train_preds = model.predict(train[important_features])\n",
    "valid_preds = model.predict(valid[important_features])\n",
    "\n",
    "print_score()"
   ]
  },
  {
   "cell_type": "code",
   "execution_count": 46,
   "metadata": {},
   "outputs": [
    {
     "data": {
      "text/plain": [
       "array([[   1,   26],\n",
       "       [  14, 2060]])"
      ]
     },
     "execution_count": 46,
     "metadata": {},
     "output_type": "execute_result"
    }
   ],
   "source": [
    "confusion_matrix(valid['homologado'], valid_preds)"
   ]
  },
  {
   "cell_type": "markdown",
   "metadata": {},
   "source": [
    "Com o modelo mais simples, a acurácia caiu e apareceram false negatives. \n",
    "\n",
    "Fica claro que não sabe lidar com os não homologados.\n",
    "\n",
    "Vamos passar a considerar o texto das providências."
   ]
  },
  {
   "cell_type": "markdown",
   "metadata": {},
   "source": [
    "## Considerando as providências realizadas"
   ]
  },
  {
   "cell_type": "code",
   "execution_count": 47,
   "metadata": {},
   "outputs": [
    {
     "data": {
      "text/html": [
       "<div>\n",
       "<style scoped>\n",
       "    .dataframe tbody tr th:only-of-type {\n",
       "        vertical-align: middle;\n",
       "    }\n",
       "\n",
       "    .dataframe tbody tr th {\n",
       "        vertical-align: top;\n",
       "    }\n",
       "\n",
       "    .dataframe thead th {\n",
       "        text-align: right;\n",
       "    }\n",
       "</style>\n",
       "<table border=\"1\" class=\"dataframe\">\n",
       "  <thead>\n",
       "    <tr style=\"text-align: right;\">\n",
       "      <th></th>\n",
       "      <th>areaAtuacao</th>\n",
       "      <th>classe</th>\n",
       "      <th>homologado</th>\n",
       "      <th>itemCnmp</th>\n",
       "      <th>membroResponsavel</th>\n",
       "      <th>municipio</th>\n",
       "      <th>quantidadeConversoes</th>\n",
       "      <th>quantidadeProvidencias</th>\n",
       "      <th>textosProvidencias</th>\n",
       "      <th>diasTranscorridos</th>\n",
       "    </tr>\n",
       "  </thead>\n",
       "  <tbody>\n",
       "    <tr>\n",
       "      <th>7019</th>\n",
       "      <td>2</td>\n",
       "      <td>3</td>\n",
       "      <td>1</td>\n",
       "      <td>1598</td>\n",
       "      <td>13959.0</td>\n",
       "      <td>3445</td>\n",
       "      <td>3</td>\n",
       "      <td>8</td>\n",
       "      <td>Converta-se em Inquérito Civil(IC).,Analisar A...</td>\n",
       "      <td>496</td>\n",
       "    </tr>\n",
       "    <tr>\n",
       "      <th>1187</th>\n",
       "      <td>2</td>\n",
       "      <td>3</td>\n",
       "      <td>1</td>\n",
       "      <td>3078</td>\n",
       "      <td>31406.0</td>\n",
       "      <td>1214</td>\n",
       "      <td>3</td>\n",
       "      <td>5</td>\n",
       "      <td>Converta-se em Inquérito Civil(IC).,Oficie-se,...</td>\n",
       "      <td>1064</td>\n",
       "    </tr>\n",
       "    <tr>\n",
       "      <th>2065</th>\n",
       "      <td>2</td>\n",
       "      <td>3</td>\n",
       "      <td>1</td>\n",
       "      <td>1504</td>\n",
       "      <td>14143.0</td>\n",
       "      <td>3383</td>\n",
       "      <td>2</td>\n",
       "      <td>9</td>\n",
       "      <td>Interpor recurso no MPF.,Converta-se em Inquér...</td>\n",
       "      <td>1174</td>\n",
       "    </tr>\n",
       "    <tr>\n",
       "      <th>2947</th>\n",
       "      <td>2</td>\n",
       "      <td>5</td>\n",
       "      <td>1</td>\n",
       "      <td>3078</td>\n",
       "      <td>127528.0</td>\n",
       "      <td>226</td>\n",
       "      <td>1</td>\n",
       "      <td>1</td>\n",
       "      <td>Prorroga-se o prazo de finalização do Procedim...</td>\n",
       "      <td>777</td>\n",
       "    </tr>\n",
       "    <tr>\n",
       "      <th>5460</th>\n",
       "      <td>2</td>\n",
       "      <td>3</td>\n",
       "      <td>1</td>\n",
       "      <td>1560</td>\n",
       "      <td>5523.0</td>\n",
       "      <td>3113</td>\n",
       "      <td>3</td>\n",
       "      <td>25</td>\n",
       "      <td>Converta-se em Inquérito Civil(IC).,Junte-se.,...</td>\n",
       "      <td>854</td>\n",
       "    </tr>\n",
       "    <tr>\n",
       "      <th>7690</th>\n",
       "      <td>2</td>\n",
       "      <td>2</td>\n",
       "      <td>1</td>\n",
       "      <td>1523</td>\n",
       "      <td>0.0</td>\n",
       "      <td>3113</td>\n",
       "      <td>2</td>\n",
       "      <td>5</td>\n",
       "      <td>Oficie-se.,Prorroga-se o prazo de finalização ...</td>\n",
       "      <td>315</td>\n",
       "    </tr>\n",
       "    <tr>\n",
       "      <th>3758</th>\n",
       "      <td>2</td>\n",
       "      <td>2</td>\n",
       "      <td>1</td>\n",
       "      <td>1521</td>\n",
       "      <td>18836.0</td>\n",
       "      <td>3113</td>\n",
       "      <td>2</td>\n",
       "      <td>5</td>\n",
       "      <td>Oficie-se.,Prorroga-se o prazo de finalização ...</td>\n",
       "      <td>448</td>\n",
       "    </tr>\n",
       "    <tr>\n",
       "      <th>8112</th>\n",
       "      <td>2</td>\n",
       "      <td>2</td>\n",
       "      <td>1</td>\n",
       "      <td>2104</td>\n",
       "      <td>0.0</td>\n",
       "      <td>3689</td>\n",
       "      <td>0</td>\n",
       "      <td>1</td>\n",
       "      <td>Oficie-se.</td>\n",
       "      <td>34</td>\n",
       "    </tr>\n",
       "    <tr>\n",
       "      <th>564</th>\n",
       "      <td>2</td>\n",
       "      <td>3</td>\n",
       "      <td>1</td>\n",
       "      <td>1580</td>\n",
       "      <td>11692.0</td>\n",
       "      <td>3689</td>\n",
       "      <td>4</td>\n",
       "      <td>12</td>\n",
       "      <td>Converta-se em Inquérito Civil(IC).,Oficie-se....</td>\n",
       "      <td>709</td>\n",
       "    </tr>\n",
       "    <tr>\n",
       "      <th>3854</th>\n",
       "      <td>2</td>\n",
       "      <td>2</td>\n",
       "      <td>1</td>\n",
       "      <td>1658</td>\n",
       "      <td>11289.0</td>\n",
       "      <td>1541</td>\n",
       "      <td>1</td>\n",
       "      <td>5</td>\n",
       "      <td>Oficie-se.,Converta-se em Procedimento Prepara...</td>\n",
       "      <td>130</td>\n",
       "    </tr>\n",
       "  </tbody>\n",
       "</table>\n",
       "</div>"
      ],
      "text/plain": [
       "      areaAtuacao  classe  homologado  itemCnmp  membroResponsavel  municipio  \\\n",
       "7019            2       3           1      1598            13959.0       3445   \n",
       "1187            2       3           1      3078            31406.0       1214   \n",
       "2065            2       3           1      1504            14143.0       3383   \n",
       "2947            2       5           1      3078           127528.0        226   \n",
       "5460            2       3           1      1560             5523.0       3113   \n",
       "7690            2       2           1      1523                0.0       3113   \n",
       "3758            2       2           1      1521            18836.0       3113   \n",
       "8112            2       2           1      2104                0.0       3689   \n",
       "564             2       3           1      1580            11692.0       3689   \n",
       "3854            2       2           1      1658            11289.0       1541   \n",
       "\n",
       "      quantidadeConversoes  quantidadeProvidencias  \\\n",
       "7019                     3                       8   \n",
       "1187                     3                       5   \n",
       "2065                     2                       9   \n",
       "2947                     1                       1   \n",
       "5460                     3                      25   \n",
       "7690                     2                       5   \n",
       "3758                     2                       5   \n",
       "8112                     0                       1   \n",
       "564                      4                      12   \n",
       "3854                     1                       5   \n",
       "\n",
       "                                     textosProvidencias  diasTranscorridos  \n",
       "7019  Converta-se em Inquérito Civil(IC).,Analisar A...                496  \n",
       "1187  Converta-se em Inquérito Civil(IC).,Oficie-se,...               1064  \n",
       "2065  Interpor recurso no MPF.,Converta-se em Inquér...               1174  \n",
       "2947  Prorroga-se o prazo de finalização do Procedim...                777  \n",
       "5460  Converta-se em Inquérito Civil(IC).,Junte-se.,...                854  \n",
       "7690  Oficie-se.,Prorroga-se o prazo de finalização ...                315  \n",
       "3758  Oficie-se.,Prorroga-se o prazo de finalização ...                448  \n",
       "8112                                         Oficie-se.                 34  \n",
       "564   Converta-se em Inquérito Civil(IC).,Oficie-se....                709  \n",
       "3854  Oficie-se.,Converta-se em Procedimento Prepara...                130  "
      ]
     },
     "execution_count": 47,
     "metadata": {},
     "output_type": "execute_result"
    }
   ],
   "source": [
    "df_work = df_original.copy()\n",
    "\n",
    "df_work['dataAutuacao'] = pd.to_datetime(df_work['dataAutuacao'],infer_datetime_format=True)\n",
    "df_work['dataEntrada'] = pd.to_datetime(df_work['dataEntrada'],infer_datetime_format=True)\n",
    "\n",
    "df_work['diasTranscorridos'] = 0\n",
    "for index in range(len(df_work)):\n",
    "    df_work.loc[index, 'diasTranscorridos'] =  np.abs((df_work.loc[index, 'dataEntrada'] - df_work.loc[index, 'dataAutuacao']).days)\n",
    "\n",
    "removed_columns = ['id', 'procedimento', 'identificadorPecaPromocao', 'prioritario', 'urgente', 'dataAutuacao', 'dataEntrada']\n",
    "df_work = df_work.drop(columns=removed_columns)\n",
    "df_work.fillna(0, inplace=True)\n",
    "\n",
    "    \n",
    "df_work.sample(10)"
   ]
  },
  {
   "cell_type": "code",
   "execution_count": 48,
   "metadata": {},
   "outputs": [
    {
     "data": {
      "text/html": [
       "<div>\n",
       "<style scoped>\n",
       "    .dataframe tbody tr th:only-of-type {\n",
       "        vertical-align: middle;\n",
       "    }\n",
       "\n",
       "    .dataframe tbody tr th {\n",
       "        vertical-align: top;\n",
       "    }\n",
       "\n",
       "    .dataframe thead th {\n",
       "        text-align: right;\n",
       "    }\n",
       "</style>\n",
       "<table border=\"1\" class=\"dataframe\">\n",
       "  <thead>\n",
       "    <tr style=\"text-align: right;\">\n",
       "      <th></th>\n",
       "      <th>areaAtuacao</th>\n",
       "      <th>classe</th>\n",
       "      <th>homologado</th>\n",
       "      <th>itemCnmp</th>\n",
       "      <th>membroResponsavel</th>\n",
       "      <th>municipio</th>\n",
       "      <th>quantidadeConversoes</th>\n",
       "      <th>quantidadeProvidencias</th>\n",
       "      <th>diasTranscorridos</th>\n",
       "    </tr>\n",
       "  </thead>\n",
       "  <tbody>\n",
       "    <tr>\n",
       "      <th>count</th>\n",
       "      <td>8.401000e+03</td>\n",
       "      <td>8401.000000</td>\n",
       "      <td>8401.000000</td>\n",
       "      <td>8.401000e+03</td>\n",
       "      <td>8401.000000</td>\n",
       "      <td>8401.000000</td>\n",
       "      <td>8401.000000</td>\n",
       "      <td>8401.000000</td>\n",
       "      <td>8401.000000</td>\n",
       "    </tr>\n",
       "    <tr>\n",
       "      <th>mean</th>\n",
       "      <td>2.403226e+02</td>\n",
       "      <td>2.542912</td>\n",
       "      <td>0.984050</td>\n",
       "      <td>3.618624e+04</td>\n",
       "      <td>34653.752291</td>\n",
       "      <td>2923.952506</td>\n",
       "      <td>2.077372</td>\n",
       "      <td>7.311749</td>\n",
       "      <td>581.627068</td>\n",
       "    </tr>\n",
       "    <tr>\n",
       "      <th>std</th>\n",
       "      <td>2.182139e+04</td>\n",
       "      <td>1.460381</td>\n",
       "      <td>0.125291</td>\n",
       "      <td>2.602520e+05</td>\n",
       "      <td>35050.392009</td>\n",
       "      <td>1670.038202</td>\n",
       "      <td>1.460256</td>\n",
       "      <td>8.735195</td>\n",
       "      <td>613.894433</td>\n",
       "    </tr>\n",
       "    <tr>\n",
       "      <th>min</th>\n",
       "      <td>1.000000e+00</td>\n",
       "      <td>1.000000</td>\n",
       "      <td>0.000000</td>\n",
       "      <td>2.000000e+00</td>\n",
       "      <td>0.000000</td>\n",
       "      <td>1.000000</td>\n",
       "      <td>0.000000</td>\n",
       "      <td>0.000000</td>\n",
       "      <td>0.000000</td>\n",
       "    </tr>\n",
       "    <tr>\n",
       "      <th>25%</th>\n",
       "      <td>2.000000e+00</td>\n",
       "      <td>2.000000</td>\n",
       "      <td>1.000000</td>\n",
       "      <td>1.521000e+03</td>\n",
       "      <td>8883.000000</td>\n",
       "      <td>1443.000000</td>\n",
       "      <td>1.000000</td>\n",
       "      <td>2.000000</td>\n",
       "      <td>174.000000</td>\n",
       "    </tr>\n",
       "    <tr>\n",
       "      <th>50%</th>\n",
       "      <td>2.000000e+00</td>\n",
       "      <td>3.000000</td>\n",
       "      <td>1.000000</td>\n",
       "      <td>1.581000e+03</td>\n",
       "      <td>23212.000000</td>\n",
       "      <td>3087.000000</td>\n",
       "      <td>2.000000</td>\n",
       "      <td>5.000000</td>\n",
       "      <td>343.000000</td>\n",
       "    </tr>\n",
       "    <tr>\n",
       "      <th>75%</th>\n",
       "      <td>2.000000e+00</td>\n",
       "      <td>3.000000</td>\n",
       "      <td>1.000000</td>\n",
       "      <td>1.911000e+03</td>\n",
       "      <td>53307.000000</td>\n",
       "      <td>4385.000000</td>\n",
       "      <td>3.000000</td>\n",
       "      <td>9.000000</td>\n",
       "      <td>789.000000</td>\n",
       "    </tr>\n",
       "    <tr>\n",
       "      <th>max</th>\n",
       "      <td>2.000085e+06</td>\n",
       "      <td>64.000000</td>\n",
       "      <td>1.000000</td>\n",
       "      <td>2.007548e+06</td>\n",
       "      <td>128455.000000</td>\n",
       "      <td>5768.000000</td>\n",
       "      <td>13.000000</td>\n",
       "      <td>192.000000</td>\n",
       "      <td>5823.000000</td>\n",
       "    </tr>\n",
       "  </tbody>\n",
       "</table>\n",
       "</div>"
      ],
      "text/plain": [
       "        areaAtuacao       classe   homologado      itemCnmp  \\\n",
       "count  8.401000e+03  8401.000000  8401.000000  8.401000e+03   \n",
       "mean   2.403226e+02     2.542912     0.984050  3.618624e+04   \n",
       "std    2.182139e+04     1.460381     0.125291  2.602520e+05   \n",
       "min    1.000000e+00     1.000000     0.000000  2.000000e+00   \n",
       "25%    2.000000e+00     2.000000     1.000000  1.521000e+03   \n",
       "50%    2.000000e+00     3.000000     1.000000  1.581000e+03   \n",
       "75%    2.000000e+00     3.000000     1.000000  1.911000e+03   \n",
       "max    2.000085e+06    64.000000     1.000000  2.007548e+06   \n",
       "\n",
       "       membroResponsavel    municipio  quantidadeConversoes  \\\n",
       "count        8401.000000  8401.000000           8401.000000   \n",
       "mean        34653.752291  2923.952506              2.077372   \n",
       "std         35050.392009  1670.038202              1.460256   \n",
       "min             0.000000     1.000000              0.000000   \n",
       "25%          8883.000000  1443.000000              1.000000   \n",
       "50%         23212.000000  3087.000000              2.000000   \n",
       "75%         53307.000000  4385.000000              3.000000   \n",
       "max        128455.000000  5768.000000             13.000000   \n",
       "\n",
       "       quantidadeProvidencias  diasTranscorridos  \n",
       "count             8401.000000        8401.000000  \n",
       "mean                 7.311749         581.627068  \n",
       "std                  8.735195         613.894433  \n",
       "min                  0.000000           0.000000  \n",
       "25%                  2.000000         174.000000  \n",
       "50%                  5.000000         343.000000  \n",
       "75%                  9.000000         789.000000  \n",
       "max                192.000000        5823.000000  "
      ]
     },
     "execution_count": 48,
     "metadata": {},
     "output_type": "execute_result"
    }
   ],
   "source": [
    "df_work.describe()"
   ]
  },
  {
   "cell_type": "code",
   "execution_count": 49,
   "metadata": {},
   "outputs": [],
   "source": [
    "listaProvidencias = []\n",
    "for index in range(len(df_work)):\n",
    "    for s in str(df_work['textosProvidencias'][index]).strip().lower().split(','):\n",
    "        listaProvidencias.append(s)\n",
    "\n",
    "listaProvidencias = set(listaProvidencias)\n",
    "listaProvidencias.remove('análise do arquivamento')\n",
    "listaProvidencias.remove('analisar arquivamento')\n",
    "listaProvidencias.remove('arquive-se na unidade.')"
   ]
  },
  {
   "cell_type": "code",
   "execution_count": 50,
   "metadata": {},
   "outputs": [],
   "source": [
    "df_work = pd.concat([df_work, pd.get_dummies(sorted(list(listaProvidencias)), drop_first=True)], axis=1)"
   ]
  },
  {
   "cell_type": "code",
   "execution_count": 51,
   "metadata": {},
   "outputs": [],
   "source": [
    "for index in range(len(df_work)):\n",
    "    for s in str(df_work.textosProvidencias[index]).strip().split(','):\n",
    "        df_work.at[index, s.lower()] = 1"
   ]
  },
  {
   "cell_type": "code",
   "execution_count": 52,
   "metadata": {},
   "outputs": [
    {
     "data": {
      "text/html": [
       "<div>\n",
       "<style scoped>\n",
       "    .dataframe tbody tr th:only-of-type {\n",
       "        vertical-align: middle;\n",
       "    }\n",
       "\n",
       "    .dataframe tbody tr th {\n",
       "        vertical-align: top;\n",
       "    }\n",
       "\n",
       "    .dataframe thead th {\n",
       "        text-align: right;\n",
       "    }\n",
       "</style>\n",
       "<table border=\"1\" class=\"dataframe\">\n",
       "  <thead>\n",
       "    <tr style=\"text-align: right;\">\n",
       "      <th></th>\n",
       "      <th>areaAtuacao</th>\n",
       "      <th>classe</th>\n",
       "      <th>homologado</th>\n",
       "      <th>itemCnmp</th>\n",
       "      <th>membroResponsavel</th>\n",
       "      <th>municipio</th>\n",
       "      <th>quantidadeConversoes</th>\n",
       "      <th>quantidadeProvidencias</th>\n",
       "      <th>diasTranscorridos</th>\n",
       "      <th>analisar conflito de atribuição</th>\n",
       "      <th>...</th>\n",
       "      <th>recomende-se.</th>\n",
       "      <th>redistribua-se.</th>\n",
       "      <th>requisite-se perícia à ccr/mpf.</th>\n",
       "      <th>sobrestar no setor.</th>\n",
       "      <th>solicitar instauração de inquérito judicial</th>\n",
       "      <th>vistoria</th>\n",
       "      <th>análise do arquivamento</th>\n",
       "      <th>analisar arquivamento</th>\n",
       "      <th>arquive-se na unidade.</th>\n",
       "      <th></th>\n",
       "    </tr>\n",
       "  </thead>\n",
       "  <tbody>\n",
       "    <tr>\n",
       "      <th>count</th>\n",
       "      <td>8.401000e+03</td>\n",
       "      <td>8401.000000</td>\n",
       "      <td>8401.000000</td>\n",
       "      <td>8.401000e+03</td>\n",
       "      <td>8401.000000</td>\n",
       "      <td>8401.000000</td>\n",
       "      <td>8401.000000</td>\n",
       "      <td>8401.000000</td>\n",
       "      <td>8401.000000</td>\n",
       "      <td>137.000000</td>\n",
       "      <td>...</td>\n",
       "      <td>737.000000</td>\n",
       "      <td>809.000000</td>\n",
       "      <td>89.000000</td>\n",
       "      <td>1022.000000</td>\n",
       "      <td>74.000000</td>\n",
       "      <td>86.000000</td>\n",
       "      <td>238.0</td>\n",
       "      <td>886.0</td>\n",
       "      <td>159.0</td>\n",
       "      <td>175.0</td>\n",
       "    </tr>\n",
       "    <tr>\n",
       "      <th>mean</th>\n",
       "      <td>2.403226e+02</td>\n",
       "      <td>2.542912</td>\n",
       "      <td>0.984050</td>\n",
       "      <td>3.618624e+04</td>\n",
       "      <td>34653.752291</td>\n",
       "      <td>2923.952506</td>\n",
       "      <td>2.077372</td>\n",
       "      <td>7.311749</td>\n",
       "      <td>581.627068</td>\n",
       "      <td>0.481752</td>\n",
       "      <td>...</td>\n",
       "      <td>0.910448</td>\n",
       "      <td>0.927070</td>\n",
       "      <td>0.191011</td>\n",
       "      <td>0.946184</td>\n",
       "      <td>0.027027</td>\n",
       "      <td>0.162791</td>\n",
       "      <td>1.0</td>\n",
       "      <td>1.0</td>\n",
       "      <td>1.0</td>\n",
       "      <td>1.0</td>\n",
       "    </tr>\n",
       "    <tr>\n",
       "      <th>std</th>\n",
       "      <td>2.182139e+04</td>\n",
       "      <td>1.460381</td>\n",
       "      <td>0.125291</td>\n",
       "      <td>2.602520e+05</td>\n",
       "      <td>35050.392009</td>\n",
       "      <td>1670.038202</td>\n",
       "      <td>1.460256</td>\n",
       "      <td>8.735195</td>\n",
       "      <td>613.894433</td>\n",
       "      <td>0.501501</td>\n",
       "      <td>...</td>\n",
       "      <td>0.285733</td>\n",
       "      <td>0.260182</td>\n",
       "      <td>0.395325</td>\n",
       "      <td>0.225765</td>\n",
       "      <td>0.163269</td>\n",
       "      <td>0.371340</td>\n",
       "      <td>0.0</td>\n",
       "      <td>0.0</td>\n",
       "      <td>0.0</td>\n",
       "      <td>0.0</td>\n",
       "    </tr>\n",
       "    <tr>\n",
       "      <th>min</th>\n",
       "      <td>1.000000e+00</td>\n",
       "      <td>1.000000</td>\n",
       "      <td>0.000000</td>\n",
       "      <td>2.000000e+00</td>\n",
       "      <td>0.000000</td>\n",
       "      <td>1.000000</td>\n",
       "      <td>0.000000</td>\n",
       "      <td>0.000000</td>\n",
       "      <td>0.000000</td>\n",
       "      <td>0.000000</td>\n",
       "      <td>...</td>\n",
       "      <td>0.000000</td>\n",
       "      <td>0.000000</td>\n",
       "      <td>0.000000</td>\n",
       "      <td>0.000000</td>\n",
       "      <td>0.000000</td>\n",
       "      <td>0.000000</td>\n",
       "      <td>1.0</td>\n",
       "      <td>1.0</td>\n",
       "      <td>1.0</td>\n",
       "      <td>1.0</td>\n",
       "    </tr>\n",
       "    <tr>\n",
       "      <th>25%</th>\n",
       "      <td>2.000000e+00</td>\n",
       "      <td>2.000000</td>\n",
       "      <td>1.000000</td>\n",
       "      <td>1.521000e+03</td>\n",
       "      <td>8883.000000</td>\n",
       "      <td>1443.000000</td>\n",
       "      <td>1.000000</td>\n",
       "      <td>2.000000</td>\n",
       "      <td>174.000000</td>\n",
       "      <td>0.000000</td>\n",
       "      <td>...</td>\n",
       "      <td>1.000000</td>\n",
       "      <td>1.000000</td>\n",
       "      <td>0.000000</td>\n",
       "      <td>1.000000</td>\n",
       "      <td>0.000000</td>\n",
       "      <td>0.000000</td>\n",
       "      <td>1.0</td>\n",
       "      <td>1.0</td>\n",
       "      <td>1.0</td>\n",
       "      <td>1.0</td>\n",
       "    </tr>\n",
       "    <tr>\n",
       "      <th>50%</th>\n",
       "      <td>2.000000e+00</td>\n",
       "      <td>3.000000</td>\n",
       "      <td>1.000000</td>\n",
       "      <td>1.581000e+03</td>\n",
       "      <td>23212.000000</td>\n",
       "      <td>3087.000000</td>\n",
       "      <td>2.000000</td>\n",
       "      <td>5.000000</td>\n",
       "      <td>343.000000</td>\n",
       "      <td>0.000000</td>\n",
       "      <td>...</td>\n",
       "      <td>1.000000</td>\n",
       "      <td>1.000000</td>\n",
       "      <td>0.000000</td>\n",
       "      <td>1.000000</td>\n",
       "      <td>0.000000</td>\n",
       "      <td>0.000000</td>\n",
       "      <td>1.0</td>\n",
       "      <td>1.0</td>\n",
       "      <td>1.0</td>\n",
       "      <td>1.0</td>\n",
       "    </tr>\n",
       "    <tr>\n",
       "      <th>75%</th>\n",
       "      <td>2.000000e+00</td>\n",
       "      <td>3.000000</td>\n",
       "      <td>1.000000</td>\n",
       "      <td>1.911000e+03</td>\n",
       "      <td>53307.000000</td>\n",
       "      <td>4385.000000</td>\n",
       "      <td>3.000000</td>\n",
       "      <td>9.000000</td>\n",
       "      <td>789.000000</td>\n",
       "      <td>1.000000</td>\n",
       "      <td>...</td>\n",
       "      <td>1.000000</td>\n",
       "      <td>1.000000</td>\n",
       "      <td>0.000000</td>\n",
       "      <td>1.000000</td>\n",
       "      <td>0.000000</td>\n",
       "      <td>0.000000</td>\n",
       "      <td>1.0</td>\n",
       "      <td>1.0</td>\n",
       "      <td>1.0</td>\n",
       "      <td>1.0</td>\n",
       "    </tr>\n",
       "    <tr>\n",
       "      <th>max</th>\n",
       "      <td>2.000085e+06</td>\n",
       "      <td>64.000000</td>\n",
       "      <td>1.000000</td>\n",
       "      <td>2.007548e+06</td>\n",
       "      <td>128455.000000</td>\n",
       "      <td>5768.000000</td>\n",
       "      <td>13.000000</td>\n",
       "      <td>192.000000</td>\n",
       "      <td>5823.000000</td>\n",
       "      <td>1.000000</td>\n",
       "      <td>...</td>\n",
       "      <td>1.000000</td>\n",
       "      <td>1.000000</td>\n",
       "      <td>1.000000</td>\n",
       "      <td>1.000000</td>\n",
       "      <td>1.000000</td>\n",
       "      <td>1.000000</td>\n",
       "      <td>1.0</td>\n",
       "      <td>1.0</td>\n",
       "      <td>1.0</td>\n",
       "      <td>1.0</td>\n",
       "    </tr>\n",
       "  </tbody>\n",
       "</table>\n",
       "<p>8 rows × 85 columns</p>\n",
       "</div>"
      ],
      "text/plain": [
       "        areaAtuacao       classe   homologado      itemCnmp  \\\n",
       "count  8.401000e+03  8401.000000  8401.000000  8.401000e+03   \n",
       "mean   2.403226e+02     2.542912     0.984050  3.618624e+04   \n",
       "std    2.182139e+04     1.460381     0.125291  2.602520e+05   \n",
       "min    1.000000e+00     1.000000     0.000000  2.000000e+00   \n",
       "25%    2.000000e+00     2.000000     1.000000  1.521000e+03   \n",
       "50%    2.000000e+00     3.000000     1.000000  1.581000e+03   \n",
       "75%    2.000000e+00     3.000000     1.000000  1.911000e+03   \n",
       "max    2.000085e+06    64.000000     1.000000  2.007548e+06   \n",
       "\n",
       "       membroResponsavel    municipio  quantidadeConversoes  \\\n",
       "count        8401.000000  8401.000000           8401.000000   \n",
       "mean        34653.752291  2923.952506              2.077372   \n",
       "std         35050.392009  1670.038202              1.460256   \n",
       "min             0.000000     1.000000              0.000000   \n",
       "25%          8883.000000  1443.000000              1.000000   \n",
       "50%         23212.000000  3087.000000              2.000000   \n",
       "75%         53307.000000  4385.000000              3.000000   \n",
       "max        128455.000000  5768.000000             13.000000   \n",
       "\n",
       "       quantidadeProvidencias  diasTranscorridos  \\\n",
       "count             8401.000000        8401.000000   \n",
       "mean                 7.311749         581.627068   \n",
       "std                  8.735195         613.894433   \n",
       "min                  0.000000           0.000000   \n",
       "25%                  2.000000         174.000000   \n",
       "50%                  5.000000         343.000000   \n",
       "75%                  9.000000         789.000000   \n",
       "max                192.000000        5823.000000   \n",
       "\n",
       "       analisar conflito de atribuição  ...    recomende-se.  redistribua-se.  \\\n",
       "count                       137.000000  ...       737.000000       809.000000   \n",
       "mean                          0.481752  ...         0.910448         0.927070   \n",
       "std                           0.501501  ...         0.285733         0.260182   \n",
       "min                           0.000000  ...         0.000000         0.000000   \n",
       "25%                           0.000000  ...         1.000000         1.000000   \n",
       "50%                           0.000000  ...         1.000000         1.000000   \n",
       "75%                           1.000000  ...         1.000000         1.000000   \n",
       "max                           1.000000  ...         1.000000         1.000000   \n",
       "\n",
       "       requisite-se perícia à ccr/mpf.  sobrestar no setor.  \\\n",
       "count                        89.000000          1022.000000   \n",
       "mean                          0.191011             0.946184   \n",
       "std                           0.395325             0.225765   \n",
       "min                           0.000000             0.000000   \n",
       "25%                           0.000000             1.000000   \n",
       "50%                           0.000000             1.000000   \n",
       "75%                           0.000000             1.000000   \n",
       "max                           1.000000             1.000000   \n",
       "\n",
       "       solicitar instauração de inquérito judicial   vistoria  \\\n",
       "count                                    74.000000  86.000000   \n",
       "mean                                      0.027027   0.162791   \n",
       "std                                       0.163269   0.371340   \n",
       "min                                       0.000000   0.000000   \n",
       "25%                                       0.000000   0.000000   \n",
       "50%                                       0.000000   0.000000   \n",
       "75%                                       0.000000   0.000000   \n",
       "max                                       1.000000   1.000000   \n",
       "\n",
       "       análise do arquivamento  analisar arquivamento  arquive-se na unidade.  \\\n",
       "count                    238.0                  886.0                   159.0   \n",
       "mean                       1.0                    1.0                     1.0   \n",
       "std                        0.0                    0.0                     0.0   \n",
       "min                        1.0                    1.0                     1.0   \n",
       "25%                        1.0                    1.0                     1.0   \n",
       "50%                        1.0                    1.0                     1.0   \n",
       "75%                        1.0                    1.0                     1.0   \n",
       "max                        1.0                    1.0                     1.0   \n",
       "\n",
       "              \n",
       "count  175.0  \n",
       "mean     1.0  \n",
       "std      0.0  \n",
       "min      1.0  \n",
       "25%      1.0  \n",
       "50%      1.0  \n",
       "75%      1.0  \n",
       "max      1.0  \n",
       "\n",
       "[8 rows x 85 columns]"
      ]
     },
     "execution_count": 52,
     "metadata": {},
     "output_type": "execute_result"
    }
   ],
   "source": [
    "df_work.describe()"
   ]
  },
  {
   "cell_type": "code",
   "execution_count": 53,
   "metadata": {},
   "outputs": [
    {
     "data": {
      "text/html": [
       "<div>\n",
       "<style scoped>\n",
       "    .dataframe tbody tr th:only-of-type {\n",
       "        vertical-align: middle;\n",
       "    }\n",
       "\n",
       "    .dataframe tbody tr th {\n",
       "        vertical-align: top;\n",
       "    }\n",
       "\n",
       "    .dataframe thead th {\n",
       "        text-align: right;\n",
       "    }\n",
       "</style>\n",
       "<table border=\"1\" class=\"dataframe\">\n",
       "  <thead>\n",
       "    <tr style=\"text-align: right;\">\n",
       "      <th></th>\n",
       "      <th>areaAtuacao</th>\n",
       "      <th>classe</th>\n",
       "      <th>homologado</th>\n",
       "      <th>itemCnmp</th>\n",
       "      <th>membroResponsavel</th>\n",
       "      <th>municipio</th>\n",
       "      <th>quantidadeConversoes</th>\n",
       "      <th>quantidadeProvidencias</th>\n",
       "      <th>textosProvidencias</th>\n",
       "      <th>diasTranscorridos</th>\n",
       "      <th>...</th>\n",
       "      <th>recomende-se.</th>\n",
       "      <th>redistribua-se.</th>\n",
       "      <th>requisite-se perícia à ccr/mpf.</th>\n",
       "      <th>sobrestar no setor.</th>\n",
       "      <th>solicitar instauração de inquérito judicial</th>\n",
       "      <th>vistoria</th>\n",
       "      <th>análise do arquivamento</th>\n",
       "      <th>analisar arquivamento</th>\n",
       "      <th>arquive-se na unidade.</th>\n",
       "      <th></th>\n",
       "    </tr>\n",
       "  </thead>\n",
       "  <tbody>\n",
       "    <tr>\n",
       "      <th>0</th>\n",
       "      <td>2</td>\n",
       "      <td>3</td>\n",
       "      <td>1</td>\n",
       "      <td>1708</td>\n",
       "      <td>10687.0</td>\n",
       "      <td>810</td>\n",
       "      <td>3</td>\n",
       "      <td>6</td>\n",
       "      <td>Converta-se em Inquérito Civil(IC).,Oficie-se....</td>\n",
       "      <td>383</td>\n",
       "      <td>...</td>\n",
       "      <td>0.0</td>\n",
       "      <td>0.0</td>\n",
       "      <td>0.0</td>\n",
       "      <td>0.0</td>\n",
       "      <td>0.0</td>\n",
       "      <td>0.0</td>\n",
       "      <td>NaN</td>\n",
       "      <td>NaN</td>\n",
       "      <td>NaN</td>\n",
       "      <td>NaN</td>\n",
       "    </tr>\n",
       "    <tr>\n",
       "      <th>1</th>\n",
       "      <td>2</td>\n",
       "      <td>3</td>\n",
       "      <td>1</td>\n",
       "      <td>1503</td>\n",
       "      <td>96733.0</td>\n",
       "      <td>253</td>\n",
       "      <td>8</td>\n",
       "      <td>16</td>\n",
       "      <td>Prorroga-se Expediente.,Justificativa para fin...</td>\n",
       "      <td>2520</td>\n",
       "      <td>...</td>\n",
       "      <td>0.0</td>\n",
       "      <td>0.0</td>\n",
       "      <td>0.0</td>\n",
       "      <td>0.0</td>\n",
       "      <td>0.0</td>\n",
       "      <td>0.0</td>\n",
       "      <td>NaN</td>\n",
       "      <td>NaN</td>\n",
       "      <td>NaN</td>\n",
       "      <td>NaN</td>\n",
       "    </tr>\n",
       "    <tr>\n",
       "      <th>2</th>\n",
       "      <td>2</td>\n",
       "      <td>2</td>\n",
       "      <td>1</td>\n",
       "      <td>1521</td>\n",
       "      <td>31435.0</td>\n",
       "      <td>3193</td>\n",
       "      <td>3</td>\n",
       "      <td>7</td>\n",
       "      <td>Despacho Simplificado,Oficie-se.,Prorroga-se o...</td>\n",
       "      <td>328</td>\n",
       "      <td>...</td>\n",
       "      <td>0.0</td>\n",
       "      <td>0.0</td>\n",
       "      <td>0.0</td>\n",
       "      <td>0.0</td>\n",
       "      <td>0.0</td>\n",
       "      <td>0.0</td>\n",
       "      <td>NaN</td>\n",
       "      <td>NaN</td>\n",
       "      <td>NaN</td>\n",
       "      <td>NaN</td>\n",
       "    </tr>\n",
       "    <tr>\n",
       "      <th>3</th>\n",
       "      <td>2</td>\n",
       "      <td>3</td>\n",
       "      <td>1</td>\n",
       "      <td>1580</td>\n",
       "      <td>5262.0</td>\n",
       "      <td>3422</td>\n",
       "      <td>7</td>\n",
       "      <td>31</td>\n",
       "      <td>Apense-se.,Sobrestar no setor.,Notifique-se.,O...</td>\n",
       "      <td>3085</td>\n",
       "      <td>...</td>\n",
       "      <td>0.0</td>\n",
       "      <td>0.0</td>\n",
       "      <td>0.0</td>\n",
       "      <td>1.0</td>\n",
       "      <td>0.0</td>\n",
       "      <td>0.0</td>\n",
       "      <td>NaN</td>\n",
       "      <td>NaN</td>\n",
       "      <td>NaN</td>\n",
       "      <td>NaN</td>\n",
       "    </tr>\n",
       "    <tr>\n",
       "      <th>4</th>\n",
       "      <td>2</td>\n",
       "      <td>2</td>\n",
       "      <td>1</td>\n",
       "      <td>1507</td>\n",
       "      <td>87450.0</td>\n",
       "      <td>4842</td>\n",
       "      <td>3</td>\n",
       "      <td>15</td>\n",
       "      <td>Sobrestar no setor.,Oficie-se.,Prorroga-se o p...</td>\n",
       "      <td>225</td>\n",
       "      <td>...</td>\n",
       "      <td>0.0</td>\n",
       "      <td>0.0</td>\n",
       "      <td>0.0</td>\n",
       "      <td>1.0</td>\n",
       "      <td>0.0</td>\n",
       "      <td>0.0</td>\n",
       "      <td>NaN</td>\n",
       "      <td>NaN</td>\n",
       "      <td>NaN</td>\n",
       "      <td>NaN</td>\n",
       "    </tr>\n",
       "  </tbody>\n",
       "</table>\n",
       "<p>5 rows × 86 columns</p>\n",
       "</div>"
      ],
      "text/plain": [
       "   areaAtuacao  classe  homologado  itemCnmp  membroResponsavel  municipio  \\\n",
       "0            2       3           1      1708            10687.0        810   \n",
       "1            2       3           1      1503            96733.0        253   \n",
       "2            2       2           1      1521            31435.0       3193   \n",
       "3            2       3           1      1580             5262.0       3422   \n",
       "4            2       2           1      1507            87450.0       4842   \n",
       "\n",
       "   quantidadeConversoes  quantidadeProvidencias  \\\n",
       "0                     3                       6   \n",
       "1                     8                      16   \n",
       "2                     3                       7   \n",
       "3                     7                      31   \n",
       "4                     3                      15   \n",
       "\n",
       "                                  textosProvidencias  diasTranscorridos ...  \\\n",
       "0  Converta-se em Inquérito Civil(IC).,Oficie-se....                383 ...   \n",
       "1  Prorroga-se Expediente.,Justificativa para fin...               2520 ...   \n",
       "2  Despacho Simplificado,Oficie-se.,Prorroga-se o...                328 ...   \n",
       "3  Apense-se.,Sobrestar no setor.,Notifique-se.,O...               3085 ...   \n",
       "4  Sobrestar no setor.,Oficie-se.,Prorroga-se o p...                225 ...   \n",
       "\n",
       "   recomende-se.  redistribua-se.  requisite-se perícia à ccr/mpf.  \\\n",
       "0            0.0              0.0                              0.0   \n",
       "1            0.0              0.0                              0.0   \n",
       "2            0.0              0.0                              0.0   \n",
       "3            0.0              0.0                              0.0   \n",
       "4            0.0              0.0                              0.0   \n",
       "\n",
       "   sobrestar no setor.  solicitar instauração de inquérito judicial  vistoria  \\\n",
       "0                  0.0                                          0.0       0.0   \n",
       "1                  0.0                                          0.0       0.0   \n",
       "2                  0.0                                          0.0       0.0   \n",
       "3                  1.0                                          0.0       0.0   \n",
       "4                  1.0                                          0.0       0.0   \n",
       "\n",
       "   análise do arquivamento  analisar arquivamento  arquive-se na unidade.      \n",
       "0                      NaN                    NaN                     NaN NaN  \n",
       "1                      NaN                    NaN                     NaN NaN  \n",
       "2                      NaN                    NaN                     NaN NaN  \n",
       "3                      NaN                    NaN                     NaN NaN  \n",
       "4                      NaN                    NaN                     NaN NaN  \n",
       "\n",
       "[5 rows x 86 columns]"
      ]
     },
     "execution_count": 53,
     "metadata": {},
     "output_type": "execute_result"
    }
   ],
   "source": [
    "df_work.head()"
   ]
  },
  {
   "cell_type": "code",
   "execution_count": 54,
   "metadata": {},
   "outputs": [],
   "source": [
    "df_work.fillna(0, inplace=True)"
   ]
  },
  {
   "cell_type": "code",
   "execution_count": 55,
   "metadata": {},
   "outputs": [],
   "source": [
    "removed_columns = ['homologado', 'textosProvidencias']\n",
    "features = [c for c in df_work.columns if c not in removed_columns]"
   ]
  },
  {
   "cell_type": "code",
   "execution_count": 56,
   "metadata": {},
   "outputs": [
    {
     "data": {
      "text/plain": [
       "RandomForestClassifier(bootstrap=True, class_weight=None, criterion='gini',\n",
       "            max_depth=None, max_features='auto', max_leaf_nodes=None,\n",
       "            min_impurity_decrease=0.0, min_impurity_split=None,\n",
       "            min_samples_leaf=1, min_samples_split=2,\n",
       "            min_weight_fraction_leaf=0.0, n_estimators=10, n_jobs=1,\n",
       "            oob_score=False, random_state=42, verbose=0, warm_start=False)"
      ]
     },
     "execution_count": 56,
     "metadata": {},
     "output_type": "execute_result"
    }
   ],
   "source": [
    "train, valid = train_test_split(df_work, random_state=42)\n",
    "\n",
    "model = RandomForestClassifier(random_state=42)\n",
    "model.fit(train[features], train['homologado'])"
   ]
  },
  {
   "cell_type": "code",
   "execution_count": 57,
   "metadata": {},
   "outputs": [
    {
     "name": "stdout",
     "output_type": "stream",
     "text": [
      "Accuracy score: 0.9987301587301587 0.9866730128510233\n",
      "Precision score:  0.9871428571428571\n",
      "Recall score:  0.9995178399228544\n",
      "F1 score:  0.9932918064206996\n"
     ]
    }
   ],
   "source": [
    "train_preds = model.predict(train[features])\n",
    "valid_preds = model.predict(valid[features])\n",
    "\n",
    "print_score()"
   ]
  },
  {
   "cell_type": "code",
   "execution_count": 58,
   "metadata": {},
   "outputs": [
    {
     "data": {
      "text/plain": [
       "array([[   0,   27],\n",
       "       [   1, 2073]])"
      ]
     },
     "execution_count": 58,
     "metadata": {},
     "output_type": "execute_result"
    }
   ],
   "source": [
    "confusion_matrix(valid['homologado'], valid_preds)"
   ]
  },
  {
   "cell_type": "code",
   "execution_count": 59,
   "metadata": {},
   "outputs": [
    {
     "data": {
      "image/png": "[encoded data removed]",
      "text/plain": [
       "<Figure size 432x288 with 1 Axes>"
      ]
     },
     "metadata": {},
     "output_type": "display_data"
    }
   ],
   "source": [
    "plot_fi(model.feature_importances_, 20)"
   ]
  },
  {
   "cell_type": "markdown",
   "metadata": {},
   "source": [
    "O uso dos textos das providências não aumentou a precisão do modelo (e elas também não foram features importantes).\n",
    "\n",
    "Vamos voltar ao modelo mais simples, sem os textos das providências e tentar melhorar os hiperparâmetros."
   ]
  },
  {
   "cell_type": "markdown",
   "metadata": {},
   "source": [
    "## Voltando ao modelo mais simples (sem considerar quais providências foram realizadas)"
   ]
  },
  {
   "cell_type": "code",
   "execution_count": 60,
   "metadata": {},
   "outputs": [
    {
     "data": {
      "text/html": [
       "<div>\n",
       "<style scoped>\n",
       "    .dataframe tbody tr th:only-of-type {\n",
       "        vertical-align: middle;\n",
       "    }\n",
       "\n",
       "    .dataframe tbody tr th {\n",
       "        vertical-align: top;\n",
       "    }\n",
       "\n",
       "    .dataframe thead th {\n",
       "        text-align: right;\n",
       "    }\n",
       "</style>\n",
       "<table border=\"1\" class=\"dataframe\">\n",
       "  <thead>\n",
       "    <tr style=\"text-align: right;\">\n",
       "      <th></th>\n",
       "      <th>areaAtuacao</th>\n",
       "      <th>classe</th>\n",
       "      <th>homologado</th>\n",
       "      <th>itemCnmp</th>\n",
       "      <th>membroResponsavel</th>\n",
       "      <th>municipio</th>\n",
       "      <th>quantidadeConversoes</th>\n",
       "      <th>quantidadeProvidencias</th>\n",
       "      <th>textosProvidencias</th>\n",
       "      <th>diasTranscorridos</th>\n",
       "    </tr>\n",
       "  </thead>\n",
       "  <tbody>\n",
       "    <tr>\n",
       "      <th>4013</th>\n",
       "      <td>2</td>\n",
       "      <td>2</td>\n",
       "      <td>1</td>\n",
       "      <td>1556</td>\n",
       "      <td>11396.0</td>\n",
       "      <td>3520</td>\n",
       "      <td>2</td>\n",
       "      <td>2</td>\n",
       "      <td>Prorroga-se Expediente.,Converta-se em Procedi...</td>\n",
       "      <td>413</td>\n",
       "    </tr>\n",
       "    <tr>\n",
       "      <th>482</th>\n",
       "      <td>2</td>\n",
       "      <td>3</td>\n",
       "      <td>1</td>\n",
       "      <td>1030</td>\n",
       "      <td>17137.0</td>\n",
       "      <td>3689</td>\n",
       "      <td>1</td>\n",
       "      <td>12</td>\n",
       "      <td>Encaminhe-se o auto.,Converta-se em Inquérito ...</td>\n",
       "      <td>468</td>\n",
       "    </tr>\n",
       "    <tr>\n",
       "      <th>2306</th>\n",
       "      <td>2</td>\n",
       "      <td>3</td>\n",
       "      <td>1</td>\n",
       "      <td>1567</td>\n",
       "      <td>127555.0</td>\n",
       "      <td>5108</td>\n",
       "      <td>4</td>\n",
       "      <td>17</td>\n",
       "      <td>Desapense-se.,Encaminhe-se o auto.,Apense-se.,...</td>\n",
       "      <td>1969</td>\n",
       "    </tr>\n",
       "    <tr>\n",
       "      <th>4570</th>\n",
       "      <td>2</td>\n",
       "      <td>2</td>\n",
       "      <td>1</td>\n",
       "      <td>734</td>\n",
       "      <td>17154.0</td>\n",
       "      <td>4387</td>\n",
       "      <td>1</td>\n",
       "      <td>5</td>\n",
       "      <td>Despacho Simplificado,Oficie-se.,Converta-se e...</td>\n",
       "      <td>169</td>\n",
       "    </tr>\n",
       "    <tr>\n",
       "      <th>5643</th>\n",
       "      <td>2</td>\n",
       "      <td>2</td>\n",
       "      <td>1</td>\n",
       "      <td>2338</td>\n",
       "      <td>25849.0</td>\n",
       "      <td>3955</td>\n",
       "      <td>1</td>\n",
       "      <td>3</td>\n",
       "      <td>Oficie-se.,Converta-se em Procedimento Prepara...</td>\n",
       "      <td>113</td>\n",
       "    </tr>\n",
       "    <tr>\n",
       "      <th>404</th>\n",
       "      <td>2</td>\n",
       "      <td>3</td>\n",
       "      <td>1</td>\n",
       "      <td>2359</td>\n",
       "      <td>13550.0</td>\n",
       "      <td>3674</td>\n",
       "      <td>4</td>\n",
       "      <td>15</td>\n",
       "      <td>Converta-se em Inquérito Civil(IC).,Oficie-se....</td>\n",
       "      <td>1420</td>\n",
       "    </tr>\n",
       "    <tr>\n",
       "      <th>770</th>\n",
       "      <td>2</td>\n",
       "      <td>3</td>\n",
       "      <td>1</td>\n",
       "      <td>2006468</td>\n",
       "      <td>17164.0</td>\n",
       "      <td>5111</td>\n",
       "      <td>4</td>\n",
       "      <td>15</td>\n",
       "      <td>Encaminhe-se o auto.,Converta-se em Inquérito ...</td>\n",
       "      <td>1402</td>\n",
       "    </tr>\n",
       "    <tr>\n",
       "      <th>1219</th>\n",
       "      <td>2</td>\n",
       "      <td>2</td>\n",
       "      <td>1</td>\n",
       "      <td>697</td>\n",
       "      <td>53321.0</td>\n",
       "      <td>3573</td>\n",
       "      <td>3</td>\n",
       "      <td>7</td>\n",
       "      <td>Despacho Simplificado,Oficie-se.,Prorroga-se o...</td>\n",
       "      <td>250</td>\n",
       "    </tr>\n",
       "    <tr>\n",
       "      <th>4521</th>\n",
       "      <td>2</td>\n",
       "      <td>5</td>\n",
       "      <td>1</td>\n",
       "      <td>1556</td>\n",
       "      <td>127551.0</td>\n",
       "      <td>1819</td>\n",
       "      <td>0</td>\n",
       "      <td>3</td>\n",
       "      <td>Oficie-se.</td>\n",
       "      <td>194</td>\n",
       "    </tr>\n",
       "    <tr>\n",
       "      <th>7423</th>\n",
       "      <td>2</td>\n",
       "      <td>3</td>\n",
       "      <td>1</td>\n",
       "      <td>750</td>\n",
       "      <td>3537.0</td>\n",
       "      <td>1443</td>\n",
       "      <td>1</td>\n",
       "      <td>1</td>\n",
       "      <td>Converta-se em Inquérito Civil(IC).</td>\n",
       "      <td>164</td>\n",
       "    </tr>\n",
       "  </tbody>\n",
       "</table>\n",
       "</div>"
      ],
      "text/plain": [
       "      areaAtuacao  classe  homologado  itemCnmp  membroResponsavel  municipio  \\\n",
       "4013            2       2           1      1556            11396.0       3520   \n",
       "482             2       3           1      1030            17137.0       3689   \n",
       "2306            2       3           1      1567           127555.0       5108   \n",
       "4570            2       2           1       734            17154.0       4387   \n",
       "5643            2       2           1      2338            25849.0       3955   \n",
       "404             2       3           1      2359            13550.0       3674   \n",
       "770             2       3           1   2006468            17164.0       5111   \n",
       "1219            2       2           1       697            53321.0       3573   \n",
       "4521            2       5           1      1556           127551.0       1819   \n",
       "7423            2       3           1       750             3537.0       1443   \n",
       "\n",
       "      quantidadeConversoes  quantidadeProvidencias  \\\n",
       "4013                     2                       2   \n",
       "482                      1                      12   \n",
       "2306                     4                      17   \n",
       "4570                     1                       5   \n",
       "5643                     1                       3   \n",
       "404                      4                      15   \n",
       "770                      4                      15   \n",
       "1219                     3                       7   \n",
       "4521                     0                       3   \n",
       "7423                     1                       1   \n",
       "\n",
       "                                     textosProvidencias  diasTranscorridos  \n",
       "4013  Prorroga-se Expediente.,Converta-se em Procedi...                413  \n",
       "482   Encaminhe-se o auto.,Converta-se em Inquérito ...                468  \n",
       "2306  Desapense-se.,Encaminhe-se o auto.,Apense-se.,...               1969  \n",
       "4570  Despacho Simplificado,Oficie-se.,Converta-se e...                169  \n",
       "5643  Oficie-se.,Converta-se em Procedimento Prepara...                113  \n",
       "404   Converta-se em Inquérito Civil(IC).,Oficie-se....               1420  \n",
       "770   Encaminhe-se o auto.,Converta-se em Inquérito ...               1402  \n",
       "1219  Despacho Simplificado,Oficie-se.,Prorroga-se o...                250  \n",
       "4521                                         Oficie-se.                194  \n",
       "7423                Converta-se em Inquérito Civil(IC).                164  "
      ]
     },
     "execution_count": 60,
     "metadata": {},
     "output_type": "execute_result"
    }
   ],
   "source": [
    "df_work = df_original.copy()\n",
    "\n",
    "df_work['dataAutuacao'] = pd.to_datetime(df_work['dataAutuacao'],infer_datetime_format=True)\n",
    "df_work['dataEntrada'] = pd.to_datetime(df_work['dataEntrada'],infer_datetime_format=True)\n",
    "\n",
    "df_work['diasTranscorridos'] = 0\n",
    "for index in range(len(df_work)):\n",
    "    df_work.loc[index, 'diasTranscorridos'] =  np.abs((df_work.loc[index, 'dataEntrada'] - df_work.loc[index, 'dataAutuacao']).days)\n",
    "\n",
    "removed_columns = ['id', 'procedimento', 'identificadorPecaPromocao', 'prioritario', 'urgente', 'dataAutuacao', 'dataEntrada']\n",
    "df_work = df_work.drop(columns=removed_columns)\n",
    "df_work.fillna(0, inplace=True)\n",
    "\n",
    "    \n",
    "df_work.sample(10)"
   ]
  },
  {
   "cell_type": "code",
   "execution_count": 61,
   "metadata": {
    "scrolled": true
   },
   "outputs": [],
   "source": [
    "removed_columns = ['homologado', 'textosProvidencias']\n",
    "features = [c for c in df_work.columns if c not in removed_columns]\n",
    "\n",
    "train, valid = train_test_split(df_work, random_state=42)"
   ]
  },
  {
   "cell_type": "code",
   "execution_count": 62,
   "metadata": {},
   "outputs": [
    {
     "data": {
      "text/plain": [
       "RandomForestClassifier(bootstrap=True, class_weight=None, criterion='gini',\n",
       "            max_depth=None, max_features='auto', max_leaf_nodes=None,\n",
       "            min_impurity_decrease=0.0, min_impurity_split=None,\n",
       "            min_samples_leaf=1, min_samples_split=2,\n",
       "            min_weight_fraction_leaf=0.0, n_estimators=100, n_jobs=1,\n",
       "            oob_score=False, random_state=42, verbose=0, warm_start=False)"
      ]
     },
     "execution_count": 62,
     "metadata": {},
     "output_type": "execute_result"
    }
   ],
   "source": [
    "model = RandomForestClassifier(random_state=42, n_estimators=100); model"
   ]
  },
  {
   "cell_type": "code",
   "execution_count": 63,
   "metadata": {},
   "outputs": [
    {
     "name": "stdout",
     "output_type": "stream",
     "text": [
      "Accuracy score: 0.9998412698412699 0.9876249405045217\n",
      "Precision score:  0.9876190476190476\n",
      "Recall score:  1.0\n",
      "F1 score:  0.9937709631049353\n"
     ]
    }
   ],
   "source": [
    "model.fit(train[features], train['homologado'])\n",
    "\n",
    "train_preds = model.predict(train[features])\n",
    "valid_preds = model.predict(valid[features])\n",
    "\n",
    "print_score()"
   ]
  },
  {
   "cell_type": "code",
   "execution_count": 64,
   "metadata": {},
   "outputs": [
    {
     "data": {
      "text/plain": [
       "array([[   1,   26],\n",
       "       [   0, 2074]])"
      ]
     },
     "execution_count": 64,
     "metadata": {},
     "output_type": "execute_result"
    }
   ],
   "source": [
    "confusion_matrix(valid['homologado'], valid_preds)"
   ]
  },
  {
   "cell_type": "markdown",
   "metadata": {},
   "source": [
    "### Aumentando o número de árvores"
   ]
  },
  {
   "cell_type": "code",
   "execution_count": 65,
   "metadata": {},
   "outputs": [
    {
     "name": "stdout",
     "output_type": "stream",
     "text": [
      "Accuracy score: 0.9998412698412699 0.9876249405045217\n",
      "Precision score:  0.9876190476190476\n",
      "Recall score:  1.0\n",
      "F1 score:  0.9937709631049353\n"
     ]
    }
   ],
   "source": [
    "model = RandomForestClassifier(random_state=42, n_estimators=100)\n",
    "model.fit(train[features], train['homologado'])\n",
    "confusion_matrix(valid['homologado'], valid_preds).ravel()\n",
    "train_preds = model.predict(train[features])\n",
    "valid_preds = model.predict(valid[features])\n",
    "\n",
    "print_score()"
   ]
  },
  {
   "cell_type": "code",
   "execution_count": 66,
   "metadata": {},
   "outputs": [
    {
     "data": {
      "text/plain": [
       "array([[   1,   26],\n",
       "       [   0, 2074]])"
      ]
     },
     "execution_count": 66,
     "metadata": {},
     "output_type": "execute_result"
    }
   ],
   "source": [
    "confusion_matrix(valid['homologado'], valid_preds)"
   ]
  },
  {
   "cell_type": "code",
   "execution_count": 67,
   "metadata": {
    "scrolled": true
   },
   "outputs": [
    {
     "name": "stdout",
     "output_type": "stream",
     "text": [
      "Accuracy score: 1.0 0.9871489766777725\n",
      "Precision score:  0.9871489766777725\n",
      "Recall score:  1.0\n",
      "F1 score:  0.9935329341317366\n"
     ]
    }
   ],
   "source": [
    "model = RandomForestClassifier(random_state=42, n_estimators=1000)\n",
    "model.fit(train[features], train['homologado'])\n",
    "confusion_matrix(valid['homologado'], valid_preds).ravel()\n",
    "train_preds = model.predict(train[features])\n",
    "valid_preds = model.predict(valid[features])\n",
    "\n",
    "print_score()"
   ]
  },
  {
   "cell_type": "code",
   "execution_count": 68,
   "metadata": {},
   "outputs": [
    {
     "data": {
      "text/plain": [
       "array([[   0,   27],\n",
       "       [   0, 2074]])"
      ]
     },
     "execution_count": 68,
     "metadata": {},
     "output_type": "execute_result"
    }
   ],
   "source": [
    "confusion_matrix(valid['homologado'], valid_preds)"
   ]
  },
  {
   "cell_type": "code",
   "execution_count": 69,
   "metadata": {},
   "outputs": [
    {
     "name": "stdout",
     "output_type": "stream",
     "text": [
      "Accuracy score: 1.0 0.9871489766777725\n",
      "Precision score:  0.9871489766777725\n",
      "Recall score:  1.0\n",
      "F1 score:  0.9935329341317366\n"
     ]
    }
   ],
   "source": [
    "model = RandomForestClassifier(random_state=42, n_estimators=2000)\n",
    "model.fit(train[features], train['homologado'])\n",
    "confusion_matrix(valid['homologado'], valid_preds).ravel()\n",
    "train_preds = model.predict(train[features])\n",
    "valid_preds = model.predict(valid[features])\n",
    "\n",
    "print_score()"
   ]
  },
  {
   "cell_type": "code",
   "execution_count": 70,
   "metadata": {},
   "outputs": [
    {
     "data": {
      "text/plain": [
       "array([[   0,   27],\n",
       "       [   0, 2074]])"
      ]
     },
     "execution_count": 70,
     "metadata": {},
     "output_type": "execute_result"
    }
   ],
   "source": [
    "confusion_matrix(valid['homologado'], valid_preds)"
   ]
  },
  {
   "cell_type": "markdown",
   "metadata": {},
   "source": [
    "Aumentar o número de árvores parece não melhorar a performance. Vamos para o número de features."
   ]
  },
  {
   "cell_type": "markdown",
   "metadata": {},
   "source": [
    "### Considerando o número de features"
   ]
  },
  {
   "cell_type": "code",
   "execution_count": 71,
   "metadata": {},
   "outputs": [
    {
     "data": {
      "text/plain": [
       "RandomForestClassifier(bootstrap=True, class_weight=None, criterion='gini',\n",
       "            max_depth=None, max_features='auto', max_leaf_nodes=None,\n",
       "            min_impurity_decrease=0.0, min_impurity_split=None,\n",
       "            min_samples_leaf=1, min_samples_split=2,\n",
       "            min_weight_fraction_leaf=0.0, n_estimators=10, n_jobs=1,\n",
       "            oob_score=False, random_state=42, verbose=0, warm_start=False)"
      ]
     },
     "execution_count": 71,
     "metadata": {},
     "output_type": "execute_result"
    }
   ],
   "source": [
    "model = RandomForestClassifier(random_state=42); model"
   ]
  },
  {
   "cell_type": "code",
   "execution_count": 73,
   "metadata": {},
   "outputs": [
    {
     "name": "stdout",
     "output_type": "stream",
     "text": [
      "Accuracy score: 0.9985714285714286 0.985721085197525\n",
      "Precision score:  0.9871306005719733\n",
      "Recall score:  0.9985535197685632\n",
      "F1 score:  0.9928092042186002\n"
     ]
    }
   ],
   "source": [
    "model.fit(train[features], train['homologado'])\n",
    "train_preds = model.predict(train[features])\n",
    "valid_preds = model.predict(valid[features])\n",
    "\n",
    "print_score()"
   ]
  },
  {
   "cell_type": "code",
   "execution_count": 74,
   "metadata": {},
   "outputs": [
    {
     "name": "stdout",
     "output_type": "stream",
     "text": [
      "Accuracy score: 0.9985714285714286 0.985721085197525\n",
      "Precision score:  0.9871306005719733\n",
      "Recall score:  0.9985535197685632\n",
      "F1 score:  0.9928092042186002\n"
     ]
    }
   ],
   "source": [
    "model = RandomForestClassifier(random_state=42, max_features='sqrt')\n",
    "model.fit(train[features], train['homologado'])\n",
    "train_preds = model.predict(train[features])\n",
    "valid_preds = model.predict(valid[features])\n",
    "\n",
    "print_score()"
   ]
  },
  {
   "cell_type": "code",
   "execution_count": 75,
   "metadata": {
    "scrolled": true
   },
   "outputs": [
    {
     "data": {
      "text/plain": [
       "array([[   0,   27],\n",
       "       [   3, 2071]])"
      ]
     },
     "execution_count": 75,
     "metadata": {},
     "output_type": "execute_result"
    }
   ],
   "source": [
    "confusion_matrix(valid['homologado'], valid_preds)"
   ]
  },
  {
   "cell_type": "code",
   "execution_count": 76,
   "metadata": {},
   "outputs": [
    {
     "name": "stdout",
     "output_type": "stream",
     "text": [
      "Accuracy score: 0.9984126984126984 0.9861970490242742\n",
      "Precision score:  0.9871367317770366\n",
      "Recall score:  0.9990356798457087\n",
      "F1 score:  0.993050563144021\n"
     ]
    }
   ],
   "source": [
    "model = RandomForestClassifier(random_state=42, max_features='log2')\n",
    "model.fit(train[features], train['homologado'])\n",
    "train_preds = model.predict(train[features])\n",
    "valid_preds = model.predict(valid[features])\n",
    "\n",
    "print_score()"
   ]
  },
  {
   "cell_type": "code",
   "execution_count": 77,
   "metadata": {},
   "outputs": [
    {
     "data": {
      "text/plain": [
       "array([[   0,   27],\n",
       "       [   2, 2072]])"
      ]
     },
     "execution_count": 77,
     "metadata": {},
     "output_type": "execute_result"
    }
   ],
   "source": [
    "confusion_matrix(valid['homologado'], valid_preds)"
   ]
  },
  {
   "cell_type": "code",
   "execution_count": 78,
   "metadata": {},
   "outputs": [
    {
     "name": "stdout",
     "output_type": "stream",
     "text": [
      "Accuracy score: 0.9985714285714286 0.985721085197525\n",
      "Precision score:  0.9871306005719733\n",
      "Recall score:  0.9985535197685632\n",
      "F1 score:  0.9928092042186002\n"
     ]
    }
   ],
   "source": [
    "model = RandomForestClassifier(random_state=42, max_features=0.3)\n",
    "model.fit(train[features], train['homologado'])\n",
    "train_preds = model.predict(train[features])\n",
    "valid_preds = model.predict(valid[features])\n",
    "\n",
    "print_score()"
   ]
  },
  {
   "cell_type": "code",
   "execution_count": 79,
   "metadata": {},
   "outputs": [
    {
     "data": {
      "text/plain": [
       "array([[   0,   27],\n",
       "       [   3, 2071]])"
      ]
     },
     "execution_count": 79,
     "metadata": {},
     "output_type": "execute_result"
    }
   ],
   "source": [
    "confusion_matrix(valid['homologado'], valid_preds)"
   ]
  },
  {
   "cell_type": "markdown",
   "metadata": {},
   "source": [
    "O parâmetro max_features parece não melhorar a performance. Vamos para o min_samples_leaf."
   ]
  },
  {
   "cell_type": "markdown",
   "metadata": {},
   "source": [
    "### Checando o min_samples_leaf"
   ]
  },
  {
   "cell_type": "code",
   "execution_count": 80,
   "metadata": {},
   "outputs": [
    {
     "data": {
      "text/plain": [
       "RandomForestClassifier(bootstrap=True, class_weight=None, criterion='gini',\n",
       "            max_depth=None, max_features='auto', max_leaf_nodes=None,\n",
       "            min_impurity_decrease=0.0, min_impurity_split=None,\n",
       "            min_samples_leaf=1, min_samples_split=2,\n",
       "            min_weight_fraction_leaf=0.0, n_estimators=10, n_jobs=1,\n",
       "            oob_score=False, random_state=42, verbose=0, warm_start=False)"
      ]
     },
     "execution_count": 80,
     "metadata": {},
     "output_type": "execute_result"
    }
   ],
   "source": [
    "model = RandomForestClassifier(random_state=42); model"
   ]
  },
  {
   "cell_type": "code",
   "execution_count": 81,
   "metadata": {},
   "outputs": [
    {
     "name": "stdout",
     "output_type": "stream",
     "text": [
      "Accuracy score: 0.9985714285714286 0.985721085197525\n",
      "Precision score:  0.9871306005719733\n",
      "Recall score:  0.9985535197685632\n",
      "F1 score:  0.9928092042186002\n"
     ]
    }
   ],
   "source": [
    "model.fit(train[features], train['homologado'])\n",
    "train_preds = model.predict(train[features])\n",
    "valid_preds = model.predict(valid[features])\n",
    "\n",
    "print_score()"
   ]
  },
  {
   "cell_type": "code",
   "execution_count": 82,
   "metadata": {},
   "outputs": [
    {
     "data": {
      "text/plain": [
       "array([[   0,   27],\n",
       "       [   3, 2071]])"
      ]
     },
     "execution_count": 82,
     "metadata": {},
     "output_type": "execute_result"
    }
   ],
   "source": [
    "confusion_matrix(valid['homologado'], valid_preds)"
   ]
  },
  {
   "cell_type": "code",
   "execution_count": 83,
   "metadata": {},
   "outputs": [
    {
     "name": "stdout",
     "output_type": "stream",
     "text": [
      "Accuracy score: 0.9846031746031746 0.9871489766777725\n",
      "Precision score:  0.9871489766777725\n",
      "Recall score:  1.0\n",
      "F1 score:  0.9935329341317366\n"
     ]
    }
   ],
   "source": [
    "model = RandomForestClassifier(random_state=42, min_samples_leaf=2)\n",
    "model.fit(train[features], train['homologado'])\n",
    "train_preds = model.predict(train[features])\n",
    "valid_preds = model.predict(valid[features])\n",
    "\n",
    "print_score()"
   ]
  },
  {
   "cell_type": "code",
   "execution_count": 84,
   "metadata": {},
   "outputs": [
    {
     "data": {
      "text/plain": [
       "array([[   0,   27],\n",
       "       [   0, 2074]])"
      ]
     },
     "execution_count": 84,
     "metadata": {},
     "output_type": "execute_result"
    }
   ],
   "source": [
    "confusion_matrix(valid['homologado'], valid_preds)"
   ]
  },
  {
   "cell_type": "code",
   "execution_count": 85,
   "metadata": {},
   "outputs": [
    {
     "name": "stdout",
     "output_type": "stream",
     "text": [
      "Accuracy score: 0.983015873015873 0.9871489766777725\n",
      "Precision score:  0.9871489766777725\n",
      "Recall score:  1.0\n",
      "F1 score:  0.9935329341317366\n"
     ]
    }
   ],
   "source": [
    "model = RandomForestClassifier(random_state=42, min_samples_leaf=5)\n",
    "model.fit(train[features], train['homologado'])\n",
    "train_preds = model.predict(train[features])\n",
    "valid_preds = model.predict(valid[features])\n",
    "\n",
    "print_score()"
   ]
  },
  {
   "cell_type": "code",
   "execution_count": 86,
   "metadata": {},
   "outputs": [
    {
     "data": {
      "text/plain": [
       "array([[   0,   27],\n",
       "       [   0, 2074]])"
      ]
     },
     "execution_count": 86,
     "metadata": {},
     "output_type": "execute_result"
    }
   ],
   "source": [
    "confusion_matrix(valid['homologado'], valid_preds)"
   ]
  },
  {
   "cell_type": "code",
   "execution_count": 87,
   "metadata": {},
   "outputs": [
    {
     "name": "stdout",
     "output_type": "stream",
     "text": [
      "Accuracy score: 0.983015873015873 0.9871489766777725\n",
      "Precision score:  0.9871489766777725\n",
      "Recall score:  1.0\n",
      "F1 score:  0.9935329341317366\n"
     ]
    }
   ],
   "source": [
    "model = RandomForestClassifier(random_state=42, min_samples_leaf=10)\n",
    "model.fit(train[features], train['homologado'])\n",
    "train_preds = model.predict(train[features])\n",
    "valid_preds = model.predict(valid[features])\n",
    "\n",
    "print_score()"
   ]
  },
  {
   "cell_type": "code",
   "execution_count": 88,
   "metadata": {},
   "outputs": [
    {
     "data": {
      "text/plain": [
       "array([[   0,   27],\n",
       "       [   0, 2074]])"
      ]
     },
     "execution_count": 88,
     "metadata": {},
     "output_type": "execute_result"
    }
   ],
   "source": [
    "confusion_matrix(valid['homologado'], valid_preds)"
   ]
  },
  {
   "cell_type": "markdown",
   "metadata": {},
   "source": [
    "Uma vez mais, não houve melhoria no modelo ao tentar modificar o min_samples_leaf.\n",
    "\n",
    "Vamos tentar uma última coisa, que é lidar com o fato de as classes serem desbalanceadas."
   ]
  },
  {
   "cell_type": "markdown",
   "metadata": {},
   "source": [
    "## Lidando com as classes desbalanceadas"
   ]
  },
  {
   "cell_type": "markdown",
   "metadata": {},
   "source": [
    "https://machinelearningmastery.com/tactics-to-combat-imbalanced-classes-in-your-machine-learning-dataset/"
   ]
  }
 ],
 "metadata": {
  "kernelspec": {
   "display_name": "Python 3",
   "language": "python",
   "name": "python3"
  },
  "language_info": {
   "codemirror_mode": {
    "name": "ipython",
    "version": 3
   },
   "file_extension": ".py",
   "mimetype": "text/x-python",
   "name": "python",
   "nbconvert_exporter": "python",
   "pygments_lexer": "ipython3",
   "version": "3.6.5"
  }
 },
 "nbformat": 4,
 "nbformat_minor": 2
}
