{
 "cells": [
  {
   "cell_type": "markdown",
   "metadata": {},
   "source": [
    "# Introdução\n",
    "\n",
    "Esse caderno tem por objetivo a criação de um modelo básico de treinamento, utilizando o classificador [RandomForest](http://scikit-learn.org/stable/modules/generated/sklearn.ensemble.RandomForestClassifier.html), que faça a predição de homologação de arquivamentos de procedimentos enviados à 1A.CAM do MPF.\n",
    "\n",
    "Esse modelo usará apenas os metadados dos procedimentos, sem fazer nenhum processamento textual.\n",
    "\n",
    "O objetivo desse modelo é servir como um *baseline* de comparações para implementações futuras.\n",
    "\n",
    "\n",
    "**Nota**: os dados desse modelo foram recuperados de procedimentos que tiveram suas deliberações realizadas após o dia 02/07/2018, data em que a nova composição tomou posse na 1A.CAM."
   ]
  },
  {
   "cell_type": "markdown",
   "metadata": {},
   "source": [
    "# Carga de dados e pré-processamento\n",
    "\n",
    "Vamos fazer a carga dos dados e fazer um pré-processamento tradicional (remoção de atributos que não interessam, criação de variáveis categóricas etc.)"
   ]
  },
  {
   "cell_type": "code",
   "execution_count": 1,
   "metadata": {},
   "outputs": [],
   "source": [
    "%load_ext autoreload\n",
    "%autoreload 2\n",
    "\n",
    "%matplotlib inline"
   ]
  },
  {
   "cell_type": "code",
   "execution_count": 2,
   "metadata": {},
   "outputs": [],
   "source": [
    "from sklearn.ensemble import RandomForestClassifier\n",
    "import numpy as np\n",
    "import pandas as pd\n",
    "\n",
    "from sklearn import metrics"
   ]
  },
  {
   "cell_type": "code",
   "execution_count": 3,
   "metadata": {},
   "outputs": [],
   "source": [
    "PATH = \"../data/\"\n",
    "df_original = pd.read_json(f'{PATH}/1A.CAM.homologacao-arquivamento.json')"
   ]
  },
  {
   "cell_type": "code",
   "execution_count": 4,
   "metadata": {},
   "outputs": [
    {
     "data": {
      "text/plain": [
       "6216"
      ]
     },
     "execution_count": 4,
     "metadata": {},
     "output_type": "execute_result"
    }
   ],
   "source": [
    "len(df_original)"
   ]
  },
  {
   "cell_type": "code",
   "execution_count": 5,
   "metadata": {},
   "outputs": [
    {
     "data": {
      "text/plain": [
       "Index(['areaAtuacao', 'classe', 'dataAutuacao', 'dataEntrada', 'homologado',\n",
       "       'id', 'identificadorPecaPromocao', 'itemCnmp', 'membroResponsavel',\n",
       "       'municipio', 'prioritario', 'procedimento', 'quantidadeConversoes',\n",
       "       'quantidadeProvidencias', 'textosProvidencias', 'urgente'],\n",
       "      dtype='object')"
      ]
     },
     "execution_count": 5,
     "metadata": {},
     "output_type": "execute_result"
    }
   ],
   "source": [
    "df_original.columns"
   ]
  },
  {
   "cell_type": "code",
   "execution_count": 6,
   "metadata": {},
   "outputs": [
    {
     "data": {
      "text/html": [
       "<div>\n",
       "<style scoped>\n",
       "    .dataframe tbody tr th:only-of-type {\n",
       "        vertical-align: middle;\n",
       "    }\n",
       "\n",
       "    .dataframe tbody tr th {\n",
       "        vertical-align: top;\n",
       "    }\n",
       "\n",
       "    .dataframe thead th {\n",
       "        text-align: right;\n",
       "    }\n",
       "</style>\n",
       "<table border=\"1\" class=\"dataframe\">\n",
       "  <thead>\n",
       "    <tr style=\"text-align: right;\">\n",
       "      <th></th>\n",
       "      <th>areaAtuacao</th>\n",
       "      <th>classe</th>\n",
       "      <th>homologado</th>\n",
       "      <th>id</th>\n",
       "      <th>identificadorPecaPromocao</th>\n",
       "      <th>itemCnmp</th>\n",
       "      <th>membroResponsavel</th>\n",
       "      <th>municipio</th>\n",
       "      <th>prioritario</th>\n",
       "      <th>quantidadeConversoes</th>\n",
       "      <th>quantidadeProvidencias</th>\n",
       "      <th>urgente</th>\n",
       "    </tr>\n",
       "  </thead>\n",
       "  <tbody>\n",
       "    <tr>\n",
       "      <th>count</th>\n",
       "      <td>6.216000e+03</td>\n",
       "      <td>6216.000000</td>\n",
       "      <td>6216.000000</td>\n",
       "      <td>6.216000e+03</td>\n",
       "      <td>5.416000e+03</td>\n",
       "      <td>6.216000e+03</td>\n",
       "      <td>5416.000000</td>\n",
       "      <td>6216.000000</td>\n",
       "      <td>6216.000000</td>\n",
       "      <td>6216.000000</td>\n",
       "      <td>6216.000000</td>\n",
       "      <td>6216.000000</td>\n",
       "    </tr>\n",
       "    <tr>\n",
       "      <th>mean</th>\n",
       "      <td>3.240209e+02</td>\n",
       "      <td>2.530727</td>\n",
       "      <td>0.984878</td>\n",
       "      <td>6.728554e+07</td>\n",
       "      <td>7.826234e+07</td>\n",
       "      <td>2.407387e+04</td>\n",
       "      <td>38441.630908</td>\n",
       "      <td>2892.811776</td>\n",
       "      <td>0.006757</td>\n",
       "      <td>2.038288</td>\n",
       "      <td>7.249839</td>\n",
       "      <td>0.006918</td>\n",
       "    </tr>\n",
       "    <tr>\n",
       "      <th>std</th>\n",
       "      <td>2.536836e+04</td>\n",
       "      <td>0.923644</td>\n",
       "      <td>0.122049</td>\n",
       "      <td>1.323833e+07</td>\n",
       "      <td>6.341954e+06</td>\n",
       "      <td>2.100612e+05</td>\n",
       "      <td>34276.472876</td>\n",
       "      <td>1671.129519</td>\n",
       "      <td>0.081928</td>\n",
       "      <td>1.398246</td>\n",
       "      <td>8.758556</td>\n",
       "      <td>0.082891</td>\n",
       "    </tr>\n",
       "    <tr>\n",
       "      <th>min</th>\n",
       "      <td>1.000000e+00</td>\n",
       "      <td>1.000000</td>\n",
       "      <td>0.000000</td>\n",
       "      <td>2.842880e+06</td>\n",
       "      <td>5.580442e+07</td>\n",
       "      <td>2.000000e+00</td>\n",
       "      <td>752.000000</td>\n",
       "      <td>1.000000</td>\n",
       "      <td>0.000000</td>\n",
       "      <td>0.000000</td>\n",
       "      <td>0.000000</td>\n",
       "      <td>0.000000</td>\n",
       "    </tr>\n",
       "    <tr>\n",
       "      <th>25%</th>\n",
       "      <td>2.000000e+00</td>\n",
       "      <td>2.000000</td>\n",
       "      <td>1.000000</td>\n",
       "      <td>6.400090e+07</td>\n",
       "      <td>7.311781e+07</td>\n",
       "      <td>1.521000e+03</td>\n",
       "      <td>13674.000000</td>\n",
       "      <td>1388.750000</td>\n",
       "      <td>0.000000</td>\n",
       "      <td>1.000000</td>\n",
       "      <td>3.000000</td>\n",
       "      <td>0.000000</td>\n",
       "    </tr>\n",
       "    <tr>\n",
       "      <th>50%</th>\n",
       "      <td>2.000000e+00</td>\n",
       "      <td>3.000000</td>\n",
       "      <td>1.000000</td>\n",
       "      <td>7.000453e+07</td>\n",
       "      <td>7.810596e+07</td>\n",
       "      <td>1.581500e+03</td>\n",
       "      <td>24990.000000</td>\n",
       "      <td>3078.000000</td>\n",
       "      <td>0.000000</td>\n",
       "      <td>2.000000</td>\n",
       "      <td>5.000000</td>\n",
       "      <td>0.000000</td>\n",
       "    </tr>\n",
       "    <tr>\n",
       "      <th>75%</th>\n",
       "      <td>2.000000e+00</td>\n",
       "      <td>3.000000</td>\n",
       "      <td>1.000000</td>\n",
       "      <td>7.543822e+07</td>\n",
       "      <td>8.461602e+07</td>\n",
       "      <td>1.893000e+03</td>\n",
       "      <td>53327.000000</td>\n",
       "      <td>4321.000000</td>\n",
       "      <td>0.000000</td>\n",
       "      <td>3.000000</td>\n",
       "      <td>9.000000</td>\n",
       "      <td>0.000000</td>\n",
       "    </tr>\n",
       "    <tr>\n",
       "      <th>max</th>\n",
       "      <td>2.000085e+06</td>\n",
       "      <td>61.000000</td>\n",
       "      <td>1.000000</td>\n",
       "      <td>8.756619e+07</td>\n",
       "      <td>8.810570e+07</td>\n",
       "      <td>2.007548e+06</td>\n",
       "      <td>127563.000000</td>\n",
       "      <td>5768.000000</td>\n",
       "      <td>1.000000</td>\n",
       "      <td>13.000000</td>\n",
       "      <td>161.000000</td>\n",
       "      <td>1.000000</td>\n",
       "    </tr>\n",
       "  </tbody>\n",
       "</table>\n",
       "</div>"
      ],
      "text/plain": [
       "        areaAtuacao       classe   homologado            id  \\\n",
       "count  6.216000e+03  6216.000000  6216.000000  6.216000e+03   \n",
       "mean   3.240209e+02     2.530727     0.984878  6.728554e+07   \n",
       "std    2.536836e+04     0.923644     0.122049  1.323833e+07   \n",
       "min    1.000000e+00     1.000000     0.000000  2.842880e+06   \n",
       "25%    2.000000e+00     2.000000     1.000000  6.400090e+07   \n",
       "50%    2.000000e+00     3.000000     1.000000  7.000453e+07   \n",
       "75%    2.000000e+00     3.000000     1.000000  7.543822e+07   \n",
       "max    2.000085e+06    61.000000     1.000000  8.756619e+07   \n",
       "\n",
       "       identificadorPecaPromocao      itemCnmp  membroResponsavel  \\\n",
       "count               5.416000e+03  6.216000e+03        5416.000000   \n",
       "mean                7.826234e+07  2.407387e+04       38441.630908   \n",
       "std                 6.341954e+06  2.100612e+05       34276.472876   \n",
       "min                 5.580442e+07  2.000000e+00         752.000000   \n",
       "25%                 7.311781e+07  1.521000e+03       13674.000000   \n",
       "50%                 7.810596e+07  1.581500e+03       24990.000000   \n",
       "75%                 8.461602e+07  1.893000e+03       53327.000000   \n",
       "max                 8.810570e+07  2.007548e+06      127563.000000   \n",
       "\n",
       "         municipio  prioritario  quantidadeConversoes  quantidadeProvidencias  \\\n",
       "count  6216.000000  6216.000000           6216.000000             6216.000000   \n",
       "mean   2892.811776     0.006757              2.038288                7.249839   \n",
       "std    1671.129519     0.081928              1.398246                8.758556   \n",
       "min       1.000000     0.000000              0.000000                0.000000   \n",
       "25%    1388.750000     0.000000              1.000000                3.000000   \n",
       "50%    3078.000000     0.000000              2.000000                5.000000   \n",
       "75%    4321.000000     0.000000              3.000000                9.000000   \n",
       "max    5768.000000     1.000000             13.000000              161.000000   \n",
       "\n",
       "           urgente  \n",
       "count  6216.000000  \n",
       "mean      0.006918  \n",
       "std       0.082891  \n",
       "min       0.000000  \n",
       "25%       0.000000  \n",
       "50%       0.000000  \n",
       "75%       0.000000  \n",
       "max       1.000000  "
      ]
     },
     "execution_count": 6,
     "metadata": {},
     "output_type": "execute_result"
    }
   ],
   "source": [
    "df_original.describe()"
   ]
  },
  {
   "cell_type": "code",
   "execution_count": 7,
   "metadata": {},
   "outputs": [
    {
     "data": {
      "text/plain": [
       "800"
      ]
     },
     "execution_count": 7,
     "metadata": {},
     "output_type": "execute_result"
    }
   ],
   "source": [
    "len(df_original[df_original.identificadorPecaPromocao.isnull()])"
   ]
  },
  {
   "cell_type": "code",
   "execution_count": 8,
   "metadata": {},
   "outputs": [],
   "source": [
    "df_work = df_original.copy()"
   ]
  },
  {
   "cell_type": "code",
   "execution_count": 9,
   "metadata": {},
   "outputs": [],
   "source": [
    "# elementos com peça de promoção de arquivamento nulos não nos interessam\n",
    "#df_work.dropna(subset=['identificadorPecaPromocao'], inplace=True)\n",
    "#df_work.reset_index(drop=True, inplace=True)"
   ]
  },
  {
   "cell_type": "code",
   "execution_count": 10,
   "metadata": {},
   "outputs": [
    {
     "data": {
      "text/plain": [
       "0"
      ]
     },
     "execution_count": 10,
     "metadata": {},
     "output_type": "execute_result"
    }
   ],
   "source": [
    "#len(df_work[df_work.identificadorPecaPromocao.isnull()])"
   ]
  },
  {
   "cell_type": "code",
   "execution_count": 9,
   "metadata": {},
   "outputs": [
    {
     "data": {
      "text/html": [
       "<div>\n",
       "<style scoped>\n",
       "    .dataframe tbody tr th:only-of-type {\n",
       "        vertical-align: middle;\n",
       "    }\n",
       "\n",
       "    .dataframe tbody tr th {\n",
       "        vertical-align: top;\n",
       "    }\n",
       "\n",
       "    .dataframe thead th {\n",
       "        text-align: right;\n",
       "    }\n",
       "</style>\n",
       "<table border=\"1\" class=\"dataframe\">\n",
       "  <thead>\n",
       "    <tr style=\"text-align: right;\">\n",
       "      <th></th>\n",
       "      <th>areaAtuacao</th>\n",
       "      <th>classe</th>\n",
       "      <th>dataAutuacao</th>\n",
       "      <th>dataEntrada</th>\n",
       "      <th>homologado</th>\n",
       "      <th>itemCnmp</th>\n",
       "      <th>membroResponsavel</th>\n",
       "      <th>municipio</th>\n",
       "      <th>prioritario</th>\n",
       "      <th>quantidadeConversoes</th>\n",
       "      <th>quantidadeProvidencias</th>\n",
       "      <th>urgente</th>\n",
       "    </tr>\n",
       "  </thead>\n",
       "  <tbody>\n",
       "    <tr>\n",
       "      <th>841</th>\n",
       "      <td>2</td>\n",
       "      <td>3</td>\n",
       "      <td>06-02-2015</td>\n",
       "      <td>18-06-2018</td>\n",
       "      <td>1</td>\n",
       "      <td>1076</td>\n",
       "      <td>127505.0</td>\n",
       "      <td>145</td>\n",
       "      <td>0</td>\n",
       "      <td>3</td>\n",
       "      <td>5</td>\n",
       "      <td>0</td>\n",
       "    </tr>\n",
       "    <tr>\n",
       "      <th>6118</th>\n",
       "      <td>2</td>\n",
       "      <td>3</td>\n",
       "      <td>07-02-2013</td>\n",
       "      <td>08-06-2015</td>\n",
       "      <td>1</td>\n",
       "      <td>1507</td>\n",
       "      <td>53256.0</td>\n",
       "      <td>2972</td>\n",
       "      <td>0</td>\n",
       "      <td>1</td>\n",
       "      <td>10</td>\n",
       "      <td>0</td>\n",
       "    </tr>\n",
       "    <tr>\n",
       "      <th>2969</th>\n",
       "      <td>2</td>\n",
       "      <td>2</td>\n",
       "      <td>21-02-2017</td>\n",
       "      <td>20-06-2017</td>\n",
       "      <td>1</td>\n",
       "      <td>1893</td>\n",
       "      <td>127555.0</td>\n",
       "      <td>5108</td>\n",
       "      <td>0</td>\n",
       "      <td>1</td>\n",
       "      <td>2</td>\n",
       "      <td>0</td>\n",
       "    </tr>\n",
       "    <tr>\n",
       "      <th>4337</th>\n",
       "      <td>5</td>\n",
       "      <td>3</td>\n",
       "      <td>05-10-2015</td>\n",
       "      <td>01-12-2016</td>\n",
       "      <td>1</td>\n",
       "      <td>763</td>\n",
       "      <td>64246.0</td>\n",
       "      <td>1301</td>\n",
       "      <td>0</td>\n",
       "      <td>3</td>\n",
       "      <td>3</td>\n",
       "      <td>0</td>\n",
       "    </tr>\n",
       "    <tr>\n",
       "      <th>2752</th>\n",
       "      <td>2</td>\n",
       "      <td>3</td>\n",
       "      <td>27-12-2012</td>\n",
       "      <td>18-07-2017</td>\n",
       "      <td>1</td>\n",
       "      <td>3066</td>\n",
       "      <td>116509.0</td>\n",
       "      <td>3056</td>\n",
       "      <td>0</td>\n",
       "      <td>4</td>\n",
       "      <td>29</td>\n",
       "      <td>0</td>\n",
       "    </tr>\n",
       "    <tr>\n",
       "      <th>2683</th>\n",
       "      <td>3</td>\n",
       "      <td>2</td>\n",
       "      <td>26-09-2016</td>\n",
       "      <td>01-08-2017</td>\n",
       "      <td>1</td>\n",
       "      <td>3049</td>\n",
       "      <td>64325.0</td>\n",
       "      <td>3042</td>\n",
       "      <td>0</td>\n",
       "      <td>2</td>\n",
       "      <td>4</td>\n",
       "      <td>0</td>\n",
       "    </tr>\n",
       "    <tr>\n",
       "      <th>998</th>\n",
       "      <td>2</td>\n",
       "      <td>3</td>\n",
       "      <td>22-03-2017</td>\n",
       "      <td>07-06-2018</td>\n",
       "      <td>1</td>\n",
       "      <td>1102</td>\n",
       "      <td>53289.0</td>\n",
       "      <td>4235</td>\n",
       "      <td>0</td>\n",
       "      <td>1</td>\n",
       "      <td>5</td>\n",
       "      <td>0</td>\n",
       "    </tr>\n",
       "    <tr>\n",
       "      <th>5766</th>\n",
       "      <td>2</td>\n",
       "      <td>2</td>\n",
       "      <td>17-07-2015</td>\n",
       "      <td>12-02-2016</td>\n",
       "      <td>1</td>\n",
       "      <td>1503</td>\n",
       "      <td>NaN</td>\n",
       "      <td>2785</td>\n",
       "      <td>0</td>\n",
       "      <td>1</td>\n",
       "      <td>4</td>\n",
       "      <td>0</td>\n",
       "    </tr>\n",
       "    <tr>\n",
       "      <th>5557</th>\n",
       "      <td>2</td>\n",
       "      <td>2</td>\n",
       "      <td>06-08-2015</td>\n",
       "      <td>06-04-2016</td>\n",
       "      <td>1</td>\n",
       "      <td>1523</td>\n",
       "      <td>11319.0</td>\n",
       "      <td>3455</td>\n",
       "      <td>0</td>\n",
       "      <td>2</td>\n",
       "      <td>2</td>\n",
       "      <td>0</td>\n",
       "    </tr>\n",
       "    <tr>\n",
       "      <th>4577</th>\n",
       "      <td>2</td>\n",
       "      <td>3</td>\n",
       "      <td>13-03-2015</td>\n",
       "      <td>14-11-2016</td>\n",
       "      <td>1</td>\n",
       "      <td>1523</td>\n",
       "      <td>87455.0</td>\n",
       "      <td>404</td>\n",
       "      <td>0</td>\n",
       "      <td>4</td>\n",
       "      <td>8</td>\n",
       "      <td>0</td>\n",
       "    </tr>\n",
       "  </tbody>\n",
       "</table>\n",
       "</div>"
      ],
      "text/plain": [
       "      areaAtuacao  classe dataAutuacao dataEntrada  homologado  itemCnmp  \\\n",
       "841             2       3   06-02-2015  18-06-2018           1      1076   \n",
       "6118            2       3   07-02-2013  08-06-2015           1      1507   \n",
       "2969            2       2   21-02-2017  20-06-2017           1      1893   \n",
       "4337            5       3   05-10-2015  01-12-2016           1       763   \n",
       "2752            2       3   27-12-2012  18-07-2017           1      3066   \n",
       "2683            3       2   26-09-2016  01-08-2017           1      3049   \n",
       "998             2       3   22-03-2017  07-06-2018           1      1102   \n",
       "5766            2       2   17-07-2015  12-02-2016           1      1503   \n",
       "5557            2       2   06-08-2015  06-04-2016           1      1523   \n",
       "4577            2       3   13-03-2015  14-11-2016           1      1523   \n",
       "\n",
       "      membroResponsavel  municipio  prioritario  quantidadeConversoes  \\\n",
       "841            127505.0        145            0                     3   \n",
       "6118            53256.0       2972            0                     1   \n",
       "2969           127555.0       5108            0                     1   \n",
       "4337            64246.0       1301            0                     3   \n",
       "2752           116509.0       3056            0                     4   \n",
       "2683            64325.0       3042            0                     2   \n",
       "998             53289.0       4235            0                     1   \n",
       "5766                NaN       2785            0                     1   \n",
       "5557            11319.0       3455            0                     2   \n",
       "4577            87455.0        404            0                     4   \n",
       "\n",
       "      quantidadeProvidencias  urgente  \n",
       "841                        5        0  \n",
       "6118                      10        0  \n",
       "2969                       2        0  \n",
       "4337                       3        0  \n",
       "2752                      29        0  \n",
       "2683                       4        0  \n",
       "998                        5        0  \n",
       "5766                       4        0  \n",
       "5557                       2        0  \n",
       "4577                       8        0  "
      ]
     },
     "execution_count": 9,
     "metadata": {},
     "output_type": "execute_result"
    }
   ],
   "source": [
    "# nessa primeira passada, essas colunas não nos interessam\n",
    "removed_columns = ['id', 'procedimento', 'textosProvidencias', 'identificadorPecaPromocao']\n",
    "df_work = df_work.drop(columns=removed_columns)\n",
    "df_work.sample(10)"
   ]
  },
  {
   "cell_type": "code",
   "execution_count": 10,
   "metadata": {},
   "outputs": [
    {
     "data": {
      "text/html": [
       "<div>\n",
       "<style scoped>\n",
       "    .dataframe tbody tr th:only-of-type {\n",
       "        vertical-align: middle;\n",
       "    }\n",
       "\n",
       "    .dataframe tbody tr th {\n",
       "        vertical-align: top;\n",
       "    }\n",
       "\n",
       "    .dataframe thead th {\n",
       "        text-align: right;\n",
       "    }\n",
       "</style>\n",
       "<table border=\"1\" class=\"dataframe\">\n",
       "  <thead>\n",
       "    <tr style=\"text-align: right;\">\n",
       "      <th></th>\n",
       "      <th>areaAtuacao</th>\n",
       "      <th>classe</th>\n",
       "      <th>homologado</th>\n",
       "      <th>itemCnmp</th>\n",
       "      <th>membroResponsavel</th>\n",
       "      <th>municipio</th>\n",
       "      <th>prioritario</th>\n",
       "      <th>quantidadeConversoes</th>\n",
       "      <th>quantidadeProvidencias</th>\n",
       "      <th>urgente</th>\n",
       "    </tr>\n",
       "  </thead>\n",
       "  <tbody>\n",
       "    <tr>\n",
       "      <th>count</th>\n",
       "      <td>6.216000e+03</td>\n",
       "      <td>6216.000000</td>\n",
       "      <td>6216.000000</td>\n",
       "      <td>6.216000e+03</td>\n",
       "      <td>5416.000000</td>\n",
       "      <td>6216.000000</td>\n",
       "      <td>6216.000000</td>\n",
       "      <td>6216.000000</td>\n",
       "      <td>6216.000000</td>\n",
       "      <td>6216.000000</td>\n",
       "    </tr>\n",
       "    <tr>\n",
       "      <th>mean</th>\n",
       "      <td>3.240209e+02</td>\n",
       "      <td>2.530727</td>\n",
       "      <td>0.984878</td>\n",
       "      <td>2.407387e+04</td>\n",
       "      <td>38441.630908</td>\n",
       "      <td>2892.811776</td>\n",
       "      <td>0.006757</td>\n",
       "      <td>2.038288</td>\n",
       "      <td>7.249839</td>\n",
       "      <td>0.006918</td>\n",
       "    </tr>\n",
       "    <tr>\n",
       "      <th>std</th>\n",
       "      <td>2.536836e+04</td>\n",
       "      <td>0.923644</td>\n",
       "      <td>0.122049</td>\n",
       "      <td>2.100612e+05</td>\n",
       "      <td>34276.472876</td>\n",
       "      <td>1671.129519</td>\n",
       "      <td>0.081928</td>\n",
       "      <td>1.398246</td>\n",
       "      <td>8.758556</td>\n",
       "      <td>0.082891</td>\n",
       "    </tr>\n",
       "    <tr>\n",
       "      <th>min</th>\n",
       "      <td>1.000000e+00</td>\n",
       "      <td>1.000000</td>\n",
       "      <td>0.000000</td>\n",
       "      <td>2.000000e+00</td>\n",
       "      <td>752.000000</td>\n",
       "      <td>1.000000</td>\n",
       "      <td>0.000000</td>\n",
       "      <td>0.000000</td>\n",
       "      <td>0.000000</td>\n",
       "      <td>0.000000</td>\n",
       "    </tr>\n",
       "    <tr>\n",
       "      <th>25%</th>\n",
       "      <td>2.000000e+00</td>\n",
       "      <td>2.000000</td>\n",
       "      <td>1.000000</td>\n",
       "      <td>1.521000e+03</td>\n",
       "      <td>13674.000000</td>\n",
       "      <td>1388.750000</td>\n",
       "      <td>0.000000</td>\n",
       "      <td>1.000000</td>\n",
       "      <td>3.000000</td>\n",
       "      <td>0.000000</td>\n",
       "    </tr>\n",
       "    <tr>\n",
       "      <th>50%</th>\n",
       "      <td>2.000000e+00</td>\n",
       "      <td>3.000000</td>\n",
       "      <td>1.000000</td>\n",
       "      <td>1.581500e+03</td>\n",
       "      <td>24990.000000</td>\n",
       "      <td>3078.000000</td>\n",
       "      <td>0.000000</td>\n",
       "      <td>2.000000</td>\n",
       "      <td>5.000000</td>\n",
       "      <td>0.000000</td>\n",
       "    </tr>\n",
       "    <tr>\n",
       "      <th>75%</th>\n",
       "      <td>2.000000e+00</td>\n",
       "      <td>3.000000</td>\n",
       "      <td>1.000000</td>\n",
       "      <td>1.893000e+03</td>\n",
       "      <td>53327.000000</td>\n",
       "      <td>4321.000000</td>\n",
       "      <td>0.000000</td>\n",
       "      <td>3.000000</td>\n",
       "      <td>9.000000</td>\n",
       "      <td>0.000000</td>\n",
       "    </tr>\n",
       "    <tr>\n",
       "      <th>max</th>\n",
       "      <td>2.000085e+06</td>\n",
       "      <td>61.000000</td>\n",
       "      <td>1.000000</td>\n",
       "      <td>2.007548e+06</td>\n",
       "      <td>127563.000000</td>\n",
       "      <td>5768.000000</td>\n",
       "      <td>1.000000</td>\n",
       "      <td>13.000000</td>\n",
       "      <td>161.000000</td>\n",
       "      <td>1.000000</td>\n",
       "    </tr>\n",
       "  </tbody>\n",
       "</table>\n",
       "</div>"
      ],
      "text/plain": [
       "        areaAtuacao       classe   homologado      itemCnmp  \\\n",
       "count  6.216000e+03  6216.000000  6216.000000  6.216000e+03   \n",
       "mean   3.240209e+02     2.530727     0.984878  2.407387e+04   \n",
       "std    2.536836e+04     0.923644     0.122049  2.100612e+05   \n",
       "min    1.000000e+00     1.000000     0.000000  2.000000e+00   \n",
       "25%    2.000000e+00     2.000000     1.000000  1.521000e+03   \n",
       "50%    2.000000e+00     3.000000     1.000000  1.581500e+03   \n",
       "75%    2.000000e+00     3.000000     1.000000  1.893000e+03   \n",
       "max    2.000085e+06    61.000000     1.000000  2.007548e+06   \n",
       "\n",
       "       membroResponsavel    municipio  prioritario  quantidadeConversoes  \\\n",
       "count        5416.000000  6216.000000  6216.000000           6216.000000   \n",
       "mean        38441.630908  2892.811776     0.006757              2.038288   \n",
       "std         34276.472876  1671.129519     0.081928              1.398246   \n",
       "min           752.000000     1.000000     0.000000              0.000000   \n",
       "25%         13674.000000  1388.750000     0.000000              1.000000   \n",
       "50%         24990.000000  3078.000000     0.000000              2.000000   \n",
       "75%         53327.000000  4321.000000     0.000000              3.000000   \n",
       "max        127563.000000  5768.000000     1.000000             13.000000   \n",
       "\n",
       "       quantidadeProvidencias      urgente  \n",
       "count             6216.000000  6216.000000  \n",
       "mean                 7.249839     0.006918  \n",
       "std                  8.758556     0.082891  \n",
       "min                  0.000000     0.000000  \n",
       "25%                  3.000000     0.000000  \n",
       "50%                  5.000000     0.000000  \n",
       "75%                  9.000000     0.000000  \n",
       "max                161.000000     1.000000  "
      ]
     },
     "execution_count": 10,
     "metadata": {},
     "output_type": "execute_result"
    }
   ],
   "source": [
    "df_work.describe()"
   ]
  },
  {
   "cell_type": "code",
   "execution_count": 11,
   "metadata": {},
   "outputs": [],
   "source": [
    "# tratando os nulos\n",
    "df_work.fillna(0, inplace=True)"
   ]
  },
  {
   "cell_type": "code",
   "execution_count": 19,
   "metadata": {},
   "outputs": [
    {
     "data": {
      "text/plain": [
       "(6122, 94)"
      ]
     },
     "execution_count": 19,
     "metadata": {},
     "output_type": "execute_result"
    }
   ],
   "source": [
    "len(df_work[df_work['homologado'] == 1]),len(df_work[df_work['homologado'] == 0])"
   ]
  },
  {
   "cell_type": "code",
   "execution_count": 20,
   "metadata": {},
   "outputs": [
    {
     "data": {
      "text/plain": [
       "<matplotlib.axes._subplots.AxesSubplot at 0xa93386ac>"
      ]
     },
     "execution_count": 20,
     "metadata": {},
     "output_type": "execute_result"
    },
    {
     "data": {
      "image/png": "[encoded data removed]",
      "text/plain": [
       "<Figure size 432x288 with 1 Axes>"
      ]
     },
     "metadata": {},
     "output_type": "display_data"
    }
   ],
   "source": [
    "df_work['homologado'].value_counts().plot.bar()"
   ]
  },
  {
   "cell_type": "markdown",
   "metadata": {},
   "source": [
    "### Classes desbalanceadas!!!\n",
    "\n",
    "Conforme podemos ver acima, as classes desse problema são altamente desbalanceadas - apenas 1.46% do conjunto de dados representam procedimentos que não foram homologados.\n",
    "\n",
    "Isso, muito provavelmente, causará problemas no treino do modelo. Mas, inicialmente, vamos ignorar isso e seguir com o nosso treino."
   ]
  },
  {
   "cell_type": "code",
   "execution_count": 21,
   "metadata": {},
   "outputs": [],
   "source": [
    "# conversão para datas\n",
    "df_work['dataAutuacao'] = pd.to_datetime(df_work['dataAutuacao'],infer_datetime_format=True)\n",
    "df_work['dataEntrada'] = pd.to_datetime(df_work['dataEntrada'],infer_datetime_format=True)"
   ]
  },
  {
   "cell_type": "code",
   "execution_count": 22,
   "metadata": {},
   "outputs": [],
   "source": [
    "# vamos criar uma variável derivada, representando a quantidade de dias desde a autuação até a entrada\n",
    "df_work['diasTranscorridos'] = 0\n",
    "for index in range(len(df_work)):\n",
    "    df_work.loc[index, 'diasTranscorridos'] =  np.abs((df_work.loc[index, 'dataEntrada'] - df_work.loc[index, 'dataAutuacao']).days)"
   ]
  },
  {
   "cell_type": "code",
   "execution_count": 23,
   "metadata": {},
   "outputs": [
    {
     "data": {
      "text/html": [
       "<div>\n",
       "<style scoped>\n",
       "    .dataframe tbody tr th:only-of-type {\n",
       "        vertical-align: middle;\n",
       "    }\n",
       "\n",
       "    .dataframe tbody tr th {\n",
       "        vertical-align: top;\n",
       "    }\n",
       "\n",
       "    .dataframe thead th {\n",
       "        text-align: right;\n",
       "    }\n",
       "</style>\n",
       "<table border=\"1\" class=\"dataframe\">\n",
       "  <thead>\n",
       "    <tr style=\"text-align: right;\">\n",
       "      <th></th>\n",
       "      <th>areaAtuacao</th>\n",
       "      <th>classe</th>\n",
       "      <th>dataAutuacao</th>\n",
       "      <th>dataEntrada</th>\n",
       "      <th>homologado</th>\n",
       "      <th>itemCnmp</th>\n",
       "      <th>membroResponsavel</th>\n",
       "      <th>municipio</th>\n",
       "      <th>prioritario</th>\n",
       "      <th>quantidadeConversoes</th>\n",
       "      <th>quantidadeProvidencias</th>\n",
       "      <th>urgente</th>\n",
       "      <th>diasTranscorridos</th>\n",
       "    </tr>\n",
       "  </thead>\n",
       "  <tbody>\n",
       "    <tr>\n",
       "      <th>6147</th>\n",
       "      <td>2</td>\n",
       "      <td>2</td>\n",
       "      <td>2015-03-19</td>\n",
       "      <td>2015-08-13</td>\n",
       "      <td>1</td>\n",
       "      <td>63</td>\n",
       "      <td>64339.0</td>\n",
       "      <td>404</td>\n",
       "      <td>0</td>\n",
       "      <td>1</td>\n",
       "      <td>1</td>\n",
       "      <td>0</td>\n",
       "      <td>147</td>\n",
       "    </tr>\n",
       "    <tr>\n",
       "      <th>1912</th>\n",
       "      <td>2</td>\n",
       "      <td>2</td>\n",
       "      <td>2017-06-13</td>\n",
       "      <td>2018-01-03</td>\n",
       "      <td>1</td>\n",
       "      <td>3147</td>\n",
       "      <td>12003.0</td>\n",
       "      <td>3327</td>\n",
       "      <td>0</td>\n",
       "      <td>2</td>\n",
       "      <td>2</td>\n",
       "      <td>0</td>\n",
       "      <td>204</td>\n",
       "    </tr>\n",
       "    <tr>\n",
       "      <th>4154</th>\n",
       "      <td>2</td>\n",
       "      <td>3</td>\n",
       "      <td>2015-03-18</td>\n",
       "      <td>2017-01-24</td>\n",
       "      <td>1</td>\n",
       "      <td>1580</td>\n",
       "      <td>0.0</td>\n",
       "      <td>4766</td>\n",
       "      <td>0</td>\n",
       "      <td>3</td>\n",
       "      <td>9</td>\n",
       "      <td>0</td>\n",
       "      <td>678</td>\n",
       "    </tr>\n",
       "    <tr>\n",
       "      <th>1878</th>\n",
       "      <td>2</td>\n",
       "      <td>3</td>\n",
       "      <td>2017-09-11</td>\n",
       "      <td>2018-03-12</td>\n",
       "      <td>1</td>\n",
       "      <td>2830</td>\n",
       "      <td>64208.0</td>\n",
       "      <td>1387</td>\n",
       "      <td>0</td>\n",
       "      <td>1</td>\n",
       "      <td>1</td>\n",
       "      <td>0</td>\n",
       "      <td>182</td>\n",
       "    </tr>\n",
       "    <tr>\n",
       "      <th>1483</th>\n",
       "      <td>2</td>\n",
       "      <td>2</td>\n",
       "      <td>2018-02-20</td>\n",
       "      <td>2018-04-24</td>\n",
       "      <td>1</td>\n",
       "      <td>1542</td>\n",
       "      <td>64268.0</td>\n",
       "      <td>5115</td>\n",
       "      <td>0</td>\n",
       "      <td>1</td>\n",
       "      <td>2</td>\n",
       "      <td>0</td>\n",
       "      <td>63</td>\n",
       "    </tr>\n",
       "    <tr>\n",
       "      <th>2379</th>\n",
       "      <td>2</td>\n",
       "      <td>3</td>\n",
       "      <td>2016-06-05</td>\n",
       "      <td>2017-09-26</td>\n",
       "      <td>1</td>\n",
       "      <td>3119</td>\n",
       "      <td>64203.0</td>\n",
       "      <td>948</td>\n",
       "      <td>0</td>\n",
       "      <td>3</td>\n",
       "      <td>5</td>\n",
       "      <td>0</td>\n",
       "      <td>478</td>\n",
       "    </tr>\n",
       "    <tr>\n",
       "      <th>400</th>\n",
       "      <td>3</td>\n",
       "      <td>3</td>\n",
       "      <td>2011-04-26</td>\n",
       "      <td>2018-07-17</td>\n",
       "      <td>1</td>\n",
       "      <td>1503</td>\n",
       "      <td>23719.0</td>\n",
       "      <td>2031</td>\n",
       "      <td>0</td>\n",
       "      <td>6</td>\n",
       "      <td>26</td>\n",
       "      <td>0</td>\n",
       "      <td>2639</td>\n",
       "    </tr>\n",
       "    <tr>\n",
       "      <th>6193</th>\n",
       "      <td>2</td>\n",
       "      <td>3</td>\n",
       "      <td>2014-07-28</td>\n",
       "      <td>2015-08-04</td>\n",
       "      <td>1</td>\n",
       "      <td>1559</td>\n",
       "      <td>0.0</td>\n",
       "      <td>3983</td>\n",
       "      <td>0</td>\n",
       "      <td>0</td>\n",
       "      <td>5</td>\n",
       "      <td>0</td>\n",
       "      <td>372</td>\n",
       "    </tr>\n",
       "    <tr>\n",
       "      <th>4993</th>\n",
       "      <td>2</td>\n",
       "      <td>2</td>\n",
       "      <td>2016-04-22</td>\n",
       "      <td>2016-06-30</td>\n",
       "      <td>1</td>\n",
       "      <td>3047</td>\n",
       "      <td>3591.0</td>\n",
       "      <td>4255</td>\n",
       "      <td>0</td>\n",
       "      <td>1</td>\n",
       "      <td>5</td>\n",
       "      <td>0</td>\n",
       "      <td>69</td>\n",
       "    </tr>\n",
       "    <tr>\n",
       "      <th>6063</th>\n",
       "      <td>2</td>\n",
       "      <td>2</td>\n",
       "      <td>2015-01-07</td>\n",
       "      <td>2015-10-07</td>\n",
       "      <td>1</td>\n",
       "      <td>2286</td>\n",
       "      <td>87500.0</td>\n",
       "      <td>1466</td>\n",
       "      <td>0</td>\n",
       "      <td>1</td>\n",
       "      <td>1</td>\n",
       "      <td>0</td>\n",
       "      <td>273</td>\n",
       "    </tr>\n",
       "  </tbody>\n",
       "</table>\n",
       "</div>"
      ],
      "text/plain": [
       "      areaAtuacao  classe dataAutuacao dataEntrada  homologado  itemCnmp  \\\n",
       "6147            2       2   2015-03-19  2015-08-13           1        63   \n",
       "1912            2       2   2017-06-13  2018-01-03           1      3147   \n",
       "4154            2       3   2015-03-18  2017-01-24           1      1580   \n",
       "1878            2       3   2017-09-11  2018-03-12           1      2830   \n",
       "1483            2       2   2018-02-20  2018-04-24           1      1542   \n",
       "2379            2       3   2016-06-05  2017-09-26           1      3119   \n",
       "400             3       3   2011-04-26  2018-07-17           1      1503   \n",
       "6193            2       3   2014-07-28  2015-08-04           1      1559   \n",
       "4993            2       2   2016-04-22  2016-06-30           1      3047   \n",
       "6063            2       2   2015-01-07  2015-10-07           1      2286   \n",
       "\n",
       "      membroResponsavel  municipio  prioritario  quantidadeConversoes  \\\n",
       "6147            64339.0        404            0                     1   \n",
       "1912            12003.0       3327            0                     2   \n",
       "4154                0.0       4766            0                     3   \n",
       "1878            64208.0       1387            0                     1   \n",
       "1483            64268.0       5115            0                     1   \n",
       "2379            64203.0        948            0                     3   \n",
       "400             23719.0       2031            0                     6   \n",
       "6193                0.0       3983            0                     0   \n",
       "4993             3591.0       4255            0                     1   \n",
       "6063            87500.0       1466            0                     1   \n",
       "\n",
       "      quantidadeProvidencias  urgente  diasTranscorridos  \n",
       "6147                       1        0                147  \n",
       "1912                       2        0                204  \n",
       "4154                       9        0                678  \n",
       "1878                       1        0                182  \n",
       "1483                       2        0                 63  \n",
       "2379                       5        0                478  \n",
       "400                       26        0               2639  \n",
       "6193                       5        0                372  \n",
       "4993                       5        0                 69  \n",
       "6063                       1        0                273  "
      ]
     },
     "execution_count": 23,
     "metadata": {},
     "output_type": "execute_result"
    }
   ],
   "source": [
    "df_work.sample(10)"
   ]
  },
  {
   "cell_type": "code",
   "execution_count": 24,
   "metadata": {},
   "outputs": [
    {
     "data": {
      "text/plain": [
       "RandomForestClassifier(bootstrap=True, class_weight=None, criterion='gini',\n",
       "            max_depth=None, max_features='auto', max_leaf_nodes=None,\n",
       "            min_impurity_decrease=0.0, min_impurity_split=None,\n",
       "            min_samples_leaf=1, min_samples_split=2,\n",
       "            min_weight_fraction_leaf=0.0, n_estimators=10, n_jobs=1,\n",
       "            oob_score=False, random_state=42, verbose=0, warm_start=False)"
      ]
     },
     "execution_count": 24,
     "metadata": {},
     "output_type": "execute_result"
    }
   ],
   "source": [
    "removed_columns = ['homologado', 'dataEntrada', 'dataAutuacao']\n",
    "features = [c for c in df_work.columns if c not in removed_columns]\n",
    "\n",
    "model = RandomForestClassifier(random_state=42)\n",
    "model.fit(df_work[features], df_work['homologado'])"
   ]
  },
  {
   "cell_type": "code",
   "execution_count": 25,
   "metadata": {},
   "outputs": [
    {
     "data": {
      "text/plain": [
       "0.9987129987129987"
      ]
     },
     "execution_count": 25,
     "metadata": {},
     "output_type": "execute_result"
    }
   ],
   "source": [
    "model.score(df_work[features], df_work['homologado'])"
   ]
  },
  {
   "cell_type": "code",
   "execution_count": 26,
   "metadata": {},
   "outputs": [
    {
     "data": {
      "text/plain": [
       "((4662, 13), (1554, 13))"
      ]
     },
     "execution_count": 26,
     "metadata": {},
     "output_type": "execute_result"
    }
   ],
   "source": [
    "from sklearn.model_selection import train_test_split\n",
    "\n",
    "train, valid = train_test_split(df_work, random_state=42)\n",
    "train.shape, valid.shape"
   ]
  },
  {
   "cell_type": "code",
   "execution_count": 27,
   "metadata": {},
   "outputs": [
    {
     "data": {
      "text/plain": [
       "RandomForestClassifier(bootstrap=True, class_weight=None, criterion='gini',\n",
       "            max_depth=None, max_features='auto', max_leaf_nodes=None,\n",
       "            min_impurity_decrease=0.0, min_impurity_split=None,\n",
       "            min_samples_leaf=1, min_samples_split=2,\n",
       "            min_weight_fraction_leaf=0.0, n_estimators=10, n_jobs=1,\n",
       "            oob_score=False, random_state=42, verbose=0, warm_start=False)"
      ]
     },
     "execution_count": 27,
     "metadata": {},
     "output_type": "execute_result"
    }
   ],
   "source": [
    "model.fit(train[features], train['homologado'])"
   ]
  },
  {
   "cell_type": "code",
   "execution_count": 28,
   "metadata": {},
   "outputs": [],
   "source": [
    "train_preds = model.predict(train[features])\n",
    "valid_preds = model.predict(valid[features])"
   ]
  },
  {
   "cell_type": "code",
   "execution_count": 29,
   "metadata": {},
   "outputs": [
    {
     "name": "stdout",
     "output_type": "stream",
     "text": [
      "Accuracy score: 0.9984984984984985 0.9826254826254827\n",
      "Precision score:  0.9826254826254827\n",
      "Recall score:  1.0\n",
      "F1 score:  0.991236611489776\n"
     ]
    }
   ],
   "source": [
    "from sklearn.metrics import accuracy_score, precision_score, recall_score, f1_score\n",
    "\n",
    "def print_score():\n",
    "    print('Accuracy score:', accuracy_score(train['homologado'], train_preds), accuracy_score(valid['homologado'], valid_preds))\n",
    "    print('Precision score: ', format(precision_score(valid['homologado'], valid_preds)))\n",
    "    print('Recall score: ', format(recall_score(valid['homologado'], valid_preds)))\n",
    "    print('F1 score: ', format(f1_score(valid['homologado'], valid_preds)))\n",
    "\n",
    "print_score()"
   ]
  },
  {
   "cell_type": "markdown",
   "metadata": {},
   "source": [
    "### Primeira avaliação\n",
    "\n",
    "Embora não tenha ocorrido overfitting no treinamento e o *score* final tenha sido alto, cabe utilizar uma outra medida para assegurar a qualidade do modelo. Vamos utilizar a ** *matriz de confusão* **.\n",
    "\n"
   ]
  },
  {
   "cell_type": "code",
   "execution_count": 30,
   "metadata": {
    "scrolled": true
   },
   "outputs": [
    {
     "data": {
      "text/plain": [
       "array([[   0,   27],\n",
       "       [   0, 1527]], dtype=int64)"
      ]
     },
     "execution_count": 30,
     "metadata": {},
     "output_type": "execute_result"
    }
   ],
   "source": [
    "from sklearn.metrics import confusion_matrix\n",
    "\n",
    "confusion_matrix(valid['homologado'], valid_preds)"
   ]
  },
  {
   "cell_type": "code",
   "execution_count": 31,
   "metadata": {},
   "outputs": [
    {
     "data": {
      "text/plain": [
       "array([   0,   27,    0, 1527], dtype=int64)"
      ]
     },
     "execution_count": 31,
     "metadata": {},
     "output_type": "execute_result"
    }
   ],
   "source": [
    "confusion_matrix(valid['homologado'], valid_preds).ravel()"
   ]
  },
  {
   "cell_type": "code",
   "execution_count": 26,
   "metadata": {},
   "outputs": [
    {
     "data": {
      "text/plain": [
       "(1332, 22)"
      ]
     },
     "execution_count": 26,
     "metadata": {},
     "output_type": "execute_result"
    }
   ],
   "source": [
    "len(valid[valid['homologado']==1]), len(valid[valid['homologado']==0])"
   ]
  },
  {
   "cell_type": "markdown",
   "metadata": {},
   "source": [
    "Ao utilizar o ravel(), temos uma saída do tipo (tn, fp, fn, tp). De onde vemos que:\n",
    "\n",
    "\n",
    "- tivemos 1 tn - *true negative*; ou seja, o modelo acertou **apenas um** dos que não tiveram o arquivamento homologado;\n",
    "- tivemos 27 fp - *false positive*; 21 que não tiveram o arquivamento homologado e o modelo classificou como homologado;\n",
    "- tivemos 0 fn - *false negative*; foram homologados e o modelo marcou como não homologados;\n",
    "- tivemos 1527 tp - *true positive*; foram homologados e o modelo marcou corretamente.\n",
    "\n",
    "Logo, apesar da acurácia do modelo aparentar ser muito boa (98% no validation set), o **modelo não sabe lidar com os não arquivamentos** - não acertou nenhum dos que realmente não foram homologados. Ou seja dos 27 que não foram homologados, o modelo errou todos.\n",
    "\n",
    "Fica claro que somente essas features não ajudam na descoberta - o texto da íntegra é, segundo a área negocial, realmente o mais importante.\n",
    "\n",
    "Vamos continuar avaliando esse modelo."
   ]
  },
  {
   "cell_type": "markdown",
   "metadata": {},
   "source": [
    "## Feature importances"
   ]
  },
  {
   "cell_type": "code",
   "execution_count": 32,
   "metadata": {},
   "outputs": [
    {
     "data": {
      "image/png": "[encoded data removed]",
      "text/plain": [
       "<Figure size 432x288 with 1 Axes>"
      ]
     },
     "metadata": {},
     "output_type": "display_data"
    }
   ],
   "source": [
    "import matplotlib.pyplot as plt\n",
    "\n",
    "def plot_fi(feature_importances, size=None):\n",
    "    feature_importances = model.feature_importances_\n",
    "    \n",
    "    if not size:\n",
    "        size = len(feature_importances)\n",
    "    \n",
    "    indices = np.argsort(feature_importances[0:size])\n",
    "    \n",
    "    plt.title('Feature Importances')\n",
    "    plt.barh(range(size), feature_importances[indices], color='b', align='center')\n",
    "    plt.yticks(range(size), [features[i] for i in indices if i < size])\n",
    "    plt.xlabel('Relative Importance')\n",
    "    plt.show()\n",
    "    \n",
    "plot_fi(model.feature_importances_)"
   ]
  },
  {
   "cell_type": "markdown",
   "metadata": {},
   "source": [
    "O modelo está dando muita importância ao município que, considerando o bom senso e um pouco de domínio negocial, não faz sentido - o município não deveria interferir.\n",
    "\n",
    "Lembrar: criar uma coluna para cada uma das listas de palavras-chaves, indicando ausência ou presença"
   ]
  },
  {
   "cell_type": "code",
   "execution_count": 33,
   "metadata": {},
   "outputs": [
    {
     "name": "stdout",
     "output_type": "stream",
     "text": [
      "Accuracy score: 0.9982839982839983 0.9826254826254827\n",
      "Precision score:  0.9826254826254827\n",
      "Recall score:  1.0\n",
      "F1 score:  0.991236611489776\n"
     ]
    }
   ],
   "source": [
    "# Vou retirar as colunas com poucas importância\n",
    "removed_columns = ['homologado', 'dataEntrada', 'dataAutuacao', 'urgente', 'prioritario']\n",
    "features = [c for c in df_work.columns if c not in removed_columns]\n",
    "\n",
    "model = RandomForestClassifier(random_state=42)\n",
    "\n",
    "model.fit(train[features], train['homologado'])\n",
    "\n",
    "train_preds = model.predict(train[features])\n",
    "valid_preds = model.predict(valid[features])\n",
    "\n",
    "print_score()"
   ]
  },
  {
   "cell_type": "code",
   "execution_count": 34,
   "metadata": {},
   "outputs": [
    {
     "data": {
      "text/plain": [
       "array([   0,   27,    0, 1527], dtype=int64)"
      ]
     },
     "execution_count": 34,
     "metadata": {},
     "output_type": "execute_result"
    }
   ],
   "source": [
    "confusion_matrix(valid['homologado'], valid_preds).ravel()"
   ]
  },
  {
   "cell_type": "code",
   "execution_count": 35,
   "metadata": {},
   "outputs": [
    {
     "data": {
      "image/png": "[encoded data removed]",
      "text/plain": [
       "<Figure size 432x288 with 1 Axes>"
      ]
     },
     "metadata": {},
     "output_type": "display_data"
    }
   ],
   "source": [
    "plot_fi(model.feature_importances_)"
   ]
  },
  {
   "cell_type": "markdown",
   "metadata": {},
   "source": [
    "Com as novas features, retirando a urgente e a prioritário, não houve melhorias.\n",
    "\n",
    "Vou retirar a coluna município, pois, ao meu ver, ela não nos parece adequada - e o modelo continua dando muita importância a ela."
   ]
  },
  {
   "cell_type": "code",
   "execution_count": 36,
   "metadata": {},
   "outputs": [
    {
     "name": "stdout",
     "output_type": "stream",
     "text": [
      "Accuracy score: 0.9978549978549979 0.9826254826254827\n",
      "Precision score:  0.9826254826254827\n",
      "Recall score:  1.0\n",
      "F1 score:  0.991236611489776\n"
     ]
    }
   ],
   "source": [
    "removed_columns.append('municipio')\n",
    "removed_columns\n",
    "\n",
    "features = [c for c in df_work.columns if c not in removed_columns]\n",
    "\n",
    "model.fit(train[features], train['homologado'])\n",
    "\n",
    "train_preds = model.predict(train[features])\n",
    "valid_preds = model.predict(valid[features])\n",
    "\n",
    "print_score()"
   ]
  },
  {
   "cell_type": "code",
   "execution_count": 37,
   "metadata": {},
   "outputs": [
    {
     "data": {
      "text/plain": [
       "array([   0,   27,    0, 1527], dtype=int64)"
      ]
     },
     "execution_count": 37,
     "metadata": {},
     "output_type": "execute_result"
    }
   ],
   "source": [
    "confusion_matrix(valid['homologado'], valid_preds).ravel()"
   ]
  },
  {
   "cell_type": "code",
   "execution_count": 38,
   "metadata": {},
   "outputs": [
    {
     "data": {
      "image/png": "[encoded data removed]",
      "text/plain": [
       "<Figure size 432x288 with 1 Axes>"
      ]
     },
     "metadata": {},
     "output_type": "display_data"
    }
   ],
   "source": [
    "plot_fi(model.feature_importances_)"
   ]
  },
  {
   "cell_type": "markdown",
   "metadata": {},
   "source": [
    "Ao retirar a coluna município, nada mudou.\n",
    "\n",
    "Vamos criar um modelo ainda mais simples, apenas com as features cuja importância seja maior que 5%."
   ]
  },
  {
   "cell_type": "code",
   "execution_count": 39,
   "metadata": {},
   "outputs": [
    {
     "name": "stdout",
     "output_type": "stream",
     "text": [
      "Accuracy score: 0.9982839982839983 0.9826254826254827\n",
      "Precision score:  0.9826254826254827\n",
      "Recall score:  1.0\n",
      "F1 score:  0.991236611489776\n"
     ]
    }
   ],
   "source": [
    "model = RandomForestClassifier(random_state=42)\n",
    "\n",
    "important_features = ['membroResponsavel', 'diasTranscorridos', 'itemCnmp', 'quantidadeProvidencias', 'quantidadeConversoes']\n",
    "model.fit(train[important_features], train['homologado'])\n",
    "\n",
    "train_preds = model.predict(train[important_features])\n",
    "valid_preds = model.predict(valid[important_features])\n",
    "\n",
    "print_score()"
   ]
  },
  {
   "cell_type": "code",
   "execution_count": 40,
   "metadata": {},
   "outputs": [
    {
     "data": {
      "text/plain": [
       "array([   0,   27,    0, 1527], dtype=int64)"
      ]
     },
     "execution_count": 40,
     "metadata": {},
     "output_type": "execute_result"
    }
   ],
   "source": [
    "confusion_matrix(valid['homologado'], valid_preds).ravel()"
   ]
  },
  {
   "cell_type": "code",
   "execution_count": 41,
   "metadata": {},
   "outputs": [
    {
     "data": {
      "image/png": "[encoded data removed]",
      "text/plain": [
       "<Figure size 432x288 with 1 Axes>"
      ]
     },
     "metadata": {},
     "output_type": "display_data"
    }
   ],
   "source": [
    "plot_fi(model.feature_importances_)"
   ]
  },
  {
   "cell_type": "markdown",
   "metadata": {},
   "source": [
    "Somente com as features importantes acima, o desempenho se manteve. \n",
    "\n",
    "Interessante notar que a variável diasTranscorridos desapereceu da lista de importâncias.\n",
    "\n",
    "Vamos fazer mais um teste, apenas com as top-3 features"
   ]
  },
  {
   "cell_type": "code",
   "execution_count": 42,
   "metadata": {},
   "outputs": [
    {
     "name": "stdout",
     "output_type": "stream",
     "text": [
      "Accuracy score: 0.9877734877734877 0.98005148005148\n",
      "Precision score:  0.9825806451612903\n",
      "Recall score:  0.9973804846103471\n",
      "F1 score:  0.9899252518687033\n"
     ]
    }
   ],
   "source": [
    "important_features = ['classe', 'areaAtuacao', 'itemCnmp']\n",
    "\n",
    "model = RandomForestClassifier(random_state=42)\n",
    "model.fit(train[important_features], train['homologado'])\n",
    "\n",
    "train_preds = model.predict(train[important_features])\n",
    "valid_preds = model.predict(valid[important_features])\n",
    "\n",
    "print_score()"
   ]
  },
  {
   "cell_type": "code",
   "execution_count": 43,
   "metadata": {},
   "outputs": [
    {
     "data": {
      "text/plain": [
       "array([   0,   27,    4, 1523], dtype=int64)"
      ]
     },
     "execution_count": 43,
     "metadata": {},
     "output_type": "execute_result"
    }
   ],
   "source": [
    "confusion_matrix(valid['homologado'], valid_preds).ravel()"
   ]
  },
  {
   "cell_type": "markdown",
   "metadata": {},
   "source": [
    "Com o modelo mais simples, a acurácia caiu e apareceram false negatives.. \n",
    "\n",
    "Fica claro que não sabe lidar com os não homologados.\n",
    "\n",
    "Vamos passar a considerar o texto das providências."
   ]
  },
  {
   "cell_type": "markdown",
   "metadata": {},
   "source": [
    "## Considerando as providências realizadas"
   ]
  },
  {
   "cell_type": "code",
   "execution_count": 46,
   "metadata": {},
   "outputs": [
    {
     "data": {
      "text/html": [
       "<div>\n",
       "<style scoped>\n",
       "    .dataframe tbody tr th:only-of-type {\n",
       "        vertical-align: middle;\n",
       "    }\n",
       "\n",
       "    .dataframe tbody tr th {\n",
       "        vertical-align: top;\n",
       "    }\n",
       "\n",
       "    .dataframe thead th {\n",
       "        text-align: right;\n",
       "    }\n",
       "</style>\n",
       "<table border=\"1\" class=\"dataframe\">\n",
       "  <thead>\n",
       "    <tr style=\"text-align: right;\">\n",
       "      <th></th>\n",
       "      <th>areaAtuacao</th>\n",
       "      <th>classe</th>\n",
       "      <th>homologado</th>\n",
       "      <th>itemCnmp</th>\n",
       "      <th>membroResponsavel</th>\n",
       "      <th>municipio</th>\n",
       "      <th>quantidadeConversoes</th>\n",
       "      <th>quantidadeProvidencias</th>\n",
       "      <th>textosProvidencias</th>\n",
       "      <th>diasTranscorridos</th>\n",
       "    </tr>\n",
       "  </thead>\n",
       "  <tbody>\n",
       "    <tr>\n",
       "      <th>4489</th>\n",
       "      <td>5</td>\n",
       "      <td>3</td>\n",
       "      <td>1</td>\n",
       "      <td>3071</td>\n",
       "      <td>20038.0</td>\n",
       "      <td>1169</td>\n",
       "      <td>2</td>\n",
       "      <td>4</td>\n",
       "      <td>Converta-se em Inquérito Civil(IC).,Certifica ...</td>\n",
       "      <td>749</td>\n",
       "    </tr>\n",
       "    <tr>\n",
       "      <th>3675</th>\n",
       "      <td>2</td>\n",
       "      <td>3</td>\n",
       "      <td>1</td>\n",
       "      <td>1556</td>\n",
       "      <td>0.0</td>\n",
       "      <td>5115</td>\n",
       "      <td>3</td>\n",
       "      <td>5</td>\n",
       "      <td>Converta-se em Inquérito Civil(IC).,Oficie-se,...</td>\n",
       "      <td>380</td>\n",
       "    </tr>\n",
       "    <tr>\n",
       "      <th>3327</th>\n",
       "      <td>2</td>\n",
       "      <td>3</td>\n",
       "      <td>1</td>\n",
       "      <td>1503</td>\n",
       "      <td>31498.0</td>\n",
       "      <td>3671</td>\n",
       "      <td>3</td>\n",
       "      <td>8</td>\n",
       "      <td>Análise do arquivamento,Converta-se em Inquéri...</td>\n",
       "      <td>492</td>\n",
       "    </tr>\n",
       "    <tr>\n",
       "      <th>3619</th>\n",
       "      <td>2</td>\n",
       "      <td>2</td>\n",
       "      <td>1</td>\n",
       "      <td>1514</td>\n",
       "      <td>25768.0</td>\n",
       "      <td>5459</td>\n",
       "      <td>2</td>\n",
       "      <td>2</td>\n",
       "      <td>Prorroga-se o prazo de finalização do Procedim...</td>\n",
       "      <td>377</td>\n",
       "    </tr>\n",
       "    <tr>\n",
       "      <th>85</th>\n",
       "      <td>2</td>\n",
       "      <td>3</td>\n",
       "      <td>1</td>\n",
       "      <td>1567</td>\n",
       "      <td>64202.0</td>\n",
       "      <td>5026</td>\n",
       "      <td>5</td>\n",
       "      <td>14</td>\n",
       "      <td>Converta-se em Inquérito Civil(IC).,Prorroga-s...</td>\n",
       "      <td>1410</td>\n",
       "    </tr>\n",
       "    <tr>\n",
       "      <th>2317</th>\n",
       "      <td>2</td>\n",
       "      <td>2</td>\n",
       "      <td>1</td>\n",
       "      <td>1753</td>\n",
       "      <td>31555.0</td>\n",
       "      <td>1810</td>\n",
       "      <td>1</td>\n",
       "      <td>1</td>\n",
       "      <td>Converta-se em Procedimento Preparatório(PP).</td>\n",
       "      <td>9</td>\n",
       "    </tr>\n",
       "    <tr>\n",
       "      <th>2219</th>\n",
       "      <td>2</td>\n",
       "      <td>2</td>\n",
       "      <td>1</td>\n",
       "      <td>1811</td>\n",
       "      <td>53295.0</td>\n",
       "      <td>2919</td>\n",
       "      <td>1</td>\n",
       "      <td>2</td>\n",
       "      <td>Analisar Arquivamento,Converta-se em Procedime...</td>\n",
       "      <td>505</td>\n",
       "    </tr>\n",
       "    <tr>\n",
       "      <th>1462</th>\n",
       "      <td>2</td>\n",
       "      <td>2</td>\n",
       "      <td>1</td>\n",
       "      <td>1547</td>\n",
       "      <td>87528.0</td>\n",
       "      <td>2611</td>\n",
       "      <td>2</td>\n",
       "      <td>5</td>\n",
       "      <td>Oficie-se,Prorroga-se o prazo de finalização d...</td>\n",
       "      <td>339</td>\n",
       "    </tr>\n",
       "    <tr>\n",
       "      <th>4432</th>\n",
       "      <td>2</td>\n",
       "      <td>3</td>\n",
       "      <td>1</td>\n",
       "      <td>1731</td>\n",
       "      <td>53252.0</td>\n",
       "      <td>1169</td>\n",
       "      <td>3</td>\n",
       "      <td>13</td>\n",
       "      <td>Converta-se em Inquérito Civil(IC).,Oficie-se,...</td>\n",
       "      <td>547</td>\n",
       "    </tr>\n",
       "    <tr>\n",
       "      <th>872</th>\n",
       "      <td>2</td>\n",
       "      <td>3</td>\n",
       "      <td>1</td>\n",
       "      <td>1514</td>\n",
       "      <td>12363.0</td>\n",
       "      <td>4387</td>\n",
       "      <td>4</td>\n",
       "      <td>14</td>\n",
       "      <td>Despacho Simplificado,Converta-se em Inquérito...</td>\n",
       "      <td>680</td>\n",
       "    </tr>\n",
       "  </tbody>\n",
       "</table>\n",
       "</div>"
      ],
      "text/plain": [
       "      areaAtuacao  classe  homologado  itemCnmp  membroResponsavel  municipio  \\\n",
       "4489            5       3           1      3071            20038.0       1169   \n",
       "3675            2       3           1      1556                0.0       5115   \n",
       "3327            2       3           1      1503            31498.0       3671   \n",
       "3619            2       2           1      1514            25768.0       5459   \n",
       "85              2       3           1      1567            64202.0       5026   \n",
       "2317            2       2           1      1753            31555.0       1810   \n",
       "2219            2       2           1      1811            53295.0       2919   \n",
       "1462            2       2           1      1547            87528.0       2611   \n",
       "4432            2       3           1      1731            53252.0       1169   \n",
       "872             2       3           1      1514            12363.0       4387   \n",
       "\n",
       "      quantidadeConversoes  quantidadeProvidencias  \\\n",
       "4489                     2                       4   \n",
       "3675                     3                       5   \n",
       "3327                     3                       8   \n",
       "3619                     2                       2   \n",
       "85                       5                      14   \n",
       "2317                     1                       1   \n",
       "2219                     1                       2   \n",
       "1462                     2                       5   \n",
       "4432                     3                      13   \n",
       "872                      4                      14   \n",
       "\n",
       "                                     textosProvidencias  diasTranscorridos  \n",
       "4489  Converta-se em Inquérito Civil(IC).,Certifica ...                749  \n",
       "3675  Converta-se em Inquérito Civil(IC).,Oficie-se,...                380  \n",
       "3327  Análise do arquivamento,Converta-se em Inquéri...                492  \n",
       "3619  Prorroga-se o prazo de finalização do Procedim...                377  \n",
       "85    Converta-se em Inquérito Civil(IC).,Prorroga-s...               1410  \n",
       "2317      Converta-se em Procedimento Preparatório(PP).                  9  \n",
       "2219  Analisar Arquivamento,Converta-se em Procedime...                505  \n",
       "1462  Oficie-se,Prorroga-se o prazo de finalização d...                339  \n",
       "4432  Converta-se em Inquérito Civil(IC).,Oficie-se,...                547  \n",
       "872   Despacho Simplificado,Converta-se em Inquérito...                680  "
      ]
     },
     "execution_count": 46,
     "metadata": {},
     "output_type": "execute_result"
    }
   ],
   "source": [
    "df_work = df_original.copy()\n",
    "\n",
    "df_work['dataAutuacao'] = pd.to_datetime(df_work['dataAutuacao'],infer_datetime_format=True)\n",
    "df_work['dataEntrada'] = pd.to_datetime(df_work['dataEntrada'],infer_datetime_format=True)\n",
    "\n",
    "df_work['diasTranscorridos'] = 0\n",
    "for index in range(len(df_work)):\n",
    "    df_work.loc[index, 'diasTranscorridos'] =  np.abs((df_work.loc[index, 'dataEntrada'] - df_work.loc[index, 'dataAutuacao']).days)\n",
    "\n",
    "removed_columns = ['id', 'procedimento', 'identificadorPecaPromocao', 'prioritario', 'urgente', 'dataAutuacao', 'dataEntrada']\n",
    "df_work = df_work.drop(columns=removed_columns)\n",
    "df_work.fillna(0, inplace=True)\n",
    "\n",
    "    \n",
    "df_work.sample(10)"
   ]
  },
  {
   "cell_type": "code",
   "execution_count": 47,
   "metadata": {},
   "outputs": [
    {
     "data": {
      "text/html": [
       "<div>\n",
       "<style scoped>\n",
       "    .dataframe tbody tr th:only-of-type {\n",
       "        vertical-align: middle;\n",
       "    }\n",
       "\n",
       "    .dataframe tbody tr th {\n",
       "        vertical-align: top;\n",
       "    }\n",
       "\n",
       "    .dataframe thead th {\n",
       "        text-align: right;\n",
       "    }\n",
       "</style>\n",
       "<table border=\"1\" class=\"dataframe\">\n",
       "  <thead>\n",
       "    <tr style=\"text-align: right;\">\n",
       "      <th></th>\n",
       "      <th>areaAtuacao</th>\n",
       "      <th>classe</th>\n",
       "      <th>homologado</th>\n",
       "      <th>itemCnmp</th>\n",
       "      <th>membroResponsavel</th>\n",
       "      <th>municipio</th>\n",
       "      <th>quantidadeConversoes</th>\n",
       "      <th>quantidadeProvidencias</th>\n",
       "      <th>diasTranscorridos</th>\n",
       "    </tr>\n",
       "  </thead>\n",
       "  <tbody>\n",
       "    <tr>\n",
       "      <th>count</th>\n",
       "      <td>6.216000e+03</td>\n",
       "      <td>6216.000000</td>\n",
       "      <td>6216.000000</td>\n",
       "      <td>6.216000e+03</td>\n",
       "      <td>6216.000000</td>\n",
       "      <td>6216.000000</td>\n",
       "      <td>6216.000000</td>\n",
       "      <td>6216.000000</td>\n",
       "      <td>6216.000000</td>\n",
       "    </tr>\n",
       "    <tr>\n",
       "      <th>mean</th>\n",
       "      <td>3.240209e+02</td>\n",
       "      <td>2.530727</td>\n",
       "      <td>0.984878</td>\n",
       "      <td>2.407387e+04</td>\n",
       "      <td>33494.188063</td>\n",
       "      <td>2892.811776</td>\n",
       "      <td>2.038288</td>\n",
       "      <td>7.249839</td>\n",
       "      <td>573.746139</td>\n",
       "    </tr>\n",
       "    <tr>\n",
       "      <th>std</th>\n",
       "      <td>2.536836e+04</td>\n",
       "      <td>0.923644</td>\n",
       "      <td>0.122049</td>\n",
       "      <td>2.100612e+05</td>\n",
       "      <td>34487.428708</td>\n",
       "      <td>1671.129519</td>\n",
       "      <td>1.398246</td>\n",
       "      <td>8.758556</td>\n",
       "      <td>603.339753</td>\n",
       "    </tr>\n",
       "    <tr>\n",
       "      <th>min</th>\n",
       "      <td>1.000000e+00</td>\n",
       "      <td>1.000000</td>\n",
       "      <td>0.000000</td>\n",
       "      <td>2.000000e+00</td>\n",
       "      <td>0.000000</td>\n",
       "      <td>1.000000</td>\n",
       "      <td>0.000000</td>\n",
       "      <td>0.000000</td>\n",
       "      <td>0.000000</td>\n",
       "    </tr>\n",
       "    <tr>\n",
       "      <th>25%</th>\n",
       "      <td>2.000000e+00</td>\n",
       "      <td>2.000000</td>\n",
       "      <td>1.000000</td>\n",
       "      <td>1.521000e+03</td>\n",
       "      <td>8592.000000</td>\n",
       "      <td>1388.750000</td>\n",
       "      <td>1.000000</td>\n",
       "      <td>3.000000</td>\n",
       "      <td>176.750000</td>\n",
       "    </tr>\n",
       "    <tr>\n",
       "      <th>50%</th>\n",
       "      <td>2.000000e+00</td>\n",
       "      <td>3.000000</td>\n",
       "      <td>1.000000</td>\n",
       "      <td>1.581500e+03</td>\n",
       "      <td>21293.000000</td>\n",
       "      <td>3078.000000</td>\n",
       "      <td>2.000000</td>\n",
       "      <td>5.000000</td>\n",
       "      <td>361.000000</td>\n",
       "    </tr>\n",
       "    <tr>\n",
       "      <th>75%</th>\n",
       "      <td>2.000000e+00</td>\n",
       "      <td>3.000000</td>\n",
       "      <td>1.000000</td>\n",
       "      <td>1.893000e+03</td>\n",
       "      <td>53296.000000</td>\n",
       "      <td>4321.000000</td>\n",
       "      <td>3.000000</td>\n",
       "      <td>9.000000</td>\n",
       "      <td>760.000000</td>\n",
       "    </tr>\n",
       "    <tr>\n",
       "      <th>max</th>\n",
       "      <td>2.000085e+06</td>\n",
       "      <td>61.000000</td>\n",
       "      <td>1.000000</td>\n",
       "      <td>2.007548e+06</td>\n",
       "      <td>127563.000000</td>\n",
       "      <td>5768.000000</td>\n",
       "      <td>13.000000</td>\n",
       "      <td>161.000000</td>\n",
       "      <td>5879.000000</td>\n",
       "    </tr>\n",
       "  </tbody>\n",
       "</table>\n",
       "</div>"
      ],
      "text/plain": [
       "        areaAtuacao       classe   homologado      itemCnmp  \\\n",
       "count  6.216000e+03  6216.000000  6216.000000  6.216000e+03   \n",
       "mean   3.240209e+02     2.530727     0.984878  2.407387e+04   \n",
       "std    2.536836e+04     0.923644     0.122049  2.100612e+05   \n",
       "min    1.000000e+00     1.000000     0.000000  2.000000e+00   \n",
       "25%    2.000000e+00     2.000000     1.000000  1.521000e+03   \n",
       "50%    2.000000e+00     3.000000     1.000000  1.581500e+03   \n",
       "75%    2.000000e+00     3.000000     1.000000  1.893000e+03   \n",
       "max    2.000085e+06    61.000000     1.000000  2.007548e+06   \n",
       "\n",
       "       membroResponsavel    municipio  quantidadeConversoes  \\\n",
       "count        6216.000000  6216.000000           6216.000000   \n",
       "mean        33494.188063  2892.811776              2.038288   \n",
       "std         34487.428708  1671.129519              1.398246   \n",
       "min             0.000000     1.000000              0.000000   \n",
       "25%          8592.000000  1388.750000              1.000000   \n",
       "50%         21293.000000  3078.000000              2.000000   \n",
       "75%         53296.000000  4321.000000              3.000000   \n",
       "max        127563.000000  5768.000000             13.000000   \n",
       "\n",
       "       quantidadeProvidencias  diasTranscorridos  \n",
       "count             6216.000000        6216.000000  \n",
       "mean                 7.249839         573.746139  \n",
       "std                  8.758556         603.339753  \n",
       "min                  0.000000           0.000000  \n",
       "25%                  3.000000         176.750000  \n",
       "50%                  5.000000         361.000000  \n",
       "75%                  9.000000         760.000000  \n",
       "max                161.000000        5879.000000  "
      ]
     },
     "execution_count": 47,
     "metadata": {},
     "output_type": "execute_result"
    }
   ],
   "source": [
    "df_work.describe()"
   ]
  },
  {
   "cell_type": "code",
   "execution_count": 48,
   "metadata": {},
   "outputs": [],
   "source": [
    "listaProvidencias = []\n",
    "for index in range(len(df_work)):\n",
    "    for s in str(df_work['textosProvidencias'][index]).strip().lower().split(','):\n",
    "        listaProvidencias.append(s)\n",
    "\n",
    "listaProvidencias = set(listaProvidencias)\n",
    "listaProvidencias.remove('análise do arquivamento')\n",
    "listaProvidencias.remove('analisar arquivamento')\n",
    "listaProvidencias.remove('arquive-se na unidade.')"
   ]
  },
  {
   "cell_type": "code",
   "execution_count": 49,
   "metadata": {},
   "outputs": [],
   "source": [
    "df_work = pd.concat([df_work, pd.get_dummies(sorted(list(listaProvidencias)), drop_first=True)], axis=1)"
   ]
  },
  {
   "cell_type": "code",
   "execution_count": 50,
   "metadata": {},
   "outputs": [],
   "source": [
    "for index in range(len(df_work)):\n",
    "    for s in str(df_work.textosProvidencias[index]).strip().split(','):\n",
    "        df_work.at[index, s.lower()] = 1"
   ]
  },
  {
   "cell_type": "code",
   "execution_count": 51,
   "metadata": {},
   "outputs": [
    {
     "data": {
      "text/html": [
       "<div>\n",
       "<style scoped>\n",
       "    .dataframe tbody tr th:only-of-type {\n",
       "        vertical-align: middle;\n",
       "    }\n",
       "\n",
       "    .dataframe tbody tr th {\n",
       "        vertical-align: top;\n",
       "    }\n",
       "\n",
       "    .dataframe thead th {\n",
       "        text-align: right;\n",
       "    }\n",
       "</style>\n",
       "<table border=\"1\" class=\"dataframe\">\n",
       "  <thead>\n",
       "    <tr style=\"text-align: right;\">\n",
       "      <th></th>\n",
       "      <th>areaAtuacao</th>\n",
       "      <th>classe</th>\n",
       "      <th>homologado</th>\n",
       "      <th>itemCnmp</th>\n",
       "      <th>membroResponsavel</th>\n",
       "      <th>municipio</th>\n",
       "      <th>quantidadeConversoes</th>\n",
       "      <th>quantidadeProvidencias</th>\n",
       "      <th>diasTranscorridos</th>\n",
       "      <th>analisar conflito de atribuição</th>\n",
       "      <th>...</th>\n",
       "      <th>recomende-se.</th>\n",
       "      <th>redistribua-se.</th>\n",
       "      <th>requisite-se perícia à ccr/mpf.</th>\n",
       "      <th>sobrestar no setor.</th>\n",
       "      <th>solicitar instauração de inquérito judicial</th>\n",
       "      <th>vistoria</th>\n",
       "      <th>analisar arquivamento</th>\n",
       "      <th>arquive-se na unidade.</th>\n",
       "      <th></th>\n",
       "      <th>análise do arquivamento</th>\n",
       "    </tr>\n",
       "  </thead>\n",
       "  <tbody>\n",
       "    <tr>\n",
       "      <th>count</th>\n",
       "      <td>6.216000e+03</td>\n",
       "      <td>6216.000000</td>\n",
       "      <td>6216.000000</td>\n",
       "      <td>6.216000e+03</td>\n",
       "      <td>6216.000000</td>\n",
       "      <td>6216.000000</td>\n",
       "      <td>6216.000000</td>\n",
       "      <td>6216.000000</td>\n",
       "      <td>6216.000000</td>\n",
       "      <td>109.000000</td>\n",
       "      <td>...</td>\n",
       "      <td>535.000000</td>\n",
       "      <td>599.000000</td>\n",
       "      <td>78.000000</td>\n",
       "      <td>811.000000</td>\n",
       "      <td>69.000000</td>\n",
       "      <td>77.000000</td>\n",
       "      <td>618.0</td>\n",
       "      <td>79.0</td>\n",
       "      <td>107.0</td>\n",
       "      <td>180.0</td>\n",
       "    </tr>\n",
       "    <tr>\n",
       "      <th>mean</th>\n",
       "      <td>3.240209e+02</td>\n",
       "      <td>2.530727</td>\n",
       "      <td>0.984878</td>\n",
       "      <td>2.407387e+04</td>\n",
       "      <td>33494.188063</td>\n",
       "      <td>2892.811776</td>\n",
       "      <td>2.038288</td>\n",
       "      <td>7.249839</td>\n",
       "      <td>573.746139</td>\n",
       "      <td>0.394495</td>\n",
       "      <td>...</td>\n",
       "      <td>0.878505</td>\n",
       "      <td>0.899833</td>\n",
       "      <td>0.141026</td>\n",
       "      <td>0.927250</td>\n",
       "      <td>0.028986</td>\n",
       "      <td>0.129870</td>\n",
       "      <td>1.0</td>\n",
       "      <td>1.0</td>\n",
       "      <td>1.0</td>\n",
       "      <td>1.0</td>\n",
       "    </tr>\n",
       "    <tr>\n",
       "      <th>std</th>\n",
       "      <td>2.536836e+04</td>\n",
       "      <td>0.923644</td>\n",
       "      <td>0.122049</td>\n",
       "      <td>2.100612e+05</td>\n",
       "      <td>34487.428708</td>\n",
       "      <td>1671.129519</td>\n",
       "      <td>1.398246</td>\n",
       "      <td>8.758556</td>\n",
       "      <td>603.339753</td>\n",
       "      <td>0.491000</td>\n",
       "      <td>...</td>\n",
       "      <td>0.327008</td>\n",
       "      <td>0.300473</td>\n",
       "      <td>0.350301</td>\n",
       "      <td>0.259885</td>\n",
       "      <td>0.168995</td>\n",
       "      <td>0.338365</td>\n",
       "      <td>0.0</td>\n",
       "      <td>0.0</td>\n",
       "      <td>0.0</td>\n",
       "      <td>0.0</td>\n",
       "    </tr>\n",
       "    <tr>\n",
       "      <th>min</th>\n",
       "      <td>1.000000e+00</td>\n",
       "      <td>1.000000</td>\n",
       "      <td>0.000000</td>\n",
       "      <td>2.000000e+00</td>\n",
       "      <td>0.000000</td>\n",
       "      <td>1.000000</td>\n",
       "      <td>0.000000</td>\n",
       "      <td>0.000000</td>\n",
       "      <td>0.000000</td>\n",
       "      <td>0.000000</td>\n",
       "      <td>...</td>\n",
       "      <td>0.000000</td>\n",
       "      <td>0.000000</td>\n",
       "      <td>0.000000</td>\n",
       "      <td>0.000000</td>\n",
       "      <td>0.000000</td>\n",
       "      <td>0.000000</td>\n",
       "      <td>1.0</td>\n",
       "      <td>1.0</td>\n",
       "      <td>1.0</td>\n",
       "      <td>1.0</td>\n",
       "    </tr>\n",
       "    <tr>\n",
       "      <th>25%</th>\n",
       "      <td>2.000000e+00</td>\n",
       "      <td>2.000000</td>\n",
       "      <td>1.000000</td>\n",
       "      <td>1.521000e+03</td>\n",
       "      <td>8592.000000</td>\n",
       "      <td>1388.750000</td>\n",
       "      <td>1.000000</td>\n",
       "      <td>3.000000</td>\n",
       "      <td>176.750000</td>\n",
       "      <td>0.000000</td>\n",
       "      <td>...</td>\n",
       "      <td>1.000000</td>\n",
       "      <td>1.000000</td>\n",
       "      <td>0.000000</td>\n",
       "      <td>1.000000</td>\n",
       "      <td>0.000000</td>\n",
       "      <td>0.000000</td>\n",
       "      <td>1.0</td>\n",
       "      <td>1.0</td>\n",
       "      <td>1.0</td>\n",
       "      <td>1.0</td>\n",
       "    </tr>\n",
       "    <tr>\n",
       "      <th>50%</th>\n",
       "      <td>2.000000e+00</td>\n",
       "      <td>3.000000</td>\n",
       "      <td>1.000000</td>\n",
       "      <td>1.581500e+03</td>\n",
       "      <td>21293.000000</td>\n",
       "      <td>3078.000000</td>\n",
       "      <td>2.000000</td>\n",
       "      <td>5.000000</td>\n",
       "      <td>361.000000</td>\n",
       "      <td>0.000000</td>\n",
       "      <td>...</td>\n",
       "      <td>1.000000</td>\n",
       "      <td>1.000000</td>\n",
       "      <td>0.000000</td>\n",
       "      <td>1.000000</td>\n",
       "      <td>0.000000</td>\n",
       "      <td>0.000000</td>\n",
       "      <td>1.0</td>\n",
       "      <td>1.0</td>\n",
       "      <td>1.0</td>\n",
       "      <td>1.0</td>\n",
       "    </tr>\n",
       "    <tr>\n",
       "      <th>75%</th>\n",
       "      <td>2.000000e+00</td>\n",
       "      <td>3.000000</td>\n",
       "      <td>1.000000</td>\n",
       "      <td>1.893000e+03</td>\n",
       "      <td>53296.000000</td>\n",
       "      <td>4321.000000</td>\n",
       "      <td>3.000000</td>\n",
       "      <td>9.000000</td>\n",
       "      <td>760.000000</td>\n",
       "      <td>1.000000</td>\n",
       "      <td>...</td>\n",
       "      <td>1.000000</td>\n",
       "      <td>1.000000</td>\n",
       "      <td>0.000000</td>\n",
       "      <td>1.000000</td>\n",
       "      <td>0.000000</td>\n",
       "      <td>0.000000</td>\n",
       "      <td>1.0</td>\n",
       "      <td>1.0</td>\n",
       "      <td>1.0</td>\n",
       "      <td>1.0</td>\n",
       "    </tr>\n",
       "    <tr>\n",
       "      <th>max</th>\n",
       "      <td>2.000085e+06</td>\n",
       "      <td>61.000000</td>\n",
       "      <td>1.000000</td>\n",
       "      <td>2.007548e+06</td>\n",
       "      <td>127563.000000</td>\n",
       "      <td>5768.000000</td>\n",
       "      <td>13.000000</td>\n",
       "      <td>161.000000</td>\n",
       "      <td>5879.000000</td>\n",
       "      <td>1.000000</td>\n",
       "      <td>...</td>\n",
       "      <td>1.000000</td>\n",
       "      <td>1.000000</td>\n",
       "      <td>1.000000</td>\n",
       "      <td>1.000000</td>\n",
       "      <td>1.000000</td>\n",
       "      <td>1.000000</td>\n",
       "      <td>1.0</td>\n",
       "      <td>1.0</td>\n",
       "      <td>1.0</td>\n",
       "      <td>1.0</td>\n",
       "    </tr>\n",
       "  </tbody>\n",
       "</table>\n",
       "<p>8 rows × 80 columns</p>\n",
       "</div>"
      ],
      "text/plain": [
       "        areaAtuacao       classe   homologado      itemCnmp  \\\n",
       "count  6.216000e+03  6216.000000  6216.000000  6.216000e+03   \n",
       "mean   3.240209e+02     2.530727     0.984878  2.407387e+04   \n",
       "std    2.536836e+04     0.923644     0.122049  2.100612e+05   \n",
       "min    1.000000e+00     1.000000     0.000000  2.000000e+00   \n",
       "25%    2.000000e+00     2.000000     1.000000  1.521000e+03   \n",
       "50%    2.000000e+00     3.000000     1.000000  1.581500e+03   \n",
       "75%    2.000000e+00     3.000000     1.000000  1.893000e+03   \n",
       "max    2.000085e+06    61.000000     1.000000  2.007548e+06   \n",
       "\n",
       "       membroResponsavel    municipio  quantidadeConversoes  \\\n",
       "count        6216.000000  6216.000000           6216.000000   \n",
       "mean        33494.188063  2892.811776              2.038288   \n",
       "std         34487.428708  1671.129519              1.398246   \n",
       "min             0.000000     1.000000              0.000000   \n",
       "25%          8592.000000  1388.750000              1.000000   \n",
       "50%         21293.000000  3078.000000              2.000000   \n",
       "75%         53296.000000  4321.000000              3.000000   \n",
       "max        127563.000000  5768.000000             13.000000   \n",
       "\n",
       "       quantidadeProvidencias  diasTranscorridos  \\\n",
       "count             6216.000000        6216.000000   \n",
       "mean                 7.249839         573.746139   \n",
       "std                  8.758556         603.339753   \n",
       "min                  0.000000           0.000000   \n",
       "25%                  3.000000         176.750000   \n",
       "50%                  5.000000         361.000000   \n",
       "75%                  9.000000         760.000000   \n",
       "max                161.000000        5879.000000   \n",
       "\n",
       "       analisar conflito de atribuição           ...             \\\n",
       "count                       109.000000           ...              \n",
       "mean                          0.394495           ...              \n",
       "std                           0.491000           ...              \n",
       "min                           0.000000           ...              \n",
       "25%                           0.000000           ...              \n",
       "50%                           0.000000           ...              \n",
       "75%                           1.000000           ...              \n",
       "max                           1.000000           ...              \n",
       "\n",
       "       recomende-se.  redistribua-se.  requisite-se perícia à ccr/mpf.  \\\n",
       "count     535.000000       599.000000                        78.000000   \n",
       "mean        0.878505         0.899833                         0.141026   \n",
       "std         0.327008         0.300473                         0.350301   \n",
       "min         0.000000         0.000000                         0.000000   \n",
       "25%         1.000000         1.000000                         0.000000   \n",
       "50%         1.000000         1.000000                         0.000000   \n",
       "75%         1.000000         1.000000                         0.000000   \n",
       "max         1.000000         1.000000                         1.000000   \n",
       "\n",
       "       sobrestar no setor.  solicitar instauração de inquérito judicial  \\\n",
       "count           811.000000                                    69.000000   \n",
       "mean              0.927250                                     0.028986   \n",
       "std               0.259885                                     0.168995   \n",
       "min               0.000000                                     0.000000   \n",
       "25%               1.000000                                     0.000000   \n",
       "50%               1.000000                                     0.000000   \n",
       "75%               1.000000                                     0.000000   \n",
       "max               1.000000                                     1.000000   \n",
       "\n",
       "        vistoria  analisar arquivamento  arquive-se na unidade.         \\\n",
       "count  77.000000                  618.0                    79.0  107.0   \n",
       "mean    0.129870                    1.0                     1.0    1.0   \n",
       "std     0.338365                    0.0                     0.0    0.0   \n",
       "min     0.000000                    1.0                     1.0    1.0   \n",
       "25%     0.000000                    1.0                     1.0    1.0   \n",
       "50%     0.000000                    1.0                     1.0    1.0   \n",
       "75%     0.000000                    1.0                     1.0    1.0   \n",
       "max     1.000000                    1.0                     1.0    1.0   \n",
       "\n",
       "       análise do arquivamento  \n",
       "count                    180.0  \n",
       "mean                       1.0  \n",
       "std                        0.0  \n",
       "min                        1.0  \n",
       "25%                        1.0  \n",
       "50%                        1.0  \n",
       "75%                        1.0  \n",
       "max                        1.0  \n",
       "\n",
       "[8 rows x 80 columns]"
      ]
     },
     "execution_count": 51,
     "metadata": {},
     "output_type": "execute_result"
    }
   ],
   "source": [
    "df_work.describe()"
   ]
  },
  {
   "cell_type": "code",
   "execution_count": 52,
   "metadata": {},
   "outputs": [
    {
     "data": {
      "text/html": [
       "<div>\n",
       "<style scoped>\n",
       "    .dataframe tbody tr th:only-of-type {\n",
       "        vertical-align: middle;\n",
       "    }\n",
       "\n",
       "    .dataframe tbody tr th {\n",
       "        vertical-align: top;\n",
       "    }\n",
       "\n",
       "    .dataframe thead th {\n",
       "        text-align: right;\n",
       "    }\n",
       "</style>\n",
       "<table border=\"1\" class=\"dataframe\">\n",
       "  <thead>\n",
       "    <tr style=\"text-align: right;\">\n",
       "      <th></th>\n",
       "      <th>areaAtuacao</th>\n",
       "      <th>classe</th>\n",
       "      <th>homologado</th>\n",
       "      <th>itemCnmp</th>\n",
       "      <th>membroResponsavel</th>\n",
       "      <th>municipio</th>\n",
       "      <th>quantidadeConversoes</th>\n",
       "      <th>quantidadeProvidencias</th>\n",
       "      <th>textosProvidencias</th>\n",
       "      <th>diasTranscorridos</th>\n",
       "      <th>...</th>\n",
       "      <th>recomende-se.</th>\n",
       "      <th>redistribua-se.</th>\n",
       "      <th>requisite-se perícia à ccr/mpf.</th>\n",
       "      <th>sobrestar no setor.</th>\n",
       "      <th>solicitar instauração de inquérito judicial</th>\n",
       "      <th>vistoria</th>\n",
       "      <th>analisar arquivamento</th>\n",
       "      <th>arquive-se na unidade.</th>\n",
       "      <th></th>\n",
       "      <th>análise do arquivamento</th>\n",
       "    </tr>\n",
       "  </thead>\n",
       "  <tbody>\n",
       "    <tr>\n",
       "      <th>0</th>\n",
       "      <td>2</td>\n",
       "      <td>3</td>\n",
       "      <td>1</td>\n",
       "      <td>3078</td>\n",
       "      <td>53306.0</td>\n",
       "      <td>2733</td>\n",
       "      <td>1</td>\n",
       "      <td>3</td>\n",
       "      <td>Despacho Simplificado,Converta-se em Inquérito...</td>\n",
       "      <td>279</td>\n",
       "      <td>...</td>\n",
       "      <td>0.0</td>\n",
       "      <td>0.0</td>\n",
       "      <td>0.0</td>\n",
       "      <td>0.0</td>\n",
       "      <td>0.0</td>\n",
       "      <td>0.0</td>\n",
       "      <td>NaN</td>\n",
       "      <td>NaN</td>\n",
       "      <td>NaN</td>\n",
       "      <td>NaN</td>\n",
       "    </tr>\n",
       "    <tr>\n",
       "      <th>1</th>\n",
       "      <td>2</td>\n",
       "      <td>3</td>\n",
       "      <td>1</td>\n",
       "      <td>1515</td>\n",
       "      <td>4575.0</td>\n",
       "      <td>4108</td>\n",
       "      <td>5</td>\n",
       "      <td>17</td>\n",
       "      <td>Encaminhe-se o auto.,Analisar Arquivamento,Ofi...</td>\n",
       "      <td>1947</td>\n",
       "      <td>...</td>\n",
       "      <td>0.0</td>\n",
       "      <td>0.0</td>\n",
       "      <td>0.0</td>\n",
       "      <td>0.0</td>\n",
       "      <td>0.0</td>\n",
       "      <td>0.0</td>\n",
       "      <td>1.0</td>\n",
       "      <td>NaN</td>\n",
       "      <td>NaN</td>\n",
       "      <td>NaN</td>\n",
       "    </tr>\n",
       "    <tr>\n",
       "      <th>2</th>\n",
       "      <td>2</td>\n",
       "      <td>3</td>\n",
       "      <td>1</td>\n",
       "      <td>1542</td>\n",
       "      <td>17795.0</td>\n",
       "      <td>5296</td>\n",
       "      <td>2</td>\n",
       "      <td>4</td>\n",
       "      <td>Converta-se em Inquérito Civil(IC).,Oficie-se....</td>\n",
       "      <td>367</td>\n",
       "      <td>...</td>\n",
       "      <td>0.0</td>\n",
       "      <td>0.0</td>\n",
       "      <td>0.0</td>\n",
       "      <td>0.0</td>\n",
       "      <td>0.0</td>\n",
       "      <td>0.0</td>\n",
       "      <td>NaN</td>\n",
       "      <td>NaN</td>\n",
       "      <td>NaN</td>\n",
       "      <td>NaN</td>\n",
       "    </tr>\n",
       "    <tr>\n",
       "      <th>3</th>\n",
       "      <td>2</td>\n",
       "      <td>3</td>\n",
       "      <td>1</td>\n",
       "      <td>3058</td>\n",
       "      <td>5262.0</td>\n",
       "      <td>3573</td>\n",
       "      <td>3</td>\n",
       "      <td>9</td>\n",
       "      <td>Converta-se em Inquérito Civil(IC).,Analisar A...</td>\n",
       "      <td>1030</td>\n",
       "      <td>...</td>\n",
       "      <td>0.0</td>\n",
       "      <td>1.0</td>\n",
       "      <td>0.0</td>\n",
       "      <td>0.0</td>\n",
       "      <td>0.0</td>\n",
       "      <td>0.0</td>\n",
       "      <td>1.0</td>\n",
       "      <td>NaN</td>\n",
       "      <td>NaN</td>\n",
       "      <td>NaN</td>\n",
       "    </tr>\n",
       "    <tr>\n",
       "      <th>4</th>\n",
       "      <td>2</td>\n",
       "      <td>3</td>\n",
       "      <td>1</td>\n",
       "      <td>1521</td>\n",
       "      <td>53306.0</td>\n",
       "      <td>2561</td>\n",
       "      <td>1</td>\n",
       "      <td>2</td>\n",
       "      <td>Converta-se em Inquérito Civil(IC).,Cumpra-se.</td>\n",
       "      <td>552</td>\n",
       "      <td>...</td>\n",
       "      <td>0.0</td>\n",
       "      <td>0.0</td>\n",
       "      <td>0.0</td>\n",
       "      <td>0.0</td>\n",
       "      <td>0.0</td>\n",
       "      <td>0.0</td>\n",
       "      <td>NaN</td>\n",
       "      <td>NaN</td>\n",
       "      <td>NaN</td>\n",
       "      <td>NaN</td>\n",
       "    </tr>\n",
       "  </tbody>\n",
       "</table>\n",
       "<p>5 rows × 81 columns</p>\n",
       "</div>"
      ],
      "text/plain": [
       "   areaAtuacao  classe  homologado  itemCnmp  membroResponsavel  municipio  \\\n",
       "0            2       3           1      3078            53306.0       2733   \n",
       "1            2       3           1      1515             4575.0       4108   \n",
       "2            2       3           1      1542            17795.0       5296   \n",
       "3            2       3           1      3058             5262.0       3573   \n",
       "4            2       3           1      1521            53306.0       2561   \n",
       "\n",
       "   quantidadeConversoes  quantidadeProvidencias  \\\n",
       "0                     1                       3   \n",
       "1                     5                      17   \n",
       "2                     2                       4   \n",
       "3                     3                       9   \n",
       "4                     1                       2   \n",
       "\n",
       "                                  textosProvidencias  diasTranscorridos  \\\n",
       "0  Despacho Simplificado,Converta-se em Inquérito...                279   \n",
       "1  Encaminhe-se o auto.,Analisar Arquivamento,Ofi...               1947   \n",
       "2  Converta-se em Inquérito Civil(IC).,Oficie-se....                367   \n",
       "3  Converta-se em Inquérito Civil(IC).,Analisar A...               1030   \n",
       "4     Converta-se em Inquérito Civil(IC).,Cumpra-se.                552   \n",
       "\n",
       "            ...             recomende-se.  redistribua-se.  \\\n",
       "0           ...                       0.0              0.0   \n",
       "1           ...                       0.0              0.0   \n",
       "2           ...                       0.0              0.0   \n",
       "3           ...                       0.0              1.0   \n",
       "4           ...                       0.0              0.0   \n",
       "\n",
       "   requisite-se perícia à ccr/mpf.  sobrestar no setor.  \\\n",
       "0                              0.0                  0.0   \n",
       "1                              0.0                  0.0   \n",
       "2                              0.0                  0.0   \n",
       "3                              0.0                  0.0   \n",
       "4                              0.0                  0.0   \n",
       "\n",
       "   solicitar instauração de inquérito judicial  vistoria  \\\n",
       "0                                          0.0       0.0   \n",
       "1                                          0.0       0.0   \n",
       "2                                          0.0       0.0   \n",
       "3                                          0.0       0.0   \n",
       "4                                          0.0       0.0   \n",
       "\n",
       "   analisar arquivamento  arquive-se na unidade.      análise do arquivamento  \n",
       "0                    NaN                     NaN NaN                      NaN  \n",
       "1                    1.0                     NaN NaN                      NaN  \n",
       "2                    NaN                     NaN NaN                      NaN  \n",
       "3                    1.0                     NaN NaN                      NaN  \n",
       "4                    NaN                     NaN NaN                      NaN  \n",
       "\n",
       "[5 rows x 81 columns]"
      ]
     },
     "execution_count": 52,
     "metadata": {},
     "output_type": "execute_result"
    }
   ],
   "source": [
    "df_work.head()"
   ]
  },
  {
   "cell_type": "code",
   "execution_count": 53,
   "metadata": {},
   "outputs": [],
   "source": [
    "df_work.fillna(0, inplace=True)"
   ]
  },
  {
   "cell_type": "code",
   "execution_count": 54,
   "metadata": {},
   "outputs": [],
   "source": [
    "removed_columns = ['homologado', 'textosProvidencias']\n",
    "features = [c for c in df_work.columns if c not in removed_columns]"
   ]
  },
  {
   "cell_type": "code",
   "execution_count": 55,
   "metadata": {},
   "outputs": [
    {
     "data": {
      "text/plain": [
       "RandomForestClassifier(bootstrap=True, class_weight=None, criterion='gini',\n",
       "            max_depth=None, max_features='auto', max_leaf_nodes=None,\n",
       "            min_impurity_decrease=0.0, min_impurity_split=None,\n",
       "            min_samples_leaf=1, min_samples_split=2,\n",
       "            min_weight_fraction_leaf=0.0, n_estimators=10, n_jobs=1,\n",
       "            oob_score=False, random_state=42, verbose=0, warm_start=False)"
      ]
     },
     "execution_count": 55,
     "metadata": {},
     "output_type": "execute_result"
    }
   ],
   "source": [
    "train, valid = train_test_split(df_work, random_state=42)\n",
    "\n",
    "model = RandomForestClassifier(random_state=42)\n",
    "model.fit(train[features], train['homologado'])"
   ]
  },
  {
   "cell_type": "code",
   "execution_count": 56,
   "metadata": {},
   "outputs": [
    {
     "name": "stdout",
     "output_type": "stream",
     "text": [
      "Accuracy score: 0.9982839982839983 0.9819819819819819\n",
      "Precision score:  0.9826142949130715\n",
      "Recall score:  0.9993451211525868\n",
      "F1 score:  0.9909090909090911\n"
     ]
    }
   ],
   "source": [
    "train_preds = model.predict(train[features])\n",
    "valid_preds = model.predict(valid[features])\n",
    "\n",
    "print_score()"
   ]
  },
  {
   "cell_type": "code",
   "execution_count": 57,
   "metadata": {},
   "outputs": [
    {
     "data": {
      "text/plain": [
       "array([   0,   27,    1, 1526], dtype=int64)"
      ]
     },
     "execution_count": 57,
     "metadata": {},
     "output_type": "execute_result"
    }
   ],
   "source": [
    "confusion_matrix(valid['homologado'], valid_preds).ravel()"
   ]
  },
  {
   "cell_type": "code",
   "execution_count": 58,
   "metadata": {},
   "outputs": [
    {
     "data": {
      "image/png": "[encoded data removed]",
      "text/plain": [
       "<Figure size 432x288 with 1 Axes>"
      ]
     },
     "metadata": {},
     "output_type": "display_data"
    }
   ],
   "source": [
    "plot_fi(model.feature_importances_, 20)"
   ]
  },
  {
   "cell_type": "markdown",
   "metadata": {},
   "source": [
    "O uso dos textos das providências não aumentou a precisão do modelo (e elas também não foram features importantes) - na verdade, piorou.\n",
    "\n",
    "Vamos voltar ao modelo mais simples, sem os textos das providências e tentar melhorar os hiperparâmetros."
   ]
  },
  {
   "cell_type": "markdown",
   "metadata": {},
   "source": [
    "## Voltando ao modelo mais simples (sem considerar quais providências foram realizadas)"
   ]
  },
  {
   "cell_type": "code",
   "execution_count": 59,
   "metadata": {},
   "outputs": [
    {
     "data": {
      "text/html": [
       "<div>\n",
       "<style scoped>\n",
       "    .dataframe tbody tr th:only-of-type {\n",
       "        vertical-align: middle;\n",
       "    }\n",
       "\n",
       "    .dataframe tbody tr th {\n",
       "        vertical-align: top;\n",
       "    }\n",
       "\n",
       "    .dataframe thead th {\n",
       "        text-align: right;\n",
       "    }\n",
       "</style>\n",
       "<table border=\"1\" class=\"dataframe\">\n",
       "  <thead>\n",
       "    <tr style=\"text-align: right;\">\n",
       "      <th></th>\n",
       "      <th>areaAtuacao</th>\n",
       "      <th>classe</th>\n",
       "      <th>homologado</th>\n",
       "      <th>itemCnmp</th>\n",
       "      <th>membroResponsavel</th>\n",
       "      <th>municipio</th>\n",
       "      <th>quantidadeConversoes</th>\n",
       "      <th>quantidadeProvidencias</th>\n",
       "      <th>textosProvidencias</th>\n",
       "      <th>diasTranscorridos</th>\n",
       "    </tr>\n",
       "  </thead>\n",
       "  <tbody>\n",
       "    <tr>\n",
       "      <th>3942</th>\n",
       "      <td>2</td>\n",
       "      <td>3</td>\n",
       "      <td>1</td>\n",
       "      <td>3147</td>\n",
       "      <td>0.0</td>\n",
       "      <td>618</td>\n",
       "      <td>4</td>\n",
       "      <td>17</td>\n",
       "      <td>Converta-se em Inquérito Civil(IC).,Certifica ...</td>\n",
       "      <td>1097</td>\n",
       "    </tr>\n",
       "    <tr>\n",
       "      <th>6027</th>\n",
       "      <td>2</td>\n",
       "      <td>2</td>\n",
       "      <td>1</td>\n",
       "      <td>1506</td>\n",
       "      <td>87457.0</td>\n",
       "      <td>2</td>\n",
       "      <td>1</td>\n",
       "      <td>2</td>\n",
       "      <td>Analisar Arquivamento,Converta-se em Procedime...</td>\n",
       "      <td>230</td>\n",
       "    </tr>\n",
       "    <tr>\n",
       "      <th>5702</th>\n",
       "      <td>2</td>\n",
       "      <td>2</td>\n",
       "      <td>1</td>\n",
       "      <td>1521</td>\n",
       "      <td>27032.0</td>\n",
       "      <td>1214</td>\n",
       "      <td>2</td>\n",
       "      <td>5</td>\n",
       "      <td>Oficie-se.,Prorroga-se o prazo de finalização ...</td>\n",
       "      <td>202</td>\n",
       "    </tr>\n",
       "    <tr>\n",
       "      <th>988</th>\n",
       "      <td>2</td>\n",
       "      <td>3</td>\n",
       "      <td>1</td>\n",
       "      <td>1521</td>\n",
       "      <td>53245.0</td>\n",
       "      <td>3689</td>\n",
       "      <td>5</td>\n",
       "      <td>33</td>\n",
       "      <td>Despacho Simplificado,Encaminhe-se o auto.,Con...</td>\n",
       "      <td>1046</td>\n",
       "    </tr>\n",
       "    <tr>\n",
       "      <th>1642</th>\n",
       "      <td>2</td>\n",
       "      <td>2</td>\n",
       "      <td>1</td>\n",
       "      <td>3119</td>\n",
       "      <td>17209.0</td>\n",
       "      <td>4918</td>\n",
       "      <td>2</td>\n",
       "      <td>8</td>\n",
       "      <td>Oficie-se.,Prorroga-se o prazo de finalização ...</td>\n",
       "      <td>283</td>\n",
       "    </tr>\n",
       "    <tr>\n",
       "      <th>51</th>\n",
       "      <td>2</td>\n",
       "      <td>2</td>\n",
       "      <td>1</td>\n",
       "      <td>57</td>\n",
       "      <td>23450.0</td>\n",
       "      <td>1996</td>\n",
       "      <td>3</td>\n",
       "      <td>7</td>\n",
       "      <td>Despacho Simplificado,Oficie-se.,Prorroga-se o...</td>\n",
       "      <td>233</td>\n",
       "    </tr>\n",
       "    <tr>\n",
       "      <th>1758</th>\n",
       "      <td>2</td>\n",
       "      <td>3</td>\n",
       "      <td>1</td>\n",
       "      <td>3047</td>\n",
       "      <td>3653.0</td>\n",
       "      <td>1443</td>\n",
       "      <td>3</td>\n",
       "      <td>7</td>\n",
       "      <td>Converta-se em Inquérito Civil(IC).,Oficie-se....</td>\n",
       "      <td>381</td>\n",
       "    </tr>\n",
       "    <tr>\n",
       "      <th>2135</th>\n",
       "      <td>2</td>\n",
       "      <td>3</td>\n",
       "      <td>1</td>\n",
       "      <td>1721</td>\n",
       "      <td>2663.0</td>\n",
       "      <td>3113</td>\n",
       "      <td>2</td>\n",
       "      <td>12</td>\n",
       "      <td>Converta-se em Inquérito Civil(IC).,Junte-se.,...</td>\n",
       "      <td>392</td>\n",
       "    </tr>\n",
       "    <tr>\n",
       "      <th>5912</th>\n",
       "      <td>2</td>\n",
       "      <td>2</td>\n",
       "      <td>1</td>\n",
       "      <td>1654</td>\n",
       "      <td>23212.0</td>\n",
       "      <td>2211</td>\n",
       "      <td>0</td>\n",
       "      <td>3</td>\n",
       "      <td>Sobrestar no setor.,Oficie-se.</td>\n",
       "      <td>133</td>\n",
       "    </tr>\n",
       "    <tr>\n",
       "      <th>596</th>\n",
       "      <td>2</td>\n",
       "      <td>3</td>\n",
       "      <td>1</td>\n",
       "      <td>2310</td>\n",
       "      <td>31446.0</td>\n",
       "      <td>2292</td>\n",
       "      <td>4</td>\n",
       "      <td>16</td>\n",
       "      <td>Converta-se em Inquérito Civil(IC).,Sobrestar ...</td>\n",
       "      <td>1392</td>\n",
       "    </tr>\n",
       "  </tbody>\n",
       "</table>\n",
       "</div>"
      ],
      "text/plain": [
       "      areaAtuacao  classe  homologado  itemCnmp  membroResponsavel  municipio  \\\n",
       "3942            2       3           1      3147                0.0        618   \n",
       "6027            2       2           1      1506            87457.0          2   \n",
       "5702            2       2           1      1521            27032.0       1214   \n",
       "988             2       3           1      1521            53245.0       3689   \n",
       "1642            2       2           1      3119            17209.0       4918   \n",
       "51              2       2           1        57            23450.0       1996   \n",
       "1758            2       3           1      3047             3653.0       1443   \n",
       "2135            2       3           1      1721             2663.0       3113   \n",
       "5912            2       2           1      1654            23212.0       2211   \n",
       "596             2       3           1      2310            31446.0       2292   \n",
       "\n",
       "      quantidadeConversoes  quantidadeProvidencias  \\\n",
       "3942                     4                      17   \n",
       "6027                     1                       2   \n",
       "5702                     2                       5   \n",
       "988                      5                      33   \n",
       "1642                     2                       8   \n",
       "51                       3                       7   \n",
       "1758                     3                       7   \n",
       "2135                     2                      12   \n",
       "5912                     0                       3   \n",
       "596                      4                      16   \n",
       "\n",
       "                                     textosProvidencias  diasTranscorridos  \n",
       "3942  Converta-se em Inquérito Civil(IC).,Certifica ...               1097  \n",
       "6027  Analisar Arquivamento,Converta-se em Procedime...                230  \n",
       "5702  Oficie-se.,Prorroga-se o prazo de finalização ...                202  \n",
       "988   Despacho Simplificado,Encaminhe-se o auto.,Con...               1046  \n",
       "1642  Oficie-se.,Prorroga-se o prazo de finalização ...                283  \n",
       "51    Despacho Simplificado,Oficie-se.,Prorroga-se o...                233  \n",
       "1758  Converta-se em Inquérito Civil(IC).,Oficie-se....                381  \n",
       "2135  Converta-se em Inquérito Civil(IC).,Junte-se.,...                392  \n",
       "5912                     Sobrestar no setor.,Oficie-se.                133  \n",
       "596   Converta-se em Inquérito Civil(IC).,Sobrestar ...               1392  "
      ]
     },
     "execution_count": 59,
     "metadata": {},
     "output_type": "execute_result"
    }
   ],
   "source": [
    "df_work = df_original.copy()\n",
    "\n",
    "df_work['dataAutuacao'] = pd.to_datetime(df_work['dataAutuacao'],infer_datetime_format=True)\n",
    "df_work['dataEntrada'] = pd.to_datetime(df_work['dataEntrada'],infer_datetime_format=True)\n",
    "\n",
    "df_work['diasTranscorridos'] = 0\n",
    "for index in range(len(df_work)):\n",
    "    df_work.loc[index, 'diasTranscorridos'] =  np.abs((df_work.loc[index, 'dataEntrada'] - df_work.loc[index, 'dataAutuacao']).days)\n",
    "\n",
    "removed_columns = ['id', 'procedimento', 'identificadorPecaPromocao', 'prioritario', 'urgente', 'dataAutuacao', 'dataEntrada']\n",
    "df_work = df_work.drop(columns=removed_columns)\n",
    "df_work.fillna(0, inplace=True)\n",
    "\n",
    "    \n",
    "df_work.sample(10)"
   ]
  },
  {
   "cell_type": "code",
   "execution_count": 72,
   "metadata": {
    "scrolled": true
   },
   "outputs": [],
   "source": [
    "removed_columns = ['homologado', 'textosProvidencias']\n",
    "features = [c for c in df_work.columns if c not in removed_columns]\n",
    "\n",
    "train, valid = train_test_split(df_work, random_state=42)"
   ]
  },
  {
   "cell_type": "code",
   "execution_count": 75,
   "metadata": {},
   "outputs": [
    {
     "data": {
      "text/plain": [
       "RandomForestClassifier(bootstrap=True, class_weight=None, criterion='gini',\n",
       "            max_depth=None, max_features='auto', max_leaf_nodes=None,\n",
       "            min_impurity_decrease=0.0, min_impurity_split=None,\n",
       "            min_samples_leaf=1, min_samples_split=2,\n",
       "            min_weight_fraction_leaf=0.0, n_estimators=10, n_jobs=1,\n",
       "            oob_score=False, random_state=42, verbose=0, warm_start=False)"
      ]
     },
     "execution_count": 75,
     "metadata": {},
     "output_type": "execute_result"
    }
   ],
   "source": [
    "model = RandomForestClassifier(random_state=42); model"
   ]
  },
  {
   "cell_type": "code",
   "execution_count": 76,
   "metadata": {},
   "outputs": [
    {
     "name": "stdout",
     "output_type": "stream",
     "text": [
      "Accuracy score: 0.9982839982839983 0.9826254826254827\n",
      "Precision score:  0.9826254826254827\n",
      "Recall score:  1.0\n",
      "F1 score:  0.991236611489776\n"
     ]
    }
   ],
   "source": [
    "model.fit(train[features], train['homologado'])\n",
    "\n",
    "train_preds = model.predict(train[features])\n",
    "valid_preds = model.predict(valid[features])\n",
    "\n",
    "print_score()"
   ]
  },
  {
   "cell_type": "code",
   "execution_count": 77,
   "metadata": {},
   "outputs": [
    {
     "data": {
      "text/plain": [
       "array([   0,   27,    0, 1527], dtype=int64)"
      ]
     },
     "execution_count": 77,
     "metadata": {},
     "output_type": "execute_result"
    }
   ],
   "source": [
    "confusion_matrix(valid['homologado'], valid_preds).ravel()"
   ]
  },
  {
   "cell_type": "markdown",
   "metadata": {},
   "source": [
    "### Aumentando o número de árvores"
   ]
  },
  {
   "cell_type": "code",
   "execution_count": 78,
   "metadata": {},
   "outputs": [
    {
     "name": "stdout",
     "output_type": "stream",
     "text": [
      "Accuracy score: 1.0 0.9826254826254827\n",
      "Precision score:  0.9826254826254827\n",
      "Recall score:  1.0\n",
      "F1 score:  0.991236611489776\n"
     ]
    }
   ],
   "source": [
    "model = RandomForestClassifier(random_state=42, n_estimators=100)\n",
    "model.fit(train[features], train['homologado'])\n",
    "confusion_matrix(valid['homologado'], valid_preds).ravel()\n",
    "train_preds = model.predict(train[features])\n",
    "valid_preds = model.predict(valid[features])\n",
    "\n",
    "print_score()"
   ]
  },
  {
   "cell_type": "code",
   "execution_count": 79,
   "metadata": {},
   "outputs": [
    {
     "data": {
      "text/plain": [
       "array([   0,   27,    0, 1527], dtype=int64)"
      ]
     },
     "execution_count": 79,
     "metadata": {},
     "output_type": "execute_result"
    }
   ],
   "source": [
    "confusion_matrix(valid['homologado'], valid_preds).ravel()"
   ]
  },
  {
   "cell_type": "code",
   "execution_count": 80,
   "metadata": {
    "scrolled": true
   },
   "outputs": [
    {
     "name": "stdout",
     "output_type": "stream",
     "text": [
      "Accuracy score: 1.0 0.9826254826254827\n",
      "Precision score:  0.9826254826254827\n",
      "Recall score:  1.0\n",
      "F1 score:  0.991236611489776\n"
     ]
    }
   ],
   "source": [
    "model = RandomForestClassifier(random_state=42, n_estimators=1000)\n",
    "model.fit(train[features], train['homologado'])\n",
    "confusion_matrix(valid['homologado'], valid_preds).ravel()\n",
    "train_preds = model.predict(train[features])\n",
    "valid_preds = model.predict(valid[features])\n",
    "\n",
    "print_score()"
   ]
  },
  {
   "cell_type": "code",
   "execution_count": 81,
   "metadata": {},
   "outputs": [
    {
     "data": {
      "text/plain": [
       "array([   0,   27,    0, 1527], dtype=int64)"
      ]
     },
     "execution_count": 81,
     "metadata": {},
     "output_type": "execute_result"
    }
   ],
   "source": [
    "confusion_matrix(valid['homologado'], valid_preds).ravel()"
   ]
  },
  {
   "cell_type": "code",
   "execution_count": 82,
   "metadata": {},
   "outputs": [
    {
     "name": "stdout",
     "output_type": "stream",
     "text": [
      "Accuracy score: 1.0 0.9826254826254827\n",
      "Precision score:  0.9826254826254827\n",
      "Recall score:  1.0\n",
      "F1 score:  0.991236611489776\n"
     ]
    }
   ],
   "source": [
    "model = RandomForestClassifier(random_state=42, n_estimators=2000)\n",
    "model.fit(train[features], train['homologado'])\n",
    "confusion_matrix(valid['homologado'], valid_preds).ravel()\n",
    "train_preds = model.predict(train[features])\n",
    "valid_preds = model.predict(valid[features])\n",
    "\n",
    "print_score()"
   ]
  },
  {
   "cell_type": "code",
   "execution_count": 83,
   "metadata": {},
   "outputs": [
    {
     "data": {
      "text/plain": [
       "array([   0,   27,    0, 1527], dtype=int64)"
      ]
     },
     "execution_count": 83,
     "metadata": {},
     "output_type": "execute_result"
    }
   ],
   "source": [
    "confusion_matrix(valid['homologado'], valid_preds).ravel()"
   ]
  },
  {
   "cell_type": "markdown",
   "metadata": {},
   "source": [
    "Aumentar o número de árvores parece não melhorar a performance. Vamos para o número de features."
   ]
  },
  {
   "cell_type": "markdown",
   "metadata": {},
   "source": [
    "### Considerando o número de features"
   ]
  },
  {
   "cell_type": "code",
   "execution_count": 97,
   "metadata": {},
   "outputs": [
    {
     "data": {
      "text/plain": [
       "RandomForestClassifier(bootstrap=True, class_weight=None, criterion='gini',\n",
       "            max_depth=None, max_features='auto', max_leaf_nodes=None,\n",
       "            min_impurity_decrease=0.0, min_impurity_split=None,\n",
       "            min_samples_leaf=1, min_samples_split=2,\n",
       "            min_weight_fraction_leaf=0.0, n_estimators=10, n_jobs=1,\n",
       "            oob_score=False, random_state=42, verbose=0, warm_start=False)"
      ]
     },
     "execution_count": 97,
     "metadata": {},
     "output_type": "execute_result"
    }
   ],
   "source": [
    "model = RandomForestClassifier(random_state=42); model"
   ]
  },
  {
   "cell_type": "code",
   "execution_count": 85,
   "metadata": {},
   "outputs": [
    {
     "name": "stdout",
     "output_type": "stream",
     "text": [
      "Accuracy score: 0.9982839982839983 0.9826254826254827\n",
      "Precision score:  0.9826254826254827\n",
      "Recall score:  1.0\n",
      "F1 score:  0.991236611489776\n"
     ]
    }
   ],
   "source": [
    "model.fit(train[features], train['homologado'])\n",
    "confusion_matrix(valid['homologado'], valid_preds).ravel()\n",
    "train_preds = model.predict(train[features])\n",
    "valid_preds = model.predict(valid[features])\n",
    "\n",
    "print_score()"
   ]
  },
  {
   "cell_type": "code",
   "execution_count": 86,
   "metadata": {},
   "outputs": [
    {
     "name": "stdout",
     "output_type": "stream",
     "text": [
      "Accuracy score: 0.9982839982839983 0.9826254826254827\n",
      "Precision score:  0.9826254826254827\n",
      "Recall score:  1.0\n",
      "F1 score:  0.991236611489776\n"
     ]
    }
   ],
   "source": [
    "model = RandomForestClassifier(random_state=42, max_features='sqrt')\n",
    "model.fit(train[features], train['homologado'])\n",
    "confusion_matrix(valid['homologado'], valid_preds).ravel()\n",
    "train_preds = model.predict(train[features])\n",
    "valid_preds = model.predict(valid[features])\n",
    "\n",
    "print_score()"
   ]
  },
  {
   "cell_type": "code",
   "execution_count": 87,
   "metadata": {
    "scrolled": true
   },
   "outputs": [
    {
     "data": {
      "text/plain": [
       "array([   0,   27,    0, 1527], dtype=int64)"
      ]
     },
     "execution_count": 87,
     "metadata": {},
     "output_type": "execute_result"
    }
   ],
   "source": [
    "confusion_matrix(valid['homologado'], valid_preds).ravel()"
   ]
  },
  {
   "cell_type": "code",
   "execution_count": 88,
   "metadata": {},
   "outputs": [
    {
     "name": "stdout",
     "output_type": "stream",
     "text": [
      "Accuracy score: 0.9984984984984985 0.9819819819819819\n",
      "Precision score:  0.9826142949130715\n",
      "Recall score:  0.9993451211525868\n",
      "F1 score:  0.9909090909090911\n"
     ]
    }
   ],
   "source": [
    "model = RandomForestClassifier(random_state=42, max_features='log2')\n",
    "model.fit(train[features], train['homologado'])\n",
    "confusion_matrix(valid['homologado'], valid_preds).ravel()\n",
    "train_preds = model.predict(train[features])\n",
    "valid_preds = model.predict(valid[features])\n",
    "\n",
    "print_score()"
   ]
  },
  {
   "cell_type": "code",
   "execution_count": 89,
   "metadata": {},
   "outputs": [
    {
     "data": {
      "text/plain": [
       "array([   0,   27,    1, 1526], dtype=int64)"
      ]
     },
     "execution_count": 89,
     "metadata": {},
     "output_type": "execute_result"
    }
   ],
   "source": [
    "confusion_matrix(valid['homologado'], valid_preds).ravel()"
   ]
  },
  {
   "cell_type": "code",
   "execution_count": 95,
   "metadata": {},
   "outputs": [
    {
     "name": "stdout",
     "output_type": "stream",
     "text": [
      "Accuracy score: 0.9982839982839983 0.9826254826254827\n",
      "Precision score:  0.9826254826254827\n",
      "Recall score:  1.0\n",
      "F1 score:  0.991236611489776\n"
     ]
    }
   ],
   "source": [
    "model = RandomForestClassifier(random_state=42, max_features=0.3)\n",
    "model.fit(train[features], train['homologado'])\n",
    "confusion_matrix(valid['homologado'], valid_preds).ravel()\n",
    "train_preds = model.predict(train[features])\n",
    "valid_preds = model.predict(valid[features])\n",
    "\n",
    "print_score()"
   ]
  },
  {
   "cell_type": "code",
   "execution_count": 96,
   "metadata": {},
   "outputs": [
    {
     "data": {
      "text/plain": [
       "array([   0,   27,    0, 1527], dtype=int64)"
      ]
     },
     "execution_count": 96,
     "metadata": {},
     "output_type": "execute_result"
    }
   ],
   "source": [
    "confusion_matrix(valid['homologado'], valid_preds).ravel()"
   ]
  },
  {
   "cell_type": "markdown",
   "metadata": {},
   "source": [
    "O parâmetro max_features parece não melhorar a performance. Vamos para o min_samples_leaf."
   ]
  },
  {
   "cell_type": "markdown",
   "metadata": {},
   "source": [
    "### Checando o min_samples_leaf"
   ]
  },
  {
   "cell_type": "code",
   "execution_count": 98,
   "metadata": {},
   "outputs": [
    {
     "data": {
      "text/plain": [
       "RandomForestClassifier(bootstrap=True, class_weight=None, criterion='gini',\n",
       "            max_depth=None, max_features='auto', max_leaf_nodes=None,\n",
       "            min_impurity_decrease=0.0, min_impurity_split=None,\n",
       "            min_samples_leaf=1, min_samples_split=2,\n",
       "            min_weight_fraction_leaf=0.0, n_estimators=10, n_jobs=1,\n",
       "            oob_score=False, random_state=42, verbose=0, warm_start=False)"
      ]
     },
     "execution_count": 98,
     "metadata": {},
     "output_type": "execute_result"
    }
   ],
   "source": [
    "model = RandomForestClassifier(random_state=42); model"
   ]
  },
  {
   "cell_type": "code",
   "execution_count": 99,
   "metadata": {},
   "outputs": [
    {
     "name": "stdout",
     "output_type": "stream",
     "text": [
      "Accuracy score: 0.9982839982839983 0.9826254826254827\n",
      "Precision score:  0.9826254826254827\n",
      "Recall score:  1.0\n",
      "F1 score:  0.991236611489776\n"
     ]
    }
   ],
   "source": [
    "model.fit(train[features], train['homologado'])\n",
    "confusion_matrix(valid['homologado'], valid_preds).ravel()\n",
    "train_preds = model.predict(train[features])\n",
    "valid_preds = model.predict(valid[features])\n",
    "\n",
    "print_score()"
   ]
  },
  {
   "cell_type": "code",
   "execution_count": 100,
   "metadata": {},
   "outputs": [
    {
     "name": "stdout",
     "output_type": "stream",
     "text": [
      "Accuracy score: 0.9877734877734877 0.9826254826254827\n",
      "Precision score:  0.9826254826254827\n",
      "Recall score:  1.0\n",
      "F1 score:  0.991236611489776\n"
     ]
    }
   ],
   "source": [
    "model = RandomForestClassifier(random_state=42, min_samples_leaf=2)\n",
    "model.fit(train[features], train['homologado'])\n",
    "confusion_matrix(valid['homologado'], valid_preds).ravel()\n",
    "train_preds = model.predict(train[features])\n",
    "valid_preds = model.predict(valid[features])\n",
    "\n",
    "print_score()"
   ]
  },
  {
   "cell_type": "code",
   "execution_count": 101,
   "metadata": {},
   "outputs": [
    {
     "data": {
      "text/plain": [
       "array([   0,   27,    0, 1527], dtype=int64)"
      ]
     },
     "execution_count": 101,
     "metadata": {},
     "output_type": "execute_result"
    }
   ],
   "source": [
    "confusion_matrix(valid['homologado'], valid_preds).ravel()"
   ]
  },
  {
   "cell_type": "code",
   "execution_count": 102,
   "metadata": {},
   "outputs": [
    {
     "name": "stdout",
     "output_type": "stream",
     "text": [
      "Accuracy score: 0.9856284856284856 0.9826254826254827\n",
      "Precision score:  0.9826254826254827\n",
      "Recall score:  1.0\n",
      "F1 score:  0.991236611489776\n"
     ]
    }
   ],
   "source": [
    "model = RandomForestClassifier(random_state=42, min_samples_leaf=5)\n",
    "model.fit(train[features], train['homologado'])\n",
    "confusion_matrix(valid['homologado'], valid_preds).ravel()\n",
    "train_preds = model.predict(train[features])\n",
    "valid_preds = model.predict(valid[features])\n",
    "\n",
    "print_score()"
   ]
  },
  {
   "cell_type": "code",
   "execution_count": 103,
   "metadata": {},
   "outputs": [
    {
     "name": "stdout",
     "output_type": "stream",
     "text": [
      "Accuracy score: 0.9856284856284856 0.9826254826254827\n",
      "Precision score:  0.9826254826254827\n",
      "Recall score:  1.0\n",
      "F1 score:  0.991236611489776\n"
     ]
    }
   ],
   "source": [
    "model = RandomForestClassifier(random_state=42, min_samples_leaf=10)\n",
    "model.fit(train[features], train['homologado'])\n",
    "confusion_matrix(valid['homologado'], valid_preds).ravel()\n",
    "train_preds = model.predict(train[features])\n",
    "valid_preds = model.predict(valid[features])\n",
    "\n",
    "print_score()"
   ]
  },
  {
   "cell_type": "code",
   "execution_count": 106,
   "metadata": {},
   "outputs": [
    {
     "data": {
      "text/plain": [
       "array([   0,   27,    0, 1527], dtype=int64)"
      ]
     },
     "execution_count": 106,
     "metadata": {},
     "output_type": "execute_result"
    }
   ],
   "source": [
    "confusion_matrix(valid['homologado'], valid_preds).ravel()"
   ]
  },
  {
   "cell_type": "markdown",
   "metadata": {},
   "source": [
    "Uma vez mais, não houve melhoria no modelo ao tentar modificar o min_samples_leaf.\n",
    "\n",
    "Vamos tentar uma última coisa, que é lidar com o fato de as classes serem desbalanceadas."
   ]
  },
  {
   "cell_type": "markdown",
   "metadata": {},
   "source": [
    "## Lidando com as classes desbalanceadas"
   ]
  },
  {
   "cell_type": "markdown",
   "metadata": {},
   "source": [
    "https://machinelearningmastery.com/tactics-to-combat-imbalanced-classes-in-your-machine-learning-dataset/"
   ]
  }
 ],
 "metadata": {
  "kernelspec": {
   "display_name": "Python 3",
   "language": "python",
   "name": "python3"
  },
  "language_info": {
   "codemirror_mode": {
    "name": "ipython",
    "version": 3
   },
   "file_extension": ".py",
   "mimetype": "text/x-python",
   "name": "python",
   "nbconvert_exporter": "python",
   "pygments_lexer": "ipython3",
   "version": "3.6.5"
  }
 },
 "nbformat": 4,
 "nbformat_minor": 2
}
