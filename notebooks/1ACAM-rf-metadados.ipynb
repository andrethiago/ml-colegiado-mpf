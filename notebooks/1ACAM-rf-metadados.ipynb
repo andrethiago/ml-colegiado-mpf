{
 "cells": [
  {
   "cell_type": "markdown",
   "metadata": {},
   "source": [
    "# Introdução\n",
    "\n",
    "Esse caderno tem por objetivo a criação de um modelo básico de treinamento, utilizando o classificador [RandomForest](http://scikit-learn.org/stable/modules/generated/sklearn.ensemble.RandomForestClassifier.html), que faça a predição de homologação de arquivamentos de procedimentos enviados à 1A.CAM do MPF.\n",
    "\n",
    "Esse modelo usará apenas os metadados dos procedimentos, sem fazer nenhum processamento textual.\n",
    "\n",
    "O objetivo desse modelo é servir como um *baseline* de comparações para implementações futuras.\n",
    "\n",
    "\n",
    "**Nota**: os dados desse modelo foram recuperados de procedimentos que tiveram suas deliberações realizadas após o dia 02/07/2018, data em que a nova composição tomou posse na 1A.CAM."
   ]
  },
  {
   "cell_type": "markdown",
   "metadata": {},
   "source": [
    "# Carga de dados e pré-processamento\n",
    "\n",
    "Vamos fazer a carga dos dados e fazer um pré-processamento tradicional (remoção de atributos que não interessam, criação de variáveis categóricas etc.)"
   ]
  },
  {
   "cell_type": "code",
   "execution_count": 1,
   "metadata": {},
   "outputs": [],
   "source": [
    "%load_ext autoreload\n",
    "%autoreload 2\n",
    "\n",
    "%matplotlib inline"
   ]
  },
  {
   "cell_type": "code",
   "execution_count": 2,
   "metadata": {},
   "outputs": [],
   "source": [
    "from sklearn.ensemble import RandomForestClassifier\n",
    "import numpy as np\n",
    "import pandas as pd\n",
    "\n",
    "from sklearn import metrics"
   ]
  },
  {
   "cell_type": "code",
   "execution_count": 3,
   "metadata": {},
   "outputs": [],
   "source": [
    "PATH = \"../data/\"\n",
    "df_original = pd.read_json(f'{PATH}/1A.CAM.homologacao-arquivamento.json')"
   ]
  },
  {
   "cell_type": "code",
   "execution_count": 4,
   "metadata": {},
   "outputs": [
    {
     "data": {
      "text/plain": [
       "5462"
      ]
     },
     "execution_count": 4,
     "metadata": {},
     "output_type": "execute_result"
    }
   ],
   "source": [
    "len(df_original)"
   ]
  },
  {
   "cell_type": "code",
   "execution_count": 5,
   "metadata": {},
   "outputs": [
    {
     "data": {
      "text/plain": [
       "Index(['areaAtuacao', 'classe', 'dataAutuacao', 'dataEntrada', 'homologado',\n",
       "       'id', 'itemCnmp', 'municipio', 'prioritario', 'procedimento',\n",
       "       'providenciasExecutadas', 'quantidadeConversoes',\n",
       "       'quantidadeProvidencias', 'urgente'],\n",
       "      dtype='object')"
      ]
     },
     "execution_count": 5,
     "metadata": {},
     "output_type": "execute_result"
    }
   ],
   "source": [
    "df_original.columns"
   ]
  },
  {
   "cell_type": "code",
   "execution_count": 6,
   "metadata": {},
   "outputs": [
    {
     "data": {
      "text/html": [
       "<div>\n",
       "<style scoped>\n",
       "    .dataframe tbody tr th:only-of-type {\n",
       "        vertical-align: middle;\n",
       "    }\n",
       "\n",
       "    .dataframe tbody tr th {\n",
       "        vertical-align: top;\n",
       "    }\n",
       "\n",
       "    .dataframe thead th {\n",
       "        text-align: right;\n",
       "    }\n",
       "</style>\n",
       "<table border=\"1\" class=\"dataframe\">\n",
       "  <thead>\n",
       "    <tr style=\"text-align: right;\">\n",
       "      <th></th>\n",
       "      <th>areaAtuacao</th>\n",
       "      <th>classe</th>\n",
       "      <th>dataAutuacao</th>\n",
       "      <th>dataEntrada</th>\n",
       "      <th>homologado</th>\n",
       "      <th>id</th>\n",
       "      <th>itemCnmp</th>\n",
       "      <th>municipio</th>\n",
       "      <th>prioritario</th>\n",
       "      <th>procedimento</th>\n",
       "      <th>providenciasExecutadas</th>\n",
       "      <th>quantidadeConversoes</th>\n",
       "      <th>quantidadeProvidencias</th>\n",
       "      <th>urgente</th>\n",
       "    </tr>\n",
       "  </thead>\n",
       "  <tbody>\n",
       "    <tr>\n",
       "      <th>0</th>\n",
       "      <td>2</td>\n",
       "      <td>3</td>\n",
       "      <td>May 16, 2016 12:00:00 AM</td>\n",
       "      <td>Aug 3, 2018 5:38:09 PM</td>\n",
       "      <td>1</td>\n",
       "      <td>71564833</td>\n",
       "      <td>1103</td>\n",
       "      <td>60.0</td>\n",
       "      <td>0</td>\n",
       "      <td>1.10.001.000068/2016-52</td>\n",
       "      <td>[0, 0, 0, 0, 0, 0, 0, 0, 0, 0, 0, 0, 0, 0, 0, ...</td>\n",
       "      <td>1</td>\n",
       "      <td>6</td>\n",
       "      <td>0</td>\n",
       "    </tr>\n",
       "    <tr>\n",
       "      <th>1</th>\n",
       "      <td>2</td>\n",
       "      <td>3</td>\n",
       "      <td>Jul 7, 2016 12:00:00 AM</td>\n",
       "      <td>Jul 25, 2018 7:10:53 PM</td>\n",
       "      <td>1</td>\n",
       "      <td>72574520</td>\n",
       "      <td>1542</td>\n",
       "      <td>1541.0</td>\n",
       "      <td>0</td>\n",
       "      <td>1.11.000.000785/2016-57</td>\n",
       "      <td>[0, 0, 0, 0, 0, 0, 0, 0, 0, 0, 0, 0, 0, 0, 0, ...</td>\n",
       "      <td>4</td>\n",
       "      <td>12</td>\n",
       "      <td>0</td>\n",
       "    </tr>\n",
       "    <tr>\n",
       "      <th>2</th>\n",
       "      <td>2</td>\n",
       "      <td>3</td>\n",
       "      <td>Apr 25, 2017 12:00:00 AM</td>\n",
       "      <td>Jul 24, 2018 5:30:13 PM</td>\n",
       "      <td>1</td>\n",
       "      <td>77742213</td>\n",
       "      <td>1543</td>\n",
       "      <td>3113.0</td>\n",
       "      <td>0</td>\n",
       "      <td>1.30.001.001754/2017-39</td>\n",
       "      <td>[0, 0, 0, 0, 0, 0, 0, 0, 0, 0, 0, 0, 0, 0, 0, ...</td>\n",
       "      <td>2</td>\n",
       "      <td>6</td>\n",
       "      <td>0</td>\n",
       "    </tr>\n",
       "    <tr>\n",
       "      <th>3</th>\n",
       "      <td>2</td>\n",
       "      <td>3</td>\n",
       "      <td>Feb 14, 2017 12:00:00 AM</td>\n",
       "      <td>Jul 24, 2018 3:48:22 PM</td>\n",
       "      <td>1</td>\n",
       "      <td>76399468</td>\n",
       "      <td>1726</td>\n",
       "      <td>2650.0</td>\n",
       "      <td>0</td>\n",
       "      <td>1.22.005.000023/2017-16</td>\n",
       "      <td>[0, 0, 0, 0, 0, 0, 0, 0, 0, 0, 0, 0, 0, 0, 0, ...</td>\n",
       "      <td>3</td>\n",
       "      <td>5</td>\n",
       "      <td>0</td>\n",
       "    </tr>\n",
       "    <tr>\n",
       "      <th>4</th>\n",
       "      <td>2</td>\n",
       "      <td>3</td>\n",
       "      <td>Jul 9, 2013 12:00:00 AM</td>\n",
       "      <td>Jul 27, 2018 3:12:08 PM</td>\n",
       "      <td>1</td>\n",
       "      <td>47526845</td>\n",
       "      <td>1503</td>\n",
       "      <td>4249.0</td>\n",
       "      <td>0</td>\n",
       "      <td>1.33.005.000326/2013-13</td>\n",
       "      <td>[0, 0, 0, 0, 0, 0, 0, 0, 0, 0, 0, 0, 0, 0, 0, ...</td>\n",
       "      <td>6</td>\n",
       "      <td>7</td>\n",
       "      <td>0</td>\n",
       "    </tr>\n",
       "  </tbody>\n",
       "</table>\n",
       "</div>"
      ],
      "text/plain": [
       "   areaAtuacao  classe              dataAutuacao              dataEntrada  \\\n",
       "0            2       3  May 16, 2016 12:00:00 AM   Aug 3, 2018 5:38:09 PM   \n",
       "1            2       3   Jul 7, 2016 12:00:00 AM  Jul 25, 2018 7:10:53 PM   \n",
       "2            2       3  Apr 25, 2017 12:00:00 AM  Jul 24, 2018 5:30:13 PM   \n",
       "3            2       3  Feb 14, 2017 12:00:00 AM  Jul 24, 2018 3:48:22 PM   \n",
       "4            2       3   Jul 9, 2013 12:00:00 AM  Jul 27, 2018 3:12:08 PM   \n",
       "\n",
       "   homologado        id  itemCnmp  municipio  prioritario  \\\n",
       "0           1  71564833      1103       60.0            0   \n",
       "1           1  72574520      1542     1541.0            0   \n",
       "2           1  77742213      1543     3113.0            0   \n",
       "3           1  76399468      1726     2650.0            0   \n",
       "4           1  47526845      1503     4249.0            0   \n",
       "\n",
       "              procedimento                             providenciasExecutadas  \\\n",
       "0  1.10.001.000068/2016-52  [0, 0, 0, 0, 0, 0, 0, 0, 0, 0, 0, 0, 0, 0, 0, ...   \n",
       "1  1.11.000.000785/2016-57  [0, 0, 0, 0, 0, 0, 0, 0, 0, 0, 0, 0, 0, 0, 0, ...   \n",
       "2  1.30.001.001754/2017-39  [0, 0, 0, 0, 0, 0, 0, 0, 0, 0, 0, 0, 0, 0, 0, ...   \n",
       "3  1.22.005.000023/2017-16  [0, 0, 0, 0, 0, 0, 0, 0, 0, 0, 0, 0, 0, 0, 0, ...   \n",
       "4  1.33.005.000326/2013-13  [0, 0, 0, 0, 0, 0, 0, 0, 0, 0, 0, 0, 0, 0, 0, ...   \n",
       "\n",
       "   quantidadeConversoes  quantidadeProvidencias  urgente  \n",
       "0                     1                       6        0  \n",
       "1                     4                      12        0  \n",
       "2                     2                       6        0  \n",
       "3                     3                       5        0  \n",
       "4                     6                       7        0  "
      ]
     },
     "execution_count": 6,
     "metadata": {},
     "output_type": "execute_result"
    }
   ],
   "source": [
    "df_original.head()"
   ]
  },
  {
   "cell_type": "code",
   "execution_count": 7,
   "metadata": {},
   "outputs": [],
   "source": [
    "df_work = df_original.copy()"
   ]
  },
  {
   "cell_type": "code",
   "execution_count": 8,
   "metadata": {},
   "outputs": [],
   "source": [
    "# Convertendo strings para data\n",
    "from datetime import datetime\n",
    "\n",
    "for index in range(len(df_original)):\n",
    "    df_work.loc[index, 'dataAutuacao'] =  datetime.strptime(df_work.loc[index, 'dataAutuacao'], '%b %d, %Y %I:%M:%S %p')\n",
    "    df_work.loc[index, 'dataEntrada'] =  datetime.strptime(df_work.loc[index, 'dataEntrada'], '%b %d, %Y %I:%M:%S %p')"
   ]
  },
  {
   "cell_type": "code",
   "execution_count": 9,
   "metadata": {},
   "outputs": [
    {
     "data": {
      "text/html": [
       "<div>\n",
       "<style scoped>\n",
       "    .dataframe tbody tr th:only-of-type {\n",
       "        vertical-align: middle;\n",
       "    }\n",
       "\n",
       "    .dataframe tbody tr th {\n",
       "        vertical-align: top;\n",
       "    }\n",
       "\n",
       "    .dataframe thead th {\n",
       "        text-align: right;\n",
       "    }\n",
       "</style>\n",
       "<table border=\"1\" class=\"dataframe\">\n",
       "  <thead>\n",
       "    <tr style=\"text-align: right;\">\n",
       "      <th></th>\n",
       "      <th>areaAtuacao</th>\n",
       "      <th>classe</th>\n",
       "      <th>dataAutuacao</th>\n",
       "      <th>dataEntrada</th>\n",
       "      <th>homologado</th>\n",
       "      <th>itemCnmp</th>\n",
       "      <th>municipio</th>\n",
       "      <th>prioritario</th>\n",
       "      <th>quantidadeConversoes</th>\n",
       "      <th>quantidadeProvidencias</th>\n",
       "      <th>urgente</th>\n",
       "    </tr>\n",
       "  </thead>\n",
       "  <tbody>\n",
       "    <tr>\n",
       "      <th>2582</th>\n",
       "      <td>2</td>\n",
       "      <td>3</td>\n",
       "      <td>2016-09-02 00:00:00</td>\n",
       "      <td>2017-05-09 00:00:00</td>\n",
       "      <td>1</td>\n",
       "      <td>1556</td>\n",
       "      <td>5160.0</td>\n",
       "      <td>0</td>\n",
       "      <td>2</td>\n",
       "      <td>5</td>\n",
       "      <td>0</td>\n",
       "    </tr>\n",
       "    <tr>\n",
       "      <th>1930</th>\n",
       "      <td>2</td>\n",
       "      <td>3</td>\n",
       "      <td>2015-10-16 00:00:00</td>\n",
       "      <td>2017-08-30 19:18:02</td>\n",
       "      <td>1</td>\n",
       "      <td>2286</td>\n",
       "      <td>810.0</td>\n",
       "      <td>0</td>\n",
       "      <td>3</td>\n",
       "      <td>12</td>\n",
       "      <td>0</td>\n",
       "    </tr>\n",
       "    <tr>\n",
       "      <th>303</th>\n",
       "      <td>2</td>\n",
       "      <td>3</td>\n",
       "      <td>2017-05-31 00:00:00</td>\n",
       "      <td>2018-07-03 16:57:32</td>\n",
       "      <td>1</td>\n",
       "      <td>1521</td>\n",
       "      <td>5051.0</td>\n",
       "      <td>0</td>\n",
       "      <td>3</td>\n",
       "      <td>5</td>\n",
       "      <td>0</td>\n",
       "    </tr>\n",
       "    <tr>\n",
       "      <th>4053</th>\n",
       "      <td>2</td>\n",
       "      <td>2</td>\n",
       "      <td>2016-04-12 00:00:00</td>\n",
       "      <td>2016-09-16 00:00:00</td>\n",
       "      <td>1</td>\n",
       "      <td>1507</td>\n",
       "      <td>4852.0</td>\n",
       "      <td>0</td>\n",
       "      <td>2</td>\n",
       "      <td>4</td>\n",
       "      <td>0</td>\n",
       "    </tr>\n",
       "    <tr>\n",
       "      <th>1229</th>\n",
       "      <td>2</td>\n",
       "      <td>3</td>\n",
       "      <td>2015-12-10 00:00:00</td>\n",
       "      <td>2018-04-06 11:51:43</td>\n",
       "      <td>1</td>\n",
       "      <td>1542</td>\n",
       "      <td>4838.0</td>\n",
       "      <td>0</td>\n",
       "      <td>2</td>\n",
       "      <td>3</td>\n",
       "      <td>0</td>\n",
       "    </tr>\n",
       "    <tr>\n",
       "      <th>2935</th>\n",
       "      <td>2</td>\n",
       "      <td>2</td>\n",
       "      <td>2016-11-04 00:00:00</td>\n",
       "      <td>2017-03-29 00:00:00</td>\n",
       "      <td>1</td>\n",
       "      <td>63</td>\n",
       "      <td>4269.0</td>\n",
       "      <td>0</td>\n",
       "      <td>2</td>\n",
       "      <td>4</td>\n",
       "      <td>0</td>\n",
       "    </tr>\n",
       "    <tr>\n",
       "      <th>875</th>\n",
       "      <td>2</td>\n",
       "      <td>3</td>\n",
       "      <td>2016-02-18 00:00:00</td>\n",
       "      <td>2018-05-14 14:14:07</td>\n",
       "      <td>1</td>\n",
       "      <td>56</td>\n",
       "      <td>1541.0</td>\n",
       "      <td>0</td>\n",
       "      <td>2</td>\n",
       "      <td>4</td>\n",
       "      <td>0</td>\n",
       "    </tr>\n",
       "    <tr>\n",
       "      <th>81</th>\n",
       "      <td>2</td>\n",
       "      <td>3</td>\n",
       "      <td>2018-03-16 00:00:00</td>\n",
       "      <td>2018-08-02 18:16:23</td>\n",
       "      <td>1</td>\n",
       "      <td>1503</td>\n",
       "      <td>5296.0</td>\n",
       "      <td>0</td>\n",
       "      <td>2</td>\n",
       "      <td>4</td>\n",
       "      <td>0</td>\n",
       "    </tr>\n",
       "    <tr>\n",
       "      <th>3070</th>\n",
       "      <td>2</td>\n",
       "      <td>2</td>\n",
       "      <td>2016-09-06 00:00:00</td>\n",
       "      <td>2017-03-07 00:00:00</td>\n",
       "      <td>1</td>\n",
       "      <td>3047</td>\n",
       "      <td>1384.0</td>\n",
       "      <td>0</td>\n",
       "      <td>1</td>\n",
       "      <td>2</td>\n",
       "      <td>0</td>\n",
       "    </tr>\n",
       "    <tr>\n",
       "      <th>1852</th>\n",
       "      <td>2</td>\n",
       "      <td>2</td>\n",
       "      <td>2016-09-05 00:00:00</td>\n",
       "      <td>2017-09-04 18:56:55</td>\n",
       "      <td>1</td>\n",
       "      <td>1654</td>\n",
       "      <td>4470.0</td>\n",
       "      <td>0</td>\n",
       "      <td>2</td>\n",
       "      <td>4</td>\n",
       "      <td>0</td>\n",
       "    </tr>\n",
       "  </tbody>\n",
       "</table>\n",
       "</div>"
      ],
      "text/plain": [
       "      areaAtuacao  classe         dataAutuacao          dataEntrada  \\\n",
       "2582            2       3  2016-09-02 00:00:00  2017-05-09 00:00:00   \n",
       "1930            2       3  2015-10-16 00:00:00  2017-08-30 19:18:02   \n",
       "303             2       3  2017-05-31 00:00:00  2018-07-03 16:57:32   \n",
       "4053            2       2  2016-04-12 00:00:00  2016-09-16 00:00:00   \n",
       "1229            2       3  2015-12-10 00:00:00  2018-04-06 11:51:43   \n",
       "2935            2       2  2016-11-04 00:00:00  2017-03-29 00:00:00   \n",
       "875             2       3  2016-02-18 00:00:00  2018-05-14 14:14:07   \n",
       "81              2       3  2018-03-16 00:00:00  2018-08-02 18:16:23   \n",
       "3070            2       2  2016-09-06 00:00:00  2017-03-07 00:00:00   \n",
       "1852            2       2  2016-09-05 00:00:00  2017-09-04 18:56:55   \n",
       "\n",
       "      homologado  itemCnmp  municipio  prioritario  quantidadeConversoes  \\\n",
       "2582           1      1556     5160.0            0                     2   \n",
       "1930           1      2286      810.0            0                     3   \n",
       "303            1      1521     5051.0            0                     3   \n",
       "4053           1      1507     4852.0            0                     2   \n",
       "1229           1      1542     4838.0            0                     2   \n",
       "2935           1        63     4269.0            0                     2   \n",
       "875            1        56     1541.0            0                     2   \n",
       "81             1      1503     5296.0            0                     2   \n",
       "3070           1      3047     1384.0            0                     1   \n",
       "1852           1      1654     4470.0            0                     2   \n",
       "\n",
       "      quantidadeProvidencias  urgente  \n",
       "2582                       5        0  \n",
       "1930                      12        0  \n",
       "303                        5        0  \n",
       "4053                       4        0  \n",
       "1229                       3        0  \n",
       "2935                       4        0  \n",
       "875                        4        0  \n",
       "81                         4        0  \n",
       "3070                       2        0  \n",
       "1852                       4        0  "
      ]
     },
     "execution_count": 9,
     "metadata": {},
     "output_type": "execute_result"
    }
   ],
   "source": [
    "removed_columns = ['id', 'procedimento', 'providenciasExecutadas']\n",
    "df_work = df_work.drop(columns=removed_columns)\n",
    "df_work.sample(10)"
   ]
  },
  {
   "cell_type": "code",
   "execution_count": 10,
   "metadata": {},
   "outputs": [
    {
     "data": {
      "text/html": [
       "<div>\n",
       "<style scoped>\n",
       "    .dataframe tbody tr th:only-of-type {\n",
       "        vertical-align: middle;\n",
       "    }\n",
       "\n",
       "    .dataframe tbody tr th {\n",
       "        vertical-align: top;\n",
       "    }\n",
       "\n",
       "    .dataframe thead th {\n",
       "        text-align: right;\n",
       "    }\n",
       "</style>\n",
       "<table border=\"1\" class=\"dataframe\">\n",
       "  <thead>\n",
       "    <tr style=\"text-align: right;\">\n",
       "      <th></th>\n",
       "      <th>areaAtuacao</th>\n",
       "      <th>classe</th>\n",
       "      <th>homologado</th>\n",
       "      <th>itemCnmp</th>\n",
       "      <th>municipio</th>\n",
       "      <th>prioritario</th>\n",
       "      <th>quantidadeConversoes</th>\n",
       "      <th>quantidadeProvidencias</th>\n",
       "      <th>urgente</th>\n",
       "    </tr>\n",
       "  </thead>\n",
       "  <tbody>\n",
       "    <tr>\n",
       "      <th>count</th>\n",
       "      <td>5462.000000</td>\n",
       "      <td>5462.000000</td>\n",
       "      <td>5462.000000</td>\n",
       "      <td>5.462000e+03</td>\n",
       "      <td>5457.000000</td>\n",
       "      <td>5462.000000</td>\n",
       "      <td>5462.000000</td>\n",
       "      <td>5462.000000</td>\n",
       "      <td>5462.000000</td>\n",
       "    </tr>\n",
       "    <tr>\n",
       "      <th>mean</th>\n",
       "      <td>2.266752</td>\n",
       "      <td>2.537532</td>\n",
       "      <td>0.983706</td>\n",
       "      <td>1.980086e+04</td>\n",
       "      <td>2870.772952</td>\n",
       "      <td>0.006957</td>\n",
       "      <td>2.040278</td>\n",
       "      <td>7.393812</td>\n",
       "      <td>0.006957</td>\n",
       "    </tr>\n",
       "    <tr>\n",
       "      <th>std</th>\n",
       "      <td>0.833990</td>\n",
       "      <td>0.539216</td>\n",
       "      <td>0.126617</td>\n",
       "      <td>1.890438e+05</td>\n",
       "      <td>1680.426366</td>\n",
       "      <td>0.083127</td>\n",
       "      <td>1.379018</td>\n",
       "      <td>8.934992</td>\n",
       "      <td>0.083127</td>\n",
       "    </tr>\n",
       "    <tr>\n",
       "      <th>min</th>\n",
       "      <td>1.000000</td>\n",
       "      <td>1.000000</td>\n",
       "      <td>0.000000</td>\n",
       "      <td>2.000000e+00</td>\n",
       "      <td>1.000000</td>\n",
       "      <td>0.000000</td>\n",
       "      <td>0.000000</td>\n",
       "      <td>0.000000</td>\n",
       "      <td>0.000000</td>\n",
       "    </tr>\n",
       "    <tr>\n",
       "      <th>25%</th>\n",
       "      <td>2.000000</td>\n",
       "      <td>2.000000</td>\n",
       "      <td>1.000000</td>\n",
       "      <td>1.521000e+03</td>\n",
       "      <td>1301.000000</td>\n",
       "      <td>0.000000</td>\n",
       "      <td>1.000000</td>\n",
       "      <td>3.000000</td>\n",
       "      <td>0.000000</td>\n",
       "    </tr>\n",
       "    <tr>\n",
       "      <th>50%</th>\n",
       "      <td>2.000000</td>\n",
       "      <td>3.000000</td>\n",
       "      <td>1.000000</td>\n",
       "      <td>1.582500e+03</td>\n",
       "      <td>3066.000000</td>\n",
       "      <td>0.000000</td>\n",
       "      <td>2.000000</td>\n",
       "      <td>5.000000</td>\n",
       "      <td>0.000000</td>\n",
       "    </tr>\n",
       "    <tr>\n",
       "      <th>75%</th>\n",
       "      <td>2.000000</td>\n",
       "      <td>3.000000</td>\n",
       "      <td>1.000000</td>\n",
       "      <td>1.874000e+03</td>\n",
       "      <td>4314.000000</td>\n",
       "      <td>0.000000</td>\n",
       "      <td>3.000000</td>\n",
       "      <td>9.000000</td>\n",
       "      <td>0.000000</td>\n",
       "    </tr>\n",
       "    <tr>\n",
       "      <th>max</th>\n",
       "      <td>6.000000</td>\n",
       "      <td>5.000000</td>\n",
       "      <td>1.000000</td>\n",
       "      <td>2.007548e+06</td>\n",
       "      <td>5767.000000</td>\n",
       "      <td>1.000000</td>\n",
       "      <td>11.000000</td>\n",
       "      <td>161.000000</td>\n",
       "      <td>1.000000</td>\n",
       "    </tr>\n",
       "  </tbody>\n",
       "</table>\n",
       "</div>"
      ],
      "text/plain": [
       "       areaAtuacao       classe   homologado      itemCnmp    municipio  \\\n",
       "count  5462.000000  5462.000000  5462.000000  5.462000e+03  5457.000000   \n",
       "mean      2.266752     2.537532     0.983706  1.980086e+04  2870.772952   \n",
       "std       0.833990     0.539216     0.126617  1.890438e+05  1680.426366   \n",
       "min       1.000000     1.000000     0.000000  2.000000e+00     1.000000   \n",
       "25%       2.000000     2.000000     1.000000  1.521000e+03  1301.000000   \n",
       "50%       2.000000     3.000000     1.000000  1.582500e+03  3066.000000   \n",
       "75%       2.000000     3.000000     1.000000  1.874000e+03  4314.000000   \n",
       "max       6.000000     5.000000     1.000000  2.007548e+06  5767.000000   \n",
       "\n",
       "       prioritario  quantidadeConversoes  quantidadeProvidencias      urgente  \n",
       "count  5462.000000           5462.000000             5462.000000  5462.000000  \n",
       "mean      0.006957              2.040278                7.393812     0.006957  \n",
       "std       0.083127              1.379018                8.934992     0.083127  \n",
       "min       0.000000              0.000000                0.000000     0.000000  \n",
       "25%       0.000000              1.000000                3.000000     0.000000  \n",
       "50%       0.000000              2.000000                5.000000     0.000000  \n",
       "75%       0.000000              3.000000                9.000000     0.000000  \n",
       "max       1.000000             11.000000              161.000000     1.000000  "
      ]
     },
     "execution_count": 10,
     "metadata": {},
     "output_type": "execute_result"
    }
   ],
   "source": [
    "df_work.describe()"
   ]
  },
  {
   "cell_type": "code",
   "execution_count": 11,
   "metadata": {},
   "outputs": [],
   "source": [
    "# tratando os nulos\n",
    "df_work.fillna(-1, inplace=True)"
   ]
  },
  {
   "cell_type": "code",
   "execution_count": 12,
   "metadata": {},
   "outputs": [
    {
     "data": {
      "text/plain": [
       "(5373, 89)"
      ]
     },
     "execution_count": 12,
     "metadata": {},
     "output_type": "execute_result"
    }
   ],
   "source": [
    "len(df_work[df_work['homologado'] == 1]), len(df_work[df_work['homologado'] == 0])"
   ]
  },
  {
   "cell_type": "markdown",
   "metadata": {},
   "source": [
    "### Classes desbalanceadas!!!\n",
    "\n",
    "Conforme podemos ver acima, as classes desse problema são altamente desbalanceadas - apenas 1.63% do conjunto de dados representam procedimentos que não foram homologados.\n",
    "\n",
    "Isso, muito provavelmente, causará problemas no treino do modelo. Mas, inicialmente, vamos ignorar isso e seguir com o nosso treino."
   ]
  },
  {
   "cell_type": "code",
   "execution_count": 16,
   "metadata": {},
   "outputs": [
    {
     "data": {
      "text/plain": [
       "RandomForestClassifier(bootstrap=True, class_weight=None, criterion='gini',\n",
       "            max_depth=None, max_features='auto', max_leaf_nodes=None,\n",
       "            min_impurity_decrease=0.0, min_impurity_split=None,\n",
       "            min_samples_leaf=1, min_samples_split=2,\n",
       "            min_weight_fraction_leaf=0.0, n_estimators=10, n_jobs=1,\n",
       "            oob_score=False, random_state=None, verbose=0,\n",
       "            warm_start=False)"
      ]
     },
     "execution_count": 16,
     "metadata": {},
     "output_type": "execute_result"
    }
   ],
   "source": [
    "removed_columns = ['homologado', 'dataEntrada', 'dataAutuacao']\n",
    "features = [c for c in df_work.columns if c not in removed_columns]\n",
    "\n",
    "model = RandomForestClassifier()\n",
    "model.fit(df_work[features], df_work['homologado'])"
   ]
  },
  {
   "cell_type": "code",
   "execution_count": 17,
   "metadata": {},
   "outputs": [
    {
     "data": {
      "text/plain": [
       "0.9972537532039546"
      ]
     },
     "execution_count": 17,
     "metadata": {},
     "output_type": "execute_result"
    }
   ],
   "source": [
    "model.score(df_work[features], df_work['homologado'])"
   ]
  },
  {
   "cell_type": "code",
   "execution_count": 18,
   "metadata": {},
   "outputs": [
    {
     "data": {
      "text/plain": [
       "((4096, 11), (1366, 11))"
      ]
     },
     "execution_count": 18,
     "metadata": {},
     "output_type": "execute_result"
    }
   ],
   "source": [
    "from sklearn.model_selection import train_test_split\n",
    "\n",
    "train, valid = train_test_split(df_work, random_state=42)\n",
    "train.shape, valid.shape"
   ]
  },
  {
   "cell_type": "code",
   "execution_count": 19,
   "metadata": {},
   "outputs": [
    {
     "data": {
      "text/plain": [
       "RandomForestClassifier(bootstrap=True, class_weight=None, criterion='gini',\n",
       "            max_depth=None, max_features='auto', max_leaf_nodes=None,\n",
       "            min_impurity_decrease=0.0, min_impurity_split=None,\n",
       "            min_samples_leaf=1, min_samples_split=2,\n",
       "            min_weight_fraction_leaf=0.0, n_estimators=10, n_jobs=1,\n",
       "            oob_score=False, random_state=None, verbose=0,\n",
       "            warm_start=False)"
      ]
     },
     "execution_count": 19,
     "metadata": {},
     "output_type": "execute_result"
    }
   ],
   "source": [
    "model.fit(train[features], train['homologado'])"
   ]
  },
  {
   "cell_type": "code",
   "execution_count": 20,
   "metadata": {},
   "outputs": [],
   "source": [
    "train_preds = model.predict(train[features])\n",
    "valid_preds = model.predict(valid[features])"
   ]
  },
  {
   "cell_type": "code",
   "execution_count": 21,
   "metadata": {},
   "outputs": [
    {
     "data": {
      "text/plain": [
       "(0.997802734375, 0.9809663250366032)"
      ]
     },
     "execution_count": 21,
     "metadata": {},
     "output_type": "execute_result"
    }
   ],
   "source": [
    "from sklearn.metrics import accuracy_score\n",
    "\n",
    "(accuracy_score(train['homologado'], train_preds), accuracy_score(valid['homologado'], valid_preds))"
   ]
  },
  {
   "cell_type": "code",
   "execution_count": 22,
   "metadata": {},
   "outputs": [
    {
     "data": {
      "text/plain": [
       "array([1, 1, 1, ..., 1, 1, 1], dtype=int64)"
      ]
     },
     "execution_count": 22,
     "metadata": {},
     "output_type": "execute_result"
    }
   ],
   "source": [
    "valid_preds"
   ]
  },
  {
   "cell_type": "markdown",
   "metadata": {},
   "source": [
    "### Primeira avaliação\n",
    "\n",
    "Embora não tenha ocorrido overfitting no treinamento e o *score* final tenha sido alto, cabe utilizar uma outra medida para assegurar a qualidade do modelo. Vamos utilizar a ** *matriz de confusão* **.\n",
    "\n"
   ]
  },
  {
   "cell_type": "code",
   "execution_count": 47,
   "metadata": {
    "scrolled": true
   },
   "outputs": [
    {
     "data": {
      "text/plain": [
       "array([[   0,   22],\n",
       "       [   4, 1340]], dtype=int64)"
      ]
     },
     "execution_count": 47,
     "metadata": {},
     "output_type": "execute_result"
    }
   ],
   "source": [
    "from sklearn.metrics import confusion_matrix\n",
    "\n",
    "confusion_matrix(valid['homologado'], valid_preds)"
   ]
  },
  {
   "cell_type": "code",
   "execution_count": 48,
   "metadata": {},
   "outputs": [
    {
     "data": {
      "text/plain": [
       "array([   0,   22,    4, 1340], dtype=int64)"
      ]
     },
     "execution_count": 48,
     "metadata": {},
     "output_type": "execute_result"
    }
   ],
   "source": [
    "confusion_matrix(valid['homologado'], valid_preds).ravel()"
   ]
  },
  {
   "cell_type": "code",
   "execution_count": 49,
   "metadata": {},
   "outputs": [
    {
     "data": {
      "text/plain": [
       "(1344, 22)"
      ]
     },
     "execution_count": 49,
     "metadata": {},
     "output_type": "execute_result"
    }
   ],
   "source": [
    "len(valid[valid['homologado']==1]), len(valid[valid['homologado']==0])"
   ]
  },
  {
   "cell_type": "markdown",
   "metadata": {},
   "source": [
    "Ao utilizar o ravel(), temos uma saída do tipo (tn, fp, fn, tp). De onde vemos que:\n",
    "\n",
    "\n",
    "- tivemos 0 tn - *true negative*; ou seja, o modelo não conseguiu acertar nenhum dos que não tiveram o arquivamento homologado;\n",
    "- tivemos 22 fp - *false positive*; 22 que não tiveram o arquivamento homologado e o modelo classificou como homologado;\n",
    "- tivemos 4 fn - *false negative*; foram homologados e o modelo marcou como não homologados;\n",
    "- tivemos 1340 tp - *true positive*; foram homologados e o modelo marcou corretamente.\n",
    "\n",
    "Logo, apesar da acurácia do modelo aparentar ser muito boa (98% no validation set), o **modelo não sabe lidar com os não arquivamentos** - não acertou nenhum dos que realmente não foram homologados. Ou seja dos 22 que não foram homologados, o modelo errou todos e ainda marcou 4 não homologados de forma errada.\n",
    "\n",
    "Fica claro que somente essas features não ajudam na descoberta - o texto da íntegra é, segundo a área negocial, realmente o mais importante.\n",
    "\n",
    "Vamos continuar avaliando esse modelo."
   ]
  },
  {
   "cell_type": "markdown",
   "metadata": {},
   "source": [
    "## Feature importances"
   ]
  },
  {
   "cell_type": "code",
   "execution_count": 57,
   "metadata": {},
   "outputs": [
    {
     "data": {
      "text/html": [
       "<div>\n",
       "<style scoped>\n",
       "    .dataframe tbody tr th:only-of-type {\n",
       "        vertical-align: middle;\n",
       "    }\n",
       "\n",
       "    .dataframe tbody tr th {\n",
       "        vertical-align: top;\n",
       "    }\n",
       "\n",
       "    .dataframe thead th {\n",
       "        text-align: right;\n",
       "    }\n",
       "</style>\n",
       "<table border=\"1\" class=\"dataframe\">\n",
       "  <thead>\n",
       "    <tr style=\"text-align: right;\">\n",
       "      <th></th>\n",
       "      <th>importance</th>\n",
       "    </tr>\n",
       "  </thead>\n",
       "  <tbody>\n",
       "    <tr>\n",
       "      <th>municipio</th>\n",
       "      <td>0.349731</td>\n",
       "    </tr>\n",
       "    <tr>\n",
       "      <th>itemCnmp</th>\n",
       "      <td>0.343017</td>\n",
       "    </tr>\n",
       "    <tr>\n",
       "      <th>quantidadeProvidencias</th>\n",
       "      <td>0.201017</td>\n",
       "    </tr>\n",
       "    <tr>\n",
       "      <th>quantidadeConversoes</th>\n",
       "      <td>0.066970</td>\n",
       "    </tr>\n",
       "    <tr>\n",
       "      <th>classe</th>\n",
       "      <td>0.028063</td>\n",
       "    </tr>\n",
       "    <tr>\n",
       "      <th>areaAtuacao</th>\n",
       "      <td>0.011146</td>\n",
       "    </tr>\n",
       "    <tr>\n",
       "      <th>prioritario</th>\n",
       "      <td>0.000031</td>\n",
       "    </tr>\n",
       "    <tr>\n",
       "      <th>urgente</th>\n",
       "      <td>0.000025</td>\n",
       "    </tr>\n",
       "  </tbody>\n",
       "</table>\n",
       "</div>"
      ],
      "text/plain": [
       "                        importance\n",
       "municipio                 0.349731\n",
       "itemCnmp                  0.343017\n",
       "quantidadeProvidencias    0.201017\n",
       "quantidadeConversoes      0.066970\n",
       "classe                    0.028063\n",
       "areaAtuacao               0.011146\n",
       "prioritario               0.000031\n",
       "urgente                   0.000025"
      ]
     },
     "execution_count": 57,
     "metadata": {},
     "output_type": "execute_result"
    }
   ],
   "source": [
    "import matplotlib.pyplot as plt\n",
    "\n",
    "feature_importances = pd.DataFrame(model.feature_importances_, index = train[features].columns, \n",
    "                                   columns=['importance']).sort_values('importance', ascending=False)\n",
    "feature_importances"
   ]
  },
  {
   "cell_type": "markdown",
   "metadata": {},
   "source": [
    "O modelo está dando muita importância ao município que, considerando o bom senso e um pouco de domínio negocial, não faz sentido - o município não deveria interferir.\n",
    "\n",
    "Lembrar: criar uma coluna para cada uma das listas de palavras-chaves, indicando ausência ou presença"
   ]
  }
 ],
 "metadata": {
  "kernelspec": {
   "display_name": "Python 3",
   "language": "python",
   "name": "python3"
  },
  "language_info": {
   "codemirror_mode": {
    "name": "ipython",
    "version": 3
   },
   "file_extension": ".py",
   "mimetype": "text/x-python",
   "name": "python",
   "nbconvert_exporter": "python",
   "pygments_lexer": "ipython3",
   "version": "3.6.5"
  }
 },
 "nbformat": 4,
 "nbformat_minor": 2
}
