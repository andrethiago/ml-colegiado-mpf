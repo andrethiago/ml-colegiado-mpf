{
 "cells": [
  {
   "cell_type": "markdown",
   "metadata": {},
   "source": [
    "# Introdução\n",
    "\n",
    "Esse caderno tem por objetivo a criação de um modelo básico de treinamento, utilizando o classificador [RandomForest](http://scikit-learn.org/stable/modules/generated/sklearn.ensemble.RandomForestClassifier.html), que faça a predição de homologação de arquivamentos de procedimentos enviados à 1A.CAM do MPF.\n",
    "\n",
    "Esse modelo usará apenas os metadados dos procedimentos, sem fazer nenhum processamento textual.\n",
    "\n",
    "O objetivo desse modelo é servir como um *baseline* de comparações para implementações futuras.\n",
    "\n",
    "\n",
    "**Nota**: os dados desse modelo foram recuperados de procedimentos que tiveram suas deliberações realizadas após o dia 02/07/2018, data em que a nova composição tomou posse na 1A.CAM."
   ]
  },
  {
   "cell_type": "markdown",
   "metadata": {},
   "source": [
    "# Carga de dados e pré-processamento\n",
    "\n",
    "Vamos fazer a carga dos dados e fazer um pré-processamento tradicional (remoção de atributos que não interessam, criação de variáveis categóricas etc.)"
   ]
  },
  {
   "cell_type": "code",
   "execution_count": 1,
   "metadata": {},
   "outputs": [],
   "source": [
    "%load_ext autoreload\n",
    "%autoreload 2\n",
    "\n",
    "%matplotlib inline"
   ]
  },
  {
   "cell_type": "code",
   "execution_count": 2,
   "metadata": {},
   "outputs": [],
   "source": [
    "from sklearn.ensemble import RandomForestClassifier\n",
    "import numpy as np\n",
    "import pandas as pd\n",
    "\n",
    "from sklearn import metrics"
   ]
  },
  {
   "cell_type": "code",
   "execution_count": 3,
   "metadata": {},
   "outputs": [],
   "source": [
    "PATH = \"../data/\"\n",
    "df_original = pd.read_json(f'{PATH}/1A.CAM.homologacao-arquivamento.json')"
   ]
  },
  {
   "cell_type": "code",
   "execution_count": 4,
   "metadata": {},
   "outputs": [
    {
     "data": {
      "text/plain": [
       "7917"
      ]
     },
     "execution_count": 4,
     "metadata": {},
     "output_type": "execute_result"
    }
   ],
   "source": [
    "len(df_original)"
   ]
  },
  {
   "cell_type": "code",
   "execution_count": 5,
   "metadata": {},
   "outputs": [
    {
     "data": {
      "text/plain": [
       "Index(['areaAtuacao', 'classe', 'dataAutuacao', 'dataEntrada', 'homologado',\n",
       "       'id', 'identificadorPecaPromocao', 'itemCnmp', 'membroResponsavel',\n",
       "       'municipio', 'prioritario', 'procedimento', 'quantidadeConversoes',\n",
       "       'quantidadeProvidencias', 'textosProvidencias', 'urgente'],\n",
       "      dtype='object')"
      ]
     },
     "execution_count": 5,
     "metadata": {},
     "output_type": "execute_result"
    }
   ],
   "source": [
    "df_original.columns"
   ]
  },
  {
   "cell_type": "code",
   "execution_count": 6,
   "metadata": {},
   "outputs": [
    {
     "data": {
      "text/html": [
       "<div>\n",
       "<style scoped>\n",
       "    .dataframe tbody tr th:only-of-type {\n",
       "        vertical-align: middle;\n",
       "    }\n",
       "\n",
       "    .dataframe tbody tr th {\n",
       "        vertical-align: top;\n",
       "    }\n",
       "\n",
       "    .dataframe thead th {\n",
       "        text-align: right;\n",
       "    }\n",
       "</style>\n",
       "<table border=\"1\" class=\"dataframe\">\n",
       "  <thead>\n",
       "    <tr style=\"text-align: right;\">\n",
       "      <th></th>\n",
       "      <th>areaAtuacao</th>\n",
       "      <th>classe</th>\n",
       "      <th>homologado</th>\n",
       "      <th>id</th>\n",
       "      <th>identificadorPecaPromocao</th>\n",
       "      <th>itemCnmp</th>\n",
       "      <th>membroResponsavel</th>\n",
       "      <th>municipio</th>\n",
       "      <th>prioritario</th>\n",
       "      <th>quantidadeConversoes</th>\n",
       "      <th>quantidadeProvidencias</th>\n",
       "      <th>urgente</th>\n",
       "    </tr>\n",
       "  </thead>\n",
       "  <tbody>\n",
       "    <tr>\n",
       "      <th>count</th>\n",
       "      <td>7.917000e+03</td>\n",
       "      <td>7917.000000</td>\n",
       "      <td>7917.000000</td>\n",
       "      <td>7.917000e+03</td>\n",
       "      <td>6.997000e+03</td>\n",
       "      <td>7.917000e+03</td>\n",
       "      <td>6997.000000</td>\n",
       "      <td>7917.000000</td>\n",
       "      <td>7917.000000</td>\n",
       "      <td>7917.000000</td>\n",
       "      <td>7917.000000</td>\n",
       "      <td>7917.000000</td>\n",
       "    </tr>\n",
       "    <tr>\n",
       "      <th>mean</th>\n",
       "      <td>2.548770e+02</td>\n",
       "      <td>2.534420</td>\n",
       "      <td>0.984211</td>\n",
       "      <td>6.860230e+07</td>\n",
       "      <td>7.972628e+07</td>\n",
       "      <td>3.423104e+04</td>\n",
       "      <td>38803.358296</td>\n",
       "      <td>2918.129468</td>\n",
       "      <td>0.007326</td>\n",
       "      <td>2.042819</td>\n",
       "      <td>7.221422</td>\n",
       "      <td>0.007705</td>\n",
       "    </tr>\n",
       "    <tr>\n",
       "      <th>std</th>\n",
       "      <td>2.247852e+04</td>\n",
       "      <td>1.326541</td>\n",
       "      <td>0.124665</td>\n",
       "      <td>1.342264e+07</td>\n",
       "      <td>6.711927e+06</td>\n",
       "      <td>2.528822e+05</td>\n",
       "      <td>34481.229931</td>\n",
       "      <td>1670.829668</td>\n",
       "      <td>0.085283</td>\n",
       "      <td>1.440170</td>\n",
       "      <td>8.841174</td>\n",
       "      <td>0.087444</td>\n",
       "    </tr>\n",
       "    <tr>\n",
       "      <th>min</th>\n",
       "      <td>1.000000e+00</td>\n",
       "      <td>1.000000</td>\n",
       "      <td>0.000000</td>\n",
       "      <td>2.842880e+06</td>\n",
       "      <td>5.580442e+07</td>\n",
       "      <td>2.000000e+00</td>\n",
       "      <td>752.000000</td>\n",
       "      <td>1.000000</td>\n",
       "      <td>0.000000</td>\n",
       "      <td>0.000000</td>\n",
       "      <td>0.000000</td>\n",
       "      <td>0.000000</td>\n",
       "    </tr>\n",
       "    <tr>\n",
       "      <th>25%</th>\n",
       "      <td>2.000000e+00</td>\n",
       "      <td>2.000000</td>\n",
       "      <td>1.000000</td>\n",
       "      <td>6.439065e+07</td>\n",
       "      <td>7.442931e+07</td>\n",
       "      <td>1.521000e+03</td>\n",
       "      <td>13674.000000</td>\n",
       "      <td>1443.000000</td>\n",
       "      <td>0.000000</td>\n",
       "      <td>1.000000</td>\n",
       "      <td>2.000000</td>\n",
       "      <td>0.000000</td>\n",
       "    </tr>\n",
       "    <tr>\n",
       "      <th>50%</th>\n",
       "      <td>2.000000e+00</td>\n",
       "      <td>3.000000</td>\n",
       "      <td>1.000000</td>\n",
       "      <td>7.111968e+07</td>\n",
       "      <td>8.008322e+07</td>\n",
       "      <td>1.580000e+03</td>\n",
       "      <td>25768.000000</td>\n",
       "      <td>3087.000000</td>\n",
       "      <td>0.000000</td>\n",
       "      <td>2.000000</td>\n",
       "      <td>5.000000</td>\n",
       "      <td>0.000000</td>\n",
       "    </tr>\n",
       "    <tr>\n",
       "      <th>75%</th>\n",
       "      <td>2.000000e+00</td>\n",
       "      <td>3.000000</td>\n",
       "      <td>1.000000</td>\n",
       "      <td>7.714450e+07</td>\n",
       "      <td>8.607774e+07</td>\n",
       "      <td>1.904000e+03</td>\n",
       "      <td>53328.000000</td>\n",
       "      <td>4383.000000</td>\n",
       "      <td>0.000000</td>\n",
       "      <td>3.000000</td>\n",
       "      <td>9.000000</td>\n",
       "      <td>0.000000</td>\n",
       "    </tr>\n",
       "    <tr>\n",
       "      <th>max</th>\n",
       "      <td>2.000085e+06</td>\n",
       "      <td>64.000000</td>\n",
       "      <td>1.000000</td>\n",
       "      <td>8.842176e+07</td>\n",
       "      <td>8.915323e+07</td>\n",
       "      <td>2.007548e+06</td>\n",
       "      <td>128455.000000</td>\n",
       "      <td>5768.000000</td>\n",
       "      <td>1.000000</td>\n",
       "      <td>13.000000</td>\n",
       "      <td>192.000000</td>\n",
       "      <td>1.000000</td>\n",
       "    </tr>\n",
       "  </tbody>\n",
       "</table>\n",
       "</div>"
      ],
      "text/plain": [
       "        areaAtuacao       classe   homologado            id  \\\n",
       "count  7.917000e+03  7917.000000  7917.000000  7.917000e+03   \n",
       "mean   2.548770e+02     2.534420     0.984211  6.860230e+07   \n",
       "std    2.247852e+04     1.326541     0.124665  1.342264e+07   \n",
       "min    1.000000e+00     1.000000     0.000000  2.842880e+06   \n",
       "25%    2.000000e+00     2.000000     1.000000  6.439065e+07   \n",
       "50%    2.000000e+00     3.000000     1.000000  7.111968e+07   \n",
       "75%    2.000000e+00     3.000000     1.000000  7.714450e+07   \n",
       "max    2.000085e+06    64.000000     1.000000  8.842176e+07   \n",
       "\n",
       "       identificadorPecaPromocao      itemCnmp  membroResponsavel  \\\n",
       "count               6.997000e+03  7.917000e+03        6997.000000   \n",
       "mean                7.972628e+07  3.423104e+04       38803.358296   \n",
       "std                 6.711927e+06  2.528822e+05       34481.229931   \n",
       "min                 5.580442e+07  2.000000e+00         752.000000   \n",
       "25%                 7.442931e+07  1.521000e+03       13674.000000   \n",
       "50%                 8.008322e+07  1.580000e+03       25768.000000   \n",
       "75%                 8.607774e+07  1.904000e+03       53328.000000   \n",
       "max                 8.915323e+07  2.007548e+06      128455.000000   \n",
       "\n",
       "         municipio  prioritario  quantidadeConversoes  quantidadeProvidencias  \\\n",
       "count  7917.000000  7917.000000           7917.000000             7917.000000   \n",
       "mean   2918.129468     0.007326              2.042819                7.221422   \n",
       "std    1670.829668     0.085283              1.440170                8.841174   \n",
       "min       1.000000     0.000000              0.000000                0.000000   \n",
       "25%    1443.000000     0.000000              1.000000                2.000000   \n",
       "50%    3087.000000     0.000000              2.000000                5.000000   \n",
       "75%    4383.000000     0.000000              3.000000                9.000000   \n",
       "max    5768.000000     1.000000             13.000000              192.000000   \n",
       "\n",
       "           urgente  \n",
       "count  7917.000000  \n",
       "mean      0.007705  \n",
       "std       0.087444  \n",
       "min       0.000000  \n",
       "25%       0.000000  \n",
       "50%       0.000000  \n",
       "75%       0.000000  \n",
       "max       1.000000  "
      ]
     },
     "execution_count": 6,
     "metadata": {},
     "output_type": "execute_result"
    }
   ],
   "source": [
    "df_original.describe()"
   ]
  },
  {
   "cell_type": "code",
   "execution_count": 7,
   "metadata": {},
   "outputs": [
    {
     "data": {
      "text/plain": [
       "920"
      ]
     },
     "execution_count": 7,
     "metadata": {},
     "output_type": "execute_result"
    }
   ],
   "source": [
    "len(df_original[df_original.identificadorPecaPromocao.isnull()])"
   ]
  },
  {
   "cell_type": "code",
   "execution_count": 8,
   "metadata": {},
   "outputs": [],
   "source": [
    "df_work = df_original.copy()"
   ]
  },
  {
   "cell_type": "code",
   "execution_count": 9,
   "metadata": {},
   "outputs": [],
   "source": [
    "# elementos com peça de promoção de arquivamento nulos não nos interessam\n",
    "#df_work.dropna(subset=['identificadorPecaPromocao'], inplace=True)\n",
    "#df_work.reset_index(drop=True, inplace=True)"
   ]
  },
  {
   "cell_type": "code",
   "execution_count": 10,
   "metadata": {},
   "outputs": [
    {
     "data": {
      "text/plain": [
       "0"
      ]
     },
     "execution_count": 10,
     "metadata": {},
     "output_type": "execute_result"
    }
   ],
   "source": [
    "#len(df_work[df_work.identificadorPecaPromocao.isnull()])"
   ]
  },
  {
   "cell_type": "code",
   "execution_count": 9,
   "metadata": {},
   "outputs": [
    {
     "data": {
      "text/html": [
       "<div>\n",
       "<style scoped>\n",
       "    .dataframe tbody tr th:only-of-type {\n",
       "        vertical-align: middle;\n",
       "    }\n",
       "\n",
       "    .dataframe tbody tr th {\n",
       "        vertical-align: top;\n",
       "    }\n",
       "\n",
       "    .dataframe thead th {\n",
       "        text-align: right;\n",
       "    }\n",
       "</style>\n",
       "<table border=\"1\" class=\"dataframe\">\n",
       "  <thead>\n",
       "    <tr style=\"text-align: right;\">\n",
       "      <th></th>\n",
       "      <th>areaAtuacao</th>\n",
       "      <th>classe</th>\n",
       "      <th>dataAutuacao</th>\n",
       "      <th>dataEntrada</th>\n",
       "      <th>homologado</th>\n",
       "      <th>itemCnmp</th>\n",
       "      <th>membroResponsavel</th>\n",
       "      <th>municipio</th>\n",
       "      <th>prioritario</th>\n",
       "      <th>quantidadeConversoes</th>\n",
       "      <th>quantidadeProvidencias</th>\n",
       "      <th>urgente</th>\n",
       "    </tr>\n",
       "  </thead>\n",
       "  <tbody>\n",
       "    <tr>\n",
       "      <th>6677</th>\n",
       "      <td>2</td>\n",
       "      <td>3</td>\n",
       "      <td>29-05-2014</td>\n",
       "      <td>24-06-2016</td>\n",
       "      <td>1</td>\n",
       "      <td>1556</td>\n",
       "      <td>64246.0</td>\n",
       "      <td>1301</td>\n",
       "      <td>0</td>\n",
       "      <td>2</td>\n",
       "      <td>10</td>\n",
       "      <td>0</td>\n",
       "    </tr>\n",
       "    <tr>\n",
       "      <th>906</th>\n",
       "      <td>2</td>\n",
       "      <td>2</td>\n",
       "      <td>25-05-2018</td>\n",
       "      <td>09-08-2018</td>\n",
       "      <td>1</td>\n",
       "      <td>1503</td>\n",
       "      <td>26496.0</td>\n",
       "      <td>5296</td>\n",
       "      <td>0</td>\n",
       "      <td>1</td>\n",
       "      <td>1</td>\n",
       "      <td>0</td>\n",
       "    </tr>\n",
       "    <tr>\n",
       "      <th>5296</th>\n",
       "      <td>2</td>\n",
       "      <td>3</td>\n",
       "      <td>06-05-2014</td>\n",
       "      <td>14-03-2017</td>\n",
       "      <td>1</td>\n",
       "      <td>3147</td>\n",
       "      <td>NaN</td>\n",
       "      <td>3989</td>\n",
       "      <td>0</td>\n",
       "      <td>5</td>\n",
       "      <td>5</td>\n",
       "      <td>0</td>\n",
       "    </tr>\n",
       "    <tr>\n",
       "      <th>1374</th>\n",
       "      <td>2</td>\n",
       "      <td>3</td>\n",
       "      <td>30-08-2017</td>\n",
       "      <td>16-07-2018</td>\n",
       "      <td>1</td>\n",
       "      <td>933</td>\n",
       "      <td>14143.0</td>\n",
       "      <td>3708</td>\n",
       "      <td>0</td>\n",
       "      <td>3</td>\n",
       "      <td>5</td>\n",
       "      <td>0</td>\n",
       "    </tr>\n",
       "    <tr>\n",
       "      <th>3751</th>\n",
       "      <td>2</td>\n",
       "      <td>2</td>\n",
       "      <td>14-02-2017</td>\n",
       "      <td>27-09-2017</td>\n",
       "      <td>1</td>\n",
       "      <td>1556</td>\n",
       "      <td>127510.0</td>\n",
       "      <td>226</td>\n",
       "      <td>0</td>\n",
       "      <td>2</td>\n",
       "      <td>5</td>\n",
       "      <td>0</td>\n",
       "    </tr>\n",
       "    <tr>\n",
       "      <th>3741</th>\n",
       "      <td>5</td>\n",
       "      <td>3</td>\n",
       "      <td>10-11-2015</td>\n",
       "      <td>19-10-2017</td>\n",
       "      <td>1</td>\n",
       "      <td>1864</td>\n",
       "      <td>23247.0</td>\n",
       "      <td>1819</td>\n",
       "      <td>0</td>\n",
       "      <td>3</td>\n",
       "      <td>10</td>\n",
       "      <td>0</td>\n",
       "    </tr>\n",
       "    <tr>\n",
       "      <th>3771</th>\n",
       "      <td>2</td>\n",
       "      <td>5</td>\n",
       "      <td>13-12-2016</td>\n",
       "      <td>05-10-2017</td>\n",
       "      <td>1</td>\n",
       "      <td>1556</td>\n",
       "      <td>18182.0</td>\n",
       "      <td>4111</td>\n",
       "      <td>0</td>\n",
       "      <td>0</td>\n",
       "      <td>4</td>\n",
       "      <td>0</td>\n",
       "    </tr>\n",
       "    <tr>\n",
       "      <th>5786</th>\n",
       "      <td>2</td>\n",
       "      <td>2</td>\n",
       "      <td>13-07-2016</td>\n",
       "      <td>19-01-2017</td>\n",
       "      <td>1</td>\n",
       "      <td>623</td>\n",
       "      <td>NaN</td>\n",
       "      <td>5459</td>\n",
       "      <td>0</td>\n",
       "      <td>2</td>\n",
       "      <td>8</td>\n",
       "      <td>0</td>\n",
       "    </tr>\n",
       "    <tr>\n",
       "      <th>6399</th>\n",
       "      <td>2</td>\n",
       "      <td>2</td>\n",
       "      <td>29-04-2016</td>\n",
       "      <td>23-09-2016</td>\n",
       "      <td>1</td>\n",
       "      <td>1537</td>\n",
       "      <td>20982.0</td>\n",
       "      <td>810</td>\n",
       "      <td>0</td>\n",
       "      <td>1</td>\n",
       "      <td>3</td>\n",
       "      <td>0</td>\n",
       "    </tr>\n",
       "    <tr>\n",
       "      <th>5813</th>\n",
       "      <td>2</td>\n",
       "      <td>2</td>\n",
       "      <td>08-07-2016</td>\n",
       "      <td>27-12-2016</td>\n",
       "      <td>1</td>\n",
       "      <td>1106</td>\n",
       "      <td>NaN</td>\n",
       "      <td>3671</td>\n",
       "      <td>0</td>\n",
       "      <td>2</td>\n",
       "      <td>9</td>\n",
       "      <td>0</td>\n",
       "    </tr>\n",
       "  </tbody>\n",
       "</table>\n",
       "</div>"
      ],
      "text/plain": [
       "      areaAtuacao  classe dataAutuacao dataEntrada  homologado  itemCnmp  \\\n",
       "6677            2       3   29-05-2014  24-06-2016           1      1556   \n",
       "906             2       2   25-05-2018  09-08-2018           1      1503   \n",
       "5296            2       3   06-05-2014  14-03-2017           1      3147   \n",
       "1374            2       3   30-08-2017  16-07-2018           1       933   \n",
       "3751            2       2   14-02-2017  27-09-2017           1      1556   \n",
       "3741            5       3   10-11-2015  19-10-2017           1      1864   \n",
       "3771            2       5   13-12-2016  05-10-2017           1      1556   \n",
       "5786            2       2   13-07-2016  19-01-2017           1       623   \n",
       "6399            2       2   29-04-2016  23-09-2016           1      1537   \n",
       "5813            2       2   08-07-2016  27-12-2016           1      1106   \n",
       "\n",
       "      membroResponsavel  municipio  prioritario  quantidadeConversoes  \\\n",
       "6677            64246.0       1301            0                     2   \n",
       "906             26496.0       5296            0                     1   \n",
       "5296                NaN       3989            0                     5   \n",
       "1374            14143.0       3708            0                     3   \n",
       "3751           127510.0        226            0                     2   \n",
       "3741            23247.0       1819            0                     3   \n",
       "3771            18182.0       4111            0                     0   \n",
       "5786                NaN       5459            0                     2   \n",
       "6399            20982.0        810            0                     1   \n",
       "5813                NaN       3671            0                     2   \n",
       "\n",
       "      quantidadeProvidencias  urgente  \n",
       "6677                      10        0  \n",
       "906                        1        0  \n",
       "5296                       5        0  \n",
       "1374                       5        0  \n",
       "3751                       5        0  \n",
       "3741                      10        0  \n",
       "3771                       4        0  \n",
       "5786                       8        0  \n",
       "6399                       3        0  \n",
       "5813                       9        0  "
      ]
     },
     "execution_count": 9,
     "metadata": {},
     "output_type": "execute_result"
    }
   ],
   "source": [
    "# nessa primeira passada, essas colunas não nos interessam\n",
    "removed_columns = ['id', 'procedimento', 'textosProvidencias', 'identificadorPecaPromocao']\n",
    "df_work = df_work.drop(columns=removed_columns)\n",
    "df_work.sample(10)"
   ]
  },
  {
   "cell_type": "code",
   "execution_count": 10,
   "metadata": {},
   "outputs": [
    {
     "data": {
      "text/html": [
       "<div>\n",
       "<style scoped>\n",
       "    .dataframe tbody tr th:only-of-type {\n",
       "        vertical-align: middle;\n",
       "    }\n",
       "\n",
       "    .dataframe tbody tr th {\n",
       "        vertical-align: top;\n",
       "    }\n",
       "\n",
       "    .dataframe thead th {\n",
       "        text-align: right;\n",
       "    }\n",
       "</style>\n",
       "<table border=\"1\" class=\"dataframe\">\n",
       "  <thead>\n",
       "    <tr style=\"text-align: right;\">\n",
       "      <th></th>\n",
       "      <th>areaAtuacao</th>\n",
       "      <th>classe</th>\n",
       "      <th>homologado</th>\n",
       "      <th>itemCnmp</th>\n",
       "      <th>membroResponsavel</th>\n",
       "      <th>municipio</th>\n",
       "      <th>prioritario</th>\n",
       "      <th>quantidadeConversoes</th>\n",
       "      <th>quantidadeProvidencias</th>\n",
       "      <th>urgente</th>\n",
       "    </tr>\n",
       "  </thead>\n",
       "  <tbody>\n",
       "    <tr>\n",
       "      <th>count</th>\n",
       "      <td>7.917000e+03</td>\n",
       "      <td>7917.000000</td>\n",
       "      <td>7917.000000</td>\n",
       "      <td>7.917000e+03</td>\n",
       "      <td>6997.000000</td>\n",
       "      <td>7917.000000</td>\n",
       "      <td>7917.000000</td>\n",
       "      <td>7917.000000</td>\n",
       "      <td>7917.000000</td>\n",
       "      <td>7917.000000</td>\n",
       "    </tr>\n",
       "    <tr>\n",
       "      <th>mean</th>\n",
       "      <td>2.548770e+02</td>\n",
       "      <td>2.534420</td>\n",
       "      <td>0.984211</td>\n",
       "      <td>3.423104e+04</td>\n",
       "      <td>38803.358296</td>\n",
       "      <td>2918.129468</td>\n",
       "      <td>0.007326</td>\n",
       "      <td>2.042819</td>\n",
       "      <td>7.221422</td>\n",
       "      <td>0.007705</td>\n",
       "    </tr>\n",
       "    <tr>\n",
       "      <th>std</th>\n",
       "      <td>2.247852e+04</td>\n",
       "      <td>1.326541</td>\n",
       "      <td>0.124665</td>\n",
       "      <td>2.528822e+05</td>\n",
       "      <td>34481.229931</td>\n",
       "      <td>1670.829668</td>\n",
       "      <td>0.085283</td>\n",
       "      <td>1.440170</td>\n",
       "      <td>8.841174</td>\n",
       "      <td>0.087444</td>\n",
       "    </tr>\n",
       "    <tr>\n",
       "      <th>min</th>\n",
       "      <td>1.000000e+00</td>\n",
       "      <td>1.000000</td>\n",
       "      <td>0.000000</td>\n",
       "      <td>2.000000e+00</td>\n",
       "      <td>752.000000</td>\n",
       "      <td>1.000000</td>\n",
       "      <td>0.000000</td>\n",
       "      <td>0.000000</td>\n",
       "      <td>0.000000</td>\n",
       "      <td>0.000000</td>\n",
       "    </tr>\n",
       "    <tr>\n",
       "      <th>25%</th>\n",
       "      <td>2.000000e+00</td>\n",
       "      <td>2.000000</td>\n",
       "      <td>1.000000</td>\n",
       "      <td>1.521000e+03</td>\n",
       "      <td>13674.000000</td>\n",
       "      <td>1443.000000</td>\n",
       "      <td>0.000000</td>\n",
       "      <td>1.000000</td>\n",
       "      <td>2.000000</td>\n",
       "      <td>0.000000</td>\n",
       "    </tr>\n",
       "    <tr>\n",
       "      <th>50%</th>\n",
       "      <td>2.000000e+00</td>\n",
       "      <td>3.000000</td>\n",
       "      <td>1.000000</td>\n",
       "      <td>1.580000e+03</td>\n",
       "      <td>25768.000000</td>\n",
       "      <td>3087.000000</td>\n",
       "      <td>0.000000</td>\n",
       "      <td>2.000000</td>\n",
       "      <td>5.000000</td>\n",
       "      <td>0.000000</td>\n",
       "    </tr>\n",
       "    <tr>\n",
       "      <th>75%</th>\n",
       "      <td>2.000000e+00</td>\n",
       "      <td>3.000000</td>\n",
       "      <td>1.000000</td>\n",
       "      <td>1.904000e+03</td>\n",
       "      <td>53328.000000</td>\n",
       "      <td>4383.000000</td>\n",
       "      <td>0.000000</td>\n",
       "      <td>3.000000</td>\n",
       "      <td>9.000000</td>\n",
       "      <td>0.000000</td>\n",
       "    </tr>\n",
       "    <tr>\n",
       "      <th>max</th>\n",
       "      <td>2.000085e+06</td>\n",
       "      <td>64.000000</td>\n",
       "      <td>1.000000</td>\n",
       "      <td>2.007548e+06</td>\n",
       "      <td>128455.000000</td>\n",
       "      <td>5768.000000</td>\n",
       "      <td>1.000000</td>\n",
       "      <td>13.000000</td>\n",
       "      <td>192.000000</td>\n",
       "      <td>1.000000</td>\n",
       "    </tr>\n",
       "  </tbody>\n",
       "</table>\n",
       "</div>"
      ],
      "text/plain": [
       "        areaAtuacao       classe   homologado      itemCnmp  \\\n",
       "count  7.917000e+03  7917.000000  7917.000000  7.917000e+03   \n",
       "mean   2.548770e+02     2.534420     0.984211  3.423104e+04   \n",
       "std    2.247852e+04     1.326541     0.124665  2.528822e+05   \n",
       "min    1.000000e+00     1.000000     0.000000  2.000000e+00   \n",
       "25%    2.000000e+00     2.000000     1.000000  1.521000e+03   \n",
       "50%    2.000000e+00     3.000000     1.000000  1.580000e+03   \n",
       "75%    2.000000e+00     3.000000     1.000000  1.904000e+03   \n",
       "max    2.000085e+06    64.000000     1.000000  2.007548e+06   \n",
       "\n",
       "       membroResponsavel    municipio  prioritario  quantidadeConversoes  \\\n",
       "count        6997.000000  7917.000000  7917.000000           7917.000000   \n",
       "mean        38803.358296  2918.129468     0.007326              2.042819   \n",
       "std         34481.229931  1670.829668     0.085283              1.440170   \n",
       "min           752.000000     1.000000     0.000000              0.000000   \n",
       "25%         13674.000000  1443.000000     0.000000              1.000000   \n",
       "50%         25768.000000  3087.000000     0.000000              2.000000   \n",
       "75%         53328.000000  4383.000000     0.000000              3.000000   \n",
       "max        128455.000000  5768.000000     1.000000             13.000000   \n",
       "\n",
       "       quantidadeProvidencias      urgente  \n",
       "count             7917.000000  7917.000000  \n",
       "mean                 7.221422     0.007705  \n",
       "std                  8.841174     0.087444  \n",
       "min                  0.000000     0.000000  \n",
       "25%                  2.000000     0.000000  \n",
       "50%                  5.000000     0.000000  \n",
       "75%                  9.000000     0.000000  \n",
       "max                192.000000     1.000000  "
      ]
     },
     "execution_count": 10,
     "metadata": {},
     "output_type": "execute_result"
    }
   ],
   "source": [
    "df_work.describe()"
   ]
  },
  {
   "cell_type": "code",
   "execution_count": 11,
   "metadata": {},
   "outputs": [],
   "source": [
    "# tratando os nulos\n",
    "df_work.fillna(0, inplace=True)"
   ]
  },
  {
   "cell_type": "code",
   "execution_count": 12,
   "metadata": {},
   "outputs": [
    {
     "data": {
      "text/plain": [
       "(7792, 125)"
      ]
     },
     "execution_count": 12,
     "metadata": {},
     "output_type": "execute_result"
    }
   ],
   "source": [
    "len(df_work[df_work['homologado'] == 1]),len(df_work[df_work['homologado'] == 0])"
   ]
  },
  {
   "cell_type": "code",
   "execution_count": 13,
   "metadata": {},
   "outputs": [
    {
     "data": {
      "text/plain": [
       "<matplotlib.axes._subplots.AxesSubplot at 0xa799db6c>"
      ]
     },
     "execution_count": 13,
     "metadata": {},
     "output_type": "execute_result"
    },
    {
     "data": {
      "image/png": "[encoded data removed]",
      "text/plain": [
       "<Figure size 432x288 with 1 Axes>"
      ]
     },
     "metadata": {},
     "output_type": "display_data"
    }
   ],
   "source": [
    "df_work['homologado'].value_counts().plot.bar()"
   ]
  },
  {
   "cell_type": "markdown",
   "metadata": {},
   "source": [
    "### Classes desbalanceadas!!!\n",
    "\n",
    "Conforme podemos ver acima, as classes desse problema são altamente desbalanceadas - apenas 1.46% do conjunto de dados representam procedimentos que não foram homologados.\n",
    "\n",
    "Isso, muito provavelmente, causará problemas no treino do modelo. Mas, inicialmente, vamos ignorar isso e seguir com o nosso treino."
   ]
  },
  {
   "cell_type": "code",
   "execution_count": 14,
   "metadata": {},
   "outputs": [],
   "source": [
    "# conversão para datas\n",
    "df_work['dataAutuacao'] = pd.to_datetime(df_work['dataAutuacao'],infer_datetime_format=True)\n",
    "df_work['dataEntrada'] = pd.to_datetime(df_work['dataEntrada'],infer_datetime_format=True)"
   ]
  },
  {
   "cell_type": "code",
   "execution_count": 15,
   "metadata": {},
   "outputs": [],
   "source": [
    "# vamos criar uma variável derivada, representando a quantidade de dias desde a autuação até a entrada\n",
    "df_work['diasTranscorridos'] = 0\n",
    "for index in range(len(df_work)):\n",
    "    df_work.loc[index, 'diasTranscorridos'] =  np.abs((df_work.loc[index, 'dataEntrada'] - df_work.loc[index, 'dataAutuacao']).days)"
   ]
  },
  {
   "cell_type": "code",
   "execution_count": 16,
   "metadata": {},
   "outputs": [
    {
     "data": {
      "text/html": [
       "<div>\n",
       "<style scoped>\n",
       "    .dataframe tbody tr th:only-of-type {\n",
       "        vertical-align: middle;\n",
       "    }\n",
       "\n",
       "    .dataframe tbody tr th {\n",
       "        vertical-align: top;\n",
       "    }\n",
       "\n",
       "    .dataframe thead th {\n",
       "        text-align: right;\n",
       "    }\n",
       "</style>\n",
       "<table border=\"1\" class=\"dataframe\">\n",
       "  <thead>\n",
       "    <tr style=\"text-align: right;\">\n",
       "      <th></th>\n",
       "      <th>areaAtuacao</th>\n",
       "      <th>classe</th>\n",
       "      <th>dataAutuacao</th>\n",
       "      <th>dataEntrada</th>\n",
       "      <th>homologado</th>\n",
       "      <th>itemCnmp</th>\n",
       "      <th>membroResponsavel</th>\n",
       "      <th>municipio</th>\n",
       "      <th>prioritario</th>\n",
       "      <th>quantidadeConversoes</th>\n",
       "      <th>quantidadeProvidencias</th>\n",
       "      <th>urgente</th>\n",
       "      <th>diasTranscorridos</th>\n",
       "    </tr>\n",
       "  </thead>\n",
       "  <tbody>\n",
       "    <tr>\n",
       "      <th>5868</th>\n",
       "      <td>2</td>\n",
       "      <td>3</td>\n",
       "      <td>2010-10-28</td>\n",
       "      <td>2016-12-14</td>\n",
       "      <td>1</td>\n",
       "      <td>1581</td>\n",
       "      <td>23774.0</td>\n",
       "      <td>4828</td>\n",
       "      <td>0</td>\n",
       "      <td>5</td>\n",
       "      <td>24</td>\n",
       "      <td>0</td>\n",
       "      <td>2239</td>\n",
       "    </tr>\n",
       "    <tr>\n",
       "      <th>3121</th>\n",
       "      <td>2</td>\n",
       "      <td>3</td>\n",
       "      <td>2016-06-20</td>\n",
       "      <td>2018-03-20</td>\n",
       "      <td>1</td>\n",
       "      <td>1532</td>\n",
       "      <td>87588.0</td>\n",
       "      <td>253</td>\n",
       "      <td>0</td>\n",
       "      <td>3</td>\n",
       "      <td>10</td>\n",
       "      <td>0</td>\n",
       "      <td>638</td>\n",
       "    </tr>\n",
       "    <tr>\n",
       "      <th>5998</th>\n",
       "      <td>2</td>\n",
       "      <td>2</td>\n",
       "      <td>2015-04-08</td>\n",
       "      <td>2016-11-28</td>\n",
       "      <td>1</td>\n",
       "      <td>1503</td>\n",
       "      <td>22905.0</td>\n",
       "      <td>687</td>\n",
       "      <td>0</td>\n",
       "      <td>2</td>\n",
       "      <td>6</td>\n",
       "      <td>0</td>\n",
       "      <td>600</td>\n",
       "    </tr>\n",
       "    <tr>\n",
       "      <th>7236</th>\n",
       "      <td>2</td>\n",
       "      <td>2</td>\n",
       "      <td>2015-12-15</td>\n",
       "      <td>2016-03-18</td>\n",
       "      <td>1</td>\n",
       "      <td>695</td>\n",
       "      <td>4492.0</td>\n",
       "      <td>3113</td>\n",
       "      <td>0</td>\n",
       "      <td>1</td>\n",
       "      <td>3</td>\n",
       "      <td>0</td>\n",
       "      <td>94</td>\n",
       "    </tr>\n",
       "    <tr>\n",
       "      <th>2643</th>\n",
       "      <td>2</td>\n",
       "      <td>2</td>\n",
       "      <td>2017-03-14</td>\n",
       "      <td>2018-05-08</td>\n",
       "      <td>1</td>\n",
       "      <td>1503</td>\n",
       "      <td>22992.0</td>\n",
       "      <td>528</td>\n",
       "      <td>0</td>\n",
       "      <td>1</td>\n",
       "      <td>3</td>\n",
       "      <td>0</td>\n",
       "      <td>420</td>\n",
       "    </tr>\n",
       "    <tr>\n",
       "      <th>6800</th>\n",
       "      <td>2</td>\n",
       "      <td>3</td>\n",
       "      <td>2014-05-20</td>\n",
       "      <td>2016-06-02</td>\n",
       "      <td>1</td>\n",
       "      <td>1654</td>\n",
       "      <td>2663.0</td>\n",
       "      <td>3113</td>\n",
       "      <td>0</td>\n",
       "      <td>4</td>\n",
       "      <td>27</td>\n",
       "      <td>0</td>\n",
       "      <td>744</td>\n",
       "    </tr>\n",
       "    <tr>\n",
       "      <th>2768</th>\n",
       "      <td>2</td>\n",
       "      <td>3</td>\n",
       "      <td>2016-12-07</td>\n",
       "      <td>2018-05-02</td>\n",
       "      <td>1</td>\n",
       "      <td>1689</td>\n",
       "      <td>17136.0</td>\n",
       "      <td>2931</td>\n",
       "      <td>0</td>\n",
       "      <td>1</td>\n",
       "      <td>6</td>\n",
       "      <td>0</td>\n",
       "      <td>511</td>\n",
       "    </tr>\n",
       "    <tr>\n",
       "      <th>6356</th>\n",
       "      <td>2</td>\n",
       "      <td>3</td>\n",
       "      <td>2015-03-11</td>\n",
       "      <td>2016-09-28</td>\n",
       "      <td>1</td>\n",
       "      <td>1580</td>\n",
       "      <td>53322.0</td>\n",
       "      <td>2772</td>\n",
       "      <td>0</td>\n",
       "      <td>2</td>\n",
       "      <td>14</td>\n",
       "      <td>0</td>\n",
       "      <td>567</td>\n",
       "    </tr>\n",
       "    <tr>\n",
       "      <th>2461</th>\n",
       "      <td>2</td>\n",
       "      <td>2</td>\n",
       "      <td>2017-08-17</td>\n",
       "      <td>2018-05-18</td>\n",
       "      <td>1</td>\n",
       "      <td>3156</td>\n",
       "      <td>127536.0</td>\n",
       "      <td>5</td>\n",
       "      <td>0</td>\n",
       "      <td>2</td>\n",
       "      <td>2</td>\n",
       "      <td>0</td>\n",
       "      <td>274</td>\n",
       "    </tr>\n",
       "    <tr>\n",
       "      <th>1145</th>\n",
       "      <td>2</td>\n",
       "      <td>2</td>\n",
       "      <td>2018-04-30</td>\n",
       "      <td>2018-07-24</td>\n",
       "      <td>1</td>\n",
       "      <td>2830</td>\n",
       "      <td>26496.0</td>\n",
       "      <td>5296</td>\n",
       "      <td>0</td>\n",
       "      <td>1</td>\n",
       "      <td>2</td>\n",
       "      <td>0</td>\n",
       "      <td>85</td>\n",
       "    </tr>\n",
       "  </tbody>\n",
       "</table>\n",
       "</div>"
      ],
      "text/plain": [
       "      areaAtuacao  classe dataAutuacao dataEntrada  homologado  itemCnmp  \\\n",
       "5868            2       3   2010-10-28  2016-12-14           1      1581   \n",
       "3121            2       3   2016-06-20  2018-03-20           1      1532   \n",
       "5998            2       2   2015-04-08  2016-11-28           1      1503   \n",
       "7236            2       2   2015-12-15  2016-03-18           1       695   \n",
       "2643            2       2   2017-03-14  2018-05-08           1      1503   \n",
       "6800            2       3   2014-05-20  2016-06-02           1      1654   \n",
       "2768            2       3   2016-12-07  2018-05-02           1      1689   \n",
       "6356            2       3   2015-03-11  2016-09-28           1      1580   \n",
       "2461            2       2   2017-08-17  2018-05-18           1      3156   \n",
       "1145            2       2   2018-04-30  2018-07-24           1      2830   \n",
       "\n",
       "      membroResponsavel  municipio  prioritario  quantidadeConversoes  \\\n",
       "5868            23774.0       4828            0                     5   \n",
       "3121            87588.0        253            0                     3   \n",
       "5998            22905.0        687            0                     2   \n",
       "7236             4492.0       3113            0                     1   \n",
       "2643            22992.0        528            0                     1   \n",
       "6800             2663.0       3113            0                     4   \n",
       "2768            17136.0       2931            0                     1   \n",
       "6356            53322.0       2772            0                     2   \n",
       "2461           127536.0          5            0                     2   \n",
       "1145            26496.0       5296            0                     1   \n",
       "\n",
       "      quantidadeProvidencias  urgente  diasTranscorridos  \n",
       "5868                      24        0               2239  \n",
       "3121                      10        0                638  \n",
       "5998                       6        0                600  \n",
       "7236                       3        0                 94  \n",
       "2643                       3        0                420  \n",
       "6800                      27        0                744  \n",
       "2768                       6        0                511  \n",
       "6356                      14        0                567  \n",
       "2461                       2        0                274  \n",
       "1145                       2        0                 85  "
      ]
     },
     "execution_count": 16,
     "metadata": {},
     "output_type": "execute_result"
    }
   ],
   "source": [
    "df_work.sample(10)"
   ]
  },
  {
   "cell_type": "code",
   "execution_count": 50,
   "metadata": {},
   "outputs": [
    {
     "data": {
      "text/plain": [
       "RandomForestClassifier(bootstrap=True, class_weight=None, criterion='gini',\n",
       "            max_depth=None, max_features='auto', max_leaf_nodes=None,\n",
       "            min_impurity_decrease=0.0, min_impurity_split=None,\n",
       "            min_samples_leaf=1, min_samples_split=2,\n",
       "            min_weight_fraction_leaf=0.0, n_estimators=10, n_jobs=1,\n",
       "            oob_score=False, random_state=42, verbose=0, warm_start=False)"
      ]
     },
     "execution_count": 50,
     "metadata": {},
     "output_type": "execute_result"
    }
   ],
   "source": [
    "removed_columns = ['homologado', 'dataEntrada', 'dataAutuacao']\n",
    "features = [c for c in df_work.columns if c not in removed_columns]\n",
    "\n",
    "model = RandomForestClassifier(random_state=42)\n",
    "model.fit(df_work[features], df_work['homologado'])"
   ]
  },
  {
   "cell_type": "code",
   "execution_count": 51,
   "metadata": {},
   "outputs": [
    {
     "data": {
      "text/plain": [
       "0.9983579638752053"
      ]
     },
     "execution_count": 51,
     "metadata": {},
     "output_type": "execute_result"
    }
   ],
   "source": [
    "model.score(df_work[features], df_work['homologado'])"
   ]
  },
  {
   "cell_type": "code",
   "execution_count": 52,
   "metadata": {},
   "outputs": [
    {
     "data": {
      "text/plain": [
       "((5937, 13), (1980, 13))"
      ]
     },
     "execution_count": 52,
     "metadata": {},
     "output_type": "execute_result"
    }
   ],
   "source": [
    "from sklearn.model_selection import train_test_split\n",
    "\n",
    "train, valid = train_test_split(df_work, random_state=42)\n",
    "train.shape, valid.shape"
   ]
  },
  {
   "cell_type": "code",
   "execution_count": 53,
   "metadata": {},
   "outputs": [
    {
     "data": {
      "text/plain": [
       "RandomForestClassifier(bootstrap=True, class_weight=None, criterion='gini',\n",
       "            max_depth=None, max_features='auto', max_leaf_nodes=None,\n",
       "            min_impurity_decrease=0.0, min_impurity_split=None,\n",
       "            min_samples_leaf=1, min_samples_split=2,\n",
       "            min_weight_fraction_leaf=0.0, n_estimators=10, n_jobs=1,\n",
       "            oob_score=False, random_state=42, verbose=0, warm_start=False)"
      ]
     },
     "execution_count": 53,
     "metadata": {},
     "output_type": "execute_result"
    }
   ],
   "source": [
    "model.fit(train[features], train['homologado'])"
   ]
  },
  {
   "cell_type": "code",
   "execution_count": 54,
   "metadata": {},
   "outputs": [],
   "source": [
    "train_preds = model.predict(train[features])\n",
    "valid_preds = model.predict(valid[features])"
   ]
  },
  {
   "cell_type": "code",
   "execution_count": 55,
   "metadata": {},
   "outputs": [
    {
     "name": "stdout",
     "output_type": "stream",
     "text": [
      "Accuracy score: 0.9981472123968335 0.9858585858585859\n",
      "Precision score:  0.9858585858585859\n",
      "Recall score:  1.0\n",
      "F1 score:  0.9928789420142421\n"
     ]
    }
   ],
   "source": [
    "from sklearn.metrics import accuracy_score, precision_score, recall_score, f1_score\n",
    "\n",
    "def print_score():\n",
    "    print('Accuracy score:', accuracy_score(train['homologado'], train_preds), accuracy_score(valid['homologado'], valid_preds))\n",
    "    print('Precision score: ', format(precision_score(valid['homologado'], valid_preds)))\n",
    "    print('Recall score: ', format(recall_score(valid['homologado'], valid_preds)))\n",
    "    print('F1 score: ', format(f1_score(valid['homologado'], valid_preds)))\n",
    "\n",
    "print_score()"
   ]
  },
  {
   "cell_type": "markdown",
   "metadata": {},
   "source": [
    "### Primeira avaliação\n",
    "\n",
    "Embora não tenha ocorrido overfitting no treinamento e o *score* final tenha sido alto, cabe utilizar uma outra medida para assegurar a qualidade do modelo. Vamos utilizar a ** *matriz de confusão* **.\n",
    "\n"
   ]
  },
  {
   "cell_type": "code",
   "execution_count": 56,
   "metadata": {
    "scrolled": true
   },
   "outputs": [
    {
     "data": {
      "text/plain": [
       "array([[   0,   28],\n",
       "       [   0, 1952]], dtype=int64)"
      ]
     },
     "execution_count": 56,
     "metadata": {},
     "output_type": "execute_result"
    }
   ],
   "source": [
    "from sklearn.metrics import confusion_matrix\n",
    "\n",
    "confusion_matrix(valid['homologado'], valid_preds)"
   ]
  },
  {
   "cell_type": "code",
   "execution_count": 57,
   "metadata": {},
   "outputs": [
    {
     "data": {
      "text/plain": [
       "array([   0,   28,    0, 1952], dtype=int64)"
      ]
     },
     "execution_count": 57,
     "metadata": {},
     "output_type": "execute_result"
    }
   ],
   "source": [
    "confusion_matrix(valid['homologado'], valid_preds).ravel()"
   ]
  },
  {
   "cell_type": "code",
   "execution_count": 58,
   "metadata": {},
   "outputs": [
    {
     "data": {
      "text/plain": [
       "(1952, 28)"
      ]
     },
     "execution_count": 58,
     "metadata": {},
     "output_type": "execute_result"
    }
   ],
   "source": [
    "len(valid[valid['homologado']==1]), len(valid[valid['homologado']==0])"
   ]
  },
  {
   "cell_type": "markdown",
   "metadata": {},
   "source": [
    "Ao utilizar o ravel(), temos uma saída do tipo (tn, fp, fn, tp). De onde vemos que:\n",
    "\n",
    "\n",
    "- tivemos 0 tn - *true negative*; ou seja, o modelo não acertou **nenhum** dos que não tiveram o arquivamento homologado;\n",
    "- tivemos 28 fp - *false positive*; 28 que não tiveram o arquivamento não homologado e o modelo classificou como homologado;\n",
    "- tivemos 0 fn - *false negative*; foram homologados e o modelo marcou como não homologados;\n",
    "- tivemos 1952 tp - *true positive*; foram homologados e o modelo marcou corretamente.\n",
    "\n",
    "Logo, apesar da acurácia do modelo aparentar ser muito boa (98% no validation set), o **modelo não sabe lidar com os não arquivamentos** - não acertou nenhum dos que realmente não foram homologados. Ou seja dos 28 que não foram homologados, o modelo errou todos.\n",
    "\n",
    "Fica claro que somente essas features não ajudam na descoberta - o texto da íntegra é, segundo a área negocial, realmente o mais importante.\n",
    "\n",
    "Vamos continuar avaliando esse modelo."
   ]
  },
  {
   "cell_type": "markdown",
   "metadata": {},
   "source": [
    "## Feature importances"
   ]
  },
  {
   "cell_type": "code",
   "execution_count": 59,
   "metadata": {},
   "outputs": [
    {
     "data": {
      "image/png": "[encoded data removed]",
      "text/plain": [
       "<Figure size 432x288 with 1 Axes>"
      ]
     },
     "metadata": {},
     "output_type": "display_data"
    }
   ],
   "source": [
    "import matplotlib.pyplot as plt\n",
    "\n",
    "def plot_fi(feature_importances, size=None):\n",
    "    feature_importances = model.feature_importances_\n",
    "    \n",
    "    if not size:\n",
    "        size = len(feature_importances)\n",
    "    \n",
    "    indices = np.argsort(feature_importances[0:size])\n",
    "    \n",
    "    plt.title('Feature Importances')\n",
    "    plt.barh(range(size), feature_importances[indices], color='b', align='center')\n",
    "    plt.yticks(range(size), [features[i] for i in indices if i < size])\n",
    "    plt.xlabel('Relative Importance')\n",
    "    plt.show()\n",
    "    \n",
    "plot_fi(model.feature_importances_)"
   ]
  },
  {
   "cell_type": "markdown",
   "metadata": {},
   "source": [
    "O modelo está dando muita importância ao município que, considerando o bom senso e um pouco de domínio negocial, não faz sentido - o município não deveria interferir.\n",
    "\n",
    "Lembrar: criar uma coluna para cada uma das listas de palavras-chaves, indicando ausência ou presença"
   ]
  },
  {
   "cell_type": "code",
   "execution_count": 62,
   "metadata": {},
   "outputs": [
    {
     "name": "stdout",
     "output_type": "stream",
     "text": [
      "Accuracy score: 0.9978103419235304 0.9858585858585859\n",
      "Precision score:  0.9858585858585859\n",
      "Recall score:  1.0\n",
      "F1 score:  0.9928789420142421\n"
     ]
    }
   ],
   "source": [
    "# Vou retirar as colunas com poucas importância\n",
    "removed_columns = ['homologado', 'dataEntrada', 'dataAutuacao', 'urgente', 'prioritario']\n",
    "features = [c for c in df_work.columns if c not in removed_columns]\n",
    "\n",
    "model = RandomForestClassifier(random_state=42)\n",
    "\n",
    "model.fit(train[features], train['homologado'])\n",
    "\n",
    "train_preds = model.predict(train[features])\n",
    "valid_preds = model.predict(valid[features])\n",
    "\n",
    "print_score()"
   ]
  },
  {
   "cell_type": "code",
   "execution_count": 63,
   "metadata": {},
   "outputs": [
    {
     "data": {
      "text/plain": [
       "array([   0,   28,    0, 1952], dtype=int64)"
      ]
     },
     "execution_count": 63,
     "metadata": {},
     "output_type": "execute_result"
    }
   ],
   "source": [
    "confusion_matrix(valid['homologado'], valid_preds).ravel()"
   ]
  },
  {
   "cell_type": "code",
   "execution_count": 64,
   "metadata": {},
   "outputs": [
    {
     "data": {
      "image/png": "[encoded data removed]",
      "text/plain": [
       "<Figure size 432x288 with 1 Axes>"
      ]
     },
     "metadata": {},
     "output_type": "display_data"
    }
   ],
   "source": [
    "plot_fi(model.feature_importances_)"
   ]
  },
  {
   "cell_type": "markdown",
   "metadata": {},
   "source": [
    "Com as novas features, retirando a urgente e a prioritário, não houve melhorias.\n",
    "\n",
    "Vou retirar a coluna município, pois, ao meu ver, ela não nos parece adequada - e o modelo continua dando muita importância a ela."
   ]
  },
  {
   "cell_type": "code",
   "execution_count": 65,
   "metadata": {},
   "outputs": [
    {
     "name": "stdout",
     "output_type": "stream",
     "text": [
      "Accuracy score: 0.9983156476334849 0.9858585858585859\n",
      "Precision score:  0.9863498483316482\n",
      "Recall score:  0.9994877049180327\n",
      "F1 score:  0.9928753180661578\n"
     ]
    }
   ],
   "source": [
    "removed_columns.append('municipio')\n",
    "removed_columns\n",
    "\n",
    "features = [c for c in df_work.columns if c not in removed_columns]\n",
    "\n",
    "model.fit(train[features], train['homologado'])\n",
    "\n",
    "train_preds = model.predict(train[features])\n",
    "valid_preds = model.predict(valid[features])\n",
    "\n",
    "print_score()"
   ]
  },
  {
   "cell_type": "code",
   "execution_count": 66,
   "metadata": {},
   "outputs": [
    {
     "data": {
      "text/plain": [
       "array([[   1,   27],\n",
       "       [   1, 1951]], dtype=int64)"
      ]
     },
     "execution_count": 66,
     "metadata": {},
     "output_type": "execute_result"
    }
   ],
   "source": [
    "confusion_matrix(valid['homologado'], valid_preds)"
   ]
  },
  {
   "cell_type": "code",
   "execution_count": 67,
   "metadata": {},
   "outputs": [
    {
     "data": {
      "image/png": "[encoded data removed]",
      "text/plain": [
       "<Figure size 432x288 with 1 Axes>"
      ]
     },
     "metadata": {},
     "output_type": "display_data"
    }
   ],
   "source": [
    "plot_fi(model.feature_importances_)"
   ]
  },
  {
   "cell_type": "markdown",
   "metadata": {},
   "source": [
    "Ao retirar a coluna município, fez com que aparece um true negative e um false positive.\n",
    "\n",
    "Vamos criar um modelo ainda mais simples, apenas com as features cuja importância seja maior que 5%."
   ]
  },
  {
   "cell_type": "code",
   "execution_count": 68,
   "metadata": {},
   "outputs": [
    {
     "name": "stdout",
     "output_type": "stream",
     "text": [
      "Accuracy score: 0.9981472123968335 0.9863636363636363\n",
      "Precision score:  0.9863567458312279\n",
      "Recall score:  1.0\n",
      "F1 score:  0.9931315186975325\n"
     ]
    }
   ],
   "source": [
    "model = RandomForestClassifier(random_state=42)\n",
    "\n",
    "important_features = ['membroResponsavel', 'diasTranscorridos', 'itemCnmp', 'quantidadeProvidencias', 'quantidadeConversoes']\n",
    "model.fit(train[important_features], train['homologado'])\n",
    "\n",
    "train_preds = model.predict(train[important_features])\n",
    "valid_preds = model.predict(valid[important_features])\n",
    "\n",
    "print_score()"
   ]
  },
  {
   "cell_type": "code",
   "execution_count": 70,
   "metadata": {},
   "outputs": [
    {
     "data": {
      "text/plain": [
       "array([[   1,   27],\n",
       "       [   0, 1952]], dtype=int64)"
      ]
     },
     "execution_count": 70,
     "metadata": {},
     "output_type": "execute_result"
    }
   ],
   "source": [
    "confusion_matrix(valid['homologado'], valid_preds)"
   ]
  },
  {
   "cell_type": "code",
   "execution_count": 71,
   "metadata": {},
   "outputs": [
    {
     "data": {
      "image/png": "[encoded data removed]",
      "text/plain": [
       "<Figure size 432x288 with 1 Axes>"
      ]
     },
     "metadata": {},
     "output_type": "display_data"
    }
   ],
   "source": [
    "plot_fi(model.feature_importances_)"
   ]
  },
  {
   "cell_type": "markdown",
   "metadata": {},
   "source": [
    "Somente com as features importantes acima, o desempenho se manteve. \n",
    "\n",
    "Interessante notar que a variável diasTranscorridos desapereceu da lista de importâncias.\n",
    "\n",
    "Vamos fazer mais um teste, apenas com as top-3 features"
   ]
  },
  {
   "cell_type": "code",
   "execution_count": 73,
   "metadata": {},
   "outputs": [
    {
     "name": "stdout",
     "output_type": "stream",
     "text": [
      "Accuracy score: 0.9860198753579249 0.9792929292929293\n",
      "Precision score:  0.9857651245551602\n",
      "Recall score:  0.9933401639344263\n",
      "F1 score:  0.9895381474866037\n"
     ]
    }
   ],
   "source": [
    "important_features = ['classe', 'areaAtuacao', 'itemCnmp']\n",
    "\n",
    "model = RandomForestClassifier(random_state=42)\n",
    "model.fit(train[important_features], train['homologado'])\n",
    "\n",
    "train_preds = model.predict(train[important_features])\n",
    "valid_preds = model.predict(valid[important_features])\n",
    "\n",
    "print_score()"
   ]
  },
  {
   "cell_type": "code",
   "execution_count": 74,
   "metadata": {},
   "outputs": [
    {
     "data": {
      "text/plain": [
       "array([[   0,   28],\n",
       "       [  13, 1939]], dtype=int64)"
      ]
     },
     "execution_count": 74,
     "metadata": {},
     "output_type": "execute_result"
    }
   ],
   "source": [
    "confusion_matrix(valid['homologado'], valid_preds)"
   ]
  },
  {
   "cell_type": "markdown",
   "metadata": {},
   "source": [
    "Com o modelo mais simples, a acurácia caiu e apareceram false negatives. \n",
    "\n",
    "Fica claro que não sabe lidar com os não homologados.\n",
    "\n",
    "Vamos passar a considerar o texto das providências."
   ]
  },
  {
   "cell_type": "markdown",
   "metadata": {},
   "source": [
    "## Considerando as providências realizadas"
   ]
  },
  {
   "cell_type": "code",
   "execution_count": 75,
   "metadata": {},
   "outputs": [
    {
     "data": {
      "text/html": [
       "<div>\n",
       "<style scoped>\n",
       "    .dataframe tbody tr th:only-of-type {\n",
       "        vertical-align: middle;\n",
       "    }\n",
       "\n",
       "    .dataframe tbody tr th {\n",
       "        vertical-align: top;\n",
       "    }\n",
       "\n",
       "    .dataframe thead th {\n",
       "        text-align: right;\n",
       "    }\n",
       "</style>\n",
       "<table border=\"1\" class=\"dataframe\">\n",
       "  <thead>\n",
       "    <tr style=\"text-align: right;\">\n",
       "      <th></th>\n",
       "      <th>areaAtuacao</th>\n",
       "      <th>classe</th>\n",
       "      <th>homologado</th>\n",
       "      <th>itemCnmp</th>\n",
       "      <th>membroResponsavel</th>\n",
       "      <th>municipio</th>\n",
       "      <th>quantidadeConversoes</th>\n",
       "      <th>quantidadeProvidencias</th>\n",
       "      <th>textosProvidencias</th>\n",
       "      <th>diasTranscorridos</th>\n",
       "    </tr>\n",
       "  </thead>\n",
       "  <tbody>\n",
       "    <tr>\n",
       "      <th>1639</th>\n",
       "      <td>2</td>\n",
       "      <td>3</td>\n",
       "      <td>1</td>\n",
       "      <td>1556</td>\n",
       "      <td>127524.0</td>\n",
       "      <td>931</td>\n",
       "      <td>4</td>\n",
       "      <td>11</td>\n",
       "      <td>Certifica acatamento de recomendação,Notifique...</td>\n",
       "      <td>1425</td>\n",
       "    </tr>\n",
       "    <tr>\n",
       "      <th>6596</th>\n",
       "      <td>2</td>\n",
       "      <td>2</td>\n",
       "      <td>1</td>\n",
       "      <td>1857</td>\n",
       "      <td>53253.0</td>\n",
       "      <td>4980</td>\n",
       "      <td>1</td>\n",
       "      <td>1</td>\n",
       "      <td>Converta-se em Procedimento Preparatório(PP).</td>\n",
       "      <td>112</td>\n",
       "    </tr>\n",
       "    <tr>\n",
       "      <th>6650</th>\n",
       "      <td>2</td>\n",
       "      <td>2</td>\n",
       "      <td>1</td>\n",
       "      <td>1646</td>\n",
       "      <td>64339.0</td>\n",
       "      <td>3008</td>\n",
       "      <td>2</td>\n",
       "      <td>3</td>\n",
       "      <td>Oficie-se.,Prorroga-se o prazo de finalização ...</td>\n",
       "      <td>204</td>\n",
       "    </tr>\n",
       "    <tr>\n",
       "      <th>5846</th>\n",
       "      <td>2</td>\n",
       "      <td>2</td>\n",
       "      <td>1</td>\n",
       "      <td>1521</td>\n",
       "      <td>0.0</td>\n",
       "      <td>364</td>\n",
       "      <td>2</td>\n",
       "      <td>5</td>\n",
       "      <td>Oficie-se.,Prorroga-se o prazo de finalização ...</td>\n",
       "      <td>203</td>\n",
       "    </tr>\n",
       "    <tr>\n",
       "      <th>212</th>\n",
       "      <td>2</td>\n",
       "      <td>3</td>\n",
       "      <td>1</td>\n",
       "      <td>1102</td>\n",
       "      <td>87480.0</td>\n",
       "      <td>170</td>\n",
       "      <td>1</td>\n",
       "      <td>4</td>\n",
       "      <td>Converta-se em Inquérito Civil(IC).,Oficie-se....</td>\n",
       "      <td>300</td>\n",
       "    </tr>\n",
       "    <tr>\n",
       "      <th>2310</th>\n",
       "      <td>2</td>\n",
       "      <td>3</td>\n",
       "      <td>1</td>\n",
       "      <td>3119</td>\n",
       "      <td>64200.0</td>\n",
       "      <td>3330</td>\n",
       "      <td>3</td>\n",
       "      <td>10</td>\n",
       "      <td>Converta-se em Inquérito Civil(IC).,Sobrestar ...</td>\n",
       "      <td>658</td>\n",
       "    </tr>\n",
       "    <tr>\n",
       "      <th>3411</th>\n",
       "      <td>5</td>\n",
       "      <td>2</td>\n",
       "      <td>1</td>\n",
       "      <td>3119</td>\n",
       "      <td>17164.0</td>\n",
       "      <td>5039</td>\n",
       "      <td>2</td>\n",
       "      <td>2</td>\n",
       "      <td>Prorroga-se o prazo de finalização do Procedim...</td>\n",
       "      <td>131</td>\n",
       "    </tr>\n",
       "    <tr>\n",
       "      <th>6393</th>\n",
       "      <td>2</td>\n",
       "      <td>2</td>\n",
       "      <td>1</td>\n",
       "      <td>3056</td>\n",
       "      <td>25743.0</td>\n",
       "      <td>3740</td>\n",
       "      <td>2</td>\n",
       "      <td>2</td>\n",
       "      <td>Prorroga-se o prazo de finalização do Procedim...</td>\n",
       "      <td>266</td>\n",
       "    </tr>\n",
       "    <tr>\n",
       "      <th>7849</th>\n",
       "      <td>2</td>\n",
       "      <td>3</td>\n",
       "      <td>1</td>\n",
       "      <td>1861</td>\n",
       "      <td>13117.0</td>\n",
       "      <td>3685</td>\n",
       "      <td>2</td>\n",
       "      <td>5</td>\n",
       "      <td>Encaminhe-se o auto.,Converta-se em Inquérito ...</td>\n",
       "      <td>467</td>\n",
       "    </tr>\n",
       "    <tr>\n",
       "      <th>6134</th>\n",
       "      <td>2</td>\n",
       "      <td>3</td>\n",
       "      <td>1</td>\n",
       "      <td>3147</td>\n",
       "      <td>31458.0</td>\n",
       "      <td>3186</td>\n",
       "      <td>0</td>\n",
       "      <td>4</td>\n",
       "      <td>Oficie-se,Oficie-se.</td>\n",
       "      <td>388</td>\n",
       "    </tr>\n",
       "  </tbody>\n",
       "</table>\n",
       "</div>"
      ],
      "text/plain": [
       "      areaAtuacao  classe  homologado  itemCnmp  membroResponsavel  municipio  \\\n",
       "1639            2       3           1      1556           127524.0        931   \n",
       "6596            2       2           1      1857            53253.0       4980   \n",
       "6650            2       2           1      1646            64339.0       3008   \n",
       "5846            2       2           1      1521                0.0        364   \n",
       "212             2       3           1      1102            87480.0        170   \n",
       "2310            2       3           1      3119            64200.0       3330   \n",
       "3411            5       2           1      3119            17164.0       5039   \n",
       "6393            2       2           1      3056            25743.0       3740   \n",
       "7849            2       3           1      1861            13117.0       3685   \n",
       "6134            2       3           1      3147            31458.0       3186   \n",
       "\n",
       "      quantidadeConversoes  quantidadeProvidencias  \\\n",
       "1639                     4                      11   \n",
       "6596                     1                       1   \n",
       "6650                     2                       3   \n",
       "5846                     2                       5   \n",
       "212                      1                       4   \n",
       "2310                     3                      10   \n",
       "3411                     2                       2   \n",
       "6393                     2                       2   \n",
       "7849                     2                       5   \n",
       "6134                     0                       4   \n",
       "\n",
       "                                     textosProvidencias  diasTranscorridos  \n",
       "1639  Certifica acatamento de recomendação,Notifique...               1425  \n",
       "6596      Converta-se em Procedimento Preparatório(PP).                112  \n",
       "6650  Oficie-se.,Prorroga-se o prazo de finalização ...                204  \n",
       "5846  Oficie-se.,Prorroga-se o prazo de finalização ...                203  \n",
       "212   Converta-se em Inquérito Civil(IC).,Oficie-se....                300  \n",
       "2310  Converta-se em Inquérito Civil(IC).,Sobrestar ...                658  \n",
       "3411  Prorroga-se o prazo de finalização do Procedim...                131  \n",
       "6393  Prorroga-se o prazo de finalização do Procedim...                266  \n",
       "7849  Encaminhe-se o auto.,Converta-se em Inquérito ...                467  \n",
       "6134                               Oficie-se,Oficie-se.                388  "
      ]
     },
     "execution_count": 75,
     "metadata": {},
     "output_type": "execute_result"
    }
   ],
   "source": [
    "df_work = df_original.copy()\n",
    "\n",
    "df_work['dataAutuacao'] = pd.to_datetime(df_work['dataAutuacao'],infer_datetime_format=True)\n",
    "df_work['dataEntrada'] = pd.to_datetime(df_work['dataEntrada'],infer_datetime_format=True)\n",
    "\n",
    "df_work['diasTranscorridos'] = 0\n",
    "for index in range(len(df_work)):\n",
    "    df_work.loc[index, 'diasTranscorridos'] =  np.abs((df_work.loc[index, 'dataEntrada'] - df_work.loc[index, 'dataAutuacao']).days)\n",
    "\n",
    "removed_columns = ['id', 'procedimento', 'identificadorPecaPromocao', 'prioritario', 'urgente', 'dataAutuacao', 'dataEntrada']\n",
    "df_work = df_work.drop(columns=removed_columns)\n",
    "df_work.fillna(0, inplace=True)\n",
    "\n",
    "    \n",
    "df_work.sample(10)"
   ]
  },
  {
   "cell_type": "code",
   "execution_count": 76,
   "metadata": {},
   "outputs": [
    {
     "data": {
      "text/html": [
       "<div>\n",
       "<style scoped>\n",
       "    .dataframe tbody tr th:only-of-type {\n",
       "        vertical-align: middle;\n",
       "    }\n",
       "\n",
       "    .dataframe tbody tr th {\n",
       "        vertical-align: top;\n",
       "    }\n",
       "\n",
       "    .dataframe thead th {\n",
       "        text-align: right;\n",
       "    }\n",
       "</style>\n",
       "<table border=\"1\" class=\"dataframe\">\n",
       "  <thead>\n",
       "    <tr style=\"text-align: right;\">\n",
       "      <th></th>\n",
       "      <th>areaAtuacao</th>\n",
       "      <th>classe</th>\n",
       "      <th>homologado</th>\n",
       "      <th>itemCnmp</th>\n",
       "      <th>membroResponsavel</th>\n",
       "      <th>municipio</th>\n",
       "      <th>quantidadeConversoes</th>\n",
       "      <th>quantidadeProvidencias</th>\n",
       "      <th>diasTranscorridos</th>\n",
       "    </tr>\n",
       "  </thead>\n",
       "  <tbody>\n",
       "    <tr>\n",
       "      <th>count</th>\n",
       "      <td>7.917000e+03</td>\n",
       "      <td>7917.000000</td>\n",
       "      <td>7917.000000</td>\n",
       "      <td>7.917000e+03</td>\n",
       "      <td>7917.000000</td>\n",
       "      <td>7917.000000</td>\n",
       "      <td>7917.000000</td>\n",
       "      <td>7917.000000</td>\n",
       "      <td>7917.000000</td>\n",
       "    </tr>\n",
       "    <tr>\n",
       "      <th>mean</th>\n",
       "      <td>2.548770e+02</td>\n",
       "      <td>2.534420</td>\n",
       "      <td>0.984211</td>\n",
       "      <td>3.423104e+04</td>\n",
       "      <td>34294.189466</td>\n",
       "      <td>2918.129468</td>\n",
       "      <td>2.042819</td>\n",
       "      <td>7.221422</td>\n",
       "      <td>571.390931</td>\n",
       "    </tr>\n",
       "    <tr>\n",
       "      <th>std</th>\n",
       "      <td>2.247852e+04</td>\n",
       "      <td>1.326541</td>\n",
       "      <td>0.124665</td>\n",
       "      <td>2.528822e+05</td>\n",
       "      <td>34719.336036</td>\n",
       "      <td>1670.829668</td>\n",
       "      <td>1.440170</td>\n",
       "      <td>8.841174</td>\n",
       "      <td>604.377912</td>\n",
       "    </tr>\n",
       "    <tr>\n",
       "      <th>min</th>\n",
       "      <td>1.000000e+00</td>\n",
       "      <td>1.000000</td>\n",
       "      <td>0.000000</td>\n",
       "      <td>2.000000e+00</td>\n",
       "      <td>0.000000</td>\n",
       "      <td>1.000000</td>\n",
       "      <td>0.000000</td>\n",
       "      <td>0.000000</td>\n",
       "      <td>0.000000</td>\n",
       "    </tr>\n",
       "    <tr>\n",
       "      <th>25%</th>\n",
       "      <td>2.000000e+00</td>\n",
       "      <td>2.000000</td>\n",
       "      <td>1.000000</td>\n",
       "      <td>1.521000e+03</td>\n",
       "      <td>8883.000000</td>\n",
       "      <td>1443.000000</td>\n",
       "      <td>1.000000</td>\n",
       "      <td>2.000000</td>\n",
       "      <td>172.000000</td>\n",
       "    </tr>\n",
       "    <tr>\n",
       "      <th>50%</th>\n",
       "      <td>2.000000e+00</td>\n",
       "      <td>3.000000</td>\n",
       "      <td>1.000000</td>\n",
       "      <td>1.580000e+03</td>\n",
       "      <td>23000.000000</td>\n",
       "      <td>3087.000000</td>\n",
       "      <td>2.000000</td>\n",
       "      <td>5.000000</td>\n",
       "      <td>338.000000</td>\n",
       "    </tr>\n",
       "    <tr>\n",
       "      <th>75%</th>\n",
       "      <td>2.000000e+00</td>\n",
       "      <td>3.000000</td>\n",
       "      <td>1.000000</td>\n",
       "      <td>1.904000e+03</td>\n",
       "      <td>53306.000000</td>\n",
       "      <td>4383.000000</td>\n",
       "      <td>3.000000</td>\n",
       "      <td>9.000000</td>\n",
       "      <td>772.000000</td>\n",
       "    </tr>\n",
       "    <tr>\n",
       "      <th>max</th>\n",
       "      <td>2.000085e+06</td>\n",
       "      <td>64.000000</td>\n",
       "      <td>1.000000</td>\n",
       "      <td>2.007548e+06</td>\n",
       "      <td>128455.000000</td>\n",
       "      <td>5768.000000</td>\n",
       "      <td>13.000000</td>\n",
       "      <td>192.000000</td>\n",
       "      <td>5823.000000</td>\n",
       "    </tr>\n",
       "  </tbody>\n",
       "</table>\n",
       "</div>"
      ],
      "text/plain": [
       "        areaAtuacao       classe   homologado      itemCnmp  \\\n",
       "count  7.917000e+03  7917.000000  7917.000000  7.917000e+03   \n",
       "mean   2.548770e+02     2.534420     0.984211  3.423104e+04   \n",
       "std    2.247852e+04     1.326541     0.124665  2.528822e+05   \n",
       "min    1.000000e+00     1.000000     0.000000  2.000000e+00   \n",
       "25%    2.000000e+00     2.000000     1.000000  1.521000e+03   \n",
       "50%    2.000000e+00     3.000000     1.000000  1.580000e+03   \n",
       "75%    2.000000e+00     3.000000     1.000000  1.904000e+03   \n",
       "max    2.000085e+06    64.000000     1.000000  2.007548e+06   \n",
       "\n",
       "       membroResponsavel    municipio  quantidadeConversoes  \\\n",
       "count        7917.000000  7917.000000           7917.000000   \n",
       "mean        34294.189466  2918.129468              2.042819   \n",
       "std         34719.336036  1670.829668              1.440170   \n",
       "min             0.000000     1.000000              0.000000   \n",
       "25%          8883.000000  1443.000000              1.000000   \n",
       "50%         23000.000000  3087.000000              2.000000   \n",
       "75%         53306.000000  4383.000000              3.000000   \n",
       "max        128455.000000  5768.000000             13.000000   \n",
       "\n",
       "       quantidadeProvidencias  diasTranscorridos  \n",
       "count             7917.000000        7917.000000  \n",
       "mean                 7.221422         571.390931  \n",
       "std                  8.841174         604.377912  \n",
       "min                  0.000000           0.000000  \n",
       "25%                  2.000000         172.000000  \n",
       "50%                  5.000000         338.000000  \n",
       "75%                  9.000000         772.000000  \n",
       "max                192.000000        5823.000000  "
      ]
     },
     "execution_count": 76,
     "metadata": {},
     "output_type": "execute_result"
    }
   ],
   "source": [
    "df_work.describe()"
   ]
  },
  {
   "cell_type": "code",
   "execution_count": 77,
   "metadata": {},
   "outputs": [],
   "source": [
    "listaProvidencias = []\n",
    "for index in range(len(df_work)):\n",
    "    for s in str(df_work['textosProvidencias'][index]).strip().lower().split(','):\n",
    "        listaProvidencias.append(s)\n",
    "\n",
    "listaProvidencias = set(listaProvidencias)\n",
    "listaProvidencias.remove('análise do arquivamento')\n",
    "listaProvidencias.remove('analisar arquivamento')\n",
    "listaProvidencias.remove('arquive-se na unidade.')"
   ]
  },
  {
   "cell_type": "code",
   "execution_count": 78,
   "metadata": {},
   "outputs": [],
   "source": [
    "df_work = pd.concat([df_work, pd.get_dummies(sorted(list(listaProvidencias)), drop_first=True)], axis=1)"
   ]
  },
  {
   "cell_type": "code",
   "execution_count": 79,
   "metadata": {},
   "outputs": [],
   "source": [
    "for index in range(len(df_work)):\n",
    "    for s in str(df_work.textosProvidencias[index]).strip().split(','):\n",
    "        df_work.at[index, s.lower()] = 1"
   ]
  },
  {
   "cell_type": "code",
   "execution_count": 80,
   "metadata": {},
   "outputs": [
    {
     "data": {
      "text/html": [
       "<div>\n",
       "<style scoped>\n",
       "    .dataframe tbody tr th:only-of-type {\n",
       "        vertical-align: middle;\n",
       "    }\n",
       "\n",
       "    .dataframe tbody tr th {\n",
       "        vertical-align: top;\n",
       "    }\n",
       "\n",
       "    .dataframe thead th {\n",
       "        text-align: right;\n",
       "    }\n",
       "</style>\n",
       "<table border=\"1\" class=\"dataframe\">\n",
       "  <thead>\n",
       "    <tr style=\"text-align: right;\">\n",
       "      <th></th>\n",
       "      <th>areaAtuacao</th>\n",
       "      <th>classe</th>\n",
       "      <th>homologado</th>\n",
       "      <th>itemCnmp</th>\n",
       "      <th>membroResponsavel</th>\n",
       "      <th>municipio</th>\n",
       "      <th>quantidadeConversoes</th>\n",
       "      <th>quantidadeProvidencias</th>\n",
       "      <th>diasTranscorridos</th>\n",
       "      <th>analisar conflito de atribuição</th>\n",
       "      <th>...</th>\n",
       "      <th>recomende-se.</th>\n",
       "      <th>redistribua-se.</th>\n",
       "      <th>requisite-se perícia à ccr/mpf.</th>\n",
       "      <th>sobrestar no setor.</th>\n",
       "      <th>solicitar instauração de inquérito judicial</th>\n",
       "      <th>vistoria</th>\n",
       "      <th></th>\n",
       "      <th>analisar arquivamento</th>\n",
       "      <th>arquive-se na unidade.</th>\n",
       "      <th>análise do arquivamento</th>\n",
       "    </tr>\n",
       "  </thead>\n",
       "  <tbody>\n",
       "    <tr>\n",
       "      <th>count</th>\n",
       "      <td>7.917000e+03</td>\n",
       "      <td>7917.000000</td>\n",
       "      <td>7917.000000</td>\n",
       "      <td>7.917000e+03</td>\n",
       "      <td>7917.000000</td>\n",
       "      <td>7917.000000</td>\n",
       "      <td>7917.000000</td>\n",
       "      <td>7917.000000</td>\n",
       "      <td>7917.000000</td>\n",
       "      <td>133.000000</td>\n",
       "      <td>...</td>\n",
       "      <td>667.000000</td>\n",
       "      <td>763.000000</td>\n",
       "      <td>84.000000</td>\n",
       "      <td>969.000000</td>\n",
       "      <td>72.000000</td>\n",
       "      <td>83.000000</td>\n",
       "      <td>163.0</td>\n",
       "      <td>824.0</td>\n",
       "      <td>140.0</td>\n",
       "      <td>217.0</td>\n",
       "    </tr>\n",
       "    <tr>\n",
       "      <th>mean</th>\n",
       "      <td>2.548770e+02</td>\n",
       "      <td>2.534420</td>\n",
       "      <td>0.984211</td>\n",
       "      <td>3.423104e+04</td>\n",
       "      <td>34294.189466</td>\n",
       "      <td>2918.129468</td>\n",
       "      <td>2.042819</td>\n",
       "      <td>7.221422</td>\n",
       "      <td>571.390931</td>\n",
       "      <td>0.473684</td>\n",
       "      <td>...</td>\n",
       "      <td>0.904048</td>\n",
       "      <td>0.920052</td>\n",
       "      <td>0.166667</td>\n",
       "      <td>0.939112</td>\n",
       "      <td>0.027778</td>\n",
       "      <td>0.156627</td>\n",
       "      <td>1.0</td>\n",
       "      <td>1.0</td>\n",
       "      <td>1.0</td>\n",
       "      <td>1.0</td>\n",
       "    </tr>\n",
       "    <tr>\n",
       "      <th>std</th>\n",
       "      <td>2.247852e+04</td>\n",
       "      <td>1.326541</td>\n",
       "      <td>0.124665</td>\n",
       "      <td>2.528822e+05</td>\n",
       "      <td>34719.336036</td>\n",
       "      <td>1670.829668</td>\n",
       "      <td>1.440170</td>\n",
       "      <td>8.841174</td>\n",
       "      <td>604.377912</td>\n",
       "      <td>0.501195</td>\n",
       "      <td>...</td>\n",
       "      <td>0.294746</td>\n",
       "      <td>0.271390</td>\n",
       "      <td>0.374916</td>\n",
       "      <td>0.239247</td>\n",
       "      <td>0.165489</td>\n",
       "      <td>0.365658</td>\n",
       "      <td>0.0</td>\n",
       "      <td>0.0</td>\n",
       "      <td>0.0</td>\n",
       "      <td>0.0</td>\n",
       "    </tr>\n",
       "    <tr>\n",
       "      <th>min</th>\n",
       "      <td>1.000000e+00</td>\n",
       "      <td>1.000000</td>\n",
       "      <td>0.000000</td>\n",
       "      <td>2.000000e+00</td>\n",
       "      <td>0.000000</td>\n",
       "      <td>1.000000</td>\n",
       "      <td>0.000000</td>\n",
       "      <td>0.000000</td>\n",
       "      <td>0.000000</td>\n",
       "      <td>0.000000</td>\n",
       "      <td>...</td>\n",
       "      <td>0.000000</td>\n",
       "      <td>0.000000</td>\n",
       "      <td>0.000000</td>\n",
       "      <td>0.000000</td>\n",
       "      <td>0.000000</td>\n",
       "      <td>0.000000</td>\n",
       "      <td>1.0</td>\n",
       "      <td>1.0</td>\n",
       "      <td>1.0</td>\n",
       "      <td>1.0</td>\n",
       "    </tr>\n",
       "    <tr>\n",
       "      <th>25%</th>\n",
       "      <td>2.000000e+00</td>\n",
       "      <td>2.000000</td>\n",
       "      <td>1.000000</td>\n",
       "      <td>1.521000e+03</td>\n",
       "      <td>8883.000000</td>\n",
       "      <td>1443.000000</td>\n",
       "      <td>1.000000</td>\n",
       "      <td>2.000000</td>\n",
       "      <td>172.000000</td>\n",
       "      <td>0.000000</td>\n",
       "      <td>...</td>\n",
       "      <td>1.000000</td>\n",
       "      <td>1.000000</td>\n",
       "      <td>0.000000</td>\n",
       "      <td>1.000000</td>\n",
       "      <td>0.000000</td>\n",
       "      <td>0.000000</td>\n",
       "      <td>1.0</td>\n",
       "      <td>1.0</td>\n",
       "      <td>1.0</td>\n",
       "      <td>1.0</td>\n",
       "    </tr>\n",
       "    <tr>\n",
       "      <th>50%</th>\n",
       "      <td>2.000000e+00</td>\n",
       "      <td>3.000000</td>\n",
       "      <td>1.000000</td>\n",
       "      <td>1.580000e+03</td>\n",
       "      <td>23000.000000</td>\n",
       "      <td>3087.000000</td>\n",
       "      <td>2.000000</td>\n",
       "      <td>5.000000</td>\n",
       "      <td>338.000000</td>\n",
       "      <td>0.000000</td>\n",
       "      <td>...</td>\n",
       "      <td>1.000000</td>\n",
       "      <td>1.000000</td>\n",
       "      <td>0.000000</td>\n",
       "      <td>1.000000</td>\n",
       "      <td>0.000000</td>\n",
       "      <td>0.000000</td>\n",
       "      <td>1.0</td>\n",
       "      <td>1.0</td>\n",
       "      <td>1.0</td>\n",
       "      <td>1.0</td>\n",
       "    </tr>\n",
       "    <tr>\n",
       "      <th>75%</th>\n",
       "      <td>2.000000e+00</td>\n",
       "      <td>3.000000</td>\n",
       "      <td>1.000000</td>\n",
       "      <td>1.904000e+03</td>\n",
       "      <td>53306.000000</td>\n",
       "      <td>4383.000000</td>\n",
       "      <td>3.000000</td>\n",
       "      <td>9.000000</td>\n",
       "      <td>772.000000</td>\n",
       "      <td>1.000000</td>\n",
       "      <td>...</td>\n",
       "      <td>1.000000</td>\n",
       "      <td>1.000000</td>\n",
       "      <td>0.000000</td>\n",
       "      <td>1.000000</td>\n",
       "      <td>0.000000</td>\n",
       "      <td>0.000000</td>\n",
       "      <td>1.0</td>\n",
       "      <td>1.0</td>\n",
       "      <td>1.0</td>\n",
       "      <td>1.0</td>\n",
       "    </tr>\n",
       "    <tr>\n",
       "      <th>max</th>\n",
       "      <td>2.000085e+06</td>\n",
       "      <td>64.000000</td>\n",
       "      <td>1.000000</td>\n",
       "      <td>2.007548e+06</td>\n",
       "      <td>128455.000000</td>\n",
       "      <td>5768.000000</td>\n",
       "      <td>13.000000</td>\n",
       "      <td>192.000000</td>\n",
       "      <td>5823.000000</td>\n",
       "      <td>1.000000</td>\n",
       "      <td>...</td>\n",
       "      <td>1.000000</td>\n",
       "      <td>1.000000</td>\n",
       "      <td>1.000000</td>\n",
       "      <td>1.000000</td>\n",
       "      <td>1.000000</td>\n",
       "      <td>1.000000</td>\n",
       "      <td>1.0</td>\n",
       "      <td>1.0</td>\n",
       "      <td>1.0</td>\n",
       "      <td>1.0</td>\n",
       "    </tr>\n",
       "  </tbody>\n",
       "</table>\n",
       "<p>8 rows × 83 columns</p>\n",
       "</div>"
      ],
      "text/plain": [
       "        areaAtuacao       classe   homologado      itemCnmp  \\\n",
       "count  7.917000e+03  7917.000000  7917.000000  7.917000e+03   \n",
       "mean   2.548770e+02     2.534420     0.984211  3.423104e+04   \n",
       "std    2.247852e+04     1.326541     0.124665  2.528822e+05   \n",
       "min    1.000000e+00     1.000000     0.000000  2.000000e+00   \n",
       "25%    2.000000e+00     2.000000     1.000000  1.521000e+03   \n",
       "50%    2.000000e+00     3.000000     1.000000  1.580000e+03   \n",
       "75%    2.000000e+00     3.000000     1.000000  1.904000e+03   \n",
       "max    2.000085e+06    64.000000     1.000000  2.007548e+06   \n",
       "\n",
       "       membroResponsavel    municipio  quantidadeConversoes  \\\n",
       "count        7917.000000  7917.000000           7917.000000   \n",
       "mean        34294.189466  2918.129468              2.042819   \n",
       "std         34719.336036  1670.829668              1.440170   \n",
       "min             0.000000     1.000000              0.000000   \n",
       "25%          8883.000000  1443.000000              1.000000   \n",
       "50%         23000.000000  3087.000000              2.000000   \n",
       "75%         53306.000000  4383.000000              3.000000   \n",
       "max        128455.000000  5768.000000             13.000000   \n",
       "\n",
       "       quantidadeProvidencias  diasTranscorridos  \\\n",
       "count             7917.000000        7917.000000   \n",
       "mean                 7.221422         571.390931   \n",
       "std                  8.841174         604.377912   \n",
       "min                  0.000000           0.000000   \n",
       "25%                  2.000000         172.000000   \n",
       "50%                  5.000000         338.000000   \n",
       "75%                  9.000000         772.000000   \n",
       "max                192.000000        5823.000000   \n",
       "\n",
       "       analisar conflito de atribuição           ...             \\\n",
       "count                       133.000000           ...              \n",
       "mean                          0.473684           ...              \n",
       "std                           0.501195           ...              \n",
       "min                           0.000000           ...              \n",
       "25%                           0.000000           ...              \n",
       "50%                           0.000000           ...              \n",
       "75%                           1.000000           ...              \n",
       "max                           1.000000           ...              \n",
       "\n",
       "       recomende-se.  redistribua-se.  requisite-se perícia à ccr/mpf.  \\\n",
       "count     667.000000       763.000000                        84.000000   \n",
       "mean        0.904048         0.920052                         0.166667   \n",
       "std         0.294746         0.271390                         0.374916   \n",
       "min         0.000000         0.000000                         0.000000   \n",
       "25%         1.000000         1.000000                         0.000000   \n",
       "50%         1.000000         1.000000                         0.000000   \n",
       "75%         1.000000         1.000000                         0.000000   \n",
       "max         1.000000         1.000000                         1.000000   \n",
       "\n",
       "       sobrestar no setor.  solicitar instauração de inquérito judicial  \\\n",
       "count           969.000000                                    72.000000   \n",
       "mean              0.939112                                     0.027778   \n",
       "std               0.239247                                     0.165489   \n",
       "min               0.000000                                     0.000000   \n",
       "25%               1.000000                                     0.000000   \n",
       "50%               1.000000                                     0.000000   \n",
       "75%               1.000000                                     0.000000   \n",
       "max               1.000000                                     1.000000   \n",
       "\n",
       "        vistoria         analisar arquivamento  arquive-se na unidade.  \\\n",
       "count  83.000000  163.0                  824.0                   140.0   \n",
       "mean    0.156627    1.0                    1.0                     1.0   \n",
       "std     0.365658    0.0                    0.0                     0.0   \n",
       "min     0.000000    1.0                    1.0                     1.0   \n",
       "25%     0.000000    1.0                    1.0                     1.0   \n",
       "50%     0.000000    1.0                    1.0                     1.0   \n",
       "75%     0.000000    1.0                    1.0                     1.0   \n",
       "max     1.000000    1.0                    1.0                     1.0   \n",
       "\n",
       "       análise do arquivamento  \n",
       "count                    217.0  \n",
       "mean                       1.0  \n",
       "std                        0.0  \n",
       "min                        1.0  \n",
       "25%                        1.0  \n",
       "50%                        1.0  \n",
       "75%                        1.0  \n",
       "max                        1.0  \n",
       "\n",
       "[8 rows x 83 columns]"
      ]
     },
     "execution_count": 80,
     "metadata": {},
     "output_type": "execute_result"
    }
   ],
   "source": [
    "df_work.describe()"
   ]
  },
  {
   "cell_type": "code",
   "execution_count": 81,
   "metadata": {},
   "outputs": [
    {
     "data": {
      "text/html": [
       "<div>\n",
       "<style scoped>\n",
       "    .dataframe tbody tr th:only-of-type {\n",
       "        vertical-align: middle;\n",
       "    }\n",
       "\n",
       "    .dataframe tbody tr th {\n",
       "        vertical-align: top;\n",
       "    }\n",
       "\n",
       "    .dataframe thead th {\n",
       "        text-align: right;\n",
       "    }\n",
       "</style>\n",
       "<table border=\"1\" class=\"dataframe\">\n",
       "  <thead>\n",
       "    <tr style=\"text-align: right;\">\n",
       "      <th></th>\n",
       "      <th>areaAtuacao</th>\n",
       "      <th>classe</th>\n",
       "      <th>homologado</th>\n",
       "      <th>itemCnmp</th>\n",
       "      <th>membroResponsavel</th>\n",
       "      <th>municipio</th>\n",
       "      <th>quantidadeConversoes</th>\n",
       "      <th>quantidadeProvidencias</th>\n",
       "      <th>textosProvidencias</th>\n",
       "      <th>diasTranscorridos</th>\n",
       "      <th>...</th>\n",
       "      <th>recomende-se.</th>\n",
       "      <th>redistribua-se.</th>\n",
       "      <th>requisite-se perícia à ccr/mpf.</th>\n",
       "      <th>sobrestar no setor.</th>\n",
       "      <th>solicitar instauração de inquérito judicial</th>\n",
       "      <th>vistoria</th>\n",
       "      <th></th>\n",
       "      <th>analisar arquivamento</th>\n",
       "      <th>arquive-se na unidade.</th>\n",
       "      <th>análise do arquivamento</th>\n",
       "    </tr>\n",
       "  </thead>\n",
       "  <tbody>\n",
       "    <tr>\n",
       "      <th>0</th>\n",
       "      <td>2</td>\n",
       "      <td>2</td>\n",
       "      <td>1</td>\n",
       "      <td>2007044</td>\n",
       "      <td>53327.0</td>\n",
       "      <td>1619</td>\n",
       "      <td>1</td>\n",
       "      <td>1</td>\n",
       "      <td>Converta-se em Procedimento Preparatório(PP).</td>\n",
       "      <td>114</td>\n",
       "      <td>...</td>\n",
       "      <td>0.0</td>\n",
       "      <td>0.0</td>\n",
       "      <td>0.0</td>\n",
       "      <td>0.0</td>\n",
       "      <td>0.0</td>\n",
       "      <td>0.0</td>\n",
       "      <td>NaN</td>\n",
       "      <td>NaN</td>\n",
       "      <td>NaN</td>\n",
       "      <td>NaN</td>\n",
       "    </tr>\n",
       "    <tr>\n",
       "      <th>1</th>\n",
       "      <td>2</td>\n",
       "      <td>1</td>\n",
       "      <td>1</td>\n",
       "      <td>1904</td>\n",
       "      <td>12958.0</td>\n",
       "      <td>3470</td>\n",
       "      <td>0</td>\n",
       "      <td>1</td>\n",
       "      <td>Encaminhe-se o auto.</td>\n",
       "      <td>149</td>\n",
       "      <td>...</td>\n",
       "      <td>0.0</td>\n",
       "      <td>0.0</td>\n",
       "      <td>0.0</td>\n",
       "      <td>0.0</td>\n",
       "      <td>0.0</td>\n",
       "      <td>0.0</td>\n",
       "      <td>NaN</td>\n",
       "      <td>NaN</td>\n",
       "      <td>NaN</td>\n",
       "      <td>NaN</td>\n",
       "    </tr>\n",
       "    <tr>\n",
       "      <th>2</th>\n",
       "      <td>2</td>\n",
       "      <td>2</td>\n",
       "      <td>1</td>\n",
       "      <td>1521</td>\n",
       "      <td>31545.0</td>\n",
       "      <td>5160</td>\n",
       "      <td>3</td>\n",
       "      <td>6</td>\n",
       "      <td>Oficie-se.,Prorroga-se o prazo de finalização ...</td>\n",
       "      <td>311</td>\n",
       "      <td>...</td>\n",
       "      <td>0.0</td>\n",
       "      <td>0.0</td>\n",
       "      <td>0.0</td>\n",
       "      <td>0.0</td>\n",
       "      <td>0.0</td>\n",
       "      <td>0.0</td>\n",
       "      <td>NaN</td>\n",
       "      <td>NaN</td>\n",
       "      <td>NaN</td>\n",
       "      <td>NaN</td>\n",
       "    </tr>\n",
       "    <tr>\n",
       "      <th>3</th>\n",
       "      <td>2</td>\n",
       "      <td>3</td>\n",
       "      <td>1</td>\n",
       "      <td>1175</td>\n",
       "      <td>64202.0</td>\n",
       "      <td>2351</td>\n",
       "      <td>4</td>\n",
       "      <td>16</td>\n",
       "      <td>Converta-se em Inquérito Civil(IC).,Sobrestar ...</td>\n",
       "      <td>1475</td>\n",
       "      <td>...</td>\n",
       "      <td>0.0</td>\n",
       "      <td>0.0</td>\n",
       "      <td>0.0</td>\n",
       "      <td>1.0</td>\n",
       "      <td>0.0</td>\n",
       "      <td>0.0</td>\n",
       "      <td>NaN</td>\n",
       "      <td>NaN</td>\n",
       "      <td>NaN</td>\n",
       "      <td>NaN</td>\n",
       "    </tr>\n",
       "    <tr>\n",
       "      <th>4</th>\n",
       "      <td>2</td>\n",
       "      <td>2</td>\n",
       "      <td>1</td>\n",
       "      <td>2830</td>\n",
       "      <td>5883.0</td>\n",
       "      <td>3689</td>\n",
       "      <td>1</td>\n",
       "      <td>3</td>\n",
       "      <td>Oficie-se.,Converta-se em Procedimento Prepara...</td>\n",
       "      <td>99</td>\n",
       "      <td>...</td>\n",
       "      <td>0.0</td>\n",
       "      <td>0.0</td>\n",
       "      <td>0.0</td>\n",
       "      <td>0.0</td>\n",
       "      <td>0.0</td>\n",
       "      <td>0.0</td>\n",
       "      <td>NaN</td>\n",
       "      <td>NaN</td>\n",
       "      <td>NaN</td>\n",
       "      <td>NaN</td>\n",
       "    </tr>\n",
       "  </tbody>\n",
       "</table>\n",
       "<p>5 rows × 84 columns</p>\n",
       "</div>"
      ],
      "text/plain": [
       "   areaAtuacao  classe  homologado  itemCnmp  membroResponsavel  municipio  \\\n",
       "0            2       2           1   2007044            53327.0       1619   \n",
       "1            2       1           1      1904            12958.0       3470   \n",
       "2            2       2           1      1521            31545.0       5160   \n",
       "3            2       3           1      1175            64202.0       2351   \n",
       "4            2       2           1      2830             5883.0       3689   \n",
       "\n",
       "   quantidadeConversoes  quantidadeProvidencias  \\\n",
       "0                     1                       1   \n",
       "1                     0                       1   \n",
       "2                     3                       6   \n",
       "3                     4                      16   \n",
       "4                     1                       3   \n",
       "\n",
       "                                  textosProvidencias  diasTranscorridos  \\\n",
       "0      Converta-se em Procedimento Preparatório(PP).                114   \n",
       "1                               Encaminhe-se o auto.                149   \n",
       "2  Oficie-se.,Prorroga-se o prazo de finalização ...                311   \n",
       "3  Converta-se em Inquérito Civil(IC).,Sobrestar ...               1475   \n",
       "4  Oficie-se.,Converta-se em Procedimento Prepara...                 99   \n",
       "\n",
       "            ...             recomende-se.  redistribua-se.  \\\n",
       "0           ...                       0.0              0.0   \n",
       "1           ...                       0.0              0.0   \n",
       "2           ...                       0.0              0.0   \n",
       "3           ...                       0.0              0.0   \n",
       "4           ...                       0.0              0.0   \n",
       "\n",
       "   requisite-se perícia à ccr/mpf.  sobrestar no setor.  \\\n",
       "0                              0.0                  0.0   \n",
       "1                              0.0                  0.0   \n",
       "2                              0.0                  0.0   \n",
       "3                              0.0                  1.0   \n",
       "4                              0.0                  0.0   \n",
       "\n",
       "   solicitar instauração de inquérito judicial  vistoria      \\\n",
       "0                                          0.0       0.0 NaN   \n",
       "1                                          0.0       0.0 NaN   \n",
       "2                                          0.0       0.0 NaN   \n",
       "3                                          0.0       0.0 NaN   \n",
       "4                                          0.0       0.0 NaN   \n",
       "\n",
       "   analisar arquivamento  arquive-se na unidade.  análise do arquivamento  \n",
       "0                    NaN                     NaN                      NaN  \n",
       "1                    NaN                     NaN                      NaN  \n",
       "2                    NaN                     NaN                      NaN  \n",
       "3                    NaN                     NaN                      NaN  \n",
       "4                    NaN                     NaN                      NaN  \n",
       "\n",
       "[5 rows x 84 columns]"
      ]
     },
     "execution_count": 81,
     "metadata": {},
     "output_type": "execute_result"
    }
   ],
   "source": [
    "df_work.head()"
   ]
  },
  {
   "cell_type": "code",
   "execution_count": 82,
   "metadata": {},
   "outputs": [],
   "source": [
    "df_work.fillna(0, inplace=True)"
   ]
  },
  {
   "cell_type": "code",
   "execution_count": 83,
   "metadata": {},
   "outputs": [],
   "source": [
    "removed_columns = ['homologado', 'textosProvidencias']\n",
    "features = [c for c in df_work.columns if c not in removed_columns]"
   ]
  },
  {
   "cell_type": "code",
   "execution_count": 84,
   "metadata": {},
   "outputs": [
    {
     "data": {
      "text/plain": [
       "RandomForestClassifier(bootstrap=True, class_weight=None, criterion='gini',\n",
       "            max_depth=None, max_features='auto', max_leaf_nodes=None,\n",
       "            min_impurity_decrease=0.0, min_impurity_split=None,\n",
       "            min_samples_leaf=1, min_samples_split=2,\n",
       "            min_weight_fraction_leaf=0.0, n_estimators=10, n_jobs=1,\n",
       "            oob_score=False, random_state=42, verbose=0, warm_start=False)"
      ]
     },
     "execution_count": 84,
     "metadata": {},
     "output_type": "execute_result"
    }
   ],
   "source": [
    "train, valid = train_test_split(df_work, random_state=42)\n",
    "\n",
    "model = RandomForestClassifier(random_state=42)\n",
    "model.fit(train[features], train['homologado'])"
   ]
  },
  {
   "cell_type": "code",
   "execution_count": 85,
   "metadata": {},
   "outputs": [
    {
     "name": "stdout",
     "output_type": "stream",
     "text": [
      "Accuracy score: 0.9981472123968335 0.9858585858585859\n",
      "Precision score:  0.9858585858585859\n",
      "Recall score:  1.0\n",
      "F1 score:  0.9928789420142421\n"
     ]
    }
   ],
   "source": [
    "train_preds = model.predict(train[features])\n",
    "valid_preds = model.predict(valid[features])\n",
    "\n",
    "print_score()"
   ]
  },
  {
   "cell_type": "code",
   "execution_count": 86,
   "metadata": {},
   "outputs": [
    {
     "data": {
      "text/plain": [
       "array([   0,   28,    0, 1952], dtype=int64)"
      ]
     },
     "execution_count": 86,
     "metadata": {},
     "output_type": "execute_result"
    }
   ],
   "source": [
    "confusion_matrix(valid['homologado'], valid_preds).ravel()"
   ]
  },
  {
   "cell_type": "code",
   "execution_count": 87,
   "metadata": {},
   "outputs": [
    {
     "data": {
      "image/png": "[encoded data removed]",
      "text/plain": [
       "<Figure size 432x288 with 1 Axes>"
      ]
     },
     "metadata": {},
     "output_type": "display_data"
    }
   ],
   "source": [
    "plot_fi(model.feature_importances_, 20)"
   ]
  },
  {
   "cell_type": "markdown",
   "metadata": {},
   "source": [
    "O uso dos textos das providências não aumentou a precisão do modelo (e elas também não foram features importantes).\n",
    "\n",
    "Vamos voltar ao modelo mais simples, sem os textos das providências e tentar melhorar os hiperparâmetros."
   ]
  },
  {
   "cell_type": "markdown",
   "metadata": {},
   "source": [
    "## Voltando ao modelo mais simples (sem considerar quais providências foram realizadas)"
   ]
  },
  {
   "cell_type": "code",
   "execution_count": 54,
   "metadata": {},
   "outputs": [
    {
     "data": {
      "text/html": [
       "<div>\n",
       "<style scoped>\n",
       "    .dataframe tbody tr th:only-of-type {\n",
       "        vertical-align: middle;\n",
       "    }\n",
       "\n",
       "    .dataframe tbody tr th {\n",
       "        vertical-align: top;\n",
       "    }\n",
       "\n",
       "    .dataframe thead th {\n",
       "        text-align: right;\n",
       "    }\n",
       "</style>\n",
       "<table border=\"1\" class=\"dataframe\">\n",
       "  <thead>\n",
       "    <tr style=\"text-align: right;\">\n",
       "      <th></th>\n",
       "      <th>areaAtuacao</th>\n",
       "      <th>classe</th>\n",
       "      <th>homologado</th>\n",
       "      <th>itemCnmp</th>\n",
       "      <th>membroResponsavel</th>\n",
       "      <th>municipio</th>\n",
       "      <th>quantidadeConversoes</th>\n",
       "      <th>quantidadeProvidencias</th>\n",
       "      <th>textosProvidencias</th>\n",
       "      <th>diasTranscorridos</th>\n",
       "    </tr>\n",
       "  </thead>\n",
       "  <tbody>\n",
       "    <tr>\n",
       "      <th>4815</th>\n",
       "      <td>5</td>\n",
       "      <td>2</td>\n",
       "      <td>1</td>\n",
       "      <td>1863</td>\n",
       "      <td>17164.0</td>\n",
       "      <td>5039</td>\n",
       "      <td>1</td>\n",
       "      <td>2</td>\n",
       "      <td>Oficie-se.,Converta-se em Procedimento Prepara...</td>\n",
       "      <td>73</td>\n",
       "    </tr>\n",
       "    <tr>\n",
       "      <th>2863</th>\n",
       "      <td>2</td>\n",
       "      <td>2</td>\n",
       "      <td>1</td>\n",
       "      <td>1521</td>\n",
       "      <td>7980.0</td>\n",
       "      <td>3012</td>\n",
       "      <td>1</td>\n",
       "      <td>3</td>\n",
       "      <td>Oficie-se,Converta-se em Procedimento Preparat...</td>\n",
       "      <td>88</td>\n",
       "    </tr>\n",
       "    <tr>\n",
       "      <th>1818</th>\n",
       "      <td>2</td>\n",
       "      <td>3</td>\n",
       "      <td>1</td>\n",
       "      <td>1503</td>\n",
       "      <td>87584.0</td>\n",
       "      <td>983</td>\n",
       "      <td>5</td>\n",
       "      <td>19</td>\n",
       "      <td>Despacho Simplificado,Converta-se em Inquérito...</td>\n",
       "      <td>1955</td>\n",
       "    </tr>\n",
       "    <tr>\n",
       "      <th>4306</th>\n",
       "      <td>2</td>\n",
       "      <td>2</td>\n",
       "      <td>1</td>\n",
       "      <td>1555</td>\n",
       "      <td>31433.0</td>\n",
       "      <td>4165</td>\n",
       "      <td>2</td>\n",
       "      <td>6</td>\n",
       "      <td>Desmembre-se.,Certifica acatamento de recomend...</td>\n",
       "      <td>294</td>\n",
       "    </tr>\n",
       "    <tr>\n",
       "      <th>3741</th>\n",
       "      <td>2</td>\n",
       "      <td>2</td>\n",
       "      <td>1</td>\n",
       "      <td>2338</td>\n",
       "      <td>15902.0</td>\n",
       "      <td>689</td>\n",
       "      <td>1</td>\n",
       "      <td>1</td>\n",
       "      <td>Converta-se em Procedimento Preparatório(PP).</td>\n",
       "      <td>43</td>\n",
       "    </tr>\n",
       "    <tr>\n",
       "      <th>5709</th>\n",
       "      <td>2</td>\n",
       "      <td>3</td>\n",
       "      <td>1</td>\n",
       "      <td>3079</td>\n",
       "      <td>53304.0</td>\n",
       "      <td>1387</td>\n",
       "      <td>1</td>\n",
       "      <td>5</td>\n",
       "      <td>Converta-se em Inquérito Civil(IC).,Oficie-se.</td>\n",
       "      <td>112</td>\n",
       "    </tr>\n",
       "    <tr>\n",
       "      <th>5146</th>\n",
       "      <td>2</td>\n",
       "      <td>2</td>\n",
       "      <td>1</td>\n",
       "      <td>1918</td>\n",
       "      <td>8698.0</td>\n",
       "      <td>3012</td>\n",
       "      <td>1</td>\n",
       "      <td>1</td>\n",
       "      <td>Oficie-se</td>\n",
       "      <td>79</td>\n",
       "    </tr>\n",
       "    <tr>\n",
       "      <th>2627</th>\n",
       "      <td>2</td>\n",
       "      <td>3</td>\n",
       "      <td>1</td>\n",
       "      <td>1479</td>\n",
       "      <td>64256.0</td>\n",
       "      <td>2497</td>\n",
       "      <td>4</td>\n",
       "      <td>16</td>\n",
       "      <td>Despacho Simplificado,Converta-se em Inquérito...</td>\n",
       "      <td>1157</td>\n",
       "    </tr>\n",
       "    <tr>\n",
       "      <th>1477</th>\n",
       "      <td>2</td>\n",
       "      <td>2</td>\n",
       "      <td>1</td>\n",
       "      <td>1869</td>\n",
       "      <td>5523.0</td>\n",
       "      <td>3113</td>\n",
       "      <td>2</td>\n",
       "      <td>4</td>\n",
       "      <td>Oficie-se.,Prorroga-se o prazo de finalização ...</td>\n",
       "      <td>428</td>\n",
       "    </tr>\n",
       "    <tr>\n",
       "      <th>5398</th>\n",
       "      <td>2</td>\n",
       "      <td>2</td>\n",
       "      <td>1</td>\n",
       "      <td>1507</td>\n",
       "      <td>87548.0</td>\n",
       "      <td>5152</td>\n",
       "      <td>2</td>\n",
       "      <td>6</td>\n",
       "      <td>Analisar Arquivamento,Oficie-se.,Prorroga-se o...</td>\n",
       "      <td>560</td>\n",
       "    </tr>\n",
       "  </tbody>\n",
       "</table>\n",
       "</div>"
      ],
      "text/plain": [
       "      areaAtuacao  classe  homologado  itemCnmp  membroResponsavel  municipio  \\\n",
       "4815            5       2           1      1863            17164.0       5039   \n",
       "2863            2       2           1      1521             7980.0       3012   \n",
       "1818            2       3           1      1503            87584.0        983   \n",
       "4306            2       2           1      1555            31433.0       4165   \n",
       "3741            2       2           1      2338            15902.0        689   \n",
       "5709            2       3           1      3079            53304.0       1387   \n",
       "5146            2       2           1      1918             8698.0       3012   \n",
       "2627            2       3           1      1479            64256.0       2497   \n",
       "1477            2       2           1      1869             5523.0       3113   \n",
       "5398            2       2           1      1507            87548.0       5152   \n",
       "\n",
       "      quantidadeConversoes  quantidadeProvidencias  \\\n",
       "4815                     1                       2   \n",
       "2863                     1                       3   \n",
       "1818                     5                      19   \n",
       "4306                     2                       6   \n",
       "3741                     1                       1   \n",
       "5709                     1                       5   \n",
       "5146                     1                       1   \n",
       "2627                     4                      16   \n",
       "1477                     2                       4   \n",
       "5398                     2                       6   \n",
       "\n",
       "                                     textosProvidencias  diasTranscorridos  \n",
       "4815  Oficie-se.,Converta-se em Procedimento Prepara...                 73  \n",
       "2863  Oficie-se,Converta-se em Procedimento Preparat...                 88  \n",
       "1818  Despacho Simplificado,Converta-se em Inquérito...               1955  \n",
       "4306  Desmembre-se.,Certifica acatamento de recomend...                294  \n",
       "3741      Converta-se em Procedimento Preparatório(PP).                 43  \n",
       "5709     Converta-se em Inquérito Civil(IC).,Oficie-se.                112  \n",
       "5146                                          Oficie-se                 79  \n",
       "2627  Despacho Simplificado,Converta-se em Inquérito...               1157  \n",
       "1477  Oficie-se.,Prorroga-se o prazo de finalização ...                428  \n",
       "5398  Analisar Arquivamento,Oficie-se.,Prorroga-se o...                560  "
      ]
     },
     "execution_count": 54,
     "metadata": {},
     "output_type": "execute_result"
    }
   ],
   "source": [
    "df_work = df_original.copy()\n",
    "\n",
    "df_work['dataAutuacao'] = pd.to_datetime(df_work['dataAutuacao'],infer_datetime_format=True)\n",
    "df_work['dataEntrada'] = pd.to_datetime(df_work['dataEntrada'],infer_datetime_format=True)\n",
    "\n",
    "df_work['diasTranscorridos'] = 0\n",
    "for index in range(len(df_work)):\n",
    "    df_work.loc[index, 'diasTranscorridos'] =  np.abs((df_work.loc[index, 'dataEntrada'] - df_work.loc[index, 'dataAutuacao']).days)\n",
    "\n",
    "removed_columns = ['id', 'procedimento', 'identificadorPecaPromocao', 'prioritario', 'urgente', 'dataAutuacao', 'dataEntrada']\n",
    "df_work = df_work.drop(columns=removed_columns)\n",
    "df_work.fillna(0, inplace=True)\n",
    "\n",
    "    \n",
    "df_work.sample(10)"
   ]
  },
  {
   "cell_type": "code",
   "execution_count": 55,
   "metadata": {
    "scrolled": true
   },
   "outputs": [],
   "source": [
    "removed_columns = ['homologado', 'textosProvidencias']\n",
    "features = [c for c in df_work.columns if c not in removed_columns]\n",
    "\n",
    "train, valid = train_test_split(df_work, random_state=42)"
   ]
  },
  {
   "cell_type": "code",
   "execution_count": 56,
   "metadata": {},
   "outputs": [
    {
     "data": {
      "text/plain": [
       "RandomForestClassifier(bootstrap=True, class_weight=None, criterion='gini',\n",
       "            max_depth=None, max_features='auto', max_leaf_nodes=None,\n",
       "            min_impurity_decrease=0.0, min_impurity_split=None,\n",
       "            min_samples_leaf=1, min_samples_split=2,\n",
       "            min_weight_fraction_leaf=0.0, n_estimators=100, n_jobs=1,\n",
       "            oob_score=False, random_state=42, verbose=0, warm_start=False)"
      ]
     },
     "execution_count": 56,
     "metadata": {},
     "output_type": "execute_result"
    }
   ],
   "source": [
    "model = RandomForestClassifier(random_state=42, n_estimators=100); model"
   ]
  },
  {
   "cell_type": "code",
   "execution_count": 57,
   "metadata": {},
   "outputs": [
    {
     "name": "stdout",
     "output_type": "stream",
     "text": [
      "Accuracy score: 1.0 0.9826254826254827\n",
      "Precision score:  0.9826254826254827\n",
      "Recall score:  1.0\n",
      "F1 score:  0.991236611489776\n"
     ]
    }
   ],
   "source": [
    "model.fit(train[features], train['homologado'])\n",
    "\n",
    "train_preds = model.predict(train[features])\n",
    "valid_preds = model.predict(valid[features])\n",
    "\n",
    "print_score()"
   ]
  },
  {
   "cell_type": "code",
   "execution_count": 58,
   "metadata": {},
   "outputs": [
    {
     "data": {
      "text/plain": [
       "array([   0,   27,    0, 1527], dtype=int64)"
      ]
     },
     "execution_count": 58,
     "metadata": {},
     "output_type": "execute_result"
    }
   ],
   "source": [
    "confusion_matrix(valid['homologado'], valid_preds).ravel()"
   ]
  },
  {
   "cell_type": "markdown",
   "metadata": {},
   "source": [
    "### Aumentando o número de árvores"
   ]
  },
  {
   "cell_type": "code",
   "execution_count": 59,
   "metadata": {},
   "outputs": [
    {
     "name": "stdout",
     "output_type": "stream",
     "text": [
      "Accuracy score: 1.0 0.9826254826254827\n",
      "Precision score:  0.9826254826254827\n",
      "Recall score:  1.0\n",
      "F1 score:  0.991236611489776\n"
     ]
    }
   ],
   "source": [
    "model = RandomForestClassifier(random_state=42, n_estimators=100)\n",
    "model.fit(train[features], train['homologado'])\n",
    "confusion_matrix(valid['homologado'], valid_preds).ravel()\n",
    "train_preds = model.predict(train[features])\n",
    "valid_preds = model.predict(valid[features])\n",
    "\n",
    "print_score()"
   ]
  },
  {
   "cell_type": "code",
   "execution_count": 60,
   "metadata": {},
   "outputs": [
    {
     "data": {
      "text/plain": [
       "array([   0,   27,    0, 1527], dtype=int64)"
      ]
     },
     "execution_count": 60,
     "metadata": {},
     "output_type": "execute_result"
    }
   ],
   "source": [
    "confusion_matrix(valid['homologado'], valid_preds).ravel()"
   ]
  },
  {
   "cell_type": "code",
   "execution_count": 61,
   "metadata": {
    "scrolled": true
   },
   "outputs": [
    {
     "name": "stdout",
     "output_type": "stream",
     "text": [
      "Accuracy score: 1.0 0.9826254826254827\n",
      "Precision score:  0.9826254826254827\n",
      "Recall score:  1.0\n",
      "F1 score:  0.991236611489776\n"
     ]
    }
   ],
   "source": [
    "model = RandomForestClassifier(random_state=42, n_estimators=1000)\n",
    "model.fit(train[features], train['homologado'])\n",
    "confusion_matrix(valid['homologado'], valid_preds).ravel()\n",
    "train_preds = model.predict(train[features])\n",
    "valid_preds = model.predict(valid[features])\n",
    "\n",
    "print_score()"
   ]
  },
  {
   "cell_type": "code",
   "execution_count": 62,
   "metadata": {},
   "outputs": [
    {
     "data": {
      "text/plain": [
       "array([   0,   27,    0, 1527], dtype=int64)"
      ]
     },
     "execution_count": 62,
     "metadata": {},
     "output_type": "execute_result"
    }
   ],
   "source": [
    "confusion_matrix(valid['homologado'], valid_preds).ravel()"
   ]
  },
  {
   "cell_type": "code",
   "execution_count": 88,
   "metadata": {},
   "outputs": [
    {
     "name": "stdout",
     "output_type": "stream",
     "text": [
      "Accuracy score: 1.0 0.9858585858585859\n",
      "Precision score:  0.9858585858585859\n",
      "Recall score:  1.0\n",
      "F1 score:  0.9928789420142421\n"
     ]
    }
   ],
   "source": [
    "model = RandomForestClassifier(random_state=42, n_estimators=2000)\n",
    "model.fit(train[features], train['homologado'])\n",
    "confusion_matrix(valid['homologado'], valid_preds).ravel()\n",
    "train_preds = model.predict(train[features])\n",
    "valid_preds = model.predict(valid[features])\n",
    "\n",
    "print_score()"
   ]
  },
  {
   "cell_type": "code",
   "execution_count": 89,
   "metadata": {},
   "outputs": [
    {
     "data": {
      "text/plain": [
       "array([   0,   28,    0, 1952], dtype=int64)"
      ]
     },
     "execution_count": 89,
     "metadata": {},
     "output_type": "execute_result"
    }
   ],
   "source": [
    "confusion_matrix(valid['homologado'], valid_preds).ravel()"
   ]
  },
  {
   "cell_type": "markdown",
   "metadata": {},
   "source": [
    "Aumentar o número de árvores parece não melhorar a performance. Vamos para o número de features."
   ]
  },
  {
   "cell_type": "markdown",
   "metadata": {},
   "source": [
    "### Considerando o número de features"
   ]
  },
  {
   "cell_type": "code",
   "execution_count": 90,
   "metadata": {},
   "outputs": [
    {
     "data": {
      "text/plain": [
       "RandomForestClassifier(bootstrap=True, class_weight=None, criterion='gini',\n",
       "            max_depth=None, max_features='auto', max_leaf_nodes=None,\n",
       "            min_impurity_decrease=0.0, min_impurity_split=None,\n",
       "            min_samples_leaf=1, min_samples_split=2,\n",
       "            min_weight_fraction_leaf=0.0, n_estimators=10, n_jobs=1,\n",
       "            oob_score=False, random_state=42, verbose=0, warm_start=False)"
      ]
     },
     "execution_count": 90,
     "metadata": {},
     "output_type": "execute_result"
    }
   ],
   "source": [
    "model = RandomForestClassifier(random_state=42); model"
   ]
  },
  {
   "cell_type": "code",
   "execution_count": 91,
   "metadata": {},
   "outputs": [
    {
     "name": "stdout",
     "output_type": "stream",
     "text": [
      "Accuracy score: 0.9981472123968335 0.9858585858585859\n",
      "Precision score:  0.9858585858585859\n",
      "Recall score:  1.0\n",
      "F1 score:  0.9928789420142421\n"
     ]
    }
   ],
   "source": [
    "model.fit(train[features], train['homologado'])\n",
    "confusion_matrix(valid['homologado'], valid_preds).ravel()\n",
    "train_preds = model.predict(train[features])\n",
    "valid_preds = model.predict(valid[features])\n",
    "\n",
    "print_score()"
   ]
  },
  {
   "cell_type": "code",
   "execution_count": 92,
   "metadata": {},
   "outputs": [
    {
     "name": "stdout",
     "output_type": "stream",
     "text": [
      "Accuracy score: 0.9981472123968335 0.9858585858585859\n",
      "Precision score:  0.9858585858585859\n",
      "Recall score:  1.0\n",
      "F1 score:  0.9928789420142421\n"
     ]
    }
   ],
   "source": [
    "model = RandomForestClassifier(random_state=42, max_features='sqrt')\n",
    "model.fit(train[features], train['homologado'])\n",
    "confusion_matrix(valid['homologado'], valid_preds).ravel()\n",
    "train_preds = model.predict(train[features])\n",
    "valid_preds = model.predict(valid[features])\n",
    "\n",
    "print_score()"
   ]
  },
  {
   "cell_type": "code",
   "execution_count": 93,
   "metadata": {
    "scrolled": true
   },
   "outputs": [
    {
     "data": {
      "text/plain": [
       "array([   0,   28,    0, 1952], dtype=int64)"
      ]
     },
     "execution_count": 93,
     "metadata": {},
     "output_type": "execute_result"
    }
   ],
   "source": [
    "confusion_matrix(valid['homologado'], valid_preds).ravel()"
   ]
  },
  {
   "cell_type": "code",
   "execution_count": 94,
   "metadata": {},
   "outputs": [
    {
     "name": "stdout",
     "output_type": "stream",
     "text": [
      "Accuracy score: 0.9983156476334849 0.9858585858585859\n",
      "Precision score:  0.9863498483316482\n",
      "Recall score:  0.9994877049180327\n",
      "F1 score:  0.9928753180661578\n"
     ]
    }
   ],
   "source": [
    "model = RandomForestClassifier(random_state=42, max_features='log2')\n",
    "model.fit(train[features], train['homologado'])\n",
    "confusion_matrix(valid['homologado'], valid_preds).ravel()\n",
    "train_preds = model.predict(train[features])\n",
    "valid_preds = model.predict(valid[features])\n",
    "\n",
    "print_score()"
   ]
  },
  {
   "cell_type": "code",
   "execution_count": 95,
   "metadata": {},
   "outputs": [
    {
     "data": {
      "text/plain": [
       "array([   1,   27,    1, 1951], dtype=int64)"
      ]
     },
     "execution_count": 95,
     "metadata": {},
     "output_type": "execute_result"
    }
   ],
   "source": [
    "confusion_matrix(valid['homologado'], valid_preds).ravel()"
   ]
  },
  {
   "cell_type": "code",
   "execution_count": 96,
   "metadata": {},
   "outputs": [
    {
     "name": "stdout",
     "output_type": "stream",
     "text": [
      "Accuracy score: 0.9979787771601819 0.9863636363636363\n",
      "Precision score:  0.986848760748609\n",
      "Recall score:  0.9994877049180327\n",
      "F1 score:  0.9931280223975567\n"
     ]
    }
   ],
   "source": [
    "model = RandomForestClassifier(random_state=42, max_features=0.3)\n",
    "model.fit(train[features], train['homologado'])\n",
    "confusion_matrix(valid['homologado'], valid_preds).ravel()\n",
    "train_preds = model.predict(train[features])\n",
    "valid_preds = model.predict(valid[features])\n",
    "\n",
    "print_score()"
   ]
  },
  {
   "cell_type": "code",
   "execution_count": 98,
   "metadata": {},
   "outputs": [
    {
     "data": {
      "text/plain": [
       "array([[   2,   26],\n",
       "       [   1, 1951]], dtype=int64)"
      ]
     },
     "execution_count": 98,
     "metadata": {},
     "output_type": "execute_result"
    }
   ],
   "source": [
    "confusion_matrix(valid['homologado'], valid_preds)"
   ]
  },
  {
   "cell_type": "markdown",
   "metadata": {},
   "source": [
    "O parâmetro max_features parece não melhorar a performance. Vamos para o min_samples_leaf."
   ]
  },
  {
   "cell_type": "markdown",
   "metadata": {},
   "source": [
    "### Checando o min_samples_leaf"
   ]
  },
  {
   "cell_type": "code",
   "execution_count": 99,
   "metadata": {},
   "outputs": [
    {
     "data": {
      "text/plain": [
       "RandomForestClassifier(bootstrap=True, class_weight=None, criterion='gini',\n",
       "            max_depth=None, max_features='auto', max_leaf_nodes=None,\n",
       "            min_impurity_decrease=0.0, min_impurity_split=None,\n",
       "            min_samples_leaf=1, min_samples_split=2,\n",
       "            min_weight_fraction_leaf=0.0, n_estimators=10, n_jobs=1,\n",
       "            oob_score=False, random_state=42, verbose=0, warm_start=False)"
      ]
     },
     "execution_count": 99,
     "metadata": {},
     "output_type": "execute_result"
    }
   ],
   "source": [
    "model = RandomForestClassifier(random_state=42); model"
   ]
  },
  {
   "cell_type": "code",
   "execution_count": 100,
   "metadata": {},
   "outputs": [
    {
     "name": "stdout",
     "output_type": "stream",
     "text": [
      "Accuracy score: 0.9981472123968335 0.9858585858585859\n",
      "Precision score:  0.9858585858585859\n",
      "Recall score:  1.0\n",
      "F1 score:  0.9928789420142421\n"
     ]
    }
   ],
   "source": [
    "model.fit(train[features], train['homologado'])\n",
    "confusion_matrix(valid['homologado'], valid_preds).ravel()\n",
    "train_preds = model.predict(train[features])\n",
    "valid_preds = model.predict(valid[features])\n",
    "\n",
    "print_score()"
   ]
  },
  {
   "cell_type": "code",
   "execution_count": 101,
   "metadata": {},
   "outputs": [
    {
     "name": "stdout",
     "output_type": "stream",
     "text": [
      "Accuracy score: 0.9836617820448038 0.9858585858585859\n",
      "Precision score:  0.9858585858585859\n",
      "Recall score:  1.0\n",
      "F1 score:  0.9928789420142421\n"
     ]
    }
   ],
   "source": [
    "model = RandomForestClassifier(random_state=42, min_samples_leaf=2)\n",
    "model.fit(train[features], train['homologado'])\n",
    "confusion_matrix(valid['homologado'], valid_preds).ravel()\n",
    "train_preds = model.predict(train[features])\n",
    "valid_preds = model.predict(valid[features])\n",
    "\n",
    "print_score()"
   ]
  },
  {
   "cell_type": "code",
   "execution_count": 102,
   "metadata": {},
   "outputs": [
    {
     "data": {
      "text/plain": [
       "array([   0,   28,    0, 1952], dtype=int64)"
      ]
     },
     "execution_count": 102,
     "metadata": {},
     "output_type": "execute_result"
    }
   ],
   "source": [
    "confusion_matrix(valid['homologado'], valid_preds).ravel()"
   ]
  },
  {
   "cell_type": "code",
   "execution_count": 103,
   "metadata": {},
   "outputs": [
    {
     "name": "stdout",
     "output_type": "stream",
     "text": [
      "Accuracy score: 0.9836617820448038 0.9858585858585859\n",
      "Precision score:  0.9858585858585859\n",
      "Recall score:  1.0\n",
      "F1 score:  0.9928789420142421\n"
     ]
    }
   ],
   "source": [
    "model = RandomForestClassifier(random_state=42, min_samples_leaf=5)\n",
    "model.fit(train[features], train['homologado'])\n",
    "confusion_matrix(valid['homologado'], valid_preds).ravel()\n",
    "train_preds = model.predict(train[features])\n",
    "valid_preds = model.predict(valid[features])\n",
    "\n",
    "print_score()"
   ]
  },
  {
   "cell_type": "code",
   "execution_count": 104,
   "metadata": {},
   "outputs": [
    {
     "name": "stdout",
     "output_type": "stream",
     "text": [
      "Accuracy score: 0.9836617820448038 0.9858585858585859\n",
      "Precision score:  0.9858585858585859\n",
      "Recall score:  1.0\n",
      "F1 score:  0.9928789420142421\n"
     ]
    }
   ],
   "source": [
    "model = RandomForestClassifier(random_state=42, min_samples_leaf=10)\n",
    "model.fit(train[features], train['homologado'])\n",
    "confusion_matrix(valid['homologado'], valid_preds).ravel()\n",
    "train_preds = model.predict(train[features])\n",
    "valid_preds = model.predict(valid[features])\n",
    "\n",
    "print_score()"
   ]
  },
  {
   "cell_type": "code",
   "execution_count": 105,
   "metadata": {},
   "outputs": [
    {
     "data": {
      "text/plain": [
       "array([   0,   28,    0, 1952], dtype=int64)"
      ]
     },
     "execution_count": 105,
     "metadata": {},
     "output_type": "execute_result"
    }
   ],
   "source": [
    "confusion_matrix(valid['homologado'], valid_preds).ravel()"
   ]
  },
  {
   "cell_type": "markdown",
   "metadata": {},
   "source": [
    "Uma vez mais, não houve melhoria no modelo ao tentar modificar o min_samples_leaf.\n",
    "\n",
    "Vamos tentar uma última coisa, que é lidar com o fato de as classes serem desbalanceadas."
   ]
  },
  {
   "cell_type": "markdown",
   "metadata": {},
   "source": [
    "## Lidando com as classes desbalanceadas"
   ]
  },
  {
   "cell_type": "markdown",
   "metadata": {},
   "source": [
    "https://machinelearningmastery.com/tactics-to-combat-imbalanced-classes-in-your-machine-learning-dataset/"
   ]
  }
 ],
 "metadata": {
  "kernelspec": {
   "display_name": "Python 3",
   "language": "python",
   "name": "python3"
  },
  "language_info": {
   "codemirror_mode": {
    "name": "ipython",
    "version": 3
   },
   "file_extension": ".py",
   "mimetype": "text/x-python",
   "name": "python",
   "nbconvert_exporter": "python",
   "pygments_lexer": "ipython3",
   "version": "3.6.5"
  }
 },
 "nbformat": 4,
 "nbformat_minor": 2
}
