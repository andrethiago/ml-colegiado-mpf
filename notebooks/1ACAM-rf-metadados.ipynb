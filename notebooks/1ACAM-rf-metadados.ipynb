{
 "cells": [
  {
   "cell_type": "markdown",
   "metadata": {},
   "source": [
    "# Introdução\n",
    "\n",
    "Esse caderno tem por objetivo a criação de um modelo básico de treinamento, utilizando o classificador [RandomForest](http://scikit-learn.org/stable/modules/generated/sklearn.ensemble.RandomForestClassifier.html), que faça a predição de homologação de arquivamentos de procedimentos enviados à 1A.CAM do MPF.\n",
    "\n",
    "Esse modelo usará apenas os metadados dos procedimentos, sem fazer nenhum processamento textual.\n",
    "\n",
    "O objetivo desse modelo é servir como um *baseline* de comparações para implementações futuras.\n",
    "\n",
    "\n",
    "**Nota**: os dados desse modelo foram recuperados de procedimentos que tiveram suas deliberações realizadas após o dia 02/07/2018, data em que a nova composição tomou posse na 1A.CAM."
   ]
  },
  {
   "cell_type": "markdown",
   "metadata": {},
   "source": [
    "# Carga de dados e pré-processamento\n",
    "\n",
    "Vamos fazer a carga dos dados e fazer um pré-processamento tradicional (remoção de atributos que não interessam, criação de variáveis categóricas etc.)"
   ]
  },
  {
   "cell_type": "code",
   "execution_count": 1,
   "metadata": {},
   "outputs": [],
   "source": [
    "%load_ext autoreload\n",
    "%autoreload 2\n",
    "\n",
    "%matplotlib inline"
   ]
  },
  {
   "cell_type": "code",
   "execution_count": 2,
   "metadata": {},
   "outputs": [],
   "source": [
    "from sklearn.ensemble import RandomForestClassifier\n",
    "import numpy as np\n",
    "import pandas as pd\n",
    "\n",
    "from sklearn import metrics"
   ]
  },
  {
   "cell_type": "code",
   "execution_count": 3,
   "metadata": {},
   "outputs": [],
   "source": [
    "PATH = \"../data/\"\n",
    "df_original = pd.read_json(f'{PATH}/1A.CAM.homologacao-arquivamento.json')"
   ]
  },
  {
   "cell_type": "code",
   "execution_count": 4,
   "metadata": {},
   "outputs": [
    {
     "data": {
      "text/plain": [
       "6213"
      ]
     },
     "execution_count": 4,
     "metadata": {},
     "output_type": "execute_result"
    }
   ],
   "source": [
    "len(df_original)"
   ]
  },
  {
   "cell_type": "code",
   "execution_count": 5,
   "metadata": {},
   "outputs": [
    {
     "data": {
      "text/plain": [
       "Index(['areaAtuacao', 'classe', 'dataAutuacao', 'dataEntrada', 'homologado',\n",
       "       'id', 'identificadorPecaPromocao', 'itemCnmp', 'membroResponsavel',\n",
       "       'municipio', 'prioritario', 'procedimento', 'quantidadeConversoes',\n",
       "       'quantidadeProvidencias', 'textosProvidencias', 'urgente'],\n",
       "      dtype='object')"
      ]
     },
     "execution_count": 5,
     "metadata": {},
     "output_type": "execute_result"
    }
   ],
   "source": [
    "df_original.columns"
   ]
  },
  {
   "cell_type": "code",
   "execution_count": 6,
   "metadata": {},
   "outputs": [
    {
     "data": {
      "text/html": [
       "<div>\n",
       "<style scoped>\n",
       "    .dataframe tbody tr th:only-of-type {\n",
       "        vertical-align: middle;\n",
       "    }\n",
       "\n",
       "    .dataframe tbody tr th {\n",
       "        vertical-align: top;\n",
       "    }\n",
       "\n",
       "    .dataframe thead th {\n",
       "        text-align: right;\n",
       "    }\n",
       "</style>\n",
       "<table border=\"1\" class=\"dataframe\">\n",
       "  <thead>\n",
       "    <tr style=\"text-align: right;\">\n",
       "      <th></th>\n",
       "      <th>areaAtuacao</th>\n",
       "      <th>classe</th>\n",
       "      <th>homologado</th>\n",
       "      <th>id</th>\n",
       "      <th>identificadorPecaPromocao</th>\n",
       "      <th>itemCnmp</th>\n",
       "      <th>membroResponsavel</th>\n",
       "      <th>municipio</th>\n",
       "      <th>prioritario</th>\n",
       "      <th>quantidadeConversoes</th>\n",
       "      <th>quantidadeProvidencias</th>\n",
       "      <th>urgente</th>\n",
       "    </tr>\n",
       "  </thead>\n",
       "  <tbody>\n",
       "    <tr>\n",
       "      <th>count</th>\n",
       "      <td>6.213000e+03</td>\n",
       "      <td>6213.000000</td>\n",
       "      <td>6213.000000</td>\n",
       "      <td>6.213000e+03</td>\n",
       "      <td>5.990000e+03</td>\n",
       "      <td>6.213000e+03</td>\n",
       "      <td>5990.000000</td>\n",
       "      <td>6213.000000</td>\n",
       "      <td>6213.000000</td>\n",
       "      <td>6213.000000</td>\n",
       "      <td>6213.000000</td>\n",
       "      <td>6213.000000</td>\n",
       "    </tr>\n",
       "    <tr>\n",
       "      <th>mean</th>\n",
       "      <td>3.241772e+02</td>\n",
       "      <td>2.528730</td>\n",
       "      <td>0.984870</td>\n",
       "      <td>6.732199e+07</td>\n",
       "      <td>7.758961e+07</td>\n",
       "      <td>2.375876e+04</td>\n",
       "      <td>38414.392654</td>\n",
       "      <td>2892.452117</td>\n",
       "      <td>0.006921</td>\n",
       "      <td>2.032191</td>\n",
       "      <td>7.223724</td>\n",
       "      <td>0.006921</td>\n",
       "    </tr>\n",
       "    <tr>\n",
       "      <th>std</th>\n",
       "      <td>2.537449e+04</td>\n",
       "      <td>0.924041</td>\n",
       "      <td>0.122078</td>\n",
       "      <td>1.321553e+07</td>\n",
       "      <td>6.529438e+06</td>\n",
       "      <td>2.086008e+05</td>\n",
       "      <td>34287.237070</td>\n",
       "      <td>1672.507693</td>\n",
       "      <td>0.082911</td>\n",
       "      <td>1.397010</td>\n",
       "      <td>8.707997</td>\n",
       "      <td>0.082911</td>\n",
       "    </tr>\n",
       "    <tr>\n",
       "      <th>min</th>\n",
       "      <td>1.000000e+00</td>\n",
       "      <td>1.000000</td>\n",
       "      <td>0.000000</td>\n",
       "      <td>2.842880e+06</td>\n",
       "      <td>2.648738e+07</td>\n",
       "      <td>2.000000e+00</td>\n",
       "      <td>752.000000</td>\n",
       "      <td>1.000000</td>\n",
       "      <td>0.000000</td>\n",
       "      <td>0.000000</td>\n",
       "      <td>0.000000</td>\n",
       "      <td>0.000000</td>\n",
       "    </tr>\n",
       "    <tr>\n",
       "      <th>25%</th>\n",
       "      <td>2.000000e+00</td>\n",
       "      <td>2.000000</td>\n",
       "      <td>1.000000</td>\n",
       "      <td>6.406698e+07</td>\n",
       "      <td>7.297336e+07</td>\n",
       "      <td>1.521000e+03</td>\n",
       "      <td>13606.000000</td>\n",
       "      <td>1387.000000</td>\n",
       "      <td>0.000000</td>\n",
       "      <td>1.000000</td>\n",
       "      <td>2.000000</td>\n",
       "      <td>0.000000</td>\n",
       "    </tr>\n",
       "    <tr>\n",
       "      <th>50%</th>\n",
       "      <td>2.000000e+00</td>\n",
       "      <td>3.000000</td>\n",
       "      <td>1.000000</td>\n",
       "      <td>7.001298e+07</td>\n",
       "      <td>7.711780e+07</td>\n",
       "      <td>1.581000e+03</td>\n",
       "      <td>25063.000000</td>\n",
       "      <td>3078.000000</td>\n",
       "      <td>0.000000</td>\n",
       "      <td>2.000000</td>\n",
       "      <td>5.000000</td>\n",
       "      <td>0.000000</td>\n",
       "    </tr>\n",
       "    <tr>\n",
       "      <th>75%</th>\n",
       "      <td>2.000000e+00</td>\n",
       "      <td>3.000000</td>\n",
       "      <td>1.000000</td>\n",
       "      <td>7.543734e+07</td>\n",
       "      <td>8.379348e+07</td>\n",
       "      <td>1.892000e+03</td>\n",
       "      <td>53327.000000</td>\n",
       "      <td>4321.000000</td>\n",
       "      <td>0.000000</td>\n",
       "      <td>3.000000</td>\n",
       "      <td>9.000000</td>\n",
       "      <td>0.000000</td>\n",
       "    </tr>\n",
       "    <tr>\n",
       "      <th>max</th>\n",
       "      <td>2.000085e+06</td>\n",
       "      <td>61.000000</td>\n",
       "      <td>1.000000</td>\n",
       "      <td>8.756619e+07</td>\n",
       "      <td>8.810570e+07</td>\n",
       "      <td>2.007548e+06</td>\n",
       "      <td>127563.000000</td>\n",
       "      <td>5768.000000</td>\n",
       "      <td>1.000000</td>\n",
       "      <td>13.000000</td>\n",
       "      <td>161.000000</td>\n",
       "      <td>1.000000</td>\n",
       "    </tr>\n",
       "  </tbody>\n",
       "</table>\n",
       "</div>"
      ],
      "text/plain": [
       "        areaAtuacao       classe   homologado            id  \\\n",
       "count  6.213000e+03  6213.000000  6213.000000  6.213000e+03   \n",
       "mean   3.241772e+02     2.528730     0.984870  6.732199e+07   \n",
       "std    2.537449e+04     0.924041     0.122078  1.321553e+07   \n",
       "min    1.000000e+00     1.000000     0.000000  2.842880e+06   \n",
       "25%    2.000000e+00     2.000000     1.000000  6.406698e+07   \n",
       "50%    2.000000e+00     3.000000     1.000000  7.001298e+07   \n",
       "75%    2.000000e+00     3.000000     1.000000  7.543734e+07   \n",
       "max    2.000085e+06    61.000000     1.000000  8.756619e+07   \n",
       "\n",
       "       identificadorPecaPromocao      itemCnmp  membroResponsavel  \\\n",
       "count               5.990000e+03  6.213000e+03        5990.000000   \n",
       "mean                7.758961e+07  2.375876e+04       38414.392654   \n",
       "std                 6.529438e+06  2.086008e+05       34287.237070   \n",
       "min                 2.648738e+07  2.000000e+00         752.000000   \n",
       "25%                 7.297336e+07  1.521000e+03       13606.000000   \n",
       "50%                 7.711780e+07  1.581000e+03       25063.000000   \n",
       "75%                 8.379348e+07  1.892000e+03       53327.000000   \n",
       "max                 8.810570e+07  2.007548e+06      127563.000000   \n",
       "\n",
       "         municipio  prioritario  quantidadeConversoes  quantidadeProvidencias  \\\n",
       "count  6213.000000  6213.000000           6213.000000             6213.000000   \n",
       "mean   2892.452117     0.006921              2.032191                7.223724   \n",
       "std    1672.507693     0.082911              1.397010                8.707997   \n",
       "min       1.000000     0.000000              0.000000                0.000000   \n",
       "25%    1387.000000     0.000000              1.000000                2.000000   \n",
       "50%    3078.000000     0.000000              2.000000                5.000000   \n",
       "75%    4321.000000     0.000000              3.000000                9.000000   \n",
       "max    5768.000000     1.000000             13.000000              161.000000   \n",
       "\n",
       "           urgente  \n",
       "count  6213.000000  \n",
       "mean      0.006921  \n",
       "std       0.082911  \n",
       "min       0.000000  \n",
       "25%       0.000000  \n",
       "50%       0.000000  \n",
       "75%       0.000000  \n",
       "max       1.000000  "
      ]
     },
     "execution_count": 6,
     "metadata": {},
     "output_type": "execute_result"
    }
   ],
   "source": [
    "df_original.describe()"
   ]
  },
  {
   "cell_type": "code",
   "execution_count": 7,
   "metadata": {},
   "outputs": [
    {
     "data": {
      "text/plain": [
       "223"
      ]
     },
     "execution_count": 7,
     "metadata": {},
     "output_type": "execute_result"
    }
   ],
   "source": [
    "len(df_original[df_original.identificadorPecaPromocao.isnull()])"
   ]
  },
  {
   "cell_type": "code",
   "execution_count": 8,
   "metadata": {},
   "outputs": [],
   "source": [
    "df_work = df_original.copy()"
   ]
  },
  {
   "cell_type": "code",
   "execution_count": 9,
   "metadata": {},
   "outputs": [],
   "source": [
    "# elementos com peça de promoção de arquivamento nulos não nos interessam\n",
    "df_work.dropna(subset=['identificadorPecaPromocao'], inplace=True)\n",
    "df_work.reset_index(drop=True, inplace=True)"
   ]
  },
  {
   "cell_type": "code",
   "execution_count": 10,
   "metadata": {},
   "outputs": [
    {
     "data": {
      "text/plain": [
       "0"
      ]
     },
     "execution_count": 10,
     "metadata": {},
     "output_type": "execute_result"
    }
   ],
   "source": [
    "len(df_work[df_work.identificadorPecaPromocao.isnull()])"
   ]
  },
  {
   "cell_type": "code",
   "execution_count": 11,
   "metadata": {},
   "outputs": [
    {
     "data": {
      "text/html": [
       "<div>\n",
       "<style scoped>\n",
       "    .dataframe tbody tr th:only-of-type {\n",
       "        vertical-align: middle;\n",
       "    }\n",
       "\n",
       "    .dataframe tbody tr th {\n",
       "        vertical-align: top;\n",
       "    }\n",
       "\n",
       "    .dataframe thead th {\n",
       "        text-align: right;\n",
       "    }\n",
       "</style>\n",
       "<table border=\"1\" class=\"dataframe\">\n",
       "  <thead>\n",
       "    <tr style=\"text-align: right;\">\n",
       "      <th></th>\n",
       "      <th>areaAtuacao</th>\n",
       "      <th>classe</th>\n",
       "      <th>dataAutuacao</th>\n",
       "      <th>dataEntrada</th>\n",
       "      <th>homologado</th>\n",
       "      <th>itemCnmp</th>\n",
       "      <th>membroResponsavel</th>\n",
       "      <th>municipio</th>\n",
       "      <th>prioritario</th>\n",
       "      <th>quantidadeConversoes</th>\n",
       "      <th>quantidadeProvidencias</th>\n",
       "      <th>urgente</th>\n",
       "    </tr>\n",
       "  </thead>\n",
       "  <tbody>\n",
       "    <tr>\n",
       "      <th>2978</th>\n",
       "      <td>2</td>\n",
       "      <td>2</td>\n",
       "      <td>13-09-2016</td>\n",
       "      <td>23-05-2017</td>\n",
       "      <td>1</td>\n",
       "      <td>1580</td>\n",
       "      <td>64245.0</td>\n",
       "      <td>4477</td>\n",
       "      <td>0</td>\n",
       "      <td>0</td>\n",
       "      <td>2</td>\n",
       "      <td>0</td>\n",
       "    </tr>\n",
       "    <tr>\n",
       "      <th>788</th>\n",
       "      <td>2</td>\n",
       "      <td>3</td>\n",
       "      <td>06-10-2016</td>\n",
       "      <td>18-06-2018</td>\n",
       "      <td>1</td>\n",
       "      <td>1864</td>\n",
       "      <td>18652.0</td>\n",
       "      <td>3078</td>\n",
       "      <td>0</td>\n",
       "      <td>3</td>\n",
       "      <td>12</td>\n",
       "      <td>0</td>\n",
       "    </tr>\n",
       "    <tr>\n",
       "      <th>3924</th>\n",
       "      <td>2</td>\n",
       "      <td>2</td>\n",
       "      <td>11-03-2016</td>\n",
       "      <td>30-01-2017</td>\n",
       "      <td>1</td>\n",
       "      <td>1515</td>\n",
       "      <td>53312.0</td>\n",
       "      <td>5504</td>\n",
       "      <td>0</td>\n",
       "      <td>2</td>\n",
       "      <td>2</td>\n",
       "      <td>0</td>\n",
       "    </tr>\n",
       "    <tr>\n",
       "      <th>133</th>\n",
       "      <td>5</td>\n",
       "      <td>3</td>\n",
       "      <td>11-09-2014</td>\n",
       "      <td>02-08-2018</td>\n",
       "      <td>1</td>\n",
       "      <td>1525</td>\n",
       "      <td>10297.0</td>\n",
       "      <td>810</td>\n",
       "      <td>0</td>\n",
       "      <td>1</td>\n",
       "      <td>5</td>\n",
       "      <td>0</td>\n",
       "    </tr>\n",
       "    <tr>\n",
       "      <th>150</th>\n",
       "      <td>2</td>\n",
       "      <td>2</td>\n",
       "      <td>01-03-2018</td>\n",
       "      <td>02-08-2018</td>\n",
       "      <td>1</td>\n",
       "      <td>1521</td>\n",
       "      <td>3768.0</td>\n",
       "      <td>1214</td>\n",
       "      <td>0</td>\n",
       "      <td>2</td>\n",
       "      <td>5</td>\n",
       "      <td>0</td>\n",
       "    </tr>\n",
       "    <tr>\n",
       "      <th>491</th>\n",
       "      <td>2</td>\n",
       "      <td>2</td>\n",
       "      <td>31-10-2017</td>\n",
       "      <td>09-07-2018</td>\n",
       "      <td>1</td>\n",
       "      <td>1556</td>\n",
       "      <td>20391.0</td>\n",
       "      <td>4966</td>\n",
       "      <td>0</td>\n",
       "      <td>2</td>\n",
       "      <td>4</td>\n",
       "      <td>0</td>\n",
       "    </tr>\n",
       "    <tr>\n",
       "      <th>1281</th>\n",
       "      <td>2</td>\n",
       "      <td>3</td>\n",
       "      <td>19-01-2016</td>\n",
       "      <td>10-05-2018</td>\n",
       "      <td>1</td>\n",
       "      <td>1543</td>\n",
       "      <td>18836.0</td>\n",
       "      <td>3113</td>\n",
       "      <td>0</td>\n",
       "      <td>4</td>\n",
       "      <td>22</td>\n",
       "      <td>0</td>\n",
       "    </tr>\n",
       "    <tr>\n",
       "      <th>1669</th>\n",
       "      <td>2</td>\n",
       "      <td>3</td>\n",
       "      <td>16-05-2014</td>\n",
       "      <td>19-03-2018</td>\n",
       "      <td>1</td>\n",
       "      <td>3147</td>\n",
       "      <td>87662.0</td>\n",
       "      <td>5115</td>\n",
       "      <td>0</td>\n",
       "      <td>3</td>\n",
       "      <td>31</td>\n",
       "      <td>0</td>\n",
       "    </tr>\n",
       "    <tr>\n",
       "      <th>2292</th>\n",
       "      <td>2</td>\n",
       "      <td>2</td>\n",
       "      <td>18-05-2017</td>\n",
       "      <td>15-09-2017</td>\n",
       "      <td>1</td>\n",
       "      <td>1102</td>\n",
       "      <td>3591.0</td>\n",
       "      <td>4369</td>\n",
       "      <td>0</td>\n",
       "      <td>1</td>\n",
       "      <td>1</td>\n",
       "      <td>0</td>\n",
       "    </tr>\n",
       "    <tr>\n",
       "      <th>2921</th>\n",
       "      <td>2</td>\n",
       "      <td>3</td>\n",
       "      <td>27-01-2017</td>\n",
       "      <td>25-05-2017</td>\n",
       "      <td>1</td>\n",
       "      <td>1567</td>\n",
       "      <td>23549.0</td>\n",
       "      <td>4638</td>\n",
       "      <td>0</td>\n",
       "      <td>1</td>\n",
       "      <td>3</td>\n",
       "      <td>0</td>\n",
       "    </tr>\n",
       "  </tbody>\n",
       "</table>\n",
       "</div>"
      ],
      "text/plain": [
       "      areaAtuacao  classe dataAutuacao dataEntrada  homologado  itemCnmp  \\\n",
       "2978            2       2   13-09-2016  23-05-2017           1      1580   \n",
       "788             2       3   06-10-2016  18-06-2018           1      1864   \n",
       "3924            2       2   11-03-2016  30-01-2017           1      1515   \n",
       "133             5       3   11-09-2014  02-08-2018           1      1525   \n",
       "150             2       2   01-03-2018  02-08-2018           1      1521   \n",
       "491             2       2   31-10-2017  09-07-2018           1      1556   \n",
       "1281            2       3   19-01-2016  10-05-2018           1      1543   \n",
       "1669            2       3   16-05-2014  19-03-2018           1      3147   \n",
       "2292            2       2   18-05-2017  15-09-2017           1      1102   \n",
       "2921            2       3   27-01-2017  25-05-2017           1      1567   \n",
       "\n",
       "      membroResponsavel  municipio  prioritario  quantidadeConversoes  \\\n",
       "2978            64245.0       4477            0                     0   \n",
       "788             18652.0       3078            0                     3   \n",
       "3924            53312.0       5504            0                     2   \n",
       "133             10297.0        810            0                     1   \n",
       "150              3768.0       1214            0                     2   \n",
       "491             20391.0       4966            0                     2   \n",
       "1281            18836.0       3113            0                     4   \n",
       "1669            87662.0       5115            0                     3   \n",
       "2292             3591.0       4369            0                     1   \n",
       "2921            23549.0       4638            0                     1   \n",
       "\n",
       "      quantidadeProvidencias  urgente  \n",
       "2978                       2        0  \n",
       "788                       12        0  \n",
       "3924                       2        0  \n",
       "133                        5        0  \n",
       "150                        5        0  \n",
       "491                        4        0  \n",
       "1281                      22        0  \n",
       "1669                      31        0  \n",
       "2292                       1        0  \n",
       "2921                       3        0  "
      ]
     },
     "execution_count": 11,
     "metadata": {},
     "output_type": "execute_result"
    }
   ],
   "source": [
    "# nessa primeira passada, essas colunas não nos interessam\n",
    "removed_columns = ['id', 'procedimento', 'textosProvidencias', 'identificadorPecaPromocao']\n",
    "df_work = df_work.drop(columns=removed_columns)\n",
    "df_work.sample(10)"
   ]
  },
  {
   "cell_type": "code",
   "execution_count": 12,
   "metadata": {},
   "outputs": [
    {
     "data": {
      "text/html": [
       "<div>\n",
       "<style scoped>\n",
       "    .dataframe tbody tr th:only-of-type {\n",
       "        vertical-align: middle;\n",
       "    }\n",
       "\n",
       "    .dataframe tbody tr th {\n",
       "        vertical-align: top;\n",
       "    }\n",
       "\n",
       "    .dataframe thead th {\n",
       "        text-align: right;\n",
       "    }\n",
       "</style>\n",
       "<table border=\"1\" class=\"dataframe\">\n",
       "  <thead>\n",
       "    <tr style=\"text-align: right;\">\n",
       "      <th></th>\n",
       "      <th>areaAtuacao</th>\n",
       "      <th>classe</th>\n",
       "      <th>homologado</th>\n",
       "      <th>itemCnmp</th>\n",
       "      <th>membroResponsavel</th>\n",
       "      <th>municipio</th>\n",
       "      <th>prioritario</th>\n",
       "      <th>quantidadeConversoes</th>\n",
       "      <th>quantidadeProvidencias</th>\n",
       "      <th>urgente</th>\n",
       "    </tr>\n",
       "  </thead>\n",
       "  <tbody>\n",
       "    <tr>\n",
       "      <th>count</th>\n",
       "      <td>5.990000e+03</td>\n",
       "      <td>5990.000000</td>\n",
       "      <td>5990.000000</td>\n",
       "      <td>5.990000e+03</td>\n",
       "      <td>5990.000000</td>\n",
       "      <td>5990.000000</td>\n",
       "      <td>5990.000000</td>\n",
       "      <td>5990.000000</td>\n",
       "      <td>5990.000000</td>\n",
       "      <td>5990.000000</td>\n",
       "    </tr>\n",
       "    <tr>\n",
       "      <th>mean</th>\n",
       "      <td>3.361636e+02</td>\n",
       "      <td>2.535058</td>\n",
       "      <td>0.985309</td>\n",
       "      <td>2.357373e+04</td>\n",
       "      <td>38414.392654</td>\n",
       "      <td>2898.332554</td>\n",
       "      <td>0.007012</td>\n",
       "      <td>2.045409</td>\n",
       "      <td>7.221870</td>\n",
       "      <td>0.007012</td>\n",
       "    </tr>\n",
       "    <tr>\n",
       "      <th>std</th>\n",
       "      <td>2.584250e+04</td>\n",
       "      <td>0.932175</td>\n",
       "      <td>0.120323</td>\n",
       "      <td>2.077185e+05</td>\n",
       "      <td>34287.237070</td>\n",
       "      <td>1669.009741</td>\n",
       "      <td>0.083449</td>\n",
       "      <td>1.394695</td>\n",
       "      <td>8.570688</td>\n",
       "      <td>0.083449</td>\n",
       "    </tr>\n",
       "    <tr>\n",
       "      <th>min</th>\n",
       "      <td>1.000000e+00</td>\n",
       "      <td>1.000000</td>\n",
       "      <td>0.000000</td>\n",
       "      <td>2.000000e+00</td>\n",
       "      <td>752.000000</td>\n",
       "      <td>1.000000</td>\n",
       "      <td>0.000000</td>\n",
       "      <td>0.000000</td>\n",
       "      <td>0.000000</td>\n",
       "      <td>0.000000</td>\n",
       "    </tr>\n",
       "    <tr>\n",
       "      <th>25%</th>\n",
       "      <td>2.000000e+00</td>\n",
       "      <td>2.000000</td>\n",
       "      <td>1.000000</td>\n",
       "      <td>1.521000e+03</td>\n",
       "      <td>13606.000000</td>\n",
       "      <td>1428.250000</td>\n",
       "      <td>0.000000</td>\n",
       "      <td>1.000000</td>\n",
       "      <td>3.000000</td>\n",
       "      <td>0.000000</td>\n",
       "    </tr>\n",
       "    <tr>\n",
       "      <th>50%</th>\n",
       "      <td>2.000000e+00</td>\n",
       "      <td>3.000000</td>\n",
       "      <td>1.000000</td>\n",
       "      <td>1.581000e+03</td>\n",
       "      <td>25063.000000</td>\n",
       "      <td>3083.000000</td>\n",
       "      <td>0.000000</td>\n",
       "      <td>2.000000</td>\n",
       "      <td>5.000000</td>\n",
       "      <td>0.000000</td>\n",
       "    </tr>\n",
       "    <tr>\n",
       "      <th>75%</th>\n",
       "      <td>2.000000e+00</td>\n",
       "      <td>3.000000</td>\n",
       "      <td>1.000000</td>\n",
       "      <td>1.892000e+03</td>\n",
       "      <td>53327.000000</td>\n",
       "      <td>4335.000000</td>\n",
       "      <td>0.000000</td>\n",
       "      <td>3.000000</td>\n",
       "      <td>9.000000</td>\n",
       "      <td>0.000000</td>\n",
       "    </tr>\n",
       "    <tr>\n",
       "      <th>max</th>\n",
       "      <td>2.000085e+06</td>\n",
       "      <td>61.000000</td>\n",
       "      <td>1.000000</td>\n",
       "      <td>2.007548e+06</td>\n",
       "      <td>127563.000000</td>\n",
       "      <td>5768.000000</td>\n",
       "      <td>1.000000</td>\n",
       "      <td>13.000000</td>\n",
       "      <td>161.000000</td>\n",
       "      <td>1.000000</td>\n",
       "    </tr>\n",
       "  </tbody>\n",
       "</table>\n",
       "</div>"
      ],
      "text/plain": [
       "        areaAtuacao       classe   homologado      itemCnmp  \\\n",
       "count  5.990000e+03  5990.000000  5990.000000  5.990000e+03   \n",
       "mean   3.361636e+02     2.535058     0.985309  2.357373e+04   \n",
       "std    2.584250e+04     0.932175     0.120323  2.077185e+05   \n",
       "min    1.000000e+00     1.000000     0.000000  2.000000e+00   \n",
       "25%    2.000000e+00     2.000000     1.000000  1.521000e+03   \n",
       "50%    2.000000e+00     3.000000     1.000000  1.581000e+03   \n",
       "75%    2.000000e+00     3.000000     1.000000  1.892000e+03   \n",
       "max    2.000085e+06    61.000000     1.000000  2.007548e+06   \n",
       "\n",
       "       membroResponsavel    municipio  prioritario  quantidadeConversoes  \\\n",
       "count        5990.000000  5990.000000  5990.000000           5990.000000   \n",
       "mean        38414.392654  2898.332554     0.007012              2.045409   \n",
       "std         34287.237070  1669.009741     0.083449              1.394695   \n",
       "min           752.000000     1.000000     0.000000              0.000000   \n",
       "25%         13606.000000  1428.250000     0.000000              1.000000   \n",
       "50%         25063.000000  3083.000000     0.000000              2.000000   \n",
       "75%         53327.000000  4335.000000     0.000000              3.000000   \n",
       "max        127563.000000  5768.000000     1.000000             13.000000   \n",
       "\n",
       "       quantidadeProvidencias      urgente  \n",
       "count             5990.000000  5990.000000  \n",
       "mean                 7.221870     0.007012  \n",
       "std                  8.570688     0.083449  \n",
       "min                  0.000000     0.000000  \n",
       "25%                  3.000000     0.000000  \n",
       "50%                  5.000000     0.000000  \n",
       "75%                  9.000000     0.000000  \n",
       "max                161.000000     1.000000  "
      ]
     },
     "execution_count": 12,
     "metadata": {},
     "output_type": "execute_result"
    }
   ],
   "source": [
    "df_work.describe()"
   ]
  },
  {
   "cell_type": "code",
   "execution_count": 13,
   "metadata": {},
   "outputs": [],
   "source": [
    "# tratando os nulos\n",
    "df_work.fillna(-1, inplace=True)"
   ]
  },
  {
   "cell_type": "code",
   "execution_count": 14,
   "metadata": {},
   "outputs": [
    {
     "data": {
      "text/plain": [
       "<matplotlib.axes._subplots.AxesSubplot at 0x7f2924b4c7b8>"
      ]
     },
     "execution_count": 14,
     "metadata": {},
     "output_type": "execute_result"
    },
    {
     "data": {
      "image/png": "[encoded data removed]",
      "text/plain": [
       "<Figure size 432x288 with 1 Axes>"
      ]
     },
     "metadata": {},
     "output_type": "display_data"
    }
   ],
   "source": [
    "df_work['homologado'].value_counts().plot.bar()"
   ]
  },
  {
   "cell_type": "markdown",
   "metadata": {},
   "source": [
    "### Classes desbalanceadas!!!\n",
    "\n",
    "Conforme podemos ver acima, as classes desse problema são altamente desbalanceadas - apenas 1.46% do conjunto de dados representam procedimentos que não foram homologados.\n",
    "\n",
    "Isso, muito provavelmente, causará problemas no treino do modelo. Mas, inicialmente, vamos ignorar isso e seguir com o nosso treino."
   ]
  },
  {
   "cell_type": "code",
   "execution_count": 15,
   "metadata": {},
   "outputs": [],
   "source": [
    "# conversão para datas\n",
    "df_work['dataAutuacao'] = pd.to_datetime(df_work['dataAutuacao'],infer_datetime_format=True)\n",
    "df_work['dataEntrada'] = pd.to_datetime(df_work['dataEntrada'],infer_datetime_format=True)"
   ]
  },
  {
   "cell_type": "code",
   "execution_count": 16,
   "metadata": {},
   "outputs": [],
   "source": [
    "# vamos criar uma variável derivada, representando a quantidade de dias desde a autuação até a entrada\n",
    "df_work['diasTranscorridos'] = 0\n",
    "for index in range(len(df_work)):\n",
    "    df_work.loc[index, 'diasTranscorridos'] =  (df_work.loc[index, 'dataEntrada'] - df_work.loc[index, 'dataAutuacao']).days"
   ]
  },
  {
   "cell_type": "code",
   "execution_count": 17,
   "metadata": {},
   "outputs": [
    {
     "data": {
      "text/html": [
       "<div>\n",
       "<style scoped>\n",
       "    .dataframe tbody tr th:only-of-type {\n",
       "        vertical-align: middle;\n",
       "    }\n",
       "\n",
       "    .dataframe tbody tr th {\n",
       "        vertical-align: top;\n",
       "    }\n",
       "\n",
       "    .dataframe thead th {\n",
       "        text-align: right;\n",
       "    }\n",
       "</style>\n",
       "<table border=\"1\" class=\"dataframe\">\n",
       "  <thead>\n",
       "    <tr style=\"text-align: right;\">\n",
       "      <th></th>\n",
       "      <th>areaAtuacao</th>\n",
       "      <th>classe</th>\n",
       "      <th>dataAutuacao</th>\n",
       "      <th>dataEntrada</th>\n",
       "      <th>homologado</th>\n",
       "      <th>itemCnmp</th>\n",
       "      <th>membroResponsavel</th>\n",
       "      <th>municipio</th>\n",
       "      <th>prioritario</th>\n",
       "      <th>quantidadeConversoes</th>\n",
       "      <th>quantidadeProvidencias</th>\n",
       "      <th>urgente</th>\n",
       "      <th>diasTranscorridos</th>\n",
       "    </tr>\n",
       "  </thead>\n",
       "  <tbody>\n",
       "    <tr>\n",
       "      <th>387</th>\n",
       "      <td>2</td>\n",
       "      <td>3</td>\n",
       "      <td>2014-08-08</td>\n",
       "      <td>2018-07-18</td>\n",
       "      <td>1</td>\n",
       "      <td>1669</td>\n",
       "      <td>53309.0</td>\n",
       "      <td>3100</td>\n",
       "      <td>0</td>\n",
       "      <td>5</td>\n",
       "      <td>11</td>\n",
       "      <td>0</td>\n",
       "      <td>1440</td>\n",
       "    </tr>\n",
       "    <tr>\n",
       "      <th>697</th>\n",
       "      <td>2</td>\n",
       "      <td>3</td>\n",
       "      <td>2017-05-04</td>\n",
       "      <td>2018-06-20</td>\n",
       "      <td>1</td>\n",
       "      <td>3150</td>\n",
       "      <td>127539.0</td>\n",
       "      <td>5023</td>\n",
       "      <td>0</td>\n",
       "      <td>4</td>\n",
       "      <td>6</td>\n",
       "      <td>0</td>\n",
       "      <td>412</td>\n",
       "    </tr>\n",
       "    <tr>\n",
       "      <th>1345</th>\n",
       "      <td>2</td>\n",
       "      <td>3</td>\n",
       "      <td>2015-11-12</td>\n",
       "      <td>2018-05-14</td>\n",
       "      <td>1</td>\n",
       "      <td>1581</td>\n",
       "      <td>18836.0</td>\n",
       "      <td>3113</td>\n",
       "      <td>0</td>\n",
       "      <td>4</td>\n",
       "      <td>18</td>\n",
       "      <td>0</td>\n",
       "      <td>914</td>\n",
       "    </tr>\n",
       "    <tr>\n",
       "      <th>3700</th>\n",
       "      <td>2</td>\n",
       "      <td>3</td>\n",
       "      <td>2015-10-20</td>\n",
       "      <td>2017-03-13</td>\n",
       "      <td>1</td>\n",
       "      <td>1772</td>\n",
       "      <td>20872.0</td>\n",
       "      <td>4710</td>\n",
       "      <td>0</td>\n",
       "      <td>1</td>\n",
       "      <td>3</td>\n",
       "      <td>0</td>\n",
       "      <td>510</td>\n",
       "    </tr>\n",
       "    <tr>\n",
       "      <th>579</th>\n",
       "      <td>2</td>\n",
       "      <td>2</td>\n",
       "      <td>2018-01-16</td>\n",
       "      <td>2018-07-09</td>\n",
       "      <td>1</td>\n",
       "      <td>852</td>\n",
       "      <td>127541.0</td>\n",
       "      <td>4960</td>\n",
       "      <td>0</td>\n",
       "      <td>2</td>\n",
       "      <td>4</td>\n",
       "      <td>0</td>\n",
       "      <td>174</td>\n",
       "    </tr>\n",
       "    <tr>\n",
       "      <th>906</th>\n",
       "      <td>2</td>\n",
       "      <td>3</td>\n",
       "      <td>2015-06-08</td>\n",
       "      <td>2018-06-11</td>\n",
       "      <td>1</td>\n",
       "      <td>1507</td>\n",
       "      <td>33435.0</td>\n",
       "      <td>1443</td>\n",
       "      <td>0</td>\n",
       "      <td>4</td>\n",
       "      <td>14</td>\n",
       "      <td>0</td>\n",
       "      <td>1099</td>\n",
       "    </tr>\n",
       "    <tr>\n",
       "      <th>4778</th>\n",
       "      <td>2</td>\n",
       "      <td>3</td>\n",
       "      <td>2015-07-10</td>\n",
       "      <td>2016-06-29</td>\n",
       "      <td>1</td>\n",
       "      <td>1567</td>\n",
       "      <td>17663.0</td>\n",
       "      <td>2579</td>\n",
       "      <td>0</td>\n",
       "      <td>0</td>\n",
       "      <td>4</td>\n",
       "      <td>0</td>\n",
       "      <td>355</td>\n",
       "    </tr>\n",
       "    <tr>\n",
       "      <th>2531</th>\n",
       "      <td>2</td>\n",
       "      <td>3</td>\n",
       "      <td>2016-09-23</td>\n",
       "      <td>2017-07-26</td>\n",
       "      <td>1</td>\n",
       "      <td>3147</td>\n",
       "      <td>22600.0</td>\n",
       "      <td>4808</td>\n",
       "      <td>0</td>\n",
       "      <td>1</td>\n",
       "      <td>7</td>\n",
       "      <td>0</td>\n",
       "      <td>306</td>\n",
       "    </tr>\n",
       "    <tr>\n",
       "      <th>3182</th>\n",
       "      <td>2</td>\n",
       "      <td>3</td>\n",
       "      <td>2014-11-20</td>\n",
       "      <td>2017-05-08</td>\n",
       "      <td>1</td>\n",
       "      <td>1521</td>\n",
       "      <td>127558.0</td>\n",
       "      <td>291</td>\n",
       "      <td>0</td>\n",
       "      <td>3</td>\n",
       "      <td>4</td>\n",
       "      <td>0</td>\n",
       "      <td>900</td>\n",
       "    </tr>\n",
       "    <tr>\n",
       "      <th>1764</th>\n",
       "      <td>2</td>\n",
       "      <td>3</td>\n",
       "      <td>2015-01-06</td>\n",
       "      <td>2018-03-06</td>\n",
       "      <td>1</td>\n",
       "      <td>750</td>\n",
       "      <td>87444.0</td>\n",
       "      <td>3903</td>\n",
       "      <td>0</td>\n",
       "      <td>3</td>\n",
       "      <td>4</td>\n",
       "      <td>0</td>\n",
       "      <td>1155</td>\n",
       "    </tr>\n",
       "  </tbody>\n",
       "</table>\n",
       "</div>"
      ],
      "text/plain": [
       "      areaAtuacao  classe dataAutuacao dataEntrada  homologado  itemCnmp  \\\n",
       "387             2       3   2014-08-08  2018-07-18           1      1669   \n",
       "697             2       3   2017-05-04  2018-06-20           1      3150   \n",
       "1345            2       3   2015-11-12  2018-05-14           1      1581   \n",
       "3700            2       3   2015-10-20  2017-03-13           1      1772   \n",
       "579             2       2   2018-01-16  2018-07-09           1       852   \n",
       "906             2       3   2015-06-08  2018-06-11           1      1507   \n",
       "4778            2       3   2015-07-10  2016-06-29           1      1567   \n",
       "2531            2       3   2016-09-23  2017-07-26           1      3147   \n",
       "3182            2       3   2014-11-20  2017-05-08           1      1521   \n",
       "1764            2       3   2015-01-06  2018-03-06           1       750   \n",
       "\n",
       "      membroResponsavel  municipio  prioritario  quantidadeConversoes  \\\n",
       "387             53309.0       3100            0                     5   \n",
       "697            127539.0       5023            0                     4   \n",
       "1345            18836.0       3113            0                     4   \n",
       "3700            20872.0       4710            0                     1   \n",
       "579            127541.0       4960            0                     2   \n",
       "906             33435.0       1443            0                     4   \n",
       "4778            17663.0       2579            0                     0   \n",
       "2531            22600.0       4808            0                     1   \n",
       "3182           127558.0        291            0                     3   \n",
       "1764            87444.0       3903            0                     3   \n",
       "\n",
       "      quantidadeProvidencias  urgente  diasTranscorridos  \n",
       "387                       11        0               1440  \n",
       "697                        6        0                412  \n",
       "1345                      18        0                914  \n",
       "3700                       3        0                510  \n",
       "579                        4        0                174  \n",
       "906                       14        0               1099  \n",
       "4778                       4        0                355  \n",
       "2531                       7        0                306  \n",
       "3182                       4        0                900  \n",
       "1764                       4        0               1155  "
      ]
     },
     "execution_count": 17,
     "metadata": {},
     "output_type": "execute_result"
    }
   ],
   "source": [
    "df_work.sample(10)"
   ]
  },
  {
   "cell_type": "code",
   "execution_count": 19,
   "metadata": {},
   "outputs": [
    {
     "data": {
      "text/plain": [
       "RandomForestClassifier(bootstrap=True, class_weight=None, criterion='gini',\n",
       "            max_depth=None, max_features='auto', max_leaf_nodes=None,\n",
       "            min_impurity_decrease=0.0, min_impurity_split=None,\n",
       "            min_samples_leaf=1, min_samples_split=2,\n",
       "            min_weight_fraction_leaf=0.0, n_estimators=10, n_jobs=1,\n",
       "            oob_score=False, random_state=None, verbose=0,\n",
       "            warm_start=False)"
      ]
     },
     "execution_count": 19,
     "metadata": {},
     "output_type": "execute_result"
    }
   ],
   "source": [
    "removed_columns = ['homologado', 'dataEntrada', 'dataAutuacao']\n",
    "features = [c for c in df_work.columns if c not in removed_columns]\n",
    "\n",
    "model = RandomForestClassifier()\n",
    "model.fit(df_work[features], df_work['homologado'])"
   ]
  },
  {
   "cell_type": "code",
   "execution_count": 20,
   "metadata": {},
   "outputs": [
    {
     "data": {
      "text/plain": [
       "0.998330550918197"
      ]
     },
     "execution_count": 20,
     "metadata": {},
     "output_type": "execute_result"
    }
   ],
   "source": [
    "model.score(df_work[features], df_work['homologado'])"
   ]
  },
  {
   "cell_type": "code",
   "execution_count": 21,
   "metadata": {},
   "outputs": [
    {
     "data": {
      "text/plain": [
       "((4492, 13), (1498, 13))"
      ]
     },
     "execution_count": 21,
     "metadata": {},
     "output_type": "execute_result"
    }
   ],
   "source": [
    "from sklearn.model_selection import train_test_split\n",
    "\n",
    "train, valid = train_test_split(df_work, random_state=42)\n",
    "train.shape, valid.shape"
   ]
  },
  {
   "cell_type": "code",
   "execution_count": 22,
   "metadata": {},
   "outputs": [
    {
     "data": {
      "text/plain": [
       "RandomForestClassifier(bootstrap=True, class_weight=None, criterion='gini',\n",
       "            max_depth=None, max_features='auto', max_leaf_nodes=None,\n",
       "            min_impurity_decrease=0.0, min_impurity_split=None,\n",
       "            min_samples_leaf=1, min_samples_split=2,\n",
       "            min_weight_fraction_leaf=0.0, n_estimators=10, n_jobs=1,\n",
       "            oob_score=False, random_state=None, verbose=0,\n",
       "            warm_start=False)"
      ]
     },
     "execution_count": 22,
     "metadata": {},
     "output_type": "execute_result"
    }
   ],
   "source": [
    "model.fit(train[features], train['homologado'])"
   ]
  },
  {
   "cell_type": "code",
   "execution_count": 23,
   "metadata": {},
   "outputs": [],
   "source": [
    "train_preds = model.predict(train[features])\n",
    "valid_preds = model.predict(valid[features])"
   ]
  },
  {
   "cell_type": "code",
   "execution_count": 35,
   "metadata": {},
   "outputs": [
    {
     "name": "stdout",
     "output_type": "stream",
     "text": [
      "0.9984416740872663 0.9806408544726302\n"
     ]
    }
   ],
   "source": [
    "from sklearn.metrics import accuracy_score\n",
    "\n",
    "def print_score():\n",
    "    print(accuracy_score(train['homologado'], train_preds), accuracy_score(valid['homologado'], valid_preds))\n",
    "\n",
    "print_score()"
   ]
  },
  {
   "cell_type": "markdown",
   "metadata": {},
   "source": [
    "### Primeira avaliação\n",
    "\n",
    "Embora não tenha ocorrido overfitting no treinamento e o *score* final tenha sido alto, cabe utilizar uma outra medida para assegurar a qualidade do modelo. Vamos utilizar a ** *matriz de confusão* **.\n",
    "\n"
   ]
  },
  {
   "cell_type": "code",
   "execution_count": 25,
   "metadata": {
    "scrolled": true
   },
   "outputs": [
    {
     "data": {
      "text/plain": [
       "array([[   0,   28],\n",
       "       [   1, 1469]])"
      ]
     },
     "execution_count": 25,
     "metadata": {},
     "output_type": "execute_result"
    }
   ],
   "source": [
    "from sklearn.metrics import confusion_matrix\n",
    "\n",
    "confusion_matrix(valid['homologado'], valid_preds)"
   ]
  },
  {
   "cell_type": "code",
   "execution_count": 26,
   "metadata": {},
   "outputs": [
    {
     "data": {
      "text/plain": [
       "array([   0,   28,    1, 1469])"
      ]
     },
     "execution_count": 26,
     "metadata": {},
     "output_type": "execute_result"
    }
   ],
   "source": [
    "confusion_matrix(valid['homologado'], valid_preds).ravel()"
   ]
  },
  {
   "cell_type": "code",
   "execution_count": 27,
   "metadata": {},
   "outputs": [
    {
     "data": {
      "text/plain": [
       "(1470, 28)"
      ]
     },
     "execution_count": 27,
     "metadata": {},
     "output_type": "execute_result"
    }
   ],
   "source": [
    "len(valid[valid['homologado']==1]), len(valid[valid['homologado']==0])"
   ]
  },
  {
   "cell_type": "markdown",
   "metadata": {},
   "source": [
    "Ao utilizar o ravel(), temos uma saída do tipo (tn, fp, fn, tp). De onde vemos que:\n",
    "\n",
    "\n",
    "- tivemos 0 tn - *true negative*; ou seja, o modelo não conseguiu acertar nenhum dos que não tiveram o arquivamento homologado;\n",
    "- tivemos 28 fp - *false positive*; 28 que não tiveram o arquivamento homologado e o modelo classificou como homologado;\n",
    "- tivemos 1 fn - *false negative*; foram homologados e o modelo marcou como não homologados;\n",
    "- tivemos 1469 tp - *true positive*; foram homologados e o modelo marcou corretamente.\n",
    "\n",
    "Logo, apesar da acurácia do modelo aparentar ser muito boa (98% no validation set), o **modelo não sabe lidar com os não arquivamentos** - não acertou nenhum dos que realmente não foram homologados. Ou seja dos 22 que não foram homologados, o modelo errou todos e ainda marcou 4 não homologados de forma errada.\n",
    "\n",
    "Fica claro que somente essas features não ajudam na descoberta - o texto da íntegra é, segundo a área negocial, realmente o mais importante.\n",
    "\n",
    "Vamos continuar avaliando esse modelo."
   ]
  },
  {
   "cell_type": "markdown",
   "metadata": {},
   "source": [
    "## Feature importances"
   ]
  },
  {
   "cell_type": "code",
   "execution_count": 36,
   "metadata": {},
   "outputs": [
    {
     "data": {
      "image/png": "[encoded data removed]",
      "text/plain": [
       "<Figure size 432x288 with 1 Axes>"
      ]
     },
     "metadata": {},
     "output_type": "display_data"
    }
   ],
   "source": [
    "import matplotlib.pyplot as plt\n",
    "\n",
    "def plot_fi(feature_importances=model.feature_importances_):\n",
    "    feature_importances = model.feature_importances_\n",
    "    indices = np.argsort(feature_importances)\n",
    "    \n",
    "    plt.title('Feature Importances')\n",
    "    plt.barh(range(len(indices)), feature_importances[indices], color='b', align='center')\n",
    "    plt.yticks(range(len(indices)), [features[i] for i in indices])\n",
    "    plt.xlabel('Relative Importance')\n",
    "    plt.show()\n",
    "    \n",
    "plot_fi(model.feature_importances_)"
   ]
  },
  {
   "cell_type": "markdown",
   "metadata": {},
   "source": [
    "O modelo está dando muita importância ao município que, considerando o bom senso e um pouco de domínio negocial, não faz sentido - o município não deveria interferir.\n",
    "\n",
    "Lembrar: criar uma coluna para cada uma das listas de palavras-chaves, indicando ausência ou presença"
   ]
  },
  {
   "cell_type": "code",
   "execution_count": 38,
   "metadata": {},
   "outputs": [
    {
     "name": "stdout",
     "output_type": "stream",
     "text": [
      "0.9993321460373998 0.9813084112149533\n"
     ]
    }
   ],
   "source": [
    "# Vou retirar as colunas com poucas importância\n",
    "removed_columns = ['homologado', 'dataEntrada', 'dataAutuacao', 'urgente', 'prioritario']\n",
    "features = [c for c in df_work.columns if c not in removed_columns]\n",
    "\n",
    "model = RandomForestClassifier()\n",
    "\n",
    "model.fit(train[features], train['homologado'])\n",
    "\n",
    "train_preds = model.predict(train[features])\n",
    "valid_preds = model.predict(valid[features])\n",
    "\n",
    "print_score()"
   ]
  },
  {
   "cell_type": "code",
   "execution_count": 39,
   "metadata": {},
   "outputs": [
    {
     "data": {
      "text/plain": [
       "array([   0,   28,    0, 1470])"
      ]
     },
     "execution_count": 39,
     "metadata": {},
     "output_type": "execute_result"
    }
   ],
   "source": [
    "confusion_matrix(valid['homologado'], valid_preds).ravel()"
   ]
  },
  {
   "cell_type": "code",
   "execution_count": 40,
   "metadata": {},
   "outputs": [
    {
     "data": {
      "image/png": "[encoded data removed]",
      "text/plain": [
       "<Figure size 432x288 with 1 Axes>"
      ]
     },
     "metadata": {},
     "output_type": "display_data"
    }
   ],
   "source": [
    "plot_fi()"
   ]
  },
  {
   "cell_type": "markdown",
   "metadata": {},
   "source": [
    "Com as novas features, retirando a urgente e a prioritário, não houve mais falsos negativos, mas ainda não conseguimos prever corretamente os não homologados.\n",
    "\n",
    "Vou retirar a coluna município, pois, ao meu ver, ela não nos parece adequada - e o modelo continua dando muita importância a ela."
   ]
  },
  {
   "cell_type": "code",
   "execution_count": 43,
   "metadata": {},
   "outputs": [
    {
     "name": "stdout",
     "output_type": "stream",
     "text": [
      "0.998886910062333 0.9806408544726302\n"
     ]
    }
   ],
   "source": [
    "removed_columns.append('municipio')\n",
    "removed_columns\n",
    "\n",
    "features = [c for c in df_work.columns if c not in removed_columns]\n",
    "\n",
    "model.fit(train[features], train['homologado'])\n",
    "\n",
    "train_preds = model.predict(train[features])\n",
    "valid_preds = model.predict(valid[features])\n",
    "\n",
    "print_score()"
   ]
  },
  {
   "cell_type": "code",
   "execution_count": 44,
   "metadata": {},
   "outputs": [
    {
     "data": {
      "text/plain": [
       "array([   0,   28,    1, 1469])"
      ]
     },
     "execution_count": 44,
     "metadata": {},
     "output_type": "execute_result"
    }
   ],
   "source": [
    "confusion_matrix(valid['homologado'], valid_preds).ravel()"
   ]
  },
  {
   "cell_type": "code",
   "execution_count": 45,
   "metadata": {},
   "outputs": [
    {
     "data": {
      "image/png": "[encoded data removed]",
      "text/plain": [
       "<Figure size 432x288 with 1 Axes>"
      ]
     },
     "metadata": {},
     "output_type": "display_data"
    }
   ],
   "source": [
    "plot_fi()"
   ]
  },
  {
   "cell_type": "markdown",
   "metadata": {},
   "source": [
    "Ao retirar a coluna município, o desempenho voltou ao inicial.\n",
    "\n",
    "Vamos criar um modelo ainda mais simples, apenas com as features cuja importância seja maior que 5%."
   ]
  },
  {
   "cell_type": "code",
   "execution_count": 53,
   "metadata": {},
   "outputs": [
    {
     "name": "stdout",
     "output_type": "stream",
     "text": [
      "0.9984416740872663 0.9813084112149533\n"
     ]
    }
   ],
   "source": [
    "model = RandomForestClassifier()\n",
    "\n",
    "important_features = ['membroResponsavel', 'diasTranscorridos', 'itemCnmp', 'quantidadeProvidencias', 'quantidadeConversoes']\n",
    "model.fit(train[important_features], train['homologado'])\n",
    "\n",
    "train_preds = model.predict(train[important_features])\n",
    "valid_preds = model.predict(valid[important_features])\n",
    "\n",
    "print_score()"
   ]
  },
  {
   "cell_type": "code",
   "execution_count": 54,
   "metadata": {},
   "outputs": [
    {
     "data": {
      "text/plain": [
       "array([   0,   28,    0, 1470])"
      ]
     },
     "execution_count": 54,
     "metadata": {},
     "output_type": "execute_result"
    }
   ],
   "source": [
    "confusion_matrix(valid['homologado'], valid_preds).ravel()"
   ]
  },
  {
   "cell_type": "code",
   "execution_count": 55,
   "metadata": {},
   "outputs": [
    {
     "data": {
      "image/png": "[encoded data removed]",
      "text/plain": [
       "<Figure size 432x288 with 1 Axes>"
      ]
     },
     "metadata": {},
     "output_type": "display_data"
    }
   ],
   "source": [
    "plot_fi()"
   ]
  },
  {
   "cell_type": "markdown",
   "metadata": {},
   "source": [
    "Somente com as features importantes acima, o desempenho voltou ao melhor obtido até agora (acurácia boa, mas muito ruim em lidar com os não homologados). \n",
    "\n",
    "Vamos fazer mais um teste, apenas com as top-3 features"
   ]
  },
  {
   "cell_type": "code",
   "execution_count": 56,
   "metadata": {},
   "outputs": [
    {
     "name": "stdout",
     "output_type": "stream",
     "text": [
      "0.988646482635797 0.9779706275033377\n"
     ]
    }
   ],
   "source": [
    "important_features = ['classe', 'areaAtuacao', 'itemCnmp']\n",
    "\n",
    "model = RandomForestClassifier()\n",
    "model.fit(train[important_features], train['homologado'])\n",
    "\n",
    "train_preds = model.predict(train[important_features])\n",
    "valid_preds = model.predict(valid[important_features])\n",
    "\n",
    "print_score()"
   ]
  },
  {
   "cell_type": "code",
   "execution_count": 57,
   "metadata": {},
   "outputs": [
    {
     "data": {
      "text/plain": [
       "array([   0,   28,    5, 1465])"
      ]
     },
     "execution_count": 57,
     "metadata": {},
     "output_type": "execute_result"
    }
   ],
   "source": [
    "confusion_matrix(valid['homologado'], valid_preds).ravel()"
   ]
  },
  {
   "cell_type": "markdown",
   "metadata": {},
   "source": [
    "Com o modelo mais simples, o desempenho foi o pior de todos até agora. Vamos passar a considerar o texto."
   ]
  },
  {
   "cell_type": "markdown",
   "metadata": {},
   "source": [
    "## Considerando as providências realizadas"
   ]
  },
  {
   "cell_type": "code",
   "execution_count": 60,
   "metadata": {},
   "outputs": [
    {
     "data": {
      "text/html": [
       "<div>\n",
       "<style scoped>\n",
       "    .dataframe tbody tr th:only-of-type {\n",
       "        vertical-align: middle;\n",
       "    }\n",
       "\n",
       "    .dataframe tbody tr th {\n",
       "        vertical-align: top;\n",
       "    }\n",
       "\n",
       "    .dataframe thead th {\n",
       "        text-align: right;\n",
       "    }\n",
       "</style>\n",
       "<table border=\"1\" class=\"dataframe\">\n",
       "  <thead>\n",
       "    <tr style=\"text-align: right;\">\n",
       "      <th></th>\n",
       "      <th>areaAtuacao</th>\n",
       "      <th>classe</th>\n",
       "      <th>homologado</th>\n",
       "      <th>itemCnmp</th>\n",
       "      <th>membroResponsavel</th>\n",
       "      <th>municipio</th>\n",
       "      <th>quantidadeConversoes</th>\n",
       "      <th>quantidadeProvidencias</th>\n",
       "      <th>textosProvidencias</th>\n",
       "      <th>diasTranscorridos</th>\n",
       "    </tr>\n",
       "  </thead>\n",
       "  <tbody>\n",
       "    <tr>\n",
       "      <th>4585</th>\n",
       "      <td>2</td>\n",
       "      <td>3</td>\n",
       "      <td>1</td>\n",
       "      <td>1521</td>\n",
       "      <td>53306.0</td>\n",
       "      <td>2918</td>\n",
       "      <td>2</td>\n",
       "      <td>7</td>\n",
       "      <td>Análise do arquivamento,Converta-se em Inquéri...</td>\n",
       "      <td>870</td>\n",
       "    </tr>\n",
       "    <tr>\n",
       "      <th>4882</th>\n",
       "      <td>2</td>\n",
       "      <td>3</td>\n",
       "      <td>1</td>\n",
       "      <td>2338</td>\n",
       "      <td>7998.0</td>\n",
       "      <td>3113</td>\n",
       "      <td>3</td>\n",
       "      <td>8</td>\n",
       "      <td>Converta-se em Inquérito Civil(IC).,Oficie-se....</td>\n",
       "      <td>404</td>\n",
       "    </tr>\n",
       "    <tr>\n",
       "      <th>586</th>\n",
       "      <td>5</td>\n",
       "      <td>2</td>\n",
       "      <td>1</td>\n",
       "      <td>1654</td>\n",
       "      <td>64229.0</td>\n",
       "      <td>3042</td>\n",
       "      <td>2</td>\n",
       "      <td>5</td>\n",
       "      <td>Oficie-se.,Prorroga-se o prazo de finalização ...</td>\n",
       "      <td>204</td>\n",
       "    </tr>\n",
       "    <tr>\n",
       "      <th>1136</th>\n",
       "      <td>2</td>\n",
       "      <td>2</td>\n",
       "      <td>1</td>\n",
       "      <td>2007098</td>\n",
       "      <td>87522.0</td>\n",
       "      <td>1727</td>\n",
       "      <td>1</td>\n",
       "      <td>1</td>\n",
       "      <td>Converta-se em Procedimento Preparatório(PP).</td>\n",
       "      <td>126</td>\n",
       "    </tr>\n",
       "    <tr>\n",
       "      <th>1019</th>\n",
       "      <td>2</td>\n",
       "      <td>3</td>\n",
       "      <td>1</td>\n",
       "      <td>1514</td>\n",
       "      <td>53245.0</td>\n",
       "      <td>5039</td>\n",
       "      <td>5</td>\n",
       "      <td>12</td>\n",
       "      <td>Despacho Simplificado,Converta-se em Inquérito...</td>\n",
       "      <td>1306</td>\n",
       "    </tr>\n",
       "    <tr>\n",
       "      <th>2428</th>\n",
       "      <td>2</td>\n",
       "      <td>2</td>\n",
       "      <td>1</td>\n",
       "      <td>3150</td>\n",
       "      <td>53256.0</td>\n",
       "      <td>3008</td>\n",
       "      <td>1</td>\n",
       "      <td>1</td>\n",
       "      <td>Converta-se em Procedimento Preparatório(PP).</td>\n",
       "      <td>85</td>\n",
       "    </tr>\n",
       "    <tr>\n",
       "      <th>5747</th>\n",
       "      <td>2</td>\n",
       "      <td>2</td>\n",
       "      <td>1</td>\n",
       "      <td>2338</td>\n",
       "      <td>53282.0</td>\n",
       "      <td>4822</td>\n",
       "      <td>2</td>\n",
       "      <td>4</td>\n",
       "      <td>Despacho Simplificado,Prorroga-se o prazo de f...</td>\n",
       "      <td>268</td>\n",
       "    </tr>\n",
       "    <tr>\n",
       "      <th>4208</th>\n",
       "      <td>2</td>\n",
       "      <td>2</td>\n",
       "      <td>1</td>\n",
       "      <td>1523</td>\n",
       "      <td>87444.0</td>\n",
       "      <td>3989</td>\n",
       "      <td>1</td>\n",
       "      <td>1</td>\n",
       "      <td>Converta-se em Procedimento Preparatório(PP).</td>\n",
       "      <td>151</td>\n",
       "    </tr>\n",
       "    <tr>\n",
       "      <th>5254</th>\n",
       "      <td>5</td>\n",
       "      <td>2</td>\n",
       "      <td>1</td>\n",
       "      <td>3150</td>\n",
       "      <td>64249.0</td>\n",
       "      <td>1466</td>\n",
       "      <td>1</td>\n",
       "      <td>2</td>\n",
       "      <td>Oficie-se.,Converta-se em Procedimento Prepara...</td>\n",
       "      <td>111</td>\n",
       "    </tr>\n",
       "    <tr>\n",
       "      <th>801</th>\n",
       "      <td>2</td>\n",
       "      <td>3</td>\n",
       "      <td>1</td>\n",
       "      <td>1911</td>\n",
       "      <td>20122.0</td>\n",
       "      <td>1619</td>\n",
       "      <td>2</td>\n",
       "      <td>3</td>\n",
       "      <td>Converta-se em Inquérito Civil(IC).,Converta-s...</td>\n",
       "      <td>793</td>\n",
       "    </tr>\n",
       "  </tbody>\n",
       "</table>\n",
       "</div>"
      ],
      "text/plain": [
       "      areaAtuacao  classe  homologado  itemCnmp  membroResponsavel  municipio  \\\n",
       "4585            2       3           1      1521            53306.0       2918   \n",
       "4882            2       3           1      2338             7998.0       3113   \n",
       "586             5       2           1      1654            64229.0       3042   \n",
       "1136            2       2           1   2007098            87522.0       1727   \n",
       "1019            2       3           1      1514            53245.0       5039   \n",
       "2428            2       2           1      3150            53256.0       3008   \n",
       "5747            2       2           1      2338            53282.0       4822   \n",
       "4208            2       2           1      1523            87444.0       3989   \n",
       "5254            5       2           1      3150            64249.0       1466   \n",
       "801             2       3           1      1911            20122.0       1619   \n",
       "\n",
       "      quantidadeConversoes  quantidadeProvidencias  \\\n",
       "4585                     2                       7   \n",
       "4882                     3                       8   \n",
       "586                      2                       5   \n",
       "1136                     1                       1   \n",
       "1019                     5                      12   \n",
       "2428                     1                       1   \n",
       "5747                     2                       4   \n",
       "4208                     1                       1   \n",
       "5254                     1                       2   \n",
       "801                      2                       3   \n",
       "\n",
       "                                     textosProvidencias  diasTranscorridos  \n",
       "4585  Análise do arquivamento,Converta-se em Inquéri...                870  \n",
       "4882  Converta-se em Inquérito Civil(IC).,Oficie-se....                404  \n",
       "586   Oficie-se.,Prorroga-se o prazo de finalização ...                204  \n",
       "1136      Converta-se em Procedimento Preparatório(PP).                126  \n",
       "1019  Despacho Simplificado,Converta-se em Inquérito...               1306  \n",
       "2428      Converta-se em Procedimento Preparatório(PP).                 85  \n",
       "5747  Despacho Simplificado,Prorroga-se o prazo de f...                268  \n",
       "4208      Converta-se em Procedimento Preparatório(PP).                151  \n",
       "5254  Oficie-se.,Converta-se em Procedimento Prepara...                111  \n",
       "801   Converta-se em Inquérito Civil(IC).,Converta-s...                793  "
      ]
     },
     "execution_count": 60,
     "metadata": {},
     "output_type": "execute_result"
    }
   ],
   "source": [
    "df_work = df_original.copy()\n",
    "\n",
    "df_work.dropna(subset=['identificadorPecaPromocao'], inplace=True)\n",
    "df_work.reset_index(drop=True, inplace=True)\n",
    "\n",
    "df_work['dataAutuacao'] = pd.to_datetime(df_work['dataAutuacao'],infer_datetime_format=True)\n",
    "df_work['dataEntrada'] = pd.to_datetime(df_work['dataEntrada'],infer_datetime_format=True)\n",
    "\n",
    "df_work['diasTranscorridos'] = 0\n",
    "for index in range(len(df_work)):\n",
    "    df_work.loc[index, 'diasTranscorridos'] =  (df_work.loc[index, 'dataEntrada'] - df_work.loc[index, 'dataAutuacao']).days\n",
    "\n",
    "removed_columns = ['id', 'procedimento', 'identificadorPecaPromocao', 'prioritario', 'urgente', 'dataAutuacao', 'dataEntrada']\n",
    "df_work = df_work.drop(columns=removed_columns)\n",
    "df_work.fillna(-1, inplace=True)\n",
    "\n",
    "    \n",
    "df_work.sample(10)"
   ]
  },
  {
   "cell_type": "code",
   "execution_count": 61,
   "metadata": {},
   "outputs": [],
   "source": [
    "removed_columns = ['homologado']\n",
    "features = [c for c in df_work.columns if c not in removed_columns]"
   ]
  }
 ],
 "metadata": {
  "kernelspec": {
   "display_name": "Python 3",
   "language": "python",
   "name": "python3"
  },
  "language_info": {
   "codemirror_mode": {
    "name": "ipython",
    "version": 3
   },
   "file_extension": ".py",
   "mimetype": "text/x-python",
   "name": "python",
   "nbconvert_exporter": "python",
   "pygments_lexer": "ipython3",
   "version": "3.6.5"
  }
 },
 "nbformat": 4,
 "nbformat_minor": 2
}
