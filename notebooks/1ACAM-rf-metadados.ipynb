{
 "cells": [
  {
   "cell_type": "markdown",
   "metadata": {},
   "source": [
    "# Introdução\n",
    "\n",
    "Esse caderno tem por objetivo a criação de um modelo básico de treinamento, utilizando o classificador [RandomForest](http://scikit-learn.org/stable/modules/generated/sklearn.ensemble.RandomForestClassifier.html), que faça a predição de homologação de arquivamentos de procedimentos enviados à 1A.CAM do MPF.\n",
    "\n",
    "Esse modelo usará apenas os metadados dos procedimentos, sem fazer nenhum processamento textual.\n",
    "\n",
    "O objetivo desse modelo é servir como um *baseline* de comparações para implementações futuras.\n",
    "\n",
    "\n",
    "**Nota**: os dados desse modelo foram recuperados de procedimentos que tiveram suas deliberações realizadas após o dia 02/07/2018, data em que a nova composição tomou posse na 1A.CAM."
   ]
  },
  {
   "cell_type": "markdown",
   "metadata": {},
   "source": [
    "# Carga de dados e pré-processamento\n",
    "\n",
    "Vamos fazer a carga dos dados e fazer um pré-processamento tradicional (remoção de atributos que não interessam, criação de variáveis categóricas etc.)"
   ]
  },
  {
   "cell_type": "code",
   "execution_count": 1,
   "metadata": {},
   "outputs": [],
   "source": [
    "%load_ext autoreload\n",
    "%autoreload 2\n",
    "\n",
    "%matplotlib inline"
   ]
  },
  {
   "cell_type": "code",
   "execution_count": 2,
   "metadata": {},
   "outputs": [],
   "source": [
    "from sklearn.ensemble import RandomForestClassifier\n",
    "import numpy as np\n",
    "import pandas as pd\n",
    "\n",
    "from sklearn import metrics"
   ]
  },
  {
   "cell_type": "code",
   "execution_count": 3,
   "metadata": {},
   "outputs": [],
   "source": [
    "PATH = \"../data/\"\n",
    "df_original = pd.read_json(f'{PATH}/1A.CAM.homologacao-arquivamento.json')"
   ]
  },
  {
   "cell_type": "code",
   "execution_count": 4,
   "metadata": {},
   "outputs": [
    {
     "data": {
      "text/plain": [
       "6213"
      ]
     },
     "execution_count": 4,
     "metadata": {},
     "output_type": "execute_result"
    }
   ],
   "source": [
    "len(df_original)"
   ]
  },
  {
   "cell_type": "code",
   "execution_count": 5,
   "metadata": {},
   "outputs": [
    {
     "data": {
      "text/plain": [
       "Index(['areaAtuacao', 'classe', 'dataAutuacao', 'dataEntrada', 'homologado',\n",
       "       'id', 'identificadorPecaPromocao', 'itemCnmp', 'membroResponsavel',\n",
       "       'municipio', 'prioritario', 'procedimento', 'quantidadeConversoes',\n",
       "       'quantidadeProvidencias', 'textosProvidencias', 'urgente'],\n",
       "      dtype='object')"
      ]
     },
     "execution_count": 5,
     "metadata": {},
     "output_type": "execute_result"
    }
   ],
   "source": [
    "df_original.columns"
   ]
  },
  {
   "cell_type": "code",
   "execution_count": 6,
   "metadata": {},
   "outputs": [
    {
     "data": {
      "text/html": [
       "<div>\n",
       "<style scoped>\n",
       "    .dataframe tbody tr th:only-of-type {\n",
       "        vertical-align: middle;\n",
       "    }\n",
       "\n",
       "    .dataframe tbody tr th {\n",
       "        vertical-align: top;\n",
       "    }\n",
       "\n",
       "    .dataframe thead th {\n",
       "        text-align: right;\n",
       "    }\n",
       "</style>\n",
       "<table border=\"1\" class=\"dataframe\">\n",
       "  <thead>\n",
       "    <tr style=\"text-align: right;\">\n",
       "      <th></th>\n",
       "      <th>areaAtuacao</th>\n",
       "      <th>classe</th>\n",
       "      <th>homologado</th>\n",
       "      <th>id</th>\n",
       "      <th>identificadorPecaPromocao</th>\n",
       "      <th>itemCnmp</th>\n",
       "      <th>membroResponsavel</th>\n",
       "      <th>municipio</th>\n",
       "      <th>prioritario</th>\n",
       "      <th>quantidadeConversoes</th>\n",
       "      <th>quantidadeProvidencias</th>\n",
       "      <th>urgente</th>\n",
       "    </tr>\n",
       "  </thead>\n",
       "  <tbody>\n",
       "    <tr>\n",
       "      <th>count</th>\n",
       "      <td>6.213000e+03</td>\n",
       "      <td>6213.000000</td>\n",
       "      <td>6213.000000</td>\n",
       "      <td>6.213000e+03</td>\n",
       "      <td>5.990000e+03</td>\n",
       "      <td>6.213000e+03</td>\n",
       "      <td>5990.000000</td>\n",
       "      <td>6213.000000</td>\n",
       "      <td>6213.000000</td>\n",
       "      <td>6213.000000</td>\n",
       "      <td>6213.000000</td>\n",
       "      <td>6213.000000</td>\n",
       "    </tr>\n",
       "    <tr>\n",
       "      <th>mean</th>\n",
       "      <td>3.241772e+02</td>\n",
       "      <td>2.528730</td>\n",
       "      <td>0.984870</td>\n",
       "      <td>6.732199e+07</td>\n",
       "      <td>7.758961e+07</td>\n",
       "      <td>2.375876e+04</td>\n",
       "      <td>38414.392654</td>\n",
       "      <td>2892.452117</td>\n",
       "      <td>0.006921</td>\n",
       "      <td>2.032191</td>\n",
       "      <td>7.223724</td>\n",
       "      <td>0.006921</td>\n",
       "    </tr>\n",
       "    <tr>\n",
       "      <th>std</th>\n",
       "      <td>2.537449e+04</td>\n",
       "      <td>0.924041</td>\n",
       "      <td>0.122078</td>\n",
       "      <td>1.321553e+07</td>\n",
       "      <td>6.529438e+06</td>\n",
       "      <td>2.086008e+05</td>\n",
       "      <td>34287.237070</td>\n",
       "      <td>1672.507693</td>\n",
       "      <td>0.082911</td>\n",
       "      <td>1.397010</td>\n",
       "      <td>8.707997</td>\n",
       "      <td>0.082911</td>\n",
       "    </tr>\n",
       "    <tr>\n",
       "      <th>min</th>\n",
       "      <td>1.000000e+00</td>\n",
       "      <td>1.000000</td>\n",
       "      <td>0.000000</td>\n",
       "      <td>2.842880e+06</td>\n",
       "      <td>2.648738e+07</td>\n",
       "      <td>2.000000e+00</td>\n",
       "      <td>752.000000</td>\n",
       "      <td>1.000000</td>\n",
       "      <td>0.000000</td>\n",
       "      <td>0.000000</td>\n",
       "      <td>0.000000</td>\n",
       "      <td>0.000000</td>\n",
       "    </tr>\n",
       "    <tr>\n",
       "      <th>25%</th>\n",
       "      <td>2.000000e+00</td>\n",
       "      <td>2.000000</td>\n",
       "      <td>1.000000</td>\n",
       "      <td>6.406698e+07</td>\n",
       "      <td>7.297336e+07</td>\n",
       "      <td>1.521000e+03</td>\n",
       "      <td>13606.000000</td>\n",
       "      <td>1387.000000</td>\n",
       "      <td>0.000000</td>\n",
       "      <td>1.000000</td>\n",
       "      <td>2.000000</td>\n",
       "      <td>0.000000</td>\n",
       "    </tr>\n",
       "    <tr>\n",
       "      <th>50%</th>\n",
       "      <td>2.000000e+00</td>\n",
       "      <td>3.000000</td>\n",
       "      <td>1.000000</td>\n",
       "      <td>7.001298e+07</td>\n",
       "      <td>7.711780e+07</td>\n",
       "      <td>1.581000e+03</td>\n",
       "      <td>25063.000000</td>\n",
       "      <td>3078.000000</td>\n",
       "      <td>0.000000</td>\n",
       "      <td>2.000000</td>\n",
       "      <td>5.000000</td>\n",
       "      <td>0.000000</td>\n",
       "    </tr>\n",
       "    <tr>\n",
       "      <th>75%</th>\n",
       "      <td>2.000000e+00</td>\n",
       "      <td>3.000000</td>\n",
       "      <td>1.000000</td>\n",
       "      <td>7.543734e+07</td>\n",
       "      <td>8.379348e+07</td>\n",
       "      <td>1.892000e+03</td>\n",
       "      <td>53327.000000</td>\n",
       "      <td>4321.000000</td>\n",
       "      <td>0.000000</td>\n",
       "      <td>3.000000</td>\n",
       "      <td>9.000000</td>\n",
       "      <td>0.000000</td>\n",
       "    </tr>\n",
       "    <tr>\n",
       "      <th>max</th>\n",
       "      <td>2.000085e+06</td>\n",
       "      <td>61.000000</td>\n",
       "      <td>1.000000</td>\n",
       "      <td>8.756619e+07</td>\n",
       "      <td>8.810570e+07</td>\n",
       "      <td>2.007548e+06</td>\n",
       "      <td>127563.000000</td>\n",
       "      <td>5768.000000</td>\n",
       "      <td>1.000000</td>\n",
       "      <td>13.000000</td>\n",
       "      <td>161.000000</td>\n",
       "      <td>1.000000</td>\n",
       "    </tr>\n",
       "  </tbody>\n",
       "</table>\n",
       "</div>"
      ],
      "text/plain": [
       "        areaAtuacao       classe   homologado            id  \\\n",
       "count  6.213000e+03  6213.000000  6213.000000  6.213000e+03   \n",
       "mean   3.241772e+02     2.528730     0.984870  6.732199e+07   \n",
       "std    2.537449e+04     0.924041     0.122078  1.321553e+07   \n",
       "min    1.000000e+00     1.000000     0.000000  2.842880e+06   \n",
       "25%    2.000000e+00     2.000000     1.000000  6.406698e+07   \n",
       "50%    2.000000e+00     3.000000     1.000000  7.001298e+07   \n",
       "75%    2.000000e+00     3.000000     1.000000  7.543734e+07   \n",
       "max    2.000085e+06    61.000000     1.000000  8.756619e+07   \n",
       "\n",
       "       identificadorPecaPromocao      itemCnmp  membroResponsavel  \\\n",
       "count               5.990000e+03  6.213000e+03        5990.000000   \n",
       "mean                7.758961e+07  2.375876e+04       38414.392654   \n",
       "std                 6.529438e+06  2.086008e+05       34287.237070   \n",
       "min                 2.648738e+07  2.000000e+00         752.000000   \n",
       "25%                 7.297336e+07  1.521000e+03       13606.000000   \n",
       "50%                 7.711780e+07  1.581000e+03       25063.000000   \n",
       "75%                 8.379348e+07  1.892000e+03       53327.000000   \n",
       "max                 8.810570e+07  2.007548e+06      127563.000000   \n",
       "\n",
       "         municipio  prioritario  quantidadeConversoes  quantidadeProvidencias  \\\n",
       "count  6213.000000  6213.000000           6213.000000             6213.000000   \n",
       "mean   2892.452117     0.006921              2.032191                7.223724   \n",
       "std    1672.507693     0.082911              1.397010                8.707997   \n",
       "min       1.000000     0.000000              0.000000                0.000000   \n",
       "25%    1387.000000     0.000000              1.000000                2.000000   \n",
       "50%    3078.000000     0.000000              2.000000                5.000000   \n",
       "75%    4321.000000     0.000000              3.000000                9.000000   \n",
       "max    5768.000000     1.000000             13.000000              161.000000   \n",
       "\n",
       "           urgente  \n",
       "count  6213.000000  \n",
       "mean      0.006921  \n",
       "std       0.082911  \n",
       "min       0.000000  \n",
       "25%       0.000000  \n",
       "50%       0.000000  \n",
       "75%       0.000000  \n",
       "max       1.000000  "
      ]
     },
     "execution_count": 6,
     "metadata": {},
     "output_type": "execute_result"
    }
   ],
   "source": [
    "df_original.describe()"
   ]
  },
  {
   "cell_type": "code",
   "execution_count": 7,
   "metadata": {},
   "outputs": [
    {
     "data": {
      "text/plain": [
       "223"
      ]
     },
     "execution_count": 7,
     "metadata": {},
     "output_type": "execute_result"
    }
   ],
   "source": [
    "len(df_original[df_original.identificadorPecaPromocao.isnull()])"
   ]
  },
  {
   "cell_type": "code",
   "execution_count": 8,
   "metadata": {},
   "outputs": [],
   "source": [
    "df_work = df_original.copy()"
   ]
  },
  {
   "cell_type": "code",
   "execution_count": 9,
   "metadata": {},
   "outputs": [],
   "source": [
    "# elementos com peça de promoção de arquivamento nulos não nos interessam\n",
    "df_work.dropna(subset=['identificadorPecaPromocao'], inplace=True)\n",
    "df_work.reset_index(drop=True, inplace=True)"
   ]
  },
  {
   "cell_type": "code",
   "execution_count": 10,
   "metadata": {},
   "outputs": [
    {
     "data": {
      "text/plain": [
       "0"
      ]
     },
     "execution_count": 10,
     "metadata": {},
     "output_type": "execute_result"
    }
   ],
   "source": [
    "len(df_work[df_work.identificadorPecaPromocao.isnull()])"
   ]
  },
  {
   "cell_type": "code",
   "execution_count": 11,
   "metadata": {},
   "outputs": [
    {
     "data": {
      "text/html": [
       "<div>\n",
       "<style scoped>\n",
       "    .dataframe tbody tr th:only-of-type {\n",
       "        vertical-align: middle;\n",
       "    }\n",
       "\n",
       "    .dataframe tbody tr th {\n",
       "        vertical-align: top;\n",
       "    }\n",
       "\n",
       "    .dataframe thead th {\n",
       "        text-align: right;\n",
       "    }\n",
       "</style>\n",
       "<table border=\"1\" class=\"dataframe\">\n",
       "  <thead>\n",
       "    <tr style=\"text-align: right;\">\n",
       "      <th></th>\n",
       "      <th>areaAtuacao</th>\n",
       "      <th>classe</th>\n",
       "      <th>dataAutuacao</th>\n",
       "      <th>dataEntrada</th>\n",
       "      <th>homologado</th>\n",
       "      <th>itemCnmp</th>\n",
       "      <th>membroResponsavel</th>\n",
       "      <th>municipio</th>\n",
       "      <th>prioritario</th>\n",
       "      <th>quantidadeConversoes</th>\n",
       "      <th>quantidadeProvidencias</th>\n",
       "      <th>urgente</th>\n",
       "    </tr>\n",
       "  </thead>\n",
       "  <tbody>\n",
       "    <tr>\n",
       "      <th>5535</th>\n",
       "      <td>2</td>\n",
       "      <td>2</td>\n",
       "      <td>11-11-2014</td>\n",
       "      <td>24-02-2016</td>\n",
       "      <td>1</td>\n",
       "      <td>1521</td>\n",
       "      <td>3768.0</td>\n",
       "      <td>1214</td>\n",
       "      <td>0</td>\n",
       "      <td>2</td>\n",
       "      <td>3</td>\n",
       "      <td>0</td>\n",
       "    </tr>\n",
       "    <tr>\n",
       "      <th>2530</th>\n",
       "      <td>2</td>\n",
       "      <td>3</td>\n",
       "      <td>16-06-2014</td>\n",
       "      <td>26-07-2017</td>\n",
       "      <td>1</td>\n",
       "      <td>1556</td>\n",
       "      <td>28534.0</td>\n",
       "      <td>3700</td>\n",
       "      <td>0</td>\n",
       "      <td>3</td>\n",
       "      <td>15</td>\n",
       "      <td>0</td>\n",
       "    </tr>\n",
       "    <tr>\n",
       "      <th>3573</th>\n",
       "      <td>3</td>\n",
       "      <td>3</td>\n",
       "      <td>21-12-2011</td>\n",
       "      <td>22-03-2017</td>\n",
       "      <td>1</td>\n",
       "      <td>1503</td>\n",
       "      <td>64270.0</td>\n",
       "      <td>105</td>\n",
       "      <td>0</td>\n",
       "      <td>4</td>\n",
       "      <td>15</td>\n",
       "      <td>0</td>\n",
       "    </tr>\n",
       "    <tr>\n",
       "      <th>2037</th>\n",
       "      <td>2</td>\n",
       "      <td>3</td>\n",
       "      <td>23-08-2016</td>\n",
       "      <td>20-11-2017</td>\n",
       "      <td>1</td>\n",
       "      <td>1869</td>\n",
       "      <td>8046.0</td>\n",
       "      <td>3113</td>\n",
       "      <td>0</td>\n",
       "      <td>2</td>\n",
       "      <td>8</td>\n",
       "      <td>0</td>\n",
       "    </tr>\n",
       "    <tr>\n",
       "      <th>3102</th>\n",
       "      <td>2</td>\n",
       "      <td>3</td>\n",
       "      <td>02-09-2016</td>\n",
       "      <td>10-05-2017</td>\n",
       "      <td>1</td>\n",
       "      <td>3071</td>\n",
       "      <td>5990.0</td>\n",
       "      <td>3913</td>\n",
       "      <td>0</td>\n",
       "      <td>3</td>\n",
       "      <td>8</td>\n",
       "      <td>0</td>\n",
       "    </tr>\n",
       "    <tr>\n",
       "      <th>4989</th>\n",
       "      <td>2</td>\n",
       "      <td>2</td>\n",
       "      <td>09-03-2016</td>\n",
       "      <td>08-06-2016</td>\n",
       "      <td>1</td>\n",
       "      <td>1537</td>\n",
       "      <td>26482.0</td>\n",
       "      <td>3433</td>\n",
       "      <td>0</td>\n",
       "      <td>0</td>\n",
       "      <td>2</td>\n",
       "      <td>0</td>\n",
       "    </tr>\n",
       "    <tr>\n",
       "      <th>5464</th>\n",
       "      <td>2</td>\n",
       "      <td>2</td>\n",
       "      <td>10-12-2015</td>\n",
       "      <td>22-03-2016</td>\n",
       "      <td>1</td>\n",
       "      <td>3047</td>\n",
       "      <td>10297.0</td>\n",
       "      <td>810</td>\n",
       "      <td>0</td>\n",
       "      <td>0</td>\n",
       "      <td>2</td>\n",
       "      <td>0</td>\n",
       "    </tr>\n",
       "    <tr>\n",
       "      <th>2051</th>\n",
       "      <td>2</td>\n",
       "      <td>2</td>\n",
       "      <td>01-08-2017</td>\n",
       "      <td>31-10-2017</td>\n",
       "      <td>1</td>\n",
       "      <td>367</td>\n",
       "      <td>16170.0</td>\n",
       "      <td>689</td>\n",
       "      <td>0</td>\n",
       "      <td>1</td>\n",
       "      <td>2</td>\n",
       "      <td>0</td>\n",
       "    </tr>\n",
       "    <tr>\n",
       "      <th>1847</th>\n",
       "      <td>2</td>\n",
       "      <td>2</td>\n",
       "      <td>15-09-2017</td>\n",
       "      <td>07-02-2018</td>\n",
       "      <td>1</td>\n",
       "      <td>1766</td>\n",
       "      <td>15902.0</td>\n",
       "      <td>689</td>\n",
       "      <td>0</td>\n",
       "      <td>1</td>\n",
       "      <td>6</td>\n",
       "      <td>0</td>\n",
       "    </tr>\n",
       "    <tr>\n",
       "      <th>4420</th>\n",
       "      <td>2</td>\n",
       "      <td>3</td>\n",
       "      <td>13-10-2015</td>\n",
       "      <td>04-11-2016</td>\n",
       "      <td>1</td>\n",
       "      <td>1506</td>\n",
       "      <td>23992.0</td>\n",
       "      <td>5459</td>\n",
       "      <td>0</td>\n",
       "      <td>3</td>\n",
       "      <td>11</td>\n",
       "      <td>0</td>\n",
       "    </tr>\n",
       "  </tbody>\n",
       "</table>\n",
       "</div>"
      ],
      "text/plain": [
       "      areaAtuacao  classe dataAutuacao dataEntrada  homologado  itemCnmp  \\\n",
       "5535            2       2   11-11-2014  24-02-2016           1      1521   \n",
       "2530            2       3   16-06-2014  26-07-2017           1      1556   \n",
       "3573            3       3   21-12-2011  22-03-2017           1      1503   \n",
       "2037            2       3   23-08-2016  20-11-2017           1      1869   \n",
       "3102            2       3   02-09-2016  10-05-2017           1      3071   \n",
       "4989            2       2   09-03-2016  08-06-2016           1      1537   \n",
       "5464            2       2   10-12-2015  22-03-2016           1      3047   \n",
       "2051            2       2   01-08-2017  31-10-2017           1       367   \n",
       "1847            2       2   15-09-2017  07-02-2018           1      1766   \n",
       "4420            2       3   13-10-2015  04-11-2016           1      1506   \n",
       "\n",
       "      membroResponsavel  municipio  prioritario  quantidadeConversoes  \\\n",
       "5535             3768.0       1214            0                     2   \n",
       "2530            28534.0       3700            0                     3   \n",
       "3573            64270.0        105            0                     4   \n",
       "2037             8046.0       3113            0                     2   \n",
       "3102             5990.0       3913            0                     3   \n",
       "4989            26482.0       3433            0                     0   \n",
       "5464            10297.0        810            0                     0   \n",
       "2051            16170.0        689            0                     1   \n",
       "1847            15902.0        689            0                     1   \n",
       "4420            23992.0       5459            0                     3   \n",
       "\n",
       "      quantidadeProvidencias  urgente  \n",
       "5535                       3        0  \n",
       "2530                      15        0  \n",
       "3573                      15        0  \n",
       "2037                       8        0  \n",
       "3102                       8        0  \n",
       "4989                       2        0  \n",
       "5464                       2        0  \n",
       "2051                       2        0  \n",
       "1847                       6        0  \n",
       "4420                      11        0  "
      ]
     },
     "execution_count": 11,
     "metadata": {},
     "output_type": "execute_result"
    }
   ],
   "source": [
    "# nessa primeira passada, essas colunas não nos interessam\n",
    "removed_columns = ['id', 'procedimento', 'textosProvidencias', 'identificadorPecaPromocao']\n",
    "df_work = df_work.drop(columns=removed_columns)\n",
    "df_work.sample(10)"
   ]
  },
  {
   "cell_type": "code",
   "execution_count": 12,
   "metadata": {},
   "outputs": [
    {
     "data": {
      "text/html": [
       "<div>\n",
       "<style scoped>\n",
       "    .dataframe tbody tr th:only-of-type {\n",
       "        vertical-align: middle;\n",
       "    }\n",
       "\n",
       "    .dataframe tbody tr th {\n",
       "        vertical-align: top;\n",
       "    }\n",
       "\n",
       "    .dataframe thead th {\n",
       "        text-align: right;\n",
       "    }\n",
       "</style>\n",
       "<table border=\"1\" class=\"dataframe\">\n",
       "  <thead>\n",
       "    <tr style=\"text-align: right;\">\n",
       "      <th></th>\n",
       "      <th>areaAtuacao</th>\n",
       "      <th>classe</th>\n",
       "      <th>homologado</th>\n",
       "      <th>itemCnmp</th>\n",
       "      <th>membroResponsavel</th>\n",
       "      <th>municipio</th>\n",
       "      <th>prioritario</th>\n",
       "      <th>quantidadeConversoes</th>\n",
       "      <th>quantidadeProvidencias</th>\n",
       "      <th>urgente</th>\n",
       "    </tr>\n",
       "  </thead>\n",
       "  <tbody>\n",
       "    <tr>\n",
       "      <th>count</th>\n",
       "      <td>5.990000e+03</td>\n",
       "      <td>5990.000000</td>\n",
       "      <td>5990.000000</td>\n",
       "      <td>5.990000e+03</td>\n",
       "      <td>5990.000000</td>\n",
       "      <td>5990.000000</td>\n",
       "      <td>5990.000000</td>\n",
       "      <td>5990.000000</td>\n",
       "      <td>5990.000000</td>\n",
       "      <td>5990.000000</td>\n",
       "    </tr>\n",
       "    <tr>\n",
       "      <th>mean</th>\n",
       "      <td>3.361636e+02</td>\n",
       "      <td>2.535058</td>\n",
       "      <td>0.985309</td>\n",
       "      <td>2.357373e+04</td>\n",
       "      <td>38414.392654</td>\n",
       "      <td>2898.332554</td>\n",
       "      <td>0.007012</td>\n",
       "      <td>2.045409</td>\n",
       "      <td>7.221870</td>\n",
       "      <td>0.007012</td>\n",
       "    </tr>\n",
       "    <tr>\n",
       "      <th>std</th>\n",
       "      <td>2.584250e+04</td>\n",
       "      <td>0.932175</td>\n",
       "      <td>0.120323</td>\n",
       "      <td>2.077185e+05</td>\n",
       "      <td>34287.237070</td>\n",
       "      <td>1669.009741</td>\n",
       "      <td>0.083449</td>\n",
       "      <td>1.394695</td>\n",
       "      <td>8.570688</td>\n",
       "      <td>0.083449</td>\n",
       "    </tr>\n",
       "    <tr>\n",
       "      <th>min</th>\n",
       "      <td>1.000000e+00</td>\n",
       "      <td>1.000000</td>\n",
       "      <td>0.000000</td>\n",
       "      <td>2.000000e+00</td>\n",
       "      <td>752.000000</td>\n",
       "      <td>1.000000</td>\n",
       "      <td>0.000000</td>\n",
       "      <td>0.000000</td>\n",
       "      <td>0.000000</td>\n",
       "      <td>0.000000</td>\n",
       "    </tr>\n",
       "    <tr>\n",
       "      <th>25%</th>\n",
       "      <td>2.000000e+00</td>\n",
       "      <td>2.000000</td>\n",
       "      <td>1.000000</td>\n",
       "      <td>1.521000e+03</td>\n",
       "      <td>13606.000000</td>\n",
       "      <td>1428.250000</td>\n",
       "      <td>0.000000</td>\n",
       "      <td>1.000000</td>\n",
       "      <td>3.000000</td>\n",
       "      <td>0.000000</td>\n",
       "    </tr>\n",
       "    <tr>\n",
       "      <th>50%</th>\n",
       "      <td>2.000000e+00</td>\n",
       "      <td>3.000000</td>\n",
       "      <td>1.000000</td>\n",
       "      <td>1.581000e+03</td>\n",
       "      <td>25063.000000</td>\n",
       "      <td>3083.000000</td>\n",
       "      <td>0.000000</td>\n",
       "      <td>2.000000</td>\n",
       "      <td>5.000000</td>\n",
       "      <td>0.000000</td>\n",
       "    </tr>\n",
       "    <tr>\n",
       "      <th>75%</th>\n",
       "      <td>2.000000e+00</td>\n",
       "      <td>3.000000</td>\n",
       "      <td>1.000000</td>\n",
       "      <td>1.892000e+03</td>\n",
       "      <td>53327.000000</td>\n",
       "      <td>4335.000000</td>\n",
       "      <td>0.000000</td>\n",
       "      <td>3.000000</td>\n",
       "      <td>9.000000</td>\n",
       "      <td>0.000000</td>\n",
       "    </tr>\n",
       "    <tr>\n",
       "      <th>max</th>\n",
       "      <td>2.000085e+06</td>\n",
       "      <td>61.000000</td>\n",
       "      <td>1.000000</td>\n",
       "      <td>2.007548e+06</td>\n",
       "      <td>127563.000000</td>\n",
       "      <td>5768.000000</td>\n",
       "      <td>1.000000</td>\n",
       "      <td>13.000000</td>\n",
       "      <td>161.000000</td>\n",
       "      <td>1.000000</td>\n",
       "    </tr>\n",
       "  </tbody>\n",
       "</table>\n",
       "</div>"
      ],
      "text/plain": [
       "        areaAtuacao       classe   homologado      itemCnmp  \\\n",
       "count  5.990000e+03  5990.000000  5990.000000  5.990000e+03   \n",
       "mean   3.361636e+02     2.535058     0.985309  2.357373e+04   \n",
       "std    2.584250e+04     0.932175     0.120323  2.077185e+05   \n",
       "min    1.000000e+00     1.000000     0.000000  2.000000e+00   \n",
       "25%    2.000000e+00     2.000000     1.000000  1.521000e+03   \n",
       "50%    2.000000e+00     3.000000     1.000000  1.581000e+03   \n",
       "75%    2.000000e+00     3.000000     1.000000  1.892000e+03   \n",
       "max    2.000085e+06    61.000000     1.000000  2.007548e+06   \n",
       "\n",
       "       membroResponsavel    municipio  prioritario  quantidadeConversoes  \\\n",
       "count        5990.000000  5990.000000  5990.000000           5990.000000   \n",
       "mean        38414.392654  2898.332554     0.007012              2.045409   \n",
       "std         34287.237070  1669.009741     0.083449              1.394695   \n",
       "min           752.000000     1.000000     0.000000              0.000000   \n",
       "25%         13606.000000  1428.250000     0.000000              1.000000   \n",
       "50%         25063.000000  3083.000000     0.000000              2.000000   \n",
       "75%         53327.000000  4335.000000     0.000000              3.000000   \n",
       "max        127563.000000  5768.000000     1.000000             13.000000   \n",
       "\n",
       "       quantidadeProvidencias      urgente  \n",
       "count             5990.000000  5990.000000  \n",
       "mean                 7.221870     0.007012  \n",
       "std                  8.570688     0.083449  \n",
       "min                  0.000000     0.000000  \n",
       "25%                  3.000000     0.000000  \n",
       "50%                  5.000000     0.000000  \n",
       "75%                  9.000000     0.000000  \n",
       "max                161.000000     1.000000  "
      ]
     },
     "execution_count": 12,
     "metadata": {},
     "output_type": "execute_result"
    }
   ],
   "source": [
    "df_work.describe()"
   ]
  },
  {
   "cell_type": "code",
   "execution_count": 13,
   "metadata": {},
   "outputs": [],
   "source": [
    "# tratando os nulos\n",
    "df_work.fillna(-1, inplace=True)"
   ]
  },
  {
   "cell_type": "code",
   "execution_count": 14,
   "metadata": {},
   "outputs": [
    {
     "data": {
      "text/plain": [
       "<matplotlib.axes._subplots.AxesSubplot at 0x7fe8e49ca710>"
      ]
     },
     "execution_count": 14,
     "metadata": {},
     "output_type": "execute_result"
    },
    {
     "data": {
      "image/png": "[encoded data removed]",
      "text/plain": [
       "<Figure size 432x288 with 1 Axes>"
      ]
     },
     "metadata": {},
     "output_type": "display_data"
    }
   ],
   "source": [
    "df_work['homologado'].value_counts().plot.bar()"
   ]
  },
  {
   "cell_type": "markdown",
   "metadata": {},
   "source": [
    "### Classes desbalanceadas!!!\n",
    "\n",
    "Conforme podemos ver acima, as classes desse problema são altamente desbalanceadas - apenas 1.46% do conjunto de dados representam procedimentos que não foram homologados.\n",
    "\n",
    "Isso, muito provavelmente, causará problemas no treino do modelo. Mas, inicialmente, vamos ignorar isso e seguir com o nosso treino."
   ]
  },
  {
   "cell_type": "code",
   "execution_count": 15,
   "metadata": {},
   "outputs": [],
   "source": [
    "# conversão para datas\n",
    "df_work['dataAutuacao'] = pd.to_datetime(df_work['dataAutuacao'],infer_datetime_format=True)\n",
    "df_work['dataEntrada'] = pd.to_datetime(df_work['dataEntrada'],infer_datetime_format=True)"
   ]
  },
  {
   "cell_type": "code",
   "execution_count": 16,
   "metadata": {},
   "outputs": [],
   "source": [
    "# vamos criar uma variável derivada, representando a quantidade de dias desde a autuação até a entrada\n",
    "df_work['diasTranscorridos'] = 0\n",
    "for index in range(len(df_work)):\n",
    "    df_work.loc[index, 'diasTranscorridos'] =  (df_work.loc[index, 'dataEntrada'] - df_work.loc[index, 'dataAutuacao']).days"
   ]
  },
  {
   "cell_type": "code",
   "execution_count": 17,
   "metadata": {},
   "outputs": [
    {
     "data": {
      "text/html": [
       "<div>\n",
       "<style scoped>\n",
       "    .dataframe tbody tr th:only-of-type {\n",
       "        vertical-align: middle;\n",
       "    }\n",
       "\n",
       "    .dataframe tbody tr th {\n",
       "        vertical-align: top;\n",
       "    }\n",
       "\n",
       "    .dataframe thead th {\n",
       "        text-align: right;\n",
       "    }\n",
       "</style>\n",
       "<table border=\"1\" class=\"dataframe\">\n",
       "  <thead>\n",
       "    <tr style=\"text-align: right;\">\n",
       "      <th></th>\n",
       "      <th>areaAtuacao</th>\n",
       "      <th>classe</th>\n",
       "      <th>dataAutuacao</th>\n",
       "      <th>dataEntrada</th>\n",
       "      <th>homologado</th>\n",
       "      <th>itemCnmp</th>\n",
       "      <th>membroResponsavel</th>\n",
       "      <th>municipio</th>\n",
       "      <th>prioritario</th>\n",
       "      <th>quantidadeConversoes</th>\n",
       "      <th>quantidadeProvidencias</th>\n",
       "      <th>urgente</th>\n",
       "      <th>diasTranscorridos</th>\n",
       "    </tr>\n",
       "  </thead>\n",
       "  <tbody>\n",
       "    <tr>\n",
       "      <th>1187</th>\n",
       "      <td>2</td>\n",
       "      <td>3</td>\n",
       "      <td>2016-01-28</td>\n",
       "      <td>2018-05-18</td>\n",
       "      <td>1</td>\n",
       "      <td>1556</td>\n",
       "      <td>53309.0</td>\n",
       "      <td>3097</td>\n",
       "      <td>0</td>\n",
       "      <td>2</td>\n",
       "      <td>6</td>\n",
       "      <td>0</td>\n",
       "      <td>841</td>\n",
       "    </tr>\n",
       "    <tr>\n",
       "      <th>3068</th>\n",
       "      <td>2</td>\n",
       "      <td>3</td>\n",
       "      <td>2016-01-29</td>\n",
       "      <td>2017-05-12</td>\n",
       "      <td>1</td>\n",
       "      <td>1533</td>\n",
       "      <td>116506.0</td>\n",
       "      <td>4570</td>\n",
       "      <td>0</td>\n",
       "      <td>3</td>\n",
       "      <td>5</td>\n",
       "      <td>0</td>\n",
       "      <td>469</td>\n",
       "    </tr>\n",
       "    <tr>\n",
       "      <th>185</th>\n",
       "      <td>2</td>\n",
       "      <td>1</td>\n",
       "      <td>2018-03-04</td>\n",
       "      <td>2018-08-01</td>\n",
       "      <td>1</td>\n",
       "      <td>2007098</td>\n",
       "      <td>14143.0</td>\n",
       "      <td>3425</td>\n",
       "      <td>0</td>\n",
       "      <td>1</td>\n",
       "      <td>2</td>\n",
       "      <td>0</td>\n",
       "      <td>150</td>\n",
       "    </tr>\n",
       "    <tr>\n",
       "      <th>5489</th>\n",
       "      <td>2</td>\n",
       "      <td>2</td>\n",
       "      <td>2015-02-10</td>\n",
       "      <td>2016-03-09</td>\n",
       "      <td>1</td>\n",
       "      <td>1727</td>\n",
       "      <td>6894.0</td>\n",
       "      <td>3113</td>\n",
       "      <td>0</td>\n",
       "      <td>1</td>\n",
       "      <td>7</td>\n",
       "      <td>0</td>\n",
       "      <td>393</td>\n",
       "    </tr>\n",
       "    <tr>\n",
       "      <th>3072</th>\n",
       "      <td>2</td>\n",
       "      <td>3</td>\n",
       "      <td>2016-04-08</td>\n",
       "      <td>2017-05-22</td>\n",
       "      <td>1</td>\n",
       "      <td>1892</td>\n",
       "      <td>127558.0</td>\n",
       "      <td>301</td>\n",
       "      <td>0</td>\n",
       "      <td>1</td>\n",
       "      <td>2</td>\n",
       "      <td>0</td>\n",
       "      <td>409</td>\n",
       "    </tr>\n",
       "    <tr>\n",
       "      <th>2573</th>\n",
       "      <td>2</td>\n",
       "      <td>3</td>\n",
       "      <td>2015-07-31</td>\n",
       "      <td>2017-07-18</td>\n",
       "      <td>1</td>\n",
       "      <td>1102</td>\n",
       "      <td>12024.0</td>\n",
       "      <td>3685</td>\n",
       "      <td>0</td>\n",
       "      <td>4</td>\n",
       "      <td>62</td>\n",
       "      <td>0</td>\n",
       "      <td>718</td>\n",
       "    </tr>\n",
       "    <tr>\n",
       "      <th>1013</th>\n",
       "      <td>2</td>\n",
       "      <td>2</td>\n",
       "      <td>2017-11-28</td>\n",
       "      <td>2018-06-04</td>\n",
       "      <td>1</td>\n",
       "      <td>2086</td>\n",
       "      <td>5262.0</td>\n",
       "      <td>3573</td>\n",
       "      <td>0</td>\n",
       "      <td>2</td>\n",
       "      <td>4</td>\n",
       "      <td>0</td>\n",
       "      <td>188</td>\n",
       "    </tr>\n",
       "    <tr>\n",
       "      <th>1310</th>\n",
       "      <td>2</td>\n",
       "      <td>3</td>\n",
       "      <td>2016-01-09</td>\n",
       "      <td>2018-05-10</td>\n",
       "      <td>1</td>\n",
       "      <td>1556</td>\n",
       "      <td>127511.0</td>\n",
       "      <td>5441</td>\n",
       "      <td>0</td>\n",
       "      <td>2</td>\n",
       "      <td>5</td>\n",
       "      <td>0</td>\n",
       "      <td>852</td>\n",
       "    </tr>\n",
       "    <tr>\n",
       "      <th>2567</th>\n",
       "      <td>2</td>\n",
       "      <td>3</td>\n",
       "      <td>2016-10-25</td>\n",
       "      <td>2017-08-01</td>\n",
       "      <td>1</td>\n",
       "      <td>1753</td>\n",
       "      <td>17154.0</td>\n",
       "      <td>4313</td>\n",
       "      <td>0</td>\n",
       "      <td>2</td>\n",
       "      <td>3</td>\n",
       "      <td>0</td>\n",
       "      <td>280</td>\n",
       "    </tr>\n",
       "    <tr>\n",
       "      <th>1094</th>\n",
       "      <td>2</td>\n",
       "      <td>3</td>\n",
       "      <td>2014-06-02</td>\n",
       "      <td>2018-05-21</td>\n",
       "      <td>1</td>\n",
       "      <td>1772</td>\n",
       "      <td>29006.0</td>\n",
       "      <td>5055</td>\n",
       "      <td>0</td>\n",
       "      <td>5</td>\n",
       "      <td>11</td>\n",
       "      <td>0</td>\n",
       "      <td>1449</td>\n",
       "    </tr>\n",
       "  </tbody>\n",
       "</table>\n",
       "</div>"
      ],
      "text/plain": [
       "      areaAtuacao  classe dataAutuacao dataEntrada  homologado  itemCnmp  \\\n",
       "1187            2       3   2016-01-28  2018-05-18           1      1556   \n",
       "3068            2       3   2016-01-29  2017-05-12           1      1533   \n",
       "185             2       1   2018-03-04  2018-08-01           1   2007098   \n",
       "5489            2       2   2015-02-10  2016-03-09           1      1727   \n",
       "3072            2       3   2016-04-08  2017-05-22           1      1892   \n",
       "2573            2       3   2015-07-31  2017-07-18           1      1102   \n",
       "1013            2       2   2017-11-28  2018-06-04           1      2086   \n",
       "1310            2       3   2016-01-09  2018-05-10           1      1556   \n",
       "2567            2       3   2016-10-25  2017-08-01           1      1753   \n",
       "1094            2       3   2014-06-02  2018-05-21           1      1772   \n",
       "\n",
       "      membroResponsavel  municipio  prioritario  quantidadeConversoes  \\\n",
       "1187            53309.0       3097            0                     2   \n",
       "3068           116506.0       4570            0                     3   \n",
       "185             14143.0       3425            0                     1   \n",
       "5489             6894.0       3113            0                     1   \n",
       "3072           127558.0        301            0                     1   \n",
       "2573            12024.0       3685            0                     4   \n",
       "1013             5262.0       3573            0                     2   \n",
       "1310           127511.0       5441            0                     2   \n",
       "2567            17154.0       4313            0                     2   \n",
       "1094            29006.0       5055            0                     5   \n",
       "\n",
       "      quantidadeProvidencias  urgente  diasTranscorridos  \n",
       "1187                       6        0                841  \n",
       "3068                       5        0                469  \n",
       "185                        2        0                150  \n",
       "5489                       7        0                393  \n",
       "3072                       2        0                409  \n",
       "2573                      62        0                718  \n",
       "1013                       4        0                188  \n",
       "1310                       5        0                852  \n",
       "2567                       3        0                280  \n",
       "1094                      11        0               1449  "
      ]
     },
     "execution_count": 17,
     "metadata": {},
     "output_type": "execute_result"
    }
   ],
   "source": [
    "df_work.sample(10)"
   ]
  },
  {
   "cell_type": "code",
   "execution_count": 18,
   "metadata": {},
   "outputs": [
    {
     "data": {
      "text/plain": [
       "RandomForestClassifier(bootstrap=True, class_weight=None, criterion='gini',\n",
       "            max_depth=None, max_features='auto', max_leaf_nodes=None,\n",
       "            min_impurity_decrease=0.0, min_impurity_split=None,\n",
       "            min_samples_leaf=1, min_samples_split=2,\n",
       "            min_weight_fraction_leaf=0.0, n_estimators=10, n_jobs=1,\n",
       "            oob_score=False, random_state=42, verbose=0, warm_start=False)"
      ]
     },
     "execution_count": 18,
     "metadata": {},
     "output_type": "execute_result"
    }
   ],
   "source": [
    "removed_columns = ['homologado', 'dataEntrada', 'dataAutuacao']\n",
    "features = [c for c in df_work.columns if c not in removed_columns]\n",
    "\n",
    "model = RandomForestClassifier(random_state=42)\n",
    "model.fit(df_work[features], df_work['homologado'])"
   ]
  },
  {
   "cell_type": "code",
   "execution_count": 19,
   "metadata": {},
   "outputs": [
    {
     "data": {
      "text/plain": [
       "0.9986644407345576"
      ]
     },
     "execution_count": 19,
     "metadata": {},
     "output_type": "execute_result"
    }
   ],
   "source": [
    "model.score(df_work[features], df_work['homologado'])"
   ]
  },
  {
   "cell_type": "code",
   "execution_count": 20,
   "metadata": {},
   "outputs": [
    {
     "data": {
      "text/plain": [
       "((4492, 13), (1498, 13))"
      ]
     },
     "execution_count": 20,
     "metadata": {},
     "output_type": "execute_result"
    }
   ],
   "source": [
    "from sklearn.model_selection import train_test_split\n",
    "\n",
    "train, valid = train_test_split(df_work, random_state=42)\n",
    "train.shape, valid.shape"
   ]
  },
  {
   "cell_type": "code",
   "execution_count": 21,
   "metadata": {},
   "outputs": [
    {
     "data": {
      "text/plain": [
       "RandomForestClassifier(bootstrap=True, class_weight=None, criterion='gini',\n",
       "            max_depth=None, max_features='auto', max_leaf_nodes=None,\n",
       "            min_impurity_decrease=0.0, min_impurity_split=None,\n",
       "            min_samples_leaf=1, min_samples_split=2,\n",
       "            min_weight_fraction_leaf=0.0, n_estimators=10, n_jobs=1,\n",
       "            oob_score=False, random_state=42, verbose=0, warm_start=False)"
      ]
     },
     "execution_count": 21,
     "metadata": {},
     "output_type": "execute_result"
    }
   ],
   "source": [
    "model.fit(train[features], train['homologado'])"
   ]
  },
  {
   "cell_type": "code",
   "execution_count": 22,
   "metadata": {},
   "outputs": [],
   "source": [
    "train_preds = model.predict(train[features])\n",
    "valid_preds = model.predict(valid[features])"
   ]
  },
  {
   "cell_type": "code",
   "execution_count": 23,
   "metadata": {},
   "outputs": [
    {
     "name": "stdout",
     "output_type": "stream",
     "text": [
      "0.9986642920747997 0.9799732977303071\n"
     ]
    }
   ],
   "source": [
    "from sklearn.metrics import accuracy_score\n",
    "\n",
    "def print_score():\n",
    "    print(accuracy_score(train['homologado'], train_preds), accuracy_score(valid['homologado'], valid_preds))\n",
    "\n",
    "print_score()"
   ]
  },
  {
   "cell_type": "markdown",
   "metadata": {},
   "source": [
    "### Primeira avaliação\n",
    "\n",
    "Embora não tenha ocorrido overfitting no treinamento e o *score* final tenha sido alto, cabe utilizar uma outra medida para assegurar a qualidade do modelo. Vamos utilizar a ** *matriz de confusão* **.\n",
    "\n"
   ]
  },
  {
   "cell_type": "code",
   "execution_count": 24,
   "metadata": {
    "scrolled": true
   },
   "outputs": [
    {
     "data": {
      "text/plain": [
       "array([[   0,   28],\n",
       "       [   2, 1468]])"
      ]
     },
     "execution_count": 24,
     "metadata": {},
     "output_type": "execute_result"
    }
   ],
   "source": [
    "from sklearn.metrics import confusion_matrix\n",
    "\n",
    "confusion_matrix(valid['homologado'], valid_preds)"
   ]
  },
  {
   "cell_type": "code",
   "execution_count": 25,
   "metadata": {},
   "outputs": [
    {
     "data": {
      "text/plain": [
       "array([   0,   28,    2, 1468])"
      ]
     },
     "execution_count": 25,
     "metadata": {},
     "output_type": "execute_result"
    }
   ],
   "source": [
    "confusion_matrix(valid['homologado'], valid_preds).ravel()"
   ]
  },
  {
   "cell_type": "code",
   "execution_count": 26,
   "metadata": {},
   "outputs": [
    {
     "data": {
      "text/plain": [
       "(1470, 28)"
      ]
     },
     "execution_count": 26,
     "metadata": {},
     "output_type": "execute_result"
    }
   ],
   "source": [
    "len(valid[valid['homologado']==1]), len(valid[valid['homologado']==0])"
   ]
  },
  {
   "cell_type": "markdown",
   "metadata": {},
   "source": [
    "Ao utilizar o ravel(), temos uma saída do tipo (tn, fp, fn, tp). De onde vemos que:\n",
    "\n",
    "\n",
    "- tivemos 0 tn - *true negative*; ou seja, o modelo não conseguiu acertar nenhum dos que não tiveram o arquivamento homologado;\n",
    "- tivemos 28 fp - *false positive*; 28 que não tiveram o arquivamento homologado e o modelo classificou como homologado;\n",
    "- tivemos 2 fn - *false negative*; foram homologados e o modelo marcou como não homologados;\n",
    "- tivemos 1468 tp - *true positive*; foram homologados e o modelo marcou corretamente.\n",
    "\n",
    "Logo, apesar da acurácia do modelo aparentar ser muito boa (98% no validation set), o **modelo não sabe lidar com os não arquivamentos** - não acertou nenhum dos que realmente não foram homologados. Ou seja dos 22 que não foram homologados, o modelo errou todos e ainda marcou 4 não homologados de forma errada.\n",
    "\n",
    "Fica claro que somente essas features não ajudam na descoberta - o texto da íntegra é, segundo a área negocial, realmente o mais importante.\n",
    "\n",
    "Vamos continuar avaliando esse modelo."
   ]
  },
  {
   "cell_type": "markdown",
   "metadata": {},
   "source": [
    "## Feature importances"
   ]
  },
  {
   "cell_type": "code",
   "execution_count": 27,
   "metadata": {},
   "outputs": [
    {
     "data": {
      "image/png": "[encoded data removed]",
      "text/plain": [
       "<Figure size 432x288 with 1 Axes>"
      ]
     },
     "metadata": {},
     "output_type": "display_data"
    }
   ],
   "source": [
    "import matplotlib.pyplot as plt\n",
    "\n",
    "def plot_fi(feature_importances, size=None):\n",
    "    feature_importances = model.feature_importances_\n",
    "    \n",
    "    if not size:\n",
    "        size = len(feature_importances)\n",
    "    \n",
    "    indices = np.argsort(feature_importances[0:size])\n",
    "    \n",
    "    plt.title('Feature Importances')\n",
    "    plt.barh(range(size), feature_importances[indices], color='b', align='center')\n",
    "    plt.yticks(range(size), [features[i] for i in indices if i < size])\n",
    "    plt.xlabel('Relative Importance')\n",
    "    plt.show()\n",
    "    \n",
    "plot_fi(model.feature_importances_)"
   ]
  },
  {
   "cell_type": "markdown",
   "metadata": {},
   "source": [
    "O modelo está dando muita importância ao município que, considerando o bom senso e um pouco de domínio negocial, não faz sentido - o município não deveria interferir.\n",
    "\n",
    "Lembrar: criar uma coluna para cada uma das listas de palavras-chaves, indicando ausência ou presença"
   ]
  },
  {
   "cell_type": "code",
   "execution_count": 28,
   "metadata": {},
   "outputs": [
    {
     "name": "stdout",
     "output_type": "stream",
     "text": [
      "0.9984416740872663 0.9799732977303071\n"
     ]
    }
   ],
   "source": [
    "# Vou retirar as colunas com poucas importância\n",
    "removed_columns = ['homologado', 'dataEntrada', 'dataAutuacao', 'urgente', 'prioritario']\n",
    "features = [c for c in df_work.columns if c not in removed_columns]\n",
    "\n",
    "model = RandomForestClassifier(random_state=42)\n",
    "\n",
    "model.fit(train[features], train['homologado'])\n",
    "\n",
    "train_preds = model.predict(train[features])\n",
    "valid_preds = model.predict(valid[features])\n",
    "\n",
    "print_score()"
   ]
  },
  {
   "cell_type": "code",
   "execution_count": 29,
   "metadata": {},
   "outputs": [
    {
     "data": {
      "text/plain": [
       "array([   0,   28,    2, 1468])"
      ]
     },
     "execution_count": 29,
     "metadata": {},
     "output_type": "execute_result"
    }
   ],
   "source": [
    "confusion_matrix(valid['homologado'], valid_preds).ravel()"
   ]
  },
  {
   "cell_type": "code",
   "execution_count": 30,
   "metadata": {},
   "outputs": [
    {
     "data": {
      "image/png": "[encoded data removed]",
      "text/plain": [
       "<Figure size 432x288 with 1 Axes>"
      ]
     },
     "metadata": {},
     "output_type": "display_data"
    }
   ],
   "source": [
    "plot_fi(model.feature_importances_)"
   ]
  },
  {
   "cell_type": "markdown",
   "metadata": {},
   "source": [
    "Com as novas features, retirando a urgente e a prioritário, não houve melhorias.\n",
    "\n",
    "Vou retirar a coluna município, pois, ao meu ver, ela não nos parece adequada - e o modelo continua dando muita importância a ela."
   ]
  },
  {
   "cell_type": "code",
   "execution_count": 31,
   "metadata": {},
   "outputs": [
    {
     "name": "stdout",
     "output_type": "stream",
     "text": [
      "0.9984416740872663 0.9806408544726302\n"
     ]
    }
   ],
   "source": [
    "removed_columns.append('municipio')\n",
    "removed_columns\n",
    "\n",
    "features = [c for c in df_work.columns if c not in removed_columns]\n",
    "\n",
    "model.fit(train[features], train['homologado'])\n",
    "\n",
    "train_preds = model.predict(train[features])\n",
    "valid_preds = model.predict(valid[features])\n",
    "\n",
    "print_score()"
   ]
  },
  {
   "cell_type": "code",
   "execution_count": 32,
   "metadata": {},
   "outputs": [
    {
     "data": {
      "text/plain": [
       "array([   0,   28,    1, 1469])"
      ]
     },
     "execution_count": 32,
     "metadata": {},
     "output_type": "execute_result"
    }
   ],
   "source": [
    "confusion_matrix(valid['homologado'], valid_preds).ravel()"
   ]
  },
  {
   "cell_type": "code",
   "execution_count": 33,
   "metadata": {},
   "outputs": [
    {
     "data": {
      "image/png": "[encoded data removed]",
      "text/plain": [
       "<Figure size 432x288 with 1 Axes>"
      ]
     },
     "metadata": {},
     "output_type": "display_data"
    }
   ],
   "source": [
    "plot_fi(model.feature_importances_)"
   ]
  },
  {
   "cell_type": "markdown",
   "metadata": {},
   "source": [
    "Ao retirar a coluna município, o desempenho melhorou um pouco - acurácia aumentou e os falses positivos diminuíram.\n",
    "\n",
    "Vamos criar um modelo ainda mais simples, apenas com as features cuja importância seja maior que 5%."
   ]
  },
  {
   "cell_type": "code",
   "execution_count": 34,
   "metadata": {},
   "outputs": [
    {
     "name": "stdout",
     "output_type": "stream",
     "text": [
      "0.9984416740872663 0.9806408544726302\n"
     ]
    }
   ],
   "source": [
    "model = RandomForestClassifier(random_state=42)\n",
    "\n",
    "important_features = ['membroResponsavel', 'diasTranscorridos', 'itemCnmp', 'quantidadeProvidencias', 'quantidadeConversoes']\n",
    "model.fit(train[important_features], train['homologado'])\n",
    "\n",
    "train_preds = model.predict(train[important_features])\n",
    "valid_preds = model.predict(valid[important_features])\n",
    "\n",
    "print_score()"
   ]
  },
  {
   "cell_type": "code",
   "execution_count": 35,
   "metadata": {},
   "outputs": [
    {
     "data": {
      "text/plain": [
       "array([   0,   28,    1, 1469])"
      ]
     },
     "execution_count": 35,
     "metadata": {},
     "output_type": "execute_result"
    }
   ],
   "source": [
    "confusion_matrix(valid['homologado'], valid_preds).ravel()"
   ]
  },
  {
   "cell_type": "code",
   "execution_count": 37,
   "metadata": {},
   "outputs": [
    {
     "data": {
      "image/png": "[encoded data removed]",
      "text/plain": [
       "<Figure size 432x288 with 1 Axes>"
      ]
     },
     "metadata": {},
     "output_type": "display_data"
    }
   ],
   "source": [
    "plot_fi(model.feature_importances_)"
   ]
  },
  {
   "cell_type": "markdown",
   "metadata": {},
   "source": [
    "Somente com as features importantes acima, o desempenho se manteve (acurácia boa, mas muito ruim em lidar com os não homologados). \n",
    "\n",
    "Interessante notar que a variável diasTranscorridos desapereceu da lista de importâncias.\n",
    "\n",
    "Vamos fazer mais um teste, apenas com as top-3 features"
   ]
  },
  {
   "cell_type": "code",
   "execution_count": 38,
   "metadata": {},
   "outputs": [
    {
     "name": "stdout",
     "output_type": "stream",
     "text": [
      "0.9884238646482636 0.979305740987984\n"
     ]
    }
   ],
   "source": [
    "important_features = ['classe', 'areaAtuacao', 'itemCnmp']\n",
    "\n",
    "model = RandomForestClassifier(random_state=42)\n",
    "model.fit(train[important_features], train['homologado'])\n",
    "\n",
    "train_preds = model.predict(train[important_features])\n",
    "valid_preds = model.predict(valid[important_features])\n",
    "\n",
    "print_score()"
   ]
  },
  {
   "cell_type": "code",
   "execution_count": 39,
   "metadata": {},
   "outputs": [
    {
     "data": {
      "text/plain": [
       "array([   0,   28,    3, 1467])"
      ]
     },
     "execution_count": 39,
     "metadata": {},
     "output_type": "execute_result"
    }
   ],
   "source": [
    "confusion_matrix(valid['homologado'], valid_preds).ravel()"
   ]
  },
  {
   "cell_type": "markdown",
   "metadata": {},
   "source": [
    "Com o modelo mais simples, o desempenho foi o pior de todos até agora. Vamos passar a considerar o texto das providências."
   ]
  },
  {
   "cell_type": "markdown",
   "metadata": {},
   "source": [
    "## Considerando as providências realizadas"
   ]
  },
  {
   "cell_type": "code",
   "execution_count": 53,
   "metadata": {},
   "outputs": [
    {
     "data": {
      "text/html": [
       "<div>\n",
       "<style scoped>\n",
       "    .dataframe tbody tr th:only-of-type {\n",
       "        vertical-align: middle;\n",
       "    }\n",
       "\n",
       "    .dataframe tbody tr th {\n",
       "        vertical-align: top;\n",
       "    }\n",
       "\n",
       "    .dataframe thead th {\n",
       "        text-align: right;\n",
       "    }\n",
       "</style>\n",
       "<table border=\"1\" class=\"dataframe\">\n",
       "  <thead>\n",
       "    <tr style=\"text-align: right;\">\n",
       "      <th></th>\n",
       "      <th>areaAtuacao</th>\n",
       "      <th>classe</th>\n",
       "      <th>homologado</th>\n",
       "      <th>itemCnmp</th>\n",
       "      <th>membroResponsavel</th>\n",
       "      <th>municipio</th>\n",
       "      <th>quantidadeConversoes</th>\n",
       "      <th>quantidadeProvidencias</th>\n",
       "      <th>textosProvidencias</th>\n",
       "      <th>diasTranscorridos</th>\n",
       "    </tr>\n",
       "  </thead>\n",
       "  <tbody>\n",
       "    <tr>\n",
       "      <th>3990</th>\n",
       "      <td>2</td>\n",
       "      <td>3</td>\n",
       "      <td>1</td>\n",
       "      <td>3119</td>\n",
       "      <td>5990.0</td>\n",
       "      <td>3913</td>\n",
       "      <td>3</td>\n",
       "      <td>9</td>\n",
       "      <td>Converta-se em Inquérito Civil(IC).,Junte-se.,...</td>\n",
       "      <td>57</td>\n",
       "    </tr>\n",
       "    <tr>\n",
       "      <th>1890</th>\n",
       "      <td>2</td>\n",
       "      <td>3</td>\n",
       "      <td>1</td>\n",
       "      <td>1863</td>\n",
       "      <td>127507.0</td>\n",
       "      <td>226</td>\n",
       "      <td>3</td>\n",
       "      <td>7</td>\n",
       "      <td>Converta-se em Inquérito Civil(IC).,Oficie-se,...</td>\n",
       "      <td>614</td>\n",
       "    </tr>\n",
       "    <tr>\n",
       "      <th>3732</th>\n",
       "      <td>2</td>\n",
       "      <td>2</td>\n",
       "      <td>1</td>\n",
       "      <td>2359</td>\n",
       "      <td>4043.0</td>\n",
       "      <td>810</td>\n",
       "      <td>0</td>\n",
       "      <td>0</td>\n",
       "      <td></td>\n",
       "      <td>34</td>\n",
       "    </tr>\n",
       "    <tr>\n",
       "      <th>1250</th>\n",
       "      <td>2</td>\n",
       "      <td>3</td>\n",
       "      <td>1</td>\n",
       "      <td>1503</td>\n",
       "      <td>9353.0</td>\n",
       "      <td>4081</td>\n",
       "      <td>0</td>\n",
       "      <td>2</td>\n",
       "      <td>Análise do arquivamento,Certifica acatamento d...</td>\n",
       "      <td>418</td>\n",
       "    </tr>\n",
       "    <tr>\n",
       "      <th>2927</th>\n",
       "      <td>2</td>\n",
       "      <td>2</td>\n",
       "      <td>1</td>\n",
       "      <td>91</td>\n",
       "      <td>17863.0</td>\n",
       "      <td>5459</td>\n",
       "      <td>1</td>\n",
       "      <td>1</td>\n",
       "      <td>Converta-se em Procedimento Preparatório(PP).</td>\n",
       "      <td>112</td>\n",
       "    </tr>\n",
       "    <tr>\n",
       "      <th>2117</th>\n",
       "      <td>2</td>\n",
       "      <td>3</td>\n",
       "      <td>1</td>\n",
       "      <td>3150</td>\n",
       "      <td>127548.0</td>\n",
       "      <td>404</td>\n",
       "      <td>3</td>\n",
       "      <td>12</td>\n",
       "      <td>Despacho Simplificado,Converta-se em Inquérito...</td>\n",
       "      <td>684</td>\n",
       "    </tr>\n",
       "    <tr>\n",
       "      <th>393</th>\n",
       "      <td>2</td>\n",
       "      <td>2</td>\n",
       "      <td>1</td>\n",
       "      <td>1874</td>\n",
       "      <td>64327.0</td>\n",
       "      <td>2742</td>\n",
       "      <td>2</td>\n",
       "      <td>6</td>\n",
       "      <td>Oficie-se.,Prorroga-se o prazo de finalização ...</td>\n",
       "      <td>304</td>\n",
       "    </tr>\n",
       "    <tr>\n",
       "      <th>5079</th>\n",
       "      <td>2</td>\n",
       "      <td>2</td>\n",
       "      <td>1</td>\n",
       "      <td>1567</td>\n",
       "      <td>31553.0</td>\n",
       "      <td>5459</td>\n",
       "      <td>1</td>\n",
       "      <td>2</td>\n",
       "      <td>Oficie-se,Converta-se em Procedimento Preparat...</td>\n",
       "      <td>98</td>\n",
       "    </tr>\n",
       "    <tr>\n",
       "      <th>5859</th>\n",
       "      <td>2</td>\n",
       "      <td>2</td>\n",
       "      <td>1</td>\n",
       "      <td>902</td>\n",
       "      <td>53295.0</td>\n",
       "      <td>2919</td>\n",
       "      <td>2</td>\n",
       "      <td>2</td>\n",
       "      <td>Prorroga-se o prazo de finalização do Procedim...</td>\n",
       "      <td>35</td>\n",
       "    </tr>\n",
       "    <tr>\n",
       "      <th>4808</th>\n",
       "      <td>5</td>\n",
       "      <td>3</td>\n",
       "      <td>1</td>\n",
       "      <td>1556</td>\n",
       "      <td>31430.0</td>\n",
       "      <td>1214</td>\n",
       "      <td>3</td>\n",
       "      <td>11</td>\n",
       "      <td>Converta-se em Inquérito Civil(IC).,Sobrestar ...</td>\n",
       "      <td>813</td>\n",
       "    </tr>\n",
       "  </tbody>\n",
       "</table>\n",
       "</div>"
      ],
      "text/plain": [
       "      areaAtuacao  classe  homologado  itemCnmp  membroResponsavel  municipio  \\\n",
       "3990            2       3           1      3119             5990.0       3913   \n",
       "1890            2       3           1      1863           127507.0        226   \n",
       "3732            2       2           1      2359             4043.0        810   \n",
       "1250            2       3           1      1503             9353.0       4081   \n",
       "2927            2       2           1        91            17863.0       5459   \n",
       "2117            2       3           1      3150           127548.0        404   \n",
       "393             2       2           1      1874            64327.0       2742   \n",
       "5079            2       2           1      1567            31553.0       5459   \n",
       "5859            2       2           1       902            53295.0       2919   \n",
       "4808            5       3           1      1556            31430.0       1214   \n",
       "\n",
       "      quantidadeConversoes  quantidadeProvidencias  \\\n",
       "3990                     3                       9   \n",
       "1890                     3                       7   \n",
       "3732                     0                       0   \n",
       "1250                     0                       2   \n",
       "2927                     1                       1   \n",
       "2117                     3                      12   \n",
       "393                      2                       6   \n",
       "5079                     1                       2   \n",
       "5859                     2                       2   \n",
       "4808                     3                      11   \n",
       "\n",
       "                                     textosProvidencias  diasTranscorridos  \n",
       "3990  Converta-se em Inquérito Civil(IC).,Junte-se.,...                 57  \n",
       "1890  Converta-se em Inquérito Civil(IC).,Oficie-se,...                614  \n",
       "3732                                                                    34  \n",
       "1250  Análise do arquivamento,Certifica acatamento d...                418  \n",
       "2927      Converta-se em Procedimento Preparatório(PP).                112  \n",
       "2117  Despacho Simplificado,Converta-se em Inquérito...                684  \n",
       "393   Oficie-se.,Prorroga-se o prazo de finalização ...                304  \n",
       "5079  Oficie-se,Converta-se em Procedimento Preparat...                 98  \n",
       "5859  Prorroga-se o prazo de finalização do Procedim...                 35  \n",
       "4808  Converta-se em Inquérito Civil(IC).,Sobrestar ...                813  "
      ]
     },
     "execution_count": 53,
     "metadata": {},
     "output_type": "execute_result"
    }
   ],
   "source": [
    "df_work = df_original.copy()\n",
    "\n",
    "df_work.dropna(subset=['identificadorPecaPromocao'], inplace=True)\n",
    "df_work.reset_index(drop=True, inplace=True)\n",
    "\n",
    "df_work['dataAutuacao'] = pd.to_datetime(df_work['dataAutuacao'],infer_datetime_format=True)\n",
    "df_work['dataEntrada'] = pd.to_datetime(df_work['dataEntrada'],infer_datetime_format=True)\n",
    "\n",
    "df_work['diasTranscorridos'] = 0\n",
    "for index in range(len(df_work)):\n",
    "    df_work.loc[index, 'diasTranscorridos'] =  (df_work.loc[index, 'dataEntrada'] - df_work.loc[index, 'dataAutuacao']).days\n",
    "\n",
    "removed_columns = ['id', 'procedimento', 'identificadorPecaPromocao', 'prioritario', 'urgente', 'dataAutuacao', 'dataEntrada']\n",
    "df_work = df_work.drop(columns=removed_columns)\n",
    "df_work.fillna(-1, inplace=True)\n",
    "\n",
    "    \n",
    "df_work.sample(10)"
   ]
  },
  {
   "cell_type": "code",
   "execution_count": 55,
   "metadata": {},
   "outputs": [
    {
     "data": {
      "text/plain": [
       "66"
      ]
     },
     "execution_count": 55,
     "metadata": {},
     "output_type": "execute_result"
    }
   ],
   "source": [
    "listaProvidencias = []\n",
    "for index in range(len(df_work)):\n",
    "    for s in str(df_work['textosProvidencias'][index]).strip().lower().split(','):\n",
    "        listaProvidencias.append(s)\n",
    "\n",
    "listaProvidencias = set(listaProvidencias)\n",
    "len(listaProvidencias)\n",
    "listaProvidencias.remove('análise do arquivamento')\n",
    "listaProvidencias.remove('analisar arquivamento')\n",
    "len(listaProvidencias)"
   ]
  },
  {
   "cell_type": "code",
   "execution_count": 56,
   "metadata": {},
   "outputs": [],
   "source": [
    "df_work = pd.concat([df_work, pd.get_dummies(sorted(list(listaProvidencias)), drop_first=True)], axis=1)"
   ]
  },
  {
   "cell_type": "code",
   "execution_count": 57,
   "metadata": {},
   "outputs": [],
   "source": [
    "for index in range(len(df_work)):\n",
    "    for s in str(df_work.textosProvidencias[index]).strip().split(','):\n",
    "        df_work.at[index, s.lower()] = 1"
   ]
  },
  {
   "cell_type": "code",
   "execution_count": 58,
   "metadata": {},
   "outputs": [
    {
     "data": {
      "text/html": [
       "<div>\n",
       "<style scoped>\n",
       "    .dataframe tbody tr th:only-of-type {\n",
       "        vertical-align: middle;\n",
       "    }\n",
       "\n",
       "    .dataframe tbody tr th {\n",
       "        vertical-align: top;\n",
       "    }\n",
       "\n",
       "    .dataframe thead th {\n",
       "        text-align: right;\n",
       "    }\n",
       "</style>\n",
       "<table border=\"1\" class=\"dataframe\">\n",
       "  <thead>\n",
       "    <tr style=\"text-align: right;\">\n",
       "      <th></th>\n",
       "      <th>areaAtuacao</th>\n",
       "      <th>classe</th>\n",
       "      <th>homologado</th>\n",
       "      <th>itemCnmp</th>\n",
       "      <th>membroResponsavel</th>\n",
       "      <th>municipio</th>\n",
       "      <th>quantidadeConversoes</th>\n",
       "      <th>quantidadeProvidencias</th>\n",
       "      <th>textosProvidencias</th>\n",
       "      <th>diasTranscorridos</th>\n",
       "      <th>...</th>\n",
       "      <th>reautue-se</th>\n",
       "      <th>recomende-se.</th>\n",
       "      <th>redistribua-se.</th>\n",
       "      <th>requisite-se perícia à ccr/mpf.</th>\n",
       "      <th>sobrestar no setor.</th>\n",
       "      <th>solicitar instauração de inquérito judicial</th>\n",
       "      <th>vistoria</th>\n",
       "      <th>analisar arquivamento</th>\n",
       "      <th></th>\n",
       "      <th>análise do arquivamento</th>\n",
       "    </tr>\n",
       "  </thead>\n",
       "  <tbody>\n",
       "    <tr>\n",
       "      <th>0</th>\n",
       "      <td>2</td>\n",
       "      <td>3</td>\n",
       "      <td>1</td>\n",
       "      <td>3078</td>\n",
       "      <td>53306.0</td>\n",
       "      <td>2733</td>\n",
       "      <td>1</td>\n",
       "      <td>3</td>\n",
       "      <td>Despacho Simplificado,Converta-se em Inquérito...</td>\n",
       "      <td>279</td>\n",
       "      <td>...</td>\n",
       "      <td>0.0</td>\n",
       "      <td>0.0</td>\n",
       "      <td>0.0</td>\n",
       "      <td>0.0</td>\n",
       "      <td>0.0</td>\n",
       "      <td>0.0</td>\n",
       "      <td>0.0</td>\n",
       "      <td>NaN</td>\n",
       "      <td>NaN</td>\n",
       "      <td>NaN</td>\n",
       "    </tr>\n",
       "    <tr>\n",
       "      <th>1</th>\n",
       "      <td>2</td>\n",
       "      <td>3</td>\n",
       "      <td>1</td>\n",
       "      <td>1515</td>\n",
       "      <td>4575.0</td>\n",
       "      <td>4108</td>\n",
       "      <td>5</td>\n",
       "      <td>17</td>\n",
       "      <td>Encaminhe-se o auto.,Analisar Arquivamento,Ofi...</td>\n",
       "      <td>1947</td>\n",
       "      <td>...</td>\n",
       "      <td>0.0</td>\n",
       "      <td>0.0</td>\n",
       "      <td>0.0</td>\n",
       "      <td>0.0</td>\n",
       "      <td>0.0</td>\n",
       "      <td>0.0</td>\n",
       "      <td>0.0</td>\n",
       "      <td>1.0</td>\n",
       "      <td>NaN</td>\n",
       "      <td>NaN</td>\n",
       "    </tr>\n",
       "    <tr>\n",
       "      <th>2</th>\n",
       "      <td>2</td>\n",
       "      <td>3</td>\n",
       "      <td>1</td>\n",
       "      <td>1542</td>\n",
       "      <td>17795.0</td>\n",
       "      <td>5296</td>\n",
       "      <td>2</td>\n",
       "      <td>4</td>\n",
       "      <td>Converta-se em Inquérito Civil(IC).,Oficie-se....</td>\n",
       "      <td>367</td>\n",
       "      <td>...</td>\n",
       "      <td>0.0</td>\n",
       "      <td>0.0</td>\n",
       "      <td>0.0</td>\n",
       "      <td>0.0</td>\n",
       "      <td>0.0</td>\n",
       "      <td>0.0</td>\n",
       "      <td>0.0</td>\n",
       "      <td>NaN</td>\n",
       "      <td>NaN</td>\n",
       "      <td>NaN</td>\n",
       "    </tr>\n",
       "    <tr>\n",
       "      <th>3</th>\n",
       "      <td>2</td>\n",
       "      <td>3</td>\n",
       "      <td>1</td>\n",
       "      <td>3058</td>\n",
       "      <td>11396.0</td>\n",
       "      <td>3573</td>\n",
       "      <td>3</td>\n",
       "      <td>9</td>\n",
       "      <td>Converta-se em Inquérito Civil(IC).,Analisar A...</td>\n",
       "      <td>1030</td>\n",
       "      <td>...</td>\n",
       "      <td>0.0</td>\n",
       "      <td>0.0</td>\n",
       "      <td>1.0</td>\n",
       "      <td>0.0</td>\n",
       "      <td>0.0</td>\n",
       "      <td>0.0</td>\n",
       "      <td>0.0</td>\n",
       "      <td>1.0</td>\n",
       "      <td>NaN</td>\n",
       "      <td>NaN</td>\n",
       "    </tr>\n",
       "    <tr>\n",
       "      <th>4</th>\n",
       "      <td>2</td>\n",
       "      <td>3</td>\n",
       "      <td>1</td>\n",
       "      <td>1521</td>\n",
       "      <td>53306.0</td>\n",
       "      <td>2561</td>\n",
       "      <td>1</td>\n",
       "      <td>2</td>\n",
       "      <td>Converta-se em Inquérito Civil(IC).,Cumpra-se.</td>\n",
       "      <td>552</td>\n",
       "      <td>...</td>\n",
       "      <td>0.0</td>\n",
       "      <td>0.0</td>\n",
       "      <td>0.0</td>\n",
       "      <td>0.0</td>\n",
       "      <td>0.0</td>\n",
       "      <td>0.0</td>\n",
       "      <td>0.0</td>\n",
       "      <td>NaN</td>\n",
       "      <td>NaN</td>\n",
       "      <td>NaN</td>\n",
       "    </tr>\n",
       "  </tbody>\n",
       "</table>\n",
       "<p>5 rows × 78 columns</p>\n",
       "</div>"
      ],
      "text/plain": [
       "   areaAtuacao  classe  homologado  itemCnmp  membroResponsavel  municipio  \\\n",
       "0            2       3           1      3078            53306.0       2733   \n",
       "1            2       3           1      1515             4575.0       4108   \n",
       "2            2       3           1      1542            17795.0       5296   \n",
       "3            2       3           1      3058            11396.0       3573   \n",
       "4            2       3           1      1521            53306.0       2561   \n",
       "\n",
       "   quantidadeConversoes  quantidadeProvidencias  \\\n",
       "0                     1                       3   \n",
       "1                     5                      17   \n",
       "2                     2                       4   \n",
       "3                     3                       9   \n",
       "4                     1                       2   \n",
       "\n",
       "                                  textosProvidencias  diasTranscorridos  \\\n",
       "0  Despacho Simplificado,Converta-se em Inquérito...                279   \n",
       "1  Encaminhe-se o auto.,Analisar Arquivamento,Ofi...               1947   \n",
       "2  Converta-se em Inquérito Civil(IC).,Oficie-se....                367   \n",
       "3  Converta-se em Inquérito Civil(IC).,Analisar A...               1030   \n",
       "4     Converta-se em Inquérito Civil(IC).,Cumpra-se.                552   \n",
       "\n",
       "            ...             reautue-se  recomende-se.  redistribua-se.  \\\n",
       "0           ...                    0.0            0.0              0.0   \n",
       "1           ...                    0.0            0.0              0.0   \n",
       "2           ...                    0.0            0.0              0.0   \n",
       "3           ...                    0.0            0.0              1.0   \n",
       "4           ...                    0.0            0.0              0.0   \n",
       "\n",
       "   requisite-se perícia à ccr/mpf.  sobrestar no setor.  \\\n",
       "0                              0.0                  0.0   \n",
       "1                              0.0                  0.0   \n",
       "2                              0.0                  0.0   \n",
       "3                              0.0                  0.0   \n",
       "4                              0.0                  0.0   \n",
       "\n",
       "   solicitar instauração de inquérito judicial  vistoria  \\\n",
       "0                                          0.0       0.0   \n",
       "1                                          0.0       0.0   \n",
       "2                                          0.0       0.0   \n",
       "3                                          0.0       0.0   \n",
       "4                                          0.0       0.0   \n",
       "\n",
       "   analisar arquivamento      análise do arquivamento  \n",
       "0                    NaN NaN                      NaN  \n",
       "1                    1.0 NaN                      NaN  \n",
       "2                    NaN NaN                      NaN  \n",
       "3                    1.0 NaN                      NaN  \n",
       "4                    NaN NaN                      NaN  \n",
       "\n",
       "[5 rows x 78 columns]"
      ]
     },
     "execution_count": 58,
     "metadata": {},
     "output_type": "execute_result"
    }
   ],
   "source": [
    "df_work.head()"
   ]
  },
  {
   "cell_type": "code",
   "execution_count": 59,
   "metadata": {},
   "outputs": [],
   "source": [
    "df_work.fillna(-1, inplace=True)"
   ]
  },
  {
   "cell_type": "code",
   "execution_count": 60,
   "metadata": {},
   "outputs": [],
   "source": [
    "removed_columns = ['homologado', 'textosProvidencias']\n",
    "features = [c for c in df_work.columns if c not in removed_columns]"
   ]
  },
  {
   "cell_type": "code",
   "execution_count": 61,
   "metadata": {},
   "outputs": [
    {
     "data": {
      "text/plain": [
       "RandomForestClassifier(bootstrap=True, class_weight=None, criterion='gini',\n",
       "            max_depth=None, max_features='auto', max_leaf_nodes=None,\n",
       "            min_impurity_decrease=0.0, min_impurity_split=None,\n",
       "            min_samples_leaf=1, min_samples_split=2,\n",
       "            min_weight_fraction_leaf=0.0, n_estimators=10, n_jobs=1,\n",
       "            oob_score=False, random_state=42, verbose=0, warm_start=False)"
      ]
     },
     "execution_count": 61,
     "metadata": {},
     "output_type": "execute_result"
    }
   ],
   "source": [
    "train, valid = train_test_split(df_work, random_state=42)\n",
    "\n",
    "model = RandomForestClassifier(random_state=42)\n",
    "model.fit(train[features], train['homologado'])"
   ]
  },
  {
   "cell_type": "code",
   "execution_count": 62,
   "metadata": {},
   "outputs": [
    {
     "name": "stdout",
     "output_type": "stream",
     "text": [
      "0.9984416740872663 0.9806408544726302\n"
     ]
    }
   ],
   "source": [
    "train_preds = model.predict(train[features])\n",
    "valid_preds = model.predict(valid[features])\n",
    "\n",
    "print_score()"
   ]
  },
  {
   "cell_type": "code",
   "execution_count": 63,
   "metadata": {},
   "outputs": [
    {
     "data": {
      "text/plain": [
       "array([   0,   28,    1, 1469])"
      ]
     },
     "execution_count": 63,
     "metadata": {},
     "output_type": "execute_result"
    }
   ],
   "source": [
    "confusion_matrix(valid['homologado'], valid_preds).ravel()"
   ]
  },
  {
   "cell_type": "code",
   "execution_count": 64,
   "metadata": {},
   "outputs": [
    {
     "data": {
      "image/png": "[encoded data removed]",
      "text/plain": [
       "<Figure size 432x288 with 1 Axes>"
      ]
     },
     "metadata": {},
     "output_type": "display_data"
    }
   ],
   "source": [
    "plot_fi(model.feature_importances_, 20)"
   ]
  },
  {
   "cell_type": "markdown",
   "metadata": {},
   "source": [
    "O uso dos textos das providências não aumentou a precisão do modelo (e elas também não foram features importantes).\n",
    "\n",
    "Agora vamos efetivamente utilizar o texto das íntegras."
   ]
  }
 ],
 "metadata": {
  "kernelspec": {
   "display_name": "Python 3",
   "language": "python",
   "name": "python3"
  },
  "language_info": {
   "codemirror_mode": {
    "name": "ipython",
    "version": 3
   },
   "file_extension": ".py",
   "mimetype": "text/x-python",
   "name": "python",
   "nbconvert_exporter": "python",
   "pygments_lexer": "ipython3",
   "version": "3.6.5"
  }
 },
 "nbformat": 4,
 "nbformat_minor": 2
}
